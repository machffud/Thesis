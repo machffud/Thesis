{
 "cells": [
  {
   "cell_type": "code",
   "execution_count": 6,
   "id": "feaf26b6",
   "metadata": {},
   "outputs": [
    {
     "name": "stdout",
     "output_type": "stream",
     "text": [
      "Wed Apr  3 07:12:27 2024       \n",
      "+---------------------------------------------------------------------------------------+\n",
      "| NVIDIA-SMI 535.161.07             Driver Version: 535.161.07   CUDA Version: 12.2     |\n",
      "|-----------------------------------------+----------------------+----------------------+\n",
      "| GPU  Name                 Persistence-M | Bus-Id        Disp.A | Volatile Uncorr. ECC |\n",
      "| Fan  Temp   Perf          Pwr:Usage/Cap |         Memory-Usage | GPU-Util  Compute M. |\n",
      "|                                         |                      |               MIG M. |\n",
      "|=========================================+======================+======================|\n",
      "|   0  NVIDIA A100-SXM4-40GB          On  | 00000000:07:00.0 Off |                    0 |\n",
      "| N/A   49C    P0             305W / 400W |  12822MiB / 40960MiB |     77%      Default |\n",
      "|                                         |                      |             Disabled |\n",
      "+-----------------------------------------+----------------------+----------------------+\n",
      "|   1  NVIDIA A100-SXM4-40GB          On  | 00000000:0F:00.0 Off |                    0 |\n",
      "| N/A   29C    P0              59W / 400W |    698MiB / 40960MiB |      0%      Default |\n",
      "|                                         |                      |             Disabled |\n",
      "+-----------------------------------------+----------------------+----------------------+\n",
      "|   2  NVIDIA A100-SXM4-40GB          On  | 00000000:47:00.0 Off |                    0 |\n",
      "| N/A   29C    P0              59W / 400W |    698MiB / 40960MiB |      0%      Default |\n",
      "|                                         |                      |             Disabled |\n",
      "+-----------------------------------------+----------------------+----------------------+\n",
      "|   3  NVIDIA A100-SXM4-40GB          On  | 00000000:4E:00.0 Off |                    0 |\n",
      "| N/A   30C    P0              59W / 400W |    698MiB / 40960MiB |      0%      Default |\n",
      "|                                         |                      |             Disabled |\n",
      "+-----------------------------------------+----------------------+----------------------+\n",
      "|   4  NVIDIA A100-SXM4-40GB          On  | 00000000:87:00.0 Off |                    0 |\n",
      "| N/A   43C    P0              60W / 400W |    698MiB / 40960MiB |      0%      Default |\n",
      "|                                         |                      |             Disabled |\n",
      "+-----------------------------------------+----------------------+----------------------+\n",
      "|   5  NVIDIA A100-SXM4-40GB          On  | 00000000:90:00.0 Off |                    0 |\n",
      "| N/A   34C    P0              59W / 400W |    698MiB / 40960MiB |      0%      Default |\n",
      "|                                         |                      |             Disabled |\n",
      "+-----------------------------------------+----------------------+----------------------+\n",
      "|   6  NVIDIA A100-SXM4-40GB          On  | 00000000:B7:00.0 Off |                    0 |\n",
      "| N/A   33C    P0              60W / 400W |    698MiB / 40960MiB |      0%      Default |\n",
      "|                                         |                      |             Disabled |\n",
      "+-----------------------------------------+----------------------+----------------------+\n",
      "|   7  NVIDIA A100-SXM4-40GB          On  | 00000000:BD:00.0 Off |                    0 |\n",
      "| N/A   33C    P0              60W / 400W |    698MiB / 40960MiB |      0%      Default |\n",
      "|                                         |                      |             Disabled |\n",
      "+-----------------------------------------+----------------------+----------------------+\n",
      "                                                                                         \n",
      "+---------------------------------------------------------------------------------------+\n",
      "| Processes:                                                                            |\n",
      "|  GPU   GI   CI        PID   Type   Process name                            GPU Memory |\n",
      "|        ID   ID                                                             Usage      |\n",
      "|=======================================================================================|\n",
      "+---------------------------------------------------------------------------------------+\n"
     ]
    }
   ],
   "source": [
    "import os\n",
    "os.environ['CUDA_VISIBLE_DEVICES'] = '1'\n",
    "!nvidia-smi"
   ]
  },
  {
   "cell_type": "markdown",
   "id": "862916a4",
   "metadata": {},
   "source": [
    "### To reproduce this experiment, you must clone below repository fastText to get the embedding"
   ]
  },
  {
   "cell_type": "code",
   "execution_count": 7,
   "id": "c7f4d90c",
   "metadata": {},
   "outputs": [
    {
     "name": "stdout",
     "output_type": "stream",
     "text": [
      "[Errno 2] No such file or directory: 'fastText'\n",
      "/workspace/Tugas Akhir/fastText\n"
     ]
    }
   ],
   "source": [
    "#git clone https://github.com/facebookresearch/fastText.git\n",
    "%cd fastText\n"
   ]
  },
  {
   "cell_type": "code",
   "execution_count": 8,
   "id": "efb671a5",
   "metadata": {},
   "outputs": [
    {
     "name": "stdout",
     "output_type": "stream",
     "text": [
      "Looking in indexes: https://pypi.org/simple, https://pypi.ngc.nvidia.com\n",
      "Requirement already satisfied: fasttext in /opt/conda/lib/python3.8/site-packages (0.9.2)\n",
      "Requirement already satisfied: pybind11>=2.2 in /opt/conda/lib/python3.8/site-packages (from fasttext) (2.8.1)\n",
      "Requirement already satisfied: numpy in /opt/conda/lib/python3.8/site-packages (from fasttext) (1.21.4)\n",
      "Requirement already satisfied: setuptools>=0.7.0 in /opt/conda/lib/python3.8/site-packages (from fasttext) (58.5.3)\n",
      "\u001b[33mWARNING: Running pip as the 'root' user can result in broken permissions and conflicting behaviour with the system package manager. It is recommended to use a virtual environment instead: https://pip.pypa.io/warnings/venv\u001b[0m\n"
     ]
    }
   ],
   "source": [
    "!pip install fasttext"
   ]
  },
  {
   "cell_type": "code",
   "execution_count": 9,
   "id": "8759e9bf",
   "metadata": {},
   "outputs": [
    {
     "name": "stderr",
     "output_type": "stream",
     "text": [
      "Warning : `load_model` does not return WordVectorModel or SupervisedModel any more, but a `FastText` object which is very similar.\n"
     ]
    },
    {
     "data": {
      "text/plain": [
       "200"
      ]
     },
     "execution_count": 9,
     "metadata": {},
     "output_type": "execute_result"
    }
   ],
   "source": [
    "import fasttext\n",
    "import fasttext.util\n",
    "#fasttext.util.download_model('id', if_exists='ignore')  # English\n",
    "# to get reduced model below without `fasttext.util.reduce_model(ft, 200)`, you can download through this link\n",
    "# https://drive.google.com/file/d/1n8ykA9v20lmDwTuTY0wp72vDaVosh1d4/view?usp=sharing\n",
    "ft = fasttext.load_model('ft_200dim.bin')\n",
    "ft.get_dimension()\n"
   ]
  },
  {
   "cell_type": "code",
   "execution_count": 8,
   "id": "b548060a",
   "metadata": {},
   "outputs": [],
   "source": [
    "# fasttext.util.reduce_model(ft, 200)\n",
    "# ft.get_dimension()\n"
   ]
  },
  {
   "cell_type": "code",
   "execution_count": 9,
   "id": "540cb00a",
   "metadata": {},
   "outputs": [],
   "source": [
    "# ft.save_model(\"ft_200dim.bin\")"
   ]
  },
  {
   "cell_type": "code",
   "execution_count": 10,
   "id": "b3b1bd69",
   "metadata": {},
   "outputs": [
    {
     "data": {
      "text/plain": [
       "(200,)"
      ]
     },
     "execution_count": 10,
     "metadata": {},
     "output_type": "execute_result"
    }
   ],
   "source": [
    "ft.get_word_vector('hello').shape"
   ]
  },
  {
   "cell_type": "code",
   "execution_count": 11,
   "id": "a86a74c4",
   "metadata": {},
   "outputs": [],
   "source": [
    "def get_vect(token):\n",
    "    try:\n",
    "        return ft.get_word_vector(token)\n",
    "    except:\n",
    "        try:\n",
    "            return ft.get_word_vector(token)\n",
    "        except:\n",
    "            return ft.get_word_vector(\"hello\")-ft.get_word_vector(\"hello\") # return zero vector an oov word"
   ]
  },
  {
   "cell_type": "code",
   "execution_count": 12,
   "id": "a5c0d433",
   "metadata": {},
   "outputs": [
    {
     "name": "stderr",
     "output_type": "stream",
     "text": [
      "[nltk_data] Downloading package punkt to /root/nltk_data...\n",
      "[nltk_data]   Package punkt is already up-to-date!\n"
     ]
    },
    {
     "data": {
      "text/plain": [
       "True"
      ]
     },
     "execution_count": 12,
     "metadata": {},
     "output_type": "execute_result"
    }
   ],
   "source": [
    "import nltk\n",
    "nltk.download('punkt')"
   ]
  },
  {
   "cell_type": "code",
   "execution_count": 13,
   "id": "7082e8d1",
   "metadata": {},
   "outputs": [],
   "source": [
    "from nltk.tokenize import word_tokenize\n",
    "def get_vector_for_sentence(sentence, max_num_token):\n",
    "    tokenized = [word_tokenize(sent) for sent in sentence.split()]\n",
    "    num = 0\n",
    "    temp_sum = get_vect(\".\")\n",
    "    for token in tokenized:\n",
    "        if num >= max_num_token:\n",
    "            break\n",
    "        temp_sum += get_vect(token[0])\n",
    "        num+=1\n",
    "    if num == 0:\n",
    "        return temp_sum\n",
    "    else:\n",
    "        return temp_sum/num"
   ]
  },
  {
   "cell_type": "code",
   "execution_count": 14,
   "id": "f126c332",
   "metadata": {},
   "outputs": [
    {
     "name": "stdout",
     "output_type": "stream",
     "text": [
      "/workspace/Tugas Akhir/fastText\r\n"
     ]
    }
   ],
   "source": [
    "!pwd"
   ]
  },
  {
   "cell_type": "code",
   "execution_count": 15,
   "id": "3e0c07a7",
   "metadata": {},
   "outputs": [],
   "source": [
    "def get_vector_all_sentence_from_a_column(df, kolom, max_num_token = 256):\n",
    "    ret = []\n",
    "    ret1 = [] \n",
    "    num = 0\n",
    "    for row in df['trunc_combination']:\n",
    "        ret1.append(get_vector_for_sentence(row, max_num_token))\n",
    "    for row in df[kolom]:\n",
    "        try:\n",
    "            ret.append(get_vector_for_sentence(row, max_num_token))\n",
    "        except:\n",
    "            ret.append(ret1[num])\n",
    "        num+=1\n",
    "    mini=1e10\n",
    "    for row in ret:\n",
    "        for sentence in row:\n",
    "            mini = min(mini, sentence)\n",
    "    res = []\n",
    "    for row in ret:\n",
    "        res.append(row-mini)\n",
    "    return res"
   ]
  },
  {
   "cell_type": "code",
   "execution_count": 16,
   "id": "132e9ede",
   "metadata": {},
   "outputs": [
    {
     "name": "stdout",
     "output_type": "stream",
     "text": [
      "Looking in indexes: https://pypi.org/simple, https://pypi.ngc.nvidia.com\n",
      "Requirement already satisfied: scikit-learn in /opt/conda/lib/python3.8/site-packages (1.3.2)\n",
      "Requirement already satisfied: threadpoolctl>=2.0.0 in /opt/conda/lib/python3.8/site-packages (from scikit-learn) (3.0.0)\n",
      "Requirement already satisfied: joblib>=1.1.1 in /opt/conda/lib/python3.8/site-packages (from scikit-learn) (1.3.2)\n",
      "Requirement already satisfied: numpy<2.0,>=1.17.3 in /opt/conda/lib/python3.8/site-packages (from scikit-learn) (1.21.4)\n",
      "Requirement already satisfied: scipy>=1.5.0 in /opt/conda/lib/python3.8/site-packages (from scikit-learn) (1.6.3)\n",
      "\u001b[33mWARNING: Running pip as the 'root' user can result in broken permissions and conflicting behaviour with the system package manager. It is recommended to use a virtual environment instead: https://pip.pypa.io/warnings/venv\u001b[0m\n"
     ]
    }
   ],
   "source": [
    "!pip install scikit-learn  -U"
   ]
  },
  {
   "cell_type": "code",
   "execution_count": 17,
   "id": "4f98b1bd",
   "metadata": {},
   "outputs": [],
   "source": [
    "import numpy as np\n",
    "from sklearn.metrics import precision_recall_fscore_support\n",
    "from sklearn.ensemble import RandomForestClassifier\n",
    "from sklearn.datasets import make_classification\n",
    "from sklearn.linear_model import LogisticRegression\n",
    "from sklearn.neural_network import MLPClassifier\n",
    "from sklearn.ensemble import GradientBoostingClassifier\n",
    "from sklearn.metrics import accuracy_score\n",
    "import pandas as pd\n",
    "\n",
    "def get_eval(ypred, yact):\n",
    "    p,r, f,s = precision_recall_fscore_support(yact,ypred, average='binary', pos_label=1)\n",
    "    acc = accuracy_score(yact, ypred)\n",
    "    print(f\"Nilai Precision = {p}\")\n",
    "    print(f\"Nilai Recall = {r}\")\n",
    "    print(f\"Nilai F1 = {f}\")\n",
    "    return p,r,f\n",
    "\n",
    "def get_eksperiment_representasi(df_train, df_test, fitur, bencana):\n",
    "    %cd  ..\n",
    "    dct_cls = {}\n",
    "    print(f\"Eksperimen pada bencana {bencana} dengan representasi teks {fitur}\")\n",
    "    LABEL2INDEX = { 'N':0,  'Y':1}\n",
    "    y_train = list(df_train['label'].apply(lambda lab: LABEL2INDEX[lab]))\n",
    "    y_test = list(df_test['label'].apply(lambda lab: LABEL2INDEX[lab]))\n",
    "    X_train = get_vector_all_sentence_from_a_column(df_train,fitur)\n",
    "    X_test = get_vector_all_sentence_from_a_column(df_test,fitur)\n",
    "    rf = RandomForestClassifier(max_depth=100, n_estimators=100)\n",
    "    lr = LogisticRegression(solver='liblinear',max_iter = 100)\n",
    "    mlp = MLPClassifier(random_state=1, max_iter=300)\n",
    "    xgb = GradientBoostingClassifier(n_estimators=100, learning_rate=0.05,max_depth=3, random_state=0)\n",
    "\n",
    "    print(\"XGBOOST\")\n",
    "    xgb.fit(X_train, y_train)\n",
    "    y_pred_train = xgb.predict(X_train)\n",
    "    y_pred_test = xgb.predict(X_test)\n",
    "    print(\"Di train dapat performa \")\n",
    "    get_eval(y_pred_train, y_train)\n",
    "    print(\"Di test dapat performa\")\n",
    "    p,r,f = get_eval(y_pred_test, y_test)\n",
    "    dct_metric = {}\n",
    "    dct_metric[\"prec\"] = p\n",
    "    dct_metric[\"rec\"] = r\n",
    "    dct_metric[\"f1\"] = f \n",
    "    dct_metric[\"acc\"] = accuracy_score(y_pred_test, y_test)\n",
    "    dct_cls[\"xgb\"] = dct_metric\n",
    "    print(\"########\")\n",
    "    df = df_test[['id']]\n",
    "    df['label'] = y_pred_test\n",
    "    df[['id','label']].to_csv(f'../prediction/result_classification_Fasttext/{bencana}_{fitur}_XGBOOST.csv', index=False)\n",
    "\n",
    "    print(\"RANDOM FOREST\")\n",
    "    rf.fit(X_train, y_train)\n",
    "    y_pred_train = rf.predict(X_train)\n",
    "    y_pred_test = rf.predict(X_test)\n",
    "    print(\"Di train dapat performa \")\n",
    "    get_eval(y_pred_train, y_train)\n",
    "    print(\"Di test dapat performa\")\n",
    "    p_l, r_l, f_l = get_eval(y_pred_test, y_test)\n",
    "    dct_metric = {}\n",
    "    dct_metric[\"prec\"] = p_l\n",
    "    dct_metric[\"rec\"] = r_l\n",
    "    dct_metric[\"f1\"] = f_l \n",
    "    dct_metric[\"acc\"] = accuracy_score(y_pred_test, y_test)\n",
    "    dct_cls[\"rf\"] = dct_metric\n",
    "    print(\"########\")\n",
    "    df = df_test[['id']]\n",
    "    df['label'] = y_pred_test\n",
    "    df[['id','label']].to_csv(f'../prediction/result_classification_Fasttext/{bencana}_{fitur}_RF.csv', index=False)\n",
    "    p+=p_l\n",
    "    r+=r_l\n",
    "    f+=f_l\n",
    "\n",
    "    print(\"LOGISTIK REGRESSION\")\n",
    "    lr.fit(X_train, y_train)\n",
    "    y_pred_train = lr.predict(X_train)\n",
    "    y_pred_test = lr.predict(X_test)\n",
    "    print(\"Di train dapat performa \")\n",
    "    get_eval(y_pred_train, y_train)\n",
    "    print(\"Di test dapat performa\")\n",
    "    p_l, r_l, f_l = get_eval(y_pred_test, y_test)\n",
    "    dct_metric = {}\n",
    "    dct_metric[\"prec\"] = p_l\n",
    "    dct_metric[\"rec\"] = r_l\n",
    "    dct_metric[\"f1\"] = f_l \n",
    "    dct_metric[\"acc\"] = accuracy_score(y_pred_test, y_test)\n",
    "    dct_cls[\"lr\"] = dct_metric\n",
    "    print(\"########\")\n",
    "    df = df_test[['id']]\n",
    "    df['label'] = y_pred_test\n",
    "    df[['id','label']].to_csv(f'../prediction/result_classification_Fasttext/{bencana}_{fitur}_LR.csv', index=False)\n",
    "\n",
    "    print(\"MLP\")\n",
    "    mlp.fit(X_train, y_train)\n",
    "    y_pred_train = mlp.predict(X_train)\n",
    "    y_pred_test = mlp.predict(X_test)\n",
    "    print(\"Di train dapat performa \")\n",
    "    get_eval(y_pred_train, y_train)\n",
    "    print(\"Di test dapat performa\")\n",
    "    p_l, r_l, f_l = get_eval(y_pred_test, y_test)\n",
    "    dct_metric = {}\n",
    "    dct_metric[\"prec\"] = p_l\n",
    "    dct_metric[\"rec\"] = r_l\n",
    "    dct_metric[\"f1\"] = f_l \n",
    "    dct_metric[\"acc\"] = accuracy_score(y_pred_test, y_test)\n",
    "    dct_cls[\"mlp\"] = dct_metric\n",
    "    print(\"########\")\n",
    "    p+=p_l\n",
    "    r+=r_l\n",
    "    f+=f_l\n",
    "    df = df_test[['id']]\n",
    "    df['label'] = y_pred_test\n",
    "    df[['id','label']].to_csv(f'../prediction/result_classification_Fasttext/{bencana}_{fitur}_MLP.csv', index=False)\n",
    "\n",
    "    %cd -\n",
    "    print('Rata-rata nilai test dengan Classifier xgb, rf, dan mlp adalah')\n",
    "    print(f'Precision = {p/3}\\nRecall = {r/3}\\nF1 = {f/3}')\n",
    "    return dct_cls\n",
    "\n",
    "def get_f1_eks_representasi_teks_bencana(bencana):\n",
    "    lst_fitur = [\"id\",\"title_ori\", \"text_ori\", \"tc_ori\", \"filter_word_tc\",\"filter_word_tc_window\", \"trunc_first_short\", \"trunc_last_short\", \"trunc_first_long\", \"trunc_last_long\", \"trunc_combination\",  \"textrank\", \"sum_indobart\", \"sum_liputan6\",\"sum_pegasus\",\"label\"]\n",
    "    df_train = pd.read_csv(f'{bencana}_train.csv')[lst_fitur]\n",
    "    df_dev = pd.read_csv(f'{bencana}_dev.csv')[lst_fitur]\n",
    "    df_test = pd.read_csv(f'{bencana}_test.csv')[lst_fitur]\n",
    "    print(f\"evaluasi pada bencana = {bencana}\")\n",
    "    dct_bencana={}\n",
    "    dct_bencana[bencana] = {}\n",
    "    for fitur in lst_fitur[1:-1]:\n",
    "        dct_fitur = {}\n",
    "        dct_bencana[bencana][fitur] = get_eksperiment_representasi(df_train, df_test, fitur, bencana)\n",
    "\n",
    "        print('\\n')\n",
    "    print('************************************************************')\n",
    "\n",
    "\n",
    "    print(dct_bencana)"
   ]
  },
  {
   "cell_type": "code",
   "execution_count": 20,
   "id": "a70cfeaf",
   "metadata": {},
   "outputs": [
    {
     "name": "stdout",
     "output_type": "stream",
     "text": [
      "/workspace/Tugas Akhir/dataset\n"
     ]
    }
   ],
   "source": [
    "%cd ../dataset"
   ]
  },
  {
   "cell_type": "code",
   "execution_count": 21,
   "id": "1e15383b",
   "metadata": {},
   "outputs": [],
   "source": [
    "import pandas as pd"
   ]
  },
  {
   "cell_type": "code",
   "execution_count": 22,
   "id": "d7b10ca9",
   "metadata": {
    "scrolled": true
   },
   "outputs": [
    {
     "name": "stdout",
     "output_type": "stream",
     "text": [
      "/workspace/Tugas Akhir/dataset/angin_topan\n",
      "evaluasi pada bencana = angin_topan\n",
      "/workspace/Tugas Akhir/dataset\n",
      "Eksperimen pada bencana angin_topan dengan representasi teks title_ori\n",
      "XGBOOST\n",
      "Di train dapat performa \n",
      "Nilai Precision = 0.9855072463768116\n",
      "Nilai Recall = 0.8553459119496856\n",
      "Nilai F1 = 0.9158249158249159\n",
      "Di test dapat performa\n",
      "Nilai Precision = 0.0\n",
      "Nilai Recall = 0.0\n",
      "Nilai F1 = 0.0\n",
      "########\n",
      "RANDOM FOREST\n"
     ]
    },
    {
     "name": "stderr",
     "output_type": "stream",
     "text": [
      "/opt/conda/lib/python3.8/site-packages/sklearn/metrics/_classification.py:1471: UndefinedMetricWarning: Precision and F-score are ill-defined and being set to 0.0 due to no predicted samples. Use `zero_division` parameter to control this behavior.\n",
      "  _warn_prf(average, modifier, msg_start, len(result))\n",
      "/tmp/ipykernel_83597/3013171943.py:49: SettingWithCopyWarning: \n",
      "A value is trying to be set on a copy of a slice from a DataFrame.\n",
      "Try using .loc[row_indexer,col_indexer] = value instead\n",
      "\n",
      "See the caveats in the documentation: https://pandas.pydata.org/pandas-docs/stable/user_guide/indexing.html#returning-a-view-versus-a-copy\n",
      "  df['label'] = y_pred_test\n"
     ]
    },
    {
     "name": "stdout",
     "output_type": "stream",
     "text": [
      "Di train dapat performa \n",
      "Nilai Precision = 1.0\n",
      "Nilai Recall = 1.0\n",
      "Nilai F1 = 1.0\n",
      "Di test dapat performa\n",
      "Nilai Precision = 0.0\n",
      "Nilai Recall = 0.0\n",
      "Nilai F1 = 0.0\n",
      "########\n",
      "LOGISTIK REGRESSION\n",
      "Di train dapat performa \n",
      "Nilai Precision = 1.0\n",
      "Nilai Recall = 0.03773584905660377\n",
      "Nilai F1 = 0.07272727272727272\n",
      "Di test dapat performa\n",
      "Nilai Precision = 0.9166666666666666\n",
      "Nilai Recall = 0.2391304347826087\n",
      "Nilai F1 = 0.3793103448275862\n",
      "########\n",
      "MLP\n"
     ]
    },
    {
     "name": "stderr",
     "output_type": "stream",
     "text": [
      "/tmp/ipykernel_83597/3013171943.py:68: SettingWithCopyWarning: \n",
      "A value is trying to be set on a copy of a slice from a DataFrame.\n",
      "Try using .loc[row_indexer,col_indexer] = value instead\n",
      "\n",
      "See the caveats in the documentation: https://pandas.pydata.org/pandas-docs/stable/user_guide/indexing.html#returning-a-view-versus-a-copy\n",
      "  df['label'] = y_pred_test\n",
      "/tmp/ipykernel_83597/3013171943.py:90: SettingWithCopyWarning: \n",
      "A value is trying to be set on a copy of a slice from a DataFrame.\n",
      "Try using .loc[row_indexer,col_indexer] = value instead\n",
      "\n",
      "See the caveats in the documentation: https://pandas.pydata.org/pandas-docs/stable/user_guide/indexing.html#returning-a-view-versus-a-copy\n",
      "  df['label'] = y_pred_test\n",
      "/opt/conda/lib/python3.8/site-packages/sklearn/neural_network/_multilayer_perceptron.py:691: ConvergenceWarning: Stochastic Optimizer: Maximum iterations (300) reached and the optimization hasn't converged yet.\n",
      "  warnings.warn(\n",
      "/tmp/ipykernel_83597/3013171943.py:112: SettingWithCopyWarning: \n",
      "A value is trying to be set on a copy of a slice from a DataFrame.\n",
      "Try using .loc[row_indexer,col_indexer] = value instead\n",
      "\n",
      "See the caveats in the documentation: https://pandas.pydata.org/pandas-docs/stable/user_guide/indexing.html#returning-a-view-versus-a-copy\n",
      "  df['label'] = y_pred_test\n"
     ]
    },
    {
     "name": "stdout",
     "output_type": "stream",
     "text": [
      "Di train dapat performa \n",
      "Nilai Precision = 0.6601307189542484\n",
      "Nilai Recall = 0.6352201257861635\n",
      "Nilai F1 = 0.6474358974358975\n",
      "Di test dapat performa\n",
      "Nilai Precision = 0.6818181818181818\n",
      "Nilai Recall = 0.6521739130434783\n",
      "Nilai F1 = 0.6666666666666666\n",
      "########\n",
      "/workspace/Tugas Akhir/dataset/angin_topan\n",
      "Rata-rata nilai test dengan Classifier xgb, rf, dan mlp adalah\n",
      "Precision = 0.22727272727272727\n",
      "Recall = 0.21739130434782608\n",
      "F1 = 0.2222222222222222\n",
      "\n",
      "\n",
      "/workspace/Tugas Akhir/dataset\n",
      "Eksperimen pada bencana angin_topan dengan representasi teks text_ori\n",
      "XGBOOST\n",
      "Di train dapat performa \n",
      "Nilai Precision = 1.0\n",
      "Nilai Recall = 0.9182389937106918\n",
      "Nilai F1 = 0.9573770491803278\n",
      "Di test dapat performa\n",
      "Nilai Precision = 0.375\n",
      "Nilai Recall = 0.9130434782608695\n",
      "Nilai F1 = 0.5316455696202531\n",
      "########\n",
      "RANDOM FOREST\n"
     ]
    },
    {
     "name": "stderr",
     "output_type": "stream",
     "text": [
      "/tmp/ipykernel_83597/3013171943.py:49: SettingWithCopyWarning: \n",
      "A value is trying to be set on a copy of a slice from a DataFrame.\n",
      "Try using .loc[row_indexer,col_indexer] = value instead\n",
      "\n",
      "See the caveats in the documentation: https://pandas.pydata.org/pandas-docs/stable/user_guide/indexing.html#returning-a-view-versus-a-copy\n",
      "  df['label'] = y_pred_test\n"
     ]
    },
    {
     "name": "stdout",
     "output_type": "stream",
     "text": [
      "Di train dapat performa \n",
      "Nilai Precision = 1.0\n",
      "Nilai Recall = 1.0\n",
      "Nilai F1 = 1.0\n",
      "Di test dapat performa\n",
      "Nilai Precision = 0.65\n",
      "Nilai Recall = 0.2826086956521739\n",
      "Nilai F1 = 0.3939393939393939\n",
      "########\n",
      "LOGISTIK REGRESSION\n",
      "Di train dapat performa \n",
      "Nilai Precision = 0.0\n",
      "Nilai Recall = 0.0\n",
      "Nilai F1 = 0.0\n",
      "Di test dapat performa\n",
      "Nilai Precision = 0.0\n",
      "Nilai Recall = 0.0\n",
      "Nilai F1 = 0.0\n",
      "########\n",
      "MLP\n"
     ]
    },
    {
     "name": "stderr",
     "output_type": "stream",
     "text": [
      "/tmp/ipykernel_83597/3013171943.py:68: SettingWithCopyWarning: \n",
      "A value is trying to be set on a copy of a slice from a DataFrame.\n",
      "Try using .loc[row_indexer,col_indexer] = value instead\n",
      "\n",
      "See the caveats in the documentation: https://pandas.pydata.org/pandas-docs/stable/user_guide/indexing.html#returning-a-view-versus-a-copy\n",
      "  df['label'] = y_pred_test\n",
      "/opt/conda/lib/python3.8/site-packages/sklearn/metrics/_classification.py:1471: UndefinedMetricWarning: Precision and F-score are ill-defined and being set to 0.0 due to no predicted samples. Use `zero_division` parameter to control this behavior.\n",
      "  _warn_prf(average, modifier, msg_start, len(result))\n",
      "/opt/conda/lib/python3.8/site-packages/sklearn/metrics/_classification.py:1471: UndefinedMetricWarning: Precision and F-score are ill-defined and being set to 0.0 due to no predicted samples. Use `zero_division` parameter to control this behavior.\n",
      "  _warn_prf(average, modifier, msg_start, len(result))\n",
      "/tmp/ipykernel_83597/3013171943.py:90: SettingWithCopyWarning: \n",
      "A value is trying to be set on a copy of a slice from a DataFrame.\n",
      "Try using .loc[row_indexer,col_indexer] = value instead\n",
      "\n",
      "See the caveats in the documentation: https://pandas.pydata.org/pandas-docs/stable/user_guide/indexing.html#returning-a-view-versus-a-copy\n",
      "  df['label'] = y_pred_test\n"
     ]
    },
    {
     "name": "stdout",
     "output_type": "stream",
     "text": [
      "Di train dapat performa \n",
      "Nilai Precision = 0.8888888888888888\n",
      "Nilai Recall = 0.1509433962264151\n",
      "Nilai F1 = 0.25806451612903225\n",
      "Di test dapat performa\n",
      "Nilai Precision = 0.8\n",
      "Nilai Recall = 0.17391304347826086\n",
      "Nilai F1 = 0.2857142857142857\n",
      "########\n",
      "/workspace/Tugas Akhir/dataset/angin_topan\n",
      "Rata-rata nilai test dengan Classifier xgb, rf, dan mlp adalah\n",
      "Precision = 0.6083333333333333\n",
      "Recall = 0.45652173913043476\n",
      "F1 = 0.4037664164246442\n",
      "\n",
      "\n",
      "/workspace/Tugas Akhir/dataset\n",
      "Eksperimen pada bencana angin_topan dengan representasi teks tc_ori\n"
     ]
    },
    {
     "name": "stderr",
     "output_type": "stream",
     "text": [
      "/tmp/ipykernel_83597/3013171943.py:112: SettingWithCopyWarning: \n",
      "A value is trying to be set on a copy of a slice from a DataFrame.\n",
      "Try using .loc[row_indexer,col_indexer] = value instead\n",
      "\n",
      "See the caveats in the documentation: https://pandas.pydata.org/pandas-docs/stable/user_guide/indexing.html#returning-a-view-versus-a-copy\n",
      "  df['label'] = y_pred_test\n"
     ]
    },
    {
     "name": "stdout",
     "output_type": "stream",
     "text": [
      "XGBOOST\n",
      "Di train dapat performa \n",
      "Nilai Precision = 1.0\n",
      "Nilai Recall = 0.9308176100628931\n",
      "Nilai F1 = 0.9641693811074918\n",
      "Di test dapat performa\n",
      "Nilai Precision = 0.27218934911242604\n",
      "Nilai Recall = 1.0\n",
      "Nilai F1 = 0.42790697674418604\n",
      "########\n",
      "RANDOM FOREST\n"
     ]
    },
    {
     "name": "stderr",
     "output_type": "stream",
     "text": [
      "/tmp/ipykernel_83597/3013171943.py:49: SettingWithCopyWarning: \n",
      "A value is trying to be set on a copy of a slice from a DataFrame.\n",
      "Try using .loc[row_indexer,col_indexer] = value instead\n",
      "\n",
      "See the caveats in the documentation: https://pandas.pydata.org/pandas-docs/stable/user_guide/indexing.html#returning-a-view-versus-a-copy\n",
      "  df['label'] = y_pred_test\n"
     ]
    },
    {
     "name": "stdout",
     "output_type": "stream",
     "text": [
      "Di train dapat performa \n",
      "Nilai Precision = 1.0\n",
      "Nilai Recall = 1.0\n",
      "Nilai F1 = 1.0\n",
      "Di test dapat performa\n",
      "Nilai Precision = 0.3333333333333333\n",
      "Nilai Recall = 0.06521739130434782\n",
      "Nilai F1 = 0.10909090909090909\n",
      "########\n",
      "LOGISTIK REGRESSION\n",
      "Di train dapat performa \n",
      "Nilai Precision = 0.0\n",
      "Nilai Recall = 0.0\n",
      "Nilai F1 = 0.0\n",
      "Di test dapat performa\n",
      "Nilai Precision = 0.0\n",
      "Nilai Recall = 0.0\n",
      "Nilai F1 = 0.0\n",
      "########\n",
      "MLP\n"
     ]
    },
    {
     "name": "stderr",
     "output_type": "stream",
     "text": [
      "/tmp/ipykernel_83597/3013171943.py:68: SettingWithCopyWarning: \n",
      "A value is trying to be set on a copy of a slice from a DataFrame.\n",
      "Try using .loc[row_indexer,col_indexer] = value instead\n",
      "\n",
      "See the caveats in the documentation: https://pandas.pydata.org/pandas-docs/stable/user_guide/indexing.html#returning-a-view-versus-a-copy\n",
      "  df['label'] = y_pred_test\n",
      "/opt/conda/lib/python3.8/site-packages/sklearn/metrics/_classification.py:1471: UndefinedMetricWarning: Precision and F-score are ill-defined and being set to 0.0 due to no predicted samples. Use `zero_division` parameter to control this behavior.\n",
      "  _warn_prf(average, modifier, msg_start, len(result))\n",
      "/opt/conda/lib/python3.8/site-packages/sklearn/metrics/_classification.py:1471: UndefinedMetricWarning: Precision and F-score are ill-defined and being set to 0.0 due to no predicted samples. Use `zero_division` parameter to control this behavior.\n",
      "  _warn_prf(average, modifier, msg_start, len(result))\n",
      "/tmp/ipykernel_83597/3013171943.py:90: SettingWithCopyWarning: \n",
      "A value is trying to be set on a copy of a slice from a DataFrame.\n",
      "Try using .loc[row_indexer,col_indexer] = value instead\n",
      "\n",
      "See the caveats in the documentation: https://pandas.pydata.org/pandas-docs/stable/user_guide/indexing.html#returning-a-view-versus-a-copy\n",
      "  df['label'] = y_pred_test\n"
     ]
    },
    {
     "name": "stdout",
     "output_type": "stream",
     "text": [
      "Di train dapat performa \n",
      "Nilai Precision = 0.875\n",
      "Nilai Recall = 0.22012578616352202\n",
      "Nilai F1 = 0.35175879396984927\n",
      "Di test dapat performa\n",
      "Nilai Precision = 0.8461538461538461\n",
      "Nilai Recall = 0.2391304347826087\n",
      "Nilai F1 = 0.3728813559322034\n",
      "########\n",
      "/workspace/Tugas Akhir/dataset/angin_topan\n",
      "Rata-rata nilai test dengan Classifier xgb, rf, dan mlp adalah\n",
      "Precision = 0.48389217619986846\n",
      "Recall = 0.43478260869565216\n",
      "F1 = 0.3032930805890995\n",
      "\n",
      "\n",
      "/workspace/Tugas Akhir/dataset\n",
      "Eksperimen pada bencana angin_topan dengan representasi teks filter_word_tc\n"
     ]
    },
    {
     "name": "stderr",
     "output_type": "stream",
     "text": [
      "/tmp/ipykernel_83597/3013171943.py:112: SettingWithCopyWarning: \n",
      "A value is trying to be set on a copy of a slice from a DataFrame.\n",
      "Try using .loc[row_indexer,col_indexer] = value instead\n",
      "\n",
      "See the caveats in the documentation: https://pandas.pydata.org/pandas-docs/stable/user_guide/indexing.html#returning-a-view-versus-a-copy\n",
      "  df['label'] = y_pred_test\n"
     ]
    },
    {
     "name": "stdout",
     "output_type": "stream",
     "text": [
      "XGBOOST\n",
      "Di train dapat performa \n",
      "Nilai Precision = 0.9856115107913669\n",
      "Nilai Recall = 0.8616352201257862\n",
      "Nilai F1 = 0.9194630872483222\n",
      "Di test dapat performa\n",
      "Nilai Precision = 0.23\n",
      "Nilai Recall = 1.0\n",
      "Nilai F1 = 0.3739837398373984\n",
      "########\n",
      "RANDOM FOREST\n"
     ]
    },
    {
     "name": "stderr",
     "output_type": "stream",
     "text": [
      "/tmp/ipykernel_83597/3013171943.py:49: SettingWithCopyWarning: \n",
      "A value is trying to be set on a copy of a slice from a DataFrame.\n",
      "Try using .loc[row_indexer,col_indexer] = value instead\n",
      "\n",
      "See the caveats in the documentation: https://pandas.pydata.org/pandas-docs/stable/user_guide/indexing.html#returning-a-view-versus-a-copy\n",
      "  df['label'] = y_pred_test\n"
     ]
    },
    {
     "name": "stdout",
     "output_type": "stream",
     "text": [
      "Di train dapat performa \n",
      "Nilai Precision = 1.0\n",
      "Nilai Recall = 1.0\n",
      "Nilai F1 = 1.0\n",
      "Di test dapat performa\n",
      "Nilai Precision = 0.0\n",
      "Nilai Recall = 0.0\n",
      "Nilai F1 = 0.0\n",
      "########\n",
      "LOGISTIK REGRESSION\n",
      "Di train dapat performa \n",
      "Nilai Precision = 1.0\n",
      "Nilai Recall = 0.006289308176100629\n",
      "Nilai F1 = 0.0125\n",
      "Di test dapat performa\n",
      "Nilai Precision = 0.0\n",
      "Nilai Recall = 0.0\n",
      "Nilai F1 = 0.0\n",
      "########\n",
      "MLP\n"
     ]
    },
    {
     "name": "stderr",
     "output_type": "stream",
     "text": [
      "/opt/conda/lib/python3.8/site-packages/sklearn/metrics/_classification.py:1471: UndefinedMetricWarning: Precision and F-score are ill-defined and being set to 0.0 due to no predicted samples. Use `zero_division` parameter to control this behavior.\n",
      "  _warn_prf(average, modifier, msg_start, len(result))\n",
      "/tmp/ipykernel_83597/3013171943.py:68: SettingWithCopyWarning: \n",
      "A value is trying to be set on a copy of a slice from a DataFrame.\n",
      "Try using .loc[row_indexer,col_indexer] = value instead\n",
      "\n",
      "See the caveats in the documentation: https://pandas.pydata.org/pandas-docs/stable/user_guide/indexing.html#returning-a-view-versus-a-copy\n",
      "  df['label'] = y_pred_test\n",
      "/opt/conda/lib/python3.8/site-packages/sklearn/metrics/_classification.py:1471: UndefinedMetricWarning: Precision and F-score are ill-defined and being set to 0.0 due to no predicted samples. Use `zero_division` parameter to control this behavior.\n",
      "  _warn_prf(average, modifier, msg_start, len(result))\n",
      "/tmp/ipykernel_83597/3013171943.py:90: SettingWithCopyWarning: \n",
      "A value is trying to be set on a copy of a slice from a DataFrame.\n",
      "Try using .loc[row_indexer,col_indexer] = value instead\n",
      "\n",
      "See the caveats in the documentation: https://pandas.pydata.org/pandas-docs/stable/user_guide/indexing.html#returning-a-view-versus-a-copy\n",
      "  df['label'] = y_pred_test\n"
     ]
    },
    {
     "name": "stdout",
     "output_type": "stream",
     "text": [
      "Di train dapat performa \n",
      "Nilai Precision = 0.7692307692307693\n",
      "Nilai Recall = 0.18867924528301888\n",
      "Nilai F1 = 0.30303030303030304\n",
      "Di test dapat performa\n",
      "Nilai Precision = 0.8888888888888888\n",
      "Nilai Recall = 0.17391304347826086\n",
      "Nilai F1 = 0.29090909090909095\n",
      "########\n",
      "/workspace/Tugas Akhir/dataset/angin_topan\n",
      "Rata-rata nilai test dengan Classifier xgb, rf, dan mlp adalah\n",
      "Precision = 0.37296296296296294\n",
      "Recall = 0.3913043478260869\n",
      "F1 = 0.22163094358216315\n",
      "\n",
      "\n",
      "/workspace/Tugas Akhir/dataset\n",
      "Eksperimen pada bencana angin_topan dengan representasi teks filter_word_tc_window\n"
     ]
    },
    {
     "name": "stderr",
     "output_type": "stream",
     "text": [
      "/tmp/ipykernel_83597/3013171943.py:112: SettingWithCopyWarning: \n",
      "A value is trying to be set on a copy of a slice from a DataFrame.\n",
      "Try using .loc[row_indexer,col_indexer] = value instead\n",
      "\n",
      "See the caveats in the documentation: https://pandas.pydata.org/pandas-docs/stable/user_guide/indexing.html#returning-a-view-versus-a-copy\n",
      "  df['label'] = y_pred_test\n"
     ]
    },
    {
     "name": "stdout",
     "output_type": "stream",
     "text": [
      "XGBOOST\n",
      "Di train dapat performa \n",
      "Nilai Precision = 0.9798657718120806\n",
      "Nilai Recall = 0.9182389937106918\n",
      "Nilai F1 = 0.9480519480519481\n",
      "Di test dapat performa\n",
      "Nilai Precision = 0.23\n",
      "Nilai Recall = 1.0\n",
      "Nilai F1 = 0.3739837398373984\n",
      "########\n",
      "RANDOM FOREST\n"
     ]
    },
    {
     "name": "stderr",
     "output_type": "stream",
     "text": [
      "/tmp/ipykernel_83597/3013171943.py:49: SettingWithCopyWarning: \n",
      "A value is trying to be set on a copy of a slice from a DataFrame.\n",
      "Try using .loc[row_indexer,col_indexer] = value instead\n",
      "\n",
      "See the caveats in the documentation: https://pandas.pydata.org/pandas-docs/stable/user_guide/indexing.html#returning-a-view-versus-a-copy\n",
      "  df['label'] = y_pred_test\n"
     ]
    },
    {
     "name": "stdout",
     "output_type": "stream",
     "text": [
      "Di train dapat performa \n",
      "Nilai Precision = 1.0\n",
      "Nilai Recall = 1.0\n",
      "Nilai F1 = 1.0\n",
      "Di test dapat performa\n",
      "Nilai Precision = 0.0\n",
      "Nilai Recall = 0.0\n",
      "Nilai F1 = 0.0\n",
      "########\n",
      "LOGISTIK REGRESSION\n",
      "Di train dapat performa \n",
      "Nilai Precision = 0.0\n",
      "Nilai Recall = 0.0\n",
      "Nilai F1 = 0.0\n",
      "Di test dapat performa\n",
      "Nilai Precision = 0.0\n",
      "Nilai Recall = 0.0\n",
      "Nilai F1 = 0.0\n",
      "########\n",
      "MLP\n"
     ]
    },
    {
     "name": "stderr",
     "output_type": "stream",
     "text": [
      "/opt/conda/lib/python3.8/site-packages/sklearn/metrics/_classification.py:1471: UndefinedMetricWarning: Precision and F-score are ill-defined and being set to 0.0 due to no predicted samples. Use `zero_division` parameter to control this behavior.\n",
      "  _warn_prf(average, modifier, msg_start, len(result))\n",
      "/tmp/ipykernel_83597/3013171943.py:68: SettingWithCopyWarning: \n",
      "A value is trying to be set on a copy of a slice from a DataFrame.\n",
      "Try using .loc[row_indexer,col_indexer] = value instead\n",
      "\n",
      "See the caveats in the documentation: https://pandas.pydata.org/pandas-docs/stable/user_guide/indexing.html#returning-a-view-versus-a-copy\n",
      "  df['label'] = y_pred_test\n",
      "/opt/conda/lib/python3.8/site-packages/sklearn/metrics/_classification.py:1471: UndefinedMetricWarning: Precision and F-score are ill-defined and being set to 0.0 due to no predicted samples. Use `zero_division` parameter to control this behavior.\n",
      "  _warn_prf(average, modifier, msg_start, len(result))\n",
      "/opt/conda/lib/python3.8/site-packages/sklearn/metrics/_classification.py:1471: UndefinedMetricWarning: Precision and F-score are ill-defined and being set to 0.0 due to no predicted samples. Use `zero_division` parameter to control this behavior.\n",
      "  _warn_prf(average, modifier, msg_start, len(result))\n",
      "/tmp/ipykernel_83597/3013171943.py:90: SettingWithCopyWarning: \n",
      "A value is trying to be set on a copy of a slice from a DataFrame.\n",
      "Try using .loc[row_indexer,col_indexer] = value instead\n",
      "\n",
      "See the caveats in the documentation: https://pandas.pydata.org/pandas-docs/stable/user_guide/indexing.html#returning-a-view-versus-a-copy\n",
      "  df['label'] = y_pred_test\n",
      "/opt/conda/lib/python3.8/site-packages/sklearn/neural_network/_multilayer_perceptron.py:691: ConvergenceWarning: Stochastic Optimizer: Maximum iterations (300) reached and the optimization hasn't converged yet.\n",
      "  warnings.warn(\n",
      "/tmp/ipykernel_83597/3013171943.py:112: SettingWithCopyWarning: \n",
      "A value is trying to be set on a copy of a slice from a DataFrame.\n",
      "Try using .loc[row_indexer,col_indexer] = value instead\n",
      "\n",
      "See the caveats in the documentation: https://pandas.pydata.org/pandas-docs/stable/user_guide/indexing.html#returning-a-view-versus-a-copy\n",
      "  df['label'] = y_pred_test\n"
     ]
    },
    {
     "name": "stdout",
     "output_type": "stream",
     "text": [
      "Di train dapat performa \n",
      "Nilai Precision = 0.8108108108108109\n",
      "Nilai Recall = 0.18867924528301888\n",
      "Nilai F1 = 0.30612244897959184\n",
      "Di test dapat performa\n",
      "Nilai Precision = 1.0\n",
      "Nilai Recall = 0.15217391304347827\n",
      "Nilai F1 = 0.2641509433962264\n",
      "########\n",
      "/workspace/Tugas Akhir/dataset/angin_topan\n",
      "Rata-rata nilai test dengan Classifier xgb, rf, dan mlp adalah\n",
      "Precision = 0.41\n",
      "Recall = 0.38405797101449274\n",
      "F1 = 0.21271156107787492\n",
      "\n",
      "\n",
      "/workspace/Tugas Akhir/dataset\n",
      "Eksperimen pada bencana angin_topan dengan representasi teks trunc_first_short\n",
      "XGBOOST\n",
      "Di train dapat performa \n",
      "Nilai Precision = 1.0\n",
      "Nilai Recall = 0.9182389937106918\n",
      "Nilai F1 = 0.9573770491803278\n",
      "Di test dapat performa\n",
      "Nilai Precision = 0.9166666666666666\n",
      "Nilai Recall = 0.2391304347826087\n",
      "Nilai F1 = 0.3793103448275862\n",
      "########\n",
      "RANDOM FOREST\n"
     ]
    },
    {
     "name": "stderr",
     "output_type": "stream",
     "text": [
      "/tmp/ipykernel_83597/3013171943.py:49: SettingWithCopyWarning: \n",
      "A value is trying to be set on a copy of a slice from a DataFrame.\n",
      "Try using .loc[row_indexer,col_indexer] = value instead\n",
      "\n",
      "See the caveats in the documentation: https://pandas.pydata.org/pandas-docs/stable/user_guide/indexing.html#returning-a-view-versus-a-copy\n",
      "  df['label'] = y_pred_test\n"
     ]
    },
    {
     "name": "stdout",
     "output_type": "stream",
     "text": [
      "Di train dapat performa \n",
      "Nilai Precision = 1.0\n",
      "Nilai Recall = 1.0\n",
      "Nilai F1 = 1.0\n",
      "Di test dapat performa\n",
      "Nilai Precision = 0.8\n",
      "Nilai Recall = 0.08695652173913043\n",
      "Nilai F1 = 0.1568627450980392\n",
      "########\n",
      "LOGISTIK REGRESSION\n",
      "Di train dapat performa \n",
      "Nilai Precision = 0.0\n",
      "Nilai Recall = 0.0\n",
      "Nilai F1 = 0.0\n",
      "Di test dapat performa\n",
      "Nilai Precision = 0.0\n",
      "Nilai Recall = 0.0\n",
      "Nilai F1 = 0.0\n",
      "########\n",
      "MLP\n"
     ]
    },
    {
     "name": "stderr",
     "output_type": "stream",
     "text": [
      "/tmp/ipykernel_83597/3013171943.py:68: SettingWithCopyWarning: \n",
      "A value is trying to be set on a copy of a slice from a DataFrame.\n",
      "Try using .loc[row_indexer,col_indexer] = value instead\n",
      "\n",
      "See the caveats in the documentation: https://pandas.pydata.org/pandas-docs/stable/user_guide/indexing.html#returning-a-view-versus-a-copy\n",
      "  df['label'] = y_pred_test\n",
      "/opt/conda/lib/python3.8/site-packages/sklearn/metrics/_classification.py:1471: UndefinedMetricWarning: Precision and F-score are ill-defined and being set to 0.0 due to no predicted samples. Use `zero_division` parameter to control this behavior.\n",
      "  _warn_prf(average, modifier, msg_start, len(result))\n",
      "/opt/conda/lib/python3.8/site-packages/sklearn/metrics/_classification.py:1471: UndefinedMetricWarning: Precision and F-score are ill-defined and being set to 0.0 due to no predicted samples. Use `zero_division` parameter to control this behavior.\n",
      "  _warn_prf(average, modifier, msg_start, len(result))\n",
      "/tmp/ipykernel_83597/3013171943.py:90: SettingWithCopyWarning: \n",
      "A value is trying to be set on a copy of a slice from a DataFrame.\n",
      "Try using .loc[row_indexer,col_indexer] = value instead\n",
      "\n",
      "See the caveats in the documentation: https://pandas.pydata.org/pandas-docs/stable/user_guide/indexing.html#returning-a-view-versus-a-copy\n",
      "  df['label'] = y_pred_test\n"
     ]
    },
    {
     "name": "stdout",
     "output_type": "stream",
     "text": [
      "Di train dapat performa \n",
      "Nilai Precision = 0.7033898305084746\n",
      "Nilai Recall = 0.5220125786163522\n",
      "Nilai F1 = 0.5992779783393503\n",
      "Di test dapat performa\n",
      "Nilai Precision = 0.7727272727272727\n",
      "Nilai Recall = 0.3695652173913043\n",
      "Nilai F1 = 0.4999999999999999\n",
      "########\n",
      "/workspace/Tugas Akhir/dataset/angin_topan\n",
      "Rata-rata nilai test dengan Classifier xgb, rf, dan mlp adalah\n",
      "Precision = 0.8297979797979798\n",
      "Recall = 0.2318840579710145\n",
      "F1 = 0.3453910299752085\n",
      "\n",
      "\n",
      "/workspace/Tugas Akhir/dataset\n",
      "Eksperimen pada bencana angin_topan dengan representasi teks trunc_last_short\n"
     ]
    },
    {
     "name": "stderr",
     "output_type": "stream",
     "text": [
      "/tmp/ipykernel_83597/3013171943.py:112: SettingWithCopyWarning: \n",
      "A value is trying to be set on a copy of a slice from a DataFrame.\n",
      "Try using .loc[row_indexer,col_indexer] = value instead\n",
      "\n",
      "See the caveats in the documentation: https://pandas.pydata.org/pandas-docs/stable/user_guide/indexing.html#returning-a-view-versus-a-copy\n",
      "  df['label'] = y_pred_test\n"
     ]
    },
    {
     "name": "stdout",
     "output_type": "stream",
     "text": [
      "XGBOOST\n",
      "Di train dapat performa \n",
      "Nilai Precision = 1.0\n",
      "Nilai Recall = 0.8364779874213837\n",
      "Nilai F1 = 0.910958904109589\n",
      "Di test dapat performa\n",
      "Nilai Precision = 0.23\n",
      "Nilai Recall = 1.0\n",
      "Nilai F1 = 0.3739837398373984\n",
      "########\n",
      "RANDOM FOREST\n"
     ]
    },
    {
     "name": "stderr",
     "output_type": "stream",
     "text": [
      "/tmp/ipykernel_83597/3013171943.py:49: SettingWithCopyWarning: \n",
      "A value is trying to be set on a copy of a slice from a DataFrame.\n",
      "Try using .loc[row_indexer,col_indexer] = value instead\n",
      "\n",
      "See the caveats in the documentation: https://pandas.pydata.org/pandas-docs/stable/user_guide/indexing.html#returning-a-view-versus-a-copy\n",
      "  df['label'] = y_pred_test\n"
     ]
    },
    {
     "name": "stdout",
     "output_type": "stream",
     "text": [
      "Di train dapat performa \n",
      "Nilai Precision = 1.0\n",
      "Nilai Recall = 1.0\n",
      "Nilai F1 = 1.0\n",
      "Di test dapat performa\n",
      "Nilai Precision = 0.23115577889447236\n",
      "Nilai Recall = 1.0\n",
      "Nilai F1 = 0.3755102040816327\n",
      "########\n",
      "LOGISTIK REGRESSION\n",
      "Di train dapat performa \n",
      "Nilai Precision = 1.0\n",
      "Nilai Recall = 0.006289308176100629\n",
      "Nilai F1 = 0.0125\n",
      "Di test dapat performa\n",
      "Nilai Precision = 0.0\n",
      "Nilai Recall = 0.0\n",
      "Nilai F1 = 0.0\n",
      "########\n",
      "MLP\n"
     ]
    },
    {
     "name": "stderr",
     "output_type": "stream",
     "text": [
      "/tmp/ipykernel_83597/3013171943.py:68: SettingWithCopyWarning: \n",
      "A value is trying to be set on a copy of a slice from a DataFrame.\n",
      "Try using .loc[row_indexer,col_indexer] = value instead\n",
      "\n",
      "See the caveats in the documentation: https://pandas.pydata.org/pandas-docs/stable/user_guide/indexing.html#returning-a-view-versus-a-copy\n",
      "  df['label'] = y_pred_test\n",
      "/opt/conda/lib/python3.8/site-packages/sklearn/metrics/_classification.py:1471: UndefinedMetricWarning: Precision and F-score are ill-defined and being set to 0.0 due to no predicted samples. Use `zero_division` parameter to control this behavior.\n",
      "  _warn_prf(average, modifier, msg_start, len(result))\n",
      "/tmp/ipykernel_83597/3013171943.py:90: SettingWithCopyWarning: \n",
      "A value is trying to be set on a copy of a slice from a DataFrame.\n",
      "Try using .loc[row_indexer,col_indexer] = value instead\n",
      "\n",
      "See the caveats in the documentation: https://pandas.pydata.org/pandas-docs/stable/user_guide/indexing.html#returning-a-view-versus-a-copy\n",
      "  df['label'] = y_pred_test\n",
      "/opt/conda/lib/python3.8/site-packages/sklearn/neural_network/_multilayer_perceptron.py:691: ConvergenceWarning: Stochastic Optimizer: Maximum iterations (300) reached and the optimization hasn't converged yet.\n",
      "  warnings.warn(\n",
      "/tmp/ipykernel_83597/3013171943.py:112: SettingWithCopyWarning: \n",
      "A value is trying to be set on a copy of a slice from a DataFrame.\n",
      "Try using .loc[row_indexer,col_indexer] = value instead\n",
      "\n",
      "See the caveats in the documentation: https://pandas.pydata.org/pandas-docs/stable/user_guide/indexing.html#returning-a-view-versus-a-copy\n",
      "  df['label'] = y_pred_test\n"
     ]
    },
    {
     "name": "stdout",
     "output_type": "stream",
     "text": [
      "Di train dapat performa \n",
      "Nilai Precision = 1.0\n",
      "Nilai Recall = 0.025157232704402517\n",
      "Nilai F1 = 0.049079754601226995\n",
      "Di test dapat performa\n",
      "Nilai Precision = 0.5\n",
      "Nilai Recall = 0.021739130434782608\n",
      "Nilai F1 = 0.041666666666666664\n",
      "########\n",
      "/workspace/Tugas Akhir/dataset/angin_topan\n",
      "Rata-rata nilai test dengan Classifier xgb, rf, dan mlp adalah\n",
      "Precision = 0.3203852596314908\n",
      "Recall = 0.6739130434782609\n",
      "F1 = 0.2637202035285659\n",
      "\n",
      "\n",
      "/workspace/Tugas Akhir/dataset\n",
      "Eksperimen pada bencana angin_topan dengan representasi teks trunc_first_long\n",
      "XGBOOST\n",
      "Di train dapat performa \n",
      "Nilai Precision = 0.9933333333333333\n",
      "Nilai Recall = 0.9371069182389937\n",
      "Nilai F1 = 0.9644012944983819\n",
      "Di test dapat performa\n",
      "Nilai Precision = 0.39473684210526316\n",
      "Nilai Recall = 0.6521739130434783\n",
      "Nilai F1 = 0.49180327868852464\n",
      "########\n",
      "RANDOM FOREST\n"
     ]
    },
    {
     "name": "stderr",
     "output_type": "stream",
     "text": [
      "/tmp/ipykernel_83597/3013171943.py:49: SettingWithCopyWarning: \n",
      "A value is trying to be set on a copy of a slice from a DataFrame.\n",
      "Try using .loc[row_indexer,col_indexer] = value instead\n",
      "\n",
      "See the caveats in the documentation: https://pandas.pydata.org/pandas-docs/stable/user_guide/indexing.html#returning-a-view-versus-a-copy\n",
      "  df['label'] = y_pred_test\n"
     ]
    },
    {
     "name": "stdout",
     "output_type": "stream",
     "text": [
      "Di train dapat performa \n",
      "Nilai Precision = 1.0\n",
      "Nilai Recall = 1.0\n",
      "Nilai F1 = 1.0\n",
      "Di test dapat performa\n",
      "Nilai Precision = 0.7142857142857143\n",
      "Nilai Recall = 0.10869565217391304\n",
      "Nilai F1 = 0.18867924528301885\n",
      "########\n",
      "LOGISTIK REGRESSION\n",
      "Di train dapat performa \n",
      "Nilai Precision = 0.0\n",
      "Nilai Recall = 0.0\n",
      "Nilai F1 = 0.0\n",
      "Di test dapat performa\n",
      "Nilai Precision = 0.0\n",
      "Nilai Recall = 0.0\n",
      "Nilai F1 = 0.0\n",
      "########\n",
      "MLP\n"
     ]
    },
    {
     "name": "stderr",
     "output_type": "stream",
     "text": [
      "/tmp/ipykernel_83597/3013171943.py:68: SettingWithCopyWarning: \n",
      "A value is trying to be set on a copy of a slice from a DataFrame.\n",
      "Try using .loc[row_indexer,col_indexer] = value instead\n",
      "\n",
      "See the caveats in the documentation: https://pandas.pydata.org/pandas-docs/stable/user_guide/indexing.html#returning-a-view-versus-a-copy\n",
      "  df['label'] = y_pred_test\n",
      "/opt/conda/lib/python3.8/site-packages/sklearn/metrics/_classification.py:1471: UndefinedMetricWarning: Precision and F-score are ill-defined and being set to 0.0 due to no predicted samples. Use `zero_division` parameter to control this behavior.\n",
      "  _warn_prf(average, modifier, msg_start, len(result))\n",
      "/opt/conda/lib/python3.8/site-packages/sklearn/metrics/_classification.py:1471: UndefinedMetricWarning: Precision and F-score are ill-defined and being set to 0.0 due to no predicted samples. Use `zero_division` parameter to control this behavior.\n",
      "  _warn_prf(average, modifier, msg_start, len(result))\n",
      "/tmp/ipykernel_83597/3013171943.py:90: SettingWithCopyWarning: \n",
      "A value is trying to be set on a copy of a slice from a DataFrame.\n",
      "Try using .loc[row_indexer,col_indexer] = value instead\n",
      "\n",
      "See the caveats in the documentation: https://pandas.pydata.org/pandas-docs/stable/user_guide/indexing.html#returning-a-view-versus-a-copy\n",
      "  df['label'] = y_pred_test\n"
     ]
    },
    {
     "name": "stdout",
     "output_type": "stream",
     "text": [
      "Di train dapat performa \n",
      "Nilai Precision = 0.8461538461538461\n",
      "Nilai Recall = 0.06918238993710692\n",
      "Nilai F1 = 0.12790697674418605\n",
      "Di test dapat performa\n",
      "Nilai Precision = 0.8\n",
      "Nilai Recall = 0.08695652173913043\n",
      "Nilai F1 = 0.1568627450980392\n",
      "########\n",
      "/workspace/Tugas Akhir/dataset/angin_topan\n",
      "Rata-rata nilai test dengan Classifier xgb, rf, dan mlp adalah\n",
      "Precision = 0.6363408521303259\n",
      "Recall = 0.2826086956521739\n",
      "F1 = 0.27911508968986093\n",
      "\n",
      "\n",
      "/workspace/Tugas Akhir/dataset\n",
      "Eksperimen pada bencana angin_topan dengan representasi teks trunc_last_long\n"
     ]
    },
    {
     "name": "stderr",
     "output_type": "stream",
     "text": [
      "/tmp/ipykernel_83597/3013171943.py:112: SettingWithCopyWarning: \n",
      "A value is trying to be set on a copy of a slice from a DataFrame.\n",
      "Try using .loc[row_indexer,col_indexer] = value instead\n",
      "\n",
      "See the caveats in the documentation: https://pandas.pydata.org/pandas-docs/stable/user_guide/indexing.html#returning-a-view-versus-a-copy\n",
      "  df['label'] = y_pred_test\n"
     ]
    },
    {
     "name": "stdout",
     "output_type": "stream",
     "text": [
      "XGBOOST\n",
      "Di train dapat performa \n",
      "Nilai Precision = 0.9851851851851852\n",
      "Nilai Recall = 0.8364779874213837\n",
      "Nilai F1 = 0.9047619047619048\n",
      "Di test dapat performa\n",
      "Nilai Precision = 0.23\n",
      "Nilai Recall = 1.0\n",
      "Nilai F1 = 0.3739837398373984\n",
      "########\n",
      "RANDOM FOREST\n"
     ]
    },
    {
     "name": "stderr",
     "output_type": "stream",
     "text": [
      "/tmp/ipykernel_83597/3013171943.py:49: SettingWithCopyWarning: \n",
      "A value is trying to be set on a copy of a slice from a DataFrame.\n",
      "Try using .loc[row_indexer,col_indexer] = value instead\n",
      "\n",
      "See the caveats in the documentation: https://pandas.pydata.org/pandas-docs/stable/user_guide/indexing.html#returning-a-view-versus-a-copy\n",
      "  df['label'] = y_pred_test\n"
     ]
    },
    {
     "name": "stdout",
     "output_type": "stream",
     "text": [
      "Di train dapat performa \n",
      "Nilai Precision = 1.0\n",
      "Nilai Recall = 1.0\n",
      "Nilai F1 = 1.0\n",
      "Di test dapat performa\n",
      "Nilai Precision = 0.23958333333333334\n",
      "Nilai Recall = 1.0\n",
      "Nilai F1 = 0.3865546218487395\n",
      "########\n",
      "LOGISTIK REGRESSION\n",
      "Di train dapat performa \n",
      "Nilai Precision = 0.0\n",
      "Nilai Recall = 0.0\n",
      "Nilai F1 = 0.0\n",
      "Di test dapat performa\n",
      "Nilai Precision = 0.0\n",
      "Nilai Recall = 0.0\n",
      "Nilai F1 = 0.0\n",
      "########\n",
      "MLP\n"
     ]
    },
    {
     "name": "stderr",
     "output_type": "stream",
     "text": [
      "/tmp/ipykernel_83597/3013171943.py:68: SettingWithCopyWarning: \n",
      "A value is trying to be set on a copy of a slice from a DataFrame.\n",
      "Try using .loc[row_indexer,col_indexer] = value instead\n",
      "\n",
      "See the caveats in the documentation: https://pandas.pydata.org/pandas-docs/stable/user_guide/indexing.html#returning-a-view-versus-a-copy\n",
      "  df['label'] = y_pred_test\n",
      "/opt/conda/lib/python3.8/site-packages/sklearn/metrics/_classification.py:1471: UndefinedMetricWarning: Precision and F-score are ill-defined and being set to 0.0 due to no predicted samples. Use `zero_division` parameter to control this behavior.\n",
      "  _warn_prf(average, modifier, msg_start, len(result))\n",
      "/opt/conda/lib/python3.8/site-packages/sklearn/metrics/_classification.py:1471: UndefinedMetricWarning: Precision and F-score are ill-defined and being set to 0.0 due to no predicted samples. Use `zero_division` parameter to control this behavior.\n",
      "  _warn_prf(average, modifier, msg_start, len(result))\n",
      "/tmp/ipykernel_83597/3013171943.py:90: SettingWithCopyWarning: \n",
      "A value is trying to be set on a copy of a slice from a DataFrame.\n",
      "Try using .loc[row_indexer,col_indexer] = value instead\n",
      "\n",
      "See the caveats in the documentation: https://pandas.pydata.org/pandas-docs/stable/user_guide/indexing.html#returning-a-view-versus-a-copy\n",
      "  df['label'] = y_pred_test\n",
      "/opt/conda/lib/python3.8/site-packages/sklearn/neural_network/_multilayer_perceptron.py:691: ConvergenceWarning: Stochastic Optimizer: Maximum iterations (300) reached and the optimization hasn't converged yet.\n",
      "  warnings.warn(\n",
      "/tmp/ipykernel_83597/3013171943.py:112: SettingWithCopyWarning: \n",
      "A value is trying to be set on a copy of a slice from a DataFrame.\n",
      "Try using .loc[row_indexer,col_indexer] = value instead\n",
      "\n",
      "See the caveats in the documentation: https://pandas.pydata.org/pandas-docs/stable/user_guide/indexing.html#returning-a-view-versus-a-copy\n",
      "  df['label'] = y_pred_test\n"
     ]
    },
    {
     "name": "stdout",
     "output_type": "stream",
     "text": [
      "Di train dapat performa \n",
      "Nilai Precision = 0.9\n",
      "Nilai Recall = 0.05660377358490566\n",
      "Nilai F1 = 0.10650887573964497\n",
      "Di test dapat performa\n",
      "Nilai Precision = 1.0\n",
      "Nilai Recall = 0.10869565217391304\n",
      "Nilai F1 = 0.19607843137254902\n",
      "########\n",
      "/workspace/Tugas Akhir/dataset/angin_topan\n",
      "Rata-rata nilai test dengan Classifier xgb, rf, dan mlp adalah\n",
      "Precision = 0.48986111111111114\n",
      "Recall = 0.7028985507246377\n",
      "F1 = 0.3188722643528956\n",
      "\n",
      "\n",
      "/workspace/Tugas Akhir/dataset\n",
      "Eksperimen pada bencana angin_topan dengan representasi teks trunc_combination\n",
      "XGBOOST\n",
      "Di train dapat performa \n",
      "Nilai Precision = 1.0\n",
      "Nilai Recall = 0.9119496855345912\n",
      "Nilai F1 = 0.9539473684210527\n",
      "Di test dapat performa\n",
      "Nilai Precision = 0.24864864864864866\n",
      "Nilai Recall = 1.0\n",
      "Nilai F1 = 0.39826839826839827\n",
      "########\n",
      "RANDOM FOREST\n"
     ]
    },
    {
     "name": "stderr",
     "output_type": "stream",
     "text": [
      "/tmp/ipykernel_83597/3013171943.py:49: SettingWithCopyWarning: \n",
      "A value is trying to be set on a copy of a slice from a DataFrame.\n",
      "Try using .loc[row_indexer,col_indexer] = value instead\n",
      "\n",
      "See the caveats in the documentation: https://pandas.pydata.org/pandas-docs/stable/user_guide/indexing.html#returning-a-view-versus-a-copy\n",
      "  df['label'] = y_pred_test\n"
     ]
    },
    {
     "name": "stdout",
     "output_type": "stream",
     "text": [
      "Di train dapat performa \n",
      "Nilai Precision = 1.0\n",
      "Nilai Recall = 1.0\n",
      "Nilai F1 = 1.0\n",
      "Di test dapat performa\n",
      "Nilai Precision = 0.28776978417266186\n",
      "Nilai Recall = 0.8695652173913043\n",
      "Nilai F1 = 0.4324324324324324\n",
      "########\n",
      "LOGISTIK REGRESSION\n",
      "Di train dapat performa \n",
      "Nilai Precision = 0.0\n",
      "Nilai Recall = 0.0\n",
      "Nilai F1 = 0.0\n",
      "Di test dapat performa\n",
      "Nilai Precision = 0.0\n",
      "Nilai Recall = 0.0\n",
      "Nilai F1 = 0.0\n",
      "########\n",
      "MLP\n"
     ]
    },
    {
     "name": "stderr",
     "output_type": "stream",
     "text": [
      "/tmp/ipykernel_83597/3013171943.py:68: SettingWithCopyWarning: \n",
      "A value is trying to be set on a copy of a slice from a DataFrame.\n",
      "Try using .loc[row_indexer,col_indexer] = value instead\n",
      "\n",
      "See the caveats in the documentation: https://pandas.pydata.org/pandas-docs/stable/user_guide/indexing.html#returning-a-view-versus-a-copy\n",
      "  df['label'] = y_pred_test\n",
      "/opt/conda/lib/python3.8/site-packages/sklearn/metrics/_classification.py:1471: UndefinedMetricWarning: Precision and F-score are ill-defined and being set to 0.0 due to no predicted samples. Use `zero_division` parameter to control this behavior.\n",
      "  _warn_prf(average, modifier, msg_start, len(result))\n",
      "/opt/conda/lib/python3.8/site-packages/sklearn/metrics/_classification.py:1471: UndefinedMetricWarning: Precision and F-score are ill-defined and being set to 0.0 due to no predicted samples. Use `zero_division` parameter to control this behavior.\n",
      "  _warn_prf(average, modifier, msg_start, len(result))\n",
      "/tmp/ipykernel_83597/3013171943.py:90: SettingWithCopyWarning: \n",
      "A value is trying to be set on a copy of a slice from a DataFrame.\n",
      "Try using .loc[row_indexer,col_indexer] = value instead\n",
      "\n",
      "See the caveats in the documentation: https://pandas.pydata.org/pandas-docs/stable/user_guide/indexing.html#returning-a-view-versus-a-copy\n",
      "  df['label'] = y_pred_test\n",
      "/opt/conda/lib/python3.8/site-packages/sklearn/neural_network/_multilayer_perceptron.py:691: ConvergenceWarning: Stochastic Optimizer: Maximum iterations (300) reached and the optimization hasn't converged yet.\n",
      "  warnings.warn(\n",
      "/tmp/ipykernel_83597/3013171943.py:112: SettingWithCopyWarning: \n",
      "A value is trying to be set on a copy of a slice from a DataFrame.\n",
      "Try using .loc[row_indexer,col_indexer] = value instead\n",
      "\n",
      "See the caveats in the documentation: https://pandas.pydata.org/pandas-docs/stable/user_guide/indexing.html#returning-a-view-versus-a-copy\n",
      "  df['label'] = y_pred_test\n"
     ]
    },
    {
     "name": "stdout",
     "output_type": "stream",
     "text": [
      "Di train dapat performa \n",
      "Nilai Precision = 0.868421052631579\n",
      "Nilai Recall = 0.20754716981132076\n",
      "Nilai F1 = 0.33502538071065996\n",
      "Di test dapat performa\n",
      "Nilai Precision = 0.8333333333333334\n",
      "Nilai Recall = 0.10869565217391304\n",
      "Nilai F1 = 0.1923076923076923\n",
      "########\n",
      "/workspace/Tugas Akhir/dataset/angin_topan\n",
      "Rata-rata nilai test dengan Classifier xgb, rf, dan mlp adalah\n",
      "Precision = 0.45658392205154796\n",
      "Recall = 0.6594202898550724\n",
      "F1 = 0.341002841002841\n",
      "\n",
      "\n",
      "/workspace/Tugas Akhir/dataset\n",
      "Eksperimen pada bencana angin_topan dengan representasi teks textrank\n",
      "XGBOOST\n",
      "Di train dapat performa \n",
      "Nilai Precision = 1.0\n",
      "Nilai Recall = 0.9056603773584906\n",
      "Nilai F1 = 0.9504950495049505\n",
      "Di test dapat performa\n",
      "Nilai Precision = 1.0\n",
      "Nilai Recall = 0.21739130434782608\n",
      "Nilai F1 = 0.3571428571428571\n",
      "########\n",
      "RANDOM FOREST\n"
     ]
    },
    {
     "name": "stderr",
     "output_type": "stream",
     "text": [
      "/tmp/ipykernel_83597/3013171943.py:49: SettingWithCopyWarning: \n",
      "A value is trying to be set on a copy of a slice from a DataFrame.\n",
      "Try using .loc[row_indexer,col_indexer] = value instead\n",
      "\n",
      "See the caveats in the documentation: https://pandas.pydata.org/pandas-docs/stable/user_guide/indexing.html#returning-a-view-versus-a-copy\n",
      "  df['label'] = y_pred_test\n"
     ]
    },
    {
     "name": "stdout",
     "output_type": "stream",
     "text": [
      "Di train dapat performa \n",
      "Nilai Precision = 1.0\n",
      "Nilai Recall = 1.0\n",
      "Nilai F1 = 1.0\n",
      "Di test dapat performa\n",
      "Nilai Precision = 1.0\n",
      "Nilai Recall = 0.10869565217391304\n",
      "Nilai F1 = 0.19607843137254902\n",
      "########\n",
      "LOGISTIK REGRESSION\n",
      "Di train dapat performa \n",
      "Nilai Precision = 0.0\n",
      "Nilai Recall = 0.0\n",
      "Nilai F1 = 0.0\n",
      "Di test dapat performa\n",
      "Nilai Precision = 0.0\n",
      "Nilai Recall = 0.0\n",
      "Nilai F1 = 0.0\n",
      "########\n",
      "MLP\n"
     ]
    },
    {
     "name": "stderr",
     "output_type": "stream",
     "text": [
      "/tmp/ipykernel_83597/3013171943.py:68: SettingWithCopyWarning: \n",
      "A value is trying to be set on a copy of a slice from a DataFrame.\n",
      "Try using .loc[row_indexer,col_indexer] = value instead\n",
      "\n",
      "See the caveats in the documentation: https://pandas.pydata.org/pandas-docs/stable/user_guide/indexing.html#returning-a-view-versus-a-copy\n",
      "  df['label'] = y_pred_test\n",
      "/opt/conda/lib/python3.8/site-packages/sklearn/metrics/_classification.py:1471: UndefinedMetricWarning: Precision and F-score are ill-defined and being set to 0.0 due to no predicted samples. Use `zero_division` parameter to control this behavior.\n",
      "  _warn_prf(average, modifier, msg_start, len(result))\n",
      "/opt/conda/lib/python3.8/site-packages/sklearn/metrics/_classification.py:1471: UndefinedMetricWarning: Precision and F-score are ill-defined and being set to 0.0 due to no predicted samples. Use `zero_division` parameter to control this behavior.\n",
      "  _warn_prf(average, modifier, msg_start, len(result))\n",
      "/tmp/ipykernel_83597/3013171943.py:90: SettingWithCopyWarning: \n",
      "A value is trying to be set on a copy of a slice from a DataFrame.\n",
      "Try using .loc[row_indexer,col_indexer] = value instead\n",
      "\n",
      "See the caveats in the documentation: https://pandas.pydata.org/pandas-docs/stable/user_guide/indexing.html#returning-a-view-versus-a-copy\n",
      "  df['label'] = y_pred_test\n",
      "/opt/conda/lib/python3.8/site-packages/sklearn/neural_network/_multilayer_perceptron.py:691: ConvergenceWarning: Stochastic Optimizer: Maximum iterations (300) reached and the optimization hasn't converged yet.\n",
      "  warnings.warn(\n",
      "/tmp/ipykernel_83597/3013171943.py:112: SettingWithCopyWarning: \n",
      "A value is trying to be set on a copy of a slice from a DataFrame.\n",
      "Try using .loc[row_indexer,col_indexer] = value instead\n",
      "\n",
      "See the caveats in the documentation: https://pandas.pydata.org/pandas-docs/stable/user_guide/indexing.html#returning-a-view-versus-a-copy\n",
      "  df['label'] = y_pred_test\n"
     ]
    },
    {
     "name": "stdout",
     "output_type": "stream",
     "text": [
      "Di train dapat performa \n",
      "Nilai Precision = 0.8461538461538461\n",
      "Nilai Recall = 0.13836477987421383\n",
      "Nilai F1 = 0.23783783783783785\n",
      "Di test dapat performa\n",
      "Nilai Precision = 1.0\n",
      "Nilai Recall = 0.17391304347826086\n",
      "Nilai F1 = 0.29629629629629634\n",
      "########\n",
      "/workspace/Tugas Akhir/dataset/angin_topan\n",
      "Rata-rata nilai test dengan Classifier xgb, rf, dan mlp adalah\n",
      "Precision = 1.0\n",
      "Recall = 0.16666666666666666\n",
      "F1 = 0.2831725282705675\n",
      "\n",
      "\n",
      "/workspace/Tugas Akhir/dataset\n",
      "Eksperimen pada bencana angin_topan dengan representasi teks sum_indobart\n",
      "XGBOOST\n",
      "Di train dapat performa \n",
      "Nilai Precision = 0.9931972789115646\n",
      "Nilai Recall = 0.9182389937106918\n",
      "Nilai F1 = 0.954248366013072\n",
      "Di test dapat performa\n",
      "Nilai Precision = 0.8666666666666667\n",
      "Nilai Recall = 0.2826086956521739\n",
      "Nilai F1 = 0.4262295081967213\n",
      "########\n",
      "RANDOM FOREST\n"
     ]
    },
    {
     "name": "stderr",
     "output_type": "stream",
     "text": [
      "/tmp/ipykernel_83597/3013171943.py:49: SettingWithCopyWarning: \n",
      "A value is trying to be set on a copy of a slice from a DataFrame.\n",
      "Try using .loc[row_indexer,col_indexer] = value instead\n",
      "\n",
      "See the caveats in the documentation: https://pandas.pydata.org/pandas-docs/stable/user_guide/indexing.html#returning-a-view-versus-a-copy\n",
      "  df['label'] = y_pred_test\n"
     ]
    },
    {
     "name": "stdout",
     "output_type": "stream",
     "text": [
      "Di train dapat performa \n",
      "Nilai Precision = 1.0\n",
      "Nilai Recall = 1.0\n",
      "Nilai F1 = 1.0\n",
      "Di test dapat performa\n",
      "Nilai Precision = 1.0\n",
      "Nilai Recall = 0.043478260869565216\n",
      "Nilai F1 = 0.08333333333333333\n",
      "########\n",
      "LOGISTIK REGRESSION\n",
      "Di train dapat performa \n",
      "Nilai Precision = 1.0\n",
      "Nilai Recall = 0.006289308176100629\n",
      "Nilai F1 = 0.0125\n",
      "Di test dapat performa\n",
      "Nilai Precision = 0.0\n",
      "Nilai Recall = 0.0\n",
      "Nilai F1 = 0.0\n",
      "########\n",
      "MLP\n"
     ]
    },
    {
     "name": "stderr",
     "output_type": "stream",
     "text": [
      "/tmp/ipykernel_83597/3013171943.py:68: SettingWithCopyWarning: \n",
      "A value is trying to be set on a copy of a slice from a DataFrame.\n",
      "Try using .loc[row_indexer,col_indexer] = value instead\n",
      "\n",
      "See the caveats in the documentation: https://pandas.pydata.org/pandas-docs/stable/user_guide/indexing.html#returning-a-view-versus-a-copy\n",
      "  df['label'] = y_pred_test\n",
      "/opt/conda/lib/python3.8/site-packages/sklearn/metrics/_classification.py:1471: UndefinedMetricWarning: Precision and F-score are ill-defined and being set to 0.0 due to no predicted samples. Use `zero_division` parameter to control this behavior.\n",
      "  _warn_prf(average, modifier, msg_start, len(result))\n",
      "/tmp/ipykernel_83597/3013171943.py:90: SettingWithCopyWarning: \n",
      "A value is trying to be set on a copy of a slice from a DataFrame.\n",
      "Try using .loc[row_indexer,col_indexer] = value instead\n",
      "\n",
      "See the caveats in the documentation: https://pandas.pydata.org/pandas-docs/stable/user_guide/indexing.html#returning-a-view-versus-a-copy\n",
      "  df['label'] = y_pred_test\n"
     ]
    },
    {
     "name": "stdout",
     "output_type": "stream",
     "text": [
      "Di train dapat performa \n",
      "Nilai Precision = 0.8545454545454545\n",
      "Nilai Recall = 0.29559748427672955\n",
      "Nilai F1 = 0.4392523364485981\n",
      "Di test dapat performa\n",
      "Nilai Precision = 1.0\n",
      "Nilai Recall = 0.1956521739130435\n",
      "Nilai F1 = 0.32727272727272727\n",
      "########\n",
      "/workspace/Tugas Akhir/dataset/angin_topan\n",
      "Rata-rata nilai test dengan Classifier xgb, rf, dan mlp adalah\n",
      "Precision = 0.9555555555555556\n",
      "Recall = 0.17391304347826086\n",
      "F1 = 0.2789451896009273\n",
      "\n",
      "\n",
      "/workspace/Tugas Akhir/dataset\n",
      "Eksperimen pada bencana angin_topan dengan representasi teks sum_liputan6\n"
     ]
    },
    {
     "name": "stderr",
     "output_type": "stream",
     "text": [
      "/tmp/ipykernel_83597/3013171943.py:112: SettingWithCopyWarning: \n",
      "A value is trying to be set on a copy of a slice from a DataFrame.\n",
      "Try using .loc[row_indexer,col_indexer] = value instead\n",
      "\n",
      "See the caveats in the documentation: https://pandas.pydata.org/pandas-docs/stable/user_guide/indexing.html#returning-a-view-versus-a-copy\n",
      "  df['label'] = y_pred_test\n"
     ]
    },
    {
     "name": "stdout",
     "output_type": "stream",
     "text": [
      "XGBOOST\n",
      "Di train dapat performa \n",
      "Nilai Precision = 0.9859154929577465\n",
      "Nilai Recall = 0.8805031446540881\n",
      "Nilai F1 = 0.9302325581395349\n",
      "Di test dapat performa\n",
      "Nilai Precision = 0.9375\n",
      "Nilai Recall = 0.32608695652173914\n",
      "Nilai F1 = 0.48387096774193544\n",
      "########\n",
      "RANDOM FOREST\n"
     ]
    },
    {
     "name": "stderr",
     "output_type": "stream",
     "text": [
      "/tmp/ipykernel_83597/3013171943.py:49: SettingWithCopyWarning: \n",
      "A value is trying to be set on a copy of a slice from a DataFrame.\n",
      "Try using .loc[row_indexer,col_indexer] = value instead\n",
      "\n",
      "See the caveats in the documentation: https://pandas.pydata.org/pandas-docs/stable/user_guide/indexing.html#returning-a-view-versus-a-copy\n",
      "  df['label'] = y_pred_test\n"
     ]
    },
    {
     "name": "stdout",
     "output_type": "stream",
     "text": [
      "Di train dapat performa \n",
      "Nilai Precision = 1.0\n",
      "Nilai Recall = 1.0\n",
      "Nilai F1 = 1.0\n",
      "Di test dapat performa\n",
      "Nilai Precision = 0.9285714285714286\n",
      "Nilai Recall = 0.2826086956521739\n",
      "Nilai F1 = 0.4333333333333333\n",
      "########\n",
      "LOGISTIK REGRESSION\n",
      "Di train dapat performa \n",
      "Nilai Precision = 1.0\n",
      "Nilai Recall = 0.006289308176100629\n",
      "Nilai F1 = 0.0125\n",
      "Di test dapat performa\n",
      "Nilai Precision = 0.0\n",
      "Nilai Recall = 0.0\n",
      "Nilai F1 = 0.0\n",
      "########\n",
      "MLP\n"
     ]
    },
    {
     "name": "stderr",
     "output_type": "stream",
     "text": [
      "/tmp/ipykernel_83597/3013171943.py:68: SettingWithCopyWarning: \n",
      "A value is trying to be set on a copy of a slice from a DataFrame.\n",
      "Try using .loc[row_indexer,col_indexer] = value instead\n",
      "\n",
      "See the caveats in the documentation: https://pandas.pydata.org/pandas-docs/stable/user_guide/indexing.html#returning-a-view-versus-a-copy\n",
      "  df['label'] = y_pred_test\n",
      "/opt/conda/lib/python3.8/site-packages/sklearn/metrics/_classification.py:1471: UndefinedMetricWarning: Precision and F-score are ill-defined and being set to 0.0 due to no predicted samples. Use `zero_division` parameter to control this behavior.\n",
      "  _warn_prf(average, modifier, msg_start, len(result))\n",
      "/tmp/ipykernel_83597/3013171943.py:90: SettingWithCopyWarning: \n",
      "A value is trying to be set on a copy of a slice from a DataFrame.\n",
      "Try using .loc[row_indexer,col_indexer] = value instead\n",
      "\n",
      "See the caveats in the documentation: https://pandas.pydata.org/pandas-docs/stable/user_guide/indexing.html#returning-a-view-versus-a-copy\n",
      "  df['label'] = y_pred_test\n"
     ]
    },
    {
     "name": "stdout",
     "output_type": "stream",
     "text": [
      "Di train dapat performa \n",
      "Nilai Precision = 0.8552631578947368\n",
      "Nilai Recall = 0.4088050314465409\n",
      "Nilai F1 = 0.5531914893617021\n",
      "Di test dapat performa\n",
      "Nilai Precision = 0.9523809523809523\n",
      "Nilai Recall = 0.43478260869565216\n",
      "Nilai F1 = 0.5970149253731344\n",
      "########\n",
      "/workspace/Tugas Akhir/dataset/angin_topan\n",
      "Rata-rata nilai test dengan Classifier xgb, rf, dan mlp adalah\n",
      "Precision = 0.939484126984127\n",
      "Recall = 0.34782608695652173\n",
      "F1 = 0.5047397421494677\n",
      "\n",
      "\n",
      "/workspace/Tugas Akhir/dataset\n",
      "Eksperimen pada bencana angin_topan dengan representasi teks sum_pegasus\n"
     ]
    },
    {
     "name": "stderr",
     "output_type": "stream",
     "text": [
      "/tmp/ipykernel_83597/3013171943.py:112: SettingWithCopyWarning: \n",
      "A value is trying to be set on a copy of a slice from a DataFrame.\n",
      "Try using .loc[row_indexer,col_indexer] = value instead\n",
      "\n",
      "See the caveats in the documentation: https://pandas.pydata.org/pandas-docs/stable/user_guide/indexing.html#returning-a-view-versus-a-copy\n",
      "  df['label'] = y_pred_test\n"
     ]
    },
    {
     "name": "stdout",
     "output_type": "stream",
     "text": [
      "XGBOOST\n",
      "Di train dapat performa \n",
      "Nilai Precision = 1.0\n",
      "Nilai Recall = 0.7735849056603774\n",
      "Nilai F1 = 0.8723404255319149\n",
      "Di test dapat performa\n",
      "Nilai Precision = 0.23\n",
      "Nilai Recall = 1.0\n",
      "Nilai F1 = 0.3739837398373984\n",
      "########\n",
      "RANDOM FOREST\n"
     ]
    },
    {
     "name": "stderr",
     "output_type": "stream",
     "text": [
      "/tmp/ipykernel_83597/3013171943.py:49: SettingWithCopyWarning: \n",
      "A value is trying to be set on a copy of a slice from a DataFrame.\n",
      "Try using .loc[row_indexer,col_indexer] = value instead\n",
      "\n",
      "See the caveats in the documentation: https://pandas.pydata.org/pandas-docs/stable/user_guide/indexing.html#returning-a-view-versus-a-copy\n",
      "  df['label'] = y_pred_test\n"
     ]
    },
    {
     "name": "stdout",
     "output_type": "stream",
     "text": [
      "Di train dapat performa \n",
      "Nilai Precision = 1.0\n",
      "Nilai Recall = 1.0\n",
      "Nilai F1 = 1.0\n",
      "Di test dapat performa\n",
      "Nilai Precision = 0.23\n",
      "Nilai Recall = 1.0\n",
      "Nilai F1 = 0.3739837398373984\n",
      "########\n",
      "LOGISTIK REGRESSION\n",
      "Di train dapat performa \n",
      "Nilai Precision = 0.0\n",
      "Nilai Recall = 0.0\n",
      "Nilai F1 = 0.0\n",
      "Di test dapat performa\n",
      "Nilai Precision = 0.6111111111111112\n",
      "Nilai Recall = 0.2391304347826087\n",
      "Nilai F1 = 0.34375\n",
      "########\n",
      "MLP\n"
     ]
    },
    {
     "name": "stderr",
     "output_type": "stream",
     "text": [
      "/tmp/ipykernel_83597/3013171943.py:68: SettingWithCopyWarning: \n",
      "A value is trying to be set on a copy of a slice from a DataFrame.\n",
      "Try using .loc[row_indexer,col_indexer] = value instead\n",
      "\n",
      "See the caveats in the documentation: https://pandas.pydata.org/pandas-docs/stable/user_guide/indexing.html#returning-a-view-versus-a-copy\n",
      "  df['label'] = y_pred_test\n",
      "/opt/conda/lib/python3.8/site-packages/sklearn/metrics/_classification.py:1471: UndefinedMetricWarning: Precision and F-score are ill-defined and being set to 0.0 due to no predicted samples. Use `zero_division` parameter to control this behavior.\n",
      "  _warn_prf(average, modifier, msg_start, len(result))\n",
      "/tmp/ipykernel_83597/3013171943.py:90: SettingWithCopyWarning: \n",
      "A value is trying to be set on a copy of a slice from a DataFrame.\n",
      "Try using .loc[row_indexer,col_indexer] = value instead\n",
      "\n",
      "See the caveats in the documentation: https://pandas.pydata.org/pandas-docs/stable/user_guide/indexing.html#returning-a-view-versus-a-copy\n",
      "  df['label'] = y_pred_test\n"
     ]
    },
    {
     "name": "stdout",
     "output_type": "stream",
     "text": [
      "Di train dapat performa \n",
      "Nilai Precision = 0.0\n",
      "Nilai Recall = 0.0\n",
      "Nilai F1 = 0.0\n",
      "Di test dapat performa\n",
      "Nilai Precision = 0.0\n",
      "Nilai Recall = 0.0\n",
      "Nilai F1 = 0.0\n",
      "########\n",
      "/workspace/Tugas Akhir/dataset/angin_topan\n",
      "Rata-rata nilai test dengan Classifier xgb, rf, dan mlp adalah\n",
      "Precision = 0.15333333333333335\n",
      "Recall = 0.6666666666666666\n",
      "F1 = 0.24932249322493227\n",
      "\n",
      "\n",
      "************************************************************\n",
      "{'angin_topan': {'title_ori': {'xgb': {'prec': 0.0, 'rec': 0.0, 'f1': 0.0, 'acc': 0.77}, 'rf': {'prec': 0.0, 'rec': 0.0, 'f1': 0.0, 'acc': 0.765}, 'lr': {'prec': 0.9166666666666666, 'rec': 0.2391304347826087, 'f1': 0.3793103448275862, 'acc': 0.82}, 'mlp': {'prec': 0.6818181818181818, 'rec': 0.6521739130434783, 'f1': 0.6666666666666666, 'acc': 0.85}}, 'text_ori': {'xgb': {'prec': 0.375, 'rec': 0.9130434782608695, 'f1': 0.5316455696202531, 'acc': 0.63}, 'rf': {'prec': 0.65, 'rec': 0.2826086956521739, 'f1': 0.3939393939393939, 'acc': 0.8}, 'lr': {'prec': 0.0, 'rec': 0.0, 'f1': 0.0, 'acc': 0.77}, 'mlp': {'prec': 0.8, 'rec': 0.17391304347826086, 'f1': 0.2857142857142857, 'acc': 0.8}}, 'tc_ori': {'xgb': {'prec': 0.27218934911242604, 'rec': 1.0, 'f1': 0.42790697674418604, 'acc': 0.385}, 'rf': {'prec': 0.3333333333333333, 'rec': 0.06521739130434782, 'f1': 0.10909090909090909, 'acc': 0.755}, 'lr': {'prec': 0.0, 'rec': 0.0, 'f1': 0.0, 'acc': 0.77}, 'mlp': {'prec': 0.8461538461538461, 'rec': 0.2391304347826087, 'f1': 0.3728813559322034, 'acc': 0.815}}, 'filter_word_tc': {'xgb': {'prec': 0.23, 'rec': 1.0, 'f1': 0.3739837398373984, 'acc': 0.23}, 'rf': {'prec': 0.0, 'rec': 0.0, 'f1': 0.0, 'acc': 0.77}, 'lr': {'prec': 0.0, 'rec': 0.0, 'f1': 0.0, 'acc': 0.77}, 'mlp': {'prec': 0.8888888888888888, 'rec': 0.17391304347826086, 'f1': 0.29090909090909095, 'acc': 0.805}}, 'filter_word_tc_window': {'xgb': {'prec': 0.23, 'rec': 1.0, 'f1': 0.3739837398373984, 'acc': 0.23}, 'rf': {'prec': 0.0, 'rec': 0.0, 'f1': 0.0, 'acc': 0.77}, 'lr': {'prec': 0.0, 'rec': 0.0, 'f1': 0.0, 'acc': 0.77}, 'mlp': {'prec': 1.0, 'rec': 0.15217391304347827, 'f1': 0.2641509433962264, 'acc': 0.805}}, 'trunc_first_short': {'xgb': {'prec': 0.9166666666666666, 'rec': 0.2391304347826087, 'f1': 0.3793103448275862, 'acc': 0.82}, 'rf': {'prec': 0.8, 'rec': 0.08695652173913043, 'f1': 0.1568627450980392, 'acc': 0.785}, 'lr': {'prec': 0.0, 'rec': 0.0, 'f1': 0.0, 'acc': 0.77}, 'mlp': {'prec': 0.7727272727272727, 'rec': 0.3695652173913043, 'f1': 0.4999999999999999, 'acc': 0.83}}, 'trunc_last_short': {'xgb': {'prec': 0.23, 'rec': 1.0, 'f1': 0.3739837398373984, 'acc': 0.23}, 'rf': {'prec': 0.23115577889447236, 'rec': 1.0, 'f1': 0.3755102040816327, 'acc': 0.235}, 'lr': {'prec': 0.0, 'rec': 0.0, 'f1': 0.0, 'acc': 0.77}, 'mlp': {'prec': 0.5, 'rec': 0.021739130434782608, 'f1': 0.041666666666666664, 'acc': 0.77}}, 'trunc_first_long': {'xgb': {'prec': 0.39473684210526316, 'rec': 0.6521739130434783, 'f1': 0.49180327868852464, 'acc': 0.69}, 'rf': {'prec': 0.7142857142857143, 'rec': 0.10869565217391304, 'f1': 0.18867924528301885, 'acc': 0.785}, 'lr': {'prec': 0.0, 'rec': 0.0, 'f1': 0.0, 'acc': 0.77}, 'mlp': {'prec': 0.8, 'rec': 0.08695652173913043, 'f1': 0.1568627450980392, 'acc': 0.785}}, 'trunc_last_long': {'xgb': {'prec': 0.23, 'rec': 1.0, 'f1': 0.3739837398373984, 'acc': 0.23}, 'rf': {'prec': 0.23958333333333334, 'rec': 1.0, 'f1': 0.3865546218487395, 'acc': 0.27}, 'lr': {'prec': 0.0, 'rec': 0.0, 'f1': 0.0, 'acc': 0.77}, 'mlp': {'prec': 1.0, 'rec': 0.10869565217391304, 'f1': 0.19607843137254902, 'acc': 0.795}}, 'trunc_combination': {'xgb': {'prec': 0.24864864864864866, 'rec': 1.0, 'f1': 0.39826839826839827, 'acc': 0.305}, 'rf': {'prec': 0.28776978417266186, 'rec': 0.8695652173913043, 'f1': 0.4324324324324324, 'acc': 0.475}, 'lr': {'prec': 0.0, 'rec': 0.0, 'f1': 0.0, 'acc': 0.77}, 'mlp': {'prec': 0.8333333333333334, 'rec': 0.10869565217391304, 'f1': 0.1923076923076923, 'acc': 0.79}}, 'textrank': {'xgb': {'prec': 1.0, 'rec': 0.21739130434782608, 'f1': 0.3571428571428571, 'acc': 0.82}, 'rf': {'prec': 1.0, 'rec': 0.10869565217391304, 'f1': 0.19607843137254902, 'acc': 0.795}, 'lr': {'prec': 0.0, 'rec': 0.0, 'f1': 0.0, 'acc': 0.77}, 'mlp': {'prec': 1.0, 'rec': 0.17391304347826086, 'f1': 0.29629629629629634, 'acc': 0.81}}, 'sum_indobart': {'xgb': {'prec': 0.8666666666666667, 'rec': 0.2826086956521739, 'f1': 0.4262295081967213, 'acc': 0.825}, 'rf': {'prec': 1.0, 'rec': 0.043478260869565216, 'f1': 0.08333333333333333, 'acc': 0.78}, 'lr': {'prec': 0.0, 'rec': 0.0, 'f1': 0.0, 'acc': 0.77}, 'mlp': {'prec': 1.0, 'rec': 0.1956521739130435, 'f1': 0.32727272727272727, 'acc': 0.815}}, 'sum_liputan6': {'xgb': {'prec': 0.9375, 'rec': 0.32608695652173914, 'f1': 0.48387096774193544, 'acc': 0.84}, 'rf': {'prec': 0.9285714285714286, 'rec': 0.2826086956521739, 'f1': 0.4333333333333333, 'acc': 0.83}, 'lr': {'prec': 0.0, 'rec': 0.0, 'f1': 0.0, 'acc': 0.77}, 'mlp': {'prec': 0.9523809523809523, 'rec': 0.43478260869565216, 'f1': 0.5970149253731344, 'acc': 0.865}}, 'sum_pegasus': {'xgb': {'prec': 0.23, 'rec': 1.0, 'f1': 0.3739837398373984, 'acc': 0.23}, 'rf': {'prec': 0.23, 'rec': 1.0, 'f1': 0.3739837398373984, 'acc': 0.23}, 'lr': {'prec': 0.6111111111111112, 'rec': 0.2391304347826087, 'f1': 0.34375, 'acc': 0.79}, 'mlp': {'prec': 0.0, 'rec': 0.0, 'f1': 0.0, 'acc': 0.77}}}}\n",
      "/workspace/Tugas Akhir/dataset\n"
     ]
    },
    {
     "name": "stderr",
     "output_type": "stream",
     "text": [
      "/opt/conda/lib/python3.8/site-packages/sklearn/metrics/_classification.py:1471: UndefinedMetricWarning: Precision and F-score are ill-defined and being set to 0.0 due to no predicted samples. Use `zero_division` parameter to control this behavior.\n",
      "  _warn_prf(average, modifier, msg_start, len(result))\n",
      "/opt/conda/lib/python3.8/site-packages/sklearn/metrics/_classification.py:1471: UndefinedMetricWarning: Precision and F-score are ill-defined and being set to 0.0 due to no predicted samples. Use `zero_division` parameter to control this behavior.\n",
      "  _warn_prf(average, modifier, msg_start, len(result))\n",
      "/tmp/ipykernel_83597/3013171943.py:112: SettingWithCopyWarning: \n",
      "A value is trying to be set on a copy of a slice from a DataFrame.\n",
      "Try using .loc[row_indexer,col_indexer] = value instead\n",
      "\n",
      "See the caveats in the documentation: https://pandas.pydata.org/pandas-docs/stable/user_guide/indexing.html#returning-a-view-versus-a-copy\n",
      "  df['label'] = y_pred_test\n"
     ]
    }
   ],
   "source": [
    "%cd angin_topan\n",
    "get_f1_eks_representasi_teks_bencana('angin_topan')\n",
    "%cd .."
   ]
  },
  {
   "cell_type": "code",
   "execution_count": null,
   "id": "90da39fe",
   "metadata": {},
   "outputs": [],
   "source": [
    "%cd banjir\n",
    "get_f1_eks_representasi_teks_bencana('banjir')\n",
    "%cd .."
   ]
  },
  {
   "cell_type": "code",
   "execution_count": 20,
   "id": "8836c96b",
   "metadata": {
    "scrolled": true
   },
   "outputs": [
    {
     "name": "stdout",
     "output_type": "stream",
     "text": [
      "/workspace/dataset/erupsi\n",
      "evaluasi pada bencana = erupsi\n",
      "/workspace/dataset\n",
      "Eksperimen pada bencana erupsi dengan representasi teks title_ori\n",
      "XGBOOST\n",
      "Di train dapat performa \n",
      "Nilai Precision = 1.0\n",
      "Nilai Recall = 0.9368421052631579\n",
      "Nilai F1 = 0.967391304347826\n",
      "Di test dapat performa\n",
      "Nilai Precision = 0.38461538461538464\n",
      "Nilai Recall = 0.14705882352941177\n",
      "Nilai F1 = 0.21276595744680854\n",
      "########\n",
      "RANDOM FOREST\n"
     ]
    },
    {
     "name": "stderr",
     "output_type": "stream",
     "text": [
      "/tmp/ipykernel_1016/527456267.py:50: SettingWithCopyWarning: \n",
      "A value is trying to be set on a copy of a slice from a DataFrame.\n",
      "Try using .loc[row_indexer,col_indexer] = value instead\n",
      "\n",
      "See the caveats in the documentation: https://pandas.pydata.org/pandas-docs/stable/user_guide/indexing.html#returning-a-view-versus-a-copy\n",
      "  df['label'] = y_pred_test\n"
     ]
    },
    {
     "name": "stdout",
     "output_type": "stream",
     "text": [
      "Di train dapat performa \n",
      "Nilai Precision = 1.0\n",
      "Nilai Recall = 1.0\n",
      "Nilai F1 = 1.0\n",
      "Di test dapat performa\n",
      "Nilai Precision = 0.5833333333333334\n",
      "Nilai Recall = 0.20588235294117646\n",
      "Nilai F1 = 0.3043478260869565\n",
      "########\n",
      "LOGISTIK REGRESSION\n",
      "Di train dapat performa \n",
      "Nilai Precision = 0.0\n",
      "Nilai Recall = 0.0\n",
      "Nilai F1 = 0.0\n",
      "Di test dapat performa\n",
      "Nilai Precision = 0.0\n",
      "Nilai Recall = 0.0\n",
      "Nilai F1 = 0.0\n",
      "########\n",
      "MLP\n"
     ]
    },
    {
     "name": "stderr",
     "output_type": "stream",
     "text": [
      "/tmp/ipykernel_1016/527456267.py:69: SettingWithCopyWarning: \n",
      "A value is trying to be set on a copy of a slice from a DataFrame.\n",
      "Try using .loc[row_indexer,col_indexer] = value instead\n",
      "\n",
      "See the caveats in the documentation: https://pandas.pydata.org/pandas-docs/stable/user_guide/indexing.html#returning-a-view-versus-a-copy\n",
      "  df['label'] = y_pred_test\n",
      "/opt/conda/lib/python3.8/site-packages/sklearn/metrics/_classification.py:1344: UndefinedMetricWarning: Precision and F-score are ill-defined and being set to 0.0 due to no predicted samples. Use `zero_division` parameter to control this behavior.\n",
      "  _warn_prf(average, modifier, msg_start, len(result))\n",
      "/opt/conda/lib/python3.8/site-packages/sklearn/metrics/_classification.py:1344: UndefinedMetricWarning: Precision and F-score are ill-defined and being set to 0.0 due to no predicted samples. Use `zero_division` parameter to control this behavior.\n",
      "  _warn_prf(average, modifier, msg_start, len(result))\n",
      "/tmp/ipykernel_1016/527456267.py:91: SettingWithCopyWarning: \n",
      "A value is trying to be set on a copy of a slice from a DataFrame.\n",
      "Try using .loc[row_indexer,col_indexer] = value instead\n",
      "\n",
      "See the caveats in the documentation: https://pandas.pydata.org/pandas-docs/stable/user_guide/indexing.html#returning-a-view-versus-a-copy\n",
      "  df['label'] = y_pred_test\n"
     ]
    },
    {
     "name": "stdout",
     "output_type": "stream",
     "text": [
      "Di train dapat performa \n",
      "Nilai Precision = 0.6666666666666666\n",
      "Nilai Recall = 0.021052631578947368\n",
      "Nilai F1 = 0.04081632653061225\n",
      "Di test dapat performa\n",
      "Nilai Precision = 0.0\n",
      "Nilai Recall = 0.0\n",
      "Nilai F1 = 0.0\n",
      "########\n",
      "/workspace/dataset/erupsi\n",
      "Rata-rata nilai test dengan Classifier xgb, rf, dan mlp adalah\n",
      "Precision = 0.32264957264957267\n",
      "Recall = 0.1176470588235294\n",
      "F1 = 0.17237126117792168\n",
      "\n",
      "\n",
      "/workspace/dataset\n",
      "Eksperimen pada bencana erupsi dengan representasi teks text_ori\n"
     ]
    },
    {
     "name": "stderr",
     "output_type": "stream",
     "text": [
      "/opt/conda/lib/python3.8/site-packages/sklearn/metrics/_classification.py:1344: UndefinedMetricWarning: Precision and F-score are ill-defined and being set to 0.0 due to no predicted samples. Use `zero_division` parameter to control this behavior.\n",
      "  _warn_prf(average, modifier, msg_start, len(result))\n",
      "/tmp/ipykernel_1016/527456267.py:113: SettingWithCopyWarning: \n",
      "A value is trying to be set on a copy of a slice from a DataFrame.\n",
      "Try using .loc[row_indexer,col_indexer] = value instead\n",
      "\n",
      "See the caveats in the documentation: https://pandas.pydata.org/pandas-docs/stable/user_guide/indexing.html#returning-a-view-versus-a-copy\n",
      "  df['label'] = y_pred_test\n"
     ]
    },
    {
     "name": "stdout",
     "output_type": "stream",
     "text": [
      "XGBOOST\n",
      "Di train dapat performa \n",
      "Nilai Precision = 1.0\n",
      "Nilai Recall = 0.9473684210526315\n",
      "Nilai F1 = 0.972972972972973\n",
      "Di test dapat performa\n",
      "Nilai Precision = 1.0\n",
      "Nilai Recall = 0.20588235294117646\n",
      "Nilai F1 = 0.34146341463414637\n",
      "########\n",
      "RANDOM FOREST\n"
     ]
    },
    {
     "name": "stderr",
     "output_type": "stream",
     "text": [
      "/tmp/ipykernel_1016/527456267.py:50: SettingWithCopyWarning: \n",
      "A value is trying to be set on a copy of a slice from a DataFrame.\n",
      "Try using .loc[row_indexer,col_indexer] = value instead\n",
      "\n",
      "See the caveats in the documentation: https://pandas.pydata.org/pandas-docs/stable/user_guide/indexing.html#returning-a-view-versus-a-copy\n",
      "  df['label'] = y_pred_test\n"
     ]
    },
    {
     "name": "stdout",
     "output_type": "stream",
     "text": [
      "Di train dapat performa \n",
      "Nilai Precision = 1.0\n",
      "Nilai Recall = 1.0\n",
      "Nilai F1 = 1.0\n",
      "Di test dapat performa\n",
      "Nilai Precision = 1.0\n",
      "Nilai Recall = 0.17647058823529413\n",
      "Nilai F1 = 0.3\n",
      "########\n",
      "LOGISTIK REGRESSION\n",
      "Di train dapat performa \n",
      "Nilai Precision = 0.0\n",
      "Nilai Recall = 0.0\n",
      "Nilai F1 = 0.0\n",
      "Di test dapat performa\n",
      "Nilai Precision = 0.0\n",
      "Nilai Recall = 0.0\n",
      "Nilai F1 = 0.0\n",
      "########\n",
      "MLP\n"
     ]
    },
    {
     "name": "stderr",
     "output_type": "stream",
     "text": [
      "/tmp/ipykernel_1016/527456267.py:69: SettingWithCopyWarning: \n",
      "A value is trying to be set on a copy of a slice from a DataFrame.\n",
      "Try using .loc[row_indexer,col_indexer] = value instead\n",
      "\n",
      "See the caveats in the documentation: https://pandas.pydata.org/pandas-docs/stable/user_guide/indexing.html#returning-a-view-versus-a-copy\n",
      "  df['label'] = y_pred_test\n",
      "/opt/conda/lib/python3.8/site-packages/sklearn/metrics/_classification.py:1344: UndefinedMetricWarning: Precision and F-score are ill-defined and being set to 0.0 due to no predicted samples. Use `zero_division` parameter to control this behavior.\n",
      "  _warn_prf(average, modifier, msg_start, len(result))\n",
      "/opt/conda/lib/python3.8/site-packages/sklearn/metrics/_classification.py:1344: UndefinedMetricWarning: Precision and F-score are ill-defined and being set to 0.0 due to no predicted samples. Use `zero_division` parameter to control this behavior.\n",
      "  _warn_prf(average, modifier, msg_start, len(result))\n",
      "/tmp/ipykernel_1016/527456267.py:91: SettingWithCopyWarning: \n",
      "A value is trying to be set on a copy of a slice from a DataFrame.\n",
      "Try using .loc[row_indexer,col_indexer] = value instead\n",
      "\n",
      "See the caveats in the documentation: https://pandas.pydata.org/pandas-docs/stable/user_guide/indexing.html#returning-a-view-versus-a-copy\n",
      "  df['label'] = y_pred_test\n"
     ]
    },
    {
     "name": "stdout",
     "output_type": "stream",
     "text": [
      "Di train dapat performa \n",
      "Nilai Precision = 0.0\n",
      "Nilai Recall = 0.0\n",
      "Nilai F1 = 0.0\n",
      "Di test dapat performa\n",
      "Nilai Precision = 0.0\n",
      "Nilai Recall = 0.0\n",
      "Nilai F1 = 0.0\n",
      "########\n",
      "/workspace/dataset/erupsi\n",
      "Rata-rata nilai test dengan Classifier xgb, rf, dan mlp adalah\n",
      "Precision = 0.6666666666666666\n",
      "Recall = 0.12745098039215685\n",
      "F1 = 0.21382113821138213\n",
      "\n",
      "\n",
      "/workspace/dataset\n",
      "Eksperimen pada bencana erupsi dengan representasi teks tc_ori\n"
     ]
    },
    {
     "name": "stderr",
     "output_type": "stream",
     "text": [
      "/opt/conda/lib/python3.8/site-packages/sklearn/metrics/_classification.py:1344: UndefinedMetricWarning: Precision and F-score are ill-defined and being set to 0.0 due to no predicted samples. Use `zero_division` parameter to control this behavior.\n",
      "  _warn_prf(average, modifier, msg_start, len(result))\n",
      "/opt/conda/lib/python3.8/site-packages/sklearn/metrics/_classification.py:1344: UndefinedMetricWarning: Precision and F-score are ill-defined and being set to 0.0 due to no predicted samples. Use `zero_division` parameter to control this behavior.\n",
      "  _warn_prf(average, modifier, msg_start, len(result))\n",
      "/tmp/ipykernel_1016/527456267.py:113: SettingWithCopyWarning: \n",
      "A value is trying to be set on a copy of a slice from a DataFrame.\n",
      "Try using .loc[row_indexer,col_indexer] = value instead\n",
      "\n",
      "See the caveats in the documentation: https://pandas.pydata.org/pandas-docs/stable/user_guide/indexing.html#returning-a-view-versus-a-copy\n",
      "  df['label'] = y_pred_test\n"
     ]
    },
    {
     "name": "stdout",
     "output_type": "stream",
     "text": [
      "XGBOOST\n",
      "Di train dapat performa \n",
      "Nilai Precision = 1.0\n",
      "Nilai Recall = 0.9473684210526315\n",
      "Nilai F1 = 0.972972972972973\n",
      "Di test dapat performa\n",
      "Nilai Precision = 0.8888888888888888\n",
      "Nilai Recall = 0.23529411764705882\n",
      "Nilai F1 = 0.3720930232558139\n",
      "########\n",
      "RANDOM FOREST\n"
     ]
    },
    {
     "name": "stderr",
     "output_type": "stream",
     "text": [
      "/tmp/ipykernel_1016/527456267.py:50: SettingWithCopyWarning: \n",
      "A value is trying to be set on a copy of a slice from a DataFrame.\n",
      "Try using .loc[row_indexer,col_indexer] = value instead\n",
      "\n",
      "See the caveats in the documentation: https://pandas.pydata.org/pandas-docs/stable/user_guide/indexing.html#returning-a-view-versus-a-copy\n",
      "  df['label'] = y_pred_test\n"
     ]
    },
    {
     "name": "stdout",
     "output_type": "stream",
     "text": [
      "Di train dapat performa \n",
      "Nilai Precision = 1.0\n",
      "Nilai Recall = 1.0\n",
      "Nilai F1 = 1.0\n",
      "Di test dapat performa\n",
      "Nilai Precision = 1.0\n",
      "Nilai Recall = 0.08823529411764706\n",
      "Nilai F1 = 0.1621621621621622\n",
      "########\n",
      "LOGISTIK REGRESSION\n"
     ]
    },
    {
     "name": "stderr",
     "output_type": "stream",
     "text": [
      "/tmp/ipykernel_1016/527456267.py:69: SettingWithCopyWarning: \n",
      "A value is trying to be set on a copy of a slice from a DataFrame.\n",
      "Try using .loc[row_indexer,col_indexer] = value instead\n",
      "\n",
      "See the caveats in the documentation: https://pandas.pydata.org/pandas-docs/stable/user_guide/indexing.html#returning-a-view-versus-a-copy\n",
      "  df['label'] = y_pred_test\n"
     ]
    },
    {
     "name": "stdout",
     "output_type": "stream",
     "text": [
      "Di train dapat performa \n",
      "Nilai Precision = 0.0\n",
      "Nilai Recall = 0.0\n",
      "Nilai F1 = 0.0\n",
      "Di test dapat performa\n",
      "Nilai Precision = 0.0\n",
      "Nilai Recall = 0.0\n",
      "Nilai F1 = 0.0\n",
      "########\n",
      "MLP\n"
     ]
    },
    {
     "name": "stderr",
     "output_type": "stream",
     "text": [
      "/opt/conda/lib/python3.8/site-packages/sklearn/metrics/_classification.py:1344: UndefinedMetricWarning: Precision and F-score are ill-defined and being set to 0.0 due to no predicted samples. Use `zero_division` parameter to control this behavior.\n",
      "  _warn_prf(average, modifier, msg_start, len(result))\n",
      "/opt/conda/lib/python3.8/site-packages/sklearn/metrics/_classification.py:1344: UndefinedMetricWarning: Precision and F-score are ill-defined and being set to 0.0 due to no predicted samples. Use `zero_division` parameter to control this behavior.\n",
      "  _warn_prf(average, modifier, msg_start, len(result))\n",
      "/tmp/ipykernel_1016/527456267.py:91: SettingWithCopyWarning: \n",
      "A value is trying to be set on a copy of a slice from a DataFrame.\n",
      "Try using .loc[row_indexer,col_indexer] = value instead\n",
      "\n",
      "See the caveats in the documentation: https://pandas.pydata.org/pandas-docs/stable/user_guide/indexing.html#returning-a-view-versus-a-copy\n",
      "  df['label'] = y_pred_test\n"
     ]
    },
    {
     "name": "stdout",
     "output_type": "stream",
     "text": [
      "Di train dapat performa \n",
      "Nilai Precision = 0.0\n",
      "Nilai Recall = 0.0\n",
      "Nilai F1 = 0.0\n",
      "Di test dapat performa\n",
      "Nilai Precision = 0.0\n",
      "Nilai Recall = 0.0\n",
      "Nilai F1 = 0.0\n",
      "########\n",
      "/workspace/dataset/erupsi\n",
      "Rata-rata nilai test dengan Classifier xgb, rf, dan mlp adalah\n",
      "Precision = 0.6296296296296297\n",
      "Recall = 0.10784313725490197\n",
      "F1 = 0.17808506180599204\n",
      "\n",
      "\n",
      "/workspace/dataset\n",
      "Eksperimen pada bencana erupsi dengan representasi teks filter_word_tc\n"
     ]
    },
    {
     "name": "stderr",
     "output_type": "stream",
     "text": [
      "/opt/conda/lib/python3.8/site-packages/sklearn/metrics/_classification.py:1344: UndefinedMetricWarning: Precision and F-score are ill-defined and being set to 0.0 due to no predicted samples. Use `zero_division` parameter to control this behavior.\n",
      "  _warn_prf(average, modifier, msg_start, len(result))\n",
      "/opt/conda/lib/python3.8/site-packages/sklearn/metrics/_classification.py:1344: UndefinedMetricWarning: Precision and F-score are ill-defined and being set to 0.0 due to no predicted samples. Use `zero_division` parameter to control this behavior.\n",
      "  _warn_prf(average, modifier, msg_start, len(result))\n",
      "/tmp/ipykernel_1016/527456267.py:113: SettingWithCopyWarning: \n",
      "A value is trying to be set on a copy of a slice from a DataFrame.\n",
      "Try using .loc[row_indexer,col_indexer] = value instead\n",
      "\n",
      "See the caveats in the documentation: https://pandas.pydata.org/pandas-docs/stable/user_guide/indexing.html#returning-a-view-versus-a-copy\n",
      "  df['label'] = y_pred_test\n"
     ]
    },
    {
     "name": "stdout",
     "output_type": "stream",
     "text": [
      "XGBOOST\n",
      "Di train dapat performa \n",
      "Nilai Precision = 1.0\n",
      "Nilai Recall = 0.9052631578947369\n",
      "Nilai F1 = 0.9502762430939227\n",
      "Di test dapat performa\n",
      "Nilai Precision = 1.0\n",
      "Nilai Recall = 0.029411764705882353\n",
      "Nilai F1 = 0.05714285714285715\n",
      "########\n",
      "RANDOM FOREST\n"
     ]
    },
    {
     "name": "stderr",
     "output_type": "stream",
     "text": [
      "/tmp/ipykernel_1016/527456267.py:50: SettingWithCopyWarning: \n",
      "A value is trying to be set on a copy of a slice from a DataFrame.\n",
      "Try using .loc[row_indexer,col_indexer] = value instead\n",
      "\n",
      "See the caveats in the documentation: https://pandas.pydata.org/pandas-docs/stable/user_guide/indexing.html#returning-a-view-versus-a-copy\n",
      "  df['label'] = y_pred_test\n"
     ]
    },
    {
     "name": "stdout",
     "output_type": "stream",
     "text": [
      "Di train dapat performa \n",
      "Nilai Precision = 1.0\n",
      "Nilai Recall = 1.0\n",
      "Nilai F1 = 1.0\n",
      "Di test dapat performa\n",
      "Nilai Precision = 0.0\n",
      "Nilai Recall = 0.0\n",
      "Nilai F1 = 0.0\n",
      "########\n",
      "LOGISTIK REGRESSION\n",
      "Di train dapat performa \n",
      "Nilai Precision = 0.0\n",
      "Nilai Recall = 0.0\n",
      "Nilai F1 = 0.0\n",
      "Di test dapat performa\n",
      "Nilai Precision = 0.0\n",
      "Nilai Recall = 0.0\n",
      "Nilai F1 = 0.0\n",
      "########\n",
      "MLP\n"
     ]
    },
    {
     "name": "stderr",
     "output_type": "stream",
     "text": [
      "/opt/conda/lib/python3.8/site-packages/sklearn/metrics/_classification.py:1344: UndefinedMetricWarning: Precision and F-score are ill-defined and being set to 0.0 due to no predicted samples. Use `zero_division` parameter to control this behavior.\n",
      "  _warn_prf(average, modifier, msg_start, len(result))\n",
      "/tmp/ipykernel_1016/527456267.py:69: SettingWithCopyWarning: \n",
      "A value is trying to be set on a copy of a slice from a DataFrame.\n",
      "Try using .loc[row_indexer,col_indexer] = value instead\n",
      "\n",
      "See the caveats in the documentation: https://pandas.pydata.org/pandas-docs/stable/user_guide/indexing.html#returning-a-view-versus-a-copy\n",
      "  df['label'] = y_pred_test\n",
      "/opt/conda/lib/python3.8/site-packages/sklearn/metrics/_classification.py:1344: UndefinedMetricWarning: Precision and F-score are ill-defined and being set to 0.0 due to no predicted samples. Use `zero_division` parameter to control this behavior.\n",
      "  _warn_prf(average, modifier, msg_start, len(result))\n",
      "/opt/conda/lib/python3.8/site-packages/sklearn/metrics/_classification.py:1344: UndefinedMetricWarning: Precision and F-score are ill-defined and being set to 0.0 due to no predicted samples. Use `zero_division` parameter to control this behavior.\n",
      "  _warn_prf(average, modifier, msg_start, len(result))\n",
      "/tmp/ipykernel_1016/527456267.py:91: SettingWithCopyWarning: \n",
      "A value is trying to be set on a copy of a slice from a DataFrame.\n",
      "Try using .loc[row_indexer,col_indexer] = value instead\n",
      "\n",
      "See the caveats in the documentation: https://pandas.pydata.org/pandas-docs/stable/user_guide/indexing.html#returning-a-view-versus-a-copy\n",
      "  df['label'] = y_pred_test\n",
      "/opt/conda/lib/python3.8/site-packages/sklearn/neural_network/_multilayer_perceptron.py:686: ConvergenceWarning: Stochastic Optimizer: Maximum iterations (300) reached and the optimization hasn't converged yet.\n",
      "  warnings.warn(\n"
     ]
    },
    {
     "name": "stdout",
     "output_type": "stream",
     "text": [
      "Di train dapat performa \n",
      "Nilai Precision = 0.0\n",
      "Nilai Recall = 0.0\n",
      "Nilai F1 = 0.0\n",
      "Di test dapat performa\n",
      "Nilai Precision = 0.0\n",
      "Nilai Recall = 0.0\n",
      "Nilai F1 = 0.0\n",
      "########\n",
      "/workspace/dataset/erupsi\n",
      "Rata-rata nilai test dengan Classifier xgb, rf, dan mlp adalah\n",
      "Precision = 0.3333333333333333\n",
      "Recall = 0.00980392156862745\n",
      "F1 = 0.01904761904761905\n",
      "\n",
      "\n",
      "/workspace/dataset\n",
      "Eksperimen pada bencana erupsi dengan representasi teks filter_word_tc_window\n"
     ]
    },
    {
     "name": "stderr",
     "output_type": "stream",
     "text": [
      "/opt/conda/lib/python3.8/site-packages/sklearn/metrics/_classification.py:1344: UndefinedMetricWarning: Precision and F-score are ill-defined and being set to 0.0 due to no predicted samples. Use `zero_division` parameter to control this behavior.\n",
      "  _warn_prf(average, modifier, msg_start, len(result))\n",
      "/opt/conda/lib/python3.8/site-packages/sklearn/metrics/_classification.py:1344: UndefinedMetricWarning: Precision and F-score are ill-defined and being set to 0.0 due to no predicted samples. Use `zero_division` parameter to control this behavior.\n",
      "  _warn_prf(average, modifier, msg_start, len(result))\n",
      "/tmp/ipykernel_1016/527456267.py:113: SettingWithCopyWarning: \n",
      "A value is trying to be set on a copy of a slice from a DataFrame.\n",
      "Try using .loc[row_indexer,col_indexer] = value instead\n",
      "\n",
      "See the caveats in the documentation: https://pandas.pydata.org/pandas-docs/stable/user_guide/indexing.html#returning-a-view-versus-a-copy\n",
      "  df['label'] = y_pred_test\n"
     ]
    },
    {
     "name": "stdout",
     "output_type": "stream",
     "text": [
      "XGBOOST\n",
      "Di train dapat performa \n",
      "Nilai Precision = 1.0\n",
      "Nilai Recall = 0.968421052631579\n",
      "Nilai F1 = 0.983957219251337\n",
      "Di test dapat performa\n",
      "Nilai Precision = 0.0\n",
      "Nilai Recall = 0.0\n",
      "Nilai F1 = 0.0\n",
      "########\n",
      "RANDOM FOREST\n"
     ]
    },
    {
     "name": "stderr",
     "output_type": "stream",
     "text": [
      "/opt/conda/lib/python3.8/site-packages/sklearn/metrics/_classification.py:1344: UndefinedMetricWarning: Precision and F-score are ill-defined and being set to 0.0 due to no predicted samples. Use `zero_division` parameter to control this behavior.\n",
      "  _warn_prf(average, modifier, msg_start, len(result))\n",
      "/tmp/ipykernel_1016/527456267.py:50: SettingWithCopyWarning: \n",
      "A value is trying to be set on a copy of a slice from a DataFrame.\n",
      "Try using .loc[row_indexer,col_indexer] = value instead\n",
      "\n",
      "See the caveats in the documentation: https://pandas.pydata.org/pandas-docs/stable/user_guide/indexing.html#returning-a-view-versus-a-copy\n",
      "  df['label'] = y_pred_test\n"
     ]
    },
    {
     "name": "stdout",
     "output_type": "stream",
     "text": [
      "Di train dapat performa \n",
      "Nilai Precision = 1.0\n",
      "Nilai Recall = 1.0\n",
      "Nilai F1 = 1.0\n",
      "Di test dapat performa\n",
      "Nilai Precision = 0.5\n",
      "Nilai Recall = 0.058823529411764705\n",
      "Nilai F1 = 0.10526315789473684\n",
      "########\n",
      "LOGISTIK REGRESSION\n"
     ]
    },
    {
     "name": "stderr",
     "output_type": "stream",
     "text": [
      "/tmp/ipykernel_1016/527456267.py:69: SettingWithCopyWarning: \n",
      "A value is trying to be set on a copy of a slice from a DataFrame.\n",
      "Try using .loc[row_indexer,col_indexer] = value instead\n",
      "\n",
      "See the caveats in the documentation: https://pandas.pydata.org/pandas-docs/stable/user_guide/indexing.html#returning-a-view-versus-a-copy\n",
      "  df['label'] = y_pred_test\n"
     ]
    },
    {
     "name": "stdout",
     "output_type": "stream",
     "text": [
      "Di train dapat performa \n",
      "Nilai Precision = 0.0\n",
      "Nilai Recall = 0.0\n",
      "Nilai F1 = 0.0\n",
      "Di test dapat performa\n",
      "Nilai Precision = 0.0\n",
      "Nilai Recall = 0.0\n",
      "Nilai F1 = 0.0\n",
      "########\n",
      "MLP\n"
     ]
    },
    {
     "name": "stderr",
     "output_type": "stream",
     "text": [
      "/opt/conda/lib/python3.8/site-packages/sklearn/metrics/_classification.py:1344: UndefinedMetricWarning: Precision and F-score are ill-defined and being set to 0.0 due to no predicted samples. Use `zero_division` parameter to control this behavior.\n",
      "  _warn_prf(average, modifier, msg_start, len(result))\n",
      "/opt/conda/lib/python3.8/site-packages/sklearn/metrics/_classification.py:1344: UndefinedMetricWarning: Precision and F-score are ill-defined and being set to 0.0 due to no predicted samples. Use `zero_division` parameter to control this behavior.\n",
      "  _warn_prf(average, modifier, msg_start, len(result))\n",
      "/tmp/ipykernel_1016/527456267.py:91: SettingWithCopyWarning: \n",
      "A value is trying to be set on a copy of a slice from a DataFrame.\n",
      "Try using .loc[row_indexer,col_indexer] = value instead\n",
      "\n",
      "See the caveats in the documentation: https://pandas.pydata.org/pandas-docs/stable/user_guide/indexing.html#returning-a-view-versus-a-copy\n",
      "  df['label'] = y_pred_test\n",
      "/opt/conda/lib/python3.8/site-packages/sklearn/neural_network/_multilayer_perceptron.py:686: ConvergenceWarning: Stochastic Optimizer: Maximum iterations (300) reached and the optimization hasn't converged yet.\n",
      "  warnings.warn(\n"
     ]
    },
    {
     "name": "stdout",
     "output_type": "stream",
     "text": [
      "Di train dapat performa \n",
      "Nilai Precision = 0.0\n",
      "Nilai Recall = 0.0\n",
      "Nilai F1 = 0.0\n",
      "Di test dapat performa\n",
      "Nilai Precision = 0.0\n",
      "Nilai Recall = 0.0\n",
      "Nilai F1 = 0.0\n",
      "########\n",
      "/workspace/dataset/erupsi\n",
      "Rata-rata nilai test dengan Classifier xgb, rf, dan mlp adalah\n",
      "Precision = 0.16666666666666666\n",
      "Recall = 0.0196078431372549\n",
      "F1 = 0.03508771929824561\n",
      "\n",
      "\n",
      "/workspace/dataset\n",
      "Eksperimen pada bencana erupsi dengan representasi teks trunc_first_short\n"
     ]
    },
    {
     "name": "stderr",
     "output_type": "stream",
     "text": [
      "/opt/conda/lib/python3.8/site-packages/sklearn/metrics/_classification.py:1344: UndefinedMetricWarning: Precision and F-score are ill-defined and being set to 0.0 due to no predicted samples. Use `zero_division` parameter to control this behavior.\n",
      "  _warn_prf(average, modifier, msg_start, len(result))\n",
      "/opt/conda/lib/python3.8/site-packages/sklearn/metrics/_classification.py:1344: UndefinedMetricWarning: Precision and F-score are ill-defined and being set to 0.0 due to no predicted samples. Use `zero_division` parameter to control this behavior.\n",
      "  _warn_prf(average, modifier, msg_start, len(result))\n",
      "/tmp/ipykernel_1016/527456267.py:113: SettingWithCopyWarning: \n",
      "A value is trying to be set on a copy of a slice from a DataFrame.\n",
      "Try using .loc[row_indexer,col_indexer] = value instead\n",
      "\n",
      "See the caveats in the documentation: https://pandas.pydata.org/pandas-docs/stable/user_guide/indexing.html#returning-a-view-versus-a-copy\n",
      "  df['label'] = y_pred_test\n"
     ]
    },
    {
     "name": "stdout",
     "output_type": "stream",
     "text": [
      "XGBOOST\n",
      "Di train dapat performa \n",
      "Nilai Precision = 1.0\n",
      "Nilai Recall = 0.9368421052631579\n",
      "Nilai F1 = 0.967391304347826\n",
      "Di test dapat performa\n",
      "Nilai Precision = 0.8\n",
      "Nilai Recall = 0.11764705882352941\n",
      "Nilai F1 = 0.20512820512820512\n",
      "########\n",
      "RANDOM FOREST\n"
     ]
    },
    {
     "name": "stderr",
     "output_type": "stream",
     "text": [
      "/tmp/ipykernel_1016/527456267.py:50: SettingWithCopyWarning: \n",
      "A value is trying to be set on a copy of a slice from a DataFrame.\n",
      "Try using .loc[row_indexer,col_indexer] = value instead\n",
      "\n",
      "See the caveats in the documentation: https://pandas.pydata.org/pandas-docs/stable/user_guide/indexing.html#returning-a-view-versus-a-copy\n",
      "  df['label'] = y_pred_test\n"
     ]
    },
    {
     "name": "stdout",
     "output_type": "stream",
     "text": [
      "Di train dapat performa \n",
      "Nilai Precision = 1.0\n",
      "Nilai Recall = 1.0\n",
      "Nilai F1 = 1.0\n",
      "Di test dapat performa\n",
      "Nilai Precision = 0.0\n",
      "Nilai Recall = 0.0\n",
      "Nilai F1 = 0.0\n",
      "########\n",
      "LOGISTIK REGRESSION\n"
     ]
    },
    {
     "name": "stderr",
     "output_type": "stream",
     "text": [
      "/opt/conda/lib/python3.8/site-packages/sklearn/metrics/_classification.py:1344: UndefinedMetricWarning: Precision and F-score are ill-defined and being set to 0.0 due to no predicted samples. Use `zero_division` parameter to control this behavior.\n",
      "  _warn_prf(average, modifier, msg_start, len(result))\n",
      "/tmp/ipykernel_1016/527456267.py:69: SettingWithCopyWarning: \n",
      "A value is trying to be set on a copy of a slice from a DataFrame.\n",
      "Try using .loc[row_indexer,col_indexer] = value instead\n",
      "\n",
      "See the caveats in the documentation: https://pandas.pydata.org/pandas-docs/stable/user_guide/indexing.html#returning-a-view-versus-a-copy\n",
      "  df['label'] = y_pred_test\n"
     ]
    },
    {
     "name": "stdout",
     "output_type": "stream",
     "text": [
      "Di train dapat performa \n",
      "Nilai Precision = 0.0\n",
      "Nilai Recall = 0.0\n",
      "Nilai F1 = 0.0\n",
      "Di test dapat performa\n",
      "Nilai Precision = 0.0\n",
      "Nilai Recall = 0.0\n",
      "Nilai F1 = 0.0\n",
      "########\n",
      "MLP\n"
     ]
    },
    {
     "name": "stderr",
     "output_type": "stream",
     "text": [
      "/opt/conda/lib/python3.8/site-packages/sklearn/metrics/_classification.py:1344: UndefinedMetricWarning: Precision and F-score are ill-defined and being set to 0.0 due to no predicted samples. Use `zero_division` parameter to control this behavior.\n",
      "  _warn_prf(average, modifier, msg_start, len(result))\n",
      "/opt/conda/lib/python3.8/site-packages/sklearn/metrics/_classification.py:1344: UndefinedMetricWarning: Precision and F-score are ill-defined and being set to 0.0 due to no predicted samples. Use `zero_division` parameter to control this behavior.\n",
      "  _warn_prf(average, modifier, msg_start, len(result))\n",
      "/tmp/ipykernel_1016/527456267.py:91: SettingWithCopyWarning: \n",
      "A value is trying to be set on a copy of a slice from a DataFrame.\n",
      "Try using .loc[row_indexer,col_indexer] = value instead\n",
      "\n",
      "See the caveats in the documentation: https://pandas.pydata.org/pandas-docs/stable/user_guide/indexing.html#returning-a-view-versus-a-copy\n",
      "  df['label'] = y_pred_test\n",
      "/opt/conda/lib/python3.8/site-packages/sklearn/neural_network/_multilayer_perceptron.py:686: ConvergenceWarning: Stochastic Optimizer: Maximum iterations (300) reached and the optimization hasn't converged yet.\n",
      "  warnings.warn(\n"
     ]
    },
    {
     "name": "stdout",
     "output_type": "stream",
     "text": [
      "Di train dapat performa \n",
      "Nilai Precision = 1.0\n",
      "Nilai Recall = 0.010526315789473684\n",
      "Nilai F1 = 0.020833333333333332\n",
      "Di test dapat performa\n",
      "Nilai Precision = 0.0\n",
      "Nilai Recall = 0.0\n",
      "Nilai F1 = 0.0\n",
      "########\n",
      "/workspace/dataset/erupsi\n",
      "Rata-rata nilai test dengan Classifier xgb, rf, dan mlp adalah\n",
      "Precision = 0.26666666666666666\n",
      "Recall = 0.0392156862745098\n",
      "F1 = 0.06837606837606837\n",
      "\n",
      "\n"
     ]
    },
    {
     "name": "stderr",
     "output_type": "stream",
     "text": [
      "/opt/conda/lib/python3.8/site-packages/sklearn/metrics/_classification.py:1344: UndefinedMetricWarning: Precision and F-score are ill-defined and being set to 0.0 due to no predicted samples. Use `zero_division` parameter to control this behavior.\n",
      "  _warn_prf(average, modifier, msg_start, len(result))\n",
      "/tmp/ipykernel_1016/527456267.py:113: SettingWithCopyWarning: \n",
      "A value is trying to be set on a copy of a slice from a DataFrame.\n",
      "Try using .loc[row_indexer,col_indexer] = value instead\n",
      "\n",
      "See the caveats in the documentation: https://pandas.pydata.org/pandas-docs/stable/user_guide/indexing.html#returning-a-view-versus-a-copy\n",
      "  df['label'] = y_pred_test\n"
     ]
    },
    {
     "name": "stdout",
     "output_type": "stream",
     "text": [
      "/workspace/dataset\n",
      "Eksperimen pada bencana erupsi dengan representasi teks trunc_last_short\n",
      "XGBOOST\n",
      "Di train dapat performa \n",
      "Nilai Precision = 1.0\n",
      "Nilai Recall = 0.8631578947368421\n",
      "Nilai F1 = 0.9265536723163842\n",
      "Di test dapat performa\n",
      "Nilai Precision = 0.42857142857142855\n",
      "Nilai Recall = 0.08823529411764706\n",
      "Nilai F1 = 0.14634146341463417\n",
      "########\n",
      "RANDOM FOREST\n"
     ]
    },
    {
     "name": "stderr",
     "output_type": "stream",
     "text": [
      "/tmp/ipykernel_1016/527456267.py:50: SettingWithCopyWarning: \n",
      "A value is trying to be set on a copy of a slice from a DataFrame.\n",
      "Try using .loc[row_indexer,col_indexer] = value instead\n",
      "\n",
      "See the caveats in the documentation: https://pandas.pydata.org/pandas-docs/stable/user_guide/indexing.html#returning-a-view-versus-a-copy\n",
      "  df['label'] = y_pred_test\n"
     ]
    },
    {
     "name": "stdout",
     "output_type": "stream",
     "text": [
      "Di train dapat performa \n",
      "Nilai Precision = 1.0\n",
      "Nilai Recall = 1.0\n",
      "Nilai F1 = 1.0\n",
      "Di test dapat performa\n",
      "Nilai Precision = 0.0\n",
      "Nilai Recall = 0.0\n",
      "Nilai F1 = 0.0\n",
      "########\n",
      "LOGISTIK REGRESSION\n",
      "Di train dapat performa \n",
      "Nilai Precision = 0.0\n",
      "Nilai Recall = 0.0\n",
      "Nilai F1 = 0.0\n",
      "Di test dapat performa\n",
      "Nilai Precision = 0.0\n",
      "Nilai Recall = 0.0\n",
      "Nilai F1 = 0.0\n",
      "########\n",
      "MLP\n"
     ]
    },
    {
     "name": "stderr",
     "output_type": "stream",
     "text": [
      "/opt/conda/lib/python3.8/site-packages/sklearn/metrics/_classification.py:1344: UndefinedMetricWarning: Precision and F-score are ill-defined and being set to 0.0 due to no predicted samples. Use `zero_division` parameter to control this behavior.\n",
      "  _warn_prf(average, modifier, msg_start, len(result))\n",
      "/tmp/ipykernel_1016/527456267.py:69: SettingWithCopyWarning: \n",
      "A value is trying to be set on a copy of a slice from a DataFrame.\n",
      "Try using .loc[row_indexer,col_indexer] = value instead\n",
      "\n",
      "See the caveats in the documentation: https://pandas.pydata.org/pandas-docs/stable/user_guide/indexing.html#returning-a-view-versus-a-copy\n",
      "  df['label'] = y_pred_test\n",
      "/opt/conda/lib/python3.8/site-packages/sklearn/metrics/_classification.py:1344: UndefinedMetricWarning: Precision and F-score are ill-defined and being set to 0.0 due to no predicted samples. Use `zero_division` parameter to control this behavior.\n",
      "  _warn_prf(average, modifier, msg_start, len(result))\n",
      "/opt/conda/lib/python3.8/site-packages/sklearn/metrics/_classification.py:1344: UndefinedMetricWarning: Precision and F-score are ill-defined and being set to 0.0 due to no predicted samples. Use `zero_division` parameter to control this behavior.\n",
      "  _warn_prf(average, modifier, msg_start, len(result))\n",
      "/tmp/ipykernel_1016/527456267.py:91: SettingWithCopyWarning: \n",
      "A value is trying to be set on a copy of a slice from a DataFrame.\n",
      "Try using .loc[row_indexer,col_indexer] = value instead\n",
      "\n",
      "See the caveats in the documentation: https://pandas.pydata.org/pandas-docs/stable/user_guide/indexing.html#returning-a-view-versus-a-copy\n",
      "  df['label'] = y_pred_test\n"
     ]
    },
    {
     "name": "stdout",
     "output_type": "stream",
     "text": [
      "Di train dapat performa \n",
      "Nilai Precision = 0.0\n",
      "Nilai Recall = 0.0\n",
      "Nilai F1 = 0.0\n",
      "Di test dapat performa\n",
      "Nilai Precision = 0.0\n",
      "Nilai Recall = 0.0\n",
      "Nilai F1 = 0.0\n",
      "########\n",
      "/workspace/dataset/erupsi\n",
      "Rata-rata nilai test dengan Classifier xgb, rf, dan mlp adalah\n",
      "Precision = 0.14285714285714285\n",
      "Recall = 0.029411764705882356\n",
      "F1 = 0.04878048780487806\n",
      "\n",
      "\n",
      "/workspace/dataset\n",
      "Eksperimen pada bencana erupsi dengan representasi teks trunc_first_long\n"
     ]
    },
    {
     "name": "stderr",
     "output_type": "stream",
     "text": [
      "/opt/conda/lib/python3.8/site-packages/sklearn/metrics/_classification.py:1344: UndefinedMetricWarning: Precision and F-score are ill-defined and being set to 0.0 due to no predicted samples. Use `zero_division` parameter to control this behavior.\n",
      "  _warn_prf(average, modifier, msg_start, len(result))\n",
      "/opt/conda/lib/python3.8/site-packages/sklearn/metrics/_classification.py:1344: UndefinedMetricWarning: Precision and F-score are ill-defined and being set to 0.0 due to no predicted samples. Use `zero_division` parameter to control this behavior.\n",
      "  _warn_prf(average, modifier, msg_start, len(result))\n",
      "/tmp/ipykernel_1016/527456267.py:113: SettingWithCopyWarning: \n",
      "A value is trying to be set on a copy of a slice from a DataFrame.\n",
      "Try using .loc[row_indexer,col_indexer] = value instead\n",
      "\n",
      "See the caveats in the documentation: https://pandas.pydata.org/pandas-docs/stable/user_guide/indexing.html#returning-a-view-versus-a-copy\n",
      "  df['label'] = y_pred_test\n"
     ]
    },
    {
     "name": "stdout",
     "output_type": "stream",
     "text": [
      "XGBOOST\n",
      "Di train dapat performa \n",
      "Nilai Precision = 1.0\n",
      "Nilai Recall = 0.968421052631579\n",
      "Nilai F1 = 0.983957219251337\n",
      "Di test dapat performa\n",
      "Nilai Precision = 0.8181818181818182\n",
      "Nilai Recall = 0.2647058823529412\n",
      "Nilai F1 = 0.39999999999999997\n",
      "########\n",
      "RANDOM FOREST\n"
     ]
    },
    {
     "name": "stderr",
     "output_type": "stream",
     "text": [
      "/tmp/ipykernel_1016/527456267.py:50: SettingWithCopyWarning: \n",
      "A value is trying to be set on a copy of a slice from a DataFrame.\n",
      "Try using .loc[row_indexer,col_indexer] = value instead\n",
      "\n",
      "See the caveats in the documentation: https://pandas.pydata.org/pandas-docs/stable/user_guide/indexing.html#returning-a-view-versus-a-copy\n",
      "  df['label'] = y_pred_test\n"
     ]
    },
    {
     "name": "stdout",
     "output_type": "stream",
     "text": [
      "Di train dapat performa \n",
      "Nilai Precision = 1.0\n",
      "Nilai Recall = 1.0\n",
      "Nilai F1 = 1.0\n",
      "Di test dapat performa\n",
      "Nilai Precision = 1.0\n",
      "Nilai Recall = 0.14705882352941177\n",
      "Nilai F1 = 0.25641025641025644\n",
      "########\n",
      "LOGISTIK REGRESSION\n"
     ]
    },
    {
     "name": "stderr",
     "output_type": "stream",
     "text": [
      "/tmp/ipykernel_1016/527456267.py:69: SettingWithCopyWarning: \n",
      "A value is trying to be set on a copy of a slice from a DataFrame.\n",
      "Try using .loc[row_indexer,col_indexer] = value instead\n",
      "\n",
      "See the caveats in the documentation: https://pandas.pydata.org/pandas-docs/stable/user_guide/indexing.html#returning-a-view-versus-a-copy\n",
      "  df['label'] = y_pred_test\n"
     ]
    },
    {
     "name": "stdout",
     "output_type": "stream",
     "text": [
      "Di train dapat performa \n",
      "Nilai Precision = 0.0\n",
      "Nilai Recall = 0.0\n",
      "Nilai F1 = 0.0\n",
      "Di test dapat performa\n",
      "Nilai Precision = 0.0\n",
      "Nilai Recall = 0.0\n",
      "Nilai F1 = 0.0\n",
      "########\n",
      "MLP\n"
     ]
    },
    {
     "name": "stderr",
     "output_type": "stream",
     "text": [
      "/opt/conda/lib/python3.8/site-packages/sklearn/metrics/_classification.py:1344: UndefinedMetricWarning: Precision and F-score are ill-defined and being set to 0.0 due to no predicted samples. Use `zero_division` parameter to control this behavior.\n",
      "  _warn_prf(average, modifier, msg_start, len(result))\n",
      "/opt/conda/lib/python3.8/site-packages/sklearn/metrics/_classification.py:1344: UndefinedMetricWarning: Precision and F-score are ill-defined and being set to 0.0 due to no predicted samples. Use `zero_division` parameter to control this behavior.\n",
      "  _warn_prf(average, modifier, msg_start, len(result))\n",
      "/tmp/ipykernel_1016/527456267.py:91: SettingWithCopyWarning: \n",
      "A value is trying to be set on a copy of a slice from a DataFrame.\n",
      "Try using .loc[row_indexer,col_indexer] = value instead\n",
      "\n",
      "See the caveats in the documentation: https://pandas.pydata.org/pandas-docs/stable/user_guide/indexing.html#returning-a-view-versus-a-copy\n",
      "  df['label'] = y_pred_test\n"
     ]
    },
    {
     "name": "stdout",
     "output_type": "stream",
     "text": [
      "Di train dapat performa \n",
      "Nilai Precision = 0.0\n",
      "Nilai Recall = 0.0\n",
      "Nilai F1 = 0.0\n",
      "Di test dapat performa\n",
      "Nilai Precision = 0.0\n",
      "Nilai Recall = 0.0\n",
      "Nilai F1 = 0.0\n"
     ]
    },
    {
     "name": "stderr",
     "output_type": "stream",
     "text": [
      "/opt/conda/lib/python3.8/site-packages/sklearn/metrics/_classification.py:1344: UndefinedMetricWarning: Precision and F-score are ill-defined and being set to 0.0 due to no predicted samples. Use `zero_division` parameter to control this behavior.\n",
      "  _warn_prf(average, modifier, msg_start, len(result))\n",
      "/opt/conda/lib/python3.8/site-packages/sklearn/metrics/_classification.py:1344: UndefinedMetricWarning: Precision and F-score are ill-defined and being set to 0.0 due to no predicted samples. Use `zero_division` parameter to control this behavior.\n",
      "  _warn_prf(average, modifier, msg_start, len(result))\n"
     ]
    },
    {
     "name": "stdout",
     "output_type": "stream",
     "text": [
      "########\n",
      "/workspace/dataset/erupsi\n",
      "Rata-rata nilai test dengan Classifier xgb, rf, dan mlp adalah\n",
      "Precision = 0.6060606060606061\n",
      "Recall = 0.1372549019607843\n",
      "F1 = 0.2188034188034188\n",
      "\n",
      "\n",
      "/workspace/dataset\n",
      "Eksperimen pada bencana erupsi dengan representasi teks trunc_last_long\n"
     ]
    },
    {
     "name": "stderr",
     "output_type": "stream",
     "text": [
      "/tmp/ipykernel_1016/527456267.py:113: SettingWithCopyWarning: \n",
      "A value is trying to be set on a copy of a slice from a DataFrame.\n",
      "Try using .loc[row_indexer,col_indexer] = value instead\n",
      "\n",
      "See the caveats in the documentation: https://pandas.pydata.org/pandas-docs/stable/user_guide/indexing.html#returning-a-view-versus-a-copy\n",
      "  df['label'] = y_pred_test\n"
     ]
    },
    {
     "name": "stdout",
     "output_type": "stream",
     "text": [
      "XGBOOST\n",
      "Di train dapat performa \n",
      "Nilai Precision = 1.0\n",
      "Nilai Recall = 0.8947368421052632\n",
      "Nilai F1 = 0.9444444444444444\n",
      "Di test dapat performa\n",
      "Nilai Precision = 0.45454545454545453\n",
      "Nilai Recall = 0.14705882352941177\n",
      "Nilai F1 = 0.22222222222222224\n",
      "########\n",
      "RANDOM FOREST\n"
     ]
    },
    {
     "name": "stderr",
     "output_type": "stream",
     "text": [
      "/tmp/ipykernel_1016/527456267.py:50: SettingWithCopyWarning: \n",
      "A value is trying to be set on a copy of a slice from a DataFrame.\n",
      "Try using .loc[row_indexer,col_indexer] = value instead\n",
      "\n",
      "See the caveats in the documentation: https://pandas.pydata.org/pandas-docs/stable/user_guide/indexing.html#returning-a-view-versus-a-copy\n",
      "  df['label'] = y_pred_test\n"
     ]
    },
    {
     "name": "stdout",
     "output_type": "stream",
     "text": [
      "Di train dapat performa \n",
      "Nilai Precision = 1.0\n",
      "Nilai Recall = 1.0\n",
      "Nilai F1 = 1.0\n",
      "Di test dapat performa\n",
      "Nilai Precision = 1.0\n",
      "Nilai Recall = 0.029411764705882353\n",
      "Nilai F1 = 0.05714285714285715\n",
      "########\n",
      "LOGISTIK REGRESSION\n"
     ]
    },
    {
     "name": "stderr",
     "output_type": "stream",
     "text": [
      "/tmp/ipykernel_1016/527456267.py:69: SettingWithCopyWarning: \n",
      "A value is trying to be set on a copy of a slice from a DataFrame.\n",
      "Try using .loc[row_indexer,col_indexer] = value instead\n",
      "\n",
      "See the caveats in the documentation: https://pandas.pydata.org/pandas-docs/stable/user_guide/indexing.html#returning-a-view-versus-a-copy\n",
      "  df['label'] = y_pred_test\n"
     ]
    },
    {
     "name": "stdout",
     "output_type": "stream",
     "text": [
      "Di train dapat performa \n",
      "Nilai Precision = 0.0\n",
      "Nilai Recall = 0.0\n",
      "Nilai F1 = 0.0\n",
      "Di test dapat performa\n",
      "Nilai Precision = 0.0\n",
      "Nilai Recall = 0.0\n",
      "Nilai F1 = 0.0\n",
      "########\n",
      "MLP\n"
     ]
    },
    {
     "name": "stderr",
     "output_type": "stream",
     "text": [
      "/opt/conda/lib/python3.8/site-packages/sklearn/metrics/_classification.py:1344: UndefinedMetricWarning: Precision and F-score are ill-defined and being set to 0.0 due to no predicted samples. Use `zero_division` parameter to control this behavior.\n",
      "  _warn_prf(average, modifier, msg_start, len(result))\n",
      "/opt/conda/lib/python3.8/site-packages/sklearn/metrics/_classification.py:1344: UndefinedMetricWarning: Precision and F-score are ill-defined and being set to 0.0 due to no predicted samples. Use `zero_division` parameter to control this behavior.\n",
      "  _warn_prf(average, modifier, msg_start, len(result))\n",
      "/tmp/ipykernel_1016/527456267.py:91: SettingWithCopyWarning: \n",
      "A value is trying to be set on a copy of a slice from a DataFrame.\n",
      "Try using .loc[row_indexer,col_indexer] = value instead\n",
      "\n",
      "See the caveats in the documentation: https://pandas.pydata.org/pandas-docs/stable/user_guide/indexing.html#returning-a-view-versus-a-copy\n",
      "  df['label'] = y_pred_test\n"
     ]
    },
    {
     "name": "stdout",
     "output_type": "stream",
     "text": [
      "Di train dapat performa \n",
      "Nilai Precision = 0.0\n",
      "Nilai Recall = 0.0\n",
      "Nilai F1 = 0.0\n",
      "Di test dapat performa\n",
      "Nilai Precision = 0.0\n",
      "Nilai Recall = 0.0\n",
      "Nilai F1 = 0.0\n",
      "########\n",
      "/workspace/dataset/erupsi\n",
      "Rata-rata nilai test dengan Classifier xgb, rf, dan mlp adalah\n",
      "Precision = 0.48484848484848486\n",
      "Recall = 0.05882352941176471\n",
      "F1 = 0.09312169312169312\n",
      "\n",
      "\n",
      "/workspace/dataset\n",
      "Eksperimen pada bencana erupsi dengan representasi teks trunc_combination\n"
     ]
    },
    {
     "name": "stderr",
     "output_type": "stream",
     "text": [
      "/opt/conda/lib/python3.8/site-packages/sklearn/metrics/_classification.py:1344: UndefinedMetricWarning: Precision and F-score are ill-defined and being set to 0.0 due to no predicted samples. Use `zero_division` parameter to control this behavior.\n",
      "  _warn_prf(average, modifier, msg_start, len(result))\n",
      "/opt/conda/lib/python3.8/site-packages/sklearn/metrics/_classification.py:1344: UndefinedMetricWarning: Precision and F-score are ill-defined and being set to 0.0 due to no predicted samples. Use `zero_division` parameter to control this behavior.\n",
      "  _warn_prf(average, modifier, msg_start, len(result))\n",
      "/tmp/ipykernel_1016/527456267.py:113: SettingWithCopyWarning: \n",
      "A value is trying to be set on a copy of a slice from a DataFrame.\n",
      "Try using .loc[row_indexer,col_indexer] = value instead\n",
      "\n",
      "See the caveats in the documentation: https://pandas.pydata.org/pandas-docs/stable/user_guide/indexing.html#returning-a-view-versus-a-copy\n",
      "  df['label'] = y_pred_test\n"
     ]
    },
    {
     "name": "stdout",
     "output_type": "stream",
     "text": [
      "XGBOOST\n",
      "Di train dapat performa \n",
      "Nilai Precision = 1.0\n",
      "Nilai Recall = 0.9473684210526315\n",
      "Nilai F1 = 0.972972972972973\n",
      "Di test dapat performa\n",
      "Nilai Precision = 0.8333333333333334\n",
      "Nilai Recall = 0.14705882352941177\n",
      "Nilai F1 = 0.25\n",
      "########\n",
      "RANDOM FOREST\n"
     ]
    },
    {
     "name": "stderr",
     "output_type": "stream",
     "text": [
      "/tmp/ipykernel_1016/527456267.py:50: SettingWithCopyWarning: \n",
      "A value is trying to be set on a copy of a slice from a DataFrame.\n",
      "Try using .loc[row_indexer,col_indexer] = value instead\n",
      "\n",
      "See the caveats in the documentation: https://pandas.pydata.org/pandas-docs/stable/user_guide/indexing.html#returning-a-view-versus-a-copy\n",
      "  df['label'] = y_pred_test\n"
     ]
    },
    {
     "name": "stdout",
     "output_type": "stream",
     "text": [
      "Di train dapat performa \n",
      "Nilai Precision = 1.0\n",
      "Nilai Recall = 1.0\n",
      "Nilai F1 = 1.0\n",
      "Di test dapat performa\n",
      "Nilai Precision = 1.0\n",
      "Nilai Recall = 0.029411764705882353\n",
      "Nilai F1 = 0.05714285714285715\n",
      "########\n",
      "LOGISTIK REGRESSION\n"
     ]
    },
    {
     "name": "stderr",
     "output_type": "stream",
     "text": [
      "/tmp/ipykernel_1016/527456267.py:69: SettingWithCopyWarning: \n",
      "A value is trying to be set on a copy of a slice from a DataFrame.\n",
      "Try using .loc[row_indexer,col_indexer] = value instead\n",
      "\n",
      "See the caveats in the documentation: https://pandas.pydata.org/pandas-docs/stable/user_guide/indexing.html#returning-a-view-versus-a-copy\n",
      "  df['label'] = y_pred_test\n"
     ]
    },
    {
     "name": "stdout",
     "output_type": "stream",
     "text": [
      "Di train dapat performa \n",
      "Nilai Precision = 0.0\n",
      "Nilai Recall = 0.0\n",
      "Nilai F1 = 0.0\n",
      "Di test dapat performa\n",
      "Nilai Precision = 0.0\n",
      "Nilai Recall = 0.0\n",
      "Nilai F1 = 0.0\n",
      "########\n",
      "MLP\n"
     ]
    },
    {
     "name": "stderr",
     "output_type": "stream",
     "text": [
      "/opt/conda/lib/python3.8/site-packages/sklearn/metrics/_classification.py:1344: UndefinedMetricWarning: Precision and F-score are ill-defined and being set to 0.0 due to no predicted samples. Use `zero_division` parameter to control this behavior.\n",
      "  _warn_prf(average, modifier, msg_start, len(result))\n",
      "/opt/conda/lib/python3.8/site-packages/sklearn/metrics/_classification.py:1344: UndefinedMetricWarning: Precision and F-score are ill-defined and being set to 0.0 due to no predicted samples. Use `zero_division` parameter to control this behavior.\n",
      "  _warn_prf(average, modifier, msg_start, len(result))\n",
      "/tmp/ipykernel_1016/527456267.py:91: SettingWithCopyWarning: \n",
      "A value is trying to be set on a copy of a slice from a DataFrame.\n",
      "Try using .loc[row_indexer,col_indexer] = value instead\n",
      "\n",
      "See the caveats in the documentation: https://pandas.pydata.org/pandas-docs/stable/user_guide/indexing.html#returning-a-view-versus-a-copy\n",
      "  df['label'] = y_pred_test\n"
     ]
    },
    {
     "name": "stdout",
     "output_type": "stream",
     "text": [
      "Di train dapat performa \n",
      "Nilai Precision = 0.0\n",
      "Nilai Recall = 0.0\n",
      "Nilai F1 = 0.0\n",
      "Di test dapat performa\n",
      "Nilai Precision = 0.0\n",
      "Nilai Recall = 0.0\n",
      "Nilai F1 = 0.0\n",
      "########\n",
      "/workspace/dataset/erupsi\n",
      "Rata-rata nilai test dengan Classifier xgb, rf, dan mlp adalah\n",
      "Precision = 0.6111111111111112\n",
      "Recall = 0.05882352941176471\n",
      "F1 = 0.10238095238095239\n",
      "\n",
      "\n",
      "/workspace/dataset\n",
      "Eksperimen pada bencana erupsi dengan representasi teks textrank\n"
     ]
    },
    {
     "name": "stderr",
     "output_type": "stream",
     "text": [
      "/opt/conda/lib/python3.8/site-packages/sklearn/metrics/_classification.py:1344: UndefinedMetricWarning: Precision and F-score are ill-defined and being set to 0.0 due to no predicted samples. Use `zero_division` parameter to control this behavior.\n",
      "  _warn_prf(average, modifier, msg_start, len(result))\n",
      "/opt/conda/lib/python3.8/site-packages/sklearn/metrics/_classification.py:1344: UndefinedMetricWarning: Precision and F-score are ill-defined and being set to 0.0 due to no predicted samples. Use `zero_division` parameter to control this behavior.\n",
      "  _warn_prf(average, modifier, msg_start, len(result))\n",
      "/tmp/ipykernel_1016/527456267.py:113: SettingWithCopyWarning: \n",
      "A value is trying to be set on a copy of a slice from a DataFrame.\n",
      "Try using .loc[row_indexer,col_indexer] = value instead\n",
      "\n",
      "See the caveats in the documentation: https://pandas.pydata.org/pandas-docs/stable/user_guide/indexing.html#returning-a-view-versus-a-copy\n",
      "  df['label'] = y_pred_test\n"
     ]
    },
    {
     "name": "stdout",
     "output_type": "stream",
     "text": [
      "XGBOOST\n",
      "Di train dapat performa \n",
      "Nilai Precision = 1.0\n",
      "Nilai Recall = 0.8842105263157894\n",
      "Nilai F1 = 0.9385474860335195\n",
      "Di test dapat performa\n",
      "Nilai Precision = 0.5172413793103449\n",
      "Nilai Recall = 0.4411764705882353\n",
      "Nilai F1 = 0.47619047619047616\n",
      "########\n",
      "RANDOM FOREST\n"
     ]
    },
    {
     "name": "stderr",
     "output_type": "stream",
     "text": [
      "/tmp/ipykernel_1016/527456267.py:50: SettingWithCopyWarning: \n",
      "A value is trying to be set on a copy of a slice from a DataFrame.\n",
      "Try using .loc[row_indexer,col_indexer] = value instead\n",
      "\n",
      "See the caveats in the documentation: https://pandas.pydata.org/pandas-docs/stable/user_guide/indexing.html#returning-a-view-versus-a-copy\n",
      "  df['label'] = y_pred_test\n"
     ]
    },
    {
     "name": "stdout",
     "output_type": "stream",
     "text": [
      "Di train dapat performa \n",
      "Nilai Precision = 1.0\n",
      "Nilai Recall = 1.0\n",
      "Nilai F1 = 1.0\n",
      "Di test dapat performa\n",
      "Nilai Precision = 0.75\n",
      "Nilai Recall = 0.08823529411764706\n",
      "Nilai F1 = 0.15789473684210525\n",
      "########\n",
      "LOGISTIK REGRESSION\n"
     ]
    },
    {
     "name": "stderr",
     "output_type": "stream",
     "text": [
      "/tmp/ipykernel_1016/527456267.py:69: SettingWithCopyWarning: \n",
      "A value is trying to be set on a copy of a slice from a DataFrame.\n",
      "Try using .loc[row_indexer,col_indexer] = value instead\n",
      "\n",
      "See the caveats in the documentation: https://pandas.pydata.org/pandas-docs/stable/user_guide/indexing.html#returning-a-view-versus-a-copy\n",
      "  df['label'] = y_pred_test\n"
     ]
    },
    {
     "name": "stdout",
     "output_type": "stream",
     "text": [
      "Di train dapat performa \n",
      "Nilai Precision = 0.0\n",
      "Nilai Recall = 0.0\n",
      "Nilai F1 = 0.0\n",
      "Di test dapat performa\n",
      "Nilai Precision = 0.0\n",
      "Nilai Recall = 0.0\n",
      "Nilai F1 = 0.0\n",
      "########\n",
      "MLP\n"
     ]
    },
    {
     "name": "stderr",
     "output_type": "stream",
     "text": [
      "/opt/conda/lib/python3.8/site-packages/sklearn/metrics/_classification.py:1344: UndefinedMetricWarning: Precision and F-score are ill-defined and being set to 0.0 due to no predicted samples. Use `zero_division` parameter to control this behavior.\n",
      "  _warn_prf(average, modifier, msg_start, len(result))\n",
      "/opt/conda/lib/python3.8/site-packages/sklearn/metrics/_classification.py:1344: UndefinedMetricWarning: Precision and F-score are ill-defined and being set to 0.0 due to no predicted samples. Use `zero_division` parameter to control this behavior.\n",
      "  _warn_prf(average, modifier, msg_start, len(result))\n",
      "/tmp/ipykernel_1016/527456267.py:91: SettingWithCopyWarning: \n",
      "A value is trying to be set on a copy of a slice from a DataFrame.\n",
      "Try using .loc[row_indexer,col_indexer] = value instead\n",
      "\n",
      "See the caveats in the documentation: https://pandas.pydata.org/pandas-docs/stable/user_guide/indexing.html#returning-a-view-versus-a-copy\n",
      "  df['label'] = y_pred_test\n"
     ]
    },
    {
     "name": "stdout",
     "output_type": "stream",
     "text": [
      "Di train dapat performa \n",
      "Nilai Precision = 0.0\n",
      "Nilai Recall = 0.0\n",
      "Nilai F1 = 0.0\n",
      "Di test dapat performa\n",
      "Nilai Precision = 0.0\n",
      "Nilai Recall = 0.0\n",
      "Nilai F1 = 0.0\n",
      "########\n",
      "/workspace/dataset/erupsi\n",
      "Rata-rata nilai test dengan Classifier xgb, rf, dan mlp adalah\n",
      "Precision = 0.42241379310344823\n",
      "Recall = 0.17647058823529413\n",
      "F1 = 0.2113617376775271\n",
      "\n",
      "\n",
      "/workspace/dataset\n",
      "Eksperimen pada bencana erupsi dengan representasi teks sum_indobart\n"
     ]
    },
    {
     "name": "stderr",
     "output_type": "stream",
     "text": [
      "/opt/conda/lib/python3.8/site-packages/sklearn/metrics/_classification.py:1344: UndefinedMetricWarning: Precision and F-score are ill-defined and being set to 0.0 due to no predicted samples. Use `zero_division` parameter to control this behavior.\n",
      "  _warn_prf(average, modifier, msg_start, len(result))\n",
      "/opt/conda/lib/python3.8/site-packages/sklearn/metrics/_classification.py:1344: UndefinedMetricWarning: Precision and F-score are ill-defined and being set to 0.0 due to no predicted samples. Use `zero_division` parameter to control this behavior.\n",
      "  _warn_prf(average, modifier, msg_start, len(result))\n",
      "/tmp/ipykernel_1016/527456267.py:113: SettingWithCopyWarning: \n",
      "A value is trying to be set on a copy of a slice from a DataFrame.\n",
      "Try using .loc[row_indexer,col_indexer] = value instead\n",
      "\n",
      "See the caveats in the documentation: https://pandas.pydata.org/pandas-docs/stable/user_guide/indexing.html#returning-a-view-versus-a-copy\n",
      "  df['label'] = y_pred_test\n"
     ]
    },
    {
     "name": "stdout",
     "output_type": "stream",
     "text": [
      "XGBOOST\n",
      "Di train dapat performa \n",
      "Nilai Precision = 1.0\n",
      "Nilai Recall = 0.9052631578947369\n",
      "Nilai F1 = 0.9502762430939227\n",
      "Di test dapat performa\n",
      "Nilai Precision = 0.43478260869565216\n",
      "Nilai Recall = 0.29411764705882354\n",
      "Nilai F1 = 0.3508771929824562\n",
      "########\n",
      "RANDOM FOREST\n"
     ]
    },
    {
     "name": "stderr",
     "output_type": "stream",
     "text": [
      "/tmp/ipykernel_1016/527456267.py:50: SettingWithCopyWarning: \n",
      "A value is trying to be set on a copy of a slice from a DataFrame.\n",
      "Try using .loc[row_indexer,col_indexer] = value instead\n",
      "\n",
      "See the caveats in the documentation: https://pandas.pydata.org/pandas-docs/stable/user_guide/indexing.html#returning-a-view-versus-a-copy\n",
      "  df['label'] = y_pred_test\n"
     ]
    },
    {
     "name": "stdout",
     "output_type": "stream",
     "text": [
      "Di train dapat performa \n",
      "Nilai Precision = 1.0\n",
      "Nilai Recall = 1.0\n",
      "Nilai F1 = 1.0\n",
      "Di test dapat performa\n",
      "Nilai Precision = 0.0\n",
      "Nilai Recall = 0.0\n",
      "Nilai F1 = 0.0\n",
      "########\n",
      "LOGISTIK REGRESSION\n"
     ]
    },
    {
     "name": "stderr",
     "output_type": "stream",
     "text": [
      "/tmp/ipykernel_1016/527456267.py:69: SettingWithCopyWarning: \n",
      "A value is trying to be set on a copy of a slice from a DataFrame.\n",
      "Try using .loc[row_indexer,col_indexer] = value instead\n",
      "\n",
      "See the caveats in the documentation: https://pandas.pydata.org/pandas-docs/stable/user_guide/indexing.html#returning-a-view-versus-a-copy\n",
      "  df['label'] = y_pred_test\n"
     ]
    },
    {
     "name": "stdout",
     "output_type": "stream",
     "text": [
      "Di train dapat performa \n",
      "Nilai Precision = 0.0\n",
      "Nilai Recall = 0.0\n",
      "Nilai F1 = 0.0\n",
      "Di test dapat performa\n",
      "Nilai Precision = 0.0\n",
      "Nilai Recall = 0.0\n",
      "Nilai F1 = 0.0\n",
      "########\n",
      "MLP\n"
     ]
    },
    {
     "name": "stderr",
     "output_type": "stream",
     "text": [
      "/opt/conda/lib/python3.8/site-packages/sklearn/metrics/_classification.py:1344: UndefinedMetricWarning: Precision and F-score are ill-defined and being set to 0.0 due to no predicted samples. Use `zero_division` parameter to control this behavior.\n",
      "  _warn_prf(average, modifier, msg_start, len(result))\n",
      "/opt/conda/lib/python3.8/site-packages/sklearn/metrics/_classification.py:1344: UndefinedMetricWarning: Precision and F-score are ill-defined and being set to 0.0 due to no predicted samples. Use `zero_division` parameter to control this behavior.\n",
      "  _warn_prf(average, modifier, msg_start, len(result))\n",
      "/tmp/ipykernel_1016/527456267.py:91: SettingWithCopyWarning: \n",
      "A value is trying to be set on a copy of a slice from a DataFrame.\n",
      "Try using .loc[row_indexer,col_indexer] = value instead\n",
      "\n",
      "See the caveats in the documentation: https://pandas.pydata.org/pandas-docs/stable/user_guide/indexing.html#returning-a-view-versus-a-copy\n",
      "  df['label'] = y_pred_test\n"
     ]
    },
    {
     "name": "stdout",
     "output_type": "stream",
     "text": [
      "Di train dapat performa \n",
      "Nilai Precision = 0.0\n",
      "Nilai Recall = 0.0\n",
      "Nilai F1 = 0.0\n",
      "Di test dapat performa\n",
      "Nilai Precision = 0.0\n",
      "Nilai Recall = 0.0\n",
      "Nilai F1 = 0.0\n",
      "########\n",
      "/workspace/dataset/erupsi\n",
      "Rata-rata nilai test dengan Classifier xgb, rf, dan mlp adalah\n",
      "Precision = 0.14492753623188406\n",
      "Recall = 0.09803921568627451\n",
      "F1 = 0.11695906432748539\n",
      "\n",
      "\n",
      "/workspace/dataset\n",
      "Eksperimen pada bencana erupsi dengan representasi teks sum_liputan6\n"
     ]
    },
    {
     "name": "stderr",
     "output_type": "stream",
     "text": [
      "/opt/conda/lib/python3.8/site-packages/sklearn/metrics/_classification.py:1344: UndefinedMetricWarning: Precision and F-score are ill-defined and being set to 0.0 due to no predicted samples. Use `zero_division` parameter to control this behavior.\n",
      "  _warn_prf(average, modifier, msg_start, len(result))\n",
      "/opt/conda/lib/python3.8/site-packages/sklearn/metrics/_classification.py:1344: UndefinedMetricWarning: Precision and F-score are ill-defined and being set to 0.0 due to no predicted samples. Use `zero_division` parameter to control this behavior.\n",
      "  _warn_prf(average, modifier, msg_start, len(result))\n",
      "/tmp/ipykernel_1016/527456267.py:113: SettingWithCopyWarning: \n",
      "A value is trying to be set on a copy of a slice from a DataFrame.\n",
      "Try using .loc[row_indexer,col_indexer] = value instead\n",
      "\n",
      "See the caveats in the documentation: https://pandas.pydata.org/pandas-docs/stable/user_guide/indexing.html#returning-a-view-versus-a-copy\n",
      "  df['label'] = y_pred_test\n"
     ]
    },
    {
     "name": "stdout",
     "output_type": "stream",
     "text": [
      "XGBOOST\n",
      "Di train dapat performa \n",
      "Nilai Precision = 1.0\n",
      "Nilai Recall = 0.8\n",
      "Nilai F1 = 0.888888888888889\n",
      "Di test dapat performa\n",
      "Nilai Precision = 0.6666666666666666\n",
      "Nilai Recall = 0.058823529411764705\n",
      "Nilai F1 = 0.10810810810810811\n",
      "########\n",
      "RANDOM FOREST\n"
     ]
    },
    {
     "name": "stderr",
     "output_type": "stream",
     "text": [
      "/tmp/ipykernel_1016/527456267.py:50: SettingWithCopyWarning: \n",
      "A value is trying to be set on a copy of a slice from a DataFrame.\n",
      "Try using .loc[row_indexer,col_indexer] = value instead\n",
      "\n",
      "See the caveats in the documentation: https://pandas.pydata.org/pandas-docs/stable/user_guide/indexing.html#returning-a-view-versus-a-copy\n",
      "  df['label'] = y_pred_test\n"
     ]
    },
    {
     "name": "stdout",
     "output_type": "stream",
     "text": [
      "Di train dapat performa \n",
      "Nilai Precision = 1.0\n",
      "Nilai Recall = 1.0\n",
      "Nilai F1 = 1.0\n",
      "Di test dapat performa\n",
      "Nilai Precision = 1.0\n",
      "Nilai Recall = 0.029411764705882353\n",
      "Nilai F1 = 0.05714285714285715\n",
      "########\n",
      "LOGISTIK REGRESSION\n"
     ]
    },
    {
     "name": "stderr",
     "output_type": "stream",
     "text": [
      "/tmp/ipykernel_1016/527456267.py:69: SettingWithCopyWarning: \n",
      "A value is trying to be set on a copy of a slice from a DataFrame.\n",
      "Try using .loc[row_indexer,col_indexer] = value instead\n",
      "\n",
      "See the caveats in the documentation: https://pandas.pydata.org/pandas-docs/stable/user_guide/indexing.html#returning-a-view-versus-a-copy\n",
      "  df['label'] = y_pred_test\n"
     ]
    },
    {
     "name": "stdout",
     "output_type": "stream",
     "text": [
      "Di train dapat performa \n",
      "Nilai Precision = 0.0\n",
      "Nilai Recall = 0.0\n",
      "Nilai F1 = 0.0\n",
      "Di test dapat performa\n",
      "Nilai Precision = 0.0\n",
      "Nilai Recall = 0.0\n",
      "Nilai F1 = 0.0\n",
      "########\n",
      "MLP\n"
     ]
    },
    {
     "name": "stderr",
     "output_type": "stream",
     "text": [
      "/opt/conda/lib/python3.8/site-packages/sklearn/metrics/_classification.py:1344: UndefinedMetricWarning: Precision and F-score are ill-defined and being set to 0.0 due to no predicted samples. Use `zero_division` parameter to control this behavior.\n",
      "  _warn_prf(average, modifier, msg_start, len(result))\n",
      "/opt/conda/lib/python3.8/site-packages/sklearn/metrics/_classification.py:1344: UndefinedMetricWarning: Precision and F-score are ill-defined and being set to 0.0 due to no predicted samples. Use `zero_division` parameter to control this behavior.\n",
      "  _warn_prf(average, modifier, msg_start, len(result))\n",
      "/tmp/ipykernel_1016/527456267.py:91: SettingWithCopyWarning: \n",
      "A value is trying to be set on a copy of a slice from a DataFrame.\n",
      "Try using .loc[row_indexer,col_indexer] = value instead\n",
      "\n",
      "See the caveats in the documentation: https://pandas.pydata.org/pandas-docs/stable/user_guide/indexing.html#returning-a-view-versus-a-copy\n",
      "  df['label'] = y_pred_test\n"
     ]
    },
    {
     "name": "stdout",
     "output_type": "stream",
     "text": [
      "Di train dapat performa \n",
      "Nilai Precision = 0.0\n",
      "Nilai Recall = 0.0\n",
      "Nilai F1 = 0.0\n",
      "Di test dapat performa\n",
      "Nilai Precision = 0.0\n",
      "Nilai Recall = 0.0\n",
      "Nilai F1 = 0.0\n",
      "########\n",
      "/workspace/dataset/erupsi\n",
      "Rata-rata nilai test dengan Classifier xgb, rf, dan mlp adalah\n",
      "Precision = 0.5555555555555555\n",
      "Recall = 0.02941176470588235\n",
      "F1 = 0.05508365508365509\n",
      "\n",
      "\n",
      "/workspace/dataset\n",
      "Eksperimen pada bencana erupsi dengan representasi teks sum_pegasus\n"
     ]
    },
    {
     "name": "stderr",
     "output_type": "stream",
     "text": [
      "/opt/conda/lib/python3.8/site-packages/sklearn/metrics/_classification.py:1344: UndefinedMetricWarning: Precision and F-score are ill-defined and being set to 0.0 due to no predicted samples. Use `zero_division` parameter to control this behavior.\n",
      "  _warn_prf(average, modifier, msg_start, len(result))\n",
      "/opt/conda/lib/python3.8/site-packages/sklearn/metrics/_classification.py:1344: UndefinedMetricWarning: Precision and F-score are ill-defined and being set to 0.0 due to no predicted samples. Use `zero_division` parameter to control this behavior.\n",
      "  _warn_prf(average, modifier, msg_start, len(result))\n",
      "/tmp/ipykernel_1016/527456267.py:113: SettingWithCopyWarning: \n",
      "A value is trying to be set on a copy of a slice from a DataFrame.\n",
      "Try using .loc[row_indexer,col_indexer] = value instead\n",
      "\n",
      "See the caveats in the documentation: https://pandas.pydata.org/pandas-docs/stable/user_guide/indexing.html#returning-a-view-versus-a-copy\n",
      "  df['label'] = y_pred_test\n"
     ]
    },
    {
     "name": "stdout",
     "output_type": "stream",
     "text": [
      "XGBOOST\n",
      "Di train dapat performa \n",
      "Nilai Precision = 1.0\n",
      "Nilai Recall = 0.6631578947368421\n",
      "Nilai F1 = 0.7974683544303798\n",
      "Di test dapat performa\n",
      "Nilai Precision = 0.18292682926829268\n",
      "Nilai Recall = 0.4411764705882353\n",
      "Nilai F1 = 0.25862068965517243\n",
      "########\n",
      "RANDOM FOREST\n"
     ]
    },
    {
     "name": "stderr",
     "output_type": "stream",
     "text": [
      "/tmp/ipykernel_1016/527456267.py:50: SettingWithCopyWarning: \n",
      "A value is trying to be set on a copy of a slice from a DataFrame.\n",
      "Try using .loc[row_indexer,col_indexer] = value instead\n",
      "\n",
      "See the caveats in the documentation: https://pandas.pydata.org/pandas-docs/stable/user_guide/indexing.html#returning-a-view-versus-a-copy\n",
      "  df['label'] = y_pred_test\n"
     ]
    },
    {
     "name": "stdout",
     "output_type": "stream",
     "text": [
      "Di train dapat performa \n",
      "Nilai Precision = 1.0\n",
      "Nilai Recall = 1.0\n",
      "Nilai F1 = 1.0\n",
      "Di test dapat performa\n",
      "Nilai Precision = 0.16666666666666666\n",
      "Nilai Recall = 0.6764705882352942\n",
      "Nilai F1 = 0.2674418604651163\n",
      "########\n",
      "LOGISTIK REGRESSION\n"
     ]
    },
    {
     "name": "stderr",
     "output_type": "stream",
     "text": [
      "/tmp/ipykernel_1016/527456267.py:69: SettingWithCopyWarning: \n",
      "A value is trying to be set on a copy of a slice from a DataFrame.\n",
      "Try using .loc[row_indexer,col_indexer] = value instead\n",
      "\n",
      "See the caveats in the documentation: https://pandas.pydata.org/pandas-docs/stable/user_guide/indexing.html#returning-a-view-versus-a-copy\n",
      "  df['label'] = y_pred_test\n"
     ]
    },
    {
     "name": "stdout",
     "output_type": "stream",
     "text": [
      "Di train dapat performa \n",
      "Nilai Precision = 0.0\n",
      "Nilai Recall = 0.0\n",
      "Nilai F1 = 0.0\n",
      "Di test dapat performa\n",
      "Nilai Precision = 0.0\n",
      "Nilai Recall = 0.0\n",
      "Nilai F1 = 0.0\n",
      "########\n",
      "MLP\n"
     ]
    },
    {
     "name": "stderr",
     "output_type": "stream",
     "text": [
      "/opt/conda/lib/python3.8/site-packages/sklearn/metrics/_classification.py:1344: UndefinedMetricWarning: Precision and F-score are ill-defined and being set to 0.0 due to no predicted samples. Use `zero_division` parameter to control this behavior.\n",
      "  _warn_prf(average, modifier, msg_start, len(result))\n",
      "/opt/conda/lib/python3.8/site-packages/sklearn/metrics/_classification.py:1344: UndefinedMetricWarning: Precision and F-score are ill-defined and being set to 0.0 due to no predicted samples. Use `zero_division` parameter to control this behavior.\n",
      "  _warn_prf(average, modifier, msg_start, len(result))\n",
      "/tmp/ipykernel_1016/527456267.py:91: SettingWithCopyWarning: \n",
      "A value is trying to be set on a copy of a slice from a DataFrame.\n",
      "Try using .loc[row_indexer,col_indexer] = value instead\n",
      "\n",
      "See the caveats in the documentation: https://pandas.pydata.org/pandas-docs/stable/user_guide/indexing.html#returning-a-view-versus-a-copy\n",
      "  df['label'] = y_pred_test\n"
     ]
    },
    {
     "name": "stdout",
     "output_type": "stream",
     "text": [
      "Di train dapat performa \n",
      "Nilai Precision = 0.0\n",
      "Nilai Recall = 0.0\n",
      "Nilai F1 = 0.0\n",
      "Di test dapat performa\n",
      "Nilai Precision = 0.0\n",
      "Nilai Recall = 0.0\n",
      "Nilai F1 = 0.0\n",
      "########\n",
      "/workspace/dataset/erupsi\n",
      "Rata-rata nilai test dengan Classifier xgb, rf, dan mlp adalah\n",
      "Precision = 0.11653116531165313\n",
      "Recall = 0.37254901960784315\n",
      "F1 = 0.17535418337342956\n",
      "\n",
      "\n",
      "************************************************************\n",
      "{'erupsi': {'title_ori': {'xgb': {'prec': 0.38461538461538464, 'rec': 0.14705882352941177, 'f1': 0.21276595744680854, 'acc': 0.815}, 'rf': {'prec': 0.5833333333333334, 'rec': 0.20588235294117646, 'f1': 0.3043478260869565, 'acc': 0.84}, 'lr': {'prec': 0.0, 'rec': 0.0, 'f1': 0.0, 'acc': 0.83}, 'mlp': {'prec': 0.0, 'rec': 0.0, 'f1': 0.0, 'acc': 0.83}}, 'text_ori': {'xgb': {'prec': 1.0, 'rec': 0.20588235294117646, 'f1': 0.34146341463414637, 'acc': 0.865}, 'rf': {'prec': 1.0, 'rec': 0.17647058823529413, 'f1': 0.3, 'acc': 0.86}, 'lr': {'prec': 0.0, 'rec': 0.0, 'f1': 0.0, 'acc': 0.83}, 'mlp': {'prec': 0.0, 'rec': 0.0, 'f1': 0.0, 'acc': 0.83}}, 'tc_ori': {'xgb': {'prec': 0.8888888888888888, 'rec': 0.23529411764705882, 'f1': 0.3720930232558139, 'acc': 0.865}, 'rf': {'prec': 1.0, 'rec': 0.08823529411764706, 'f1': 0.1621621621621622, 'acc': 0.845}, 'lr': {'prec': 0.0, 'rec': 0.0, 'f1': 0.0, 'acc': 0.83}, 'mlp': {'prec': 0.0, 'rec': 0.0, 'f1': 0.0, 'acc': 0.83}}, 'filter_word_tc': {'xgb': {'prec': 1.0, 'rec': 0.029411764705882353, 'f1': 0.05714285714285715, 'acc': 0.835}, 'rf': {'prec': 0.0, 'rec': 0.0, 'f1': 0.0, 'acc': 0.83}, 'lr': {'prec': 0.0, 'rec': 0.0, 'f1': 0.0, 'acc': 0.83}, 'mlp': {'prec': 0.0, 'rec': 0.0, 'f1': 0.0, 'acc': 0.83}}, 'filter_word_tc_window': {'xgb': {'prec': 0.0, 'rec': 0.0, 'f1': 0.0, 'acc': 0.83}, 'rf': {'prec': 0.5, 'rec': 0.058823529411764705, 'f1': 0.10526315789473684, 'acc': 0.83}, 'lr': {'prec': 0.0, 'rec': 0.0, 'f1': 0.0, 'acc': 0.83}, 'mlp': {'prec': 0.0, 'rec': 0.0, 'f1': 0.0, 'acc': 0.83}}, 'trunc_first_short': {'xgb': {'prec': 0.8, 'rec': 0.11764705882352941, 'f1': 0.20512820512820512, 'acc': 0.845}, 'rf': {'prec': 0.0, 'rec': 0.0, 'f1': 0.0, 'acc': 0.83}, 'lr': {'prec': 0.0, 'rec': 0.0, 'f1': 0.0, 'acc': 0.83}, 'mlp': {'prec': 0.0, 'rec': 0.0, 'f1': 0.0, 'acc': 0.83}}, 'trunc_last_short': {'xgb': {'prec': 0.42857142857142855, 'rec': 0.08823529411764706, 'f1': 0.14634146341463417, 'acc': 0.825}, 'rf': {'prec': 0.0, 'rec': 0.0, 'f1': 0.0, 'acc': 0.83}, 'lr': {'prec': 0.0, 'rec': 0.0, 'f1': 0.0, 'acc': 0.83}, 'mlp': {'prec': 0.0, 'rec': 0.0, 'f1': 0.0, 'acc': 0.83}}, 'trunc_first_long': {'xgb': {'prec': 0.8181818181818182, 'rec': 0.2647058823529412, 'f1': 0.39999999999999997, 'acc': 0.865}, 'rf': {'prec': 1.0, 'rec': 0.14705882352941177, 'f1': 0.25641025641025644, 'acc': 0.855}, 'lr': {'prec': 0.0, 'rec': 0.0, 'f1': 0.0, 'acc': 0.83}, 'mlp': {'prec': 0.0, 'rec': 0.0, 'f1': 0.0, 'acc': 0.83}}, 'trunc_last_long': {'xgb': {'prec': 0.45454545454545453, 'rec': 0.14705882352941177, 'f1': 0.22222222222222224, 'acc': 0.825}, 'rf': {'prec': 1.0, 'rec': 0.029411764705882353, 'f1': 0.05714285714285715, 'acc': 0.835}, 'lr': {'prec': 0.0, 'rec': 0.0, 'f1': 0.0, 'acc': 0.83}, 'mlp': {'prec': 0.0, 'rec': 0.0, 'f1': 0.0, 'acc': 0.83}}, 'trunc_combination': {'xgb': {'prec': 0.8333333333333334, 'rec': 0.14705882352941177, 'f1': 0.25, 'acc': 0.85}, 'rf': {'prec': 1.0, 'rec': 0.029411764705882353, 'f1': 0.05714285714285715, 'acc': 0.835}, 'lr': {'prec': 0.0, 'rec': 0.0, 'f1': 0.0, 'acc': 0.83}, 'mlp': {'prec': 0.0, 'rec': 0.0, 'f1': 0.0, 'acc': 0.83}}, 'textrank': {'xgb': {'prec': 0.5172413793103449, 'rec': 0.4411764705882353, 'f1': 0.47619047619047616, 'acc': 0.835}, 'rf': {'prec': 0.75, 'rec': 0.08823529411764706, 'f1': 0.15789473684210525, 'acc': 0.84}, 'lr': {'prec': 0.0, 'rec': 0.0, 'f1': 0.0, 'acc': 0.83}, 'mlp': {'prec': 0.0, 'rec': 0.0, 'f1': 0.0, 'acc': 0.83}}, 'sum_indobart': {'xgb': {'prec': 0.43478260869565216, 'rec': 0.29411764705882354, 'f1': 0.3508771929824562, 'acc': 0.815}, 'rf': {'prec': 0.0, 'rec': 0.0, 'f1': 0.0, 'acc': 0.825}, 'lr': {'prec': 0.0, 'rec': 0.0, 'f1': 0.0, 'acc': 0.83}, 'mlp': {'prec': 0.0, 'rec': 0.0, 'f1': 0.0, 'acc': 0.83}}, 'sum_liputan6': {'xgb': {'prec': 0.6666666666666666, 'rec': 0.058823529411764705, 'f1': 0.10810810810810811, 'acc': 0.835}, 'rf': {'prec': 1.0, 'rec': 0.029411764705882353, 'f1': 0.05714285714285715, 'acc': 0.835}, 'lr': {'prec': 0.0, 'rec': 0.0, 'f1': 0.0, 'acc': 0.83}, 'mlp': {'prec': 0.0, 'rec': 0.0, 'f1': 0.0, 'acc': 0.83}}, 'sum_pegasus': {'xgb': {'prec': 0.18292682926829268, 'rec': 0.4411764705882353, 'f1': 0.25862068965517243, 'acc': 0.57}, 'rf': {'prec': 0.16666666666666666, 'rec': 0.6764705882352942, 'f1': 0.2674418604651163, 'acc': 0.37}, 'lr': {'prec': 0.0, 'rec': 0.0, 'f1': 0.0, 'acc': 0.83}, 'mlp': {'prec': 0.0, 'rec': 0.0, 'f1': 0.0, 'acc': 0.83}}}}\n",
      "/workspace/dataset\n"
     ]
    },
    {
     "name": "stderr",
     "output_type": "stream",
     "text": [
      "/opt/conda/lib/python3.8/site-packages/sklearn/metrics/_classification.py:1344: UndefinedMetricWarning: Precision and F-score are ill-defined and being set to 0.0 due to no predicted samples. Use `zero_division` parameter to control this behavior.\n",
      "  _warn_prf(average, modifier, msg_start, len(result))\n",
      "/opt/conda/lib/python3.8/site-packages/sklearn/metrics/_classification.py:1344: UndefinedMetricWarning: Precision and F-score are ill-defined and being set to 0.0 due to no predicted samples. Use `zero_division` parameter to control this behavior.\n",
      "  _warn_prf(average, modifier, msg_start, len(result))\n",
      "/tmp/ipykernel_1016/527456267.py:113: SettingWithCopyWarning: \n",
      "A value is trying to be set on a copy of a slice from a DataFrame.\n",
      "Try using .loc[row_indexer,col_indexer] = value instead\n",
      "\n",
      "See the caveats in the documentation: https://pandas.pydata.org/pandas-docs/stable/user_guide/indexing.html#returning-a-view-versus-a-copy\n",
      "  df['label'] = y_pred_test\n"
     ]
    }
   ],
   "source": [
    "%cd erupsi\n",
    "get_f1_eks_representasi_teks_bencana('erupsi')\n",
    "%cd .."
   ]
  },
  {
   "cell_type": "code",
   "execution_count": 21,
   "id": "857fd1b0",
   "metadata": {},
   "outputs": [
    {
     "name": "stdout",
     "output_type": "stream",
     "text": [
      "/workspace/dataset/gempa\n",
      "evaluasi pada bencana = gempa\n",
      "/workspace/dataset\n",
      "Eksperimen pada bencana gempa dengan representasi teks title_ori\n",
      "XGBOOST\n",
      "Di train dapat performa \n",
      "Nilai Precision = 0.9856115107913669\n",
      "Nilai Recall = 0.7828571428571428\n",
      "Nilai F1 = 0.8726114649681529\n",
      "Di test dapat performa\n",
      "Nilai Precision = 0.22613065326633167\n",
      "Nilai Recall = 1.0\n",
      "Nilai F1 = 0.36885245901639346\n",
      "########\n",
      "RANDOM FOREST\n"
     ]
    },
    {
     "name": "stderr",
     "output_type": "stream",
     "text": [
      "/tmp/ipykernel_1016/527456267.py:50: SettingWithCopyWarning: \n",
      "A value is trying to be set on a copy of a slice from a DataFrame.\n",
      "Try using .loc[row_indexer,col_indexer] = value instead\n",
      "\n",
      "See the caveats in the documentation: https://pandas.pydata.org/pandas-docs/stable/user_guide/indexing.html#returning-a-view-versus-a-copy\n",
      "  df['label'] = y_pred_test\n"
     ]
    },
    {
     "name": "stdout",
     "output_type": "stream",
     "text": [
      "Di train dapat performa \n",
      "Nilai Precision = 1.0\n",
      "Nilai Recall = 1.0\n",
      "Nilai F1 = 1.0\n",
      "Di test dapat performa\n",
      "Nilai Precision = 0.24074074074074073\n",
      "Nilai Recall = 0.8666666666666667\n",
      "Nilai F1 = 0.37681159420289856\n",
      "########\n",
      "LOGISTIK REGRESSION\n"
     ]
    },
    {
     "name": "stderr",
     "output_type": "stream",
     "text": [
      "/tmp/ipykernel_1016/527456267.py:69: SettingWithCopyWarning: \n",
      "A value is trying to be set on a copy of a slice from a DataFrame.\n",
      "Try using .loc[row_indexer,col_indexer] = value instead\n",
      "\n",
      "See the caveats in the documentation: https://pandas.pydata.org/pandas-docs/stable/user_guide/indexing.html#returning-a-view-versus-a-copy\n",
      "  df['label'] = y_pred_test\n"
     ]
    },
    {
     "name": "stdout",
     "output_type": "stream",
     "text": [
      "Di train dapat performa \n",
      "Nilai Precision = 0.5\n",
      "Nilai Recall = 0.005714285714285714\n",
      "Nilai F1 = 0.01129943502824859\n",
      "Di test dapat performa\n",
      "Nilai Precision = 0.0\n",
      "Nilai Recall = 0.0\n",
      "Nilai F1 = 0.0\n",
      "########\n",
      "MLP\n"
     ]
    },
    {
     "name": "stderr",
     "output_type": "stream",
     "text": [
      "/tmp/ipykernel_1016/527456267.py:91: SettingWithCopyWarning: \n",
      "A value is trying to be set on a copy of a slice from a DataFrame.\n",
      "Try using .loc[row_indexer,col_indexer] = value instead\n",
      "\n",
      "See the caveats in the documentation: https://pandas.pydata.org/pandas-docs/stable/user_guide/indexing.html#returning-a-view-versus-a-copy\n",
      "  df['label'] = y_pred_test\n"
     ]
    },
    {
     "name": "stdout",
     "output_type": "stream",
     "text": [
      "Di train dapat performa \n",
      "Nilai Precision = 0.0\n",
      "Nilai Recall = 0.0\n",
      "Nilai F1 = 0.0\n",
      "Di test dapat performa\n",
      "Nilai Precision = 0.0\n",
      "Nilai Recall = 0.0\n",
      "Nilai F1 = 0.0\n",
      "########\n",
      "/workspace/dataset/gempa\n",
      "Rata-rata nilai test dengan Classifier xgb, rf, dan mlp adalah\n",
      "Precision = 0.15562379800235746\n",
      "Recall = 0.6222222222222222\n",
      "F1 = 0.24855468440643066\n",
      "\n",
      "\n",
      "/workspace/dataset\n",
      "Eksperimen pada bencana gempa dengan representasi teks text_ori\n"
     ]
    },
    {
     "name": "stderr",
     "output_type": "stream",
     "text": [
      "/opt/conda/lib/python3.8/site-packages/sklearn/metrics/_classification.py:1344: UndefinedMetricWarning: Precision and F-score are ill-defined and being set to 0.0 due to no predicted samples. Use `zero_division` parameter to control this behavior.\n",
      "  _warn_prf(average, modifier, msg_start, len(result))\n",
      "/tmp/ipykernel_1016/527456267.py:113: SettingWithCopyWarning: \n",
      "A value is trying to be set on a copy of a slice from a DataFrame.\n",
      "Try using .loc[row_indexer,col_indexer] = value instead\n",
      "\n",
      "See the caveats in the documentation: https://pandas.pydata.org/pandas-docs/stable/user_guide/indexing.html#returning-a-view-versus-a-copy\n",
      "  df['label'] = y_pred_test\n"
     ]
    },
    {
     "name": "stdout",
     "output_type": "stream",
     "text": [
      "XGBOOST\n",
      "Di train dapat performa \n",
      "Nilai Precision = 0.9940476190476191\n",
      "Nilai Recall = 0.9542857142857143\n",
      "Nilai F1 = 0.9737609329446065\n",
      "Di test dapat performa\n",
      "Nilai Precision = 0.7857142857142857\n",
      "Nilai Recall = 0.24444444444444444\n",
      "Nilai F1 = 0.3728813559322034\n",
      "########\n",
      "RANDOM FOREST\n"
     ]
    },
    {
     "name": "stderr",
     "output_type": "stream",
     "text": [
      "/tmp/ipykernel_1016/527456267.py:50: SettingWithCopyWarning: \n",
      "A value is trying to be set on a copy of a slice from a DataFrame.\n",
      "Try using .loc[row_indexer,col_indexer] = value instead\n",
      "\n",
      "See the caveats in the documentation: https://pandas.pydata.org/pandas-docs/stable/user_guide/indexing.html#returning-a-view-versus-a-copy\n",
      "  df['label'] = y_pred_test\n"
     ]
    },
    {
     "name": "stdout",
     "output_type": "stream",
     "text": [
      "Di train dapat performa \n",
      "Nilai Precision = 1.0\n",
      "Nilai Recall = 1.0\n",
      "Nilai F1 = 1.0\n",
      "Di test dapat performa\n",
      "Nilai Precision = 0.6666666666666666\n",
      "Nilai Recall = 0.08888888888888889\n",
      "Nilai F1 = 0.1568627450980392\n",
      "########\n",
      "LOGISTIK REGRESSION\n"
     ]
    },
    {
     "name": "stderr",
     "output_type": "stream",
     "text": [
      "/tmp/ipykernel_1016/527456267.py:69: SettingWithCopyWarning: \n",
      "A value is trying to be set on a copy of a slice from a DataFrame.\n",
      "Try using .loc[row_indexer,col_indexer] = value instead\n",
      "\n",
      "See the caveats in the documentation: https://pandas.pydata.org/pandas-docs/stable/user_guide/indexing.html#returning-a-view-versus-a-copy\n",
      "  df['label'] = y_pred_test\n"
     ]
    },
    {
     "name": "stdout",
     "output_type": "stream",
     "text": [
      "Di train dapat performa \n",
      "Nilai Precision = 0.0\n",
      "Nilai Recall = 0.0\n",
      "Nilai F1 = 0.0\n",
      "Di test dapat performa\n",
      "Nilai Precision = 0.0\n",
      "Nilai Recall = 0.0\n",
      "Nilai F1 = 0.0\n",
      "########\n",
      "MLP\n"
     ]
    },
    {
     "name": "stderr",
     "output_type": "stream",
     "text": [
      "/opt/conda/lib/python3.8/site-packages/sklearn/metrics/_classification.py:1344: UndefinedMetricWarning: Precision and F-score are ill-defined and being set to 0.0 due to no predicted samples. Use `zero_division` parameter to control this behavior.\n",
      "  _warn_prf(average, modifier, msg_start, len(result))\n",
      "/opt/conda/lib/python3.8/site-packages/sklearn/metrics/_classification.py:1344: UndefinedMetricWarning: Precision and F-score are ill-defined and being set to 0.0 due to no predicted samples. Use `zero_division` parameter to control this behavior.\n",
      "  _warn_prf(average, modifier, msg_start, len(result))\n",
      "/tmp/ipykernel_1016/527456267.py:91: SettingWithCopyWarning: \n",
      "A value is trying to be set on a copy of a slice from a DataFrame.\n",
      "Try using .loc[row_indexer,col_indexer] = value instead\n",
      "\n",
      "See the caveats in the documentation: https://pandas.pydata.org/pandas-docs/stable/user_guide/indexing.html#returning-a-view-versus-a-copy\n",
      "  df['label'] = y_pred_test\n",
      "/opt/conda/lib/python3.8/site-packages/sklearn/neural_network/_multilayer_perceptron.py:686: ConvergenceWarning: Stochastic Optimizer: Maximum iterations (300) reached and the optimization hasn't converged yet.\n",
      "  warnings.warn(\n"
     ]
    },
    {
     "name": "stdout",
     "output_type": "stream",
     "text": [
      "Di train dapat performa \n",
      "Nilai Precision = 1.0\n",
      "Nilai Recall = 0.017142857142857144\n",
      "Nilai F1 = 0.033707865168539325\n",
      "Di test dapat performa\n",
      "Nilai Precision = 0.0\n",
      "Nilai Recall = 0.0\n",
      "Nilai F1 = 0.0\n",
      "########\n",
      "/workspace/dataset/gempa\n",
      "Rata-rata nilai test dengan Classifier xgb, rf, dan mlp adalah\n",
      "Precision = 0.48412698412698413\n",
      "Recall = 0.1111111111111111\n",
      "F1 = 0.17658136701008087\n",
      "\n",
      "\n",
      "/workspace/dataset\n",
      "Eksperimen pada bencana gempa dengan representasi teks tc_ori\n"
     ]
    },
    {
     "name": "stderr",
     "output_type": "stream",
     "text": [
      "/opt/conda/lib/python3.8/site-packages/sklearn/metrics/_classification.py:1344: UndefinedMetricWarning: Precision and F-score are ill-defined and being set to 0.0 due to no predicted samples. Use `zero_division` parameter to control this behavior.\n",
      "  _warn_prf(average, modifier, msg_start, len(result))\n",
      "/tmp/ipykernel_1016/527456267.py:113: SettingWithCopyWarning: \n",
      "A value is trying to be set on a copy of a slice from a DataFrame.\n",
      "Try using .loc[row_indexer,col_indexer] = value instead\n",
      "\n",
      "See the caveats in the documentation: https://pandas.pydata.org/pandas-docs/stable/user_guide/indexing.html#returning-a-view-versus-a-copy\n",
      "  df['label'] = y_pred_test\n"
     ]
    },
    {
     "name": "stdout",
     "output_type": "stream",
     "text": [
      "XGBOOST\n",
      "Di train dapat performa \n",
      "Nilai Precision = 0.9878048780487805\n",
      "Nilai Recall = 0.9257142857142857\n",
      "Nilai F1 = 0.9557522123893806\n",
      "Di test dapat performa\n",
      "Nilai Precision = 0.7647058823529411\n",
      "Nilai Recall = 0.28888888888888886\n",
      "Nilai F1 = 0.41935483870967744\n",
      "########\n",
      "RANDOM FOREST\n"
     ]
    },
    {
     "name": "stderr",
     "output_type": "stream",
     "text": [
      "/tmp/ipykernel_1016/527456267.py:50: SettingWithCopyWarning: \n",
      "A value is trying to be set on a copy of a slice from a DataFrame.\n",
      "Try using .loc[row_indexer,col_indexer] = value instead\n",
      "\n",
      "See the caveats in the documentation: https://pandas.pydata.org/pandas-docs/stable/user_guide/indexing.html#returning-a-view-versus-a-copy\n",
      "  df['label'] = y_pred_test\n"
     ]
    },
    {
     "name": "stdout",
     "output_type": "stream",
     "text": [
      "Di train dapat performa \n",
      "Nilai Precision = 1.0\n",
      "Nilai Recall = 1.0\n",
      "Nilai F1 = 1.0\n",
      "Di test dapat performa\n",
      "Nilai Precision = 0.8571428571428571\n",
      "Nilai Recall = 0.13333333333333333\n",
      "Nilai F1 = 0.23076923076923078\n",
      "########\n",
      "LOGISTIK REGRESSION\n"
     ]
    },
    {
     "name": "stderr",
     "output_type": "stream",
     "text": [
      "/tmp/ipykernel_1016/527456267.py:69: SettingWithCopyWarning: \n",
      "A value is trying to be set on a copy of a slice from a DataFrame.\n",
      "Try using .loc[row_indexer,col_indexer] = value instead\n",
      "\n",
      "See the caveats in the documentation: https://pandas.pydata.org/pandas-docs/stable/user_guide/indexing.html#returning-a-view-versus-a-copy\n",
      "  df['label'] = y_pred_test\n"
     ]
    },
    {
     "name": "stdout",
     "output_type": "stream",
     "text": [
      "Di train dapat performa \n",
      "Nilai Precision = 0.0\n",
      "Nilai Recall = 0.0\n",
      "Nilai F1 = 0.0\n",
      "Di test dapat performa\n",
      "Nilai Precision = 0.0\n",
      "Nilai Recall = 0.0\n",
      "Nilai F1 = 0.0\n",
      "########\n",
      "MLP\n"
     ]
    },
    {
     "name": "stderr",
     "output_type": "stream",
     "text": [
      "/opt/conda/lib/python3.8/site-packages/sklearn/metrics/_classification.py:1344: UndefinedMetricWarning: Precision and F-score are ill-defined and being set to 0.0 due to no predicted samples. Use `zero_division` parameter to control this behavior.\n",
      "  _warn_prf(average, modifier, msg_start, len(result))\n",
      "/opt/conda/lib/python3.8/site-packages/sklearn/metrics/_classification.py:1344: UndefinedMetricWarning: Precision and F-score are ill-defined and being set to 0.0 due to no predicted samples. Use `zero_division` parameter to control this behavior.\n",
      "  _warn_prf(average, modifier, msg_start, len(result))\n",
      "/tmp/ipykernel_1016/527456267.py:91: SettingWithCopyWarning: \n",
      "A value is trying to be set on a copy of a slice from a DataFrame.\n",
      "Try using .loc[row_indexer,col_indexer] = value instead\n",
      "\n",
      "See the caveats in the documentation: https://pandas.pydata.org/pandas-docs/stable/user_guide/indexing.html#returning-a-view-versus-a-copy\n",
      "  df['label'] = y_pred_test\n",
      "/opt/conda/lib/python3.8/site-packages/sklearn/neural_network/_multilayer_perceptron.py:686: ConvergenceWarning: Stochastic Optimizer: Maximum iterations (300) reached and the optimization hasn't converged yet.\n",
      "  warnings.warn(\n"
     ]
    },
    {
     "name": "stdout",
     "output_type": "stream",
     "text": [
      "Di train dapat performa \n",
      "Nilai Precision = 1.0\n",
      "Nilai Recall = 0.022857142857142857\n",
      "Nilai F1 = 0.04469273743016759\n",
      "Di test dapat performa\n",
      "Nilai Precision = 0.0\n",
      "Nilai Recall = 0.0\n",
      "Nilai F1 = 0.0\n",
      "########\n",
      "/workspace/dataset/gempa\n",
      "Rata-rata nilai test dengan Classifier xgb, rf, dan mlp adalah\n",
      "Precision = 0.5406162464985994\n",
      "Recall = 0.14074074074074072\n",
      "F1 = 0.21670802315963608\n",
      "\n",
      "\n",
      "/workspace/dataset\n",
      "Eksperimen pada bencana gempa dengan representasi teks filter_word_tc\n"
     ]
    },
    {
     "name": "stderr",
     "output_type": "stream",
     "text": [
      "/opt/conda/lib/python3.8/site-packages/sklearn/metrics/_classification.py:1344: UndefinedMetricWarning: Precision and F-score are ill-defined and being set to 0.0 due to no predicted samples. Use `zero_division` parameter to control this behavior.\n",
      "  _warn_prf(average, modifier, msg_start, len(result))\n",
      "/tmp/ipykernel_1016/527456267.py:113: SettingWithCopyWarning: \n",
      "A value is trying to be set on a copy of a slice from a DataFrame.\n",
      "Try using .loc[row_indexer,col_indexer] = value instead\n",
      "\n",
      "See the caveats in the documentation: https://pandas.pydata.org/pandas-docs/stable/user_guide/indexing.html#returning-a-view-versus-a-copy\n",
      "  df['label'] = y_pred_test\n"
     ]
    },
    {
     "name": "stdout",
     "output_type": "stream",
     "text": [
      "XGBOOST\n",
      "Di train dapat performa \n",
      "Nilai Precision = 0.9874213836477987\n",
      "Nilai Recall = 0.8971428571428571\n",
      "Nilai F1 = 0.9401197604790419\n",
      "Di test dapat performa\n",
      "Nilai Precision = 0.0\n",
      "Nilai Recall = 0.0\n",
      "Nilai F1 = 0.0\n",
      "########\n",
      "RANDOM FOREST\n"
     ]
    },
    {
     "name": "stderr",
     "output_type": "stream",
     "text": [
      "/opt/conda/lib/python3.8/site-packages/sklearn/metrics/_classification.py:1344: UndefinedMetricWarning: Precision and F-score are ill-defined and being set to 0.0 due to no predicted samples. Use `zero_division` parameter to control this behavior.\n",
      "  _warn_prf(average, modifier, msg_start, len(result))\n",
      "/tmp/ipykernel_1016/527456267.py:50: SettingWithCopyWarning: \n",
      "A value is trying to be set on a copy of a slice from a DataFrame.\n",
      "Try using .loc[row_indexer,col_indexer] = value instead\n",
      "\n",
      "See the caveats in the documentation: https://pandas.pydata.org/pandas-docs/stable/user_guide/indexing.html#returning-a-view-versus-a-copy\n",
      "  df['label'] = y_pred_test\n"
     ]
    },
    {
     "name": "stdout",
     "output_type": "stream",
     "text": [
      "Di train dapat performa \n",
      "Nilai Precision = 1.0\n",
      "Nilai Recall = 1.0\n",
      "Nilai F1 = 1.0\n",
      "Di test dapat performa\n",
      "Nilai Precision = 0.0\n",
      "Nilai Recall = 0.0\n",
      "Nilai F1 = 0.0\n",
      "########\n",
      "LOGISTIK REGRESSION\n"
     ]
    },
    {
     "name": "stderr",
     "output_type": "stream",
     "text": [
      "/opt/conda/lib/python3.8/site-packages/sklearn/metrics/_classification.py:1344: UndefinedMetricWarning: Precision and F-score are ill-defined and being set to 0.0 due to no predicted samples. Use `zero_division` parameter to control this behavior.\n",
      "  _warn_prf(average, modifier, msg_start, len(result))\n",
      "/tmp/ipykernel_1016/527456267.py:69: SettingWithCopyWarning: \n",
      "A value is trying to be set on a copy of a slice from a DataFrame.\n",
      "Try using .loc[row_indexer,col_indexer] = value instead\n",
      "\n",
      "See the caveats in the documentation: https://pandas.pydata.org/pandas-docs/stable/user_guide/indexing.html#returning-a-view-versus-a-copy\n",
      "  df['label'] = y_pred_test\n"
     ]
    },
    {
     "name": "stdout",
     "output_type": "stream",
     "text": [
      "Di train dapat performa \n",
      "Nilai Precision = 0.0\n",
      "Nilai Recall = 0.0\n",
      "Nilai F1 = 0.0\n",
      "Di test dapat performa\n",
      "Nilai Precision = 0.0\n",
      "Nilai Recall = 0.0\n",
      "Nilai F1 = 0.0\n",
      "########\n",
      "MLP\n"
     ]
    },
    {
     "name": "stderr",
     "output_type": "stream",
     "text": [
      "/opt/conda/lib/python3.8/site-packages/sklearn/metrics/_classification.py:1344: UndefinedMetricWarning: Precision and F-score are ill-defined and being set to 0.0 due to no predicted samples. Use `zero_division` parameter to control this behavior.\n",
      "  _warn_prf(average, modifier, msg_start, len(result))\n",
      "/opt/conda/lib/python3.8/site-packages/sklearn/metrics/_classification.py:1344: UndefinedMetricWarning: Precision and F-score are ill-defined and being set to 0.0 due to no predicted samples. Use `zero_division` parameter to control this behavior.\n",
      "  _warn_prf(average, modifier, msg_start, len(result))\n",
      "/tmp/ipykernel_1016/527456267.py:91: SettingWithCopyWarning: \n",
      "A value is trying to be set on a copy of a slice from a DataFrame.\n",
      "Try using .loc[row_indexer,col_indexer] = value instead\n",
      "\n",
      "See the caveats in the documentation: https://pandas.pydata.org/pandas-docs/stable/user_guide/indexing.html#returning-a-view-versus-a-copy\n",
      "  df['label'] = y_pred_test\n"
     ]
    },
    {
     "name": "stdout",
     "output_type": "stream",
     "text": [
      "Di train dapat performa \n",
      "Nilai Precision = 0.0\n",
      "Nilai Recall = 0.0\n",
      "Nilai F1 = 0.0\n",
      "Di test dapat performa\n",
      "Nilai Precision = 0.0\n",
      "Nilai Recall = 0.0\n",
      "Nilai F1 = 0.0\n",
      "########\n",
      "/workspace/dataset/gempa\n",
      "Rata-rata nilai test dengan Classifier xgb, rf, dan mlp adalah\n",
      "Precision = 0.0\n",
      "Recall = 0.0\n",
      "F1 = 0.0\n",
      "\n",
      "\n",
      "/workspace/dataset\n",
      "Eksperimen pada bencana gempa dengan representasi teks filter_word_tc_window\n"
     ]
    },
    {
     "name": "stderr",
     "output_type": "stream",
     "text": [
      "/opt/conda/lib/python3.8/site-packages/sklearn/metrics/_classification.py:1344: UndefinedMetricWarning: Precision and F-score are ill-defined and being set to 0.0 due to no predicted samples. Use `zero_division` parameter to control this behavior.\n",
      "  _warn_prf(average, modifier, msg_start, len(result))\n",
      "/opt/conda/lib/python3.8/site-packages/sklearn/metrics/_classification.py:1344: UndefinedMetricWarning: Precision and F-score are ill-defined and being set to 0.0 due to no predicted samples. Use `zero_division` parameter to control this behavior.\n",
      "  _warn_prf(average, modifier, msg_start, len(result))\n",
      "/tmp/ipykernel_1016/527456267.py:113: SettingWithCopyWarning: \n",
      "A value is trying to be set on a copy of a slice from a DataFrame.\n",
      "Try using .loc[row_indexer,col_indexer] = value instead\n",
      "\n",
      "See the caveats in the documentation: https://pandas.pydata.org/pandas-docs/stable/user_guide/indexing.html#returning-a-view-versus-a-copy\n",
      "  df['label'] = y_pred_test\n"
     ]
    },
    {
     "name": "stdout",
     "output_type": "stream",
     "text": [
      "XGBOOST\n",
      "Di train dapat performa \n",
      "Nilai Precision = 0.9806451612903225\n",
      "Nilai Recall = 0.8685714285714285\n",
      "Nilai F1 = 0.9212121212121211\n",
      "Di test dapat performa\n",
      "Nilai Precision = 0.6956521739130435\n",
      "Nilai Recall = 0.35555555555555557\n",
      "Nilai F1 = 0.47058823529411764\n",
      "########\n",
      "RANDOM FOREST\n"
     ]
    },
    {
     "name": "stderr",
     "output_type": "stream",
     "text": [
      "/tmp/ipykernel_1016/527456267.py:50: SettingWithCopyWarning: \n",
      "A value is trying to be set on a copy of a slice from a DataFrame.\n",
      "Try using .loc[row_indexer,col_indexer] = value instead\n",
      "\n",
      "See the caveats in the documentation: https://pandas.pydata.org/pandas-docs/stable/user_guide/indexing.html#returning-a-view-versus-a-copy\n",
      "  df['label'] = y_pred_test\n"
     ]
    },
    {
     "name": "stdout",
     "output_type": "stream",
     "text": [
      "Di train dapat performa \n",
      "Nilai Precision = 1.0\n",
      "Nilai Recall = 1.0\n",
      "Nilai F1 = 1.0\n",
      "Di test dapat performa\n",
      "Nilai Precision = 1.0\n",
      "Nilai Recall = 0.08888888888888889\n",
      "Nilai F1 = 0.163265306122449\n",
      "########\n",
      "LOGISTIK REGRESSION\n"
     ]
    },
    {
     "name": "stderr",
     "output_type": "stream",
     "text": [
      "/tmp/ipykernel_1016/527456267.py:69: SettingWithCopyWarning: \n",
      "A value is trying to be set on a copy of a slice from a DataFrame.\n",
      "Try using .loc[row_indexer,col_indexer] = value instead\n",
      "\n",
      "See the caveats in the documentation: https://pandas.pydata.org/pandas-docs/stable/user_guide/indexing.html#returning-a-view-versus-a-copy\n",
      "  df['label'] = y_pred_test\n"
     ]
    },
    {
     "name": "stdout",
     "output_type": "stream",
     "text": [
      "Di train dapat performa \n",
      "Nilai Precision = 0.0\n",
      "Nilai Recall = 0.0\n",
      "Nilai F1 = 0.0\n",
      "Di test dapat performa\n",
      "Nilai Precision = 0.0\n",
      "Nilai Recall = 0.0\n",
      "Nilai F1 = 0.0\n",
      "########\n",
      "MLP\n"
     ]
    },
    {
     "name": "stderr",
     "output_type": "stream",
     "text": [
      "/opt/conda/lib/python3.8/site-packages/sklearn/metrics/_classification.py:1344: UndefinedMetricWarning: Precision and F-score are ill-defined and being set to 0.0 due to no predicted samples. Use `zero_division` parameter to control this behavior.\n",
      "  _warn_prf(average, modifier, msg_start, len(result))\n",
      "/opt/conda/lib/python3.8/site-packages/sklearn/metrics/_classification.py:1344: UndefinedMetricWarning: Precision and F-score are ill-defined and being set to 0.0 due to no predicted samples. Use `zero_division` parameter to control this behavior.\n",
      "  _warn_prf(average, modifier, msg_start, len(result))\n",
      "/tmp/ipykernel_1016/527456267.py:91: SettingWithCopyWarning: \n",
      "A value is trying to be set on a copy of a slice from a DataFrame.\n",
      "Try using .loc[row_indexer,col_indexer] = value instead\n",
      "\n",
      "See the caveats in the documentation: https://pandas.pydata.org/pandas-docs/stable/user_guide/indexing.html#returning-a-view-versus-a-copy\n",
      "  df['label'] = y_pred_test\n"
     ]
    },
    {
     "name": "stdout",
     "output_type": "stream",
     "text": [
      "Di train dapat performa \n",
      "Nilai Precision = 0.0\n",
      "Nilai Recall = 0.0\n",
      "Nilai F1 = 0.0\n",
      "Di test dapat performa\n",
      "Nilai Precision = 0.0\n",
      "Nilai Recall = 0.0\n",
      "Nilai F1 = 0.0\n",
      "########\n",
      "/workspace/dataset/gempa\n",
      "Rata-rata nilai test dengan Classifier xgb, rf, dan mlp adalah\n",
      "Precision = 0.5652173913043478\n",
      "Recall = 0.14814814814814817\n",
      "F1 = 0.21128451380552224\n",
      "\n",
      "\n",
      "/workspace/dataset\n",
      "Eksperimen pada bencana gempa dengan representasi teks trunc_first_short\n"
     ]
    },
    {
     "name": "stderr",
     "output_type": "stream",
     "text": [
      "/opt/conda/lib/python3.8/site-packages/sklearn/metrics/_classification.py:1344: UndefinedMetricWarning: Precision and F-score are ill-defined and being set to 0.0 due to no predicted samples. Use `zero_division` parameter to control this behavior.\n",
      "  _warn_prf(average, modifier, msg_start, len(result))\n",
      "/opt/conda/lib/python3.8/site-packages/sklearn/metrics/_classification.py:1344: UndefinedMetricWarning: Precision and F-score are ill-defined and being set to 0.0 due to no predicted samples. Use `zero_division` parameter to control this behavior.\n",
      "  _warn_prf(average, modifier, msg_start, len(result))\n",
      "/tmp/ipykernel_1016/527456267.py:113: SettingWithCopyWarning: \n",
      "A value is trying to be set on a copy of a slice from a DataFrame.\n",
      "Try using .loc[row_indexer,col_indexer] = value instead\n",
      "\n",
      "See the caveats in the documentation: https://pandas.pydata.org/pandas-docs/stable/user_guide/indexing.html#returning-a-view-versus-a-copy\n",
      "  df['label'] = y_pred_test\n"
     ]
    },
    {
     "name": "stdout",
     "output_type": "stream",
     "text": [
      "XGBOOST\n",
      "Di train dapat performa \n",
      "Nilai Precision = 0.9876543209876543\n",
      "Nilai Recall = 0.9142857142857143\n",
      "Nilai F1 = 0.9495548961424333\n",
      "Di test dapat performa\n",
      "Nilai Precision = 0.48\n",
      "Nilai Recall = 0.26666666666666666\n",
      "Nilai F1 = 0.3428571428571429\n",
      "########\n",
      "RANDOM FOREST\n"
     ]
    },
    {
     "name": "stderr",
     "output_type": "stream",
     "text": [
      "/tmp/ipykernel_1016/527456267.py:50: SettingWithCopyWarning: \n",
      "A value is trying to be set on a copy of a slice from a DataFrame.\n",
      "Try using .loc[row_indexer,col_indexer] = value instead\n",
      "\n",
      "See the caveats in the documentation: https://pandas.pydata.org/pandas-docs/stable/user_guide/indexing.html#returning-a-view-versus-a-copy\n",
      "  df['label'] = y_pred_test\n"
     ]
    },
    {
     "name": "stdout",
     "output_type": "stream",
     "text": [
      "Di train dapat performa \n",
      "Nilai Precision = 1.0\n",
      "Nilai Recall = 1.0\n",
      "Nilai F1 = 1.0\n",
      "Di test dapat performa\n",
      "Nilai Precision = 0.6\n",
      "Nilai Recall = 0.06666666666666667\n",
      "Nilai F1 = 0.12000000000000001\n",
      "########\n",
      "LOGISTIK REGRESSION\n"
     ]
    },
    {
     "name": "stderr",
     "output_type": "stream",
     "text": [
      "/tmp/ipykernel_1016/527456267.py:69: SettingWithCopyWarning: \n",
      "A value is trying to be set on a copy of a slice from a DataFrame.\n",
      "Try using .loc[row_indexer,col_indexer] = value instead\n",
      "\n",
      "See the caveats in the documentation: https://pandas.pydata.org/pandas-docs/stable/user_guide/indexing.html#returning-a-view-versus-a-copy\n",
      "  df['label'] = y_pred_test\n"
     ]
    },
    {
     "name": "stdout",
     "output_type": "stream",
     "text": [
      "Di train dapat performa \n",
      "Nilai Precision = 0.0\n",
      "Nilai Recall = 0.0\n",
      "Nilai F1 = 0.0\n",
      "Di test dapat performa\n",
      "Nilai Precision = 0.0\n",
      "Nilai Recall = 0.0\n",
      "Nilai F1 = 0.0\n",
      "########\n",
      "MLP\n"
     ]
    },
    {
     "name": "stderr",
     "output_type": "stream",
     "text": [
      "/opt/conda/lib/python3.8/site-packages/sklearn/metrics/_classification.py:1344: UndefinedMetricWarning: Precision and F-score are ill-defined and being set to 0.0 due to no predicted samples. Use `zero_division` parameter to control this behavior.\n",
      "  _warn_prf(average, modifier, msg_start, len(result))\n",
      "/opt/conda/lib/python3.8/site-packages/sklearn/metrics/_classification.py:1344: UndefinedMetricWarning: Precision and F-score are ill-defined and being set to 0.0 due to no predicted samples. Use `zero_division` parameter to control this behavior.\n",
      "  _warn_prf(average, modifier, msg_start, len(result))\n",
      "/tmp/ipykernel_1016/527456267.py:91: SettingWithCopyWarning: \n",
      "A value is trying to be set on a copy of a slice from a DataFrame.\n",
      "Try using .loc[row_indexer,col_indexer] = value instead\n",
      "\n",
      "See the caveats in the documentation: https://pandas.pydata.org/pandas-docs/stable/user_guide/indexing.html#returning-a-view-versus-a-copy\n",
      "  df['label'] = y_pred_test\n",
      "/opt/conda/lib/python3.8/site-packages/sklearn/neural_network/_multilayer_perceptron.py:686: ConvergenceWarning: Stochastic Optimizer: Maximum iterations (300) reached and the optimization hasn't converged yet.\n",
      "  warnings.warn(\n"
     ]
    },
    {
     "name": "stdout",
     "output_type": "stream",
     "text": [
      "Di train dapat performa \n",
      "Nilai Precision = 1.0\n",
      "Nilai Recall = 0.06857142857142857\n",
      "Nilai F1 = 0.12834224598930483\n",
      "Di test dapat performa\n",
      "Nilai Precision = 0.0\n",
      "Nilai Recall = 0.0\n",
      "Nilai F1 = 0.0\n",
      "########\n",
      "/workspace/dataset/gempa\n",
      "Rata-rata nilai test dengan Classifier xgb, rf, dan mlp adalah\n",
      "Precision = 0.36000000000000004\n",
      "Recall = 0.1111111111111111\n",
      "F1 = 0.1542857142857143\n",
      "\n",
      "\n",
      "/workspace/dataset\n",
      "Eksperimen pada bencana gempa dengan representasi teks trunc_last_short\n"
     ]
    },
    {
     "name": "stderr",
     "output_type": "stream",
     "text": [
      "/tmp/ipykernel_1016/527456267.py:113: SettingWithCopyWarning: \n",
      "A value is trying to be set on a copy of a slice from a DataFrame.\n",
      "Try using .loc[row_indexer,col_indexer] = value instead\n",
      "\n",
      "See the caveats in the documentation: https://pandas.pydata.org/pandas-docs/stable/user_guide/indexing.html#returning-a-view-versus-a-copy\n",
      "  df['label'] = y_pred_test\n"
     ]
    },
    {
     "name": "stdout",
     "output_type": "stream",
     "text": [
      "XGBOOST\n",
      "Di train dapat performa \n",
      "Nilai Precision = 1.0\n",
      "Nilai Recall = 0.7657142857142857\n",
      "Nilai F1 = 0.8673139158576052\n",
      "Di test dapat performa\n",
      "Nilai Precision = 0.5\n",
      "Nilai Recall = 0.06666666666666667\n",
      "Nilai F1 = 0.11764705882352941\n",
      "########\n",
      "RANDOM FOREST\n"
     ]
    },
    {
     "name": "stderr",
     "output_type": "stream",
     "text": [
      "/tmp/ipykernel_1016/527456267.py:50: SettingWithCopyWarning: \n",
      "A value is trying to be set on a copy of a slice from a DataFrame.\n",
      "Try using .loc[row_indexer,col_indexer] = value instead\n",
      "\n",
      "See the caveats in the documentation: https://pandas.pydata.org/pandas-docs/stable/user_guide/indexing.html#returning-a-view-versus-a-copy\n",
      "  df['label'] = y_pred_test\n"
     ]
    },
    {
     "name": "stdout",
     "output_type": "stream",
     "text": [
      "Di train dapat performa \n",
      "Nilai Precision = 1.0\n",
      "Nilai Recall = 1.0\n",
      "Nilai F1 = 1.0\n",
      "Di test dapat performa\n",
      "Nilai Precision = 0.2727272727272727\n",
      "Nilai Recall = 0.06666666666666667\n",
      "Nilai F1 = 0.10714285714285715\n",
      "########\n",
      "LOGISTIK REGRESSION\n",
      "Di train dapat performa \n",
      "Nilai Precision = 0.0\n",
      "Nilai Recall = 0.0\n",
      "Nilai F1 = 0.0\n",
      "Di test dapat performa\n",
      "Nilai Precision = 0.0\n",
      "Nilai Recall = 0.0\n",
      "Nilai F1 = 0.0\n",
      "########\n",
      "MLP\n"
     ]
    },
    {
     "name": "stderr",
     "output_type": "stream",
     "text": [
      "/tmp/ipykernel_1016/527456267.py:69: SettingWithCopyWarning: \n",
      "A value is trying to be set on a copy of a slice from a DataFrame.\n",
      "Try using .loc[row_indexer,col_indexer] = value instead\n",
      "\n",
      "See the caveats in the documentation: https://pandas.pydata.org/pandas-docs/stable/user_guide/indexing.html#returning-a-view-versus-a-copy\n",
      "  df['label'] = y_pred_test\n",
      "/opt/conda/lib/python3.8/site-packages/sklearn/metrics/_classification.py:1344: UndefinedMetricWarning: Precision and F-score are ill-defined and being set to 0.0 due to no predicted samples. Use `zero_division` parameter to control this behavior.\n",
      "  _warn_prf(average, modifier, msg_start, len(result))\n",
      "/opt/conda/lib/python3.8/site-packages/sklearn/metrics/_classification.py:1344: UndefinedMetricWarning: Precision and F-score are ill-defined and being set to 0.0 due to no predicted samples. Use `zero_division` parameter to control this behavior.\n",
      "  _warn_prf(average, modifier, msg_start, len(result))\n",
      "/tmp/ipykernel_1016/527456267.py:91: SettingWithCopyWarning: \n",
      "A value is trying to be set on a copy of a slice from a DataFrame.\n",
      "Try using .loc[row_indexer,col_indexer] = value instead\n",
      "\n",
      "See the caveats in the documentation: https://pandas.pydata.org/pandas-docs/stable/user_guide/indexing.html#returning-a-view-versus-a-copy\n",
      "  df['label'] = y_pred_test\n"
     ]
    },
    {
     "name": "stdout",
     "output_type": "stream",
     "text": [
      "Di train dapat performa \n",
      "Nilai Precision = 0.0\n",
      "Nilai Recall = 0.0\n",
      "Nilai F1 = 0.0\n",
      "Di test dapat performa\n",
      "Nilai Precision = 0.0\n",
      "Nilai Recall = 0.0\n",
      "Nilai F1 = 0.0\n",
      "########\n",
      "/workspace/dataset/gempa\n",
      "Rata-rata nilai test dengan Classifier xgb, rf, dan mlp adalah\n",
      "Precision = 0.25757575757575757\n",
      "Recall = 0.044444444444444446\n",
      "F1 = 0.07492997198879552\n",
      "\n",
      "\n",
      "/workspace/dataset\n",
      "Eksperimen pada bencana gempa dengan representasi teks trunc_first_long\n"
     ]
    },
    {
     "name": "stderr",
     "output_type": "stream",
     "text": [
      "/opt/conda/lib/python3.8/site-packages/sklearn/metrics/_classification.py:1344: UndefinedMetricWarning: Precision and F-score are ill-defined and being set to 0.0 due to no predicted samples. Use `zero_division` parameter to control this behavior.\n",
      "  _warn_prf(average, modifier, msg_start, len(result))\n",
      "/opt/conda/lib/python3.8/site-packages/sklearn/metrics/_classification.py:1344: UndefinedMetricWarning: Precision and F-score are ill-defined and being set to 0.0 due to no predicted samples. Use `zero_division` parameter to control this behavior.\n",
      "  _warn_prf(average, modifier, msg_start, len(result))\n",
      "/tmp/ipykernel_1016/527456267.py:113: SettingWithCopyWarning: \n",
      "A value is trying to be set on a copy of a slice from a DataFrame.\n",
      "Try using .loc[row_indexer,col_indexer] = value instead\n",
      "\n",
      "See the caveats in the documentation: https://pandas.pydata.org/pandas-docs/stable/user_guide/indexing.html#returning-a-view-versus-a-copy\n",
      "  df['label'] = y_pred_test\n"
     ]
    },
    {
     "name": "stdout",
     "output_type": "stream",
     "text": [
      "XGBOOST\n",
      "Di train dapat performa \n",
      "Nilai Precision = 0.9877300613496932\n",
      "Nilai Recall = 0.92\n",
      "Nilai F1 = 0.9526627218934911\n",
      "Di test dapat performa\n",
      "Nilai Precision = 0.2608695652173913\n",
      "Nilai Recall = 0.26666666666666666\n",
      "Nilai F1 = 0.26373626373626374\n",
      "########\n",
      "RANDOM FOREST\n"
     ]
    },
    {
     "name": "stderr",
     "output_type": "stream",
     "text": [
      "/tmp/ipykernel_1016/527456267.py:50: SettingWithCopyWarning: \n",
      "A value is trying to be set on a copy of a slice from a DataFrame.\n",
      "Try using .loc[row_indexer,col_indexer] = value instead\n",
      "\n",
      "See the caveats in the documentation: https://pandas.pydata.org/pandas-docs/stable/user_guide/indexing.html#returning-a-view-versus-a-copy\n",
      "  df['label'] = y_pred_test\n"
     ]
    },
    {
     "name": "stdout",
     "output_type": "stream",
     "text": [
      "Di train dapat performa \n",
      "Nilai Precision = 1.0\n",
      "Nilai Recall = 1.0\n",
      "Nilai F1 = 1.0\n",
      "Di test dapat performa\n",
      "Nilai Precision = 0.4\n",
      "Nilai Recall = 0.044444444444444446\n",
      "Nilai F1 = 0.07999999999999999\n",
      "########\n",
      "LOGISTIK REGRESSION\n"
     ]
    },
    {
     "name": "stderr",
     "output_type": "stream",
     "text": [
      "/tmp/ipykernel_1016/527456267.py:69: SettingWithCopyWarning: \n",
      "A value is trying to be set on a copy of a slice from a DataFrame.\n",
      "Try using .loc[row_indexer,col_indexer] = value instead\n",
      "\n",
      "See the caveats in the documentation: https://pandas.pydata.org/pandas-docs/stable/user_guide/indexing.html#returning-a-view-versus-a-copy\n",
      "  df['label'] = y_pred_test\n"
     ]
    },
    {
     "name": "stdout",
     "output_type": "stream",
     "text": [
      "Di train dapat performa \n",
      "Nilai Precision = 0.0\n",
      "Nilai Recall = 0.0\n",
      "Nilai F1 = 0.0\n",
      "Di test dapat performa\n",
      "Nilai Precision = 0.0\n",
      "Nilai Recall = 0.0\n",
      "Nilai F1 = 0.0\n",
      "########\n",
      "MLP\n"
     ]
    },
    {
     "name": "stderr",
     "output_type": "stream",
     "text": [
      "/opt/conda/lib/python3.8/site-packages/sklearn/metrics/_classification.py:1344: UndefinedMetricWarning: Precision and F-score are ill-defined and being set to 0.0 due to no predicted samples. Use `zero_division` parameter to control this behavior.\n",
      "  _warn_prf(average, modifier, msg_start, len(result))\n",
      "/opt/conda/lib/python3.8/site-packages/sklearn/metrics/_classification.py:1344: UndefinedMetricWarning: Precision and F-score are ill-defined and being set to 0.0 due to no predicted samples. Use `zero_division` parameter to control this behavior.\n",
      "  _warn_prf(average, modifier, msg_start, len(result))\n",
      "/tmp/ipykernel_1016/527456267.py:91: SettingWithCopyWarning: \n",
      "A value is trying to be set on a copy of a slice from a DataFrame.\n",
      "Try using .loc[row_indexer,col_indexer] = value instead\n",
      "\n",
      "See the caveats in the documentation: https://pandas.pydata.org/pandas-docs/stable/user_guide/indexing.html#returning-a-view-versus-a-copy\n",
      "  df['label'] = y_pred_test\n",
      "/opt/conda/lib/python3.8/site-packages/sklearn/neural_network/_multilayer_perceptron.py:686: ConvergenceWarning: Stochastic Optimizer: Maximum iterations (300) reached and the optimization hasn't converged yet.\n",
      "  warnings.warn(\n"
     ]
    },
    {
     "name": "stdout",
     "output_type": "stream",
     "text": [
      "Di train dapat performa \n",
      "Nilai Precision = 1.0\n",
      "Nilai Recall = 0.017142857142857144\n",
      "Nilai F1 = 0.033707865168539325\n",
      "Di test dapat performa\n",
      "Nilai Precision = 0.0\n",
      "Nilai Recall = 0.0\n",
      "Nilai F1 = 0.0\n",
      "########\n",
      "/workspace/dataset/gempa\n",
      "Rata-rata nilai test dengan Classifier xgb, rf, dan mlp adalah\n",
      "Precision = 0.22028985507246376\n",
      "Recall = 0.1037037037037037\n",
      "F1 = 0.11457875457875459\n",
      "\n",
      "\n",
      "/workspace/dataset\n",
      "Eksperimen pada bencana gempa dengan representasi teks trunc_last_long\n"
     ]
    },
    {
     "name": "stderr",
     "output_type": "stream",
     "text": [
      "/opt/conda/lib/python3.8/site-packages/sklearn/metrics/_classification.py:1344: UndefinedMetricWarning: Precision and F-score are ill-defined and being set to 0.0 due to no predicted samples. Use `zero_division` parameter to control this behavior.\n",
      "  _warn_prf(average, modifier, msg_start, len(result))\n",
      "/tmp/ipykernel_1016/527456267.py:113: SettingWithCopyWarning: \n",
      "A value is trying to be set on a copy of a slice from a DataFrame.\n",
      "Try using .loc[row_indexer,col_indexer] = value instead\n",
      "\n",
      "See the caveats in the documentation: https://pandas.pydata.org/pandas-docs/stable/user_guide/indexing.html#returning-a-view-versus-a-copy\n",
      "  df['label'] = y_pred_test\n"
     ]
    },
    {
     "name": "stdout",
     "output_type": "stream",
     "text": [
      "XGBOOST\n",
      "Di train dapat performa \n",
      "Nilai Precision = 0.9787234042553191\n",
      "Nilai Recall = 0.7885714285714286\n",
      "Nilai F1 = 0.8734177215189873\n",
      "Di test dapat performa\n",
      "Nilai Precision = 0.0\n",
      "Nilai Recall = 0.0\n",
      "Nilai F1 = 0.0\n",
      "########\n",
      "RANDOM FOREST\n"
     ]
    },
    {
     "name": "stderr",
     "output_type": "stream",
     "text": [
      "/opt/conda/lib/python3.8/site-packages/sklearn/metrics/_classification.py:1344: UndefinedMetricWarning: Precision and F-score are ill-defined and being set to 0.0 due to no predicted samples. Use `zero_division` parameter to control this behavior.\n",
      "  _warn_prf(average, modifier, msg_start, len(result))\n",
      "/tmp/ipykernel_1016/527456267.py:50: SettingWithCopyWarning: \n",
      "A value is trying to be set on a copy of a slice from a DataFrame.\n",
      "Try using .loc[row_indexer,col_indexer] = value instead\n",
      "\n",
      "See the caveats in the documentation: https://pandas.pydata.org/pandas-docs/stable/user_guide/indexing.html#returning-a-view-versus-a-copy\n",
      "  df['label'] = y_pred_test\n"
     ]
    },
    {
     "name": "stdout",
     "output_type": "stream",
     "text": [
      "Di train dapat performa \n",
      "Nilai Precision = 1.0\n",
      "Nilai Recall = 1.0\n",
      "Nilai F1 = 1.0\n",
      "Di test dapat performa\n",
      "Nilai Precision = 0.22727272727272727\n",
      "Nilai Recall = 1.0\n",
      "Nilai F1 = 0.37037037037037035\n",
      "########\n",
      "LOGISTIK REGRESSION\n",
      "Di train dapat performa \n",
      "Nilai Precision = 0.0\n",
      "Nilai Recall = 0.0\n",
      "Nilai F1 = 0.0\n",
      "Di test dapat performa\n",
      "Nilai Precision = 0.0\n",
      "Nilai Recall = 0.0\n",
      "Nilai F1 = 0.0\n",
      "########\n",
      "MLP\n"
     ]
    },
    {
     "name": "stderr",
     "output_type": "stream",
     "text": [
      "/tmp/ipykernel_1016/527456267.py:69: SettingWithCopyWarning: \n",
      "A value is trying to be set on a copy of a slice from a DataFrame.\n",
      "Try using .loc[row_indexer,col_indexer] = value instead\n",
      "\n",
      "See the caveats in the documentation: https://pandas.pydata.org/pandas-docs/stable/user_guide/indexing.html#returning-a-view-versus-a-copy\n",
      "  df['label'] = y_pred_test\n",
      "/opt/conda/lib/python3.8/site-packages/sklearn/metrics/_classification.py:1344: UndefinedMetricWarning: Precision and F-score are ill-defined and being set to 0.0 due to no predicted samples. Use `zero_division` parameter to control this behavior.\n",
      "  _warn_prf(average, modifier, msg_start, len(result))\n",
      "/opt/conda/lib/python3.8/site-packages/sklearn/metrics/_classification.py:1344: UndefinedMetricWarning: Precision and F-score are ill-defined and being set to 0.0 due to no predicted samples. Use `zero_division` parameter to control this behavior.\n",
      "  _warn_prf(average, modifier, msg_start, len(result))\n",
      "/tmp/ipykernel_1016/527456267.py:91: SettingWithCopyWarning: \n",
      "A value is trying to be set on a copy of a slice from a DataFrame.\n",
      "Try using .loc[row_indexer,col_indexer] = value instead\n",
      "\n",
      "See the caveats in the documentation: https://pandas.pydata.org/pandas-docs/stable/user_guide/indexing.html#returning-a-view-versus-a-copy\n",
      "  df['label'] = y_pred_test\n"
     ]
    },
    {
     "name": "stdout",
     "output_type": "stream",
     "text": [
      "Di train dapat performa \n",
      "Nilai Precision = 0.0\n",
      "Nilai Recall = 0.0\n",
      "Nilai F1 = 0.0\n",
      "Di test dapat performa\n",
      "Nilai Precision = 0.0\n",
      "Nilai Recall = 0.0\n",
      "Nilai F1 = 0.0\n",
      "########\n",
      "/workspace/dataset/gempa\n",
      "Rata-rata nilai test dengan Classifier xgb, rf, dan mlp adalah\n",
      "Precision = 0.07575757575757576\n",
      "Recall = 0.3333333333333333\n",
      "F1 = 0.12345679012345678\n",
      "\n",
      "\n",
      "/workspace/dataset\n",
      "Eksperimen pada bencana gempa dengan representasi teks trunc_combination\n"
     ]
    },
    {
     "name": "stderr",
     "output_type": "stream",
     "text": [
      "/opt/conda/lib/python3.8/site-packages/sklearn/metrics/_classification.py:1344: UndefinedMetricWarning: Precision and F-score are ill-defined and being set to 0.0 due to no predicted samples. Use `zero_division` parameter to control this behavior.\n",
      "  _warn_prf(average, modifier, msg_start, len(result))\n",
      "/opt/conda/lib/python3.8/site-packages/sklearn/metrics/_classification.py:1344: UndefinedMetricWarning: Precision and F-score are ill-defined and being set to 0.0 due to no predicted samples. Use `zero_division` parameter to control this behavior.\n",
      "  _warn_prf(average, modifier, msg_start, len(result))\n",
      "/tmp/ipykernel_1016/527456267.py:113: SettingWithCopyWarning: \n",
      "A value is trying to be set on a copy of a slice from a DataFrame.\n",
      "Try using .loc[row_indexer,col_indexer] = value instead\n",
      "\n",
      "See the caveats in the documentation: https://pandas.pydata.org/pandas-docs/stable/user_guide/indexing.html#returning-a-view-versus-a-copy\n",
      "  df['label'] = y_pred_test\n"
     ]
    },
    {
     "name": "stdout",
     "output_type": "stream",
     "text": [
      "XGBOOST\n",
      "Di train dapat performa \n",
      "Nilai Precision = 0.9935483870967742\n",
      "Nilai Recall = 0.88\n",
      "Nilai F1 = 0.9333333333333333\n",
      "Di test dapat performa\n",
      "Nilai Precision = 0.631578947368421\n",
      "Nilai Recall = 0.26666666666666666\n",
      "Nilai F1 = 0.37500000000000006\n",
      "########\n",
      "RANDOM FOREST\n"
     ]
    },
    {
     "name": "stderr",
     "output_type": "stream",
     "text": [
      "/tmp/ipykernel_1016/527456267.py:50: SettingWithCopyWarning: \n",
      "A value is trying to be set on a copy of a slice from a DataFrame.\n",
      "Try using .loc[row_indexer,col_indexer] = value instead\n",
      "\n",
      "See the caveats in the documentation: https://pandas.pydata.org/pandas-docs/stable/user_guide/indexing.html#returning-a-view-versus-a-copy\n",
      "  df['label'] = y_pred_test\n"
     ]
    },
    {
     "name": "stdout",
     "output_type": "stream",
     "text": [
      "Di train dapat performa \n",
      "Nilai Precision = 1.0\n",
      "Nilai Recall = 1.0\n",
      "Nilai F1 = 1.0\n",
      "Di test dapat performa\n",
      "Nilai Precision = 0.5\n",
      "Nilai Recall = 0.022222222222222223\n",
      "Nilai F1 = 0.0425531914893617\n",
      "########\n",
      "LOGISTIK REGRESSION\n"
     ]
    },
    {
     "name": "stderr",
     "output_type": "stream",
     "text": [
      "/tmp/ipykernel_1016/527456267.py:69: SettingWithCopyWarning: \n",
      "A value is trying to be set on a copy of a slice from a DataFrame.\n",
      "Try using .loc[row_indexer,col_indexer] = value instead\n",
      "\n",
      "See the caveats in the documentation: https://pandas.pydata.org/pandas-docs/stable/user_guide/indexing.html#returning-a-view-versus-a-copy\n",
      "  df['label'] = y_pred_test\n"
     ]
    },
    {
     "name": "stdout",
     "output_type": "stream",
     "text": [
      "Di train dapat performa \n",
      "Nilai Precision = 0.0\n",
      "Nilai Recall = 0.0\n",
      "Nilai F1 = 0.0\n",
      "Di test dapat performa\n",
      "Nilai Precision = 0.0\n",
      "Nilai Recall = 0.0\n",
      "Nilai F1 = 0.0\n",
      "########\n",
      "MLP\n"
     ]
    },
    {
     "name": "stderr",
     "output_type": "stream",
     "text": [
      "/opt/conda/lib/python3.8/site-packages/sklearn/metrics/_classification.py:1344: UndefinedMetricWarning: Precision and F-score are ill-defined and being set to 0.0 due to no predicted samples. Use `zero_division` parameter to control this behavior.\n",
      "  _warn_prf(average, modifier, msg_start, len(result))\n",
      "/opt/conda/lib/python3.8/site-packages/sklearn/metrics/_classification.py:1344: UndefinedMetricWarning: Precision and F-score are ill-defined and being set to 0.0 due to no predicted samples. Use `zero_division` parameter to control this behavior.\n",
      "  _warn_prf(average, modifier, msg_start, len(result))\n",
      "/tmp/ipykernel_1016/527456267.py:91: SettingWithCopyWarning: \n",
      "A value is trying to be set on a copy of a slice from a DataFrame.\n",
      "Try using .loc[row_indexer,col_indexer] = value instead\n",
      "\n",
      "See the caveats in the documentation: https://pandas.pydata.org/pandas-docs/stable/user_guide/indexing.html#returning-a-view-versus-a-copy\n",
      "  df['label'] = y_pred_test\n",
      "/opt/conda/lib/python3.8/site-packages/sklearn/neural_network/_multilayer_perceptron.py:686: ConvergenceWarning: Stochastic Optimizer: Maximum iterations (300) reached and the optimization hasn't converged yet.\n",
      "  warnings.warn(\n"
     ]
    },
    {
     "name": "stdout",
     "output_type": "stream",
     "text": [
      "Di train dapat performa \n",
      "Nilai Precision = 1.0\n",
      "Nilai Recall = 0.02857142857142857\n",
      "Nilai F1 = 0.05555555555555556\n",
      "Di test dapat performa\n",
      "Nilai Precision = 0.0\n",
      "Nilai Recall = 0.0\n",
      "Nilai F1 = 0.0\n",
      "########\n",
      "/workspace/dataset/gempa\n",
      "Rata-rata nilai test dengan Classifier xgb, rf, dan mlp adalah\n",
      "Precision = 0.37719298245614036\n",
      "Recall = 0.09629629629629628\n",
      "F1 = 0.1391843971631206\n",
      "\n",
      "\n",
      "/workspace/dataset\n",
      "Eksperimen pada bencana gempa dengan representasi teks textrank\n"
     ]
    },
    {
     "name": "stderr",
     "output_type": "stream",
     "text": [
      "/opt/conda/lib/python3.8/site-packages/sklearn/metrics/_classification.py:1344: UndefinedMetricWarning: Precision and F-score are ill-defined and being set to 0.0 due to no predicted samples. Use `zero_division` parameter to control this behavior.\n",
      "  _warn_prf(average, modifier, msg_start, len(result))\n",
      "/tmp/ipykernel_1016/527456267.py:113: SettingWithCopyWarning: \n",
      "A value is trying to be set on a copy of a slice from a DataFrame.\n",
      "Try using .loc[row_indexer,col_indexer] = value instead\n",
      "\n",
      "See the caveats in the documentation: https://pandas.pydata.org/pandas-docs/stable/user_guide/indexing.html#returning-a-view-versus-a-copy\n",
      "  df['label'] = y_pred_test\n"
     ]
    },
    {
     "name": "stdout",
     "output_type": "stream",
     "text": [
      "XGBOOST\n",
      "Di train dapat performa \n",
      "Nilai Precision = 1.0\n",
      "Nilai Recall = 0.8514285714285714\n",
      "Nilai F1 = 0.9197530864197531\n",
      "Di test dapat performa\n",
      "Nilai Precision = 0.22613065326633167\n",
      "Nilai Recall = 1.0\n",
      "Nilai F1 = 0.36885245901639346\n",
      "########\n",
      "RANDOM FOREST\n"
     ]
    },
    {
     "name": "stderr",
     "output_type": "stream",
     "text": [
      "/tmp/ipykernel_1016/527456267.py:50: SettingWithCopyWarning: \n",
      "A value is trying to be set on a copy of a slice from a DataFrame.\n",
      "Try using .loc[row_indexer,col_indexer] = value instead\n",
      "\n",
      "See the caveats in the documentation: https://pandas.pydata.org/pandas-docs/stable/user_guide/indexing.html#returning-a-view-versus-a-copy\n",
      "  df['label'] = y_pred_test\n"
     ]
    },
    {
     "name": "stdout",
     "output_type": "stream",
     "text": [
      "Di train dapat performa \n",
      "Nilai Precision = 1.0\n",
      "Nilai Recall = 1.0\n",
      "Nilai F1 = 1.0\n",
      "Di test dapat performa\n",
      "Nilai Precision = 0.22613065326633167\n",
      "Nilai Recall = 1.0\n",
      "Nilai F1 = 0.36885245901639346\n",
      "########\n",
      "LOGISTIK REGRESSION\n"
     ]
    },
    {
     "name": "stderr",
     "output_type": "stream",
     "text": [
      "/tmp/ipykernel_1016/527456267.py:69: SettingWithCopyWarning: \n",
      "A value is trying to be set on a copy of a slice from a DataFrame.\n",
      "Try using .loc[row_indexer,col_indexer] = value instead\n",
      "\n",
      "See the caveats in the documentation: https://pandas.pydata.org/pandas-docs/stable/user_guide/indexing.html#returning-a-view-versus-a-copy\n",
      "  df['label'] = y_pred_test\n"
     ]
    },
    {
     "name": "stdout",
     "output_type": "stream",
     "text": [
      "Di train dapat performa \n",
      "Nilai Precision = 0.0\n",
      "Nilai Recall = 0.0\n",
      "Nilai F1 = 0.0\n",
      "Di test dapat performa\n",
      "Nilai Precision = 0.0\n",
      "Nilai Recall = 0.0\n",
      "Nilai F1 = 0.0\n",
      "########\n",
      "MLP\n"
     ]
    },
    {
     "name": "stderr",
     "output_type": "stream",
     "text": [
      "/opt/conda/lib/python3.8/site-packages/sklearn/metrics/_classification.py:1344: UndefinedMetricWarning: Precision and F-score are ill-defined and being set to 0.0 due to no predicted samples. Use `zero_division` parameter to control this behavior.\n",
      "  _warn_prf(average, modifier, msg_start, len(result))\n",
      "/opt/conda/lib/python3.8/site-packages/sklearn/metrics/_classification.py:1344: UndefinedMetricWarning: Precision and F-score are ill-defined and being set to 0.0 due to no predicted samples. Use `zero_division` parameter to control this behavior.\n",
      "  _warn_prf(average, modifier, msg_start, len(result))\n",
      "/tmp/ipykernel_1016/527456267.py:91: SettingWithCopyWarning: \n",
      "A value is trying to be set on a copy of a slice from a DataFrame.\n",
      "Try using .loc[row_indexer,col_indexer] = value instead\n",
      "\n",
      "See the caveats in the documentation: https://pandas.pydata.org/pandas-docs/stable/user_guide/indexing.html#returning-a-view-versus-a-copy\n",
      "  df['label'] = y_pred_test\n"
     ]
    },
    {
     "name": "stdout",
     "output_type": "stream",
     "text": [
      "Di train dapat performa \n",
      "Nilai Precision = 0.0\n",
      "Nilai Recall = 0.0\n",
      "Nilai F1 = 0.0\n",
      "Di test dapat performa\n",
      "Nilai Precision = 0.0\n",
      "Nilai Recall = 0.0\n",
      "Nilai F1 = 0.0\n",
      "########\n",
      "/workspace/dataset/gempa\n",
      "Rata-rata nilai test dengan Classifier xgb, rf, dan mlp adalah\n",
      "Precision = 0.15075376884422112\n",
      "Recall = 0.6666666666666666\n",
      "F1 = 0.24590163934426232\n",
      "\n",
      "\n",
      "/workspace/dataset\n",
      "Eksperimen pada bencana gempa dengan representasi teks sum_indobart\n"
     ]
    },
    {
     "name": "stderr",
     "output_type": "stream",
     "text": [
      "/opt/conda/lib/python3.8/site-packages/sklearn/metrics/_classification.py:1344: UndefinedMetricWarning: Precision and F-score are ill-defined and being set to 0.0 due to no predicted samples. Use `zero_division` parameter to control this behavior.\n",
      "  _warn_prf(average, modifier, msg_start, len(result))\n",
      "/opt/conda/lib/python3.8/site-packages/sklearn/metrics/_classification.py:1344: UndefinedMetricWarning: Precision and F-score are ill-defined and being set to 0.0 due to no predicted samples. Use `zero_division` parameter to control this behavior.\n",
      "  _warn_prf(average, modifier, msg_start, len(result))\n",
      "/tmp/ipykernel_1016/527456267.py:113: SettingWithCopyWarning: \n",
      "A value is trying to be set on a copy of a slice from a DataFrame.\n",
      "Try using .loc[row_indexer,col_indexer] = value instead\n",
      "\n",
      "See the caveats in the documentation: https://pandas.pydata.org/pandas-docs/stable/user_guide/indexing.html#returning-a-view-versus-a-copy\n",
      "  df['label'] = y_pred_test\n"
     ]
    },
    {
     "name": "stdout",
     "output_type": "stream",
     "text": [
      "XGBOOST\n",
      "Di train dapat performa \n",
      "Nilai Precision = 0.9932432432432432\n",
      "Nilai Recall = 0.84\n",
      "Nilai F1 = 0.9102167182662537\n",
      "Di test dapat performa\n",
      "Nilai Precision = 0.3448275862068966\n",
      "Nilai Recall = 0.2222222222222222\n",
      "Nilai F1 = 0.27027027027027023\n",
      "########\n",
      "RANDOM FOREST\n"
     ]
    },
    {
     "name": "stderr",
     "output_type": "stream",
     "text": [
      "/tmp/ipykernel_1016/527456267.py:50: SettingWithCopyWarning: \n",
      "A value is trying to be set on a copy of a slice from a DataFrame.\n",
      "Try using .loc[row_indexer,col_indexer] = value instead\n",
      "\n",
      "See the caveats in the documentation: https://pandas.pydata.org/pandas-docs/stable/user_guide/indexing.html#returning-a-view-versus-a-copy\n",
      "  df['label'] = y_pred_test\n"
     ]
    },
    {
     "name": "stdout",
     "output_type": "stream",
     "text": [
      "Di train dapat performa \n",
      "Nilai Precision = 1.0\n",
      "Nilai Recall = 1.0\n",
      "Nilai F1 = 1.0\n",
      "Di test dapat performa\n",
      "Nilai Precision = 0.42857142857142855\n",
      "Nilai Recall = 0.06666666666666667\n",
      "Nilai F1 = 0.11538461538461539\n",
      "########\n",
      "LOGISTIK REGRESSION\n",
      "Di train dapat performa \n",
      "Nilai Precision = 0.0\n",
      "Nilai Recall = 0.0\n",
      "Nilai F1 = 0.0\n",
      "Di test dapat performa\n",
      "Nilai Precision = 0.0\n",
      "Nilai Recall = 0.0\n",
      "Nilai F1 = 0.0\n",
      "########\n",
      "MLP\n"
     ]
    },
    {
     "name": "stderr",
     "output_type": "stream",
     "text": [
      "/tmp/ipykernel_1016/527456267.py:69: SettingWithCopyWarning: \n",
      "A value is trying to be set on a copy of a slice from a DataFrame.\n",
      "Try using .loc[row_indexer,col_indexer] = value instead\n",
      "\n",
      "See the caveats in the documentation: https://pandas.pydata.org/pandas-docs/stable/user_guide/indexing.html#returning-a-view-versus-a-copy\n",
      "  df['label'] = y_pred_test\n",
      "/opt/conda/lib/python3.8/site-packages/sklearn/metrics/_classification.py:1344: UndefinedMetricWarning: Precision and F-score are ill-defined and being set to 0.0 due to no predicted samples. Use `zero_division` parameter to control this behavior.\n",
      "  _warn_prf(average, modifier, msg_start, len(result))\n",
      "/opt/conda/lib/python3.8/site-packages/sklearn/metrics/_classification.py:1344: UndefinedMetricWarning: Precision and F-score are ill-defined and being set to 0.0 due to no predicted samples. Use `zero_division` parameter to control this behavior.\n",
      "  _warn_prf(average, modifier, msg_start, len(result))\n",
      "/tmp/ipykernel_1016/527456267.py:91: SettingWithCopyWarning: \n",
      "A value is trying to be set on a copy of a slice from a DataFrame.\n",
      "Try using .loc[row_indexer,col_indexer] = value instead\n",
      "\n",
      "See the caveats in the documentation: https://pandas.pydata.org/pandas-docs/stable/user_guide/indexing.html#returning-a-view-versus-a-copy\n",
      "  df['label'] = y_pred_test\n",
      "/opt/conda/lib/python3.8/site-packages/sklearn/neural_network/_multilayer_perceptron.py:686: ConvergenceWarning: Stochastic Optimizer: Maximum iterations (300) reached and the optimization hasn't converged yet.\n",
      "  warnings.warn(\n"
     ]
    },
    {
     "name": "stdout",
     "output_type": "stream",
     "text": [
      "Di train dapat performa \n",
      "Nilai Precision = 0.9090909090909091\n",
      "Nilai Recall = 0.05714285714285714\n",
      "Nilai F1 = 0.1075268817204301\n",
      "Di test dapat performa\n",
      "Nilai Precision = 0.6666666666666666\n",
      "Nilai Recall = 0.044444444444444446\n",
      "Nilai F1 = 0.08333333333333334\n",
      "########\n",
      "/workspace/dataset/gempa\n",
      "Rata-rata nilai test dengan Classifier xgb, rf, dan mlp adalah\n",
      "Precision = 0.4800218938149972\n",
      "Recall = 0.1111111111111111\n",
      "F1 = 0.1563294063294063\n",
      "\n",
      "\n",
      "/workspace/dataset\n",
      "Eksperimen pada bencana gempa dengan representasi teks sum_liputan6\n"
     ]
    },
    {
     "name": "stderr",
     "output_type": "stream",
     "text": [
      "/tmp/ipykernel_1016/527456267.py:113: SettingWithCopyWarning: \n",
      "A value is trying to be set on a copy of a slice from a DataFrame.\n",
      "Try using .loc[row_indexer,col_indexer] = value instead\n",
      "\n",
      "See the caveats in the documentation: https://pandas.pydata.org/pandas-docs/stable/user_guide/indexing.html#returning-a-view-versus-a-copy\n",
      "  df['label'] = y_pred_test\n"
     ]
    },
    {
     "name": "stdout",
     "output_type": "stream",
     "text": [
      "XGBOOST\n",
      "Di train dapat performa \n",
      "Nilai Precision = 1.0\n",
      "Nilai Recall = 0.8171428571428572\n",
      "Nilai F1 = 0.89937106918239\n",
      "Di test dapat performa\n",
      "Nilai Precision = 0.25\n",
      "Nilai Recall = 0.022222222222222223\n",
      "Nilai F1 = 0.04081632653061225\n",
      "########\n",
      "RANDOM FOREST\n"
     ]
    },
    {
     "name": "stderr",
     "output_type": "stream",
     "text": [
      "/tmp/ipykernel_1016/527456267.py:50: SettingWithCopyWarning: \n",
      "A value is trying to be set on a copy of a slice from a DataFrame.\n",
      "Try using .loc[row_indexer,col_indexer] = value instead\n",
      "\n",
      "See the caveats in the documentation: https://pandas.pydata.org/pandas-docs/stable/user_guide/indexing.html#returning-a-view-versus-a-copy\n",
      "  df['label'] = y_pred_test\n"
     ]
    },
    {
     "name": "stdout",
     "output_type": "stream",
     "text": [
      "Di train dapat performa \n",
      "Nilai Precision = 1.0\n",
      "Nilai Recall = 1.0\n",
      "Nilai F1 = 1.0\n",
      "Di test dapat performa\n",
      "Nilai Precision = 0.4117647058823529\n",
      "Nilai Recall = 0.15555555555555556\n",
      "Nilai F1 = 0.22580645161290322\n",
      "########\n",
      "LOGISTIK REGRESSION\n"
     ]
    },
    {
     "name": "stderr",
     "output_type": "stream",
     "text": [
      "/tmp/ipykernel_1016/527456267.py:69: SettingWithCopyWarning: \n",
      "A value is trying to be set on a copy of a slice from a DataFrame.\n",
      "Try using .loc[row_indexer,col_indexer] = value instead\n",
      "\n",
      "See the caveats in the documentation: https://pandas.pydata.org/pandas-docs/stable/user_guide/indexing.html#returning-a-view-versus-a-copy\n",
      "  df['label'] = y_pred_test\n"
     ]
    },
    {
     "name": "stdout",
     "output_type": "stream",
     "text": [
      "Di train dapat performa \n",
      "Nilai Precision = 0.0\n",
      "Nilai Recall = 0.0\n",
      "Nilai F1 = 0.0\n",
      "Di test dapat performa\n",
      "Nilai Precision = 0.0\n",
      "Nilai Recall = 0.0\n",
      "Nilai F1 = 0.0\n",
      "########\n",
      "MLP\n"
     ]
    },
    {
     "name": "stderr",
     "output_type": "stream",
     "text": [
      "/opt/conda/lib/python3.8/site-packages/sklearn/metrics/_classification.py:1344: UndefinedMetricWarning: Precision and F-score are ill-defined and being set to 0.0 due to no predicted samples. Use `zero_division` parameter to control this behavior.\n",
      "  _warn_prf(average, modifier, msg_start, len(result))\n",
      "/opt/conda/lib/python3.8/site-packages/sklearn/metrics/_classification.py:1344: UndefinedMetricWarning: Precision and F-score are ill-defined and being set to 0.0 due to no predicted samples. Use `zero_division` parameter to control this behavior.\n",
      "  _warn_prf(average, modifier, msg_start, len(result))\n",
      "/tmp/ipykernel_1016/527456267.py:91: SettingWithCopyWarning: \n",
      "A value is trying to be set on a copy of a slice from a DataFrame.\n",
      "Try using .loc[row_indexer,col_indexer] = value instead\n",
      "\n",
      "See the caveats in the documentation: https://pandas.pydata.org/pandas-docs/stable/user_guide/indexing.html#returning-a-view-versus-a-copy\n",
      "  df['label'] = y_pred_test\n",
      "/opt/conda/lib/python3.8/site-packages/sklearn/neural_network/_multilayer_perceptron.py:686: ConvergenceWarning: Stochastic Optimizer: Maximum iterations (300) reached and the optimization hasn't converged yet.\n",
      "  warnings.warn(\n"
     ]
    },
    {
     "name": "stdout",
     "output_type": "stream",
     "text": [
      "Di train dapat performa \n",
      "Nilai Precision = 0.7777777777777778\n",
      "Nilai Recall = 0.08\n",
      "Nilai F1 = 0.1450777202072539\n",
      "Di test dapat performa\n",
      "Nilai Precision = 0.5\n",
      "Nilai Recall = 0.022222222222222223\n",
      "Nilai F1 = 0.0425531914893617\n",
      "########\n",
      "/workspace/dataset/gempa\n",
      "Rata-rata nilai test dengan Classifier xgb, rf, dan mlp adalah\n",
      "Precision = 0.38725490196078427\n",
      "Recall = 0.06666666666666667\n",
      "F1 = 0.1030586565442924\n",
      "\n",
      "\n",
      "/workspace/dataset\n",
      "Eksperimen pada bencana gempa dengan representasi teks sum_pegasus\n"
     ]
    },
    {
     "name": "stderr",
     "output_type": "stream",
     "text": [
      "/tmp/ipykernel_1016/527456267.py:113: SettingWithCopyWarning: \n",
      "A value is trying to be set on a copy of a slice from a DataFrame.\n",
      "Try using .loc[row_indexer,col_indexer] = value instead\n",
      "\n",
      "See the caveats in the documentation: https://pandas.pydata.org/pandas-docs/stable/user_guide/indexing.html#returning-a-view-versus-a-copy\n",
      "  df['label'] = y_pred_test\n"
     ]
    },
    {
     "name": "stdout",
     "output_type": "stream",
     "text": [
      "XGBOOST\n",
      "Di train dapat performa \n",
      "Nilai Precision = 0.9829059829059829\n",
      "Nilai Recall = 0.6571428571428571\n",
      "Nilai F1 = 0.7876712328767123\n",
      "Di test dapat performa\n",
      "Nilai Precision = 0.125\n",
      "Nilai Recall = 0.022222222222222223\n",
      "Nilai F1 = 0.03773584905660377\n",
      "########\n",
      "RANDOM FOREST\n"
     ]
    },
    {
     "name": "stderr",
     "output_type": "stream",
     "text": [
      "/tmp/ipykernel_1016/527456267.py:50: SettingWithCopyWarning: \n",
      "A value is trying to be set on a copy of a slice from a DataFrame.\n",
      "Try using .loc[row_indexer,col_indexer] = value instead\n",
      "\n",
      "See the caveats in the documentation: https://pandas.pydata.org/pandas-docs/stable/user_guide/indexing.html#returning-a-view-versus-a-copy\n",
      "  df['label'] = y_pred_test\n"
     ]
    },
    {
     "name": "stdout",
     "output_type": "stream",
     "text": [
      "Di train dapat performa \n",
      "Nilai Precision = 1.0\n",
      "Nilai Recall = 1.0\n",
      "Nilai F1 = 1.0\n",
      "Di test dapat performa\n",
      "Nilai Precision = 0.3076923076923077\n",
      "Nilai Recall = 0.08888888888888889\n",
      "Nilai F1 = 0.13793103448275862\n",
      "########\n",
      "LOGISTIK REGRESSION\n"
     ]
    },
    {
     "name": "stderr",
     "output_type": "stream",
     "text": [
      "/tmp/ipykernel_1016/527456267.py:69: SettingWithCopyWarning: \n",
      "A value is trying to be set on a copy of a slice from a DataFrame.\n",
      "Try using .loc[row_indexer,col_indexer] = value instead\n",
      "\n",
      "See the caveats in the documentation: https://pandas.pydata.org/pandas-docs/stable/user_guide/indexing.html#returning-a-view-versus-a-copy\n",
      "  df['label'] = y_pred_test\n"
     ]
    },
    {
     "name": "stdout",
     "output_type": "stream",
     "text": [
      "Di train dapat performa \n",
      "Nilai Precision = 1.0\n",
      "Nilai Recall = 0.005714285714285714\n",
      "Nilai F1 = 0.011363636363636362\n",
      "Di test dapat performa\n",
      "Nilai Precision = 0.0\n",
      "Nilai Recall = 0.0\n",
      "Nilai F1 = 0.0\n",
      "########\n",
      "MLP\n"
     ]
    },
    {
     "name": "stderr",
     "output_type": "stream",
     "text": [
      "/opt/conda/lib/python3.8/site-packages/sklearn/metrics/_classification.py:1344: UndefinedMetricWarning: Precision and F-score are ill-defined and being set to 0.0 due to no predicted samples. Use `zero_division` parameter to control this behavior.\n",
      "  _warn_prf(average, modifier, msg_start, len(result))\n",
      "/tmp/ipykernel_1016/527456267.py:91: SettingWithCopyWarning: \n",
      "A value is trying to be set on a copy of a slice from a DataFrame.\n",
      "Try using .loc[row_indexer,col_indexer] = value instead\n",
      "\n",
      "See the caveats in the documentation: https://pandas.pydata.org/pandas-docs/stable/user_guide/indexing.html#returning-a-view-versus-a-copy\n",
      "  df['label'] = y_pred_test\n"
     ]
    },
    {
     "name": "stdout",
     "output_type": "stream",
     "text": [
      "Di train dapat performa \n",
      "Nilai Precision = 0.0\n",
      "Nilai Recall = 0.0\n",
      "Nilai F1 = 0.0\n",
      "Di test dapat performa\n",
      "Nilai Precision = 0.0\n",
      "Nilai Recall = 0.0\n",
      "Nilai F1 = 0.0\n",
      "########\n",
      "/workspace/dataset/gempa\n",
      "Rata-rata nilai test dengan Classifier xgb, rf, dan mlp adalah\n",
      "Precision = 0.14423076923076925\n",
      "Recall = 0.03703703703703704\n",
      "F1 = 0.05855562784645413\n",
      "\n",
      "\n",
      "************************************************************\n",
      "{'gempa': {'title_ori': {'xgb': {'prec': 0.22613065326633167, 'rec': 1.0, 'f1': 0.36885245901639346, 'acc': 0.23}, 'rf': {'prec': 0.24074074074074073, 'rec': 0.8666666666666667, 'f1': 0.37681159420289856, 'acc': 0.355}, 'lr': {'prec': 0.0, 'rec': 0.0, 'f1': 0.0, 'acc': 0.76}, 'mlp': {'prec': 0.0, 'rec': 0.0, 'f1': 0.0, 'acc': 0.765}}, 'text_ori': {'xgb': {'prec': 0.7857142857142857, 'rec': 0.24444444444444444, 'f1': 0.3728813559322034, 'acc': 0.815}, 'rf': {'prec': 0.6666666666666666, 'rec': 0.08888888888888889, 'f1': 0.1568627450980392, 'acc': 0.785}, 'lr': {'prec': 0.0, 'rec': 0.0, 'f1': 0.0, 'acc': 0.775}, 'mlp': {'prec': 0.0, 'rec': 0.0, 'f1': 0.0, 'acc': 0.775}}, 'tc_ori': {'xgb': {'prec': 0.7647058823529411, 'rec': 0.28888888888888886, 'f1': 0.41935483870967744, 'acc': 0.82}, 'rf': {'prec': 0.8571428571428571, 'rec': 0.13333333333333333, 'f1': 0.23076923076923078, 'acc': 0.8}, 'lr': {'prec': 0.0, 'rec': 0.0, 'f1': 0.0, 'acc': 0.775}, 'mlp': {'prec': 0.0, 'rec': 0.0, 'f1': 0.0, 'acc': 0.775}}, 'filter_word_tc': {'xgb': {'prec': 0.0, 'rec': 0.0, 'f1': 0.0, 'acc': 0.775}, 'rf': {'prec': 0.0, 'rec': 0.0, 'f1': 0.0, 'acc': 0.775}, 'lr': {'prec': 0.0, 'rec': 0.0, 'f1': 0.0, 'acc': 0.775}, 'mlp': {'prec': 0.0, 'rec': 0.0, 'f1': 0.0, 'acc': 0.775}}, 'filter_word_tc_window': {'xgb': {'prec': 0.6956521739130435, 'rec': 0.35555555555555557, 'f1': 0.47058823529411764, 'acc': 0.82}, 'rf': {'prec': 1.0, 'rec': 0.08888888888888889, 'f1': 0.163265306122449, 'acc': 0.795}, 'lr': {'prec': 0.0, 'rec': 0.0, 'f1': 0.0, 'acc': 0.775}, 'mlp': {'prec': 0.0, 'rec': 0.0, 'f1': 0.0, 'acc': 0.775}}, 'trunc_first_short': {'xgb': {'prec': 0.48, 'rec': 0.26666666666666666, 'f1': 0.3428571428571429, 'acc': 0.77}, 'rf': {'prec': 0.6, 'rec': 0.06666666666666667, 'f1': 0.12000000000000001, 'acc': 0.78}, 'lr': {'prec': 0.0, 'rec': 0.0, 'f1': 0.0, 'acc': 0.775}, 'mlp': {'prec': 0.0, 'rec': 0.0, 'f1': 0.0, 'acc': 0.77}}, 'trunc_last_short': {'xgb': {'prec': 0.5, 'rec': 0.06666666666666667, 'f1': 0.11764705882352941, 'acc': 0.775}, 'rf': {'prec': 0.2727272727272727, 'rec': 0.06666666666666667, 'f1': 0.10714285714285715, 'acc': 0.75}, 'lr': {'prec': 0.0, 'rec': 0.0, 'f1': 0.0, 'acc': 0.775}, 'mlp': {'prec': 0.0, 'rec': 0.0, 'f1': 0.0, 'acc': 0.775}}, 'trunc_first_long': {'xgb': {'prec': 0.2608695652173913, 'rec': 0.26666666666666666, 'f1': 0.26373626373626374, 'acc': 0.665}, 'rf': {'prec': 0.4, 'rec': 0.044444444444444446, 'f1': 0.07999999999999999, 'acc': 0.77}, 'lr': {'prec': 0.0, 'rec': 0.0, 'f1': 0.0, 'acc': 0.775}, 'mlp': {'prec': 0.0, 'rec': 0.0, 'f1': 0.0, 'acc': 0.775}}, 'trunc_last_long': {'xgb': {'prec': 0.0, 'rec': 0.0, 'f1': 0.0, 'acc': 0.775}, 'rf': {'prec': 0.22727272727272727, 'rec': 1.0, 'f1': 0.37037037037037035, 'acc': 0.235}, 'lr': {'prec': 0.0, 'rec': 0.0, 'f1': 0.0, 'acc': 0.775}, 'mlp': {'prec': 0.0, 'rec': 0.0, 'f1': 0.0, 'acc': 0.775}}, 'trunc_combination': {'xgb': {'prec': 0.631578947368421, 'rec': 0.26666666666666666, 'f1': 0.37500000000000006, 'acc': 0.8}, 'rf': {'prec': 0.5, 'rec': 0.022222222222222223, 'f1': 0.0425531914893617, 'acc': 0.775}, 'lr': {'prec': 0.0, 'rec': 0.0, 'f1': 0.0, 'acc': 0.775}, 'mlp': {'prec': 0.0, 'rec': 0.0, 'f1': 0.0, 'acc': 0.775}}, 'textrank': {'xgb': {'prec': 0.22613065326633167, 'rec': 1.0, 'f1': 0.36885245901639346, 'acc': 0.23}, 'rf': {'prec': 0.22613065326633167, 'rec': 1.0, 'f1': 0.36885245901639346, 'acc': 0.23}, 'lr': {'prec': 0.0, 'rec': 0.0, 'f1': 0.0, 'acc': 0.775}, 'mlp': {'prec': 0.0, 'rec': 0.0, 'f1': 0.0, 'acc': 0.775}}, 'sum_indobart': {'xgb': {'prec': 0.3448275862068966, 'rec': 0.2222222222222222, 'f1': 0.27027027027027023, 'acc': 0.73}, 'rf': {'prec': 0.42857142857142855, 'rec': 0.06666666666666667, 'f1': 0.11538461538461539, 'acc': 0.77}, 'lr': {'prec': 0.0, 'rec': 0.0, 'f1': 0.0, 'acc': 0.775}, 'mlp': {'prec': 0.6666666666666666, 'rec': 0.044444444444444446, 'f1': 0.08333333333333334, 'acc': 0.78}}, 'sum_liputan6': {'xgb': {'prec': 0.25, 'rec': 0.022222222222222223, 'f1': 0.04081632653061225, 'acc': 0.765}, 'rf': {'prec': 0.4117647058823529, 'rec': 0.15555555555555556, 'f1': 0.22580645161290322, 'acc': 0.76}, 'lr': {'prec': 0.0, 'rec': 0.0, 'f1': 0.0, 'acc': 0.775}, 'mlp': {'prec': 0.5, 'rec': 0.022222222222222223, 'f1': 0.0425531914893617, 'acc': 0.775}}, 'sum_pegasus': {'xgb': {'prec': 0.125, 'rec': 0.022222222222222223, 'f1': 0.03773584905660377, 'acc': 0.745}, 'rf': {'prec': 0.3076923076923077, 'rec': 0.08888888888888889, 'f1': 0.13793103448275862, 'acc': 0.75}, 'lr': {'prec': 0.0, 'rec': 0.0, 'f1': 0.0, 'acc': 0.775}, 'mlp': {'prec': 0.0, 'rec': 0.0, 'f1': 0.0, 'acc': 0.775}}}}\n",
      "/workspace/dataset\n"
     ]
    },
    {
     "name": "stderr",
     "output_type": "stream",
     "text": [
      "/opt/conda/lib/python3.8/site-packages/sklearn/metrics/_classification.py:1344: UndefinedMetricWarning: Precision and F-score are ill-defined and being set to 0.0 due to no predicted samples. Use `zero_division` parameter to control this behavior.\n",
      "  _warn_prf(average, modifier, msg_start, len(result))\n",
      "/opt/conda/lib/python3.8/site-packages/sklearn/metrics/_classification.py:1344: UndefinedMetricWarning: Precision and F-score are ill-defined and being set to 0.0 due to no predicted samples. Use `zero_division` parameter to control this behavior.\n",
      "  _warn_prf(average, modifier, msg_start, len(result))\n",
      "/tmp/ipykernel_1016/527456267.py:113: SettingWithCopyWarning: \n",
      "A value is trying to be set on a copy of a slice from a DataFrame.\n",
      "Try using .loc[row_indexer,col_indexer] = value instead\n",
      "\n",
      "See the caveats in the documentation: https://pandas.pydata.org/pandas-docs/stable/user_guide/indexing.html#returning-a-view-versus-a-copy\n",
      "  df['label'] = y_pred_test\n"
     ]
    }
   ],
   "source": [
    "%cd gempa\n",
    "get_f1_eks_representasi_teks_bencana('gempa')\n",
    "%cd .."
   ]
  },
  {
   "cell_type": "code",
   "execution_count": 18,
   "id": "4300e4ac",
   "metadata": {
    "scrolled": true
   },
   "outputs": [
    {
     "name": "stdout",
     "output_type": "stream",
     "text": [
      "/workspace/dataset/karhutla\n",
      "evaluasi pada bencana = karhutla\n",
      "/workspace/dataset\n",
      "Eksperimen pada bencana karhutla dengan representasi teks title_ori\n",
      "XGBOOST\n",
      "Di train dapat performa \n",
      "Nilai Precision = 0.9767441860465116\n",
      "Nilai Recall = 0.8689655172413793\n",
      "Nilai F1 = 0.9197080291970803\n",
      "Di test dapat performa\n",
      "Nilai Precision = 0.28\n",
      "Nilai Recall = 1.0\n",
      "Nilai F1 = 0.43750000000000006\n",
      "########\n",
      "RANDOM FOREST\n"
     ]
    },
    {
     "name": "stderr",
     "output_type": "stream",
     "text": [
      "/tmp/ipykernel_2258012/527456267.py:50: SettingWithCopyWarning: \n",
      "A value is trying to be set on a copy of a slice from a DataFrame.\n",
      "Try using .loc[row_indexer,col_indexer] = value instead\n",
      "\n",
      "See the caveats in the documentation: https://pandas.pydata.org/pandas-docs/stable/user_guide/indexing.html#returning-a-view-versus-a-copy\n",
      "  df['label'] = y_pred_test\n"
     ]
    },
    {
     "name": "stdout",
     "output_type": "stream",
     "text": [
      "Di train dapat performa \n",
      "Nilai Precision = 1.0\n",
      "Nilai Recall = 0.996551724137931\n",
      "Nilai F1 = 0.9982728842832469\n",
      "Di test dapat performa\n",
      "Nilai Precision = 0.27918781725888325\n",
      "Nilai Recall = 0.9821428571428571\n",
      "Nilai F1 = 0.43478260869565216\n",
      "########\n",
      "LOGISTIK REGRESSION\n"
     ]
    },
    {
     "name": "stderr",
     "output_type": "stream",
     "text": [
      "/tmp/ipykernel_2258012/527456267.py:69: SettingWithCopyWarning: \n",
      "A value is trying to be set on a copy of a slice from a DataFrame.\n",
      "Try using .loc[row_indexer,col_indexer] = value instead\n",
      "\n",
      "See the caveats in the documentation: https://pandas.pydata.org/pandas-docs/stable/user_guide/indexing.html#returning-a-view-versus-a-copy\n",
      "  df['label'] = y_pred_test\n"
     ]
    },
    {
     "name": "stdout",
     "output_type": "stream",
     "text": [
      "Di train dapat performa \n",
      "Nilai Precision = 0.7986577181208053\n",
      "Nilai Recall = 0.4103448275862069\n",
      "Nilai F1 = 0.5421412300683371\n",
      "Di test dapat performa\n",
      "Nilai Precision = 0.6956521739130435\n",
      "Nilai Recall = 0.5714285714285714\n",
      "Nilai F1 = 0.6274509803921569\n",
      "########\n",
      "MLP\n"
     ]
    },
    {
     "name": "stderr",
     "output_type": "stream",
     "text": [
      "/tmp/ipykernel_2258012/527456267.py:91: SettingWithCopyWarning: \n",
      "A value is trying to be set on a copy of a slice from a DataFrame.\n",
      "Try using .loc[row_indexer,col_indexer] = value instead\n",
      "\n",
      "See the caveats in the documentation: https://pandas.pydata.org/pandas-docs/stable/user_guide/indexing.html#returning-a-view-versus-a-copy\n",
      "  df['label'] = y_pred_test\n"
     ]
    },
    {
     "name": "stdout",
     "output_type": "stream",
     "text": [
      "Di train dapat performa \n",
      "Nilai Precision = 0.6349206349206349\n",
      "Nilai Recall = 0.6896551724137931\n",
      "Nilai F1 = 0.6611570247933884\n",
      "Di test dapat performa\n",
      "Nilai Precision = 0.46464646464646464\n",
      "Nilai Recall = 0.8214285714285714\n",
      "Nilai F1 = 0.5935483870967742\n",
      "########\n",
      "/workspace/dataset/karhutla\n",
      "Rata-rata nilai test dengan Classifier xgb, rf, dan mlp adalah\n",
      "Precision = 0.34127809396844927\n",
      "Recall = 0.9345238095238096\n",
      "F1 = 0.48861033193080877\n",
      "\n",
      "\n",
      "/workspace/dataset\n",
      "Eksperimen pada bencana karhutla dengan representasi teks text_ori\n"
     ]
    },
    {
     "name": "stderr",
     "output_type": "stream",
     "text": [
      "/tmp/ipykernel_2258012/527456267.py:113: SettingWithCopyWarning: \n",
      "A value is trying to be set on a copy of a slice from a DataFrame.\n",
      "Try using .loc[row_indexer,col_indexer] = value instead\n",
      "\n",
      "See the caveats in the documentation: https://pandas.pydata.org/pandas-docs/stable/user_guide/indexing.html#returning-a-view-versus-a-copy\n",
      "  df['label'] = y_pred_test\n"
     ]
    },
    {
     "name": "stdout",
     "output_type": "stream",
     "text": [
      "XGBOOST\n",
      "Di train dapat performa \n",
      "Nilai Precision = 0.9680851063829787\n",
      "Nilai Recall = 0.9413793103448276\n",
      "Nilai F1 = 0.9545454545454546\n",
      "Di test dapat performa\n",
      "Nilai Precision = 0.7435897435897436\n",
      "Nilai Recall = 0.5178571428571429\n",
      "Nilai F1 = 0.6105263157894737\n",
      "########\n",
      "RANDOM FOREST\n"
     ]
    },
    {
     "name": "stderr",
     "output_type": "stream",
     "text": [
      "/tmp/ipykernel_2258012/527456267.py:50: SettingWithCopyWarning: \n",
      "A value is trying to be set on a copy of a slice from a DataFrame.\n",
      "Try using .loc[row_indexer,col_indexer] = value instead\n",
      "\n",
      "See the caveats in the documentation: https://pandas.pydata.org/pandas-docs/stable/user_guide/indexing.html#returning-a-view-versus-a-copy\n",
      "  df['label'] = y_pred_test\n"
     ]
    },
    {
     "name": "stdout",
     "output_type": "stream",
     "text": [
      "Di train dapat performa \n",
      "Nilai Precision = 1.0\n",
      "Nilai Recall = 0.996551724137931\n",
      "Nilai F1 = 0.9982728842832469\n",
      "Di test dapat performa\n",
      "Nilai Precision = 0.6388888888888888\n",
      "Nilai Recall = 0.4107142857142857\n",
      "Nilai F1 = 0.5\n",
      "########\n",
      "LOGISTIK REGRESSION\n"
     ]
    },
    {
     "name": "stderr",
     "output_type": "stream",
     "text": [
      "/tmp/ipykernel_2258012/527456267.py:69: SettingWithCopyWarning: \n",
      "A value is trying to be set on a copy of a slice from a DataFrame.\n",
      "Try using .loc[row_indexer,col_indexer] = value instead\n",
      "\n",
      "See the caveats in the documentation: https://pandas.pydata.org/pandas-docs/stable/user_guide/indexing.html#returning-a-view-versus-a-copy\n",
      "  df['label'] = y_pred_test\n"
     ]
    },
    {
     "name": "stdout",
     "output_type": "stream",
     "text": [
      "Di train dapat performa \n",
      "Nilai Precision = 0.625\n",
      "Nilai Recall = 0.034482758620689655\n",
      "Nilai F1 = 0.06535947712418301\n",
      "Di test dapat performa\n",
      "Nilai Precision = 1.0\n",
      "Nilai Recall = 0.05357142857142857\n",
      "Nilai F1 = 0.10169491525423728\n",
      "########\n",
      "MLP\n"
     ]
    },
    {
     "name": "stderr",
     "output_type": "stream",
     "text": [
      "/tmp/ipykernel_2258012/527456267.py:91: SettingWithCopyWarning: \n",
      "A value is trying to be set on a copy of a slice from a DataFrame.\n",
      "Try using .loc[row_indexer,col_indexer] = value instead\n",
      "\n",
      "See the caveats in the documentation: https://pandas.pydata.org/pandas-docs/stable/user_guide/indexing.html#returning-a-view-versus-a-copy\n",
      "  df['label'] = y_pred_test\n"
     ]
    },
    {
     "name": "stdout",
     "output_type": "stream",
     "text": [
      "Di train dapat performa \n",
      "Nilai Precision = 0.7168141592920354\n",
      "Nilai Recall = 0.5586206896551724\n",
      "Nilai F1 = 0.627906976744186\n",
      "Di test dapat performa\n",
      "Nilai Precision = 0.6166666666666667\n",
      "Nilai Recall = 0.6607142857142857\n",
      "Nilai F1 = 0.6379310344827587\n",
      "########\n",
      "/workspace/dataset/karhutla\n",
      "Rata-rata nilai test dengan Classifier xgb, rf, dan mlp adalah\n",
      "Precision = 0.6663817663817664\n",
      "Recall = 0.5297619047619048\n",
      "F1 = 0.5828191167574108\n",
      "\n",
      "\n",
      "/workspace/dataset\n",
      "Eksperimen pada bencana karhutla dengan representasi teks tc_ori\n"
     ]
    },
    {
     "name": "stderr",
     "output_type": "stream",
     "text": [
      "/tmp/ipykernel_2258012/527456267.py:113: SettingWithCopyWarning: \n",
      "A value is trying to be set on a copy of a slice from a DataFrame.\n",
      "Try using .loc[row_indexer,col_indexer] = value instead\n",
      "\n",
      "See the caveats in the documentation: https://pandas.pydata.org/pandas-docs/stable/user_guide/indexing.html#returning-a-view-versus-a-copy\n",
      "  df['label'] = y_pred_test\n"
     ]
    },
    {
     "name": "stdout",
     "output_type": "stream",
     "text": [
      "XGBOOST\n",
      "Di train dapat performa \n",
      "Nilai Precision = 0.9678571428571429\n",
      "Nilai Recall = 0.9344827586206896\n",
      "Nilai F1 = 0.9508771929824561\n",
      "Di test dapat performa\n",
      "Nilai Precision = 0.8\n",
      "Nilai Recall = 0.5714285714285714\n",
      "Nilai F1 = 0.6666666666666666\n",
      "########\n",
      "RANDOM FOREST\n"
     ]
    },
    {
     "name": "stderr",
     "output_type": "stream",
     "text": [
      "/tmp/ipykernel_2258012/527456267.py:50: SettingWithCopyWarning: \n",
      "A value is trying to be set on a copy of a slice from a DataFrame.\n",
      "Try using .loc[row_indexer,col_indexer] = value instead\n",
      "\n",
      "See the caveats in the documentation: https://pandas.pydata.org/pandas-docs/stable/user_guide/indexing.html#returning-a-view-versus-a-copy\n",
      "  df['label'] = y_pred_test\n"
     ]
    },
    {
     "name": "stdout",
     "output_type": "stream",
     "text": [
      "Di train dapat performa \n",
      "Nilai Precision = 0.9965635738831615\n",
      "Nilai Recall = 1.0\n",
      "Nilai F1 = 0.9982788296041308\n",
      "Di test dapat performa\n",
      "Nilai Precision = 0.717948717948718\n",
      "Nilai Recall = 0.5\n",
      "Nilai F1 = 0.5894736842105263\n",
      "########\n",
      "LOGISTIK REGRESSION\n"
     ]
    },
    {
     "name": "stderr",
     "output_type": "stream",
     "text": [
      "/tmp/ipykernel_2258012/527456267.py:69: SettingWithCopyWarning: \n",
      "A value is trying to be set on a copy of a slice from a DataFrame.\n",
      "Try using .loc[row_indexer,col_indexer] = value instead\n",
      "\n",
      "See the caveats in the documentation: https://pandas.pydata.org/pandas-docs/stable/user_guide/indexing.html#returning-a-view-versus-a-copy\n",
      "  df['label'] = y_pred_test\n"
     ]
    },
    {
     "name": "stdout",
     "output_type": "stream",
     "text": [
      "Di train dapat performa \n",
      "Nilai Precision = 0.6111111111111112\n",
      "Nilai Recall = 0.03793103448275862\n",
      "Nilai F1 = 0.07142857142857144\n",
      "Di test dapat performa\n",
      "Nilai Precision = 1.0\n",
      "Nilai Recall = 0.10714285714285714\n",
      "Nilai F1 = 0.19354838709677416\n",
      "########\n",
      "MLP\n"
     ]
    },
    {
     "name": "stderr",
     "output_type": "stream",
     "text": [
      "/tmp/ipykernel_2258012/527456267.py:91: SettingWithCopyWarning: \n",
      "A value is trying to be set on a copy of a slice from a DataFrame.\n",
      "Try using .loc[row_indexer,col_indexer] = value instead\n",
      "\n",
      "See the caveats in the documentation: https://pandas.pydata.org/pandas-docs/stable/user_guide/indexing.html#returning-a-view-versus-a-copy\n",
      "  df['label'] = y_pred_test\n"
     ]
    },
    {
     "name": "stdout",
     "output_type": "stream",
     "text": [
      "Di train dapat performa \n",
      "Nilai Precision = 0.6872727272727273\n",
      "Nilai Recall = 0.6517241379310345\n",
      "Nilai F1 = 0.6690265486725663\n",
      "Di test dapat performa\n",
      "Nilai Precision = 0.6197183098591549\n",
      "Nilai Recall = 0.7857142857142857\n",
      "Nilai F1 = 0.6929133858267716\n",
      "########\n",
      "/workspace/dataset/karhutla\n",
      "Rata-rata nilai test dengan Classifier xgb, rf, dan mlp adalah\n",
      "Precision = 0.7125556759359576\n",
      "Recall = 0.6190476190476191\n",
      "F1 = 0.6496845789013216\n",
      "\n",
      "\n",
      "/workspace/dataset\n",
      "Eksperimen pada bencana karhutla dengan representasi teks filter_word_tc\n"
     ]
    },
    {
     "name": "stderr",
     "output_type": "stream",
     "text": [
      "/tmp/ipykernel_2258012/527456267.py:113: SettingWithCopyWarning: \n",
      "A value is trying to be set on a copy of a slice from a DataFrame.\n",
      "Try using .loc[row_indexer,col_indexer] = value instead\n",
      "\n",
      "See the caveats in the documentation: https://pandas.pydata.org/pandas-docs/stable/user_guide/indexing.html#returning-a-view-versus-a-copy\n",
      "  df['label'] = y_pred_test\n"
     ]
    },
    {
     "name": "stdout",
     "output_type": "stream",
     "text": [
      "XGBOOST\n",
      "Di train dapat performa \n",
      "Nilai Precision = 0.9806949806949807\n",
      "Nilai Recall = 0.8758620689655172\n",
      "Nilai F1 = 0.9253187613843351\n",
      "Di test dapat performa\n",
      "Nilai Precision = 0.47058823529411764\n",
      "Nilai Recall = 0.14285714285714285\n",
      "Nilai F1 = 0.2191780821917808\n",
      "########\n",
      "RANDOM FOREST\n"
     ]
    },
    {
     "name": "stderr",
     "output_type": "stream",
     "text": [
      "/tmp/ipykernel_2258012/527456267.py:50: SettingWithCopyWarning: \n",
      "A value is trying to be set on a copy of a slice from a DataFrame.\n",
      "Try using .loc[row_indexer,col_indexer] = value instead\n",
      "\n",
      "See the caveats in the documentation: https://pandas.pydata.org/pandas-docs/stable/user_guide/indexing.html#returning-a-view-versus-a-copy\n",
      "  df['label'] = y_pred_test\n"
     ]
    },
    {
     "name": "stdout",
     "output_type": "stream",
     "text": [
      "Di train dapat performa \n",
      "Nilai Precision = 1.0\n",
      "Nilai Recall = 0.993103448275862\n",
      "Nilai F1 = 0.9965397923875432\n",
      "Di test dapat performa\n",
      "Nilai Precision = 0.5\n",
      "Nilai Recall = 0.017857142857142856\n",
      "Nilai F1 = 0.03448275862068965\n",
      "########\n",
      "LOGISTIK REGRESSION\n",
      "Di train dapat performa \n",
      "Nilai Precision = 0.7037037037037037\n",
      "Nilai Recall = 0.1310344827586207\n",
      "Nilai F1 = 0.22093023255813954\n",
      "Di test dapat performa\n",
      "Nilai Precision = 0.5882352941176471\n",
      "Nilai Recall = 0.17857142857142858\n",
      "Nilai F1 = 0.273972602739726\n",
      "########\n",
      "MLP\n"
     ]
    },
    {
     "name": "stderr",
     "output_type": "stream",
     "text": [
      "/tmp/ipykernel_2258012/527456267.py:69: SettingWithCopyWarning: \n",
      "A value is trying to be set on a copy of a slice from a DataFrame.\n",
      "Try using .loc[row_indexer,col_indexer] = value instead\n",
      "\n",
      "See the caveats in the documentation: https://pandas.pydata.org/pandas-docs/stable/user_guide/indexing.html#returning-a-view-versus-a-copy\n",
      "  df['label'] = y_pred_test\n",
      "/tmp/ipykernel_2258012/527456267.py:91: SettingWithCopyWarning: \n",
      "A value is trying to be set on a copy of a slice from a DataFrame.\n",
      "Try using .loc[row_indexer,col_indexer] = value instead\n",
      "\n",
      "See the caveats in the documentation: https://pandas.pydata.org/pandas-docs/stable/user_guide/indexing.html#returning-a-view-versus-a-copy\n",
      "  df['label'] = y_pred_test\n"
     ]
    },
    {
     "name": "stdout",
     "output_type": "stream",
     "text": [
      "Di train dapat performa \n",
      "Nilai Precision = 0.6694214876033058\n",
      "Nilai Recall = 0.2793103448275862\n",
      "Nilai F1 = 0.3941605839416058\n",
      "Di test dapat performa\n",
      "Nilai Precision = 0.6153846153846154\n",
      "Nilai Recall = 0.2857142857142857\n",
      "Nilai F1 = 0.3902439024390244\n",
      "########\n",
      "/workspace/dataset/karhutla\n",
      "Rata-rata nilai test dengan Classifier xgb, rf, dan mlp adalah\n",
      "Precision = 0.528657616892911\n",
      "Recall = 0.1488095238095238\n",
      "F1 = 0.21463491441716495\n",
      "\n",
      "\n",
      "/workspace/dataset\n",
      "Eksperimen pada bencana karhutla dengan representasi teks filter_word_tc_window\n"
     ]
    },
    {
     "name": "stderr",
     "output_type": "stream",
     "text": [
      "/tmp/ipykernel_2258012/527456267.py:113: SettingWithCopyWarning: \n",
      "A value is trying to be set on a copy of a slice from a DataFrame.\n",
      "Try using .loc[row_indexer,col_indexer] = value instead\n",
      "\n",
      "See the caveats in the documentation: https://pandas.pydata.org/pandas-docs/stable/user_guide/indexing.html#returning-a-view-versus-a-copy\n",
      "  df['label'] = y_pred_test\n"
     ]
    },
    {
     "name": "stdout",
     "output_type": "stream",
     "text": [
      "XGBOOST\n",
      "Di train dapat performa \n",
      "Nilai Precision = 0.96415770609319\n",
      "Nilai Recall = 0.9275862068965517\n",
      "Nilai F1 = 0.9455184534270651\n",
      "Di test dapat performa\n",
      "Nilai Precision = 0.27450980392156865\n",
      "Nilai Recall = 0.25\n",
      "Nilai F1 = 0.26168224299065423\n",
      "########\n",
      "RANDOM FOREST\n"
     ]
    },
    {
     "name": "stderr",
     "output_type": "stream",
     "text": [
      "/tmp/ipykernel_2258012/527456267.py:50: SettingWithCopyWarning: \n",
      "A value is trying to be set on a copy of a slice from a DataFrame.\n",
      "Try using .loc[row_indexer,col_indexer] = value instead\n",
      "\n",
      "See the caveats in the documentation: https://pandas.pydata.org/pandas-docs/stable/user_guide/indexing.html#returning-a-view-versus-a-copy\n",
      "  df['label'] = y_pred_test\n"
     ]
    },
    {
     "name": "stdout",
     "output_type": "stream",
     "text": [
      "Di train dapat performa \n",
      "Nilai Precision = 1.0\n",
      "Nilai Recall = 0.993103448275862\n",
      "Nilai F1 = 0.9965397923875432\n",
      "Di test dapat performa\n",
      "Nilai Precision = 0.10204081632653061\n",
      "Nilai Recall = 0.08928571428571429\n",
      "Nilai F1 = 0.09523809523809523\n",
      "########\n",
      "LOGISTIK REGRESSION\n"
     ]
    },
    {
     "name": "stderr",
     "output_type": "stream",
     "text": [
      "/tmp/ipykernel_2258012/527456267.py:69: SettingWithCopyWarning: \n",
      "A value is trying to be set on a copy of a slice from a DataFrame.\n",
      "Try using .loc[row_indexer,col_indexer] = value instead\n",
      "\n",
      "See the caveats in the documentation: https://pandas.pydata.org/pandas-docs/stable/user_guide/indexing.html#returning-a-view-versus-a-copy\n",
      "  df['label'] = y_pred_test\n"
     ]
    },
    {
     "name": "stdout",
     "output_type": "stream",
     "text": [
      "Di train dapat performa \n",
      "Nilai Precision = 0.803921568627451\n",
      "Nilai Recall = 0.1413793103448276\n",
      "Nilai F1 = 0.2404692082111437\n",
      "Di test dapat performa\n",
      "Nilai Precision = 0.7692307692307693\n",
      "Nilai Recall = 0.17857142857142858\n",
      "Nilai F1 = 0.2898550724637681\n",
      "########\n",
      "MLP\n"
     ]
    },
    {
     "name": "stderr",
     "output_type": "stream",
     "text": [
      "/tmp/ipykernel_2258012/527456267.py:91: SettingWithCopyWarning: \n",
      "A value is trying to be set on a copy of a slice from a DataFrame.\n",
      "Try using .loc[row_indexer,col_indexer] = value instead\n",
      "\n",
      "See the caveats in the documentation: https://pandas.pydata.org/pandas-docs/stable/user_guide/indexing.html#returning-a-view-versus-a-copy\n",
      "  df['label'] = y_pred_test\n"
     ]
    },
    {
     "name": "stdout",
     "output_type": "stream",
     "text": [
      "Di train dapat performa \n",
      "Nilai Precision = 0.7236842105263158\n",
      "Nilai Recall = 0.1896551724137931\n",
      "Nilai F1 = 0.30054644808743175\n",
      "Di test dapat performa\n",
      "Nilai Precision = 0.7368421052631579\n",
      "Nilai Recall = 0.25\n",
      "Nilai F1 = 0.37333333333333335\n",
      "########\n",
      "/workspace/dataset/karhutla\n",
      "Rata-rata nilai test dengan Classifier xgb, rf, dan mlp adalah\n",
      "Precision = 0.37113090850375235\n",
      "Recall = 0.19642857142857142\n",
      "F1 = 0.2434178905206943\n",
      "\n",
      "\n",
      "/workspace/dataset\n",
      "Eksperimen pada bencana karhutla dengan representasi teks trunc_first_short\n"
     ]
    },
    {
     "name": "stderr",
     "output_type": "stream",
     "text": [
      "/tmp/ipykernel_2258012/527456267.py:113: SettingWithCopyWarning: \n",
      "A value is trying to be set on a copy of a slice from a DataFrame.\n",
      "Try using .loc[row_indexer,col_indexer] = value instead\n",
      "\n",
      "See the caveats in the documentation: https://pandas.pydata.org/pandas-docs/stable/user_guide/indexing.html#returning-a-view-versus-a-copy\n",
      "  df['label'] = y_pred_test\n"
     ]
    },
    {
     "name": "stdout",
     "output_type": "stream",
     "text": [
      "XGBOOST\n",
      "Di train dapat performa \n",
      "Nilai Precision = 0.9507042253521126\n",
      "Nilai Recall = 0.9310344827586207\n",
      "Nilai F1 = 0.940766550522648\n",
      "Di test dapat performa\n",
      "Nilai Precision = 0.7555555555555555\n",
      "Nilai Recall = 0.6071428571428571\n",
      "Nilai F1 = 0.6732673267326731\n",
      "########\n",
      "RANDOM FOREST\n"
     ]
    },
    {
     "name": "stderr",
     "output_type": "stream",
     "text": [
      "/tmp/ipykernel_2258012/527456267.py:50: SettingWithCopyWarning: \n",
      "A value is trying to be set on a copy of a slice from a DataFrame.\n",
      "Try using .loc[row_indexer,col_indexer] = value instead\n",
      "\n",
      "See the caveats in the documentation: https://pandas.pydata.org/pandas-docs/stable/user_guide/indexing.html#returning-a-view-versus-a-copy\n",
      "  df['label'] = y_pred_test\n"
     ]
    },
    {
     "name": "stdout",
     "output_type": "stream",
     "text": [
      "Di train dapat performa \n",
      "Nilai Precision = 1.0\n",
      "Nilai Recall = 0.996551724137931\n",
      "Nilai F1 = 0.9982728842832469\n",
      "Di test dapat performa\n",
      "Nilai Precision = 0.7608695652173914\n",
      "Nilai Recall = 0.625\n",
      "Nilai F1 = 0.6862745098039216\n",
      "########\n",
      "LOGISTIK REGRESSION\n",
      "Di train dapat performa \n",
      "Nilai Precision = 0.8888888888888888\n",
      "Nilai Recall = 0.16551724137931034\n",
      "Nilai F1 = 0.2790697674418605\n",
      "Di test dapat performa\n",
      "Nilai Precision = 0.9230769230769231"
     ]
    },
    {
     "name": "stderr",
     "output_type": "stream",
     "text": [
      "/tmp/ipykernel_2258012/527456267.py:69: SettingWithCopyWarning: \n",
      "A value is trying to be set on a copy of a slice from a DataFrame.\n",
      "Try using .loc[row_indexer,col_indexer] = value instead\n",
      "\n",
      "See the caveats in the documentation: https://pandas.pydata.org/pandas-docs/stable/user_guide/indexing.html#returning-a-view-versus-a-copy\n",
      "  df['label'] = y_pred_test\n",
      "/tmp/ipykernel_2258012/527456267.py:91: SettingWithCopyWarning: \n",
      "A value is trying to be set on a copy of a slice from a DataFrame.\n",
      "Try using .loc[row_indexer,col_indexer] = value instead\n",
      "\n",
      "See the caveats in the documentation: https://pandas.pydata.org/pandas-docs/stable/user_guide/indexing.html#returning-a-view-versus-a-copy\n",
      "  df['label'] = y_pred_test\n"
     ]
    },
    {
     "name": "stdout",
     "output_type": "stream",
     "text": [
      "\n",
      "Nilai Recall = 0.21428571428571427\n",
      "Nilai F1 = 0.34782608695652173\n",
      "########\n",
      "MLP\n",
      "Di train dapat performa \n",
      "Nilai Precision = 0.7165354330708661\n",
      "Nilai Recall = 0.6275862068965518\n",
      "Nilai F1 = 0.6691176470588235\n",
      "Di test dapat performa\n",
      "Nilai Precision = 0.6190476190476191\n",
      "Nilai Recall = 0.6964285714285714\n",
      "Nilai F1 = 0.6554621848739496\n",
      "########\n",
      "/workspace/dataset/karhutla\n",
      "Rata-rata nilai test dengan Classifier xgb, rf, dan mlp adalah\n",
      "Precision = 0.7118242466068553\n",
      "Recall = 0.6428571428571429\n",
      "F1 = 0.671668007136848\n",
      "\n",
      "\n",
      "/workspace/dataset\n",
      "Eksperimen pada bencana karhutla dengan representasi teks trunc_last_short\n"
     ]
    },
    {
     "name": "stderr",
     "output_type": "stream",
     "text": [
      "/tmp/ipykernel_2258012/527456267.py:113: SettingWithCopyWarning: \n",
      "A value is trying to be set on a copy of a slice from a DataFrame.\n",
      "Try using .loc[row_indexer,col_indexer] = value instead\n",
      "\n",
      "See the caveats in the documentation: https://pandas.pydata.org/pandas-docs/stable/user_guide/indexing.html#returning-a-view-versus-a-copy\n",
      "  df['label'] = y_pred_test\n"
     ]
    },
    {
     "name": "stdout",
     "output_type": "stream",
     "text": [
      "XGBOOST\n",
      "Di train dapat performa \n",
      "Nilai Precision = 0.9766536964980544\n",
      "Nilai Recall = 0.8655172413793103\n",
      "Nilai F1 = 0.9177330895795247\n",
      "Di test dapat performa\n",
      "Nilai Precision = 0.631578947368421\n",
      "Nilai Recall = 0.6428571428571429\n",
      "Nilai F1 = 0.6371681415929203\n",
      "########\n",
      "RANDOM FOREST\n"
     ]
    },
    {
     "name": "stderr",
     "output_type": "stream",
     "text": [
      "/tmp/ipykernel_2258012/527456267.py:50: SettingWithCopyWarning: \n",
      "A value is trying to be set on a copy of a slice from a DataFrame.\n",
      "Try using .loc[row_indexer,col_indexer] = value instead\n",
      "\n",
      "See the caveats in the documentation: https://pandas.pydata.org/pandas-docs/stable/user_guide/indexing.html#returning-a-view-versus-a-copy\n",
      "  df['label'] = y_pred_test\n"
     ]
    },
    {
     "name": "stdout",
     "output_type": "stream",
     "text": [
      "Di train dapat performa \n",
      "Nilai Precision = 0.9965635738831615\n",
      "Nilai Recall = 1.0\n",
      "Nilai F1 = 0.9982788296041308\n",
      "Di test dapat performa\n",
      "Nilai Precision = 0.6470588235294118\n",
      "Nilai Recall = 0.39285714285714285\n",
      "Nilai F1 = 0.4888888888888888\n",
      "########\n",
      "LOGISTIK REGRESSION\n",
      "Di train dapat performa \n",
      "Nilai Precision = 0.6666666666666666\n",
      "Nilai Recall = 0.013793103448275862\n",
      "Nilai F1 = 0.02702702702702703\n",
      "Di test dapat performa\n",
      "Nilai Precision = 1.0\n",
      "Nilai Recall = 0.03571428571428571\n",
      "Nilai F1 = 0.0689655172413793\n",
      "########\n",
      "MLP\n"
     ]
    },
    {
     "name": "stderr",
     "output_type": "stream",
     "text": [
      "/tmp/ipykernel_2258012/527456267.py:69: SettingWithCopyWarning: \n",
      "A value is trying to be set on a copy of a slice from a DataFrame.\n",
      "Try using .loc[row_indexer,col_indexer] = value instead\n",
      "\n",
      "See the caveats in the documentation: https://pandas.pydata.org/pandas-docs/stable/user_guide/indexing.html#returning-a-view-versus-a-copy\n",
      "  df['label'] = y_pred_test\n",
      "/tmp/ipykernel_2258012/527456267.py:91: SettingWithCopyWarning: \n",
      "A value is trying to be set on a copy of a slice from a DataFrame.\n",
      "Try using .loc[row_indexer,col_indexer] = value instead\n",
      "\n",
      "See the caveats in the documentation: https://pandas.pydata.org/pandas-docs/stable/user_guide/indexing.html#returning-a-view-versus-a-copy\n",
      "  df['label'] = y_pred_test\n"
     ]
    },
    {
     "name": "stdout",
     "output_type": "stream",
     "text": [
      "Di train dapat performa \n",
      "Nilai Precision = 0.7906976744186046\n",
      "Nilai Recall = 0.11724137931034483\n",
      "Nilai F1 = 0.2042042042042042\n",
      "Di test dapat performa\n",
      "Nilai Precision = 0.7142857142857143\n",
      "Nilai Recall = 0.17857142857142858\n",
      "Nilai F1 = 0.2857142857142857\n",
      "########\n",
      "/workspace/dataset/karhutla\n",
      "Rata-rata nilai test dengan Classifier xgb, rf, dan mlp adalah\n",
      "Precision = 0.6643078283945157\n",
      "Recall = 0.4047619047619048\n",
      "F1 = 0.47059043873203166\n",
      "\n",
      "\n",
      "/workspace/dataset\n",
      "Eksperimen pada bencana karhutla dengan representasi teks trunc_first_long\n"
     ]
    },
    {
     "name": "stderr",
     "output_type": "stream",
     "text": [
      "/tmp/ipykernel_2258012/527456267.py:113: SettingWithCopyWarning: \n",
      "A value is trying to be set on a copy of a slice from a DataFrame.\n",
      "Try using .loc[row_indexer,col_indexer] = value instead\n",
      "\n",
      "See the caveats in the documentation: https://pandas.pydata.org/pandas-docs/stable/user_guide/indexing.html#returning-a-view-versus-a-copy\n",
      "  df['label'] = y_pred_test\n"
     ]
    },
    {
     "name": "stdout",
     "output_type": "stream",
     "text": [
      "XGBOOST\n",
      "Di train dapat performa \n",
      "Nilai Precision = 0.9638989169675091\n",
      "Nilai Recall = 0.9206896551724137\n",
      "Nilai F1 = 0.9417989417989416\n",
      "Di test dapat performa\n",
      "Nilai Precision = 0.8536585365853658\n",
      "Nilai Recall = 0.625\n",
      "Nilai F1 = 0.7216494845360826\n",
      "########\n",
      "RANDOM FOREST\n"
     ]
    },
    {
     "name": "stderr",
     "output_type": "stream",
     "text": [
      "/tmp/ipykernel_2258012/527456267.py:50: SettingWithCopyWarning: \n",
      "A value is trying to be set on a copy of a slice from a DataFrame.\n",
      "Try using .loc[row_indexer,col_indexer] = value instead\n",
      "\n",
      "See the caveats in the documentation: https://pandas.pydata.org/pandas-docs/stable/user_guide/indexing.html#returning-a-view-versus-a-copy\n",
      "  df['label'] = y_pred_test\n"
     ]
    },
    {
     "name": "stdout",
     "output_type": "stream",
     "text": [
      "Di train dapat performa \n",
      "Nilai Precision = 1.0\n",
      "Nilai Recall = 0.996551724137931\n",
      "Nilai F1 = 0.9982728842832469\n",
      "Di test dapat performa\n",
      "Nilai Precision = 0.8222222222222222\n",
      "Nilai Recall = 0.6607142857142857\n",
      "Nilai F1 = 0.7326732673267325\n",
      "########\n",
      "LOGISTIK REGRESSION\n",
      "Di train dapat performa \n",
      "Nilai Precision = 0.8076923076923077\n",
      "Nilai Recall = 0.07241379310344828\n",
      "Nilai F1 = 0.1329113924050633\n",
      "Di test dapat performa\n",
      "Nilai Precision = 1.0\n",
      "Nilai Recall = 0.10714285714285714\n",
      "Nilai F1 = 0.19354838709677416\n",
      "########\n",
      "MLP\n"
     ]
    },
    {
     "name": "stderr",
     "output_type": "stream",
     "text": [
      "/tmp/ipykernel_2258012/527456267.py:69: SettingWithCopyWarning: \n",
      "A value is trying to be set on a copy of a slice from a DataFrame.\n",
      "Try using .loc[row_indexer,col_indexer] = value instead\n",
      "\n",
      "See the caveats in the documentation: https://pandas.pydata.org/pandas-docs/stable/user_guide/indexing.html#returning-a-view-versus-a-copy\n",
      "  df['label'] = y_pred_test\n",
      "/tmp/ipykernel_2258012/527456267.py:91: SettingWithCopyWarning: \n",
      "A value is trying to be set on a copy of a slice from a DataFrame.\n",
      "Try using .loc[row_indexer,col_indexer] = value instead\n",
      "\n",
      "See the caveats in the documentation: https://pandas.pydata.org/pandas-docs/stable/user_guide/indexing.html#returning-a-view-versus-a-copy\n",
      "  df['label'] = y_pred_test\n"
     ]
    },
    {
     "name": "stdout",
     "output_type": "stream",
     "text": [
      "Di train dapat performa \n",
      "Nilai Precision = 0.7016129032258065\n",
      "Nilai Recall = 0.6\n",
      "Nilai F1 = 0.6468401486988847\n",
      "Di test dapat performa\n",
      "Nilai Precision = 0.6727272727272727\n",
      "Nilai Recall = 0.6607142857142857\n",
      "Nilai F1 = 0.6666666666666666\n",
      "########\n",
      "/workspace/dataset/karhutla\n",
      "Rata-rata nilai test dengan Classifier xgb, rf, dan mlp adalah\n",
      "Precision = 0.7828693438449537\n",
      "Recall = 0.6488095238095237\n",
      "F1 = 0.7069964728431605\n",
      "\n",
      "\n",
      "/workspace/dataset\n",
      "Eksperimen pada bencana karhutla dengan representasi teks trunc_last_long\n"
     ]
    },
    {
     "name": "stderr",
     "output_type": "stream",
     "text": [
      "/tmp/ipykernel_2258012/527456267.py:113: SettingWithCopyWarning: \n",
      "A value is trying to be set on a copy of a slice from a DataFrame.\n",
      "Try using .loc[row_indexer,col_indexer] = value instead\n",
      "\n",
      "See the caveats in the documentation: https://pandas.pydata.org/pandas-docs/stable/user_guide/indexing.html#returning-a-view-versus-a-copy\n",
      "  df['label'] = y_pred_test\n"
     ]
    },
    {
     "name": "stdout",
     "output_type": "stream",
     "text": [
      "XGBOOST\n",
      "Di train dapat performa \n",
      "Nilai Precision = 0.9659090909090909\n",
      "Nilai Recall = 0.8793103448275862\n",
      "Nilai F1 = 0.9205776173285198\n",
      "Di test dapat performa\n",
      "Nilai Precision = 0.5909090909090909\n",
      "Nilai Recall = 0.4642857142857143\n",
      "Nilai F1 = 0.52\n",
      "########\n",
      "RANDOM FOREST\n"
     ]
    },
    {
     "name": "stderr",
     "output_type": "stream",
     "text": [
      "/tmp/ipykernel_2258012/527456267.py:50: SettingWithCopyWarning: \n",
      "A value is trying to be set on a copy of a slice from a DataFrame.\n",
      "Try using .loc[row_indexer,col_indexer] = value instead\n",
      "\n",
      "See the caveats in the documentation: https://pandas.pydata.org/pandas-docs/stable/user_guide/indexing.html#returning-a-view-versus-a-copy\n",
      "  df['label'] = y_pred_test\n"
     ]
    },
    {
     "name": "stdout",
     "output_type": "stream",
     "text": [
      "Di train dapat performa \n",
      "Nilai Precision = 1.0\n",
      "Nilai Recall = 0.996551724137931\n",
      "Nilai F1 = 0.9982728842832469\n",
      "Di test dapat performa\n",
      "Nilai Precision = 0.6842105263157895\n",
      "Nilai Recall = 0.4642857142857143\n",
      "Nilai F1 = 0.5531914893617021\n",
      "########\n",
      "LOGISTIK REGRESSION\n",
      "Di train dapat performa \n",
      "Nilai Precision = 0.6666666666666666\n",
      "Nilai Recall = 0.020689655172413793\n",
      "Nilai F1 = 0.04013377926421405\n",
      "Di test dapat performa\n",
      "Nilai Precision = 1.0\n",
      "Nilai Recall = 0.017857142857142856\n",
      "Nilai F1 = 0.03508771929824561\n",
      "########\n",
      "MLP\n"
     ]
    },
    {
     "name": "stderr",
     "output_type": "stream",
     "text": [
      "/tmp/ipykernel_2258012/527456267.py:69: SettingWithCopyWarning: \n",
      "A value is trying to be set on a copy of a slice from a DataFrame.\n",
      "Try using .loc[row_indexer,col_indexer] = value instead\n",
      "\n",
      "See the caveats in the documentation: https://pandas.pydata.org/pandas-docs/stable/user_guide/indexing.html#returning-a-view-versus-a-copy\n",
      "  df['label'] = y_pred_test\n",
      "/tmp/ipykernel_2258012/527456267.py:91: SettingWithCopyWarning: \n",
      "A value is trying to be set on a copy of a slice from a DataFrame.\n",
      "Try using .loc[row_indexer,col_indexer] = value instead\n",
      "\n",
      "See the caveats in the documentation: https://pandas.pydata.org/pandas-docs/stable/user_guide/indexing.html#returning-a-view-versus-a-copy\n",
      "  df['label'] = y_pred_test\n"
     ]
    },
    {
     "name": "stdout",
     "output_type": "stream",
     "text": [
      "Di train dapat performa \n",
      "Nilai Precision = 0.7280701754385965\n",
      "Nilai Recall = 0.28620689655172415\n",
      "Nilai F1 = 0.41089108910891087\n",
      "Di test dapat performa\n",
      "Nilai Precision = 0.75\n",
      "Nilai Recall = 0.32142857142857145\n",
      "Nilai F1 = 0.45000000000000007\n",
      "########\n",
      "/workspace/dataset/karhutla\n",
      "Rata-rata nilai test dengan Classifier xgb, rf, dan mlp adalah\n",
      "Precision = 0.6750398724082934\n",
      "Recall = 0.4166666666666667\n",
      "F1 = 0.5077304964539008\n",
      "\n",
      "\n",
      "/workspace/dataset\n",
      "Eksperimen pada bencana karhutla dengan representasi teks trunc_combination\n"
     ]
    },
    {
     "name": "stderr",
     "output_type": "stream",
     "text": [
      "/tmp/ipykernel_2258012/527456267.py:113: SettingWithCopyWarning: \n",
      "A value is trying to be set on a copy of a slice from a DataFrame.\n",
      "Try using .loc[row_indexer,col_indexer] = value instead\n",
      "\n",
      "See the caveats in the documentation: https://pandas.pydata.org/pandas-docs/stable/user_guide/indexing.html#returning-a-view-versus-a-copy\n",
      "  df['label'] = y_pred_test\n"
     ]
    },
    {
     "name": "stdout",
     "output_type": "stream",
     "text": [
      "XGBOOST\n",
      "Di train dapat performa \n",
      "Nilai Precision = 0.9781818181818182\n",
      "Nilai Recall = 0.9275862068965517\n",
      "Nilai F1 = 0.952212389380531\n",
      "Di test dapat performa\n",
      "Nilai Precision = 0.7058823529411765\n",
      "Nilai Recall = 0.6428571428571429\n",
      "Nilai F1 = 0.6728971962616823\n",
      "########\n",
      "RANDOM FOREST\n"
     ]
    },
    {
     "name": "stderr",
     "output_type": "stream",
     "text": [
      "/tmp/ipykernel_2258012/527456267.py:50: SettingWithCopyWarning: \n",
      "A value is trying to be set on a copy of a slice from a DataFrame.\n",
      "Try using .loc[row_indexer,col_indexer] = value instead\n",
      "\n",
      "See the caveats in the documentation: https://pandas.pydata.org/pandas-docs/stable/user_guide/indexing.html#returning-a-view-versus-a-copy\n",
      "  df['label'] = y_pred_test\n"
     ]
    },
    {
     "name": "stdout",
     "output_type": "stream",
     "text": [
      "Di train dapat performa \n",
      "Nilai Precision = 1.0\n",
      "Nilai Recall = 0.996551724137931\n",
      "Nilai F1 = 0.9982728842832469\n",
      "Di test dapat performa\n",
      "Nilai Precision = 0.7674418604651163\n",
      "Nilai Recall = 0.5892857142857143\n",
      "Nilai F1 = 0.6666666666666666\n",
      "########\n",
      "LOGISTIK REGRESSION\n"
     ]
    },
    {
     "name": "stderr",
     "output_type": "stream",
     "text": [
      "/tmp/ipykernel_2258012/527456267.py:69: SettingWithCopyWarning: \n",
      "A value is trying to be set on a copy of a slice from a DataFrame.\n",
      "Try using .loc[row_indexer,col_indexer] = value instead\n",
      "\n",
      "See the caveats in the documentation: https://pandas.pydata.org/pandas-docs/stable/user_guide/indexing.html#returning-a-view-versus-a-copy\n",
      "  df['label'] = y_pred_test\n"
     ]
    },
    {
     "name": "stdout",
     "output_type": "stream",
     "text": [
      "Di train dapat performa \n",
      "Nilai Precision = 0.875\n",
      "Nilai Recall = 0.04827586206896552\n",
      "Nilai F1 = 0.09150326797385622\n",
      "Di test dapat performa\n",
      "Nilai Precision = 1.0\n",
      "Nilai Recall = 0.05357142857142857\n",
      "Nilai F1 = 0.10169491525423728\n",
      "########\n",
      "MLP\n"
     ]
    },
    {
     "name": "stderr",
     "output_type": "stream",
     "text": [
      "/tmp/ipykernel_2258012/527456267.py:91: SettingWithCopyWarning: \n",
      "A value is trying to be set on a copy of a slice from a DataFrame.\n",
      "Try using .loc[row_indexer,col_indexer] = value instead\n",
      "\n",
      "See the caveats in the documentation: https://pandas.pydata.org/pandas-docs/stable/user_guide/indexing.html#returning-a-view-versus-a-copy\n",
      "  df['label'] = y_pred_test\n"
     ]
    },
    {
     "name": "stdout",
     "output_type": "stream",
     "text": [
      "Di train dapat performa \n",
      "Nilai Precision = 0.7106382978723405\n",
      "Nilai Recall = 0.5758620689655173\n",
      "Nilai F1 = 0.6361904761904763\n",
      "Di test dapat performa\n",
      "Nilai Precision = 0.6382978723404256\n",
      "Nilai Recall = 0.5357142857142857\n",
      "Nilai F1 = 0.5825242718446602\n",
      "########\n",
      "/workspace/dataset/karhutla\n",
      "Rata-rata nilai test dengan Classifier xgb, rf, dan mlp adalah\n",
      "Precision = 0.7038740285822396\n",
      "Recall = 0.5892857142857143\n",
      "F1 = 0.6406960449243363\n",
      "\n",
      "\n",
      "/workspace/dataset\n",
      "Eksperimen pada bencana karhutla dengan representasi teks textrank\n"
     ]
    },
    {
     "name": "stderr",
     "output_type": "stream",
     "text": [
      "/tmp/ipykernel_2258012/527456267.py:113: SettingWithCopyWarning: \n",
      "A value is trying to be set on a copy of a slice from a DataFrame.\n",
      "Try using .loc[row_indexer,col_indexer] = value instead\n",
      "\n",
      "See the caveats in the documentation: https://pandas.pydata.org/pandas-docs/stable/user_guide/indexing.html#returning-a-view-versus-a-copy\n",
      "  df['label'] = y_pred_test\n"
     ]
    },
    {
     "name": "stdout",
     "output_type": "stream",
     "text": [
      "XGBOOST\n",
      "Di train dapat performa \n",
      "Nilai Precision = 0.9695817490494296\n",
      "Nilai Recall = 0.8793103448275862\n",
      "Nilai F1 = 0.9222423146473779\n",
      "Di test dapat performa\n",
      "Nilai Precision = 0.5263157894736842\n",
      "Nilai Recall = 0.7142857142857143\n",
      "Nilai F1 = 0.6060606060606061\n",
      "########\n",
      "RANDOM FOREST\n"
     ]
    },
    {
     "name": "stderr",
     "output_type": "stream",
     "text": [
      "/tmp/ipykernel_2258012/527456267.py:50: SettingWithCopyWarning: \n",
      "A value is trying to be set on a copy of a slice from a DataFrame.\n",
      "Try using .loc[row_indexer,col_indexer] = value instead\n",
      "\n",
      "See the caveats in the documentation: https://pandas.pydata.org/pandas-docs/stable/user_guide/indexing.html#returning-a-view-versus-a-copy\n",
      "  df['label'] = y_pred_test\n"
     ]
    },
    {
     "name": "stdout",
     "output_type": "stream",
     "text": [
      "Di train dapat performa \n",
      "Nilai Precision = 1.0\n",
      "Nilai Recall = 0.996551724137931\n",
      "Nilai F1 = 0.9982728842832469\n",
      "Di test dapat performa\n",
      "Nilai Precision = 0.5\n",
      "Nilai Recall = 0.5714285714285714\n",
      "Nilai F1 = 0.5333333333333333\n",
      "########\n",
      "LOGISTIK REGRESSION\n"
     ]
    },
    {
     "name": "stderr",
     "output_type": "stream",
     "text": [
      "/tmp/ipykernel_2258012/527456267.py:69: SettingWithCopyWarning: \n",
      "A value is trying to be set on a copy of a slice from a DataFrame.\n",
      "Try using .loc[row_indexer,col_indexer] = value instead\n",
      "\n",
      "See the caveats in the documentation: https://pandas.pydata.org/pandas-docs/stable/user_guide/indexing.html#returning-a-view-versus-a-copy\n",
      "  df['label'] = y_pred_test\n"
     ]
    },
    {
     "name": "stdout",
     "output_type": "stream",
     "text": [
      "Di train dapat performa \n",
      "Nilai Precision = 0.8214285714285714\n",
      "Nilai Recall = 0.15862068965517243\n",
      "Nilai F1 = 0.2658959537572254\n",
      "Di test dapat performa\n",
      "Nilai Precision = 0.75\n",
      "Nilai Recall = 0.26785714285714285\n",
      "Nilai F1 = 0.3947368421052632\n",
      "########\n",
      "MLP\n"
     ]
    },
    {
     "name": "stderr",
     "output_type": "stream",
     "text": [
      "/tmp/ipykernel_2258012/527456267.py:91: SettingWithCopyWarning: \n",
      "A value is trying to be set on a copy of a slice from a DataFrame.\n",
      "Try using .loc[row_indexer,col_indexer] = value instead\n",
      "\n",
      "See the caveats in the documentation: https://pandas.pydata.org/pandas-docs/stable/user_guide/indexing.html#returning-a-view-versus-a-copy\n",
      "  df['label'] = y_pred_test\n"
     ]
    },
    {
     "name": "stdout",
     "output_type": "stream",
     "text": [
      "Di train dapat performa \n",
      "Nilai Precision = 0.7009803921568627\n",
      "Nilai Recall = 0.49310344827586206\n",
      "Nilai F1 = 0.5789473684210525\n",
      "Di test dapat performa\n",
      "Nilai Precision = 0.559322033898305\n",
      "Nilai Recall = 0.5892857142857143\n",
      "Nilai F1 = 0.5739130434782609\n",
      "########\n",
      "/workspace/dataset/karhutla\n",
      "Rata-rata nilai test dengan Classifier xgb, rf, dan mlp adalah\n",
      "Precision = 0.5285459411239963\n",
      "Recall = 0.625\n",
      "F1 = 0.5711023276240668\n",
      "\n",
      "\n",
      "/workspace/dataset\n",
      "Eksperimen pada bencana karhutla dengan representasi teks sum_indobart\n"
     ]
    },
    {
     "name": "stderr",
     "output_type": "stream",
     "text": [
      "/tmp/ipykernel_2258012/527456267.py:113: SettingWithCopyWarning: \n",
      "A value is trying to be set on a copy of a slice from a DataFrame.\n",
      "Try using .loc[row_indexer,col_indexer] = value instead\n",
      "\n",
      "See the caveats in the documentation: https://pandas.pydata.org/pandas-docs/stable/user_guide/indexing.html#returning-a-view-versus-a-copy\n",
      "  df['label'] = y_pred_test\n"
     ]
    },
    {
     "name": "stdout",
     "output_type": "stream",
     "text": [
      "XGBOOST\n",
      "Di train dapat performa \n",
      "Nilai Precision = 0.945054945054945\n",
      "Nilai Recall = 0.8896551724137931\n",
      "Nilai F1 = 0.91651865008881\n",
      "Di test dapat performa\n",
      "Nilai Precision = 0.21621621621621623\n",
      "Nilai Recall = 0.42857142857142855\n",
      "Nilai F1 = 0.2874251497005988\n",
      "########\n",
      "RANDOM FOREST\n"
     ]
    },
    {
     "name": "stderr",
     "output_type": "stream",
     "text": [
      "/tmp/ipykernel_2258012/527456267.py:50: SettingWithCopyWarning: \n",
      "A value is trying to be set on a copy of a slice from a DataFrame.\n",
      "Try using .loc[row_indexer,col_indexer] = value instead\n",
      "\n",
      "See the caveats in the documentation: https://pandas.pydata.org/pandas-docs/stable/user_guide/indexing.html#returning-a-view-versus-a-copy\n",
      "  df['label'] = y_pred_test\n"
     ]
    },
    {
     "name": "stdout",
     "output_type": "stream",
     "text": [
      "Di train dapat performa \n",
      "Nilai Precision = 1.0\n",
      "Nilai Recall = 0.996551724137931\n",
      "Nilai F1 = 0.9982728842832469\n",
      "Di test dapat performa\n",
      "Nilai Precision = 0.2994011976047904\n",
      "Nilai Recall = 0.8928571428571429\n",
      "Nilai F1 = 0.4484304932735425\n",
      "########\n",
      "LOGISTIK REGRESSION\n"
     ]
    },
    {
     "name": "stderr",
     "output_type": "stream",
     "text": [
      "/tmp/ipykernel_2258012/527456267.py:69: SettingWithCopyWarning: \n",
      "A value is trying to be set on a copy of a slice from a DataFrame.\n",
      "Try using .loc[row_indexer,col_indexer] = value instead\n",
      "\n",
      "See the caveats in the documentation: https://pandas.pydata.org/pandas-docs/stable/user_guide/indexing.html#returning-a-view-versus-a-copy\n",
      "  df['label'] = y_pred_test\n"
     ]
    },
    {
     "name": "stdout",
     "output_type": "stream",
     "text": [
      "Di train dapat performa \n",
      "Nilai Precision = 0.9047619047619048\n",
      "Nilai Recall = 0.19655172413793104\n",
      "Nilai F1 = 0.3229461756373938\n",
      "Di test dapat performa\n",
      "Nilai Precision = 0.6756756756756757\n",
      "Nilai Recall = 0.44642857142857145\n",
      "Nilai F1 = 0.5376344086021506\n",
      "########\n",
      "MLP\n"
     ]
    },
    {
     "name": "stderr",
     "output_type": "stream",
     "text": [
      "/tmp/ipykernel_2258012/527456267.py:91: SettingWithCopyWarning: \n",
      "A value is trying to be set on a copy of a slice from a DataFrame.\n",
      "Try using .loc[row_indexer,col_indexer] = value instead\n",
      "\n",
      "See the caveats in the documentation: https://pandas.pydata.org/pandas-docs/stable/user_guide/indexing.html#returning-a-view-versus-a-copy\n",
      "  df['label'] = y_pred_test\n"
     ]
    },
    {
     "name": "stdout",
     "output_type": "stream",
     "text": [
      "Di train dapat performa \n",
      "Nilai Precision = 0.7668711656441718\n",
      "Nilai Recall = 0.43103448275862066\n",
      "Nilai F1 = 0.5518763796909493\n",
      "Di test dapat performa\n",
      "Nilai Precision = 0.5806451612903226\n",
      "Nilai Recall = 0.6428571428571429\n",
      "Nilai F1 = 0.6101694915254238\n",
      "########\n",
      "/workspace/dataset/karhutla\n",
      "Rata-rata nilai test dengan Classifier xgb, rf, dan mlp adalah\n",
      "Precision = 0.365420858370443\n",
      "Recall = 0.6547619047619048\n",
      "F1 = 0.4486750448331884\n",
      "\n",
      "\n",
      "/workspace/dataset\n",
      "Eksperimen pada bencana karhutla dengan representasi teks sum_liputan6\n"
     ]
    },
    {
     "name": "stderr",
     "output_type": "stream",
     "text": [
      "/tmp/ipykernel_2258012/527456267.py:113: SettingWithCopyWarning: \n",
      "A value is trying to be set on a copy of a slice from a DataFrame.\n",
      "Try using .loc[row_indexer,col_indexer] = value instead\n",
      "\n",
      "See the caveats in the documentation: https://pandas.pydata.org/pandas-docs/stable/user_guide/indexing.html#returning-a-view-versus-a-copy\n",
      "  df['label'] = y_pred_test\n"
     ]
    },
    {
     "name": "stdout",
     "output_type": "stream",
     "text": [
      "XGBOOST\n",
      "Di train dapat performa \n",
      "Nilai Precision = 0.96\n",
      "Nilai Recall = 0.9103448275862069\n",
      "Nilai F1 = 0.9345132743362832\n",
      "Di test dapat performa\n",
      "Nilai Precision = 0.3445378151260504\n",
      "Nilai Recall = 0.7321428571428571\n",
      "Nilai F1 = 0.4685714285714285\n",
      "########\n",
      "RANDOM FOREST\n"
     ]
    },
    {
     "name": "stderr",
     "output_type": "stream",
     "text": [
      "/tmp/ipykernel_2258012/527456267.py:50: SettingWithCopyWarning: \n",
      "A value is trying to be set on a copy of a slice from a DataFrame.\n",
      "Try using .loc[row_indexer,col_indexer] = value instead\n",
      "\n",
      "See the caveats in the documentation: https://pandas.pydata.org/pandas-docs/stable/user_guide/indexing.html#returning-a-view-versus-a-copy\n",
      "  df['label'] = y_pred_test\n"
     ]
    },
    {
     "name": "stdout",
     "output_type": "stream",
     "text": [
      "Di train dapat performa \n",
      "Nilai Precision = 1.0\n",
      "Nilai Recall = 0.996551724137931\n",
      "Nilai F1 = 0.9982728842832469\n",
      "Di test dapat performa\n",
      "Nilai Precision = 0.2898550724637681\n",
      "Nilai Recall = 0.35714285714285715\n",
      "Nilai F1 = 0.32\n",
      "########\n",
      "LOGISTIK REGRESSION\n"
     ]
    },
    {
     "name": "stderr",
     "output_type": "stream",
     "text": [
      "/tmp/ipykernel_2258012/527456267.py:69: SettingWithCopyWarning: \n",
      "A value is trying to be set on a copy of a slice from a DataFrame.\n",
      "Try using .loc[row_indexer,col_indexer] = value instead\n",
      "\n",
      "See the caveats in the documentation: https://pandas.pydata.org/pandas-docs/stable/user_guide/indexing.html#returning-a-view-versus-a-copy\n",
      "  df['label'] = y_pred_test\n"
     ]
    },
    {
     "name": "stdout",
     "output_type": "stream",
     "text": [
      "Di train dapat performa \n",
      "Nilai Precision = 0.8598130841121495\n",
      "Nilai Recall = 0.31724137931034485\n",
      "Nilai F1 = 0.4634760705289673\n",
      "Di test dapat performa\n",
      "Nilai Precision = 0.7105263157894737\n",
      "Nilai Recall = 0.48214285714285715\n",
      "Nilai F1 = 0.5744680851063829\n",
      "########\n",
      "MLP\n"
     ]
    },
    {
     "name": "stderr",
     "output_type": "stream",
     "text": [
      "/tmp/ipykernel_2258012/527456267.py:91: SettingWithCopyWarning: \n",
      "A value is trying to be set on a copy of a slice from a DataFrame.\n",
      "Try using .loc[row_indexer,col_indexer] = value instead\n",
      "\n",
      "See the caveats in the documentation: https://pandas.pydata.org/pandas-docs/stable/user_guide/indexing.html#returning-a-view-versus-a-copy\n",
      "  df['label'] = y_pred_test\n"
     ]
    },
    {
     "name": "stdout",
     "output_type": "stream",
     "text": [
      "Di train dapat performa \n",
      "Nilai Precision = 0.7038461538461539\n",
      "Nilai Recall = 0.6310344827586207\n",
      "Nilai F1 = 0.6654545454545455\n",
      "Di test dapat performa\n",
      "Nilai Precision = 0.5256410256410257\n",
      "Nilai Recall = 0.7321428571428571\n",
      "Nilai F1 = 0.6119402985074627\n",
      "########\n",
      "/workspace/dataset/karhutla\n",
      "Rata-rata nilai test dengan Classifier xgb, rf, dan mlp adalah\n",
      "Precision = 0.38667797107694807\n",
      "Recall = 0.6071428571428571\n",
      "F1 = 0.46683724235963037\n",
      "\n",
      "\n",
      "/workspace/dataset\n",
      "Eksperimen pada bencana karhutla dengan representasi teks sum_pegasus\n"
     ]
    },
    {
     "name": "stderr",
     "output_type": "stream",
     "text": [
      "/tmp/ipykernel_2258012/527456267.py:113: SettingWithCopyWarning: \n",
      "A value is trying to be set on a copy of a slice from a DataFrame.\n",
      "Try using .loc[row_indexer,col_indexer] = value instead\n",
      "\n",
      "See the caveats in the documentation: https://pandas.pydata.org/pandas-docs/stable/user_guide/indexing.html#returning-a-view-versus-a-copy\n",
      "  df['label'] = y_pred_test\n"
     ]
    },
    {
     "name": "stdout",
     "output_type": "stream",
     "text": [
      "XGBOOST\n",
      "Di train dapat performa \n",
      "Nilai Precision = 0.9536679536679536\n",
      "Nilai Recall = 0.8517241379310345\n",
      "Nilai F1 = 0.8998178506375227\n",
      "Di test dapat performa\n",
      "Nilai Precision = 0.5714285714285714\n",
      "Nilai Recall = 0.2857142857142857\n",
      "Nilai F1 = 0.38095238095238093\n",
      "########\n",
      "RANDOM FOREST\n"
     ]
    },
    {
     "name": "stderr",
     "output_type": "stream",
     "text": [
      "/tmp/ipykernel_2258012/527456267.py:50: SettingWithCopyWarning: \n",
      "A value is trying to be set on a copy of a slice from a DataFrame.\n",
      "Try using .loc[row_indexer,col_indexer] = value instead\n",
      "\n",
      "See the caveats in the documentation: https://pandas.pydata.org/pandas-docs/stable/user_guide/indexing.html#returning-a-view-versus-a-copy\n",
      "  df['label'] = y_pred_test\n"
     ]
    },
    {
     "name": "stdout",
     "output_type": "stream",
     "text": [
      "Di train dapat performa \n",
      "Nilai Precision = 0.9965635738831615\n",
      "Nilai Recall = 1.0\n",
      "Nilai F1 = 0.9982788296041308\n",
      "Di test dapat performa\n",
      "Nilai Precision = 0.5714285714285714\n",
      "Nilai Recall = 0.35714285714285715\n",
      "Nilai F1 = 0.43956043956043955\n",
      "########\n",
      "LOGISTIK REGRESSION\n"
     ]
    },
    {
     "name": "stderr",
     "output_type": "stream",
     "text": [
      "/tmp/ipykernel_2258012/527456267.py:69: SettingWithCopyWarning: \n",
      "A value is trying to be set on a copy of a slice from a DataFrame.\n",
      "Try using .loc[row_indexer,col_indexer] = value instead\n",
      "\n",
      "See the caveats in the documentation: https://pandas.pydata.org/pandas-docs/stable/user_guide/indexing.html#returning-a-view-versus-a-copy\n",
      "  df['label'] = y_pred_test\n"
     ]
    },
    {
     "name": "stdout",
     "output_type": "stream",
     "text": [
      "Di train dapat performa \n",
      "Nilai Precision = 0.7794117647058824\n",
      "Nilai Recall = 0.18275862068965518\n",
      "Nilai F1 = 0.29608938547486036\n",
      "Di test dapat performa\n",
      "Nilai Precision = 0.7142857142857143\n",
      "Nilai Recall = 0.17857142857142858\n",
      "Nilai F1 = 0.2857142857142857\n",
      "########\n",
      "MLP\n"
     ]
    },
    {
     "name": "stderr",
     "output_type": "stream",
     "text": [
      "/tmp/ipykernel_2258012/527456267.py:91: SettingWithCopyWarning: \n",
      "A value is trying to be set on a copy of a slice from a DataFrame.\n",
      "Try using .loc[row_indexer,col_indexer] = value instead\n",
      "\n",
      "See the caveats in the documentation: https://pandas.pydata.org/pandas-docs/stable/user_guide/indexing.html#returning-a-view-versus-a-copy\n",
      "  df['label'] = y_pred_test\n"
     ]
    },
    {
     "name": "stdout",
     "output_type": "stream",
     "text": [
      "Di train dapat performa \n",
      "Nilai Precision = 0.7721518987341772\n",
      "Nilai Recall = 0.2103448275862069\n",
      "Nilai F1 = 0.33062330623306235\n",
      "Di test dapat performa\n",
      "Nilai Precision = 0.6086956521739131\n",
      "Nilai Recall = 0.25\n",
      "Nilai F1 = 0.35443037974683544\n",
      "########\n",
      "/workspace/dataset/karhutla\n",
      "Rata-rata nilai test dengan Classifier xgb, rf, dan mlp adalah\n",
      "Precision = 0.5838509316770186\n",
      "Recall = 0.2976190476190476\n",
      "F1 = 0.3916477334198853\n",
      "\n",
      "\n",
      "************************************************************\n",
      "{'karhutla': {'title_ori': {'xgb': {'prec': 0.28, 'rec': 1.0, 'f1': 0.43750000000000006, 'acc': 0.28}, 'rf': {'prec': 0.27918781725888325, 'rec': 0.9821428571428571, 'f1': 0.43478260869565216, 'acc': 0.285}, 'lr': {'prec': 0.6956521739130435, 'rec': 0.5714285714285714, 'f1': 0.6274509803921569, 'acc': 0.81}, 'mlp': {'prec': 0.46464646464646464, 'rec': 0.8214285714285714, 'f1': 0.5935483870967742, 'acc': 0.685}}, 'text_ori': {'xgb': {'prec': 0.7435897435897436, 'rec': 0.5178571428571429, 'f1': 0.6105263157894737, 'acc': 0.815}, 'rf': {'prec': 0.6388888888888888, 'rec': 0.4107142857142857, 'f1': 0.5, 'acc': 0.77}, 'lr': {'prec': 1.0, 'rec': 0.05357142857142857, 'f1': 0.10169491525423728, 'acc': 0.735}, 'mlp': {'prec': 0.6166666666666667, 'rec': 0.6607142857142857, 'f1': 0.6379310344827587, 'acc': 0.79}}, 'tc_ori': {'xgb': {'prec': 0.8, 'rec': 0.5714285714285714, 'f1': 0.6666666666666666, 'acc': 0.84}, 'rf': {'prec': 0.717948717948718, 'rec': 0.5, 'f1': 0.5894736842105263, 'acc': 0.805}, 'lr': {'prec': 1.0, 'rec': 0.10714285714285714, 'f1': 0.19354838709677416, 'acc': 0.75}, 'mlp': {'prec': 0.6197183098591549, 'rec': 0.7857142857142857, 'f1': 0.6929133858267716, 'acc': 0.805}}, 'filter_word_tc': {'xgb': {'prec': 0.47058823529411764, 'rec': 0.14285714285714285, 'f1': 0.2191780821917808, 'acc': 0.715}, 'rf': {'prec': 0.5, 'rec': 0.017857142857142856, 'f1': 0.03448275862068965, 'acc': 0.72}, 'lr': {'prec': 0.5882352941176471, 'rec': 0.17857142857142858, 'f1': 0.273972602739726, 'acc': 0.735}, 'mlp': {'prec': 0.6153846153846154, 'rec': 0.2857142857142857, 'f1': 0.3902439024390244, 'acc': 0.75}}, 'filter_word_tc_window': {'xgb': {'prec': 0.27450980392156865, 'rec': 0.25, 'f1': 0.26168224299065423, 'acc': 0.605}, 'rf': {'prec': 0.10204081632653061, 'rec': 0.08928571428571429, 'f1': 0.09523809523809523, 'acc': 0.525}, 'lr': {'prec': 0.7692307692307693, 'rec': 0.17857142857142858, 'f1': 0.2898550724637681, 'acc': 0.755}, 'mlp': {'prec': 0.7368421052631579, 'rec': 0.25, 'f1': 0.37333333333333335, 'acc': 0.765}}, 'trunc_first_short': {'xgb': {'prec': 0.7555555555555555, 'rec': 0.6071428571428571, 'f1': 0.6732673267326731, 'acc': 0.835}, 'rf': {'prec': 0.7608695652173914, 'rec': 0.625, 'f1': 0.6862745098039216, 'acc': 0.84}, 'lr': {'prec': 0.9230769230769231, 'rec': 0.21428571428571427, 'f1': 0.34782608695652173, 'acc': 0.775}, 'mlp': {'prec': 0.6190476190476191, 'rec': 0.6964285714285714, 'f1': 0.6554621848739496, 'acc': 0.795}}, 'trunc_last_short': {'xgb': {'prec': 0.631578947368421, 'rec': 0.6428571428571429, 'f1': 0.6371681415929203, 'acc': 0.795}, 'rf': {'prec': 0.6470588235294118, 'rec': 0.39285714285714285, 'f1': 0.4888888888888888, 'acc': 0.77}, 'lr': {'prec': 1.0, 'rec': 0.03571428571428571, 'f1': 0.0689655172413793, 'acc': 0.73}, 'mlp': {'prec': 0.7142857142857143, 'rec': 0.17857142857142858, 'f1': 0.2857142857142857, 'acc': 0.75}}, 'trunc_first_long': {'xgb': {'prec': 0.8536585365853658, 'rec': 0.625, 'f1': 0.7216494845360826, 'acc': 0.865}, 'rf': {'prec': 0.8222222222222222, 'rec': 0.6607142857142857, 'f1': 0.7326732673267325, 'acc': 0.865}, 'lr': {'prec': 1.0, 'rec': 0.10714285714285714, 'f1': 0.19354838709677416, 'acc': 0.75}, 'mlp': {'prec': 0.6727272727272727, 'rec': 0.6607142857142857, 'f1': 0.6666666666666666, 'acc': 0.815}}, 'trunc_last_long': {'xgb': {'prec': 0.5909090909090909, 'rec': 0.4642857142857143, 'f1': 0.52, 'acc': 0.76}, 'rf': {'prec': 0.6842105263157895, 'rec': 0.4642857142857143, 'f1': 0.5531914893617021, 'acc': 0.79}, 'lr': {'prec': 1.0, 'rec': 0.017857142857142856, 'f1': 0.03508771929824561, 'acc': 0.725}, 'mlp': {'prec': 0.75, 'rec': 0.32142857142857145, 'f1': 0.45000000000000007, 'acc': 0.78}}, 'trunc_combination': {'xgb': {'prec': 0.7058823529411765, 'rec': 0.6428571428571429, 'f1': 0.6728971962616823, 'acc': 0.825}, 'rf': {'prec': 0.7674418604651163, 'rec': 0.5892857142857143, 'f1': 0.6666666666666666, 'acc': 0.835}, 'lr': {'prec': 1.0, 'rec': 0.05357142857142857, 'f1': 0.10169491525423728, 'acc': 0.735}, 'mlp': {'prec': 0.6382978723404256, 'rec': 0.5357142857142857, 'f1': 0.5825242718446602, 'acc': 0.785}}, 'textrank': {'xgb': {'prec': 0.5263157894736842, 'rec': 0.7142857142857143, 'f1': 0.6060606060606061, 'acc': 0.74}, 'rf': {'prec': 0.5, 'rec': 0.5714285714285714, 'f1': 0.5333333333333333, 'acc': 0.72}, 'lr': {'prec': 0.75, 'rec': 0.26785714285714285, 'f1': 0.3947368421052632, 'acc': 0.77}, 'mlp': {'prec': 0.559322033898305, 'rec': 0.5892857142857143, 'f1': 0.5739130434782609, 'acc': 0.755}}, 'sum_indobart': {'xgb': {'prec': 0.21621621621621623, 'rec': 0.42857142857142855, 'f1': 0.2874251497005988, 'acc': 0.405}, 'rf': {'prec': 0.2994011976047904, 'rec': 0.8928571428571429, 'f1': 0.4484304932735425, 'acc': 0.385}, 'lr': {'prec': 0.6756756756756757, 'rec': 0.44642857142857145, 'f1': 0.5376344086021506, 'acc': 0.785}, 'mlp': {'prec': 0.5806451612903226, 'rec': 0.6428571428571429, 'f1': 0.6101694915254238, 'acc': 0.77}}, 'sum_liputan6': {'xgb': {'prec': 0.3445378151260504, 'rec': 0.7321428571428571, 'f1': 0.4685714285714285, 'acc': 0.535}, 'rf': {'prec': 0.2898550724637681, 'rec': 0.35714285714285715, 'f1': 0.32, 'acc': 0.575}, 'lr': {'prec': 0.7105263157894737, 'rec': 0.48214285714285715, 'f1': 0.5744680851063829, 'acc': 0.8}, 'mlp': {'prec': 0.5256410256410257, 'rec': 0.7321428571428571, 'f1': 0.6119402985074627, 'acc': 0.74}}, 'sum_pegasus': {'xgb': {'prec': 0.5714285714285714, 'rec': 0.2857142857142857, 'f1': 0.38095238095238093, 'acc': 0.74}, 'rf': {'prec': 0.5714285714285714, 'rec': 0.35714285714285715, 'f1': 0.43956043956043955, 'acc': 0.745}, 'lr': {'prec': 0.7142857142857143, 'rec': 0.17857142857142858, 'f1': 0.2857142857142857, 'acc': 0.75}, 'mlp': {'prec': 0.6086956521739131, 'rec': 0.25, 'f1': 0.35443037974683544, 'acc': 0.745}}}}\n",
      "/workspace/dataset\n"
     ]
    },
    {
     "name": "stderr",
     "output_type": "stream",
     "text": [
      "/tmp/ipykernel_2258012/527456267.py:113: SettingWithCopyWarning: \n",
      "A value is trying to be set on a copy of a slice from a DataFrame.\n",
      "Try using .loc[row_indexer,col_indexer] = value instead\n",
      "\n",
      "See the caveats in the documentation: https://pandas.pydata.org/pandas-docs/stable/user_guide/indexing.html#returning-a-view-versus-a-copy\n",
      "  df['label'] = y_pred_test\n"
     ]
    }
   ],
   "source": [
    "%cd karhutla\n",
    "get_f1_eks_representasi_teks_bencana('karhutla')\n",
    "%cd .."
   ]
  },
  {
   "cell_type": "code",
   "execution_count": null,
   "id": "bc15adce",
   "metadata": {},
   "outputs": [
    {
     "name": "stdout",
     "output_type": "stream",
     "text": [
      "/workspace/dataset/kekeringan\n",
      "evaluasi pada bencana = kekeringan\n",
      "/workspace/dataset\n",
      "Eksperimen pada bencana kekeringan dengan representasi teks title_ori\n"
     ]
    }
   ],
   "source": [
    "%cd kekeringan\n",
    "get_f1_eks_representasi_teks_bencana('kekeringan')\n",
    "%cd .."
   ]
  },
  {
   "cell_type": "code",
   "execution_count": null,
   "id": "e69a3566",
   "metadata": {},
   "outputs": [
    {
     "name": "stdout",
     "output_type": "stream",
     "text": [
      "/workspace/dataset/longsor\n",
      "evaluasi pada bencana = longsor\n",
      "/workspace/dataset\n",
      "Eksperimen pada bencana longsor dengan representasi teks title_ori\n",
      "XGBOOST\n",
      "Di train dapat performa \n",
      "Nilai Precision = 0.9747474747474747\n",
      "Nilai Recall = 0.8894009216589862\n",
      "Nilai F1 = 0.9301204819277109\n",
      "Di test dapat performa\n",
      "Nilai Precision = 0.5405405405405406\n",
      "Nilai Recall = 0.37735849056603776\n",
      "Nilai F1 = 0.4444444444444445\n",
      "########\n",
      "RANDOM FOREST\n"
     ]
    },
    {
     "name": "stderr",
     "output_type": "stream",
     "text": [
      "/tmp/ipykernel_1521/527456267.py:50: SettingWithCopyWarning: \n",
      "A value is trying to be set on a copy of a slice from a DataFrame.\n",
      "Try using .loc[row_indexer,col_indexer] = value instead\n",
      "\n",
      "See the caveats in the documentation: https://pandas.pydata.org/pandas-docs/stable/user_guide/indexing.html#returning-a-view-versus-a-copy\n",
      "  df['label'] = y_pred_test\n"
     ]
    },
    {
     "name": "stdout",
     "output_type": "stream",
     "text": [
      "Di train dapat performa \n",
      "Nilai Precision = 1.0\n",
      "Nilai Recall = 1.0\n",
      "Nilai F1 = 1.0\n",
      "Di test dapat performa\n",
      "Nilai Precision = 0.0\n",
      "Nilai Recall = 0.0\n",
      "Nilai F1 = 0.0\n",
      "########\n",
      "LOGISTIK REGRESSION\n",
      "Di train dapat performa \n",
      "Nilai Precision = 1.0\n",
      "Nilai Recall = 0.04608294930875576\n",
      "Nilai F1 = 0.0881057268722467\n",
      "Di test dapat performa\n",
      "Nilai Precision = 1.0\n",
      "Nilai Recall = 0.07547169811320754\n",
      "Nilai F1 = 0.14035087719298245\n",
      "########\n",
      "MLP\n"
     ]
    },
    {
     "name": "stderr",
     "output_type": "stream",
     "text": [
      "/tmp/ipykernel_1521/527456267.py:69: SettingWithCopyWarning: \n",
      "A value is trying to be set on a copy of a slice from a DataFrame.\n",
      "Try using .loc[row_indexer,col_indexer] = value instead\n",
      "\n",
      "See the caveats in the documentation: https://pandas.pydata.org/pandas-docs/stable/user_guide/indexing.html#returning-a-view-versus-a-copy\n",
      "  df['label'] = y_pred_test\n",
      "/tmp/ipykernel_1521/527456267.py:91: SettingWithCopyWarning: \n",
      "A value is trying to be set on a copy of a slice from a DataFrame.\n",
      "Try using .loc[row_indexer,col_indexer] = value instead\n",
      "\n",
      "See the caveats in the documentation: https://pandas.pydata.org/pandas-docs/stable/user_guide/indexing.html#returning-a-view-versus-a-copy\n",
      "  df['label'] = y_pred_test\n"
     ]
    },
    {
     "name": "stdout",
     "output_type": "stream",
     "text": [
      "Di train dapat performa \n",
      "Nilai Precision = 0.7415730337078652\n",
      "Nilai Recall = 0.6082949308755761\n",
      "Nilai F1 = 0.6683544303797468\n",
      "Di test dapat performa\n",
      "Nilai Precision = 0.7272727272727273\n",
      "Nilai Recall = 0.4528301886792453\n",
      "Nilai F1 = 0.5581395348837209\n",
      "########\n",
      "/workspace/dataset/longsor\n",
      "Rata-rata nilai test dengan Classifier xgb, rf, dan mlp adalah\n",
      "Precision = 0.4226044226044226\n",
      "Recall = 0.27672955974842767\n",
      "F1 = 0.33419465977605517\n",
      "\n",
      "\n",
      "/workspace/dataset\n",
      "Eksperimen pada bencana longsor dengan representasi teks text_ori\n"
     ]
    },
    {
     "name": "stderr",
     "output_type": "stream",
     "text": [
      "/tmp/ipykernel_1521/527456267.py:113: SettingWithCopyWarning: \n",
      "A value is trying to be set on a copy of a slice from a DataFrame.\n",
      "Try using .loc[row_indexer,col_indexer] = value instead\n",
      "\n",
      "See the caveats in the documentation: https://pandas.pydata.org/pandas-docs/stable/user_guide/indexing.html#returning-a-view-versus-a-copy\n",
      "  df['label'] = y_pred_test\n"
     ]
    },
    {
     "name": "stdout",
     "output_type": "stream",
     "text": [
      "XGBOOST\n",
      "Di train dapat performa \n",
      "Nilai Precision = 1.0\n",
      "Nilai Recall = 0.9308755760368663\n",
      "Nilai F1 = 0.964200477326969\n",
      "Di test dapat performa\n",
      "Nilai Precision = 0.5833333333333334\n",
      "Nilai Recall = 0.5283018867924528\n",
      "Nilai F1 = 0.5544554455445545\n",
      "########\n",
      "RANDOM FOREST\n"
     ]
    },
    {
     "name": "stderr",
     "output_type": "stream",
     "text": [
      "/tmp/ipykernel_1521/527456267.py:50: SettingWithCopyWarning: \n",
      "A value is trying to be set on a copy of a slice from a DataFrame.\n",
      "Try using .loc[row_indexer,col_indexer] = value instead\n",
      "\n",
      "See the caveats in the documentation: https://pandas.pydata.org/pandas-docs/stable/user_guide/indexing.html#returning-a-view-versus-a-copy\n",
      "  df['label'] = y_pred_test\n"
     ]
    },
    {
     "name": "stdout",
     "output_type": "stream",
     "text": [
      "Di train dapat performa \n",
      "Nilai Precision = 1.0\n",
      "Nilai Recall = 1.0\n",
      "Nilai F1 = 1.0\n",
      "Di test dapat performa\n",
      "Nilai Precision = 0.5217391304347826\n",
      "Nilai Recall = 0.22641509433962265\n",
      "Nilai F1 = 0.3157894736842105\n",
      "########\n",
      "LOGISTIK REGRESSION\n",
      "Di train dapat performa \n",
      "Nilai Precision = 0.5\n",
      "Nilai Recall = 0.009216589861751152\n",
      "Nilai F1 = 0.01809954751131222\n",
      "Di test dapat performa\n",
      "Nilai Precision = 1.0\n",
      "Nilai Recall = 0.018867924528301886\n",
      "Nilai F1 = 0.037037037037037035\n",
      "########\n",
      "MLP\n"
     ]
    },
    {
     "name": "stderr",
     "output_type": "stream",
     "text": [
      "/tmp/ipykernel_1521/527456267.py:69: SettingWithCopyWarning: \n",
      "A value is trying to be set on a copy of a slice from a DataFrame.\n",
      "Try using .loc[row_indexer,col_indexer] = value instead\n",
      "\n",
      "See the caveats in the documentation: https://pandas.pydata.org/pandas-docs/stable/user_guide/indexing.html#returning-a-view-versus-a-copy\n",
      "  df['label'] = y_pred_test\n",
      "/tmp/ipykernel_1521/527456267.py:91: SettingWithCopyWarning: \n",
      "A value is trying to be set on a copy of a slice from a DataFrame.\n",
      "Try using .loc[row_indexer,col_indexer] = value instead\n",
      "\n",
      "See the caveats in the documentation: https://pandas.pydata.org/pandas-docs/stable/user_guide/indexing.html#returning-a-view-versus-a-copy\n",
      "  df['label'] = y_pred_test\n"
     ]
    },
    {
     "name": "stdout",
     "output_type": "stream",
     "text": [
      "Di train dapat performa \n",
      "Nilai Precision = 0.7857142857142857\n",
      "Nilai Recall = 0.05069124423963134\n",
      "Nilai F1 = 0.09523809523809525\n",
      "Di test dapat performa\n",
      "Nilai Precision = 1.0\n",
      "Nilai Recall = 0.018867924528301886\n",
      "Nilai F1 = 0.037037037037037035\n",
      "########\n",
      "/workspace/dataset/longsor\n",
      "Rata-rata nilai test dengan Classifier xgb, rf, dan mlp adalah\n",
      "Precision = 0.7016908212560388\n",
      "Recall = 0.2578616352201258\n",
      "F1 = 0.30242731875526735\n",
      "\n",
      "\n",
      "/workspace/dataset\n",
      "Eksperimen pada bencana longsor dengan representasi teks tc_ori\n"
     ]
    },
    {
     "name": "stderr",
     "output_type": "stream",
     "text": [
      "/tmp/ipykernel_1521/527456267.py:113: SettingWithCopyWarning: \n",
      "A value is trying to be set on a copy of a slice from a DataFrame.\n",
      "Try using .loc[row_indexer,col_indexer] = value instead\n",
      "\n",
      "See the caveats in the documentation: https://pandas.pydata.org/pandas-docs/stable/user_guide/indexing.html#returning-a-view-versus-a-copy\n",
      "  df['label'] = y_pred_test\n"
     ]
    },
    {
     "name": "stdout",
     "output_type": "stream",
     "text": [
      "XGBOOST\n",
      "Di train dapat performa \n",
      "Nilai Precision = 0.9851485148514851\n",
      "Nilai Recall = 0.9170506912442397\n",
      "Nilai F1 = 0.9498806682577565\n",
      "Di test dapat performa\n",
      "Nilai Precision = 0.6065573770491803\n",
      "Nilai Recall = 0.6981132075471698\n",
      "Nilai F1 = 0.6491228070175438\n",
      "########\n",
      "RANDOM FOREST\n"
     ]
    },
    {
     "name": "stderr",
     "output_type": "stream",
     "text": [
      "/tmp/ipykernel_1521/527456267.py:50: SettingWithCopyWarning: \n",
      "A value is trying to be set on a copy of a slice from a DataFrame.\n",
      "Try using .loc[row_indexer,col_indexer] = value instead\n",
      "\n",
      "See the caveats in the documentation: https://pandas.pydata.org/pandas-docs/stable/user_guide/indexing.html#returning-a-view-versus-a-copy\n",
      "  df['label'] = y_pred_test\n"
     ]
    },
    {
     "name": "stdout",
     "output_type": "stream",
     "text": [
      "Di train dapat performa \n",
      "Nilai Precision = 1.0\n",
      "Nilai Recall = 1.0\n",
      "Nilai F1 = 1.0\n",
      "Di test dapat performa\n",
      "Nilai Precision = 0.8571428571428571\n",
      "Nilai Recall = 0.11320754716981132\n",
      "Nilai F1 = 0.2\n",
      "########\n",
      "LOGISTIK REGRESSION\n",
      "Di train dapat performa \n",
      "Nilai Precision = 0.5\n",
      "Nilai Recall = 0.009216589861751152\n",
      "Nilai F1 = 0.01809954751131222\n",
      "Di test dapat performa\n",
      "Nilai Precision = 1.0\n",
      "Nilai Recall = 0.018867924528301886\n",
      "Nilai F1 = 0.037037037037037035\n",
      "########\n",
      "MLP\n"
     ]
    },
    {
     "name": "stderr",
     "output_type": "stream",
     "text": [
      "/tmp/ipykernel_1521/527456267.py:69: SettingWithCopyWarning: \n",
      "A value is trying to be set on a copy of a slice from a DataFrame.\n",
      "Try using .loc[row_indexer,col_indexer] = value instead\n",
      "\n",
      "See the caveats in the documentation: https://pandas.pydata.org/pandas-docs/stable/user_guide/indexing.html#returning-a-view-versus-a-copy\n",
      "  df['label'] = y_pred_test\n",
      "/tmp/ipykernel_1521/527456267.py:91: SettingWithCopyWarning: \n",
      "A value is trying to be set on a copy of a slice from a DataFrame.\n",
      "Try using .loc[row_indexer,col_indexer] = value instead\n",
      "\n",
      "See the caveats in the documentation: https://pandas.pydata.org/pandas-docs/stable/user_guide/indexing.html#returning-a-view-versus-a-copy\n",
      "  df['label'] = y_pred_test\n"
     ]
    }
   ],
   "source": [
    "%cd longsor\n",
    "get_f1_eks_representasi_teks_bencana('longsor')\n",
    "%cd .."
   ]
  },
  {
   "cell_type": "code",
   "execution_count": null,
   "id": "38a78f38",
   "metadata": {},
   "outputs": [],
   "source": [
    "%cd tsunami\n",
    "get_f1_eks_representasi_teks_bencana('tsunami')\n",
    "%cd .."
   ]
  },
  {
   "cell_type": "code",
   "execution_count": null,
   "id": "1c51896e",
   "metadata": {},
   "outputs": [],
   "source": []
  }
 ],
 "metadata": {
  "kernelspec": {
   "display_name": "Python 3 (ipykernel)",
   "language": "python",
   "name": "python3"
  },
  "language_info": {
   "codemirror_mode": {
    "name": "ipython",
    "version": 3
   },
   "file_extension": ".py",
   "mimetype": "text/x-python",
   "name": "python",
   "nbconvert_exporter": "python",
   "pygments_lexer": "ipython3",
   "version": "3.8.12"
  }
 },
 "nbformat": 4,
 "nbformat_minor": 5
}
