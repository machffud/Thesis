{
 "cells": [
  {
   "cell_type": "code",
   "execution_count": 1,
   "id": "53c80253",
   "metadata": {},
   "outputs": [
    {
     "name": "stdout",
     "output_type": "stream",
     "text": [
      "Wed Apr  3 03:53:42 2024       \n",
      "+---------------------------------------------------------------------------------------+\n",
      "| NVIDIA-SMI 535.161.07             Driver Version: 535.161.07   CUDA Version: 12.2     |\n",
      "|-----------------------------------------+----------------------+----------------------+\n",
      "| GPU  Name                 Persistence-M | Bus-Id        Disp.A | Volatile Uncorr. ECC |\n",
      "| Fan  Temp   Perf          Pwr:Usage/Cap |         Memory-Usage | GPU-Util  Compute M. |\n",
      "|                                         |                      |               MIG M. |\n",
      "|=========================================+======================+======================|\n",
      "|   0  NVIDIA A100-SXM4-40GB          On  | 00000000:07:00.0 Off |                    0 |\n",
      "| N/A   26C    P0              56W / 400W |  31300MiB / 40960MiB |      0%      Default |\n",
      "|                                         |                      |             Disabled |\n",
      "+-----------------------------------------+----------------------+----------------------+\n",
      "|   1  NVIDIA A100-SXM4-40GB          On  | 00000000:0F:00.0 Off |                    0 |\n",
      "| N/A   25C    P0              53W / 400W |      3MiB / 40960MiB |      0%      Default |\n",
      "|                                         |                      |             Disabled |\n",
      "+-----------------------------------------+----------------------+----------------------+\n",
      "|   2  NVIDIA A100-SXM4-40GB          On  | 00000000:47:00.0 Off |                    0 |\n",
      "| N/A   25C    P0              53W / 400W |      3MiB / 40960MiB |      0%      Default |\n",
      "|                                         |                      |             Disabled |\n",
      "+-----------------------------------------+----------------------+----------------------+\n",
      "|   3  NVIDIA A100-SXM4-40GB          On  | 00000000:4E:00.0 Off |                    0 |\n",
      "| N/A   25C    P0              52W / 400W |      3MiB / 40960MiB |      0%      Default |\n",
      "|                                         |                      |             Disabled |\n",
      "+-----------------------------------------+----------------------+----------------------+\n",
      "|   4  NVIDIA A100-SXM4-40GB          On  | 00000000:87:00.0 Off |                    0 |\n",
      "| N/A   54C    P0             298W / 400W |  35216MiB / 40960MiB |     99%      Default |\n",
      "|                                         |                      |             Disabled |\n",
      "+-----------------------------------------+----------------------+----------------------+\n",
      "|   5  NVIDIA A100-SXM4-40GB          On  | 00000000:90:00.0 Off |                    0 |\n",
      "| N/A   34C    P0              86W / 400W |   8699MiB / 40960MiB |    100%      Default |\n",
      "|                                         |                      |             Disabled |\n",
      "+-----------------------------------------+----------------------+----------------------+\n",
      "|   6  NVIDIA A100-SXM4-40GB          On  | 00000000:B7:00.0 Off |                    0 |\n",
      "| N/A   32C    P0              86W / 400W |   8567MiB / 40960MiB |     99%      Default |\n",
      "|                                         |                      |             Disabled |\n",
      "+-----------------------------------------+----------------------+----------------------+\n",
      "|   7  NVIDIA A100-SXM4-40GB          On  | 00000000:BD:00.0 Off |                    0 |\n",
      "| N/A   28C    P0              53W / 400W |      3MiB / 40960MiB |      0%      Default |\n",
      "|                                         |                      |             Disabled |\n",
      "+-----------------------------------------+----------------------+----------------------+\n",
      "                                                                                         \n",
      "+---------------------------------------------------------------------------------------+\n",
      "| Processes:                                                                            |\n",
      "|  GPU   GI   CI        PID   Type   Process name                            GPU Memory |\n",
      "|        ID   ID                                                             Usage      |\n",
      "|=======================================================================================|\n",
      "+---------------------------------------------------------------------------------------+\n"
     ]
    }
   ],
   "source": [
    "import os\n",
    "os.environ['CUDA_VISIBLE_DEVICES'] = '1'\n",
    "!nvidia-smi"
   ]
  },
  {
   "cell_type": "code",
   "execution_count": 2,
   "id": "e17d4ea3",
   "metadata": {},
   "outputs": [
    {
     "name": "stdout",
     "output_type": "stream",
     "text": [
      "Looking in indexes: https://pypi.org/simple, https://pypi.ngc.nvidia.com\n",
      "Requirement already satisfied: scikit-learn in /opt/conda/lib/python3.8/site-packages (1.3.2)\n",
      "Requirement already satisfied: joblib>=1.1.1 in /opt/conda/lib/python3.8/site-packages (from scikit-learn) (1.3.2)\n",
      "Requirement already satisfied: numpy<2.0,>=1.17.3 in /opt/conda/lib/python3.8/site-packages (from scikit-learn) (1.21.4)\n",
      "Requirement already satisfied: scipy>=1.5.0 in /opt/conda/lib/python3.8/site-packages (from scikit-learn) (1.6.3)\n",
      "Requirement already satisfied: threadpoolctl>=2.0.0 in /opt/conda/lib/python3.8/site-packages (from scikit-learn) (3.0.0)\n",
      "\u001b[33mWARNING: Running pip as the 'root' user can result in broken permissions and conflicting behaviour with the system package manager. It is recommended to use a virtual environment instead: https://pip.pypa.io/warnings/venv\u001b[0m\n"
     ]
    }
   ],
   "source": [
    "!pip install scikit-learn  -U"
   ]
  },
  {
   "cell_type": "code",
   "execution_count": 3,
   "id": "f9e80993",
   "metadata": {},
   "outputs": [],
   "source": [
    "from sklearn.feature_extraction.text import CountVectorizer\n",
    "from sklearn.naive_bayes import MultinomialNB\n",
    "from sklearn.metrics import precision_recall_fscore_support\n",
    "from sklearn.metrics import accuracy_score\n",
    "from sklearn.ensemble import RandomForestClassifier\n",
    "from sklearn.datasets import make_classification\n",
    "from sklearn.linear_model import LogisticRegression\n",
    "from sklearn.neural_network import MLPClassifier\n",
    "from sklearn.ensemble import GradientBoostingClassifier\n",
    "import pandas as pd\n",
    "\n",
    "def get_eksperiment_baseline(df_train, df_test, fitur, bencana):\n",
    "    %cd ..\n",
    "    print(f\"Eksperimen pada bencana {bencana} dengan representasi teks {fitur}\")\n",
    "    dct_cls = {}\n",
    "    vectorizer = CountVectorizer(ngram_range=(1,2))\n",
    "    LABEL2INDEX = { 'N':0,  'Y':1}\n",
    "    y_train = list(df_train['label'].apply(lambda lab: LABEL2INDEX[lab]))\n",
    "    y_test = list(df_test['label'].apply(lambda lab: LABEL2INDEX[lab]))\n",
    "    # df_all = pd.concat([df_train, df_test], ignore_index=True)\n",
    "    X_train = vectorizer.fit_transform(df_train[fitur].values.astype('U'))\n",
    "    X_test = vectorizer.transform(df_test[fitur].values.astype('U')) \n",
    "\n",
    "    rf = RandomForestClassifier(max_depth=100, n_estimators=100)\n",
    "    lr = LogisticRegression(max_iter = 100)\n",
    "    gnb = MultinomialNB()\n",
    "    mlp = MLPClassifier(random_state=1, max_iter=300)\n",
    "\n",
    "    print(\"RANDOM FOREST\")\n",
    "    rf.fit(X_train, y_train)\n",
    "\n",
    "    y_pred_train = rf.predict(X_train)\n",
    "    y_pred_test = rf.predict(X_test)\n",
    "    print(\"Di train dapat performa \")\n",
    "    get_eval(y_pred_train, y_train)\n",
    "    print(\"Di test dapat performa\")\n",
    "    p,r,f = get_eval(y_pred_test, y_test)\n",
    "    dct_metric = {}\n",
    "    dct_metric[\"prec\"] = p\n",
    "    dct_metric[\"rec\"] = r\n",
    "    dct_metric[\"f1\"] = f \n",
    "    dct_metric[\"acc\"] = accuracy_score(y_pred_test, y_test)\n",
    "    dct_cls[\"rf\"] = dct_metric\n",
    "    print(\"########\")\n",
    "    df = df_test[['id']]\n",
    "    df['label'] = y_pred_test\n",
    "    df[['id','label']].to_csv(f'../prediction/result_classification_Baseline/{bencana}_{fitur}_RF.csv', index=False)\n",
    "\n",
    "    print(\"LOGISTIK REGRESSION\")\n",
    "    lr.fit(X_train, y_train)\n",
    "    y_pred_train = lr.predict(X_train)\n",
    "    y_pred_test = lr.predict(X_test)\n",
    "    print(\"Di train dapat performa \")\n",
    "    get_eval(y_pred_train, y_train)\n",
    "    print(\"Di test dapat performa\")\n",
    "    p_l, r_l, f_l = get_eval(y_pred_test, y_test)\n",
    "    dct_metric = {}\n",
    "    dct_metric[\"prec\"] = p_l\n",
    "    dct_metric[\"rec\"] = r_l\n",
    "    dct_metric[\"f1\"] = f_l \n",
    "    dct_metric[\"acc\"] = accuracy_score(y_pred_test, y_test)\n",
    "    dct_cls[\"lr\"] = dct_metric\n",
    "    print(\"########\")\n",
    "    df = df_test[['id']]\n",
    "    df['label'] = y_pred_test\n",
    "    df[['id','label']].to_csv(f'../prediction/result_classification_Baseline/{bencana}_{fitur}_LR.csv', index=False)\n",
    "    p+=p_l\n",
    "    r+=r_l\n",
    "    f+=f_l\n",
    "\n",
    "    print(\"NAIVE BAYES\")\n",
    "    X_train.toarray()\n",
    "    X_test.toarray()\n",
    "    gnb.fit(X_train, y_train)\n",
    "    y_pred_train = gnb.predict(X_train)\n",
    "    y_pred_test = gnb.predict(X_test)\n",
    "    print(\"Di train dapat performa \")\n",
    "    get_eval(y_pred_train, y_train)\n",
    "    print(\"Di test dapat performa\")\n",
    "    p_l, r_l, f_l = get_eval(y_pred_test, y_test)\n",
    "    dct_metric = {}\n",
    "    dct_metric[\"prec\"] = p_l\n",
    "    dct_metric[\"rec\"] = r_l\n",
    "    dct_metric[\"f1\"] = f_l \n",
    "    dct_metric[\"acc\"] = accuracy_score(y_pred_test, y_test)\n",
    "    dct_cls[\"mnb\"] = dct_metric\n",
    "    print(\"########\")\n",
    "    df = df_test[['id']]\n",
    "    df['label'] = y_pred_test\n",
    "    df[['id','label']].to_csv(f'../prediction/result_classification_Baseline/{bencana}_{fitur}_NB.csv', index=False)\n",
    "    p+=p_l\n",
    "    r+=r_l\n",
    "    f+=f_l\n",
    "\n",
    "    print(\"MLP\")\n",
    "    mlp.fit(X_train, y_train)\n",
    "    y_pred_train = mlp.predict(X_train)\n",
    "    y_pred_test = mlp.predict(X_test)\n",
    "    print(\"Di train dapat performa \")\n",
    "    get_eval(y_pred_train, y_train)\n",
    "    print(\"Di test dapat performa\")\n",
    "    p_l, r_l, f_l = get_eval(y_pred_test, y_test)\n",
    "    dct_metric = {}\n",
    "    dct_metric[\"prec\"] = p_l\n",
    "    dct_metric[\"rec\"] = r_l\n",
    "    dct_metric[\"f1\"] = f_l \n",
    "    dct_metric[\"acc\"] = accuracy_score(y_pred_test, y_test)\n",
    "    dct_cls[\"mlp\"] = dct_metric\n",
    "    print(\"########\")\n",
    "    df = df_test[['id']]\n",
    "    df['label'] = y_pred_test\n",
    "    df[['id','label']].to_csv(f'../prediction/result_classification_Baseline/{bencana}_{fitur}_MLP.csv', index=False)\n",
    "    # p+=p_l\n",
    "    # r+=r_l\n",
    "    # f+=f_l\n",
    "    %cd -\n",
    "    print('Rata-rata nilai test dengan Classifier rf, lr, dan nb adalah')\n",
    "    print(f'Precision = {p/3}\\nRecall = {r/3}\\nF1 = {f/3}')\n",
    "    return dct_cls\n",
    "\n",
    "def get_eval(ypred, yact):\n",
    "    p,r, f,s = precision_recall_fscore_support(yact,ypred, average='binary', pos_label=1)\n",
    "    acc = accuracy_score(yact, ypred)\n",
    "    print(f\"Nilai Precision = {p}\")\n",
    "    print(f\"Nilai Recall = {r}\")\n",
    "    print(f\"Nilai F1 = {f}\")\n",
    "    return p,r,f\n",
    "def get_f1_baseline_bencana(bencana):\n",
    "    lst_fitur = [\"id\",\"title_ori\", \"text_ori\", \"tc_ori\", \"filter_word_tc\",\"filter_word_tc_window\", \"trunc_first_short\", \"trunc_last_short\", \"trunc_first_long\", \"trunc_last_long\", \"trunc_combination\",  \"textrank\", \"sum_indobart\", \"sum_liputan6\",\"sum_pegasus\",\"label\"]\n",
    "\n",
    "    df_train = pd.read_csv(f'{bencana}_train.csv')[lst_fitur]# angin_topan_dev.csv\n",
    "    df_dev = pd.read_csv(f'{bencana}_dev.csv')[lst_fitur]\n",
    "    df_test = pd.read_csv(f'{bencana}_test.csv')[lst_fitur]\n",
    "    #df_train_all = pd.concat([df_train, df_dev], ignore_index=True)\n",
    "    #print(len(df_train),len(df_dev),len(df_test))\n",
    "    print(f\"evaluasi pada bencana = {bencana}\")\n",
    "\n",
    "    dct_bencana={}\n",
    "\n",
    "    dct_bencana[bencana] = {}\n",
    "    for fitur in lst_fitur[1:-1]:\n",
    "        dct_fitur = {}\n",
    "        dct_bencana[bencana][fitur] = get_eksperiment_baseline(df_train, df_test, fitur, bencana)\n",
    "        print('\\n')\n",
    "    \n",
    "\n",
    "    print('************************************************************')\n",
    "\n",
    "\n",
    "    print(dct_bencana)"
   ]
  },
  {
   "cell_type": "code",
   "execution_count": 4,
   "id": "c7fa54e5",
   "metadata": {},
   "outputs": [
    {
     "name": "stdout",
     "output_type": "stream",
     "text": [
      "/workspace/Tugas Akhir\n",
      "/workspace/Tugas Akhir/dataset\n"
     ]
    }
   ],
   "source": [
    "!pwd\n",
    "%cd dataset"
   ]
  },
  {
   "cell_type": "code",
   "execution_count": 5,
   "id": "32e623d2",
   "metadata": {
    "scrolled": true
   },
   "outputs": [
    {
     "name": "stdout",
     "output_type": "stream",
     "text": [
      "/workspace/Tugas Akhir/dataset/angin_topan\n",
      "evaluasi pada bencana = angin_topan\n",
      "/workspace/Tugas Akhir/dataset\n",
      "Eksperimen pada bencana angin_topan dengan representasi teks title_ori\n",
      "RANDOM FOREST\n",
      "Di train dapat performa \n",
      "Nilai Precision = 1.0\n",
      "Nilai Recall = 1.0\n",
      "Nilai F1 = 1.0\n",
      "Di test dapat performa\n",
      "Nilai Precision = 0.9259259259259259\n",
      "Nilai Recall = 0.5434782608695652\n",
      "Nilai F1 = 0.6849315068493151\n",
      "########\n",
      "LOGISTIK REGRESSION\n",
      "Di train dapat performa \n",
      "Nilai Precision = 1.0\n",
      "Nilai Recall = 0.9874213836477987\n",
      "Nilai F1 = 0.9936708860759493\n",
      "Di test dapat performa\n",
      "Nilai Precision = 0.9696969696969697\n",
      "Nilai Recall = 0.6956521739130435\n",
      "Nilai F1 = 0.810126582278481\n",
      "########\n",
      "NAIVE BAYES\n",
      "Di train dapat performa \n",
      "Nilai Precision = 0.8863636363636364\n",
      "Nilai Recall = 0.9811320754716981\n",
      "Nilai F1 = 0.9313432835820894\n",
      "Di test dapat performa\n",
      "Nilai Precision = 0.9285714285714286\n",
      "Nilai Recall = 0.8478260869565217\n",
      "Nilai F1 = 0.8863636363636365\n",
      "########\n",
      "MLP\n"
     ]
    },
    {
     "name": "stderr",
     "output_type": "stream",
     "text": [
      "/tmp/ipykernel_79270/1540884036.py:46: SettingWithCopyWarning: \n",
      "A value is trying to be set on a copy of a slice from a DataFrame.\n",
      "Try using .loc[row_indexer,col_indexer] = value instead\n",
      "\n",
      "See the caveats in the documentation: https://pandas.pydata.org/pandas-docs/stable/user_guide/indexing.html#returning-a-view-versus-a-copy\n",
      "  df['label'] = y_pred_test\n",
      "/tmp/ipykernel_79270/1540884036.py:65: SettingWithCopyWarning: \n",
      "A value is trying to be set on a copy of a slice from a DataFrame.\n",
      "Try using .loc[row_indexer,col_indexer] = value instead\n",
      "\n",
      "See the caveats in the documentation: https://pandas.pydata.org/pandas-docs/stable/user_guide/indexing.html#returning-a-view-versus-a-copy\n",
      "  df['label'] = y_pred_test\n",
      "/tmp/ipykernel_79270/1540884036.py:89: SettingWithCopyWarning: \n",
      "A value is trying to be set on a copy of a slice from a DataFrame.\n",
      "Try using .loc[row_indexer,col_indexer] = value instead\n",
      "\n",
      "See the caveats in the documentation: https://pandas.pydata.org/pandas-docs/stable/user_guide/indexing.html#returning-a-view-versus-a-copy\n",
      "  df['label'] = y_pred_test\n"
     ]
    },
    {
     "name": "stdout",
     "output_type": "stream",
     "text": [
      "Di train dapat performa \n",
      "Nilai Precision = 1.0\n",
      "Nilai Recall = 1.0\n",
      "Nilai F1 = 1.0\n",
      "Di test dapat performa\n",
      "Nilai Precision = 0.9230769230769231\n",
      "Nilai Recall = 0.782608695652174\n",
      "Nilai F1 = 0.8470588235294118\n",
      "########\n",
      "/workspace/Tugas Akhir/dataset/angin_topan\n",
      "Rata-rata nilai test dengan Classifier rf, lr, dan nb adalah\n",
      "Precision = 0.9413981080647748\n",
      "Recall = 0.6956521739130435\n",
      "F1 = 0.7938072418304776\n",
      "\n",
      "\n",
      "/workspace/Tugas Akhir/dataset\n",
      "Eksperimen pada bencana angin_topan dengan representasi teks text_ori\n"
     ]
    },
    {
     "name": "stderr",
     "output_type": "stream",
     "text": [
      "/tmp/ipykernel_79270/1540884036.py:111: SettingWithCopyWarning: \n",
      "A value is trying to be set on a copy of a slice from a DataFrame.\n",
      "Try using .loc[row_indexer,col_indexer] = value instead\n",
      "\n",
      "See the caveats in the documentation: https://pandas.pydata.org/pandas-docs/stable/user_guide/indexing.html#returning-a-view-versus-a-copy\n",
      "  df['label'] = y_pred_test\n"
     ]
    },
    {
     "name": "stdout",
     "output_type": "stream",
     "text": [
      "RANDOM FOREST\n",
      "Di train dapat performa \n",
      "Nilai Precision = 1.0\n",
      "Nilai Recall = 1.0\n",
      "Nilai F1 = 1.0\n",
      "Di test dapat performa\n",
      "Nilai Precision = 1.0\n",
      "Nilai Recall = 0.21739130434782608\n",
      "Nilai F1 = 0.3571428571428571\n",
      "########\n",
      "LOGISTIK REGRESSION\n"
     ]
    },
    {
     "name": "stderr",
     "output_type": "stream",
     "text": [
      "/tmp/ipykernel_79270/1540884036.py:46: SettingWithCopyWarning: \n",
      "A value is trying to be set on a copy of a slice from a DataFrame.\n",
      "Try using .loc[row_indexer,col_indexer] = value instead\n",
      "\n",
      "See the caveats in the documentation: https://pandas.pydata.org/pandas-docs/stable/user_guide/indexing.html#returning-a-view-versus-a-copy\n",
      "  df['label'] = y_pred_test\n"
     ]
    },
    {
     "name": "stdout",
     "output_type": "stream",
     "text": [
      "Di train dapat performa \n",
      "Nilai Precision = 1.0\n",
      "Nilai Recall = 1.0\n",
      "Nilai F1 = 1.0\n",
      "Di test dapat performa\n",
      "Nilai Precision = 0.8823529411764706\n",
      "Nilai Recall = 0.6521739130434783\n",
      "Nilai F1 = 0.75\n",
      "########\n",
      "NAIVE BAYES\n"
     ]
    },
    {
     "name": "stderr",
     "output_type": "stream",
     "text": [
      "/tmp/ipykernel_79270/1540884036.py:65: SettingWithCopyWarning: \n",
      "A value is trying to be set on a copy of a slice from a DataFrame.\n",
      "Try using .loc[row_indexer,col_indexer] = value instead\n",
      "\n",
      "See the caveats in the documentation: https://pandas.pydata.org/pandas-docs/stable/user_guide/indexing.html#returning-a-view-versus-a-copy\n",
      "  df['label'] = y_pred_test\n"
     ]
    },
    {
     "name": "stdout",
     "output_type": "stream",
     "text": [
      "Di train dapat performa \n",
      "Nilai Precision = 0.9937106918238994\n",
      "Nilai Recall = 0.9937106918238994\n",
      "Nilai F1 = 0.9937106918238994\n",
      "Di test dapat performa\n",
      "Nilai Precision = 1.0\n",
      "Nilai Recall = 0.2826086956521739\n",
      "Nilai F1 = 0.4406779661016949\n",
      "########\n",
      "MLP\n"
     ]
    },
    {
     "name": "stderr",
     "output_type": "stream",
     "text": [
      "/tmp/ipykernel_79270/1540884036.py:89: SettingWithCopyWarning: \n",
      "A value is trying to be set on a copy of a slice from a DataFrame.\n",
      "Try using .loc[row_indexer,col_indexer] = value instead\n",
      "\n",
      "See the caveats in the documentation: https://pandas.pydata.org/pandas-docs/stable/user_guide/indexing.html#returning-a-view-versus-a-copy\n",
      "  df['label'] = y_pred_test\n"
     ]
    },
    {
     "name": "stdout",
     "output_type": "stream",
     "text": [
      "Di train dapat performa \n",
      "Nilai Precision = 1.0\n",
      "Nilai Recall = 1.0\n",
      "Nilai F1 = 1.0\n",
      "Di test dapat performa\n",
      "Nilai Precision = 0.7368421052631579\n",
      "Nilai Recall = 0.9130434782608695\n",
      "Nilai F1 = 0.8155339805825242\n",
      "########\n",
      "/workspace/Tugas Akhir/dataset/angin_topan\n",
      "Rata-rata nilai test dengan Classifier rf, lr, dan nb adalah\n",
      "Precision = 0.9607843137254902\n",
      "Recall = 0.38405797101449274\n",
      "F1 = 0.5159402744148507\n",
      "\n",
      "\n",
      "/workspace/Tugas Akhir/dataset\n",
      "Eksperimen pada bencana angin_topan dengan representasi teks tc_ori\n"
     ]
    },
    {
     "name": "stderr",
     "output_type": "stream",
     "text": [
      "/tmp/ipykernel_79270/1540884036.py:111: SettingWithCopyWarning: \n",
      "A value is trying to be set on a copy of a slice from a DataFrame.\n",
      "Try using .loc[row_indexer,col_indexer] = value instead\n",
      "\n",
      "See the caveats in the documentation: https://pandas.pydata.org/pandas-docs/stable/user_guide/indexing.html#returning-a-view-versus-a-copy\n",
      "  df['label'] = y_pred_test\n"
     ]
    },
    {
     "name": "stdout",
     "output_type": "stream",
     "text": [
      "RANDOM FOREST\n",
      "Di train dapat performa \n",
      "Nilai Precision = 1.0\n",
      "Nilai Recall = 1.0\n",
      "Nilai F1 = 1.0\n",
      "Di test dapat performa\n",
      "Nilai Precision = 1.0\n",
      "Nilai Recall = 0.2826086956521739\n",
      "Nilai F1 = 0.4406779661016949\n",
      "########\n",
      "LOGISTIK REGRESSION\n"
     ]
    },
    {
     "name": "stderr",
     "output_type": "stream",
     "text": [
      "/tmp/ipykernel_79270/1540884036.py:46: SettingWithCopyWarning: \n",
      "A value is trying to be set on a copy of a slice from a DataFrame.\n",
      "Try using .loc[row_indexer,col_indexer] = value instead\n",
      "\n",
      "See the caveats in the documentation: https://pandas.pydata.org/pandas-docs/stable/user_guide/indexing.html#returning-a-view-versus-a-copy\n",
      "  df['label'] = y_pred_test\n",
      "/opt/conda/lib/python3.8/site-packages/sklearn/linear_model/_logistic.py:460: ConvergenceWarning: lbfgs failed to converge (status=1):\n",
      "STOP: TOTAL NO. of ITERATIONS REACHED LIMIT.\n",
      "\n",
      "Increase the number of iterations (max_iter) or scale the data as shown in:\n",
      "    https://scikit-learn.org/stable/modules/preprocessing.html\n",
      "Please also refer to the documentation for alternative solver options:\n",
      "    https://scikit-learn.org/stable/modules/linear_model.html#logistic-regression\n",
      "  n_iter_i = _check_optimize_result(\n",
      "/tmp/ipykernel_79270/1540884036.py:65: SettingWithCopyWarning: \n",
      "A value is trying to be set on a copy of a slice from a DataFrame.\n",
      "Try using .loc[row_indexer,col_indexer] = value instead\n",
      "\n",
      "See the caveats in the documentation: https://pandas.pydata.org/pandas-docs/stable/user_guide/indexing.html#returning-a-view-versus-a-copy\n",
      "  df['label'] = y_pred_test\n"
     ]
    },
    {
     "name": "stdout",
     "output_type": "stream",
     "text": [
      "Di train dapat performa \n",
      "Nilai Precision = 1.0\n",
      "Nilai Recall = 1.0\n",
      "Nilai F1 = 1.0\n",
      "Di test dapat performa\n",
      "Nilai Precision = 0.9117647058823529\n",
      "Nilai Recall = 0.6739130434782609\n",
      "Nilai F1 = 0.775\n",
      "########\n",
      "NAIVE BAYES\n",
      "Di train dapat performa \n",
      "Nilai Precision = 0.9937106918238994\n",
      "Nilai Recall = 0.9937106918238994\n",
      "Nilai F1 = 0.9937106918238994\n",
      "Di test dapat performa\n",
      "Nilai Precision = 1.0\n",
      "Nilai Recall = 0.34782608695652173\n",
      "Nilai F1 = 0.5161290322580645\n",
      "########\n",
      "MLP\n"
     ]
    },
    {
     "name": "stderr",
     "output_type": "stream",
     "text": [
      "/tmp/ipykernel_79270/1540884036.py:89: SettingWithCopyWarning: \n",
      "A value is trying to be set on a copy of a slice from a DataFrame.\n",
      "Try using .loc[row_indexer,col_indexer] = value instead\n",
      "\n",
      "See the caveats in the documentation: https://pandas.pydata.org/pandas-docs/stable/user_guide/indexing.html#returning-a-view-versus-a-copy\n",
      "  df['label'] = y_pred_test\n"
     ]
    },
    {
     "name": "stdout",
     "output_type": "stream",
     "text": [
      "Di train dapat performa \n",
      "Nilai Precision = 1.0\n",
      "Nilai Recall = 1.0\n",
      "Nilai F1 = 1.0\n",
      "Di test dapat performa\n",
      "Nilai Precision = 0.7692307692307693\n",
      "Nilai Recall = 0.8695652173913043\n",
      "Nilai F1 = 0.8163265306122449\n",
      "########\n",
      "/workspace/Tugas Akhir/dataset/angin_topan\n",
      "Rata-rata nilai test dengan Classifier rf, lr, dan nb adalah\n",
      "Precision = 0.9705882352941176\n",
      "Recall = 0.43478260869565216\n",
      "F1 = 0.5772689994532532\n",
      "\n",
      "\n",
      "/workspace/Tugas Akhir/dataset\n",
      "Eksperimen pada bencana angin_topan dengan representasi teks filter_word_tc\n"
     ]
    },
    {
     "name": "stderr",
     "output_type": "stream",
     "text": [
      "/tmp/ipykernel_79270/1540884036.py:111: SettingWithCopyWarning: \n",
      "A value is trying to be set on a copy of a slice from a DataFrame.\n",
      "Try using .loc[row_indexer,col_indexer] = value instead\n",
      "\n",
      "See the caveats in the documentation: https://pandas.pydata.org/pandas-docs/stable/user_guide/indexing.html#returning-a-view-versus-a-copy\n",
      "  df['label'] = y_pred_test\n"
     ]
    },
    {
     "name": "stdout",
     "output_type": "stream",
     "text": [
      "RANDOM FOREST\n",
      "Di train dapat performa \n",
      "Nilai Precision = 1.0\n",
      "Nilai Recall = 1.0\n",
      "Nilai F1 = 1.0\n",
      "Di test dapat performa\n",
      "Nilai Precision = 0.8571428571428571\n",
      "Nilai Recall = 0.391304347826087\n",
      "Nilai F1 = 0.5373134328358209\n",
      "########\n",
      "LOGISTIK REGRESSION\n"
     ]
    },
    {
     "name": "stderr",
     "output_type": "stream",
     "text": [
      "/tmp/ipykernel_79270/1540884036.py:46: SettingWithCopyWarning: \n",
      "A value is trying to be set on a copy of a slice from a DataFrame.\n",
      "Try using .loc[row_indexer,col_indexer] = value instead\n",
      "\n",
      "See the caveats in the documentation: https://pandas.pydata.org/pandas-docs/stable/user_guide/indexing.html#returning-a-view-versus-a-copy\n",
      "  df['label'] = y_pred_test\n"
     ]
    },
    {
     "name": "stdout",
     "output_type": "stream",
     "text": [
      "Di train dapat performa \n",
      "Nilai Precision = 1.0\n",
      "Nilai Recall = 0.9937106918238994\n",
      "Nilai F1 = 0.9968454258675079\n",
      "Di test dapat performa\n",
      "Nilai Precision = 0.8378378378378378\n",
      "Nilai Recall = 0.6739130434782609\n",
      "Nilai F1 = 0.746987951807229\n",
      "########\n",
      "NAIVE BAYES\n",
      "Di train dapat performa \n",
      "Nilai Precision = 0.9386503067484663\n",
      "Nilai Recall = 0.9622641509433962\n",
      "Nilai F1 = 0.9503105590062112\n",
      "Di test dapat performa\n",
      "Nilai Precision = 0.8709677419354839\n",
      "Nilai Recall = 0.5869565217391305\n",
      "Nilai F1 = 0.7012987012987013\n",
      "########\n",
      "MLP\n"
     ]
    },
    {
     "name": "stderr",
     "output_type": "stream",
     "text": [
      "/tmp/ipykernel_79270/1540884036.py:65: SettingWithCopyWarning: \n",
      "A value is trying to be set on a copy of a slice from a DataFrame.\n",
      "Try using .loc[row_indexer,col_indexer] = value instead\n",
      "\n",
      "See the caveats in the documentation: https://pandas.pydata.org/pandas-docs/stable/user_guide/indexing.html#returning-a-view-versus-a-copy\n",
      "  df['label'] = y_pred_test\n",
      "/tmp/ipykernel_79270/1540884036.py:89: SettingWithCopyWarning: \n",
      "A value is trying to be set on a copy of a slice from a DataFrame.\n",
      "Try using .loc[row_indexer,col_indexer] = value instead\n",
      "\n",
      "See the caveats in the documentation: https://pandas.pydata.org/pandas-docs/stable/user_guide/indexing.html#returning-a-view-versus-a-copy\n",
      "  df['label'] = y_pred_test\n"
     ]
    },
    {
     "name": "stdout",
     "output_type": "stream",
     "text": [
      "Di train dapat performa \n",
      "Nilai Precision = 1.0\n",
      "Nilai Recall = 1.0\n",
      "Nilai F1 = 1.0\n",
      "Di test dapat performa\n",
      "Nilai Precision = 0.8846153846153846\n",
      "Nilai Recall = 0.5\n",
      "Nilai F1 = 0.6388888888888888\n",
      "########\n",
      "/workspace/Tugas Akhir/dataset/angin_topan\n",
      "Rata-rata nilai test dengan Classifier rf, lr, dan nb adalah\n",
      "Precision = 0.8553161456387263\n",
      "Recall = 0.5507246376811595\n",
      "F1 = 0.6618666953139171\n",
      "\n",
      "\n",
      "/workspace/Tugas Akhir/dataset\n",
      "Eksperimen pada bencana angin_topan dengan representasi teks filter_word_tc_window\n"
     ]
    },
    {
     "name": "stderr",
     "output_type": "stream",
     "text": [
      "/tmp/ipykernel_79270/1540884036.py:111: SettingWithCopyWarning: \n",
      "A value is trying to be set on a copy of a slice from a DataFrame.\n",
      "Try using .loc[row_indexer,col_indexer] = value instead\n",
      "\n",
      "See the caveats in the documentation: https://pandas.pydata.org/pandas-docs/stable/user_guide/indexing.html#returning-a-view-versus-a-copy\n",
      "  df['label'] = y_pred_test\n"
     ]
    },
    {
     "name": "stdout",
     "output_type": "stream",
     "text": [
      "RANDOM FOREST\n",
      "Di train dapat performa \n",
      "Nilai Precision = 1.0\n",
      "Nilai Recall = 1.0\n",
      "Nilai F1 = 1.0\n",
      "Di test dapat performa\n",
      "Nilai Precision = 0.85\n",
      "Nilai Recall = 0.3695652173913043\n",
      "Nilai F1 = 0.5151515151515151\n",
      "########\n",
      "LOGISTIK REGRESSION\n"
     ]
    },
    {
     "name": "stderr",
     "output_type": "stream",
     "text": [
      "/tmp/ipykernel_79270/1540884036.py:46: SettingWithCopyWarning: \n",
      "A value is trying to be set on a copy of a slice from a DataFrame.\n",
      "Try using .loc[row_indexer,col_indexer] = value instead\n",
      "\n",
      "See the caveats in the documentation: https://pandas.pydata.org/pandas-docs/stable/user_guide/indexing.html#returning-a-view-versus-a-copy\n",
      "  df['label'] = y_pred_test\n"
     ]
    },
    {
     "name": "stdout",
     "output_type": "stream",
     "text": [
      "Di train dapat performa \n",
      "Nilai Precision = 1.0\n",
      "Nilai Recall = 0.9937106918238994\n",
      "Nilai F1 = 0.9968454258675079\n",
      "Di test dapat performa\n",
      "Nilai Precision = 0.8611111111111112\n",
      "Nilai Recall = 0.6739130434782609\n",
      "Nilai F1 = 0.7560975609756099\n",
      "########\n",
      "NAIVE BAYES\n",
      "Di train dapat performa \n",
      "Nilai Precision = 0.9631901840490797\n",
      "Nilai Recall = 0.9874213836477987\n",
      "Nilai F1 = 0.9751552795031055\n",
      "Di test dapat performa\n",
      "Nilai Precision = 0.9375\n",
      "Nilai Recall = 0.6521739130434783\n",
      "Nilai F1 = 0.7692307692307693\n",
      "########\n",
      "MLP\n"
     ]
    },
    {
     "name": "stderr",
     "output_type": "stream",
     "text": [
      "/tmp/ipykernel_79270/1540884036.py:65: SettingWithCopyWarning: \n",
      "A value is trying to be set on a copy of a slice from a DataFrame.\n",
      "Try using .loc[row_indexer,col_indexer] = value instead\n",
      "\n",
      "See the caveats in the documentation: https://pandas.pydata.org/pandas-docs/stable/user_guide/indexing.html#returning-a-view-versus-a-copy\n",
      "  df['label'] = y_pred_test\n",
      "/tmp/ipykernel_79270/1540884036.py:89: SettingWithCopyWarning: \n",
      "A value is trying to be set on a copy of a slice from a DataFrame.\n",
      "Try using .loc[row_indexer,col_indexer] = value instead\n",
      "\n",
      "See the caveats in the documentation: https://pandas.pydata.org/pandas-docs/stable/user_guide/indexing.html#returning-a-view-versus-a-copy\n",
      "  df['label'] = y_pred_test\n"
     ]
    },
    {
     "name": "stdout",
     "output_type": "stream",
     "text": [
      "Di train dapat performa \n",
      "Nilai Precision = 1.0\n",
      "Nilai Recall = 1.0\n",
      "Nilai F1 = 1.0\n",
      "Di test dapat performa\n",
      "Nilai Precision = 0.9583333333333334\n",
      "Nilai Recall = 0.5\n",
      "Nilai F1 = 0.6571428571428571\n",
      "########\n",
      "/workspace/Tugas Akhir/dataset/angin_topan\n",
      "Rata-rata nilai test dengan Classifier rf, lr, dan nb adalah\n",
      "Precision = 0.8828703703703704\n",
      "Recall = 0.5652173913043478\n",
      "F1 = 0.6801599484526314\n",
      "\n",
      "\n",
      "/workspace/Tugas Akhir/dataset\n",
      "Eksperimen pada bencana angin_topan dengan representasi teks trunc_first_short\n"
     ]
    },
    {
     "name": "stderr",
     "output_type": "stream",
     "text": [
      "/tmp/ipykernel_79270/1540884036.py:111: SettingWithCopyWarning: \n",
      "A value is trying to be set on a copy of a slice from a DataFrame.\n",
      "Try using .loc[row_indexer,col_indexer] = value instead\n",
      "\n",
      "See the caveats in the documentation: https://pandas.pydata.org/pandas-docs/stable/user_guide/indexing.html#returning-a-view-versus-a-copy\n",
      "  df['label'] = y_pred_test\n"
     ]
    },
    {
     "name": "stdout",
     "output_type": "stream",
     "text": [
      "RANDOM FOREST\n",
      "Di train dapat performa \n",
      "Nilai Precision = 1.0\n",
      "Nilai Recall = 1.0\n",
      "Nilai F1 = 1.0\n",
      "Di test dapat performa\n",
      "Nilai Precision = 1.0\n",
      "Nilai Recall = 0.2608695652173913\n",
      "Nilai F1 = 0.41379310344827586\n",
      "########\n",
      "LOGISTIK REGRESSION\n"
     ]
    },
    {
     "name": "stderr",
     "output_type": "stream",
     "text": [
      "/tmp/ipykernel_79270/1540884036.py:46: SettingWithCopyWarning: \n",
      "A value is trying to be set on a copy of a slice from a DataFrame.\n",
      "Try using .loc[row_indexer,col_indexer] = value instead\n",
      "\n",
      "See the caveats in the documentation: https://pandas.pydata.org/pandas-docs/stable/user_guide/indexing.html#returning-a-view-versus-a-copy\n",
      "  df['label'] = y_pred_test\n"
     ]
    },
    {
     "name": "stdout",
     "output_type": "stream",
     "text": [
      "Di train dapat performa \n",
      "Nilai Precision = 1.0\n",
      "Nilai Recall = 1.0\n",
      "Nilai F1 = 1.0\n",
      "Di test dapat performa\n",
      "Nilai Precision = 0.96875\n",
      "Nilai Recall = 0.6739130434782609\n",
      "Nilai F1 = 0.7948717948717949\n",
      "########\n",
      "NAIVE BAYES\n",
      "Di train dapat performa \n",
      "Nilai Precision = 0.9813664596273292\n",
      "Nilai Recall = 0.9937106918238994\n",
      "Nilai F1 = 0.9874999999999999\n",
      "Di test dapat performa\n",
      "Nilai Precision = 0.9696969696969697\n",
      "Nilai Recall = 0.6956521739130435\n",
      "Nilai F1 = 0.810126582278481\n",
      "########\n",
      "MLP\n"
     ]
    },
    {
     "name": "stderr",
     "output_type": "stream",
     "text": [
      "/tmp/ipykernel_79270/1540884036.py:65: SettingWithCopyWarning: \n",
      "A value is trying to be set on a copy of a slice from a DataFrame.\n",
      "Try using .loc[row_indexer,col_indexer] = value instead\n",
      "\n",
      "See the caveats in the documentation: https://pandas.pydata.org/pandas-docs/stable/user_guide/indexing.html#returning-a-view-versus-a-copy\n",
      "  df['label'] = y_pred_test\n",
      "/tmp/ipykernel_79270/1540884036.py:89: SettingWithCopyWarning: \n",
      "A value is trying to be set on a copy of a slice from a DataFrame.\n",
      "Try using .loc[row_indexer,col_indexer] = value instead\n",
      "\n",
      "See the caveats in the documentation: https://pandas.pydata.org/pandas-docs/stable/user_guide/indexing.html#returning-a-view-versus-a-copy\n",
      "  df['label'] = y_pred_test\n"
     ]
    },
    {
     "name": "stdout",
     "output_type": "stream",
     "text": [
      "Di train dapat performa \n",
      "Nilai Precision = 1.0\n",
      "Nilai Recall = 1.0\n",
      "Nilai F1 = 1.0\n",
      "Di test dapat performa\n",
      "Nilai Precision = 0.9210526315789473\n",
      "Nilai Recall = 0.7608695652173914\n",
      "Nilai F1 = 0.8333333333333333\n",
      "########\n",
      "/workspace/Tugas Akhir/dataset/angin_topan\n",
      "Rata-rata nilai test dengan Classifier rf, lr, dan nb adalah\n",
      "Precision = 0.9794823232323232\n",
      "Recall = 0.5434782608695652\n",
      "F1 = 0.6729304935328506\n",
      "\n",
      "\n",
      "/workspace/Tugas Akhir/dataset\n",
      "Eksperimen pada bencana angin_topan dengan representasi teks trunc_last_short\n"
     ]
    },
    {
     "name": "stderr",
     "output_type": "stream",
     "text": [
      "/tmp/ipykernel_79270/1540884036.py:111: SettingWithCopyWarning: \n",
      "A value is trying to be set on a copy of a slice from a DataFrame.\n",
      "Try using .loc[row_indexer,col_indexer] = value instead\n",
      "\n",
      "See the caveats in the documentation: https://pandas.pydata.org/pandas-docs/stable/user_guide/indexing.html#returning-a-view-versus-a-copy\n",
      "  df['label'] = y_pred_test\n"
     ]
    },
    {
     "name": "stdout",
     "output_type": "stream",
     "text": [
      "RANDOM FOREST\n",
      "Di train dapat performa \n",
      "Nilai Precision = 1.0\n",
      "Nilai Recall = 1.0\n",
      "Nilai F1 = 1.0\n",
      "Di test dapat performa\n",
      "Nilai Precision = 0.0\n",
      "Nilai Recall = 0.0\n",
      "Nilai F1 = 0.0\n",
      "########\n",
      "LOGISTIK REGRESSION\n"
     ]
    },
    {
     "name": "stderr",
     "output_type": "stream",
     "text": [
      "/opt/conda/lib/python3.8/site-packages/sklearn/metrics/_classification.py:1471: UndefinedMetricWarning: Precision and F-score are ill-defined and being set to 0.0 due to no predicted samples. Use `zero_division` parameter to control this behavior.\n",
      "  _warn_prf(average, modifier, msg_start, len(result))\n",
      "/tmp/ipykernel_79270/1540884036.py:46: SettingWithCopyWarning: \n",
      "A value is trying to be set on a copy of a slice from a DataFrame.\n",
      "Try using .loc[row_indexer,col_indexer] = value instead\n",
      "\n",
      "See the caveats in the documentation: https://pandas.pydata.org/pandas-docs/stable/user_guide/indexing.html#returning-a-view-versus-a-copy\n",
      "  df['label'] = y_pred_test\n"
     ]
    },
    {
     "name": "stdout",
     "output_type": "stream",
     "text": [
      "Di train dapat performa \n",
      "Nilai Precision = 1.0\n",
      "Nilai Recall = 1.0\n",
      "Nilai F1 = 1.0\n",
      "Di test dapat performa\n",
      "Nilai Precision = 0.8235294117647058\n",
      "Nilai Recall = 0.30434782608695654\n",
      "Nilai F1 = 0.4444444444444444\n",
      "########\n",
      "NAIVE BAYES\n",
      "Di train dapat performa \n",
      "Nilai Precision = 0.9873417721518988\n",
      "Nilai Recall = 0.9811320754716981\n",
      "Nilai F1 = 0.9842271293375394\n",
      "Di test dapat performa\n",
      "Nilai Precision = 1.0\n",
      "Nilai Recall = 0.13043478260869565\n",
      "Nilai F1 = 0.23076923076923078\n",
      "########\n",
      "MLP\n"
     ]
    },
    {
     "name": "stderr",
     "output_type": "stream",
     "text": [
      "/tmp/ipykernel_79270/1540884036.py:65: SettingWithCopyWarning: \n",
      "A value is trying to be set on a copy of a slice from a DataFrame.\n",
      "Try using .loc[row_indexer,col_indexer] = value instead\n",
      "\n",
      "See the caveats in the documentation: https://pandas.pydata.org/pandas-docs/stable/user_guide/indexing.html#returning-a-view-versus-a-copy\n",
      "  df['label'] = y_pred_test\n",
      "/tmp/ipykernel_79270/1540884036.py:89: SettingWithCopyWarning: \n",
      "A value is trying to be set on a copy of a slice from a DataFrame.\n",
      "Try using .loc[row_indexer,col_indexer] = value instead\n",
      "\n",
      "See the caveats in the documentation: https://pandas.pydata.org/pandas-docs/stable/user_guide/indexing.html#returning-a-view-versus-a-copy\n",
      "  df['label'] = y_pred_test\n"
     ]
    },
    {
     "name": "stdout",
     "output_type": "stream",
     "text": [
      "Di train dapat performa \n",
      "Nilai Precision = 1.0\n",
      "Nilai Recall = 1.0\n",
      "Nilai F1 = 1.0\n",
      "Di test dapat performa\n",
      "Nilai Precision = 0.9\n",
      "Nilai Recall = 0.391304347826087\n",
      "Nilai F1 = 0.5454545454545454\n",
      "########\n",
      "/workspace/Tugas Akhir/dataset/angin_topan\n",
      "Rata-rata nilai test dengan Classifier rf, lr, dan nb adalah\n",
      "Precision = 0.6078431372549019\n",
      "Recall = 0.14492753623188406\n",
      "F1 = 0.2250712250712251\n",
      "\n",
      "\n",
      "/workspace/Tugas Akhir/dataset\n",
      "Eksperimen pada bencana angin_topan dengan representasi teks trunc_first_long\n"
     ]
    },
    {
     "name": "stderr",
     "output_type": "stream",
     "text": [
      "/tmp/ipykernel_79270/1540884036.py:111: SettingWithCopyWarning: \n",
      "A value is trying to be set on a copy of a slice from a DataFrame.\n",
      "Try using .loc[row_indexer,col_indexer] = value instead\n",
      "\n",
      "See the caveats in the documentation: https://pandas.pydata.org/pandas-docs/stable/user_guide/indexing.html#returning-a-view-versus-a-copy\n",
      "  df['label'] = y_pred_test\n"
     ]
    },
    {
     "name": "stdout",
     "output_type": "stream",
     "text": [
      "RANDOM FOREST\n",
      "Di train dapat performa \n",
      "Nilai Precision = 1.0\n",
      "Nilai Recall = 1.0\n",
      "Nilai F1 = 1.0\n",
      "Di test dapat performa\n",
      "Nilai Precision = 1.0\n",
      "Nilai Recall = 0.17391304347826086\n",
      "Nilai F1 = 0.29629629629629634\n",
      "########\n",
      "LOGISTIK REGRESSION\n"
     ]
    },
    {
     "name": "stderr",
     "output_type": "stream",
     "text": [
      "/tmp/ipykernel_79270/1540884036.py:46: SettingWithCopyWarning: \n",
      "A value is trying to be set on a copy of a slice from a DataFrame.\n",
      "Try using .loc[row_indexer,col_indexer] = value instead\n",
      "\n",
      "See the caveats in the documentation: https://pandas.pydata.org/pandas-docs/stable/user_guide/indexing.html#returning-a-view-versus-a-copy\n",
      "  df['label'] = y_pred_test\n"
     ]
    },
    {
     "name": "stdout",
     "output_type": "stream",
     "text": [
      "Di train dapat performa \n",
      "Nilai Precision = 1.0\n",
      "Nilai Recall = 1.0\n",
      "Nilai F1 = 1.0\n",
      "Di test dapat performa\n",
      "Nilai Precision = 0.9310344827586207\n",
      "Nilai Recall = 0.5869565217391305\n",
      "Nilai F1 = 0.7200000000000001\n",
      "########\n",
      "NAIVE BAYES\n",
      "Di train dapat performa \n",
      "Nilai Precision = 0.9875\n",
      "Nilai Recall = 0.9937106918238994\n",
      "Nilai F1 = 0.9905956112852665\n",
      "Di test dapat performa\n",
      "Nilai Precision = 1.0\n",
      "Nilai Recall = 0.5\n",
      "Nilai F1 = 0.6666666666666666\n",
      "########\n",
      "MLP\n"
     ]
    },
    {
     "name": "stderr",
     "output_type": "stream",
     "text": [
      "/tmp/ipykernel_79270/1540884036.py:65: SettingWithCopyWarning: \n",
      "A value is trying to be set on a copy of a slice from a DataFrame.\n",
      "Try using .loc[row_indexer,col_indexer] = value instead\n",
      "\n",
      "See the caveats in the documentation: https://pandas.pydata.org/pandas-docs/stable/user_guide/indexing.html#returning-a-view-versus-a-copy\n",
      "  df['label'] = y_pred_test\n",
      "/tmp/ipykernel_79270/1540884036.py:89: SettingWithCopyWarning: \n",
      "A value is trying to be set on a copy of a slice from a DataFrame.\n",
      "Try using .loc[row_indexer,col_indexer] = value instead\n",
      "\n",
      "See the caveats in the documentation: https://pandas.pydata.org/pandas-docs/stable/user_guide/indexing.html#returning-a-view-versus-a-copy\n",
      "  df['label'] = y_pred_test\n"
     ]
    },
    {
     "name": "stdout",
     "output_type": "stream",
     "text": [
      "Di train dapat performa \n",
      "Nilai Precision = 1.0\n",
      "Nilai Recall = 1.0\n",
      "Nilai F1 = 1.0\n",
      "Di test dapat performa\n",
      "Nilai Precision = 0.8372093023255814\n",
      "Nilai Recall = 0.782608695652174\n",
      "Nilai F1 = 0.8089887640449438\n",
      "########\n",
      "/workspace/Tugas Akhir/dataset/angin_topan\n",
      "Rata-rata nilai test dengan Classifier rf, lr, dan nb adalah\n",
      "Precision = 0.9770114942528735\n",
      "Recall = 0.4202898550724638\n",
      "F1 = 0.5609876543209876\n",
      "\n",
      "\n",
      "/workspace/Tugas Akhir/dataset\n",
      "Eksperimen pada bencana angin_topan dengan representasi teks trunc_last_long\n"
     ]
    },
    {
     "name": "stderr",
     "output_type": "stream",
     "text": [
      "/tmp/ipykernel_79270/1540884036.py:111: SettingWithCopyWarning: \n",
      "A value is trying to be set on a copy of a slice from a DataFrame.\n",
      "Try using .loc[row_indexer,col_indexer] = value instead\n",
      "\n",
      "See the caveats in the documentation: https://pandas.pydata.org/pandas-docs/stable/user_guide/indexing.html#returning-a-view-versus-a-copy\n",
      "  df['label'] = y_pred_test\n"
     ]
    },
    {
     "name": "stdout",
     "output_type": "stream",
     "text": [
      "RANDOM FOREST\n",
      "Di train dapat performa \n",
      "Nilai Precision = 1.0\n",
      "Nilai Recall = 1.0\n",
      "Nilai F1 = 1.0\n",
      "Di test dapat performa\n",
      "Nilai Precision = 1.0\n",
      "Nilai Recall = 0.043478260869565216\n",
      "Nilai F1 = 0.08333333333333333\n",
      "########\n",
      "LOGISTIK REGRESSION\n"
     ]
    },
    {
     "name": "stderr",
     "output_type": "stream",
     "text": [
      "/tmp/ipykernel_79270/1540884036.py:46: SettingWithCopyWarning: \n",
      "A value is trying to be set on a copy of a slice from a DataFrame.\n",
      "Try using .loc[row_indexer,col_indexer] = value instead\n",
      "\n",
      "See the caveats in the documentation: https://pandas.pydata.org/pandas-docs/stable/user_guide/indexing.html#returning-a-view-versus-a-copy\n",
      "  df['label'] = y_pred_test\n"
     ]
    },
    {
     "name": "stdout",
     "output_type": "stream",
     "text": [
      "Di train dapat performa \n",
      "Nilai Precision = 1.0\n",
      "Nilai Recall = 1.0\n",
      "Nilai F1 = 1.0\n",
      "Di test dapat performa\n",
      "Nilai Precision = 0.8846153846153846\n",
      "Nilai Recall = 0.5\n",
      "Nilai F1 = 0.6388888888888888\n",
      "########\n",
      "NAIVE BAYES\n",
      "Di train dapat performa \n",
      "Nilai Precision = 0.9936305732484076\n",
      "Nilai Recall = 0.9811320754716981\n",
      "Nilai F1 = 0.9873417721518988\n",
      "Di test dapat performa\n",
      "Nilai Precision = 1.0\n",
      "Nilai Recall = 0.2391304347826087\n",
      "Nilai F1 = 0.3859649122807018\n",
      "########\n",
      "MLP\n"
     ]
    },
    {
     "name": "stderr",
     "output_type": "stream",
     "text": [
      "/tmp/ipykernel_79270/1540884036.py:65: SettingWithCopyWarning: \n",
      "A value is trying to be set on a copy of a slice from a DataFrame.\n",
      "Try using .loc[row_indexer,col_indexer] = value instead\n",
      "\n",
      "See the caveats in the documentation: https://pandas.pydata.org/pandas-docs/stable/user_guide/indexing.html#returning-a-view-versus-a-copy\n",
      "  df['label'] = y_pred_test\n",
      "/tmp/ipykernel_79270/1540884036.py:89: SettingWithCopyWarning: \n",
      "A value is trying to be set on a copy of a slice from a DataFrame.\n",
      "Try using .loc[row_indexer,col_indexer] = value instead\n",
      "\n",
      "See the caveats in the documentation: https://pandas.pydata.org/pandas-docs/stable/user_guide/indexing.html#returning-a-view-versus-a-copy\n",
      "  df['label'] = y_pred_test\n"
     ]
    },
    {
     "name": "stdout",
     "output_type": "stream",
     "text": [
      "Di train dapat performa \n",
      "Nilai Precision = 1.0\n",
      "Nilai Recall = 1.0\n",
      "Nilai F1 = 1.0\n",
      "Di test dapat performa\n",
      "Nilai Precision = 0.8055555555555556\n",
      "Nilai Recall = 0.6304347826086957\n",
      "Nilai F1 = 0.7073170731707318\n",
      "########\n",
      "/workspace/Tugas Akhir/dataset/angin_topan\n",
      "Rata-rata nilai test dengan Classifier rf, lr, dan nb adalah\n",
      "Precision = 0.9615384615384616\n",
      "Recall = 0.2608695652173913\n",
      "F1 = 0.36939571150097467\n",
      "\n",
      "\n",
      "/workspace/Tugas Akhir/dataset\n",
      "Eksperimen pada bencana angin_topan dengan representasi teks trunc_combination\n"
     ]
    },
    {
     "name": "stderr",
     "output_type": "stream",
     "text": [
      "/tmp/ipykernel_79270/1540884036.py:111: SettingWithCopyWarning: \n",
      "A value is trying to be set on a copy of a slice from a DataFrame.\n",
      "Try using .loc[row_indexer,col_indexer] = value instead\n",
      "\n",
      "See the caveats in the documentation: https://pandas.pydata.org/pandas-docs/stable/user_guide/indexing.html#returning-a-view-versus-a-copy\n",
      "  df['label'] = y_pred_test\n"
     ]
    },
    {
     "name": "stdout",
     "output_type": "stream",
     "text": [
      "RANDOM FOREST\n",
      "Di train dapat performa \n",
      "Nilai Precision = 1.0\n",
      "Nilai Recall = 1.0\n",
      "Nilai F1 = 1.0\n",
      "Di test dapat performa\n",
      "Nilai Precision = 1.0\n",
      "Nilai Recall = 0.043478260869565216\n",
      "Nilai F1 = 0.08333333333333333\n",
      "########\n",
      "LOGISTIK REGRESSION\n"
     ]
    },
    {
     "name": "stderr",
     "output_type": "stream",
     "text": [
      "/tmp/ipykernel_79270/1540884036.py:46: SettingWithCopyWarning: \n",
      "A value is trying to be set on a copy of a slice from a DataFrame.\n",
      "Try using .loc[row_indexer,col_indexer] = value instead\n",
      "\n",
      "See the caveats in the documentation: https://pandas.pydata.org/pandas-docs/stable/user_guide/indexing.html#returning-a-view-versus-a-copy\n",
      "  df['label'] = y_pred_test\n"
     ]
    },
    {
     "name": "stdout",
     "output_type": "stream",
     "text": [
      "Di train dapat performa \n",
      "Nilai Precision = 1.0\n",
      "Nilai Recall = 1.0\n",
      "Nilai F1 = 1.0\n",
      "Di test dapat performa\n",
      "Nilai Precision = 0.896551724137931\n",
      "Nilai Recall = 0.5652173913043478\n",
      "Nilai F1 = 0.6933333333333332\n",
      "########\n",
      "NAIVE BAYES\n",
      "Di train dapat performa \n",
      "Nilai Precision = 0.9937106918238994\n",
      "Nilai Recall = 0.9937106918238994\n",
      "Nilai F1 = 0.9937106918238994\n",
      "Di test dapat performa\n",
      "Nilai Precision = 1.0\n",
      "Nilai Recall = 0.43478260869565216\n",
      "Nilai F1 = 0.6060606060606061\n",
      "########\n",
      "MLP\n"
     ]
    },
    {
     "name": "stderr",
     "output_type": "stream",
     "text": [
      "/tmp/ipykernel_79270/1540884036.py:65: SettingWithCopyWarning: \n",
      "A value is trying to be set on a copy of a slice from a DataFrame.\n",
      "Try using .loc[row_indexer,col_indexer] = value instead\n",
      "\n",
      "See the caveats in the documentation: https://pandas.pydata.org/pandas-docs/stable/user_guide/indexing.html#returning-a-view-versus-a-copy\n",
      "  df['label'] = y_pred_test\n",
      "/tmp/ipykernel_79270/1540884036.py:89: SettingWithCopyWarning: \n",
      "A value is trying to be set on a copy of a slice from a DataFrame.\n",
      "Try using .loc[row_indexer,col_indexer] = value instead\n",
      "\n",
      "See the caveats in the documentation: https://pandas.pydata.org/pandas-docs/stable/user_guide/indexing.html#returning-a-view-versus-a-copy\n",
      "  df['label'] = y_pred_test\n"
     ]
    },
    {
     "name": "stdout",
     "output_type": "stream",
     "text": [
      "Di train dapat performa \n",
      "Nilai Precision = 1.0\n",
      "Nilai Recall = 1.0\n",
      "Nilai F1 = 1.0\n",
      "Di test dapat performa\n",
      "Nilai Precision = 0.8974358974358975\n",
      "Nilai Recall = 0.7608695652173914\n",
      "Nilai F1 = 0.8235294117647058\n",
      "########\n",
      "/workspace/Tugas Akhir/dataset/angin_topan\n",
      "Rata-rata nilai test dengan Classifier rf, lr, dan nb adalah\n",
      "Precision = 0.9655172413793104\n",
      "Recall = 0.34782608695652173\n",
      "F1 = 0.46090909090909093\n",
      "\n",
      "\n",
      "/workspace/Tugas Akhir/dataset\n",
      "Eksperimen pada bencana angin_topan dengan representasi teks textrank\n"
     ]
    },
    {
     "name": "stderr",
     "output_type": "stream",
     "text": [
      "/tmp/ipykernel_79270/1540884036.py:111: SettingWithCopyWarning: \n",
      "A value is trying to be set on a copy of a slice from a DataFrame.\n",
      "Try using .loc[row_indexer,col_indexer] = value instead\n",
      "\n",
      "See the caveats in the documentation: https://pandas.pydata.org/pandas-docs/stable/user_guide/indexing.html#returning-a-view-versus-a-copy\n",
      "  df['label'] = y_pred_test\n"
     ]
    },
    {
     "name": "stdout",
     "output_type": "stream",
     "text": [
      "RANDOM FOREST\n",
      "Di train dapat performa \n",
      "Nilai Precision = 1.0\n",
      "Nilai Recall = 1.0\n",
      "Nilai F1 = 1.0\n",
      "Di test dapat performa\n",
      "Nilai Precision = 0.8181818181818182\n",
      "Nilai Recall = 0.1956521739130435\n",
      "Nilai F1 = 0.3157894736842105\n",
      "########\n",
      "LOGISTIK REGRESSION\n"
     ]
    },
    {
     "name": "stderr",
     "output_type": "stream",
     "text": [
      "/tmp/ipykernel_79270/1540884036.py:46: SettingWithCopyWarning: \n",
      "A value is trying to be set on a copy of a slice from a DataFrame.\n",
      "Try using .loc[row_indexer,col_indexer] = value instead\n",
      "\n",
      "See the caveats in the documentation: https://pandas.pydata.org/pandas-docs/stable/user_guide/indexing.html#returning-a-view-versus-a-copy\n",
      "  df['label'] = y_pred_test\n"
     ]
    },
    {
     "name": "stdout",
     "output_type": "stream",
     "text": [
      "Di train dapat performa \n",
      "Nilai Precision = 1.0\n",
      "Nilai Recall = 1.0\n",
      "Nilai F1 = 1.0\n",
      "Di test dapat performa\n",
      "Nilai Precision = 0.84375\n",
      "Nilai Recall = 0.5869565217391305\n",
      "Nilai F1 = 0.6923076923076924\n",
      "########\n",
      "NAIVE BAYES\n",
      "Di train dapat performa \n",
      "Nilai Precision = 0.9691358024691358\n",
      "Nilai Recall = 0.9874213836477987\n",
      "Nilai F1 = 0.9781931464174456\n",
      "Di test dapat performa\n",
      "Nilai Precision = 1.0\n",
      "Nilai Recall = 0.45652173913043476\n",
      "Nilai F1 = 0.626865671641791\n",
      "########\n",
      "MLP\n"
     ]
    },
    {
     "name": "stderr",
     "output_type": "stream",
     "text": [
      "/tmp/ipykernel_79270/1540884036.py:65: SettingWithCopyWarning: \n",
      "A value is trying to be set on a copy of a slice from a DataFrame.\n",
      "Try using .loc[row_indexer,col_indexer] = value instead\n",
      "\n",
      "See the caveats in the documentation: https://pandas.pydata.org/pandas-docs/stable/user_guide/indexing.html#returning-a-view-versus-a-copy\n",
      "  df['label'] = y_pred_test\n",
      "/tmp/ipykernel_79270/1540884036.py:89: SettingWithCopyWarning: \n",
      "A value is trying to be set on a copy of a slice from a DataFrame.\n",
      "Try using .loc[row_indexer,col_indexer] = value instead\n",
      "\n",
      "See the caveats in the documentation: https://pandas.pydata.org/pandas-docs/stable/user_guide/indexing.html#returning-a-view-versus-a-copy\n",
      "  df['label'] = y_pred_test\n"
     ]
    },
    {
     "name": "stdout",
     "output_type": "stream",
     "text": [
      "Di train dapat performa \n",
      "Nilai Precision = 1.0\n",
      "Nilai Recall = 1.0\n",
      "Nilai F1 = 1.0\n",
      "Di test dapat performa\n",
      "Nilai Precision = 0.9333333333333333\n",
      "Nilai Recall = 0.6086956521739131\n",
      "Nilai F1 = 0.7368421052631579\n",
      "########\n",
      "/workspace/Tugas Akhir/dataset/angin_topan\n",
      "Rata-rata nilai test dengan Classifier rf, lr, dan nb adalah\n",
      "Precision = 0.8873106060606061\n",
      "Recall = 0.41304347826086957\n",
      "F1 = 0.5449876125445646\n",
      "\n",
      "\n",
      "/workspace/Tugas Akhir/dataset\n",
      "Eksperimen pada bencana angin_topan dengan representasi teks sum_indobart\n"
     ]
    },
    {
     "name": "stderr",
     "output_type": "stream",
     "text": [
      "/tmp/ipykernel_79270/1540884036.py:111: SettingWithCopyWarning: \n",
      "A value is trying to be set on a copy of a slice from a DataFrame.\n",
      "Try using .loc[row_indexer,col_indexer] = value instead\n",
      "\n",
      "See the caveats in the documentation: https://pandas.pydata.org/pandas-docs/stable/user_guide/indexing.html#returning-a-view-versus-a-copy\n",
      "  df['label'] = y_pred_test\n"
     ]
    },
    {
     "name": "stdout",
     "output_type": "stream",
     "text": [
      "RANDOM FOREST\n",
      "Di train dapat performa \n",
      "Nilai Precision = 1.0\n",
      "Nilai Recall = 1.0\n",
      "Nilai F1 = 1.0\n",
      "Di test dapat performa\n",
      "Nilai Precision = 1.0\n",
      "Nilai Recall = 0.17391304347826086\n",
      "Nilai F1 = 0.29629629629629634\n",
      "########\n",
      "LOGISTIK REGRESSION\n"
     ]
    },
    {
     "name": "stderr",
     "output_type": "stream",
     "text": [
      "/tmp/ipykernel_79270/1540884036.py:46: SettingWithCopyWarning: \n",
      "A value is trying to be set on a copy of a slice from a DataFrame.\n",
      "Try using .loc[row_indexer,col_indexer] = value instead\n",
      "\n",
      "See the caveats in the documentation: https://pandas.pydata.org/pandas-docs/stable/user_guide/indexing.html#returning-a-view-versus-a-copy\n",
      "  df['label'] = y_pred_test\n"
     ]
    },
    {
     "name": "stdout",
     "output_type": "stream",
     "text": [
      "Di train dapat performa \n",
      "Nilai Precision = 1.0\n",
      "Nilai Recall = 1.0\n",
      "Nilai F1 = 1.0\n",
      "Di test dapat performa\n",
      "Nilai Precision = 0.9666666666666667\n",
      "Nilai Recall = 0.6304347826086957\n",
      "Nilai F1 = 0.763157894736842\n",
      "########\n",
      "NAIVE BAYES\n",
      "Di train dapat performa \n",
      "Nilai Precision = 1.0\n",
      "Nilai Recall = 1.0\n",
      "Nilai F1 = 1.0\n",
      "Di test dapat performa\n",
      "Nilai Precision = 1.0\n",
      "Nilai Recall = 0.5652173913043478\n",
      "Nilai F1 = 0.7222222222222222\n",
      "########\n",
      "MLP\n"
     ]
    },
    {
     "name": "stderr",
     "output_type": "stream",
     "text": [
      "/tmp/ipykernel_79270/1540884036.py:65: SettingWithCopyWarning: \n",
      "A value is trying to be set on a copy of a slice from a DataFrame.\n",
      "Try using .loc[row_indexer,col_indexer] = value instead\n",
      "\n",
      "See the caveats in the documentation: https://pandas.pydata.org/pandas-docs/stable/user_guide/indexing.html#returning-a-view-versus-a-copy\n",
      "  df['label'] = y_pred_test\n",
      "/tmp/ipykernel_79270/1540884036.py:89: SettingWithCopyWarning: \n",
      "A value is trying to be set on a copy of a slice from a DataFrame.\n",
      "Try using .loc[row_indexer,col_indexer] = value instead\n",
      "\n",
      "See the caveats in the documentation: https://pandas.pydata.org/pandas-docs/stable/user_guide/indexing.html#returning-a-view-versus-a-copy\n",
      "  df['label'] = y_pred_test\n"
     ]
    },
    {
     "name": "stdout",
     "output_type": "stream",
     "text": [
      "Di train dapat performa \n",
      "Nilai Precision = 1.0\n",
      "Nilai Recall = 1.0\n",
      "Nilai F1 = 1.0\n",
      "Di test dapat performa\n",
      "Nilai Precision = 1.0\n",
      "Nilai Recall = 0.6956521739130435\n",
      "Nilai F1 = 0.8205128205128205\n",
      "########\n",
      "/workspace/Tugas Akhir/dataset/angin_topan\n",
      "Rata-rata nilai test dengan Classifier rf, lr, dan nb adalah\n",
      "Precision = 0.9888888888888889\n",
      "Recall = 0.45652173913043476\n",
      "F1 = 0.5938921377517868\n",
      "\n",
      "\n",
      "/workspace/Tugas Akhir/dataset\n",
      "Eksperimen pada bencana angin_topan dengan representasi teks sum_liputan6\n",
      "RANDOM FOREST\n"
     ]
    },
    {
     "name": "stderr",
     "output_type": "stream",
     "text": [
      "/tmp/ipykernel_79270/1540884036.py:111: SettingWithCopyWarning: \n",
      "A value is trying to be set on a copy of a slice from a DataFrame.\n",
      "Try using .loc[row_indexer,col_indexer] = value instead\n",
      "\n",
      "See the caveats in the documentation: https://pandas.pydata.org/pandas-docs/stable/user_guide/indexing.html#returning-a-view-versus-a-copy\n",
      "  df['label'] = y_pred_test\n"
     ]
    },
    {
     "name": "stdout",
     "output_type": "stream",
     "text": [
      "Di train dapat performa \n",
      "Nilai Precision = 1.0\n",
      "Nilai Recall = 1.0\n",
      "Nilai F1 = 1.0\n",
      "Di test dapat performa\n",
      "Nilai Precision = 1.0\n",
      "Nilai Recall = 0.32608695652173914\n",
      "Nilai F1 = 0.4918032786885246\n",
      "########\n",
      "LOGISTIK REGRESSION\n"
     ]
    },
    {
     "name": "stderr",
     "output_type": "stream",
     "text": [
      "/tmp/ipykernel_79270/1540884036.py:46: SettingWithCopyWarning: \n",
      "A value is trying to be set on a copy of a slice from a DataFrame.\n",
      "Try using .loc[row_indexer,col_indexer] = value instead\n",
      "\n",
      "See the caveats in the documentation: https://pandas.pydata.org/pandas-docs/stable/user_guide/indexing.html#returning-a-view-versus-a-copy\n",
      "  df['label'] = y_pred_test\n"
     ]
    },
    {
     "name": "stdout",
     "output_type": "stream",
     "text": [
      "Di train dapat performa \n",
      "Nilai Precision = 1.0\n",
      "Nilai Recall = 1.0\n",
      "Nilai F1 = 1.0\n",
      "Di test dapat performa\n",
      "Nilai Precision = 0.9629629629629629\n",
      "Nilai Recall = 0.5652173913043478\n",
      "Nilai F1 = 0.7123287671232876\n",
      "########\n",
      "NAIVE BAYES\n",
      "Di train dapat performa \n",
      "Nilai Precision = 0.9578313253012049\n",
      "Nilai Recall = 1.0\n",
      "Nilai F1 = 0.9784615384615385\n",
      "Di test dapat performa\n",
      "Nilai Precision = 0.9166666666666666\n",
      "Nilai Recall = 0.717391304347826\n",
      "Nilai F1 = 0.8048780487804877\n",
      "########\n",
      "MLP\n"
     ]
    },
    {
     "name": "stderr",
     "output_type": "stream",
     "text": [
      "/tmp/ipykernel_79270/1540884036.py:65: SettingWithCopyWarning: \n",
      "A value is trying to be set on a copy of a slice from a DataFrame.\n",
      "Try using .loc[row_indexer,col_indexer] = value instead\n",
      "\n",
      "See the caveats in the documentation: https://pandas.pydata.org/pandas-docs/stable/user_guide/indexing.html#returning-a-view-versus-a-copy\n",
      "  df['label'] = y_pred_test\n",
      "/tmp/ipykernel_79270/1540884036.py:89: SettingWithCopyWarning: \n",
      "A value is trying to be set on a copy of a slice from a DataFrame.\n",
      "Try using .loc[row_indexer,col_indexer] = value instead\n",
      "\n",
      "See the caveats in the documentation: https://pandas.pydata.org/pandas-docs/stable/user_guide/indexing.html#returning-a-view-versus-a-copy\n",
      "  df['label'] = y_pred_test\n"
     ]
    },
    {
     "name": "stdout",
     "output_type": "stream",
     "text": [
      "Di train dapat performa \n",
      "Nilai Precision = 1.0\n",
      "Nilai Recall = 1.0\n",
      "Nilai F1 = 1.0\n",
      "Di test dapat performa\n",
      "Nilai Precision = 0.967741935483871\n",
      "Nilai Recall = 0.6521739130434783\n",
      "Nilai F1 = 0.7792207792207793\n",
      "########\n",
      "/workspace/Tugas Akhir/dataset/angin_topan\n",
      "Rata-rata nilai test dengan Classifier rf, lr, dan nb adalah\n",
      "Precision = 0.9598765432098765\n",
      "Recall = 0.5362318840579711\n",
      "F1 = 0.6696700315307665\n",
      "\n",
      "\n",
      "/workspace/Tugas Akhir/dataset\n",
      "Eksperimen pada bencana angin_topan dengan representasi teks sum_pegasus\n",
      "RANDOM FOREST\n"
     ]
    },
    {
     "name": "stderr",
     "output_type": "stream",
     "text": [
      "/tmp/ipykernel_79270/1540884036.py:111: SettingWithCopyWarning: \n",
      "A value is trying to be set on a copy of a slice from a DataFrame.\n",
      "Try using .loc[row_indexer,col_indexer] = value instead\n",
      "\n",
      "See the caveats in the documentation: https://pandas.pydata.org/pandas-docs/stable/user_guide/indexing.html#returning-a-view-versus-a-copy\n",
      "  df['label'] = y_pred_test\n"
     ]
    },
    {
     "name": "stdout",
     "output_type": "stream",
     "text": [
      "Di train dapat performa \n",
      "Nilai Precision = 1.0\n",
      "Nilai Recall = 0.9937106918238994\n",
      "Nilai F1 = 0.9968454258675079\n",
      "Di test dapat performa\n",
      "Nilai Precision = 0.75\n",
      "Nilai Recall = 0.13043478260869565\n",
      "Nilai F1 = 0.22222222222222218\n",
      "########\n",
      "LOGISTIK REGRESSION\n"
     ]
    },
    {
     "name": "stderr",
     "output_type": "stream",
     "text": [
      "/tmp/ipykernel_79270/1540884036.py:46: SettingWithCopyWarning: \n",
      "A value is trying to be set on a copy of a slice from a DataFrame.\n",
      "Try using .loc[row_indexer,col_indexer] = value instead\n",
      "\n",
      "See the caveats in the documentation: https://pandas.pydata.org/pandas-docs/stable/user_guide/indexing.html#returning-a-view-versus-a-copy\n",
      "  df['label'] = y_pred_test\n"
     ]
    },
    {
     "name": "stdout",
     "output_type": "stream",
     "text": [
      "Di train dapat performa \n",
      "Nilai Precision = 1.0\n",
      "Nilai Recall = 1.0\n",
      "Nilai F1 = 1.0\n",
      "Di test dapat performa\n",
      "Nilai Precision = 0.8333333333333334\n",
      "Nilai Recall = 0.21739130434782608\n",
      "Nilai F1 = 0.3448275862068966\n",
      "########\n",
      "NAIVE BAYES\n",
      "Di train dapat performa \n",
      "Nilai Precision = 0.9753086419753086\n",
      "Nilai Recall = 0.9937106918238994\n",
      "Nilai F1 = 0.984423676012461\n",
      "Di test dapat performa\n",
      "Nilai Precision = 0.9090909090909091\n",
      "Nilai Recall = 0.43478260869565216\n",
      "Nilai F1 = 0.5882352941176471\n",
      "########\n",
      "MLP\n"
     ]
    },
    {
     "name": "stderr",
     "output_type": "stream",
     "text": [
      "/tmp/ipykernel_79270/1540884036.py:65: SettingWithCopyWarning: \n",
      "A value is trying to be set on a copy of a slice from a DataFrame.\n",
      "Try using .loc[row_indexer,col_indexer] = value instead\n",
      "\n",
      "See the caveats in the documentation: https://pandas.pydata.org/pandas-docs/stable/user_guide/indexing.html#returning-a-view-versus-a-copy\n",
      "  df['label'] = y_pred_test\n",
      "/tmp/ipykernel_79270/1540884036.py:89: SettingWithCopyWarning: \n",
      "A value is trying to be set on a copy of a slice from a DataFrame.\n",
      "Try using .loc[row_indexer,col_indexer] = value instead\n",
      "\n",
      "See the caveats in the documentation: https://pandas.pydata.org/pandas-docs/stable/user_guide/indexing.html#returning-a-view-versus-a-copy\n",
      "  df['label'] = y_pred_test\n"
     ]
    },
    {
     "name": "stdout",
     "output_type": "stream",
     "text": [
      "Di train dapat performa \n",
      "Nilai Precision = 1.0\n",
      "Nilai Recall = 1.0\n",
      "Nilai F1 = 1.0\n",
      "Di test dapat performa\n",
      "Nilai Precision = 0.8260869565217391\n",
      "Nilai Recall = 0.41304347826086957\n",
      "Nilai F1 = 0.5507246376811594\n",
      "########\n",
      "/workspace/Tugas Akhir/dataset/angin_topan\n",
      "Rata-rata nilai test dengan Classifier rf, lr, dan nb adalah\n",
      "Precision = 0.8308080808080809\n",
      "Recall = 0.2608695652173913\n",
      "F1 = 0.38509503418225527\n",
      "\n",
      "\n",
      "************************************************************\n",
      "{'angin_topan': {'title_ori': {'rf': {'prec': 0.9259259259259259, 'rec': 0.5434782608695652, 'f1': 0.6849315068493151, 'acc': 0.885}, 'lr': {'prec': 0.9696969696969697, 'rec': 0.6956521739130435, 'f1': 0.810126582278481, 'acc': 0.925}, 'mnb': {'prec': 0.9285714285714286, 'rec': 0.8478260869565217, 'f1': 0.8863636363636365, 'acc': 0.95}, 'mlp': {'prec': 0.9230769230769231, 'rec': 0.782608695652174, 'f1': 0.8470588235294118, 'acc': 0.935}}, 'text_ori': {'rf': {'prec': 1.0, 'rec': 0.21739130434782608, 'f1': 0.3571428571428571, 'acc': 0.82}, 'lr': {'prec': 0.8823529411764706, 'rec': 0.6521739130434783, 'f1': 0.75, 'acc': 0.9}, 'mnb': {'prec': 1.0, 'rec': 0.2826086956521739, 'f1': 0.4406779661016949, 'acc': 0.835}, 'mlp': {'prec': 0.7368421052631579, 'rec': 0.9130434782608695, 'f1': 0.8155339805825242, 'acc': 0.905}}, 'tc_ori': {'rf': {'prec': 1.0, 'rec': 0.2826086956521739, 'f1': 0.4406779661016949, 'acc': 0.835}, 'lr': {'prec': 0.9117647058823529, 'rec': 0.6739130434782609, 'f1': 0.775, 'acc': 0.91}, 'mnb': {'prec': 1.0, 'rec': 0.34782608695652173, 'f1': 0.5161290322580645, 'acc': 0.85}, 'mlp': {'prec': 0.7692307692307693, 'rec': 0.8695652173913043, 'f1': 0.8163265306122449, 'acc': 0.91}}, 'filter_word_tc': {'rf': {'prec': 0.8571428571428571, 'rec': 0.391304347826087, 'f1': 0.5373134328358209, 'acc': 0.845}, 'lr': {'prec': 0.8378378378378378, 'rec': 0.6739130434782609, 'f1': 0.746987951807229, 'acc': 0.895}, 'mnb': {'prec': 0.8709677419354839, 'rec': 0.5869565217391305, 'f1': 0.7012987012987013, 'acc': 0.885}, 'mlp': {'prec': 0.8846153846153846, 'rec': 0.5, 'f1': 0.6388888888888888, 'acc': 0.87}}, 'filter_word_tc_window': {'rf': {'prec': 0.85, 'rec': 0.3695652173913043, 'f1': 0.5151515151515151, 'acc': 0.84}, 'lr': {'prec': 0.8611111111111112, 'rec': 0.6739130434782609, 'f1': 0.7560975609756099, 'acc': 0.9}, 'mnb': {'prec': 0.9375, 'rec': 0.6521739130434783, 'f1': 0.7692307692307693, 'acc': 0.91}, 'mlp': {'prec': 0.9583333333333334, 'rec': 0.5, 'f1': 0.6571428571428571, 'acc': 0.88}}, 'trunc_first_short': {'rf': {'prec': 1.0, 'rec': 0.2608695652173913, 'f1': 0.41379310344827586, 'acc': 0.83}, 'lr': {'prec': 0.96875, 'rec': 0.6739130434782609, 'f1': 0.7948717948717949, 'acc': 0.92}, 'mnb': {'prec': 0.9696969696969697, 'rec': 0.6956521739130435, 'f1': 0.810126582278481, 'acc': 0.925}, 'mlp': {'prec': 0.9210526315789473, 'rec': 0.7608695652173914, 'f1': 0.8333333333333333, 'acc': 0.93}}, 'trunc_last_short': {'rf': {'prec': 0.0, 'rec': 0.0, 'f1': 0.0, 'acc': 0.77}, 'lr': {'prec': 0.8235294117647058, 'rec': 0.30434782608695654, 'f1': 0.4444444444444444, 'acc': 0.825}, 'mnb': {'prec': 1.0, 'rec': 0.13043478260869565, 'f1': 0.23076923076923078, 'acc': 0.8}, 'mlp': {'prec': 0.9, 'rec': 0.391304347826087, 'f1': 0.5454545454545454, 'acc': 0.85}}, 'trunc_first_long': {'rf': {'prec': 1.0, 'rec': 0.17391304347826086, 'f1': 0.29629629629629634, 'acc': 0.81}, 'lr': {'prec': 0.9310344827586207, 'rec': 0.5869565217391305, 'f1': 0.7200000000000001, 'acc': 0.895}, 'mnb': {'prec': 1.0, 'rec': 0.5, 'f1': 0.6666666666666666, 'acc': 0.885}, 'mlp': {'prec': 0.8372093023255814, 'rec': 0.782608695652174, 'f1': 0.8089887640449438, 'acc': 0.915}}, 'trunc_last_long': {'rf': {'prec': 1.0, 'rec': 0.043478260869565216, 'f1': 0.08333333333333333, 'acc': 0.78}, 'lr': {'prec': 0.8846153846153846, 'rec': 0.5, 'f1': 0.6388888888888888, 'acc': 0.87}, 'mnb': {'prec': 1.0, 'rec': 0.2391304347826087, 'f1': 0.3859649122807018, 'acc': 0.825}, 'mlp': {'prec': 0.8055555555555556, 'rec': 0.6304347826086957, 'f1': 0.7073170731707318, 'acc': 0.88}}, 'trunc_combination': {'rf': {'prec': 1.0, 'rec': 0.043478260869565216, 'f1': 0.08333333333333333, 'acc': 0.78}, 'lr': {'prec': 0.896551724137931, 'rec': 0.5652173913043478, 'f1': 0.6933333333333332, 'acc': 0.885}, 'mnb': {'prec': 1.0, 'rec': 0.43478260869565216, 'f1': 0.6060606060606061, 'acc': 0.87}, 'mlp': {'prec': 0.8974358974358975, 'rec': 0.7608695652173914, 'f1': 0.8235294117647058, 'acc': 0.925}}, 'textrank': {'rf': {'prec': 0.8181818181818182, 'rec': 0.1956521739130435, 'f1': 0.3157894736842105, 'acc': 0.805}, 'lr': {'prec': 0.84375, 'rec': 0.5869565217391305, 'f1': 0.6923076923076924, 'acc': 0.88}, 'mnb': {'prec': 1.0, 'rec': 0.45652173913043476, 'f1': 0.626865671641791, 'acc': 0.875}, 'mlp': {'prec': 0.9333333333333333, 'rec': 0.6086956521739131, 'f1': 0.7368421052631579, 'acc': 0.9}}, 'sum_indobart': {'rf': {'prec': 1.0, 'rec': 0.17391304347826086, 'f1': 0.29629629629629634, 'acc': 0.81}, 'lr': {'prec': 0.9666666666666667, 'rec': 0.6304347826086957, 'f1': 0.763157894736842, 'acc': 0.91}, 'mnb': {'prec': 1.0, 'rec': 0.5652173913043478, 'f1': 0.7222222222222222, 'acc': 0.9}, 'mlp': {'prec': 1.0, 'rec': 0.6956521739130435, 'f1': 0.8205128205128205, 'acc': 0.93}}, 'sum_liputan6': {'rf': {'prec': 1.0, 'rec': 0.32608695652173914, 'f1': 0.4918032786885246, 'acc': 0.845}, 'lr': {'prec': 0.9629629629629629, 'rec': 0.5652173913043478, 'f1': 0.7123287671232876, 'acc': 0.895}, 'mnb': {'prec': 0.9166666666666666, 'rec': 0.717391304347826, 'f1': 0.8048780487804877, 'acc': 0.92}, 'mlp': {'prec': 0.967741935483871, 'rec': 0.6521739130434783, 'f1': 0.7792207792207793, 'acc': 0.915}}, 'sum_pegasus': {'rf': {'prec': 0.75, 'rec': 0.13043478260869565, 'f1': 0.22222222222222218, 'acc': 0.79}, 'lr': {'prec': 0.8333333333333334, 'rec': 0.21739130434782608, 'f1': 0.3448275862068966, 'acc': 0.81}, 'mnb': {'prec': 0.9090909090909091, 'rec': 0.43478260869565216, 'f1': 0.5882352941176471, 'acc': 0.86}, 'mlp': {'prec': 0.8260869565217391, 'rec': 0.41304347826086957, 'f1': 0.5507246376811594, 'acc': 0.845}}}}\n",
      "/workspace/Tugas Akhir/dataset\n"
     ]
    },
    {
     "name": "stderr",
     "output_type": "stream",
     "text": [
      "/tmp/ipykernel_79270/1540884036.py:111: SettingWithCopyWarning: \n",
      "A value is trying to be set on a copy of a slice from a DataFrame.\n",
      "Try using .loc[row_indexer,col_indexer] = value instead\n",
      "\n",
      "See the caveats in the documentation: https://pandas.pydata.org/pandas-docs/stable/user_guide/indexing.html#returning-a-view-versus-a-copy\n",
      "  df['label'] = y_pred_test\n"
     ]
    }
   ],
   "source": [
    "%cd angin_topan\n",
    "get_f1_baseline_bencana('angin_topan')\n",
    "%cd .."
   ]
  },
  {
   "cell_type": "code",
   "execution_count": null,
   "id": "a9d92303",
   "metadata": {},
   "outputs": [
    {
     "name": "stdout",
     "output_type": "stream",
     "text": [
      "/workspace/dataset/banjir\n",
      "evaluasi pada bencana = banjir\n",
      "/workspace/dataset\n",
      "Eksperimen pada bencana banjir dengan representasi teks title_ori\n",
      "RANDOM FOREST\n",
      "Di train dapat performa \n",
      "Nilai Precision = 1.0\n",
      "Nilai Recall = 0.995475113122172\n",
      "Nilai F1 = 0.9977324263038548\n",
      "Di test dapat performa\n",
      "Nilai Precision = 0.7391304347826086\n",
      "Nilai Recall = 0.3148148148148148\n",
      "Nilai F1 = 0.4415584415584415\n",
      "########\n",
      "LOGISTIK REGRESSION\n"
     ]
    },
    {
     "name": "stderr",
     "output_type": "stream",
     "text": [
      "/tmp/ipykernel_2101906/3747505018.py:46: SettingWithCopyWarning: \n",
      "A value is trying to be set on a copy of a slice from a DataFrame.\n",
      "Try using .loc[row_indexer,col_indexer] = value instead\n",
      "\n",
      "See the caveats in the documentation: https://pandas.pydata.org/pandas-docs/stable/user_guide/indexing.html#returning-a-view-versus-a-copy\n",
      "  df['label'] = y_pred_test\n"
     ]
    },
    {
     "name": "stdout",
     "output_type": "stream",
     "text": [
      "Di train dapat performa \n",
      "Nilai Precision = 1.0\n",
      "Nilai Recall = 0.995475113122172\n",
      "Nilai F1 = 0.9977324263038548\n",
      "Di test dapat performa\n",
      "Nilai Precision = 0.8108108108108109\n",
      "Nilai Recall = 0.5555555555555556\n",
      "Nilai F1 = 0.6593406593406594\n",
      "########\n",
      "NAIVE BAYES\n",
      "Di train dapat performa \n",
      "Nilai Precision = 0.9650655021834061"
     ]
    },
    {
     "name": "stderr",
     "output_type": "stream",
     "text": [
      "/tmp/ipykernel_2101906/3747505018.py:65: SettingWithCopyWarning: \n",
      "A value is trying to be set on a copy of a slice from a DataFrame.\n",
      "Try using .loc[row_indexer,col_indexer] = value instead\n",
      "\n",
      "See the caveats in the documentation: https://pandas.pydata.org/pandas-docs/stable/user_guide/indexing.html#returning-a-view-versus-a-copy\n",
      "  df['label'] = y_pred_test\n",
      "/tmp/ipykernel_2101906/3747505018.py:89: SettingWithCopyWarning: \n",
      "A value is trying to be set on a copy of a slice from a DataFrame.\n",
      "Try using .loc[row_indexer,col_indexer] = value instead\n",
      "\n",
      "See the caveats in the documentation: https://pandas.pydata.org/pandas-docs/stable/user_guide/indexing.html#returning-a-view-versus-a-copy\n",
      "  df['label'] = y_pred_test\n"
     ]
    },
    {
     "name": "stdout",
     "output_type": "stream",
     "text": [
      "\n",
      "Nilai Recall = 1.0\n",
      "Nilai F1 = 0.9822222222222223\n",
      "Di test dapat performa\n",
      "Nilai Precision = 0.7291666666666666\n",
      "Nilai Recall = 0.6481481481481481\n",
      "Nilai F1 = 0.6862745098039215\n",
      "########\n",
      "MLP\n",
      "Di train dapat performa \n",
      "Nilai Precision = 1.0\n",
      "Nilai Recall = 1.0\n",
      "Nilai F1 = 1.0\n",
      "Di test dapat performa\n",
      "Nilai Precision = 0.7631578947368421\n",
      "Nilai Recall = 0.5370370370370371\n",
      "Nilai F1 = 0.6304347826086957\n",
      "########\n",
      "/workspace/dataset/banjir\n",
      "Rata-rata nilai test dengan Classifier rf, lr, dan nb adalah\n",
      "Precision = 0.7597026374200286\n",
      "Recall = 0.5061728395061729\n",
      "F1 = 0.5957245369010075\n",
      "\n",
      "\n",
      "/workspace/dataset\n",
      "Eksperimen pada bencana banjir dengan representasi teks text_ori\n"
     ]
    },
    {
     "name": "stderr",
     "output_type": "stream",
     "text": [
      "/tmp/ipykernel_2101906/3747505018.py:111: SettingWithCopyWarning: \n",
      "A value is trying to be set on a copy of a slice from a DataFrame.\n",
      "Try using .loc[row_indexer,col_indexer] = value instead\n",
      "\n",
      "See the caveats in the documentation: https://pandas.pydata.org/pandas-docs/stable/user_guide/indexing.html#returning-a-view-versus-a-copy\n",
      "  df['label'] = y_pred_test\n"
     ]
    },
    {
     "name": "stdout",
     "output_type": "stream",
     "text": [
      "RANDOM FOREST\n",
      "Di train dapat performa \n",
      "Nilai Precision = 1.0\n",
      "Nilai Recall = 1.0\n",
      "Nilai F1 = 1.0\n",
      "Di test dapat performa\n",
      "Nilai Precision = 0.9230769230769231\n",
      "Nilai Recall = 0.2222222222222222\n",
      "Nilai F1 = 0.35820895522388063\n",
      "########\n",
      "LOGISTIK REGRESSION\n"
     ]
    },
    {
     "name": "stderr",
     "output_type": "stream",
     "text": [
      "/tmp/ipykernel_2101906/3747505018.py:46: SettingWithCopyWarning: \n",
      "A value is trying to be set on a copy of a slice from a DataFrame.\n",
      "Try using .loc[row_indexer,col_indexer] = value instead\n",
      "\n",
      "See the caveats in the documentation: https://pandas.pydata.org/pandas-docs/stable/user_guide/indexing.html#returning-a-view-versus-a-copy\n",
      "  df['label'] = y_pred_test\n"
     ]
    },
    {
     "name": "stdout",
     "output_type": "stream",
     "text": [
      "Di train dapat performa \n",
      "Nilai Precision = 1.0\n",
      "Nilai Recall = 1.0\n",
      "Nilai F1 = 1.0\n",
      "Di test dapat performa\n",
      "Nilai Precision = 0.8536585365853658\n",
      "Nilai Recall = 0.6481481481481481\n",
      "Nilai F1 = 0.7368421052631579\n",
      "########\n",
      "NAIVE BAYES\n"
     ]
    },
    {
     "name": "stderr",
     "output_type": "stream",
     "text": [
      "/tmp/ipykernel_2101906/3747505018.py:65: SettingWithCopyWarning: \n",
      "A value is trying to be set on a copy of a slice from a DataFrame.\n",
      "Try using .loc[row_indexer,col_indexer] = value instead\n",
      "\n",
      "See the caveats in the documentation: https://pandas.pydata.org/pandas-docs/stable/user_guide/indexing.html#returning-a-view-versus-a-copy\n",
      "  df['label'] = y_pred_test\n"
     ]
    },
    {
     "name": "stdout",
     "output_type": "stream",
     "text": [
      "Di train dapat performa \n",
      "Nilai Precision = 0.9650655021834061\n",
      "Nilai Recall = 1.0\n",
      "Nilai F1 = 0.9822222222222223\n",
      "Di test dapat performa\n",
      "Nilai Precision = 0.90625\n",
      "Nilai Recall = 0.5370370370370371\n",
      "Nilai F1 = 0.6744186046511628\n",
      "########\n",
      "MLP\n"
     ]
    },
    {
     "name": "stderr",
     "output_type": "stream",
     "text": [
      "/tmp/ipykernel_2101906/3747505018.py:89: SettingWithCopyWarning: \n",
      "A value is trying to be set on a copy of a slice from a DataFrame.\n",
      "Try using .loc[row_indexer,col_indexer] = value instead\n",
      "\n",
      "See the caveats in the documentation: https://pandas.pydata.org/pandas-docs/stable/user_guide/indexing.html#returning-a-view-versus-a-copy\n",
      "  df['label'] = y_pred_test\n"
     ]
    },
    {
     "name": "stdout",
     "output_type": "stream",
     "text": [
      "Di train dapat performa \n",
      "Nilai Precision = 1.0\n",
      "Nilai Recall = 1.0\n",
      "Nilai F1 = 1.0\n",
      "Di test dapat performa\n",
      "Nilai Precision = 0.7538461538461538\n",
      "Nilai Recall = 0.9074074074074074\n",
      "Nilai F1 = 0.8235294117647058\n",
      "########\n",
      "/workspace/dataset/banjir\n",
      "Rata-rata nilai test dengan Classifier rf, lr, dan nb adalah\n",
      "Precision = 0.8943284865540964\n",
      "Recall = 0.46913580246913583\n",
      "F1 = 0.5898232217127338\n",
      "\n",
      "\n",
      "/workspace/dataset\n",
      "Eksperimen pada bencana banjir dengan representasi teks tc_ori\n"
     ]
    },
    {
     "name": "stderr",
     "output_type": "stream",
     "text": [
      "/tmp/ipykernel_2101906/3747505018.py:111: SettingWithCopyWarning: \n",
      "A value is trying to be set on a copy of a slice from a DataFrame.\n",
      "Try using .loc[row_indexer,col_indexer] = value instead\n",
      "\n",
      "See the caveats in the documentation: https://pandas.pydata.org/pandas-docs/stable/user_guide/indexing.html#returning-a-view-versus-a-copy\n",
      "  df['label'] = y_pred_test\n"
     ]
    },
    {
     "name": "stdout",
     "output_type": "stream",
     "text": [
      "RANDOM FOREST\n",
      "Di train dapat performa \n",
      "Nilai Precision = 1.0\n",
      "Nilai Recall = 1.0\n",
      "Nilai F1 = 1.0\n",
      "Di test dapat performa\n",
      "Nilai Precision = 0.9375\n",
      "Nilai Recall = 0.2777777777777778\n",
      "Nilai F1 = 0.42857142857142866\n",
      "########\n",
      "LOGISTIK REGRESSION\n"
     ]
    },
    {
     "name": "stderr",
     "output_type": "stream",
     "text": [
      "/tmp/ipykernel_2101906/3747505018.py:46: SettingWithCopyWarning: \n",
      "A value is trying to be set on a copy of a slice from a DataFrame.\n",
      "Try using .loc[row_indexer,col_indexer] = value instead\n",
      "\n",
      "See the caveats in the documentation: https://pandas.pydata.org/pandas-docs/stable/user_guide/indexing.html#returning-a-view-versus-a-copy\n",
      "  df['label'] = y_pred_test\n"
     ]
    },
    {
     "name": "stdout",
     "output_type": "stream",
     "text": [
      "Di train dapat performa \n",
      "Nilai Precision = 1.0\n",
      "Nilai Recall = 1.0\n",
      "Nilai F1 = 1.0\n",
      "Di test dapat performa\n",
      "Nilai Precision = 0.8222222222222222\n",
      "Nilai Recall = 0.6851851851851852\n",
      "Nilai F1 = 0.7474747474747475\n",
      "########\n",
      "NAIVE BAYES\n"
     ]
    },
    {
     "name": "stderr",
     "output_type": "stream",
     "text": [
      "/tmp/ipykernel_2101906/3747505018.py:65: SettingWithCopyWarning: \n",
      "A value is trying to be set on a copy of a slice from a DataFrame.\n",
      "Try using .loc[row_indexer,col_indexer] = value instead\n",
      "\n",
      "See the caveats in the documentation: https://pandas.pydata.org/pandas-docs/stable/user_guide/indexing.html#returning-a-view-versus-a-copy\n",
      "  df['label'] = y_pred_test\n"
     ]
    },
    {
     "name": "stdout",
     "output_type": "stream",
     "text": [
      "Di train dapat performa \n",
      "Nilai Precision = 0.9692982456140351\n",
      "Nilai Recall = 1.0\n",
      "Nilai F1 = 0.9844097995545658\n",
      "Di test dapat performa\n",
      "Nilai Precision = 0.9090909090909091\n",
      "Nilai Recall = 0.5555555555555556\n",
      "Nilai F1 = 0.6896551724137931\n",
      "########\n",
      "MLP\n"
     ]
    },
    {
     "name": "stderr",
     "output_type": "stream",
     "text": [
      "/tmp/ipykernel_2101906/3747505018.py:89: SettingWithCopyWarning: \n",
      "A value is trying to be set on a copy of a slice from a DataFrame.\n",
      "Try using .loc[row_indexer,col_indexer] = value instead\n",
      "\n",
      "See the caveats in the documentation: https://pandas.pydata.org/pandas-docs/stable/user_guide/indexing.html#returning-a-view-versus-a-copy\n",
      "  df['label'] = y_pred_test\n"
     ]
    },
    {
     "name": "stdout",
     "output_type": "stream",
     "text": [
      "Di train dapat performa \n",
      "Nilai Precision = 1.0\n",
      "Nilai Recall = 1.0\n",
      "Nilai F1 = 1.0\n",
      "Di test dapat performa\n",
      "Nilai Precision = 0.8070175438596491\n",
      "Nilai Recall = 0.8518518518518519\n",
      "Nilai F1 = 0.8288288288288288\n",
      "########\n",
      "/workspace/dataset/banjir\n",
      "Rata-rata nilai test dengan Classifier rf, lr, dan nb adalah\n",
      "Precision = 0.889604377104377\n",
      "Recall = 0.5061728395061729\n",
      "F1 = 0.6219004494866565\n"
     ]
    },
    {
     "name": "stderr",
     "output_type": "stream",
     "text": [
      "/tmp/ipykernel_2101906/3747505018.py:111: SettingWithCopyWarning: \n",
      "A value is trying to be set on a copy of a slice from a DataFrame.\n",
      "Try using .loc[row_indexer,col_indexer] = value instead\n",
      "\n",
      "See the caveats in the documentation: https://pandas.pydata.org/pandas-docs/stable/user_guide/indexing.html#returning-a-view-versus-a-copy\n",
      "  df['label'] = y_pred_test\n"
     ]
    },
    {
     "name": "stdout",
     "output_type": "stream",
     "text": [
      "\n",
      "\n",
      "/workspace/dataset\n",
      "Eksperimen pada bencana banjir dengan representasi teks filter_word_tc\n",
      "RANDOM FOREST\n",
      "Di train dapat performa \n",
      "Nilai Precision = 1.0\n",
      "Nilai Recall = 1.0\n",
      "Nilai F1 = 1.0\n",
      "Di test dapat performa\n",
      "Nilai Precision = 0.9\n",
      "Nilai Recall = 0.3333333333333333\n",
      "Nilai F1 = 0.48648648648648646\n",
      "########\n",
      "LOGISTIK REGRESSION\n"
     ]
    },
    {
     "name": "stderr",
     "output_type": "stream",
     "text": [
      "/tmp/ipykernel_2101906/3747505018.py:46: SettingWithCopyWarning: \n",
      "A value is trying to be set on a copy of a slice from a DataFrame.\n",
      "Try using .loc[row_indexer,col_indexer] = value instead\n",
      "\n",
      "See the caveats in the documentation: https://pandas.pydata.org/pandas-docs/stable/user_guide/indexing.html#returning-a-view-versus-a-copy\n",
      "  df['label'] = y_pred_test\n"
     ]
    },
    {
     "name": "stdout",
     "output_type": "stream",
     "text": [
      "Di train dapat performa \n",
      "Nilai Precision = 1.0\n",
      "Nilai Recall = 1.0\n",
      "Nilai F1 = 1.0\n",
      "Di test dapat performa\n",
      "Nilai Precision = 0.8157894736842105\n",
      "Nilai Recall = 0.5740740740740741\n",
      "Nilai F1 = 0.6739130434782609\n",
      "########\n",
      "NAIVE BAYES\n"
     ]
    },
    {
     "name": "stderr",
     "output_type": "stream",
     "text": [
      "/tmp/ipykernel_2101906/3747505018.py:65: SettingWithCopyWarning: \n",
      "A value is trying to be set on a copy of a slice from a DataFrame.\n",
      "Try using .loc[row_indexer,col_indexer] = value instead\n",
      "\n",
      "See the caveats in the documentation: https://pandas.pydata.org/pandas-docs/stable/user_guide/indexing.html#returning-a-view-versus-a-copy\n",
      "  df['label'] = y_pred_test\n"
     ]
    },
    {
     "name": "stdout",
     "output_type": "stream",
     "text": [
      "Di train dapat performa \n",
      "Nilai Precision = 0.9649122807017544\n",
      "Nilai Recall = 0.995475113122172\n",
      "Nilai F1 = 0.9799554565701559\n",
      "Di test dapat performa\n",
      "Nilai Precision = 0.6944444444444444\n",
      "Nilai Recall = 0.9259259259259259\n",
      "Nilai F1 = 0.7936507936507936\n",
      "########\n",
      "MLP\n"
     ]
    },
    {
     "name": "stderr",
     "output_type": "stream",
     "text": [
      "/tmp/ipykernel_2101906/3747505018.py:89: SettingWithCopyWarning: \n",
      "A value is trying to be set on a copy of a slice from a DataFrame.\n",
      "Try using .loc[row_indexer,col_indexer] = value instead\n",
      "\n",
      "See the caveats in the documentation: https://pandas.pydata.org/pandas-docs/stable/user_guide/indexing.html#returning-a-view-versus-a-copy\n",
      "  df['label'] = y_pred_test\n"
     ]
    },
    {
     "name": "stdout",
     "output_type": "stream",
     "text": [
      "Di train dapat performa \n",
      "Nilai Precision = 1.0\n",
      "Nilai Recall = 1.0\n",
      "Nilai F1 = 1.0\n",
      "Di test dapat performa\n",
      "Nilai Precision = 0.7857142857142857\n",
      "Nilai Recall = 0.2037037037037037\n",
      "Nilai F1 = 0.32352941176470584\n",
      "########\n",
      "/workspace/dataset/banjir\n",
      "Rata-rata nilai test dengan Classifier rf, lr, dan nb adalah\n",
      "Precision = 0.8034113060428849\n",
      "Recall = 0.6111111111111112\n",
      "F1 = 0.651350107871847\n",
      "\n",
      "\n",
      "/workspace/dataset\n",
      "Eksperimen pada bencana banjir dengan representasi teks filter_word_tc_window\n"
     ]
    },
    {
     "name": "stderr",
     "output_type": "stream",
     "text": [
      "/tmp/ipykernel_2101906/3747505018.py:111: SettingWithCopyWarning: \n",
      "A value is trying to be set on a copy of a slice from a DataFrame.\n",
      "Try using .loc[row_indexer,col_indexer] = value instead\n",
      "\n",
      "See the caveats in the documentation: https://pandas.pydata.org/pandas-docs/stable/user_guide/indexing.html#returning-a-view-versus-a-copy\n",
      "  df['label'] = y_pred_test\n"
     ]
    },
    {
     "name": "stdout",
     "output_type": "stream",
     "text": [
      "RANDOM FOREST\n",
      "Di train dapat performa \n",
      "Nilai Precision = 1.0\n",
      "Nilai Recall = 1.0\n",
      "Nilai F1 = 1.0\n",
      "Di test dapat performa\n",
      "Nilai Precision = 0.9444444444444444\n",
      "Nilai Recall = 0.3148148148148148\n",
      "Nilai F1 = 0.4722222222222222\n",
      "########\n",
      "LOGISTIK REGRESSION\n"
     ]
    },
    {
     "name": "stderr",
     "output_type": "stream",
     "text": [
      "/tmp/ipykernel_2101906/3747505018.py:46: SettingWithCopyWarning: \n",
      "A value is trying to be set on a copy of a slice from a DataFrame.\n",
      "Try using .loc[row_indexer,col_indexer] = value instead\n",
      "\n",
      "See the caveats in the documentation: https://pandas.pydata.org/pandas-docs/stable/user_guide/indexing.html#returning-a-view-versus-a-copy\n",
      "  df['label'] = y_pred_test\n"
     ]
    },
    {
     "name": "stdout",
     "output_type": "stream",
     "text": [
      "Di train dapat performa \n",
      "Nilai Precision = 1.0\n",
      "Nilai Recall = 1.0\n",
      "Nilai F1 = 1.0\n",
      "Di test dapat performa\n",
      "Nilai Precision = 0.7777777777777778\n",
      "Nilai Recall = 0.6481481481481481\n",
      "Nilai F1 = 0.707070707070707\n",
      "########\n",
      "NAIVE BAYES\n"
     ]
    },
    {
     "name": "stderr",
     "output_type": "stream",
     "text": [
      "/tmp/ipykernel_2101906/3747505018.py:65: SettingWithCopyWarning: \n",
      "A value is trying to be set on a copy of a slice from a DataFrame.\n",
      "Try using .loc[row_indexer,col_indexer] = value instead\n",
      "\n",
      "See the caveats in the documentation: https://pandas.pydata.org/pandas-docs/stable/user_guide/indexing.html#returning-a-view-versus-a-copy\n",
      "  df['label'] = y_pred_test\n"
     ]
    },
    {
     "name": "stdout",
     "output_type": "stream",
     "text": [
      "Di train dapat performa \n",
      "Nilai Precision = 0.9778761061946902\n",
      "Nilai Recall = 1.0\n",
      "Nilai F1 = 0.9888143176733781\n",
      "Di test dapat performa\n",
      "Nilai Precision = 0.676056338028169\n",
      "Nilai Recall = 0.8888888888888888\n",
      "Nilai F1 = 0.7679999999999999\n",
      "########\n",
      "MLP\n"
     ]
    },
    {
     "name": "stderr",
     "output_type": "stream",
     "text": [
      "/tmp/ipykernel_2101906/3747505018.py:89: SettingWithCopyWarning: \n",
      "A value is trying to be set on a copy of a slice from a DataFrame.\n",
      "Try using .loc[row_indexer,col_indexer] = value instead\n",
      "\n",
      "See the caveats in the documentation: https://pandas.pydata.org/pandas-docs/stable/user_guide/indexing.html#returning-a-view-versus-a-copy\n",
      "  df['label'] = y_pred_test\n"
     ]
    }
   ],
   "source": [
    "%cd banjir\n",
    "get_f1_baseline_bencana('banjir')\n",
    "%cd .."
   ]
  },
  {
   "cell_type": "code",
   "execution_count": null,
   "id": "36a7de31",
   "metadata": {},
   "outputs": [],
   "source": [
    "%cd erupsi\n",
    "get_f1_baseline_bencana('erupsi')\n",
    "%cd .."
   ]
  },
  {
   "cell_type": "code",
   "execution_count": null,
   "id": "e5cb0512",
   "metadata": {},
   "outputs": [],
   "source": [
    "%cd gempa\n",
    "get_f1_baseline_bencana('gempa')\n",
    "%cd .."
   ]
  },
  {
   "cell_type": "code",
   "execution_count": null,
   "id": "0d4bcb54",
   "metadata": {},
   "outputs": [],
   "source": [
    "%cd karhutla\n",
    "get_f1_baseline_bencana('karhutla')\n",
    "%cd .."
   ]
  },
  {
   "cell_type": "code",
   "execution_count": null,
   "id": "a42fcc06",
   "metadata": {},
   "outputs": [],
   "source": [
    "%cd kekeringan\n",
    "get_f1_baseline_bencana('kekeringan')\n",
    "%cd .."
   ]
  },
  {
   "cell_type": "code",
   "execution_count": 4,
   "id": "5d7ed448",
   "metadata": {},
   "outputs": [
    {
     "name": "stdout",
     "output_type": "stream",
     "text": [
      "/workspace/dataset/longsor\n",
      "evaluasi pada bencana = longsor\n",
      "/workspace/dataset\n",
      "Eksperimen pada bencana longsor dengan representasi teks title_ori\n",
      "RANDOM FOREST\n",
      "Di train dapat performa \n",
      "Nilai Precision = 1.0\n",
      "Nilai Recall = 1.0\n",
      "Nilai F1 = 1.0\n",
      "Di test dapat performa\n",
      "Nilai Precision = 0.75\n",
      "Nilai Recall = 0.33962264150943394\n",
      "Nilai F1 = 0.4675324675324676\n",
      "########\n",
      "LOGISTIK REGRESSION\n"
     ]
    },
    {
     "name": "stderr",
     "output_type": "stream",
     "text": [
      "/tmp/ipykernel_1571/3747505018.py:46: SettingWithCopyWarning: \n",
      "A value is trying to be set on a copy of a slice from a DataFrame.\n",
      "Try using .loc[row_indexer,col_indexer] = value instead\n",
      "\n",
      "See the caveats in the documentation: https://pandas.pydata.org/pandas-docs/stable/user_guide/indexing.html#returning-a-view-versus-a-copy\n",
      "  df['label'] = y_pred_test\n"
     ]
    },
    {
     "name": "stdout",
     "output_type": "stream",
     "text": [
      "Di train dapat performa \n",
      "Nilai Precision = 1.0\n",
      "Nilai Recall = 0.9907834101382489\n",
      "Nilai F1 = 0.9953703703703703\n",
      "Di test dapat performa\n",
      "Nilai Precision = 0.7674418604651163\n",
      "Nilai Recall = 0.6226415094339622\n",
      "Nilai F1 = 0.6875\n",
      "########\n",
      "NAIVE BAYES\n"
     ]
    },
    {
     "name": "stderr",
     "output_type": "stream",
     "text": [
      "/tmp/ipykernel_1571/3747505018.py:65: SettingWithCopyWarning: \n",
      "A value is trying to be set on a copy of a slice from a DataFrame.\n",
      "Try using .loc[row_indexer,col_indexer] = value instead\n",
      "\n",
      "See the caveats in the documentation: https://pandas.pydata.org/pandas-docs/stable/user_guide/indexing.html#returning-a-view-versus-a-copy\n",
      "  df['label'] = y_pred_test\n"
     ]
    },
    {
     "name": "stdout",
     "output_type": "stream",
     "text": [
      "Di train dapat performa \n",
      "Nilai Precision = 0.9388646288209607\n",
      "Nilai Recall = 0.9907834101382489\n",
      "Nilai F1 = 0.9641255605381167\n",
      "Di test dapat performa\n",
      "Nilai Precision = 0.7804878048780488\n",
      "Nilai Recall = 0.6037735849056604\n",
      "Nilai F1 = 0.6808510638297872\n",
      "########\n",
      "MLP\n"
     ]
    },
    {
     "name": "stderr",
     "output_type": "stream",
     "text": [
      "/tmp/ipykernel_1571/3747505018.py:89: SettingWithCopyWarning: \n",
      "A value is trying to be set on a copy of a slice from a DataFrame.\n",
      "Try using .loc[row_indexer,col_indexer] = value instead\n",
      "\n",
      "See the caveats in the documentation: https://pandas.pydata.org/pandas-docs/stable/user_guide/indexing.html#returning-a-view-versus-a-copy\n",
      "  df['label'] = y_pred_test\n"
     ]
    },
    {
     "name": "stdout",
     "output_type": "stream",
     "text": [
      "Di train dapat performa \n",
      "Nilai Precision = 1.0\n",
      "Nilai Recall = 1.0\n",
      "Nilai F1 = 1.0\n",
      "Di test dapat performa\n",
      "Nilai Precision = 0.7948717948717948\n",
      "Nilai Recall = 0.5849056603773585\n",
      "Nilai F1 = 0.6739130434782609\n",
      "########\n",
      "/workspace/dataset/longsor\n",
      "Rata-rata nilai test dengan Classifier rf, lr, dan nb adalah\n",
      "Precision = 0.7659765551143884\n",
      "Recall = 0.5220125786163522\n",
      "F1 = 0.6119611771207517\n",
      "\n",
      "\n",
      "/workspace/dataset\n",
      "Eksperimen pada bencana longsor dengan representasi teks text_ori\n"
     ]
    },
    {
     "name": "stderr",
     "output_type": "stream",
     "text": [
      "/tmp/ipykernel_1571/3747505018.py:111: SettingWithCopyWarning: \n",
      "A value is trying to be set on a copy of a slice from a DataFrame.\n",
      "Try using .loc[row_indexer,col_indexer] = value instead\n",
      "\n",
      "See the caveats in the documentation: https://pandas.pydata.org/pandas-docs/stable/user_guide/indexing.html#returning-a-view-versus-a-copy\n",
      "  df['label'] = y_pred_test\n"
     ]
    },
    {
     "name": "stdout",
     "output_type": "stream",
     "text": [
      "RANDOM FOREST\n",
      "Di train dapat performa \n",
      "Nilai Precision = 1.0\n",
      "Nilai Recall = 1.0\n",
      "Nilai F1 = 1.0\n",
      "Di test dapat performa\n",
      "Nilai Precision = 0.75\n",
      "Nilai Recall = 0.11320754716981132\n",
      "Nilai F1 = 0.19672131147540986\n",
      "########\n",
      "LOGISTIK REGRESSION\n"
     ]
    },
    {
     "name": "stderr",
     "output_type": "stream",
     "text": [
      "/tmp/ipykernel_1571/3747505018.py:46: SettingWithCopyWarning: \n",
      "A value is trying to be set on a copy of a slice from a DataFrame.\n",
      "Try using .loc[row_indexer,col_indexer] = value instead\n",
      "\n",
      "See the caveats in the documentation: https://pandas.pydata.org/pandas-docs/stable/user_guide/indexing.html#returning-a-view-versus-a-copy\n",
      "  df['label'] = y_pred_test\n",
      "/opt/conda/lib/python3.8/site-packages/sklearn/linear_model/_logistic.py:458: ConvergenceWarning: lbfgs failed to converge (status=1):\n",
      "STOP: TOTAL NO. of ITERATIONS REACHED LIMIT.\n",
      "\n",
      "Increase the number of iterations (max_iter) or scale the data as shown in:\n",
      "    https://scikit-learn.org/stable/modules/preprocessing.html\n",
      "Please also refer to the documentation for alternative solver options:\n",
      "    https://scikit-learn.org/stable/modules/linear_model.html#logistic-regression\n",
      "  n_iter_i = _check_optimize_result(\n",
      "/tmp/ipykernel_1571/3747505018.py:65: SettingWithCopyWarning: \n",
      "A value is trying to be set on a copy of a slice from a DataFrame.\n",
      "Try using .loc[row_indexer,col_indexer] = value instead\n",
      "\n",
      "See the caveats in the documentation: https://pandas.pydata.org/pandas-docs/stable/user_guide/indexing.html#returning-a-view-versus-a-copy\n",
      "  df['label'] = y_pred_test\n"
     ]
    },
    {
     "name": "stdout",
     "output_type": "stream",
     "text": [
      "Di train dapat performa \n",
      "Nilai Precision = 1.0\n",
      "Nilai Recall = 1.0\n",
      "Nilai F1 = 1.0\n",
      "Di test dapat performa\n",
      "Nilai Precision = 0.6938775510204082\n",
      "Nilai Recall = 0.6415094339622641\n",
      "Nilai F1 = 0.6666666666666666\n",
      "########\n",
      "NAIVE BAYES\n",
      "Di train dapat performa \n",
      "Nilai Precision = 0.9819004524886877\n",
      "Nilai Recall = 1.0\n",
      "Nilai F1 = 0.9908675799086757\n",
      "Di test dapat performa\n",
      "Nilai Precision = 0.8888888888888888\n",
      "Nilai Recall = 0.3018867924528302\n",
      "Nilai F1 = 0.45070422535211263\n",
      "########\n",
      "MLP\n"
     ]
    },
    {
     "name": "stderr",
     "output_type": "stream",
     "text": [
      "/tmp/ipykernel_1571/3747505018.py:89: SettingWithCopyWarning: \n",
      "A value is trying to be set on a copy of a slice from a DataFrame.\n",
      "Try using .loc[row_indexer,col_indexer] = value instead\n",
      "\n",
      "See the caveats in the documentation: https://pandas.pydata.org/pandas-docs/stable/user_guide/indexing.html#returning-a-view-versus-a-copy\n",
      "  df['label'] = y_pred_test\n"
     ]
    },
    {
     "name": "stdout",
     "output_type": "stream",
     "text": [
      "Di train dapat performa \n",
      "Nilai Precision = 1.0\n",
      "Nilai Recall = 1.0\n",
      "Nilai F1 = 1.0\n",
      "Di test dapat performa\n",
      "Nilai Precision = 0.5909090909090909\n",
      "Nilai Recall = 0.9811320754716981\n",
      "Nilai F1 = 0.7375886524822695\n",
      "########\n",
      "/workspace/dataset/longsor\n",
      "Rata-rata nilai test dengan Classifier rf, lr, dan nb adalah\n",
      "Precision = 0.7775888133030989\n",
      "Recall = 0.3522012578616352\n",
      "F1 = 0.438030734498063\n",
      "\n",
      "\n",
      "/workspace/dataset\n",
      "Eksperimen pada bencana longsor dengan representasi teks tc_ori\n"
     ]
    },
    {
     "name": "stderr",
     "output_type": "stream",
     "text": [
      "/tmp/ipykernel_1571/3747505018.py:111: SettingWithCopyWarning: \n",
      "A value is trying to be set on a copy of a slice from a DataFrame.\n",
      "Try using .loc[row_indexer,col_indexer] = value instead\n",
      "\n",
      "See the caveats in the documentation: https://pandas.pydata.org/pandas-docs/stable/user_guide/indexing.html#returning-a-view-versus-a-copy\n",
      "  df['label'] = y_pred_test\n"
     ]
    },
    {
     "name": "stdout",
     "output_type": "stream",
     "text": [
      "RANDOM FOREST\n",
      "Di train dapat performa \n",
      "Nilai Precision = 1.0\n",
      "Nilai Recall = 1.0\n",
      "Nilai F1 = 1.0\n",
      "Di test dapat performa\n",
      "Nilai Precision = 1.0\n",
      "Nilai Recall = 0.09433962264150944\n",
      "Nilai F1 = 0.1724137931034483\n",
      "########\n",
      "LOGISTIK REGRESSION\n"
     ]
    },
    {
     "name": "stderr",
     "output_type": "stream",
     "text": [
      "/tmp/ipykernel_1571/3747505018.py:46: SettingWithCopyWarning: \n",
      "A value is trying to be set on a copy of a slice from a DataFrame.\n",
      "Try using .loc[row_indexer,col_indexer] = value instead\n",
      "\n",
      "See the caveats in the documentation: https://pandas.pydata.org/pandas-docs/stable/user_guide/indexing.html#returning-a-view-versus-a-copy\n",
      "  df['label'] = y_pred_test\n",
      "/opt/conda/lib/python3.8/site-packages/sklearn/linear_model/_logistic.py:458: ConvergenceWarning: lbfgs failed to converge (status=1):\n",
      "STOP: TOTAL NO. of ITERATIONS REACHED LIMIT.\n",
      "\n",
      "Increase the number of iterations (max_iter) or scale the data as shown in:\n",
      "    https://scikit-learn.org/stable/modules/preprocessing.html\n",
      "Please also refer to the documentation for alternative solver options:\n",
      "    https://scikit-learn.org/stable/modules/linear_model.html#logistic-regression\n",
      "  n_iter_i = _check_optimize_result(\n",
      "/tmp/ipykernel_1571/3747505018.py:65: SettingWithCopyWarning: \n",
      "A value is trying to be set on a copy of a slice from a DataFrame.\n",
      "Try using .loc[row_indexer,col_indexer] = value instead\n",
      "\n",
      "See the caveats in the documentation: https://pandas.pydata.org/pandas-docs/stable/user_guide/indexing.html#returning-a-view-versus-a-copy\n",
      "  df['label'] = y_pred_test\n"
     ]
    },
    {
     "name": "stdout",
     "output_type": "stream",
     "text": [
      "Di train dapat performa \n",
      "Nilai Precision = 1.0\n",
      "Nilai Recall = 1.0\n",
      "Nilai F1 = 1.0\n",
      "Di test dapat performa\n",
      "Nilai Precision = 0.7254901960784313\n",
      "Nilai Recall = 0.6981132075471698\n",
      "Nilai F1 = 0.7115384615384615\n",
      "########\n",
      "NAIVE BAYES\n",
      "Di train dapat performa \n",
      "Nilai Precision = 0.9819004524886877\n",
      "Nilai Recall = 1.0\n",
      "Nilai F1 = 0.9908675799086757\n",
      "Di test dapat performa\n",
      "Nilai Precision = 0.8181818181818182\n",
      "Nilai Recall = 0.33962264150943394\n",
      "Nilai F1 = 0.48\n",
      "########\n",
      "MLP\n"
     ]
    },
    {
     "name": "stderr",
     "output_type": "stream",
     "text": [
      "/tmp/ipykernel_1571/3747505018.py:89: SettingWithCopyWarning: \n",
      "A value is trying to be set on a copy of a slice from a DataFrame.\n",
      "Try using .loc[row_indexer,col_indexer] = value instead\n",
      "\n",
      "See the caveats in the documentation: https://pandas.pydata.org/pandas-docs/stable/user_guide/indexing.html#returning-a-view-versus-a-copy\n",
      "  df['label'] = y_pred_test\n"
     ]
    },
    {
     "name": "stdout",
     "output_type": "stream",
     "text": [
      "Di train dapat performa \n",
      "Nilai Precision = 0.9954128440366973\n",
      "Nilai Recall = 1.0\n",
      "Nilai F1 = 0.9977011494252873\n",
      "Di test dapat performa\n",
      "Nilai Precision = 0.5930232558139535\n",
      "Nilai Recall = 0.9622641509433962\n",
      "Nilai F1 = 0.7338129496402879\n",
      "########\n",
      "/workspace/dataset/longsor\n",
      "Rata-rata nilai test dengan Classifier rf, lr, dan nb adalah\n",
      "Precision = 0.8478906714200832\n",
      "Recall = 0.3773584905660377\n",
      "F1 = 0.4546507515473032\n",
      "\n",
      "\n",
      "/workspace/dataset\n",
      "Eksperimen pada bencana longsor dengan representasi teks filter_word_tc\n"
     ]
    },
    {
     "name": "stderr",
     "output_type": "stream",
     "text": [
      "/tmp/ipykernel_1571/3747505018.py:111: SettingWithCopyWarning: \n",
      "A value is trying to be set on a copy of a slice from a DataFrame.\n",
      "Try using .loc[row_indexer,col_indexer] = value instead\n",
      "\n",
      "See the caveats in the documentation: https://pandas.pydata.org/pandas-docs/stable/user_guide/indexing.html#returning-a-view-versus-a-copy\n",
      "  df['label'] = y_pred_test\n"
     ]
    },
    {
     "name": "stdout",
     "output_type": "stream",
     "text": [
      "RANDOM FOREST\n",
      "Di train dapat performa \n",
      "Nilai Precision = 1.0\n",
      "Nilai Recall = 1.0\n",
      "Nilai F1 = 1.0\n",
      "Di test dapat performa\n",
      "Nilai Precision = 0.7777777777777778\n",
      "Nilai Recall = 0.2641509433962264\n",
      "Nilai F1 = 0.39436619718309857\n",
      "########\n",
      "LOGISTIK REGRESSION\n"
     ]
    },
    {
     "name": "stderr",
     "output_type": "stream",
     "text": [
      "/tmp/ipykernel_1571/3747505018.py:46: SettingWithCopyWarning: \n",
      "A value is trying to be set on a copy of a slice from a DataFrame.\n",
      "Try using .loc[row_indexer,col_indexer] = value instead\n",
      "\n",
      "See the caveats in the documentation: https://pandas.pydata.org/pandas-docs/stable/user_guide/indexing.html#returning-a-view-versus-a-copy\n",
      "  df['label'] = y_pred_test\n"
     ]
    },
    {
     "name": "stdout",
     "output_type": "stream",
     "text": [
      "Di train dapat performa \n",
      "Nilai Precision = 1.0\n",
      "Nilai Recall = 0.9953917050691244\n",
      "Nilai F1 = 0.997690531177829\n",
      "Di test dapat performa\n",
      "Nilai Precision = 0.7857142857142857\n",
      "Nilai Recall = 0.6226415094339622\n",
      "Nilai F1 = 0.6947368421052631\n",
      "########\n",
      "NAIVE BAYES\n"
     ]
    },
    {
     "name": "stderr",
     "output_type": "stream",
     "text": [
      "/tmp/ipykernel_1571/3747505018.py:65: SettingWithCopyWarning: \n",
      "A value is trying to be set on a copy of a slice from a DataFrame.\n",
      "Try using .loc[row_indexer,col_indexer] = value instead\n",
      "\n",
      "See the caveats in the documentation: https://pandas.pydata.org/pandas-docs/stable/user_guide/indexing.html#returning-a-view-versus-a-copy\n",
      "  df['label'] = y_pred_test\n"
     ]
    },
    {
     "name": "stdout",
     "output_type": "stream",
     "text": [
      "Di train dapat performa \n",
      "Nilai Precision = 0.9557522123893806\n",
      "Nilai Recall = 0.9953917050691244\n",
      "Nilai F1 = 0.9751693002257337\n",
      "Di test dapat performa\n",
      "Nilai Precision = 0.7\n",
      "Nilai Recall = 0.660377358490566\n",
      "Nilai F1 = 0.6796116504854369\n",
      "########\n",
      "MLP\n"
     ]
    },
    {
     "name": "stderr",
     "output_type": "stream",
     "text": [
      "/tmp/ipykernel_1571/3747505018.py:89: SettingWithCopyWarning: \n",
      "A value is trying to be set on a copy of a slice from a DataFrame.\n",
      "Try using .loc[row_indexer,col_indexer] = value instead\n",
      "\n",
      "See the caveats in the documentation: https://pandas.pydata.org/pandas-docs/stable/user_guide/indexing.html#returning-a-view-versus-a-copy\n",
      "  df['label'] = y_pred_test\n"
     ]
    },
    {
     "name": "stdout",
     "output_type": "stream",
     "text": [
      "Di train dapat performa \n",
      "Nilai Precision = 1.0\n",
      "Nilai Recall = 1.0\n",
      "Nilai F1 = 1.0\n",
      "Di test dapat performa\n",
      "Nilai Precision = 0.8181818181818182\n",
      "Nilai Recall = 0.33962264150943394\n",
      "Nilai F1 = 0.48\n",
      "########\n",
      "/workspace/dataset/longsor\n",
      "Rata-rata nilai test dengan Classifier rf, lr, dan nb adalah\n",
      "Precision = 0.7544973544973544\n",
      "Recall = 0.5157232704402516\n",
      "F1 = 0.5895715632579329\n",
      "\n",
      "\n",
      "/workspace/dataset\n",
      "Eksperimen pada bencana longsor dengan representasi teks filter_word_tc_window\n"
     ]
    },
    {
     "name": "stderr",
     "output_type": "stream",
     "text": [
      "/tmp/ipykernel_1571/3747505018.py:111: SettingWithCopyWarning: \n",
      "A value is trying to be set on a copy of a slice from a DataFrame.\n",
      "Try using .loc[row_indexer,col_indexer] = value instead\n",
      "\n",
      "See the caveats in the documentation: https://pandas.pydata.org/pandas-docs/stable/user_guide/indexing.html#returning-a-view-versus-a-copy\n",
      "  df['label'] = y_pred_test\n"
     ]
    },
    {
     "name": "stdout",
     "output_type": "stream",
     "text": [
      "RANDOM FOREST\n",
      "Di train dapat performa \n",
      "Nilai Precision = 1.0\n",
      "Nilai Recall = 1.0\n",
      "Nilai F1 = 1.0\n",
      "Di test dapat performa\n",
      "Nilai Precision = 0.8333333333333334\n",
      "Nilai Recall = 0.2830188679245283\n",
      "Nilai F1 = 0.4225352112676056\n",
      "########\n",
      "LOGISTIK REGRESSION\n"
     ]
    },
    {
     "name": "stderr",
     "output_type": "stream",
     "text": [
      "/tmp/ipykernel_1571/3747505018.py:46: SettingWithCopyWarning: \n",
      "A value is trying to be set on a copy of a slice from a DataFrame.\n",
      "Try using .loc[row_indexer,col_indexer] = value instead\n",
      "\n",
      "See the caveats in the documentation: https://pandas.pydata.org/pandas-docs/stable/user_guide/indexing.html#returning-a-view-versus-a-copy\n",
      "  df['label'] = y_pred_test\n"
     ]
    },
    {
     "name": "stdout",
     "output_type": "stream",
     "text": [
      "Di train dapat performa \n",
      "Nilai Precision = 1.0\n",
      "Nilai Recall = 1.0\n",
      "Nilai F1 = 1.0\n",
      "Di test dapat performa\n",
      "Nilai Precision = 0.7333333333333333\n",
      "Nilai Recall = 0.6226415094339622\n",
      "Nilai F1 = 0.673469387755102\n",
      "########\n",
      "NAIVE BAYES\n",
      "Di train dapat performa \n",
      "Nilai Precision = 0.9819004524886877\n",
      "Nilai Recall = 1.0\n",
      "Nilai F1 = 0.9908675799086757\n",
      "Di test dapat performa\n",
      "Nilai Precision = 0.7346938775510204\n",
      "Nilai Recall = 0.6792452830188679\n",
      "Nilai F1 = 0.7058823529411764\n",
      "########\n",
      "MLP\n"
     ]
    },
    {
     "name": "stderr",
     "output_type": "stream",
     "text": [
      "/tmp/ipykernel_1571/3747505018.py:65: SettingWithCopyWarning: \n",
      "A value is trying to be set on a copy of a slice from a DataFrame.\n",
      "Try using .loc[row_indexer,col_indexer] = value instead\n",
      "\n",
      "See the caveats in the documentation: https://pandas.pydata.org/pandas-docs/stable/user_guide/indexing.html#returning-a-view-versus-a-copy\n",
      "  df['label'] = y_pred_test\n",
      "/tmp/ipykernel_1571/3747505018.py:89: SettingWithCopyWarning: \n",
      "A value is trying to be set on a copy of a slice from a DataFrame.\n",
      "Try using .loc[row_indexer,col_indexer] = value instead\n",
      "\n",
      "See the caveats in the documentation: https://pandas.pydata.org/pandas-docs/stable/user_guide/indexing.html#returning-a-view-versus-a-copy\n",
      "  df['label'] = y_pred_test\n"
     ]
    },
    {
     "name": "stdout",
     "output_type": "stream",
     "text": [
      "Di train dapat performa \n",
      "Nilai Precision = 1.0\n",
      "Nilai Recall = 1.0\n",
      "Nilai F1 = 1.0\n",
      "Di test dapat performa\n",
      "Nilai Precision = 0.8333333333333334\n",
      "Nilai Recall = 0.37735849056603776\n",
      "Nilai F1 = 0.5194805194805195\n",
      "########\n",
      "/workspace/dataset/longsor\n",
      "Rata-rata nilai test dengan Classifier rf, lr, dan nb adalah\n",
      "Precision = 0.7671201814058958\n",
      "Recall = 0.5283018867924528\n",
      "F1 = 0.6006289839879614\n",
      "\n",
      "\n",
      "/workspace/dataset\n",
      "Eksperimen pada bencana longsor dengan representasi teks trunc_first_short\n"
     ]
    },
    {
     "name": "stderr",
     "output_type": "stream",
     "text": [
      "/tmp/ipykernel_1571/3747505018.py:111: SettingWithCopyWarning: \n",
      "A value is trying to be set on a copy of a slice from a DataFrame.\n",
      "Try using .loc[row_indexer,col_indexer] = value instead\n",
      "\n",
      "See the caveats in the documentation: https://pandas.pydata.org/pandas-docs/stable/user_guide/indexing.html#returning-a-view-versus-a-copy\n",
      "  df['label'] = y_pred_test\n"
     ]
    },
    {
     "name": "stdout",
     "output_type": "stream",
     "text": [
      "RANDOM FOREST\n",
      "Di train dapat performa \n",
      "Nilai Precision = 1.0\n",
      "Nilai Recall = 1.0\n",
      "Nilai F1 = 1.0\n",
      "Di test dapat performa\n",
      "Nilai Precision = 0.9285714285714286\n",
      "Nilai Recall = 0.24528301886792453\n",
      "Nilai F1 = 0.3880597014925373\n",
      "########\n",
      "LOGISTIK REGRESSION\n"
     ]
    },
    {
     "name": "stderr",
     "output_type": "stream",
     "text": [
      "/tmp/ipykernel_1571/3747505018.py:46: SettingWithCopyWarning: \n",
      "A value is trying to be set on a copy of a slice from a DataFrame.\n",
      "Try using .loc[row_indexer,col_indexer] = value instead\n",
      "\n",
      "See the caveats in the documentation: https://pandas.pydata.org/pandas-docs/stable/user_guide/indexing.html#returning-a-view-versus-a-copy\n",
      "  df['label'] = y_pred_test\n"
     ]
    },
    {
     "name": "stdout",
     "output_type": "stream",
     "text": [
      "Di train dapat performa \n",
      "Nilai Precision = 1.0\n",
      "Nilai Recall = 1.0\n",
      "Nilai F1 = 1.0\n",
      "Di test dapat performa\n",
      "Nilai Precision = 0.8048780487804879\n",
      "Nilai Recall = 0.6226415094339622\n",
      "Nilai F1 = 0.7021276595744681\n",
      "########\n",
      "NAIVE BAYES\n"
     ]
    },
    {
     "name": "stderr",
     "output_type": "stream",
     "text": [
      "/tmp/ipykernel_1571/3747505018.py:65: SettingWithCopyWarning: \n",
      "A value is trying to be set on a copy of a slice from a DataFrame.\n",
      "Try using .loc[row_indexer,col_indexer] = value instead\n",
      "\n",
      "See the caveats in the documentation: https://pandas.pydata.org/pandas-docs/stable/user_guide/indexing.html#returning-a-view-versus-a-copy\n",
      "  df['label'] = y_pred_test\n"
     ]
    },
    {
     "name": "stdout",
     "output_type": "stream",
     "text": [
      "Di train dapat performa \n",
      "Nilai Precision = 0.9644444444444444\n",
      "Nilai Recall = 1.0\n",
      "Nilai F1 = 0.9819004524886877\n",
      "Di test dapat performa\n",
      "Nilai Precision = 0.7941176470588235\n",
      "Nilai Recall = 0.5094339622641509\n",
      "Nilai F1 = 0.6206896551724137\n",
      "########\n",
      "MLP\n"
     ]
    },
    {
     "name": "stderr",
     "output_type": "stream",
     "text": [
      "/tmp/ipykernel_1571/3747505018.py:89: SettingWithCopyWarning: \n",
      "A value is trying to be set on a copy of a slice from a DataFrame.\n",
      "Try using .loc[row_indexer,col_indexer] = value instead\n",
      "\n",
      "See the caveats in the documentation: https://pandas.pydata.org/pandas-docs/stable/user_guide/indexing.html#returning-a-view-versus-a-copy\n",
      "  df['label'] = y_pred_test\n"
     ]
    },
    {
     "name": "stdout",
     "output_type": "stream",
     "text": [
      "Di train dapat performa \n",
      "Nilai Precision = 1.0\n",
      "Nilai Recall = 1.0\n",
      "Nilai F1 = 1.0\n",
      "Di test dapat performa\n",
      "Nilai Precision = 0.8095238095238095\n",
      "Nilai Recall = 0.6415094339622641\n",
      "Nilai F1 = 0.7157894736842104\n",
      "########\n",
      "/workspace/dataset/longsor\n",
      "Rata-rata nilai test dengan Classifier rf, lr, dan nb adalah\n",
      "Precision = 0.8425223748035799\n",
      "Recall = 0.45911949685534587\n",
      "F1 = 0.570292338746473\n"
     ]
    },
    {
     "name": "stderr",
     "output_type": "stream",
     "text": [
      "/tmp/ipykernel_1571/3747505018.py:111: SettingWithCopyWarning: \n",
      "A value is trying to be set on a copy of a slice from a DataFrame.\n",
      "Try using .loc[row_indexer,col_indexer] = value instead\n",
      "\n",
      "See the caveats in the documentation: https://pandas.pydata.org/pandas-docs/stable/user_guide/indexing.html#returning-a-view-versus-a-copy\n",
      "  df['label'] = y_pred_test\n"
     ]
    },
    {
     "name": "stdout",
     "output_type": "stream",
     "text": [
      "\n",
      "\n",
      "/workspace/dataset\n",
      "Eksperimen pada bencana longsor dengan representasi teks trunc_last_short\n",
      "RANDOM FOREST\n",
      "Di train dapat performa \n",
      "Nilai Precision = 1.0\n",
      "Nilai Recall = 1.0\n",
      "Nilai F1 = 1.0\n",
      "Di test dapat performa\n",
      "Nilai Precision = 0.8333333333333334\n",
      "Nilai Recall = 0.09433962264150944\n",
      "Nilai F1 = 0.16949152542372883\n",
      "########\n",
      "LOGISTIK REGRESSION\n"
     ]
    },
    {
     "name": "stderr",
     "output_type": "stream",
     "text": [
      "/tmp/ipykernel_1571/3747505018.py:46: SettingWithCopyWarning: \n",
      "A value is trying to be set on a copy of a slice from a DataFrame.\n",
      "Try using .loc[row_indexer,col_indexer] = value instead\n",
      "\n",
      "See the caveats in the documentation: https://pandas.pydata.org/pandas-docs/stable/user_guide/indexing.html#returning-a-view-versus-a-copy\n",
      "  df['label'] = y_pred_test\n"
     ]
    },
    {
     "name": "stdout",
     "output_type": "stream",
     "text": [
      "Di train dapat performa \n",
      "Nilai Precision = 1.0\n",
      "Nilai Recall = 1.0\n",
      "Nilai F1 = 1.0\n",
      "Di test dapat performa\n",
      "Nilai Precision = 0.6842105263157895\n",
      "Nilai Recall = 0.49056603773584906\n",
      "Nilai F1 = 0.5714285714285714\n",
      "########\n",
      "NAIVE BAYES\n"
     ]
    },
    {
     "name": "stderr",
     "output_type": "stream",
     "text": [
      "/tmp/ipykernel_1571/3747505018.py:65: SettingWithCopyWarning: \n",
      "A value is trying to be set on a copy of a slice from a DataFrame.\n",
      "Try using .loc[row_indexer,col_indexer] = value instead\n",
      "\n",
      "See the caveats in the documentation: https://pandas.pydata.org/pandas-docs/stable/user_guide/indexing.html#returning-a-view-versus-a-copy\n",
      "  df['label'] = y_pred_test\n"
     ]
    },
    {
     "name": "stdout",
     "output_type": "stream",
     "text": [
      "Di train dapat performa \n",
      "Nilai Precision = 0.9908256880733946\n",
      "Nilai Recall = 0.9953917050691244\n",
      "Nilai F1 = 0.9931034482758622\n",
      "Di test dapat performa\n",
      "Nilai Precision = 0.7857142857142857\n",
      "Nilai Recall = 0.20754716981132076\n",
      "Nilai F1 = 0.3283582089552239\n",
      "########\n",
      "MLP\n"
     ]
    },
    {
     "name": "stderr",
     "output_type": "stream",
     "text": [
      "/tmp/ipykernel_1571/3747505018.py:89: SettingWithCopyWarning: \n",
      "A value is trying to be set on a copy of a slice from a DataFrame.\n",
      "Try using .loc[row_indexer,col_indexer] = value instead\n",
      "\n",
      "See the caveats in the documentation: https://pandas.pydata.org/pandas-docs/stable/user_guide/indexing.html#returning-a-view-versus-a-copy\n",
      "  df['label'] = y_pred_test\n"
     ]
    },
    {
     "name": "stdout",
     "output_type": "stream",
     "text": [
      "Di train dapat performa \n",
      "Nilai Precision = 1.0\n",
      "Nilai Recall = 1.0\n",
      "Nilai F1 = 1.0\n",
      "Di test dapat performa\n",
      "Nilai Precision = 0.6666666666666666\n",
      "Nilai Recall = 0.6415094339622641\n",
      "Nilai F1 = 0.6538461538461539\n",
      "########\n",
      "/workspace/dataset/longsor\n",
      "Rata-rata nilai test dengan Classifier rf, lr, dan nb adalah\n",
      "Precision = 0.7677527151211362\n",
      "Recall = 0.2641509433962264\n",
      "F1 = 0.3564261019358414\n",
      "\n",
      "\n"
     ]
    },
    {
     "name": "stderr",
     "output_type": "stream",
     "text": [
      "/tmp/ipykernel_1571/3747505018.py:111: SettingWithCopyWarning: \n",
      "A value is trying to be set on a copy of a slice from a DataFrame.\n",
      "Try using .loc[row_indexer,col_indexer] = value instead\n",
      "\n",
      "See the caveats in the documentation: https://pandas.pydata.org/pandas-docs/stable/user_guide/indexing.html#returning-a-view-versus-a-copy\n",
      "  df['label'] = y_pred_test\n"
     ]
    },
    {
     "name": "stdout",
     "output_type": "stream",
     "text": [
      "/workspace/dataset\n",
      "Eksperimen pada bencana longsor dengan representasi teks trunc_first_long\n",
      "RANDOM FOREST\n",
      "Di train dapat performa \n",
      "Nilai Precision = 1.0\n",
      "Nilai Recall = 1.0\n",
      "Nilai F1 = 1.0\n",
      "Di test dapat performa\n",
      "Nilai Precision = 0.8\n",
      "Nilai Recall = 0.1509433962264151\n",
      "Nilai F1 = 0.25396825396825395\n",
      "########\n",
      "LOGISTIK REGRESSION\n"
     ]
    },
    {
     "name": "stderr",
     "output_type": "stream",
     "text": [
      "/tmp/ipykernel_1571/3747505018.py:46: SettingWithCopyWarning: \n",
      "A value is trying to be set on a copy of a slice from a DataFrame.\n",
      "Try using .loc[row_indexer,col_indexer] = value instead\n",
      "\n",
      "See the caveats in the documentation: https://pandas.pydata.org/pandas-docs/stable/user_guide/indexing.html#returning-a-view-versus-a-copy\n",
      "  df['label'] = y_pred_test\n"
     ]
    },
    {
     "name": "stdout",
     "output_type": "stream",
     "text": [
      "Di train dapat performa \n",
      "Nilai Precision = 1.0\n",
      "Nilai Recall = 1.0\n",
      "Nilai F1 = 1.0\n",
      "Di test dapat performa\n",
      "Nilai Precision = 0.7391304347826086\n",
      "Nilai Recall = 0.6415094339622641\n",
      "Nilai F1 = 0.6868686868686867\n",
      "########\n",
      "NAIVE BAYES\n"
     ]
    },
    {
     "name": "stderr",
     "output_type": "stream",
     "text": [
      "/tmp/ipykernel_1571/3747505018.py:65: SettingWithCopyWarning: \n",
      "A value is trying to be set on a copy of a slice from a DataFrame.\n",
      "Try using .loc[row_indexer,col_indexer] = value instead\n",
      "\n",
      "See the caveats in the documentation: https://pandas.pydata.org/pandas-docs/stable/user_guide/indexing.html#returning-a-view-versus-a-copy\n",
      "  df['label'] = y_pred_test\n"
     ]
    },
    {
     "name": "stdout",
     "output_type": "stream",
     "text": [
      "Di train dapat performa \n",
      "Nilai Precision = 0.9774774774774775\n",
      "Nilai Recall = 1.0\n",
      "Nilai F1 = 0.9886104783599089\n",
      "Di test dapat performa\n",
      "Nilai Precision = 0.8\n",
      "Nilai Recall = 0.4528301886792453\n",
      "Nilai F1 = 0.5783132530120482\n",
      "########\n",
      "MLP\n"
     ]
    },
    {
     "name": "stderr",
     "output_type": "stream",
     "text": [
      "/tmp/ipykernel_1571/3747505018.py:89: SettingWithCopyWarning: \n",
      "A value is trying to be set on a copy of a slice from a DataFrame.\n",
      "Try using .loc[row_indexer,col_indexer] = value instead\n",
      "\n",
      "See the caveats in the documentation: https://pandas.pydata.org/pandas-docs/stable/user_guide/indexing.html#returning-a-view-versus-a-copy\n",
      "  df['label'] = y_pred_test\n"
     ]
    },
    {
     "name": "stdout",
     "output_type": "stream",
     "text": [
      "Di train dapat performa \n",
      "Nilai Precision = 1.0\n",
      "Nilai Recall = 1.0\n",
      "Nilai F1 = 1.0\n",
      "Di test dapat performa\n",
      "Nilai Precision = 0.74\n",
      "Nilai Recall = 0.6981132075471698\n",
      "Nilai F1 = 0.7184466019417476\n",
      "########\n",
      "/workspace/dataset/longsor\n",
      "Rata-rata nilai test dengan Classifier rf, lr, dan nb adalah\n",
      "Precision = 0.7797101449275363\n",
      "Recall = 0.4150943396226415\n",
      "F1 = 0.5063833979496629\n",
      "\n",
      "\n",
      "/workspace/dataset\n",
      "Eksperimen pada bencana longsor dengan representasi teks trunc_last_long\n"
     ]
    },
    {
     "name": "stderr",
     "output_type": "stream",
     "text": [
      "/tmp/ipykernel_1571/3747505018.py:111: SettingWithCopyWarning: \n",
      "A value is trying to be set on a copy of a slice from a DataFrame.\n",
      "Try using .loc[row_indexer,col_indexer] = value instead\n",
      "\n",
      "See the caveats in the documentation: https://pandas.pydata.org/pandas-docs/stable/user_guide/indexing.html#returning-a-view-versus-a-copy\n",
      "  df['label'] = y_pred_test\n"
     ]
    },
    {
     "name": "stdout",
     "output_type": "stream",
     "text": [
      "RANDOM FOREST\n",
      "Di train dapat performa \n",
      "Nilai Precision = 1.0\n",
      "Nilai Recall = 1.0\n",
      "Nilai F1 = 1.0\n",
      "Di test dapat performa\n",
      "Nilai Precision = 1.0\n",
      "Nilai Recall = 0.05660377358490566\n",
      "Nilai F1 = 0.10714285714285715\n",
      "########\n",
      "LOGISTIK REGRESSION\n"
     ]
    },
    {
     "name": "stderr",
     "output_type": "stream",
     "text": [
      "/tmp/ipykernel_1571/3747505018.py:46: SettingWithCopyWarning: \n",
      "A value is trying to be set on a copy of a slice from a DataFrame.\n",
      "Try using .loc[row_indexer,col_indexer] = value instead\n",
      "\n",
      "See the caveats in the documentation: https://pandas.pydata.org/pandas-docs/stable/user_guide/indexing.html#returning-a-view-versus-a-copy\n",
      "  df['label'] = y_pred_test\n"
     ]
    },
    {
     "name": "stdout",
     "output_type": "stream",
     "text": [
      "Di train dapat performa \n",
      "Nilai Precision = 1.0\n",
      "Nilai Recall = 1.0\n",
      "Nilai F1 = 1.0\n",
      "Di test dapat performa\n",
      "Nilai Precision = 0.7169811320754716\n",
      "Nilai Recall = 0.7169811320754716\n",
      "Nilai F1 = 0.7169811320754716\n",
      "########\n",
      "NAIVE BAYES\n"
     ]
    },
    {
     "name": "stderr",
     "output_type": "stream",
     "text": [
      "/tmp/ipykernel_1571/3747505018.py:65: SettingWithCopyWarning: \n",
      "A value is trying to be set on a copy of a slice from a DataFrame.\n",
      "Try using .loc[row_indexer,col_indexer] = value instead\n",
      "\n",
      "See the caveats in the documentation: https://pandas.pydata.org/pandas-docs/stable/user_guide/indexing.html#returning-a-view-versus-a-copy\n",
      "  df['label'] = y_pred_test\n"
     ]
    },
    {
     "name": "stdout",
     "output_type": "stream",
     "text": [
      "Di train dapat performa \n",
      "Nilai Precision = 0.9863013698630136\n",
      "Nilai Recall = 0.9953917050691244\n",
      "Nilai F1 = 0.9908256880733944\n",
      "Di test dapat performa\n",
      "Nilai Precision = 0.7647058823529411\n",
      "Nilai Recall = 0.24528301886792453\n",
      "Nilai F1 = 0.3714285714285715\n",
      "########\n",
      "MLP\n"
     ]
    },
    {
     "name": "stderr",
     "output_type": "stream",
     "text": [
      "/tmp/ipykernel_1571/3747505018.py:89: SettingWithCopyWarning: \n",
      "A value is trying to be set on a copy of a slice from a DataFrame.\n",
      "Try using .loc[row_indexer,col_indexer] = value instead\n",
      "\n",
      "See the caveats in the documentation: https://pandas.pydata.org/pandas-docs/stable/user_guide/indexing.html#returning-a-view-versus-a-copy\n",
      "  df['label'] = y_pred_test\n"
     ]
    },
    {
     "name": "stdout",
     "output_type": "stream",
     "text": [
      "Di train dapat performa \n",
      "Nilai Precision = 1.0\n",
      "Nilai Recall = 1.0\n",
      "Nilai F1 = 1.0\n",
      "Di test dapat performa\n",
      "Nilai Precision = 0.671875\n",
      "Nilai Recall = 0.8113207547169812\n",
      "Nilai F1 = 0.7350427350427351\n",
      "########\n",
      "/workspace/dataset/longsor\n",
      "Rata-rata nilai test dengan Classifier rf, lr, dan nb adalah\n",
      "Precision = 0.8272290048094709\n",
      "Recall = 0.33962264150943394\n",
      "F1 = 0.3985175202156334\n",
      "\n",
      "\n",
      "/workspace/dataset\n",
      "Eksperimen pada bencana longsor dengan representasi teks trunc_combination\n"
     ]
    },
    {
     "name": "stderr",
     "output_type": "stream",
     "text": [
      "/tmp/ipykernel_1571/3747505018.py:111: SettingWithCopyWarning: \n",
      "A value is trying to be set on a copy of a slice from a DataFrame.\n",
      "Try using .loc[row_indexer,col_indexer] = value instead\n",
      "\n",
      "See the caveats in the documentation: https://pandas.pydata.org/pandas-docs/stable/user_guide/indexing.html#returning-a-view-versus-a-copy\n",
      "  df['label'] = y_pred_test\n"
     ]
    },
    {
     "name": "stdout",
     "output_type": "stream",
     "text": [
      "RANDOM FOREST\n",
      "Di train dapat performa \n",
      "Nilai Precision = 1.0\n",
      "Nilai Recall = 1.0\n",
      "Nilai F1 = 1.0\n",
      "Di test dapat performa\n",
      "Nilai Precision = 0.8\n",
      "Nilai Recall = 0.1509433962264151\n",
      "Nilai F1 = 0.25396825396825395\n",
      "########\n",
      "LOGISTIK REGRESSION\n"
     ]
    },
    {
     "name": "stderr",
     "output_type": "stream",
     "text": [
      "/tmp/ipykernel_1571/3747505018.py:46: SettingWithCopyWarning: \n",
      "A value is trying to be set on a copy of a slice from a DataFrame.\n",
      "Try using .loc[row_indexer,col_indexer] = value instead\n",
      "\n",
      "See the caveats in the documentation: https://pandas.pydata.org/pandas-docs/stable/user_guide/indexing.html#returning-a-view-versus-a-copy\n",
      "  df['label'] = y_pred_test\n"
     ]
    },
    {
     "name": "stdout",
     "output_type": "stream",
     "text": [
      "Di train dapat performa \n",
      "Nilai Precision = 1.0\n",
      "Nilai Recall = 1.0\n",
      "Nilai F1 = 1.0\n",
      "Di test dapat performa\n",
      "Nilai Precision = 0.7346938775510204\n",
      "Nilai Recall = 0.6792452830188679\n",
      "Nilai F1 = 0.7058823529411764\n",
      "########\n",
      "NAIVE BAYES\n",
      "Di train dapat performa \n",
      "Nilai Precision = 0.9863636363636363\n",
      "Nilai Recall = 1.0\n"
     ]
    },
    {
     "name": "stderr",
     "output_type": "stream",
     "text": [
      "/tmp/ipykernel_1571/3747505018.py:65: SettingWithCopyWarning: \n",
      "A value is trying to be set on a copy of a slice from a DataFrame.\n",
      "Try using .loc[row_indexer,col_indexer] = value instead\n",
      "\n",
      "See the caveats in the documentation: https://pandas.pydata.org/pandas-docs/stable/user_guide/indexing.html#returning-a-view-versus-a-copy\n",
      "  df['label'] = y_pred_test\n",
      "/tmp/ipykernel_1571/3747505018.py:89: SettingWithCopyWarning: \n",
      "A value is trying to be set on a copy of a slice from a DataFrame.\n",
      "Try using .loc[row_indexer,col_indexer] = value instead\n",
      "\n",
      "See the caveats in the documentation: https://pandas.pydata.org/pandas-docs/stable/user_guide/indexing.html#returning-a-view-versus-a-copy\n",
      "  df['label'] = y_pred_test\n"
     ]
    },
    {
     "name": "stdout",
     "output_type": "stream",
     "text": [
      "Nilai F1 = 0.9931350114416476\n",
      "Di test dapat performa\n",
      "Nilai Precision = 0.88\n",
      "Nilai Recall = 0.41509433962264153\n",
      "Nilai F1 = 0.5641025641025641\n",
      "########\n",
      "MLP\n",
      "Di train dapat performa \n",
      "Nilai Precision = 1.0\n",
      "Nilai Recall = 1.0\n",
      "Nilai F1 = 1.0\n",
      "Di test dapat performa\n",
      "Nilai Precision = 0.7241379310344828\n",
      "Nilai Recall = 0.7924528301886793\n",
      "Nilai F1 = 0.7567567567567567\n",
      "########\n",
      "/workspace/dataset/longsor\n",
      "Rata-rata nilai test dengan Classifier rf, lr, dan nb adalah\n",
      "Precision = 0.8048979591836735\n",
      "Recall = 0.4150943396226415\n",
      "F1 = 0.5079843903373314\n",
      "\n",
      "\n",
      "/workspace/dataset\n",
      "Eksperimen pada bencana longsor dengan representasi teks textrank\n"
     ]
    },
    {
     "name": "stderr",
     "output_type": "stream",
     "text": [
      "/tmp/ipykernel_1571/3747505018.py:111: SettingWithCopyWarning: \n",
      "A value is trying to be set on a copy of a slice from a DataFrame.\n",
      "Try using .loc[row_indexer,col_indexer] = value instead\n",
      "\n",
      "See the caveats in the documentation: https://pandas.pydata.org/pandas-docs/stable/user_guide/indexing.html#returning-a-view-versus-a-copy\n",
      "  df['label'] = y_pred_test\n"
     ]
    },
    {
     "name": "stdout",
     "output_type": "stream",
     "text": [
      "RANDOM FOREST\n",
      "Di train dapat performa \n",
      "Nilai Precision = 1.0\n",
      "Nilai Recall = 1.0\n",
      "Nilai F1 = 1.0\n",
      "Di test dapat performa\n",
      "Nilai Precision = 0.5\n",
      "Nilai Recall = 0.09433962264150944\n",
      "Nilai F1 = 0.15873015873015875\n",
      "########\n",
      "LOGISTIK REGRESSION\n"
     ]
    },
    {
     "name": "stderr",
     "output_type": "stream",
     "text": [
      "/tmp/ipykernel_1571/3747505018.py:46: SettingWithCopyWarning: \n",
      "A value is trying to be set on a copy of a slice from a DataFrame.\n",
      "Try using .loc[row_indexer,col_indexer] = value instead\n",
      "\n",
      "See the caveats in the documentation: https://pandas.pydata.org/pandas-docs/stable/user_guide/indexing.html#returning-a-view-versus-a-copy\n",
      "  df['label'] = y_pred_test\n"
     ]
    },
    {
     "name": "stdout",
     "output_type": "stream",
     "text": [
      "Di train dapat performa \n",
      "Nilai Precision = 1.0\n",
      "Nilai Recall = 1.0\n",
      "Nilai F1 = 1.0\n",
      "Di test dapat performa\n",
      "Nilai Precision = 0.6590909090909091\n",
      "Nilai Recall = 0.5471698113207547\n",
      "Nilai F1 = 0.5979381443298969\n",
      "########\n",
      "NAIVE BAYES\n",
      "Di train dapat performa \n",
      "Nilai Precision = 0.9730941704035875\n",
      "Nilai Recall = 1.0\n",
      "Nilai F1 = 0.9863636363636364\n",
      "Di test dapat performa\n",
      "Nilai Precision = 0.9047619047619048\n",
      "Nilai Recall = 0.3584905660377358\n",
      "Nilai F1 = 0.5135135135135135\n",
      "########\n",
      "MLP\n"
     ]
    },
    {
     "name": "stderr",
     "output_type": "stream",
     "text": [
      "/tmp/ipykernel_1571/3747505018.py:65: SettingWithCopyWarning: \n",
      "A value is trying to be set on a copy of a slice from a DataFrame.\n",
      "Try using .loc[row_indexer,col_indexer] = value instead\n",
      "\n",
      "See the caveats in the documentation: https://pandas.pydata.org/pandas-docs/stable/user_guide/indexing.html#returning-a-view-versus-a-copy\n",
      "  df['label'] = y_pred_test\n",
      "/tmp/ipykernel_1571/3747505018.py:89: SettingWithCopyWarning: \n",
      "A value is trying to be set on a copy of a slice from a DataFrame.\n",
      "Try using .loc[row_indexer,col_indexer] = value instead\n",
      "\n",
      "See the caveats in the documentation: https://pandas.pydata.org/pandas-docs/stable/user_guide/indexing.html#returning-a-view-versus-a-copy\n",
      "  df['label'] = y_pred_test\n"
     ]
    },
    {
     "name": "stdout",
     "output_type": "stream",
     "text": [
      "Di train dapat performa \n",
      "Nilai Precision = 1.0\n",
      "Nilai Recall = 1.0\n",
      "Nilai F1 = 1.0\n",
      "Di test dapat performa\n",
      "Nilai Precision = 0.6458333333333334\n",
      "Nilai Recall = 0.5849056603773585\n",
      "Nilai F1 = 0.6138613861386139\n",
      "########\n",
      "/workspace/dataset/longsor\n",
      "Rata-rata nilai test dengan Classifier rf, lr, dan nb adalah\n",
      "Precision = 0.687950937950938\n",
      "Recall = 0.3333333333333333\n",
      "F1 = 0.4233939388578564\n",
      "\n",
      "\n",
      "/workspace/dataset\n",
      "Eksperimen pada bencana longsor dengan representasi teks sum_indobart\n"
     ]
    },
    {
     "name": "stderr",
     "output_type": "stream",
     "text": [
      "/tmp/ipykernel_1571/3747505018.py:111: SettingWithCopyWarning: \n",
      "A value is trying to be set on a copy of a slice from a DataFrame.\n",
      "Try using .loc[row_indexer,col_indexer] = value instead\n",
      "\n",
      "See the caveats in the documentation: https://pandas.pydata.org/pandas-docs/stable/user_guide/indexing.html#returning-a-view-versus-a-copy\n",
      "  df['label'] = y_pred_test\n"
     ]
    },
    {
     "name": "stdout",
     "output_type": "stream",
     "text": [
      "RANDOM FOREST\n",
      "Di train dapat performa \n",
      "Nilai Precision = 1.0\n",
      "Nilai Recall = 1.0\n",
      "Nilai F1 = 1.0\n",
      "Di test dapat performa\n",
      "Nilai Precision = 0.6363636363636364\n",
      "Nilai Recall = 0.1320754716981132\n",
      "Nilai F1 = 0.21875\n",
      "########\n",
      "LOGISTIK REGRESSION\n"
     ]
    },
    {
     "name": "stderr",
     "output_type": "stream",
     "text": [
      "/tmp/ipykernel_1571/3747505018.py:46: SettingWithCopyWarning: \n",
      "A value is trying to be set on a copy of a slice from a DataFrame.\n",
      "Try using .loc[row_indexer,col_indexer] = value instead\n",
      "\n",
      "See the caveats in the documentation: https://pandas.pydata.org/pandas-docs/stable/user_guide/indexing.html#returning-a-view-versus-a-copy\n",
      "  df['label'] = y_pred_test\n"
     ]
    },
    {
     "name": "stdout",
     "output_type": "stream",
     "text": [
      "Di train dapat performa \n",
      "Nilai Precision = 1.0\n",
      "Nilai Recall = 1.0\n",
      "Nilai F1 = 1.0\n",
      "Di test dapat performa\n",
      "Nilai Precision = 0.6590909090909091\n",
      "Nilai Recall = 0.5471698113207547\n",
      "Nilai F1 = 0.5979381443298969\n",
      "########\n",
      "NAIVE BAYES\n"
     ]
    },
    {
     "name": "stderr",
     "output_type": "stream",
     "text": [
      "/tmp/ipykernel_1571/3747505018.py:65: SettingWithCopyWarning: \n",
      "A value is trying to be set on a copy of a slice from a DataFrame.\n",
      "Try using .loc[row_indexer,col_indexer] = value instead\n",
      "\n",
      "See the caveats in the documentation: https://pandas.pydata.org/pandas-docs/stable/user_guide/indexing.html#returning-a-view-versus-a-copy\n",
      "  df['label'] = y_pred_test\n",
      "/tmp/ipykernel_1571/3747505018.py:89: SettingWithCopyWarning: \n",
      "A value is trying to be set on a copy of a slice from a DataFrame.\n",
      "Try using .loc[row_indexer,col_indexer] = value instead\n",
      "\n",
      "See the caveats in the documentation: https://pandas.pydata.org/pandas-docs/stable/user_guide/indexing.html#returning-a-view-versus-a-copy\n",
      "  df['label'] = y_pred_test\n"
     ]
    },
    {
     "name": "stdout",
     "output_type": "stream",
     "text": [
      "Di train dapat performa \n",
      "Nilai Precision = 0.972972972972973\n",
      "Nilai Recall = 0.9953917050691244\n",
      "Nilai F1 = 0.9840546697038726\n",
      "Di test dapat performa\n",
      "Nilai Precision = 0.75\n",
      "Nilai Recall = 0.5094339622641509\n",
      "Nilai F1 = 0.6067415730337078\n",
      "########\n",
      "MLP\n",
      "Di train dapat performa \n",
      "Nilai Precision = 1.0\n",
      "Nilai Recall = 1.0\n",
      "Nilai F1 = 1.0\n",
      "Di test dapat performa\n",
      "Nilai Precision = 0.6842105263157895\n",
      "Nilai Recall = 0.49056603773584906\n",
      "Nilai F1 = 0.5714285714285714\n",
      "########\n",
      "/workspace/dataset/longsor\n",
      "Rata-rata nilai test dengan Classifier rf, lr, dan nb adalah\n",
      "Precision = 0.6818181818181818\n",
      "Recall = 0.3962264150943396\n",
      "F1 = 0.47447657245453484\n",
      "\n",
      "\n",
      "/workspace/dataset\n",
      "Eksperimen pada bencana longsor dengan representasi teks sum_liputan6\n"
     ]
    },
    {
     "name": "stderr",
     "output_type": "stream",
     "text": [
      "/tmp/ipykernel_1571/3747505018.py:111: SettingWithCopyWarning: \n",
      "A value is trying to be set on a copy of a slice from a DataFrame.\n",
      "Try using .loc[row_indexer,col_indexer] = value instead\n",
      "\n",
      "See the caveats in the documentation: https://pandas.pydata.org/pandas-docs/stable/user_guide/indexing.html#returning-a-view-versus-a-copy\n",
      "  df['label'] = y_pred_test\n"
     ]
    },
    {
     "name": "stdout",
     "output_type": "stream",
     "text": [
      "RANDOM FOREST\n",
      "Di train dapat performa \n",
      "Nilai Precision = 1.0\n",
      "Nilai Recall = 1.0\n",
      "Nilai F1 = 1.0\n",
      "Di test dapat performa\n",
      "Nilai Precision = 0.7368421052631579\n",
      "Nilai Recall = 0.2641509433962264\n",
      "Nilai F1 = 0.3888888888888889\n",
      "########\n",
      "LOGISTIK REGRESSION\n"
     ]
    },
    {
     "name": "stderr",
     "output_type": "stream",
     "text": [
      "/tmp/ipykernel_1571/3747505018.py:46: SettingWithCopyWarning: \n",
      "A value is trying to be set on a copy of a slice from a DataFrame.\n",
      "Try using .loc[row_indexer,col_indexer] = value instead\n",
      "\n",
      "See the caveats in the documentation: https://pandas.pydata.org/pandas-docs/stable/user_guide/indexing.html#returning-a-view-versus-a-copy\n",
      "  df['label'] = y_pred_test\n"
     ]
    },
    {
     "name": "stdout",
     "output_type": "stream",
     "text": [
      "Di train dapat performa \n",
      "Nilai Precision = 1.0\n",
      "Nilai Recall = 1.0\n",
      "Nilai F1 = 1.0\n",
      "Di test dapat performa\n",
      "Nilai Precision = 0.7073170731707317\n",
      "Nilai Recall = 0.5471698113207547\n",
      "Nilai F1 = 0.6170212765957447\n",
      "########\n",
      "NAIVE BAYES\n",
      "Di train dapat performa \n",
      "Nilai Precision = 0.9817351598173516\n",
      "Nilai Recall = 0.9907834101382489\n",
      "Nilai F1 = 0.9862385321100918\n",
      "Di test dapat performa\n",
      "Nilai Precision = 0.7368421052631579\n",
      "Nilai Recall = 0.5283018867924528\n",
      "Nilai F1 = 0.6153846153846154\n",
      "########\n",
      "MLP\n"
     ]
    },
    {
     "name": "stderr",
     "output_type": "stream",
     "text": [
      "/tmp/ipykernel_1571/3747505018.py:65: SettingWithCopyWarning: \n",
      "A value is trying to be set on a copy of a slice from a DataFrame.\n",
      "Try using .loc[row_indexer,col_indexer] = value instead\n",
      "\n",
      "See the caveats in the documentation: https://pandas.pydata.org/pandas-docs/stable/user_guide/indexing.html#returning-a-view-versus-a-copy\n",
      "  df['label'] = y_pred_test\n",
      "/tmp/ipykernel_1571/3747505018.py:89: SettingWithCopyWarning: \n",
      "A value is trying to be set on a copy of a slice from a DataFrame.\n",
      "Try using .loc[row_indexer,col_indexer] = value instead\n",
      "\n",
      "See the caveats in the documentation: https://pandas.pydata.org/pandas-docs/stable/user_guide/indexing.html#returning-a-view-versus-a-copy\n",
      "  df['label'] = y_pred_test\n"
     ]
    },
    {
     "name": "stdout",
     "output_type": "stream",
     "text": [
      "Di train dapat performa \n",
      "Nilai Precision = 1.0\n",
      "Nilai Recall = 1.0\n",
      "Nilai F1 = 1.0\n",
      "Di test dapat performa\n",
      "Nilai Precision = 0.7142857142857143\n",
      "Nilai Recall = 0.5660377358490566\n",
      "Nilai F1 = 0.631578947368421\n",
      "########\n",
      "/workspace/dataset/longsor\n",
      "Rata-rata nilai test dengan Classifier rf, lr, dan nb adalah\n",
      "Precision = 0.7270004278990158\n",
      "Recall = 0.4465408805031446\n",
      "F1 = 0.540431593623083\n",
      "\n",
      "\n",
      "/workspace/dataset\n",
      "Eksperimen pada bencana longsor dengan representasi teks sum_pegasus\n"
     ]
    },
    {
     "name": "stderr",
     "output_type": "stream",
     "text": [
      "/tmp/ipykernel_1571/3747505018.py:111: SettingWithCopyWarning: \n",
      "A value is trying to be set on a copy of a slice from a DataFrame.\n",
      "Try using .loc[row_indexer,col_indexer] = value instead\n",
      "\n",
      "See the caveats in the documentation: https://pandas.pydata.org/pandas-docs/stable/user_guide/indexing.html#returning-a-view-versus-a-copy\n",
      "  df['label'] = y_pred_test\n"
     ]
    },
    {
     "name": "stdout",
     "output_type": "stream",
     "text": [
      "RANDOM FOREST\n",
      "Di train dapat performa \n",
      "Nilai Precision = 1.0\n",
      "Nilai Recall = 1.0\n",
      "Nilai F1 = 1.0\n",
      "Di test dapat performa\n",
      "Nilai Precision = 0.5714285714285714\n",
      "Nilai Recall = 0.07547169811320754\n",
      "Nilai F1 = 0.13333333333333333\n",
      "########\n",
      "LOGISTIK REGRESSION\n"
     ]
    },
    {
     "name": "stderr",
     "output_type": "stream",
     "text": [
      "/tmp/ipykernel_1571/3747505018.py:46: SettingWithCopyWarning: \n",
      "A value is trying to be set on a copy of a slice from a DataFrame.\n",
      "Try using .loc[row_indexer,col_indexer] = value instead\n",
      "\n",
      "See the caveats in the documentation: https://pandas.pydata.org/pandas-docs/stable/user_guide/indexing.html#returning-a-view-versus-a-copy\n",
      "  df['label'] = y_pred_test\n"
     ]
    },
    {
     "name": "stdout",
     "output_type": "stream",
     "text": [
      "Di train dapat performa \n",
      "Nilai Precision = 1.0\n",
      "Nilai Recall = 1.0\n",
      "Nilai F1 = 1.0\n",
      "Di test dapat performa\n",
      "Nilai Precision = 0.6\n",
      "Nilai Recall = 0.2830188679245283\n",
      "Nilai F1 = 0.3846153846153846\n",
      "########\n",
      "NAIVE BAYES\n"
     ]
    },
    {
     "name": "stderr",
     "output_type": "stream",
     "text": [
      "/tmp/ipykernel_1571/3747505018.py:65: SettingWithCopyWarning: \n",
      "A value is trying to be set on a copy of a slice from a DataFrame.\n",
      "Try using .loc[row_indexer,col_indexer] = value instead\n",
      "\n",
      "See the caveats in the documentation: https://pandas.pydata.org/pandas-docs/stable/user_guide/indexing.html#returning-a-view-versus-a-copy\n",
      "  df['label'] = y_pred_test\n"
     ]
    },
    {
     "name": "stdout",
     "output_type": "stream",
     "text": [
      "Di train dapat performa \n",
      "Nilai Precision = 0.9862385321100917\n",
      "Nilai Recall = 0.9907834101382489\n",
      "Nilai F1 = 0.9885057471264368\n",
      "Di test dapat performa\n",
      "Nilai Precision = 0.5806451612903226\n",
      "Nilai Recall = 0.33962264150943394\n",
      "Nilai F1 = 0.42857142857142855\n",
      "########\n",
      "MLP\n"
     ]
    },
    {
     "name": "stderr",
     "output_type": "stream",
     "text": [
      "/tmp/ipykernel_1571/3747505018.py:89: SettingWithCopyWarning: \n",
      "A value is trying to be set on a copy of a slice from a DataFrame.\n",
      "Try using .loc[row_indexer,col_indexer] = value instead\n",
      "\n",
      "See the caveats in the documentation: https://pandas.pydata.org/pandas-docs/stable/user_guide/indexing.html#returning-a-view-versus-a-copy\n",
      "  df['label'] = y_pred_test\n"
     ]
    },
    {
     "name": "stdout",
     "output_type": "stream",
     "text": [
      "Di train dapat performa \n",
      "Nilai Precision = 1.0\n",
      "Nilai Recall = 1.0\n",
      "Nilai F1 = 1.0\n",
      "Di test dapat performa\n",
      "Nilai Precision = 0.5277777777777778\n",
      "Nilai Recall = 0.3584905660377358\n",
      "Nilai F1 = 0.42696629213483145\n",
      "########\n",
      "/workspace/dataset/longsor\n",
      "Rata-rata nilai test dengan Classifier rf, lr, dan nb adalah\n",
      "Precision = 0.5840245775729646\n",
      "Recall = 0.23270440251572325\n",
      "F1 = 0.3155067155067155\n",
      "\n",
      "\n",
      "************************************************************\n",
      "{'longsor': {'title_ori': {'rf': {'prec': 0.75, 'rec': 0.33962264150943394, 'f1': 0.4675324675324676, 'acc': 0.795}, 'lr': {'prec': 0.7674418604651163, 'rec': 0.6226415094339622, 'f1': 0.6875, 'acc': 0.85}, 'mnb': {'prec': 0.7804878048780488, 'rec': 0.6037735849056604, 'f1': 0.6808510638297872, 'acc': 0.85}, 'mlp': {'prec': 0.7948717948717948, 'rec': 0.5849056603773585, 'f1': 0.6739130434782609, 'acc': 0.85}}, 'text_ori': {'rf': {'prec': 0.75, 'rec': 0.11320754716981132, 'f1': 0.19672131147540986, 'acc': 0.755}, 'lr': {'prec': 0.6938775510204082, 'rec': 0.6415094339622641, 'f1': 0.6666666666666666, 'acc': 0.83}, 'mnb': {'prec': 0.8888888888888888, 'rec': 0.3018867924528302, 'f1': 0.45070422535211263, 'acc': 0.805}, 'mlp': {'prec': 0.5909090909090909, 'rec': 0.9811320754716981, 'f1': 0.7375886524822695, 'acc': 0.815}}, 'tc_ori': {'rf': {'prec': 1.0, 'rec': 0.09433962264150944, 'f1': 0.1724137931034483, 'acc': 0.76}, 'lr': {'prec': 0.7254901960784313, 'rec': 0.6981132075471698, 'f1': 0.7115384615384615, 'acc': 0.85}, 'mnb': {'prec': 0.8181818181818182, 'rec': 0.33962264150943394, 'f1': 0.48, 'acc': 0.805}, 'mlp': {'prec': 0.5930232558139535, 'rec': 0.9622641509433962, 'f1': 0.7338129496402879, 'acc': 0.815}}, 'filter_word_tc': {'rf': {'prec': 0.7777777777777778, 'rec': 0.2641509433962264, 'f1': 0.39436619718309857, 'acc': 0.785}, 'lr': {'prec': 0.7857142857142857, 'rec': 0.6226415094339622, 'f1': 0.6947368421052631, 'acc': 0.855}, 'mnb': {'prec': 0.7, 'rec': 0.660377358490566, 'f1': 0.6796116504854369, 'acc': 0.835}, 'mlp': {'prec': 0.8181818181818182, 'rec': 0.33962264150943394, 'f1': 0.48, 'acc': 0.805}}, 'filter_word_tc_window': {'rf': {'prec': 0.8333333333333334, 'rec': 0.2830188679245283, 'f1': 0.4225352112676056, 'acc': 0.795}, 'lr': {'prec': 0.7333333333333333, 'rec': 0.6226415094339622, 'f1': 0.673469387755102, 'acc': 0.84}, 'mnb': {'prec': 0.7346938775510204, 'rec': 0.6792452830188679, 'f1': 0.7058823529411764, 'acc': 0.85}, 'mlp': {'prec': 0.8333333333333334, 'rec': 0.37735849056603776, 'f1': 0.5194805194805195, 'acc': 0.815}}, 'trunc_first_short': {'rf': {'prec': 0.9285714285714286, 'rec': 0.24528301886792453, 'f1': 0.3880597014925373, 'acc': 0.795}, 'lr': {'prec': 0.8048780487804879, 'rec': 0.6226415094339622, 'f1': 0.7021276595744681, 'acc': 0.86}, 'mnb': {'prec': 0.7941176470588235, 'rec': 0.5094339622641509, 'f1': 0.6206896551724137, 'acc': 0.835}, 'mlp': {'prec': 0.8095238095238095, 'rec': 0.6415094339622641, 'f1': 0.7157894736842104, 'acc': 0.865}}, 'trunc_last_short': {'rf': {'prec': 0.8333333333333334, 'rec': 0.09433962264150944, 'f1': 0.16949152542372883, 'acc': 0.755}, 'lr': {'prec': 0.6842105263157895, 'rec': 0.49056603773584906, 'f1': 0.5714285714285714, 'acc': 0.805}, 'mnb': {'prec': 0.7857142857142857, 'rec': 0.20754716981132076, 'f1': 0.3283582089552239, 'acc': 0.775}, 'mlp': {'prec': 0.6666666666666666, 'rec': 0.6415094339622641, 'f1': 0.6538461538461539, 'acc': 0.82}}, 'trunc_first_long': {'rf': {'prec': 0.8, 'rec': 0.1509433962264151, 'f1': 0.25396825396825395, 'acc': 0.765}, 'lr': {'prec': 0.7391304347826086, 'rec': 0.6415094339622641, 'f1': 0.6868686868686867, 'acc': 0.845}, 'mnb': {'prec': 0.8, 'rec': 0.4528301886792453, 'f1': 0.5783132530120482, 'acc': 0.825}, 'mlp': {'prec': 0.74, 'rec': 0.6981132075471698, 'f1': 0.7184466019417476, 'acc': 0.855}}, 'trunc_last_long': {'rf': {'prec': 1.0, 'rec': 0.05660377358490566, 'f1': 0.10714285714285715, 'acc': 0.75}, 'lr': {'prec': 0.7169811320754716, 'rec': 0.7169811320754716, 'f1': 0.7169811320754716, 'acc': 0.85}, 'mnb': {'prec': 0.7647058823529411, 'rec': 0.24528301886792453, 'f1': 0.3714285714285715, 'acc': 0.78}, 'mlp': {'prec': 0.671875, 'rec': 0.8113207547169812, 'f1': 0.7350427350427351, 'acc': 0.845}}, 'trunc_combination': {'rf': {'prec': 0.8, 'rec': 0.1509433962264151, 'f1': 0.25396825396825395, 'acc': 0.765}, 'lr': {'prec': 0.7346938775510204, 'rec': 0.6792452830188679, 'f1': 0.7058823529411764, 'acc': 0.85}, 'mnb': {'prec': 0.88, 'rec': 0.41509433962264153, 'f1': 0.5641025641025641, 'acc': 0.83}, 'mlp': {'prec': 0.7241379310344828, 'rec': 0.7924528301886793, 'f1': 0.7567567567567567, 'acc': 0.865}}, 'textrank': {'rf': {'prec': 0.5, 'rec': 0.09433962264150944, 'f1': 0.15873015873015875, 'acc': 0.735}, 'lr': {'prec': 0.6590909090909091, 'rec': 0.5471698113207547, 'f1': 0.5979381443298969, 'acc': 0.805}, 'mnb': {'prec': 0.9047619047619048, 'rec': 0.3584905660377358, 'f1': 0.5135135135135135, 'acc': 0.82}, 'mlp': {'prec': 0.6458333333333334, 'rec': 0.5849056603773585, 'f1': 0.6138613861386139, 'acc': 0.805}}, 'sum_indobart': {'rf': {'prec': 0.6363636363636364, 'rec': 0.1320754716981132, 'f1': 0.21875, 'acc': 0.75}, 'lr': {'prec': 0.6590909090909091, 'rec': 0.5471698113207547, 'f1': 0.5979381443298969, 'acc': 0.805}, 'mnb': {'prec': 0.75, 'rec': 0.5094339622641509, 'f1': 0.6067415730337078, 'acc': 0.825}, 'mlp': {'prec': 0.6842105263157895, 'rec': 0.49056603773584906, 'f1': 0.5714285714285714, 'acc': 0.805}}, 'sum_liputan6': {'rf': {'prec': 0.7368421052631579, 'rec': 0.2641509433962264, 'f1': 0.3888888888888889, 'acc': 0.78}, 'lr': {'prec': 0.7073170731707317, 'rec': 0.5471698113207547, 'f1': 0.6170212765957447, 'acc': 0.82}, 'mnb': {'prec': 0.7368421052631579, 'rec': 0.5283018867924528, 'f1': 0.6153846153846154, 'acc': 0.825}, 'mlp': {'prec': 0.7142857142857143, 'rec': 0.5660377358490566, 'f1': 0.631578947368421, 'acc': 0.825}}, 'sum_pegasus': {'rf': {'prec': 0.5714285714285714, 'rec': 0.07547169811320754, 'f1': 0.13333333333333333, 'acc': 0.74}, 'lr': {'prec': 0.6, 'rec': 0.2830188679245283, 'f1': 0.3846153846153846, 'acc': 0.76}, 'mnb': {'prec': 0.5806451612903226, 'rec': 0.33962264150943394, 'f1': 0.42857142857142855, 'acc': 0.76}, 'mlp': {'prec': 0.5277777777777778, 'rec': 0.3584905660377358, 'f1': 0.42696629213483145, 'acc': 0.745}}}}\n",
      "/workspace/dataset\n"
     ]
    },
    {
     "name": "stderr",
     "output_type": "stream",
     "text": [
      "/tmp/ipykernel_1571/3747505018.py:111: SettingWithCopyWarning: \n",
      "A value is trying to be set on a copy of a slice from a DataFrame.\n",
      "Try using .loc[row_indexer,col_indexer] = value instead\n",
      "\n",
      "See the caveats in the documentation: https://pandas.pydata.org/pandas-docs/stable/user_guide/indexing.html#returning-a-view-versus-a-copy\n",
      "  df['label'] = y_pred_test\n"
     ]
    }
   ],
   "source": [
    "%cd longsor\n",
    "get_f1_baseline_bencana('longsor')\n",
    "%cd .."
   ]
  },
  {
   "cell_type": "code",
   "execution_count": 5,
   "id": "33bd2c6e",
   "metadata": {},
   "outputs": [
    {
     "name": "stdout",
     "output_type": "stream",
     "text": [
      "/workspace/dataset/tsunami\n",
      "evaluasi pada bencana = tsunami\n",
      "/workspace/dataset\n",
      "Eksperimen pada bencana tsunami dengan representasi teks title_ori\n",
      "RANDOM FOREST\n",
      "Di train dapat performa \n",
      "Nilai Precision = 1.0\n",
      "Nilai Recall = 0.9956331877729258\n",
      "Nilai F1 = 0.9978118161925601\n",
      "Di test dapat performa\n",
      "Nilai Precision = 0.7142857142857143\n",
      "Nilai Recall = 0.5208333333333334\n",
      "Nilai F1 = 0.6024096385542168\n",
      "########\n",
      "LOGISTIK REGRESSION\n",
      "Di train dapat performa \n",
      "Nilai Precision = 1.0\n",
      "Nilai Recall = 0.9912663755458515\n",
      "Nilai F1 = 0.9956140350877193\n",
      "Di test dapat performa\n",
      "Nilai Precision = 0.7560975609756098\n",
      "Nilai Recall = 0.6458333333333334\n",
      "Nilai F1 = 0.6966292134831461\n",
      "########\n",
      "NAIVE BAYES\n",
      "Di train dapat performa \n",
      "Nilai Precision = 0.9196787148594378\n",
      "Nilai Recall = 1.0\n",
      "Nilai F1 = 0.9581589958158996\n",
      "Di test dapat performa\n",
      "Nilai Precision = 0.6491228070175439\n",
      "Nilai Recall = 0.7708333333333334\n",
      "Nilai F1 = 0.7047619047619048\n",
      "########\n",
      "MLP\n"
     ]
    },
    {
     "name": "stderr",
     "output_type": "stream",
     "text": [
      "/tmp/ipykernel_1571/3747505018.py:46: SettingWithCopyWarning: \n",
      "A value is trying to be set on a copy of a slice from a DataFrame.\n",
      "Try using .loc[row_indexer,col_indexer] = value instead\n",
      "\n",
      "See the caveats in the documentation: https://pandas.pydata.org/pandas-docs/stable/user_guide/indexing.html#returning-a-view-versus-a-copy\n",
      "  df['label'] = y_pred_test\n",
      "/tmp/ipykernel_1571/3747505018.py:65: SettingWithCopyWarning: \n",
      "A value is trying to be set on a copy of a slice from a DataFrame.\n",
      "Try using .loc[row_indexer,col_indexer] = value instead\n",
      "\n",
      "See the caveats in the documentation: https://pandas.pydata.org/pandas-docs/stable/user_guide/indexing.html#returning-a-view-versus-a-copy\n",
      "  df['label'] = y_pred_test\n",
      "/tmp/ipykernel_1571/3747505018.py:89: SettingWithCopyWarning: \n",
      "A value is trying to be set on a copy of a slice from a DataFrame.\n",
      "Try using .loc[row_indexer,col_indexer] = value instead\n",
      "\n",
      "See the caveats in the documentation: https://pandas.pydata.org/pandas-docs/stable/user_guide/indexing.html#returning-a-view-versus-a-copy\n",
      "  df['label'] = y_pred_test\n"
     ]
    },
    {
     "name": "stdout",
     "output_type": "stream",
     "text": [
      "Di train dapat performa \n",
      "Nilai Precision = 1.0\n",
      "Nilai Recall = 1.0\n",
      "Nilai F1 = 1.0\n",
      "Di test dapat performa\n",
      "Nilai Precision = 0.6595744680851063\n",
      "Nilai Recall = 0.6458333333333334\n",
      "Nilai F1 = 0.6526315789473683\n",
      "########\n",
      "/workspace/dataset/tsunami\n",
      "Rata-rata nilai test dengan Classifier rf, lr, dan nb adalah\n",
      "Precision = 0.7065020274262892\n",
      "Recall = 0.6458333333333334\n",
      "F1 = 0.6679335855997559\n",
      "\n",
      "\n",
      "/workspace/dataset\n",
      "Eksperimen pada bencana tsunami dengan representasi teks text_ori\n"
     ]
    },
    {
     "name": "stderr",
     "output_type": "stream",
     "text": [
      "/tmp/ipykernel_1571/3747505018.py:111: SettingWithCopyWarning: \n",
      "A value is trying to be set on a copy of a slice from a DataFrame.\n",
      "Try using .loc[row_indexer,col_indexer] = value instead\n",
      "\n",
      "See the caveats in the documentation: https://pandas.pydata.org/pandas-docs/stable/user_guide/indexing.html#returning-a-view-versus-a-copy\n",
      "  df['label'] = y_pred_test\n"
     ]
    },
    {
     "name": "stdout",
     "output_type": "stream",
     "text": [
      "RANDOM FOREST\n",
      "Di train dapat performa \n",
      "Nilai Precision = 1.0\n",
      "Nilai Recall = 1.0\n",
      "Nilai F1 = 1.0\n",
      "Di test dapat performa\n",
      "Nilai Precision = 0.8421052631578947\n",
      "Nilai Recall = 0.3333333333333333\n",
      "Nilai F1 = 0.4776119402985075\n",
      "########\n",
      "LOGISTIK REGRESSION\n"
     ]
    },
    {
     "name": "stderr",
     "output_type": "stream",
     "text": [
      "/tmp/ipykernel_1571/3747505018.py:46: SettingWithCopyWarning: \n",
      "A value is trying to be set on a copy of a slice from a DataFrame.\n",
      "Try using .loc[row_indexer,col_indexer] = value instead\n",
      "\n",
      "See the caveats in the documentation: https://pandas.pydata.org/pandas-docs/stable/user_guide/indexing.html#returning-a-view-versus-a-copy\n",
      "  df['label'] = y_pred_test\n",
      "/opt/conda/lib/python3.8/site-packages/sklearn/linear_model/_logistic.py:458: ConvergenceWarning: lbfgs failed to converge (status=1):\n",
      "STOP: TOTAL NO. of ITERATIONS REACHED LIMIT.\n",
      "\n",
      "Increase the number of iterations (max_iter) or scale the data as shown in:\n",
      "    https://scikit-learn.org/stable/modules/preprocessing.html\n",
      "Please also refer to the documentation for alternative solver options:\n",
      "    https://scikit-learn.org/stable/modules/linear_model.html#logistic-regression\n",
      "  n_iter_i = _check_optimize_result(\n",
      "/tmp/ipykernel_1571/3747505018.py:65: SettingWithCopyWarning: \n",
      "A value is trying to be set on a copy of a slice from a DataFrame.\n",
      "Try using .loc[row_indexer,col_indexer] = value instead\n",
      "\n",
      "See the caveats in the documentation: https://pandas.pydata.org/pandas-docs/stable/user_guide/indexing.html#returning-a-view-versus-a-copy\n",
      "  df['label'] = y_pred_test\n"
     ]
    },
    {
     "name": "stdout",
     "output_type": "stream",
     "text": [
      "Di train dapat performa \n",
      "Nilai Precision = 1.0\n",
      "Nilai Recall = 1.0\n",
      "Nilai F1 = 1.0\n",
      "Di test dapat performa\n",
      "Nilai Precision = 0.7346938775510204\n",
      "Nilai Recall = 0.75\n",
      "Nilai F1 = 0.7422680412371135\n",
      "########\n",
      "NAIVE BAYES\n",
      "Di train dapat performa \n",
      "Nilai Precision = 0.9744680851063829\n",
      "Nilai Recall = 1.0\n",
      "Nilai F1 = 0.9870689655172413\n",
      "Di test dapat performa\n",
      "Nilai Precision = 0.7446808510638298\n",
      "Nilai Recall = 0.7291666666666666\n",
      "Nilai F1 = 0.7368421052631579\n",
      "########\n",
      "MLP\n"
     ]
    },
    {
     "name": "stderr",
     "output_type": "stream",
     "text": [
      "/tmp/ipykernel_1571/3747505018.py:89: SettingWithCopyWarning: \n",
      "A value is trying to be set on a copy of a slice from a DataFrame.\n",
      "Try using .loc[row_indexer,col_indexer] = value instead\n",
      "\n",
      "See the caveats in the documentation: https://pandas.pydata.org/pandas-docs/stable/user_guide/indexing.html#returning-a-view-versus-a-copy\n",
      "  df['label'] = y_pred_test\n"
     ]
    },
    {
     "name": "stdout",
     "output_type": "stream",
     "text": [
      "Di train dapat performa \n",
      "Nilai Precision = 1.0\n",
      "Nilai Recall = 1.0\n",
      "Nilai F1 = 1.0\n",
      "Di test dapat performa\n",
      "Nilai Precision = 0.6575342465753424\n",
      "Nilai Recall = 1.0\n",
      "Nilai F1 = 0.7933884297520661\n",
      "########\n",
      "/workspace/dataset/tsunami\n",
      "Rata-rata nilai test dengan Classifier rf, lr, dan nb adalah\n",
      "Precision = 0.7738266639242483\n",
      "Recall = 0.6041666666666666\n",
      "F1 = 0.652240695599593\n"
     ]
    },
    {
     "name": "stderr",
     "output_type": "stream",
     "text": [
      "/tmp/ipykernel_1571/3747505018.py:111: SettingWithCopyWarning: \n",
      "A value is trying to be set on a copy of a slice from a DataFrame.\n",
      "Try using .loc[row_indexer,col_indexer] = value instead\n",
      "\n",
      "See the caveats in the documentation: https://pandas.pydata.org/pandas-docs/stable/user_guide/indexing.html#returning-a-view-versus-a-copy\n",
      "  df['label'] = y_pred_test\n"
     ]
    },
    {
     "name": "stdout",
     "output_type": "stream",
     "text": [
      "\n",
      "\n",
      "/workspace/dataset\n",
      "Eksperimen pada bencana tsunami dengan representasi teks tc_ori\n",
      "RANDOM FOREST\n",
      "Di train dapat performa \n",
      "Nilai Precision = 1.0\n",
      "Nilai Recall = 1.0\n",
      "Nilai F1 = 1.0\n",
      "Di test dapat performa\n",
      "Nilai Precision = 0.8636363636363636\n",
      "Nilai Recall = 0.3958333333333333\n",
      "Nilai F1 = 0.5428571428571428\n",
      "########\n",
      "LOGISTIK REGRESSION\n"
     ]
    },
    {
     "name": "stderr",
     "output_type": "stream",
     "text": [
      "/tmp/ipykernel_1571/3747505018.py:46: SettingWithCopyWarning: \n",
      "A value is trying to be set on a copy of a slice from a DataFrame.\n",
      "Try using .loc[row_indexer,col_indexer] = value instead\n",
      "\n",
      "See the caveats in the documentation: https://pandas.pydata.org/pandas-docs/stable/user_guide/indexing.html#returning-a-view-versus-a-copy\n",
      "  df['label'] = y_pred_test\n",
      "/opt/conda/lib/python3.8/site-packages/sklearn/linear_model/_logistic.py:458: ConvergenceWarning: lbfgs failed to converge (status=1):\n",
      "STOP: TOTAL NO. of ITERATIONS REACHED LIMIT.\n",
      "\n",
      "Increase the number of iterations (max_iter) or scale the data as shown in:\n",
      "    https://scikit-learn.org/stable/modules/preprocessing.html\n",
      "Please also refer to the documentation for alternative solver options:\n",
      "    https://scikit-learn.org/stable/modules/linear_model.html#logistic-regression\n",
      "  n_iter_i = _check_optimize_result(\n",
      "/tmp/ipykernel_1571/3747505018.py:65: SettingWithCopyWarning: \n",
      "A value is trying to be set on a copy of a slice from a DataFrame.\n",
      "Try using .loc[row_indexer,col_indexer] = value instead\n",
      "\n",
      "See the caveats in the documentation: https://pandas.pydata.org/pandas-docs/stable/user_guide/indexing.html#returning-a-view-versus-a-copy\n",
      "  df['label'] = y_pred_test\n"
     ]
    },
    {
     "name": "stdout",
     "output_type": "stream",
     "text": [
      "Di train dapat performa \n",
      "Nilai Precision = 1.0\n",
      "Nilai Recall = 1.0\n",
      "Nilai F1 = 1.0\n",
      "Di test dapat performa\n",
      "Nilai Precision = 0.75\n",
      "Nilai Recall = 0.8125\n",
      "Nilai F1 = 0.78\n",
      "########\n",
      "NAIVE BAYES\n",
      "Di train dapat performa \n",
      "Nilai Precision = 0.9786324786324786\n",
      "Nilai Recall = 1.0\n",
      "Nilai F1 = 0.9892008639308855\n",
      "Di test dapat performa\n",
      "Nilai Precision = 0.7551020408163265\n",
      "Nilai Recall = 0.7708333333333334\n",
      "Nilai F1 = 0.7628865979381444\n",
      "########\n",
      "MLP\n"
     ]
    },
    {
     "name": "stderr",
     "output_type": "stream",
     "text": [
      "/tmp/ipykernel_1571/3747505018.py:89: SettingWithCopyWarning: \n",
      "A value is trying to be set on a copy of a slice from a DataFrame.\n",
      "Try using .loc[row_indexer,col_indexer] = value instead\n",
      "\n",
      "See the caveats in the documentation: https://pandas.pydata.org/pandas-docs/stable/user_guide/indexing.html#returning-a-view-versus-a-copy\n",
      "  df['label'] = y_pred_test\n"
     ]
    },
    {
     "name": "stdout",
     "output_type": "stream",
     "text": [
      "Di train dapat performa \n",
      "Nilai Precision = 1.0\n",
      "Nilai Recall = 1.0\n",
      "Nilai F1 = 1.0\n",
      "Di test dapat performa\n",
      "Nilai Precision = 0.7627118644067796\n",
      "Nilai Recall = 0.9375\n",
      "Nilai F1 = 0.8411214953271028\n",
      "########\n",
      "/workspace/dataset/tsunami\n",
      "Rata-rata nilai test dengan Classifier rf, lr, dan nb adalah\n",
      "Precision = 0.7895794681508969\n",
      "Recall = 0.6597222222222222\n",
      "F1 = 0.6952479135984291\n",
      "\n",
      "\n",
      "/workspace/dataset\n",
      "Eksperimen pada bencana tsunami dengan representasi teks filter_word_tc\n"
     ]
    },
    {
     "name": "stderr",
     "output_type": "stream",
     "text": [
      "/tmp/ipykernel_1571/3747505018.py:111: SettingWithCopyWarning: \n",
      "A value is trying to be set on a copy of a slice from a DataFrame.\n",
      "Try using .loc[row_indexer,col_indexer] = value instead\n",
      "\n",
      "See the caveats in the documentation: https://pandas.pydata.org/pandas-docs/stable/user_guide/indexing.html#returning-a-view-versus-a-copy\n",
      "  df['label'] = y_pred_test\n"
     ]
    },
    {
     "name": "stdout",
     "output_type": "stream",
     "text": [
      "RANDOM FOREST\n",
      "Di train dapat performa \n",
      "Nilai Precision = 1.0\n",
      "Nilai Recall = 1.0\n",
      "Nilai F1 = 1.0\n",
      "Di test dapat performa\n",
      "Nilai Precision = 0.8846153846153846\n",
      "Nilai Recall = 0.4791666666666667\n",
      "Nilai F1 = 0.6216216216216216\n",
      "########\n",
      "LOGISTIK REGRESSION\n"
     ]
    },
    {
     "name": "stderr",
     "output_type": "stream",
     "text": [
      "/tmp/ipykernel_1571/3747505018.py:46: SettingWithCopyWarning: \n",
      "A value is trying to be set on a copy of a slice from a DataFrame.\n",
      "Try using .loc[row_indexer,col_indexer] = value instead\n",
      "\n",
      "See the caveats in the documentation: https://pandas.pydata.org/pandas-docs/stable/user_guide/indexing.html#returning-a-view-versus-a-copy\n",
      "  df['label'] = y_pred_test\n"
     ]
    },
    {
     "name": "stdout",
     "output_type": "stream",
     "text": [
      "Di train dapat performa \n",
      "Nilai Precision = 1.0\n",
      "Nilai Recall = 1.0\n",
      "Nilai F1 = 1.0\n",
      "Di test dapat performa\n",
      "Nilai Precision = 0.7941176470588235\n",
      "Nilai Recall = 0.5625\n",
      "Nilai F1 = 0.6585365853658537\n",
      "########\n",
      "NAIVE BAYES\n"
     ]
    },
    {
     "name": "stderr",
     "output_type": "stream",
     "text": [
      "/tmp/ipykernel_1571/3747505018.py:65: SettingWithCopyWarning: \n",
      "A value is trying to be set on a copy of a slice from a DataFrame.\n",
      "Try using .loc[row_indexer,col_indexer] = value instead\n",
      "\n",
      "See the caveats in the documentation: https://pandas.pydata.org/pandas-docs/stable/user_guide/indexing.html#returning-a-view-versus-a-copy\n",
      "  df['label'] = y_pred_test\n"
     ]
    },
    {
     "name": "stdout",
     "output_type": "stream",
     "text": [
      "Di train dapat performa \n",
      "Nilai Precision = 0.9338842975206612\n",
      "Nilai Recall = 0.9868995633187773\n",
      "Nilai F1 = 0.9596602972399151\n",
      "Di test dapat performa\n",
      "Nilai Precision = 0.6666666666666666\n",
      "Nilai Recall = 0.8333333333333334\n",
      "Nilai F1 = 0.7407407407407408\n",
      "########\n",
      "MLP\n"
     ]
    },
    {
     "name": "stderr",
     "output_type": "stream",
     "text": [
      "/tmp/ipykernel_1571/3747505018.py:89: SettingWithCopyWarning: \n",
      "A value is trying to be set on a copy of a slice from a DataFrame.\n",
      "Try using .loc[row_indexer,col_indexer] = value instead\n",
      "\n",
      "See the caveats in the documentation: https://pandas.pydata.org/pandas-docs/stable/user_guide/indexing.html#returning-a-view-versus-a-copy\n",
      "  df['label'] = y_pred_test\n"
     ]
    },
    {
     "name": "stdout",
     "output_type": "stream",
     "text": [
      "Di train dapat performa \n",
      "Nilai Precision = 1.0\n",
      "Nilai Recall = 1.0\n",
      "Nilai F1 = 1.0\n",
      "Di test dapat performa\n",
      "Nilai Precision = 0.7586206896551724\n",
      "Nilai Recall = 0.4583333333333333\n",
      "Nilai F1 = 0.5714285714285715\n",
      "########\n",
      "/workspace/dataset/tsunami\n",
      "Rata-rata nilai test dengan Classifier rf, lr, dan nb adalah\n",
      "Precision = 0.7817998994469582\n",
      "Recall = 0.625\n",
      "F1 = 0.6736329825760721\n"
     ]
    },
    {
     "name": "stderr",
     "output_type": "stream",
     "text": [
      "/tmp/ipykernel_1571/3747505018.py:111: SettingWithCopyWarning: \n",
      "A value is trying to be set on a copy of a slice from a DataFrame.\n",
      "Try using .loc[row_indexer,col_indexer] = value instead\n",
      "\n",
      "See the caveats in the documentation: https://pandas.pydata.org/pandas-docs/stable/user_guide/indexing.html#returning-a-view-versus-a-copy\n",
      "  df['label'] = y_pred_test\n"
     ]
    },
    {
     "name": "stdout",
     "output_type": "stream",
     "text": [
      "\n",
      "\n",
      "/workspace/dataset\n",
      "Eksperimen pada bencana tsunami dengan representasi teks filter_word_tc_window\n",
      "RANDOM FOREST\n",
      "Di train dapat performa \n",
      "Nilai Precision = 1.0\n",
      "Nilai Recall = 1.0\n",
      "Nilai F1 = 1.0\n",
      "Di test dapat performa\n",
      "Nilai Precision = 0.8571428571428571\n",
      "Nilai Recall = 0.5\n",
      "Nilai F1 = 0.631578947368421\n",
      "########\n",
      "LOGISTIK REGRESSION\n"
     ]
    },
    {
     "name": "stderr",
     "output_type": "stream",
     "text": [
      "/tmp/ipykernel_1571/3747505018.py:46: SettingWithCopyWarning: \n",
      "A value is trying to be set on a copy of a slice from a DataFrame.\n",
      "Try using .loc[row_indexer,col_indexer] = value instead\n",
      "\n",
      "See the caveats in the documentation: https://pandas.pydata.org/pandas-docs/stable/user_guide/indexing.html#returning-a-view-versus-a-copy\n",
      "  df['label'] = y_pred_test\n"
     ]
    },
    {
     "name": "stdout",
     "output_type": "stream",
     "text": [
      "Di train dapat performa \n",
      "Nilai Precision = 1.0\n",
      "Nilai Recall = 1.0\n",
      "Nilai F1 = 1.0\n",
      "Di test dapat performa\n",
      "Nilai Precision = 0.7272727272727273\n",
      "Nilai Recall = 0.6666666666666666\n",
      "Nilai F1 = 0.6956521739130435\n",
      "########\n",
      "NAIVE BAYES\n"
     ]
    },
    {
     "name": "stderr",
     "output_type": "stream",
     "text": [
      "/tmp/ipykernel_1571/3747505018.py:65: SettingWithCopyWarning: \n",
      "A value is trying to be set on a copy of a slice from a DataFrame.\n",
      "Try using .loc[row_indexer,col_indexer] = value instead\n",
      "\n",
      "See the caveats in the documentation: https://pandas.pydata.org/pandas-docs/stable/user_guide/indexing.html#returning-a-view-versus-a-copy\n",
      "  df['label'] = y_pred_test\n"
     ]
    },
    {
     "name": "stdout",
     "output_type": "stream",
     "text": [
      "Di train dapat performa \n",
      "Nilai Precision = 0.9497907949790795\n",
      "Nilai Recall = 0.9912663755458515\n",
      "Nilai F1 = 0.9700854700854701\n",
      "Di test dapat performa\n",
      "Nilai Precision = 0.671875\n",
      "Nilai Recall = 0.8958333333333334\n",
      "Nilai F1 = 0.7678571428571428\n",
      "########\n",
      "MLP\n"
     ]
    },
    {
     "name": "stderr",
     "output_type": "stream",
     "text": [
      "/tmp/ipykernel_1571/3747505018.py:89: SettingWithCopyWarning: \n",
      "A value is trying to be set on a copy of a slice from a DataFrame.\n",
      "Try using .loc[row_indexer,col_indexer] = value instead\n",
      "\n",
      "See the caveats in the documentation: https://pandas.pydata.org/pandas-docs/stable/user_guide/indexing.html#returning-a-view-versus-a-copy\n",
      "  df['label'] = y_pred_test\n"
     ]
    },
    {
     "name": "stdout",
     "output_type": "stream",
     "text": [
      "Di train dapat performa \n",
      "Nilai Precision = 1.0\n",
      "Nilai Recall = 1.0\n",
      "Nilai F1 = 1.0\n",
      "Di test dapat performa\n",
      "Nilai Precision = 0.8064516129032258\n",
      "Nilai Recall = 0.5208333333333334\n",
      "Nilai F1 = 0.6329113924050633\n",
      "########\n",
      "/workspace/dataset/tsunami\n",
      "Rata-rata nilai test dengan Classifier rf, lr, dan nb adalah\n",
      "Precision = 0.7520968614718614\n",
      "Recall = 0.6875\n",
      "F1 = 0.6983627547128691\n",
      "\n",
      "\n",
      "/workspace/dataset\n",
      "Eksperimen pada bencana tsunami dengan representasi teks trunc_first_short\n"
     ]
    },
    {
     "name": "stderr",
     "output_type": "stream",
     "text": [
      "/tmp/ipykernel_1571/3747505018.py:111: SettingWithCopyWarning: \n",
      "A value is trying to be set on a copy of a slice from a DataFrame.\n",
      "Try using .loc[row_indexer,col_indexer] = value instead\n",
      "\n",
      "See the caveats in the documentation: https://pandas.pydata.org/pandas-docs/stable/user_guide/indexing.html#returning-a-view-versus-a-copy\n",
      "  df['label'] = y_pred_test\n"
     ]
    },
    {
     "name": "stdout",
     "output_type": "stream",
     "text": [
      "RANDOM FOREST\n",
      "Di train dapat performa \n",
      "Nilai Precision = 1.0\n",
      "Nilai Recall = 1.0\n",
      "Nilai F1 = 1.0\n",
      "Di test dapat performa\n",
      "Nilai Precision = 0.8125\n",
      "Nilai Recall = 0.5416666666666666\n",
      "Nilai F1 = 0.65\n",
      "########\n",
      "LOGISTIK REGRESSION\n"
     ]
    },
    {
     "name": "stderr",
     "output_type": "stream",
     "text": [
      "/tmp/ipykernel_1571/3747505018.py:46: SettingWithCopyWarning: \n",
      "A value is trying to be set on a copy of a slice from a DataFrame.\n",
      "Try using .loc[row_indexer,col_indexer] = value instead\n",
      "\n",
      "See the caveats in the documentation: https://pandas.pydata.org/pandas-docs/stable/user_guide/indexing.html#returning-a-view-versus-a-copy\n",
      "  df['label'] = y_pred_test\n"
     ]
    },
    {
     "name": "stdout",
     "output_type": "stream",
     "text": [
      "Di train dapat performa \n",
      "Nilai Precision = 1.0\n",
      "Nilai Recall = 1.0\n",
      "Nilai F1 = 1.0\n",
      "Di test dapat performa\n",
      "Nilai Precision = 0.7333333333333333\n",
      "Nilai Recall = 0.6875\n",
      "Nilai F1 = 0.7096774193548386\n",
      "########\n",
      "NAIVE BAYES\n"
     ]
    },
    {
     "name": "stderr",
     "output_type": "stream",
     "text": [
      "/tmp/ipykernel_1571/3747505018.py:65: SettingWithCopyWarning: \n",
      "A value is trying to be set on a copy of a slice from a DataFrame.\n",
      "Try using .loc[row_indexer,col_indexer] = value instead\n",
      "\n",
      "See the caveats in the documentation: https://pandas.pydata.org/pandas-docs/stable/user_guide/indexing.html#returning-a-view-versus-a-copy\n",
      "  df['label'] = y_pred_test\n"
     ]
    },
    {
     "name": "stdout",
     "output_type": "stream",
     "text": [
      "Di train dapat performa \n",
      "Nilai Precision = 0.9661016949152542\n",
      "Nilai Recall = 0.9956331877729258\n",
      "Nilai F1 = 0.9806451612903225\n",
      "Di test dapat performa\n",
      "Nilai Precision = 0.782608695652174\n",
      "Nilai Recall = 0.75\n",
      "Nilai F1 = 0.7659574468085107\n",
      "########\n",
      "MLP\n"
     ]
    },
    {
     "name": "stderr",
     "output_type": "stream",
     "text": [
      "/tmp/ipykernel_1571/3747505018.py:89: SettingWithCopyWarning: \n",
      "A value is trying to be set on a copy of a slice from a DataFrame.\n",
      "Try using .loc[row_indexer,col_indexer] = value instead\n",
      "\n",
      "See the caveats in the documentation: https://pandas.pydata.org/pandas-docs/stable/user_guide/indexing.html#returning-a-view-versus-a-copy\n",
      "  df['label'] = y_pred_test\n"
     ]
    },
    {
     "name": "stdout",
     "output_type": "stream",
     "text": [
      "Di train dapat performa \n",
      "Nilai Precision = 1.0\n",
      "Nilai Recall = 1.0\n",
      "Nilai F1 = 1.0\n",
      "Di test dapat performa\n",
      "Nilai Precision = 0.7692307692307693\n",
      "Nilai Recall = 0.8333333333333334\n",
      "Nilai F1 = 0.8\n",
      "########\n",
      "/workspace/dataset/tsunami\n",
      "Rata-rata nilai test dengan Classifier rf, lr, dan nb adalah\n",
      "Precision = 0.7761473429951691\n",
      "Recall = 0.6597222222222222\n",
      "F1 = 0.7085449553877831\n",
      "\n",
      "\n",
      "/workspace/dataset\n",
      "Eksperimen pada bencana tsunami dengan representasi teks trunc_last_short\n"
     ]
    },
    {
     "name": "stderr",
     "output_type": "stream",
     "text": [
      "/tmp/ipykernel_1571/3747505018.py:111: SettingWithCopyWarning: \n",
      "A value is trying to be set on a copy of a slice from a DataFrame.\n",
      "Try using .loc[row_indexer,col_indexer] = value instead\n",
      "\n",
      "See the caveats in the documentation: https://pandas.pydata.org/pandas-docs/stable/user_guide/indexing.html#returning-a-view-versus-a-copy\n",
      "  df['label'] = y_pred_test\n"
     ]
    },
    {
     "name": "stdout",
     "output_type": "stream",
     "text": [
      "RANDOM FOREST\n",
      "Di train dapat performa \n",
      "Nilai Precision = 1.0\n",
      "Nilai Recall = 1.0\n",
      "Nilai F1 = 1.0\n",
      "Di test dapat performa\n",
      "Nilai Precision = 0.8888888888888888\n",
      "Nilai Recall = 0.3333333333333333\n",
      "Nilai F1 = 0.48484848484848486\n",
      "########\n",
      "LOGISTIK REGRESSION\n"
     ]
    },
    {
     "name": "stderr",
     "output_type": "stream",
     "text": [
      "/tmp/ipykernel_1571/3747505018.py:46: SettingWithCopyWarning: \n",
      "A value is trying to be set on a copy of a slice from a DataFrame.\n",
      "Try using .loc[row_indexer,col_indexer] = value instead\n",
      "\n",
      "See the caveats in the documentation: https://pandas.pydata.org/pandas-docs/stable/user_guide/indexing.html#returning-a-view-versus-a-copy\n",
      "  df['label'] = y_pred_test\n"
     ]
    },
    {
     "name": "stdout",
     "output_type": "stream",
     "text": [
      "Di train dapat performa \n",
      "Nilai Precision = 1.0\n",
      "Nilai Recall = 1.0\n",
      "Nilai F1 = 1.0\n",
      "Di test dapat performa\n",
      "Nilai Precision = 0.7027027027027027\n",
      "Nilai Recall = 0.5416666666666666\n",
      "Nilai F1 = 0.611764705882353\n",
      "########\n",
      "NAIVE BAYES\n"
     ]
    },
    {
     "name": "stderr",
     "output_type": "stream",
     "text": [
      "/tmp/ipykernel_1571/3747505018.py:65: SettingWithCopyWarning: \n",
      "A value is trying to be set on a copy of a slice from a DataFrame.\n",
      "Try using .loc[row_indexer,col_indexer] = value instead\n",
      "\n",
      "See the caveats in the documentation: https://pandas.pydata.org/pandas-docs/stable/user_guide/indexing.html#returning-a-view-versus-a-copy\n",
      "  df['label'] = y_pred_test\n"
     ]
    },
    {
     "name": "stdout",
     "output_type": "stream",
     "text": [
      "Di train dapat performa \n",
      "Nilai Precision = 0.9828326180257511\n",
      "Nilai Recall = 1.0\n",
      "Nilai F1 = 0.9913419913419913\n",
      "Di test dapat performa\n",
      "Nilai Precision = 0.8205128205128205\n",
      "Nilai Recall = 0.6666666666666666\n",
      "Nilai F1 = 0.7356321839080459\n",
      "########\n",
      "MLP\n"
     ]
    },
    {
     "name": "stderr",
     "output_type": "stream",
     "text": [
      "/tmp/ipykernel_1571/3747505018.py:89: SettingWithCopyWarning: \n",
      "A value is trying to be set on a copy of a slice from a DataFrame.\n",
      "Try using .loc[row_indexer,col_indexer] = value instead\n",
      "\n",
      "See the caveats in the documentation: https://pandas.pydata.org/pandas-docs/stable/user_guide/indexing.html#returning-a-view-versus-a-copy\n",
      "  df['label'] = y_pred_test\n"
     ]
    },
    {
     "name": "stdout",
     "output_type": "stream",
     "text": [
      "Di train dapat performa \n",
      "Nilai Precision = 1.0\n",
      "Nilai Recall = 1.0\n",
      "Nilai F1 = 1.0\n",
      "Di test dapat performa\n",
      "Nilai Precision = 0.813953488372093\n",
      "Nilai Recall = 0.7291666666666666\n",
      "Nilai F1 = 0.7692307692307692\n",
      "########\n",
      "/workspace/dataset/tsunami\n",
      "Rata-rata nilai test dengan Classifier rf, lr, dan nb adalah\n",
      "Precision = 0.8040348040348041\n",
      "Recall = 0.5138888888888888\n",
      "F1 = 0.6107484582129613\n",
      "\n",
      "\n",
      "/workspace/dataset\n",
      "Eksperimen pada bencana tsunami dengan representasi teks trunc_first_long\n"
     ]
    },
    {
     "name": "stderr",
     "output_type": "stream",
     "text": [
      "/tmp/ipykernel_1571/3747505018.py:111: SettingWithCopyWarning: \n",
      "A value is trying to be set on a copy of a slice from a DataFrame.\n",
      "Try using .loc[row_indexer,col_indexer] = value instead\n",
      "\n",
      "See the caveats in the documentation: https://pandas.pydata.org/pandas-docs/stable/user_guide/indexing.html#returning-a-view-versus-a-copy\n",
      "  df['label'] = y_pred_test\n"
     ]
    },
    {
     "name": "stdout",
     "output_type": "stream",
     "text": [
      "RANDOM FOREST\n",
      "Di train dapat performa \n",
      "Nilai Precision = 1.0\n",
      "Nilai Recall = 1.0\n",
      "Nilai F1 = 1.0\n",
      "Di test dapat performa\n",
      "Nilai Precision = 0.8064516129032258\n",
      "Nilai Recall = 0.5208333333333334\n",
      "Nilai F1 = 0.6329113924050633\n",
      "########\n",
      "LOGISTIK REGRESSION\n"
     ]
    },
    {
     "name": "stderr",
     "output_type": "stream",
     "text": [
      "/tmp/ipykernel_1571/3747505018.py:46: SettingWithCopyWarning: \n",
      "A value is trying to be set on a copy of a slice from a DataFrame.\n",
      "Try using .loc[row_indexer,col_indexer] = value instead\n",
      "\n",
      "See the caveats in the documentation: https://pandas.pydata.org/pandas-docs/stable/user_guide/indexing.html#returning-a-view-versus-a-copy\n",
      "  df['label'] = y_pred_test\n"
     ]
    },
    {
     "name": "stdout",
     "output_type": "stream",
     "text": [
      "Di train dapat performa \n",
      "Nilai Precision = 1.0\n",
      "Nilai Recall = 1.0\n",
      "Nilai F1 = 1.0\n",
      "Di test dapat performa\n",
      "Nilai Precision = 0.7346938775510204\n",
      "Nilai Recall = 0.75\n",
      "Nilai F1 = 0.7422680412371135\n",
      "########\n",
      "NAIVE BAYES\n"
     ]
    },
    {
     "name": "stderr",
     "output_type": "stream",
     "text": [
      "/tmp/ipykernel_1571/3747505018.py:65: SettingWithCopyWarning: \n",
      "A value is trying to be set on a copy of a slice from a DataFrame.\n",
      "Try using .loc[row_indexer,col_indexer] = value instead\n",
      "\n",
      "See the caveats in the documentation: https://pandas.pydata.org/pandas-docs/stable/user_guide/indexing.html#returning-a-view-versus-a-copy\n",
      "  df['label'] = y_pred_test\n"
     ]
    },
    {
     "name": "stdout",
     "output_type": "stream",
     "text": [
      "Di train dapat performa \n",
      "Nilai Precision = 0.987012987012987\n",
      "Nilai Recall = 0.9956331877729258\n",
      "Nilai F1 = 0.991304347826087\n",
      "Di test dapat performa\n",
      "Nilai Precision = 0.75\n",
      "Nilai Recall = 0.6875\n",
      "Nilai F1 = 0.717391304347826\n",
      "########\n",
      "MLP\n"
     ]
    },
    {
     "name": "stderr",
     "output_type": "stream",
     "text": [
      "/tmp/ipykernel_1571/3747505018.py:89: SettingWithCopyWarning: \n",
      "A value is trying to be set on a copy of a slice from a DataFrame.\n",
      "Try using .loc[row_indexer,col_indexer] = value instead\n",
      "\n",
      "See the caveats in the documentation: https://pandas.pydata.org/pandas-docs/stable/user_guide/indexing.html#returning-a-view-versus-a-copy\n",
      "  df['label'] = y_pred_test\n"
     ]
    },
    {
     "name": "stdout",
     "output_type": "stream",
     "text": [
      "Di train dapat performa \n",
      "Nilai Precision = 1.0\n",
      "Nilai Recall = 1.0\n",
      "Nilai F1 = 1.0\n",
      "Di test dapat performa\n",
      "Nilai Precision = 0.7884615384615384\n",
      "Nilai Recall = 0.8541666666666666\n",
      "Nilai F1 = 0.8200000000000001\n",
      "########\n",
      "/workspace/dataset/tsunami\n",
      "Rata-rata nilai test dengan Classifier rf, lr, dan nb adalah\n",
      "Precision = 0.7637151634847488\n",
      "Recall = 0.6527777777777778\n",
      "F1 = 0.6975235793300011\n",
      "\n",
      "\n",
      "/workspace/dataset\n",
      "Eksperimen pada bencana tsunami dengan representasi teks trunc_last_long\n"
     ]
    },
    {
     "name": "stderr",
     "output_type": "stream",
     "text": [
      "/tmp/ipykernel_1571/3747505018.py:111: SettingWithCopyWarning: \n",
      "A value is trying to be set on a copy of a slice from a DataFrame.\n",
      "Try using .loc[row_indexer,col_indexer] = value instead\n",
      "\n",
      "See the caveats in the documentation: https://pandas.pydata.org/pandas-docs/stable/user_guide/indexing.html#returning-a-view-versus-a-copy\n",
      "  df['label'] = y_pred_test\n"
     ]
    },
    {
     "name": "stdout",
     "output_type": "stream",
     "text": [
      "RANDOM FOREST\n",
      "Di train dapat performa \n",
      "Nilai Precision = 1.0\n",
      "Nilai Recall = 1.0\n",
      "Nilai F1 = 1.0\n",
      "Di test dapat performa\n",
      "Nilai Precision = 0.7777777777777778\n",
      "Nilai Recall = 0.2916666666666667\n",
      "Nilai F1 = 0.42424242424242425\n",
      "########\n",
      "LOGISTIK REGRESSION\n"
     ]
    },
    {
     "name": "stderr",
     "output_type": "stream",
     "text": [
      "/tmp/ipykernel_1571/3747505018.py:46: SettingWithCopyWarning: \n",
      "A value is trying to be set on a copy of a slice from a DataFrame.\n",
      "Try using .loc[row_indexer,col_indexer] = value instead\n",
      "\n",
      "See the caveats in the documentation: https://pandas.pydata.org/pandas-docs/stable/user_guide/indexing.html#returning-a-view-versus-a-copy\n",
      "  df['label'] = y_pred_test\n"
     ]
    },
    {
     "name": "stdout",
     "output_type": "stream",
     "text": [
      "Di train dapat performa \n",
      "Nilai Precision = 1.0\n",
      "Nilai Recall = 1.0\n",
      "Nilai F1 = 1.0\n",
      "Di test dapat performa\n",
      "Nilai Precision = 0.7297297297297297\n",
      "Nilai Recall = 0.5625\n",
      "Nilai F1 = 0.6352941176470588\n",
      "########\n",
      "NAIVE BAYES\n"
     ]
    },
    {
     "name": "stderr",
     "output_type": "stream",
     "text": [
      "/tmp/ipykernel_1571/3747505018.py:65: SettingWithCopyWarning: \n",
      "A value is trying to be set on a copy of a slice from a DataFrame.\n",
      "Try using .loc[row_indexer,col_indexer] = value instead\n",
      "\n",
      "See the caveats in the documentation: https://pandas.pydata.org/pandas-docs/stable/user_guide/indexing.html#returning-a-view-versus-a-copy\n",
      "  df['label'] = y_pred_test\n"
     ]
    },
    {
     "name": "stdout",
     "output_type": "stream",
     "text": [
      "Di train dapat performa \n",
      "Nilai Precision = 0.9827586206896551\n",
      "Nilai Recall = 0.9956331877729258\n",
      "Nilai F1 = 0.9891540130151844\n",
      "Di test dapat performa\n",
      "Nilai Precision = 0.75\n",
      "Nilai Recall = 0.6875\n",
      "Nilai F1 = 0.717391304347826\n",
      "########\n",
      "MLP\n"
     ]
    },
    {
     "name": "stderr",
     "output_type": "stream",
     "text": [
      "/tmp/ipykernel_1571/3747505018.py:89: SettingWithCopyWarning: \n",
      "A value is trying to be set on a copy of a slice from a DataFrame.\n",
      "Try using .loc[row_indexer,col_indexer] = value instead\n",
      "\n",
      "See the caveats in the documentation: https://pandas.pydata.org/pandas-docs/stable/user_guide/indexing.html#returning-a-view-versus-a-copy\n",
      "  df['label'] = y_pred_test\n"
     ]
    },
    {
     "name": "stdout",
     "output_type": "stream",
     "text": [
      "Di train dapat performa \n",
      "Nilai Precision = 1.0\n",
      "Nilai Recall = 1.0\n",
      "Nilai F1 = 1.0\n",
      "Di test dapat performa\n",
      "Nilai Precision = 0.640625\n",
      "Nilai Recall = 0.8541666666666666\n",
      "Nilai F1 = 0.7321428571428571\n",
      "########\n",
      "/workspace/dataset/tsunami\n",
      "Rata-rata nilai test dengan Classifier rf, lr, dan nb adalah\n",
      "Precision = 0.7525025025025025\n",
      "Recall = 0.513888888888889\n",
      "F1 = 0.592309282079103\n",
      "\n",
      "\n",
      "/workspace/dataset\n",
      "Eksperimen pada bencana tsunami dengan representasi teks trunc_combination\n"
     ]
    },
    {
     "name": "stderr",
     "output_type": "stream",
     "text": [
      "/tmp/ipykernel_1571/3747505018.py:111: SettingWithCopyWarning: \n",
      "A value is trying to be set on a copy of a slice from a DataFrame.\n",
      "Try using .loc[row_indexer,col_indexer] = value instead\n",
      "\n",
      "See the caveats in the documentation: https://pandas.pydata.org/pandas-docs/stable/user_guide/indexing.html#returning-a-view-versus-a-copy\n",
      "  df['label'] = y_pred_test\n"
     ]
    },
    {
     "name": "stdout",
     "output_type": "stream",
     "text": [
      "RANDOM FOREST\n",
      "Di train dapat performa \n",
      "Nilai Precision = 1.0\n",
      "Nilai Recall = 1.0\n",
      "Nilai F1 = 1.0\n",
      "Di test dapat performa\n",
      "Nilai Precision = 0.9032258064516129\n",
      "Nilai Recall = 0.5833333333333334\n",
      "Nilai F1 = 0.7088607594936709\n",
      "########\n",
      "LOGISTIK REGRESSION\n"
     ]
    },
    {
     "name": "stderr",
     "output_type": "stream",
     "text": [
      "/tmp/ipykernel_1571/3747505018.py:46: SettingWithCopyWarning: \n",
      "A value is trying to be set on a copy of a slice from a DataFrame.\n",
      "Try using .loc[row_indexer,col_indexer] = value instead\n",
      "\n",
      "See the caveats in the documentation: https://pandas.pydata.org/pandas-docs/stable/user_guide/indexing.html#returning-a-view-versus-a-copy\n",
      "  df['label'] = y_pred_test\n"
     ]
    },
    {
     "name": "stdout",
     "output_type": "stream",
     "text": [
      "Di train dapat performa \n",
      "Nilai Precision = 1.0\n",
      "Nilai Recall = 1.0\n",
      "Nilai F1 = 1.0\n",
      "Di test dapat performa\n",
      "Nilai Precision = 0.813953488372093\n",
      "Nilai Recall = 0.7291666666666666\n",
      "Nilai F1 = 0.7692307692307692\n",
      "########\n",
      "NAIVE BAYES\n"
     ]
    },
    {
     "name": "stderr",
     "output_type": "stream",
     "text": [
      "/tmp/ipykernel_1571/3747505018.py:65: SettingWithCopyWarning: \n",
      "A value is trying to be set on a copy of a slice from a DataFrame.\n",
      "Try using .loc[row_indexer,col_indexer] = value instead\n",
      "\n",
      "See the caveats in the documentation: https://pandas.pydata.org/pandas-docs/stable/user_guide/indexing.html#returning-a-view-versus-a-copy\n",
      "  df['label'] = y_pred_test\n"
     ]
    },
    {
     "name": "stdout",
     "output_type": "stream",
     "text": [
      "Di train dapat performa \n",
      "Nilai Precision = 0.9870689655172413\n",
      "Nilai Recall = 1.0\n",
      "Nilai F1 = 0.9934924078091106\n",
      "Di test dapat performa\n",
      "Nilai Precision = 0.8181818181818182\n",
      "Nilai Recall = 0.75\n",
      "Nilai F1 = 0.7826086956521738\n",
      "########\n",
      "MLP\n"
     ]
    },
    {
     "name": "stderr",
     "output_type": "stream",
     "text": [
      "/tmp/ipykernel_1571/3747505018.py:89: SettingWithCopyWarning: \n",
      "A value is trying to be set on a copy of a slice from a DataFrame.\n",
      "Try using .loc[row_indexer,col_indexer] = value instead\n",
      "\n",
      "See the caveats in the documentation: https://pandas.pydata.org/pandas-docs/stable/user_guide/indexing.html#returning-a-view-versus-a-copy\n",
      "  df['label'] = y_pred_test\n"
     ]
    },
    {
     "name": "stdout",
     "output_type": "stream",
     "text": [
      "Di train dapat performa \n",
      "Nilai Precision = 1.0\n",
      "Nilai Recall = 1.0\n",
      "Nilai F1 = 1.0\n",
      "Di test dapat performa\n",
      "Nilai Precision = 0.7678571428571429\n",
      "Nilai Recall = 0.8958333333333334\n",
      "Nilai F1 = 0.8269230769230769\n",
      "########\n",
      "/workspace/dataset/tsunami\n",
      "Rata-rata nilai test dengan Classifier rf, lr, dan nb adalah\n",
      "Precision = 0.8451203710018413\n",
      "Recall = 0.6875\n",
      "F1 = 0.7535667414588714\n",
      "\n",
      "\n",
      "/workspace/dataset"
     ]
    },
    {
     "name": "stderr",
     "output_type": "stream",
     "text": [
      "/tmp/ipykernel_1571/3747505018.py:111: SettingWithCopyWarning: \n",
      "A value is trying to be set on a copy of a slice from a DataFrame.\n",
      "Try using .loc[row_indexer,col_indexer] = value instead\n",
      "\n",
      "See the caveats in the documentation: https://pandas.pydata.org/pandas-docs/stable/user_guide/indexing.html#returning-a-view-versus-a-copy\n",
      "  df['label'] = y_pred_test\n"
     ]
    },
    {
     "name": "stdout",
     "output_type": "stream",
     "text": [
      "\n",
      "Eksperimen pada bencana tsunami dengan representasi teks textrank\n",
      "RANDOM FOREST\n",
      "Di train dapat performa \n",
      "Nilai Precision = 1.0\n",
      "Nilai Recall = 1.0\n",
      "Nilai F1 = 1.0\n",
      "Di test dapat performa\n",
      "Nilai Precision = 0.8095238095238095\n",
      "Nilai Recall = 0.3541666666666667\n",
      "Nilai F1 = 0.4927536231884058\n",
      "########\n",
      "LOGISTIK REGRESSION\n"
     ]
    },
    {
     "name": "stderr",
     "output_type": "stream",
     "text": [
      "/tmp/ipykernel_1571/3747505018.py:46: SettingWithCopyWarning: \n",
      "A value is trying to be set on a copy of a slice from a DataFrame.\n",
      "Try using .loc[row_indexer,col_indexer] = value instead\n",
      "\n",
      "See the caveats in the documentation: https://pandas.pydata.org/pandas-docs/stable/user_guide/indexing.html#returning-a-view-versus-a-copy\n",
      "  df['label'] = y_pred_test\n"
     ]
    },
    {
     "name": "stdout",
     "output_type": "stream",
     "text": [
      "Di train dapat performa \n",
      "Nilai Precision = 1.0\n",
      "Nilai Recall = 1.0\n",
      "Nilai F1 = 1.0\n",
      "Di test dapat performa\n",
      "Nilai Precision = 0.6888888888888889\n",
      "Nilai Recall = 0.6458333333333334\n",
      "Nilai F1 = 0.6666666666666667\n",
      "########\n",
      "NAIVE BAYES\n"
     ]
    },
    {
     "name": "stderr",
     "output_type": "stream",
     "text": [
      "/tmp/ipykernel_1571/3747505018.py:65: SettingWithCopyWarning: \n",
      "A value is trying to be set on a copy of a slice from a DataFrame.\n",
      "Try using .loc[row_indexer,col_indexer] = value instead\n",
      "\n",
      "See the caveats in the documentation: https://pandas.pydata.org/pandas-docs/stable/user_guide/indexing.html#returning-a-view-versus-a-copy\n",
      "  df['label'] = y_pred_test\n"
     ]
    },
    {
     "name": "stdout",
     "output_type": "stream",
     "text": [
      "Di train dapat performa \n",
      "Nilai Precision = 0.9827586206896551\n",
      "Nilai Recall = 0.9956331877729258\n",
      "Nilai F1 = 0.9891540130151844\n",
      "Di test dapat performa\n",
      "Nilai Precision = 0.782608695652174\n",
      "Nilai Recall = 0.75\n",
      "Nilai F1 = 0.7659574468085107\n",
      "########\n",
      "MLP\n"
     ]
    },
    {
     "name": "stderr",
     "output_type": "stream",
     "text": [
      "/tmp/ipykernel_1571/3747505018.py:89: SettingWithCopyWarning: \n",
      "A value is trying to be set on a copy of a slice from a DataFrame.\n",
      "Try using .loc[row_indexer,col_indexer] = value instead\n",
      "\n",
      "See the caveats in the documentation: https://pandas.pydata.org/pandas-docs/stable/user_guide/indexing.html#returning-a-view-versus-a-copy\n",
      "  df['label'] = y_pred_test\n"
     ]
    },
    {
     "name": "stdout",
     "output_type": "stream",
     "text": [
      "Di train dapat performa \n",
      "Nilai Precision = 1.0\n",
      "Nilai Recall = 1.0\n",
      "Nilai F1 = 1.0\n",
      "Di test dapat performa\n",
      "Nilai Precision = 0.7608695652173914\n",
      "Nilai Recall = 0.7291666666666666\n",
      "Nilai F1 = 0.7446808510638298\n",
      "########\n",
      "/workspace/dataset/tsunami\n",
      "Rata-rata nilai test dengan Classifier rf, lr, dan nb adalah\n",
      "Precision = 0.7603404646882908\n",
      "Recall = 0.5833333333333334\n",
      "F1 = 0.641792578887861\n",
      "\n",
      "\n",
      "/workspace/dataset\n",
      "Eksperimen pada bencana tsunami dengan representasi teks sum_indobart\n"
     ]
    },
    {
     "name": "stderr",
     "output_type": "stream",
     "text": [
      "/tmp/ipykernel_1571/3747505018.py:111: SettingWithCopyWarning: \n",
      "A value is trying to be set on a copy of a slice from a DataFrame.\n",
      "Try using .loc[row_indexer,col_indexer] = value instead\n",
      "\n",
      "See the caveats in the documentation: https://pandas.pydata.org/pandas-docs/stable/user_guide/indexing.html#returning-a-view-versus-a-copy\n",
      "  df['label'] = y_pred_test\n"
     ]
    },
    {
     "name": "stdout",
     "output_type": "stream",
     "text": [
      "RANDOM FOREST\n",
      "Di train dapat performa \n",
      "Nilai Precision = 1.0\n",
      "Nilai Recall = 1.0\n",
      "Nilai F1 = 1.0\n",
      "Di test dapat performa\n",
      "Nilai Precision = 0.8275862068965517\n",
      "Nilai Recall = 0.5\n",
      "Nilai F1 = 0.6233766233766235\n",
      "########\n",
      "LOGISTIK REGRESSION\n"
     ]
    },
    {
     "name": "stderr",
     "output_type": "stream",
     "text": [
      "/tmp/ipykernel_1571/3747505018.py:46: SettingWithCopyWarning: \n",
      "A value is trying to be set on a copy of a slice from a DataFrame.\n",
      "Try using .loc[row_indexer,col_indexer] = value instead\n",
      "\n",
      "See the caveats in the documentation: https://pandas.pydata.org/pandas-docs/stable/user_guide/indexing.html#returning-a-view-versus-a-copy\n",
      "  df['label'] = y_pred_test\n"
     ]
    },
    {
     "name": "stdout",
     "output_type": "stream",
     "text": [
      "Di train dapat performa \n",
      "Nilai Precision = 1.0\n",
      "Nilai Recall = 1.0\n",
      "Nilai F1 = 1.0\n",
      "Di test dapat performa\n",
      "Nilai Precision = 0.7954545454545454\n",
      "Nilai Recall = 0.7291666666666666\n",
      "Nilai F1 = 0.7608695652173914\n",
      "########\n",
      "NAIVE BAYES\n"
     ]
    },
    {
     "name": "stderr",
     "output_type": "stream",
     "text": [
      "/tmp/ipykernel_1571/3747505018.py:65: SettingWithCopyWarning: \n",
      "A value is trying to be set on a copy of a slice from a DataFrame.\n",
      "Try using .loc[row_indexer,col_indexer] = value instead\n",
      "\n",
      "See the caveats in the documentation: https://pandas.pydata.org/pandas-docs/stable/user_guide/indexing.html#returning-a-view-versus-a-copy\n",
      "  df['label'] = y_pred_test\n",
      "/tmp/ipykernel_1571/3747505018.py:89: SettingWithCopyWarning: \n",
      "A value is trying to be set on a copy of a slice from a DataFrame.\n",
      "Try using .loc[row_indexer,col_indexer] = value instead\n",
      "\n",
      "See the caveats in the documentation: https://pandas.pydata.org/pandas-docs/stable/user_guide/indexing.html#returning-a-view-versus-a-copy\n",
      "  df['label'] = y_pred_test\n"
     ]
    },
    {
     "name": "stdout",
     "output_type": "stream",
     "text": [
      "Di train dapat performa \n",
      "Nilai Precision = 0.95\n",
      "Nilai Recall = 0.9956331877729258\n",
      "Nilai F1 = 0.9722814498933903\n",
      "Di test dapat performa\n",
      "Nilai Precision = 0.74\n",
      "Nilai Recall = 0.7708333333333334\n",
      "Nilai F1 = 0.7551020408163266\n",
      "########\n",
      "MLP\n",
      "Di train dapat performa \n",
      "Nilai Precision = 1.0\n",
      "Nilai Recall = 1.0\n",
      "Nilai F1 = 1.0\n",
      "Di test dapat performa\n",
      "Nilai Precision = 0.7551020408163265\n",
      "Nilai Recall = 0.7708333333333334\n",
      "Nilai F1 = 0.7628865979381444\n",
      "########\n",
      "/workspace/dataset/tsunami\n",
      "Rata-rata nilai test dengan Classifier rf, lr, dan nb adalah\n",
      "Precision = 0.787680250783699\n",
      "Recall = 0.6666666666666666\n",
      "F1 = 0.7131160764701138\n",
      "\n",
      "\n",
      "/workspace/dataset\n",
      "Eksperimen pada bencana tsunami dengan representasi teks sum_liputan6\n",
      "RANDOM FOREST\n"
     ]
    },
    {
     "name": "stderr",
     "output_type": "stream",
     "text": [
      "/tmp/ipykernel_1571/3747505018.py:111: SettingWithCopyWarning: \n",
      "A value is trying to be set on a copy of a slice from a DataFrame.\n",
      "Try using .loc[row_indexer,col_indexer] = value instead\n",
      "\n",
      "See the caveats in the documentation: https://pandas.pydata.org/pandas-docs/stable/user_guide/indexing.html#returning-a-view-versus-a-copy\n",
      "  df['label'] = y_pred_test\n"
     ]
    },
    {
     "name": "stdout",
     "output_type": "stream",
     "text": [
      "Di train dapat performa \n",
      "Nilai Precision = 1.0\n",
      "Nilai Recall = 1.0\n",
      "Nilai F1 = 1.0\n",
      "Di test dapat performa\n",
      "Nilai Precision = 0.75\n",
      "Nilai Recall = 0.5625\n",
      "Nilai F1 = 0.6428571428571429\n",
      "########\n",
      "LOGISTIK REGRESSION\n"
     ]
    },
    {
     "name": "stderr",
     "output_type": "stream",
     "text": [
      "/tmp/ipykernel_1571/3747505018.py:46: SettingWithCopyWarning: \n",
      "A value is trying to be set on a copy of a slice from a DataFrame.\n",
      "Try using .loc[row_indexer,col_indexer] = value instead\n",
      "\n",
      "See the caveats in the documentation: https://pandas.pydata.org/pandas-docs/stable/user_guide/indexing.html#returning-a-view-versus-a-copy\n",
      "  df['label'] = y_pred_test\n"
     ]
    },
    {
     "name": "stdout",
     "output_type": "stream",
     "text": [
      "Di train dapat performa \n",
      "Nilai Precision = 1.0\n",
      "Nilai Recall = 1.0\n",
      "Nilai F1 = 1.0\n",
      "Di test dapat performa\n",
      "Nilai Precision = 0.7555555555555555\n",
      "Nilai Recall = 0.7083333333333334\n",
      "Nilai F1 = 0.7311827956989247\n",
      "########\n",
      "NAIVE BAYES\n",
      "Di train dapat performa \n",
      "Nilai Precision = 0.946058091286307\n",
      "Nilai Recall = 0.9956331877729258\n",
      "Nilai F1 = 0.9702127659574469\n",
      "Di test dapat performa\n",
      "Nilai Precision = 0.7021276595744681\n",
      "Nilai Recall = 0.6875\n",
      "Nilai F1 = 0.6947368421052632\n",
      "########\n",
      "MLP\n"
     ]
    },
    {
     "name": "stderr",
     "output_type": "stream",
     "text": [
      "/tmp/ipykernel_1571/3747505018.py:65: SettingWithCopyWarning: \n",
      "A value is trying to be set on a copy of a slice from a DataFrame.\n",
      "Try using .loc[row_indexer,col_indexer] = value instead\n",
      "\n",
      "See the caveats in the documentation: https://pandas.pydata.org/pandas-docs/stable/user_guide/indexing.html#returning-a-view-versus-a-copy\n",
      "  df['label'] = y_pred_test\n",
      "/tmp/ipykernel_1571/3747505018.py:89: SettingWithCopyWarning: \n",
      "A value is trying to be set on a copy of a slice from a DataFrame.\n",
      "Try using .loc[row_indexer,col_indexer] = value instead\n",
      "\n",
      "See the caveats in the documentation: https://pandas.pydata.org/pandas-docs/stable/user_guide/indexing.html#returning-a-view-versus-a-copy\n",
      "  df['label'] = y_pred_test\n"
     ]
    },
    {
     "name": "stdout",
     "output_type": "stream",
     "text": [
      "Di train dapat performa \n",
      "Nilai Precision = 1.0\n",
      "Nilai Recall = 1.0\n",
      "Nilai F1 = 1.0\n",
      "Di test dapat performa\n",
      "Nilai Precision = 0.7209302325581395\n",
      "Nilai Recall = 0.6458333333333334\n",
      "Nilai F1 = 0.6813186813186812\n",
      "########\n",
      "/workspace/dataset/tsunami\n",
      "Rata-rata nilai test dengan Classifier rf, lr, dan nb adalah\n",
      "Precision = 0.7358944050433411\n",
      "Recall = 0.6527777777777778\n",
      "F1 = 0.6895922602204436\n",
      "\n",
      "\n",
      "/workspace/dataset\n",
      "Eksperimen pada bencana tsunami dengan representasi teks sum_pegasus\n",
      "RANDOM FOREST\n"
     ]
    },
    {
     "name": "stderr",
     "output_type": "stream",
     "text": [
      "/tmp/ipykernel_1571/3747505018.py:111: SettingWithCopyWarning: \n",
      "A value is trying to be set on a copy of a slice from a DataFrame.\n",
      "Try using .loc[row_indexer,col_indexer] = value instead\n",
      "\n",
      "See the caveats in the documentation: https://pandas.pydata.org/pandas-docs/stable/user_guide/indexing.html#returning-a-view-versus-a-copy\n",
      "  df['label'] = y_pred_test\n"
     ]
    },
    {
     "name": "stdout",
     "output_type": "stream",
     "text": [
      "Di train dapat performa \n",
      "Nilai Precision = 1.0\n",
      "Nilai Recall = 1.0\n",
      "Nilai F1 = 1.0\n",
      "Di test dapat performa\n",
      "Nilai Precision = 0.7391304347826086\n",
      "Nilai Recall = 0.3541666666666667\n",
      "Nilai F1 = 0.4788732394366197\n",
      "########\n",
      "LOGISTIK REGRESSION\n",
      "Di train dapat performa \n",
      "Nilai Precision = 1.0\n",
      "Nilai Recall = 1.0\n",
      "Nilai F1 = 1.0\n",
      "Di test dapat performa\n",
      "Nilai Precision = 0.696969696969697\n",
      "Nilai Recall = 0.4791666666666667\n",
      "Nilai F1 = 0.5679012345679013\n",
      "########\n",
      "NAIVE BAYES\n",
      "Di train dapat performa \n",
      "Nilai Precision = 0.9613733905579399\n",
      "Nilai Recall = 0.9781659388646288\n",
      "Nilai F1 = 0.9696969696969697\n",
      "Di test dapat performa\n",
      "Nilai Precision = 0.6808510638297872\n",
      "Nilai Recall = 0.6666666666666666\n",
      "Nilai F1 = 0.6736842105263158\n",
      "########\n",
      "MLP\n"
     ]
    },
    {
     "name": "stderr",
     "output_type": "stream",
     "text": [
      "/tmp/ipykernel_1571/3747505018.py:46: SettingWithCopyWarning: \n",
      "A value is trying to be set on a copy of a slice from a DataFrame.\n",
      "Try using .loc[row_indexer,col_indexer] = value instead\n",
      "\n",
      "See the caveats in the documentation: https://pandas.pydata.org/pandas-docs/stable/user_guide/indexing.html#returning-a-view-versus-a-copy\n",
      "  df['label'] = y_pred_test\n",
      "/tmp/ipykernel_1571/3747505018.py:65: SettingWithCopyWarning: \n",
      "A value is trying to be set on a copy of a slice from a DataFrame.\n",
      "Try using .loc[row_indexer,col_indexer] = value instead\n",
      "\n",
      "See the caveats in the documentation: https://pandas.pydata.org/pandas-docs/stable/user_guide/indexing.html#returning-a-view-versus-a-copy\n",
      "  df['label'] = y_pred_test\n",
      "/tmp/ipykernel_1571/3747505018.py:89: SettingWithCopyWarning: \n",
      "A value is trying to be set on a copy of a slice from a DataFrame.\n",
      "Try using .loc[row_indexer,col_indexer] = value instead\n",
      "\n",
      "See the caveats in the documentation: https://pandas.pydata.org/pandas-docs/stable/user_guide/indexing.html#returning-a-view-versus-a-copy\n",
      "  df['label'] = y_pred_test\n"
     ]
    },
    {
     "name": "stdout",
     "output_type": "stream",
     "text": [
      "Di train dapat performa \n",
      "Nilai Precision = 1.0\n",
      "Nilai Recall = 1.0\n",
      "Nilai F1 = 1.0\n",
      "Di test dapat performa\n",
      "Nilai Precision = 0.6458333333333334\n",
      "Nilai Recall = 0.6458333333333334\n",
      "Nilai F1 = 0.6458333333333334\n",
      "########\n",
      "/workspace/dataset/tsunami\n",
      "Rata-rata nilai test dengan Classifier rf, lr, dan nb adalah\n",
      "Precision = 0.7056503985273643\n",
      "Recall = 0.5\n",
      "F1 = 0.5734862281769456\n",
      "\n",
      "\n",
      "************************************************************\n",
      "{'tsunami': {'title_ori': {'rf': {'prec': 0.7142857142857143, 'rec': 0.5208333333333334, 'f1': 0.6024096385542168, 'acc': 0.835}, 'lr': {'prec': 0.7560975609756098, 'rec': 0.6458333333333334, 'f1': 0.6966292134831461, 'acc': 0.865}, 'mnb': {'prec': 0.6491228070175439, 'rec': 0.7708333333333334, 'f1': 0.7047619047619048, 'acc': 0.845}, 'mlp': {'prec': 0.6595744680851063, 'rec': 0.6458333333333334, 'f1': 0.6526315789473683, 'acc': 0.835}}, 'text_ori': {'rf': {'prec': 0.8421052631578947, 'rec': 0.3333333333333333, 'f1': 0.4776119402985075, 'acc': 0.825}, 'lr': {'prec': 0.7346938775510204, 'rec': 0.75, 'f1': 0.7422680412371135, 'acc': 0.875}, 'mnb': {'prec': 0.7446808510638298, 'rec': 0.7291666666666666, 'f1': 0.7368421052631579, 'acc': 0.875}, 'mlp': {'prec': 0.6575342465753424, 'rec': 1.0, 'f1': 0.7933884297520661, 'acc': 0.875}}, 'tc_ori': {'rf': {'prec': 0.8636363636363636, 'rec': 0.3958333333333333, 'f1': 0.5428571428571428, 'acc': 0.84}, 'lr': {'prec': 0.75, 'rec': 0.8125, 'f1': 0.78, 'acc': 0.89}, 'mnb': {'prec': 0.7551020408163265, 'rec': 0.7708333333333334, 'f1': 0.7628865979381444, 'acc': 0.885}, 'mlp': {'prec': 0.7627118644067796, 'rec': 0.9375, 'f1': 0.8411214953271028, 'acc': 0.915}}, 'filter_word_tc': {'rf': {'prec': 0.8846153846153846, 'rec': 0.4791666666666667, 'f1': 0.6216216216216216, 'acc': 0.86}, 'lr': {'prec': 0.7941176470588235, 'rec': 0.5625, 'f1': 0.6585365853658537, 'acc': 0.86}, 'mnb': {'prec': 0.6666666666666666, 'rec': 0.8333333333333334, 'f1': 0.7407407407407408, 'acc': 0.86}, 'mlp': {'prec': 0.7586206896551724, 'rec': 0.4583333333333333, 'f1': 0.5714285714285715, 'acc': 0.835}}, 'filter_word_tc_window': {'rf': {'prec': 0.8571428571428571, 'rec': 0.5, 'f1': 0.631578947368421, 'acc': 0.86}, 'lr': {'prec': 0.7272727272727273, 'rec': 0.6666666666666666, 'f1': 0.6956521739130435, 'acc': 0.86}, 'mnb': {'prec': 0.671875, 'rec': 0.8958333333333334, 'f1': 0.7678571428571428, 'acc': 0.87}, 'mlp': {'prec': 0.8064516129032258, 'rec': 0.5208333333333334, 'f1': 0.6329113924050633, 'acc': 0.855}}, 'trunc_first_short': {'rf': {'prec': 0.8125, 'rec': 0.5416666666666666, 'f1': 0.65, 'acc': 0.86}, 'lr': {'prec': 0.7333333333333333, 'rec': 0.6875, 'f1': 0.7096774193548386, 'acc': 0.865}, 'mnb': {'prec': 0.782608695652174, 'rec': 0.75, 'f1': 0.7659574468085107, 'acc': 0.89}, 'mlp': {'prec': 0.7692307692307693, 'rec': 0.8333333333333334, 'f1': 0.8, 'acc': 0.9}}, 'trunc_last_short': {'rf': {'prec': 0.8888888888888888, 'rec': 0.3333333333333333, 'f1': 0.48484848484848486, 'acc': 0.83}, 'lr': {'prec': 0.7027027027027027, 'rec': 0.5416666666666666, 'f1': 0.611764705882353, 'acc': 0.835}, 'mnb': {'prec': 0.8205128205128205, 'rec': 0.6666666666666666, 'f1': 0.7356321839080459, 'acc': 0.885}, 'mlp': {'prec': 0.813953488372093, 'rec': 0.7291666666666666, 'f1': 0.7692307692307692, 'acc': 0.895}}, 'trunc_first_long': {'rf': {'prec': 0.8064516129032258, 'rec': 0.5208333333333334, 'f1': 0.6329113924050633, 'acc': 0.855}, 'lr': {'prec': 0.7346938775510204, 'rec': 0.75, 'f1': 0.7422680412371135, 'acc': 0.875}, 'mnb': {'prec': 0.75, 'rec': 0.6875, 'f1': 0.717391304347826, 'acc': 0.87}, 'mlp': {'prec': 0.7884615384615384, 'rec': 0.8541666666666666, 'f1': 0.8200000000000001, 'acc': 0.91}}, 'trunc_last_long': {'rf': {'prec': 0.7777777777777778, 'rec': 0.2916666666666667, 'f1': 0.42424242424242425, 'acc': 0.81}, 'lr': {'prec': 0.7297297297297297, 'rec': 0.5625, 'f1': 0.6352941176470588, 'acc': 0.845}, 'mnb': {'prec': 0.75, 'rec': 0.6875, 'f1': 0.717391304347826, 'acc': 0.87}, 'mlp': {'prec': 0.640625, 'rec': 0.8541666666666666, 'f1': 0.7321428571428571, 'acc': 0.85}}, 'trunc_combination': {'rf': {'prec': 0.9032258064516129, 'rec': 0.5833333333333334, 'f1': 0.7088607594936709, 'acc': 0.885}, 'lr': {'prec': 0.813953488372093, 'rec': 0.7291666666666666, 'f1': 0.7692307692307692, 'acc': 0.895}, 'mnb': {'prec': 0.8181818181818182, 'rec': 0.75, 'f1': 0.7826086956521738, 'acc': 0.9}, 'mlp': {'prec': 0.7678571428571429, 'rec': 0.8958333333333334, 'f1': 0.8269230769230769, 'acc': 0.91}}, 'textrank': {'rf': {'prec': 0.8095238095238095, 'rec': 0.3541666666666667, 'f1': 0.4927536231884058, 'acc': 0.825}, 'lr': {'prec': 0.6888888888888889, 'rec': 0.6458333333333334, 'f1': 0.6666666666666667, 'acc': 0.845}, 'mnb': {'prec': 0.782608695652174, 'rec': 0.75, 'f1': 0.7659574468085107, 'acc': 0.89}, 'mlp': {'prec': 0.7608695652173914, 'rec': 0.7291666666666666, 'f1': 0.7446808510638298, 'acc': 0.88}}, 'sum_indobart': {'rf': {'prec': 0.8275862068965517, 'rec': 0.5, 'f1': 0.6233766233766235, 'acc': 0.855}, 'lr': {'prec': 0.7954545454545454, 'rec': 0.7291666666666666, 'f1': 0.7608695652173914, 'acc': 0.89}, 'mnb': {'prec': 0.74, 'rec': 0.7708333333333334, 'f1': 0.7551020408163266, 'acc': 0.88}, 'mlp': {'prec': 0.7551020408163265, 'rec': 0.7708333333333334, 'f1': 0.7628865979381444, 'acc': 0.885}}, 'sum_liputan6': {'rf': {'prec': 0.75, 'rec': 0.5625, 'f1': 0.6428571428571429, 'acc': 0.85}, 'lr': {'prec': 0.7555555555555555, 'rec': 0.7083333333333334, 'f1': 0.7311827956989247, 'acc': 0.875}, 'mnb': {'prec': 0.7021276595744681, 'rec': 0.6875, 'f1': 0.6947368421052632, 'acc': 0.855}, 'mlp': {'prec': 0.7209302325581395, 'rec': 0.6458333333333334, 'f1': 0.6813186813186812, 'acc': 0.855}}, 'sum_pegasus': {'rf': {'prec': 0.7391304347826086, 'rec': 0.3541666666666667, 'f1': 0.4788732394366197, 'acc': 0.815}, 'lr': {'prec': 0.696969696969697, 'rec': 0.4791666666666667, 'f1': 0.5679012345679013, 'acc': 0.825}, 'mnb': {'prec': 0.6808510638297872, 'rec': 0.6666666666666666, 'f1': 0.6736842105263158, 'acc': 0.845}, 'mlp': {'prec': 0.6458333333333334, 'rec': 0.6458333333333334, 'f1': 0.6458333333333334, 'acc': 0.83}}}}\n",
      "/workspace/dataset\n"
     ]
    },
    {
     "name": "stderr",
     "output_type": "stream",
     "text": [
      "/tmp/ipykernel_1571/3747505018.py:111: SettingWithCopyWarning: \n",
      "A value is trying to be set on a copy of a slice from a DataFrame.\n",
      "Try using .loc[row_indexer,col_indexer] = value instead\n",
      "\n",
      "See the caveats in the documentation: https://pandas.pydata.org/pandas-docs/stable/user_guide/indexing.html#returning-a-view-versus-a-copy\n",
      "  df['label'] = y_pred_test\n"
     ]
    }
   ],
   "source": [
    "%cd tsunami\n",
    "get_f1_baseline_bencana('tsunami')\n",
    "%cd .."
   ]
  }
 ],
 "metadata": {
  "kernelspec": {
   "display_name": "Python 3 (ipykernel)",
   "language": "python",
   "name": "python3"
  },
  "language_info": {
   "codemirror_mode": {
    "name": "ipython",
    "version": 3
   },
   "file_extension": ".py",
   "mimetype": "text/x-python",
   "name": "python",
   "nbconvert_exporter": "python",
   "pygments_lexer": "ipython3",
   "version": "3.8.12"
  }
 },
 "nbformat": 4,
 "nbformat_minor": 5
}
