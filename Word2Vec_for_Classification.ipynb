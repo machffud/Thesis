{
 "cells": [
  {
   "cell_type": "code",
   "execution_count": 10,
   "id": "bf7bd3f0",
   "metadata": {},
   "outputs": [
    {
     "name": "stdout",
     "output_type": "stream",
     "text": [
      "Wed Apr  3 05:25:15 2024       \n",
      "+---------------------------------------------------------------------------------------+\n",
      "| NVIDIA-SMI 535.161.07             Driver Version: 535.161.07   CUDA Version: 12.2     |\n",
      "|-----------------------------------------+----------------------+----------------------+\n",
      "| GPU  Name                 Persistence-M | Bus-Id        Disp.A | Volatile Uncorr. ECC |\n",
      "| Fan  Temp   Perf          Pwr:Usage/Cap |         Memory-Usage | GPU-Util  Compute M. |\n",
      "|                                         |                      |               MIG M. |\n",
      "|=========================================+======================+======================|\n",
      "|   0  NVIDIA A100-SXM4-40GB          On  | 00000000:07:00.0 Off |                    0 |\n",
      "| N/A   40C    P0             231W / 400W |  13864MiB / 40960MiB |     92%      Default |\n",
      "|                                         |                      |             Disabled |\n",
      "+-----------------------------------------+----------------------+----------------------+\n",
      "|   1  NVIDIA A100-SXM4-40GB          On  | 00000000:0F:00.0 Off |                    0 |\n",
      "| N/A   27C    P0              54W / 400W |      3MiB / 40960MiB |      0%      Default |\n",
      "|                                         |                      |             Disabled |\n",
      "+-----------------------------------------+----------------------+----------------------+\n",
      "|   2  NVIDIA A100-SXM4-40GB          On  | 00000000:47:00.0 Off |                    0 |\n",
      "| N/A   26C    P0              54W / 400W |      3MiB / 40960MiB |      0%      Default |\n",
      "|                                         |                      |             Disabled |\n",
      "+-----------------------------------------+----------------------+----------------------+\n",
      "|   3  NVIDIA A100-SXM4-40GB          On  | 00000000:4E:00.0 Off |                    0 |\n",
      "| N/A   28C    P0              53W / 400W |      3MiB / 40960MiB |      0%      Default |\n",
      "|                                         |                      |             Disabled |\n",
      "+-----------------------------------------+----------------------+----------------------+\n",
      "|   4  NVIDIA A100-SXM4-40GB          On  | 00000000:87:00.0 Off |                    0 |\n",
      "| N/A   37C    P0              53W / 400W |      3MiB / 40960MiB |      0%      Default |\n",
      "|                                         |                      |             Disabled |\n",
      "+-----------------------------------------+----------------------+----------------------+\n",
      "|   5  NVIDIA A100-SXM4-40GB          On  | 00000000:90:00.0 Off |                    0 |\n",
      "| N/A   40C    P0             100W / 400W |   8425MiB / 40960MiB |    100%      Default |\n",
      "|                                         |                      |             Disabled |\n",
      "+-----------------------------------------+----------------------+----------------------+\n",
      "|   6  NVIDIA A100-SXM4-40GB          On  | 00000000:B7:00.0 Off |                    0 |\n",
      "| N/A   35C    P0              86W / 400W |   8875MiB / 40960MiB |    100%      Default |\n",
      "|                                         |                      |             Disabled |\n",
      "+-----------------------------------------+----------------------+----------------------+\n",
      "|   7  NVIDIA A100-SXM4-40GB          On  | 00000000:BD:00.0 Off |                    0 |\n",
      "| N/A   33C    P0              55W / 400W |      3MiB / 40960MiB |      0%      Default |\n",
      "|                                         |                      |             Disabled |\n",
      "+-----------------------------------------+----------------------+----------------------+\n",
      "                                                                                         \n",
      "+---------------------------------------------------------------------------------------+\n",
      "| Processes:                                                                            |\n",
      "|  GPU   GI   CI        PID   Type   Process name                            GPU Memory |\n",
      "|        ID   ID                                                             Usage      |\n",
      "|=======================================================================================|\n",
      "+---------------------------------------------------------------------------------------+\n"
     ]
    }
   ],
   "source": [
    "import os\n",
    "os.environ['CUDA_VISIBLE_DEVICES'] = '1'\n",
    "!nvidia-smi"
   ]
  },
  {
   "cell_type": "markdown",
   "id": "d4af7449",
   "metadata": {},
   "source": [
    "### To reproduce word2vec classification, you need to clone the pretrained model w2v first with below command"
   ]
  },
  {
   "cell_type": "code",
   "execution_count": 2,
   "id": "4b9154f1",
   "metadata": {},
   "outputs": [],
   "source": [
    "#!git clone https://github.com/deryrahman/word2vec-bahasa-indonesia.git"
   ]
  },
  {
   "cell_type": "code",
   "execution_count": 2,
   "id": "3d9209ff",
   "metadata": {},
   "outputs": [
    {
     "name": "stdout",
     "output_type": "stream",
     "text": [
      "/workspace/Tugas Akhir/word2vec-bahasa-indonesia\n",
      "LICENSE    data        model\t       requirements.txt\r\n",
      "README.md  example.py  pretrained-w2v  train.py\r\n"
     ]
    }
   ],
   "source": [
    "%cd word2vec-bahasa-indonesia\n",
    "!dir"
   ]
  },
  {
   "cell_type": "code",
   "execution_count": 3,
   "id": "d137a5da",
   "metadata": {},
   "outputs": [
    {
     "name": "stdout",
     "output_type": "stream",
     "text": [
      "Looking in indexes: https://pypi.org/simple, https://pypi.ngc.nvidia.com\n",
      "Requirement already satisfied: requests>=2.18.4 in /opt/conda/lib/python3.8/site-packages (from -r requirements.txt (line 1)) (2.26.0)\n",
      "Collecting gensim==3.6.0\n",
      "  Downloading gensim-3.6.0.tar.gz (23.1 MB)\n",
      "\u001b[K     |████████████████████████████████| 23.1 MB 3.3 MB/s eta 0:00:01\n",
      "\u001b[?25hCollecting Sastrawi==1.0.1\n",
      "  Downloading Sastrawi-1.0.1-py2.py3-none-any.whl (209 kB)\n",
      "\u001b[K     |████████████████████████████████| 209 kB 54.7 MB/s eta 0:00:01\n",
      "\u001b[?25hRequirement already satisfied: numpy>=1.11.3 in /opt/conda/lib/python3.8/site-packages (from gensim==3.6.0->-r requirements.txt (line 2)) (1.21.4)\n",
      "Requirement already satisfied: scipy>=0.18.1 in /opt/conda/lib/python3.8/site-packages (from gensim==3.6.0->-r requirements.txt (line 2)) (1.6.3)\n",
      "Requirement already satisfied: six>=1.5.0 in /opt/conda/lib/python3.8/site-packages (from gensim==3.6.0->-r requirements.txt (line 2)) (1.16.0)\n",
      "Requirement already satisfied: smart_open>=1.2.1 in /opt/conda/lib/python3.8/site-packages (from gensim==3.6.0->-r requirements.txt (line 2)) (5.2.1)\n",
      "Requirement already satisfied: urllib3<1.27,>=1.21.1 in /opt/conda/lib/python3.8/site-packages (from requests>=2.18.4->-r requirements.txt (line 1)) (1.26.7)\n",
      "Requirement already satisfied: charset-normalizer~=2.0.0 in /opt/conda/lib/python3.8/site-packages (from requests>=2.18.4->-r requirements.txt (line 1)) (2.0.0)\n",
      "Requirement already satisfied: idna<4,>=2.5 in /opt/conda/lib/python3.8/site-packages (from requests>=2.18.4->-r requirements.txt (line 1)) (3.1)\n",
      "Requirement already satisfied: certifi>=2017.4.17 in /opt/conda/lib/python3.8/site-packages (from requests>=2.18.4->-r requirements.txt (line 1)) (2021.10.8)\n",
      "Building wheels for collected packages: gensim\n",
      "  Building wheel for gensim (setup.py) ... \u001b[?25ldone\n",
      "\u001b[?25h  Created wheel for gensim: filename=gensim-3.6.0-cp38-cp38-linux_x86_64.whl size=24812852 sha256=cb184ea281a5e2a71f54dac7fb1b66a25acc3450acde7810f263c9882c28bca1\n",
      "  Stored in directory: /tmp/pip-ephem-wheel-cache-15ow2_7b/wheels/d6/5b/91/658efb08f9d790987e1ef3795e62e129868afb0fde409baac5\n",
      "Successfully built gensim\n",
      "Installing collected packages: Sastrawi, gensim\n",
      "Successfully installed Sastrawi-1.0.1 gensim-3.6.0\n",
      "\u001b[33mWARNING: Running pip as the 'root' user can result in broken permissions and conflicting behaviour with the system package manager. It is recommended to use a virtual environment instead: https://pip.pypa.io/warnings/venv\u001b[0m\n"
     ]
    }
   ],
   "source": [
    "!pip install -r requirements.txt"
   ]
  },
  {
   "cell_type": "code",
   "execution_count": 4,
   "id": "039e178e",
   "metadata": {},
   "outputs": [
    {
     "name": "stdout",
     "output_type": "stream",
     "text": [
      "/workspace/Tugas Akhir/word2vec-bahasa-indonesia/pretrained-w2v\n"
     ]
    }
   ],
   "source": [
    "#!mkdir pretrained-w2v\n",
    "%cd pretrained-w2v"
   ]
  },
  {
   "cell_type": "code",
   "execution_count": 5,
   "id": "f095e6ec",
   "metadata": {},
   "outputs": [
    {
     "name": "stdout",
     "output_type": "stream",
     "text": [
      "/workspace/Tugas Akhir/word2vec-bahasa-indonesia/pretrained-w2v\r\n"
     ]
    }
   ],
   "source": [
    "!pwd"
   ]
  },
  {
   "cell_type": "code",
   "execution_count": 6,
   "id": "7e9cc644",
   "metadata": {},
   "outputs": [],
   "source": [
    "from gensim.test.utils import common_texts\n",
    "from gensim.models import Word2Vec\n",
    "import gensim\n",
    "\n",
    "\n",
    "w2v = Word2Vec.load(\"idwiki_word2vec_200.model\")"
   ]
  },
  {
   "cell_type": "code",
   "execution_count": 8,
   "id": "a29257ae",
   "metadata": {},
   "outputs": [],
   "source": [
    "def get_vect(token):\n",
    "    try:\n",
    "        return w2v.wv[token]\n",
    "    except:\n",
    "        try:\n",
    "            return w2v.wv[token.lower()]\n",
    "        except:\n",
    "            return w2v.wv[\"raja\"]-w2v.wv[\"raja\"] #return zero vector if OOV"
   ]
  },
  {
   "cell_type": "code",
   "execution_count": 9,
   "id": "942aa7d2",
   "metadata": {},
   "outputs": [
    {
     "name": "stderr",
     "output_type": "stream",
     "text": [
      "[nltk_data] Downloading package punkt to /root/nltk_data...\n",
      "[nltk_data]   Unzipping tokenizers/punkt.zip.\n"
     ]
    }
   ],
   "source": [
    "import nltk\n",
    "nltk.download('punkt')\n",
    "\n",
    "from nltk.tokenize import word_tokenize\n",
    "def get_vector_for_sentence(sentence, max_num_token):\n",
    "    tokenized = [word_tokenize(sent) for sent in sentence.split()]\n",
    "    num = 0\n",
    "    temp_sum = get_vect(\".\")\n",
    "    for token in tokenized:\n",
    "        if num >= max_num_token:\n",
    "            break\n",
    "        temp_sum += get_vect(token[0].lower())\n",
    "        num+=1\n",
    "    if num == 0:\n",
    "        return temp_sum\n",
    "    else:\n",
    "        return temp_sum/num\n",
    "\n",
    "def get_vector_all_sentence_from_a_column(df, kolom, max_num_token = 256):\n",
    "    ret = []\n",
    "    ret1 = [] \n",
    "    num = 0\n",
    "    for row in df['trunc_combination']:\n",
    "        ret1.append(get_vector_for_sentence(row, max_num_token))\n",
    "    for row in df[kolom]:\n",
    "        try:\n",
    "            ret.append(get_vector_for_sentence(row, max_num_token))\n",
    "        except:\n",
    "            ret.append(ret1[num])\n",
    "        num+=1\n",
    "    mini=1e10\n",
    "    for row in ret:\n",
    "        for sentence in row:\n",
    "            mini = min(mini, sentence)\n",
    "    res = []\n",
    "    for row in ret:\n",
    "        res.append(row-mini)\n",
    "    return res"
   ]
  },
  {
   "cell_type": "code",
   "execution_count": 11,
   "id": "d5b7fea8",
   "metadata": {},
   "outputs": [
    {
     "name": "stdout",
     "output_type": "stream",
     "text": [
      "Looking in indexes: https://pypi.org/simple, https://pypi.ngc.nvidia.com\n",
      "Requirement already satisfied: scikit-learn in /opt/conda/lib/python3.8/site-packages (1.3.2)\n",
      "Requirement already satisfied: threadpoolctl>=2.0.0 in /opt/conda/lib/python3.8/site-packages (from scikit-learn) (3.0.0)\n",
      "Requirement already satisfied: scipy>=1.5.0 in /opt/conda/lib/python3.8/site-packages (from scikit-learn) (1.6.3)\n",
      "Requirement already satisfied: numpy<2.0,>=1.17.3 in /opt/conda/lib/python3.8/site-packages (from scikit-learn) (1.21.4)\n",
      "Requirement already satisfied: joblib>=1.1.1 in /opt/conda/lib/python3.8/site-packages (from scikit-learn) (1.3.2)\n",
      "\u001b[33mWARNING: Running pip as the 'root' user can result in broken permissions and conflicting behaviour with the system package manager. It is recommended to use a virtual environment instead: https://pip.pypa.io/warnings/venv\u001b[0m\n"
     ]
    }
   ],
   "source": [
    "!pip install scikit-learn  -U"
   ]
  },
  {
   "cell_type": "code",
   "execution_count": 15,
   "id": "b8cc155e",
   "metadata": {},
   "outputs": [],
   "source": [
    "import numpy as np\n",
    "import pandas as pd\n",
    "from sklearn.metrics import precision_recall_fscore_support\n",
    "from sklearn.ensemble import RandomForestClassifier\n",
    "from sklearn.datasets import make_classification\n",
    "from sklearn.linear_model import LogisticRegression\n",
    "from sklearn.neural_network import MLPClassifier\n",
    "from sklearn.ensemble import GradientBoostingClassifier\n",
    "from sklearn.metrics import accuracy_score\n",
    "import pandas as pd\n",
    "\n",
    "def get_eval(ypred, yact):\n",
    "    p,r, f,s = precision_recall_fscore_support(yact,ypred, average='binary', pos_label=1)\n",
    "    print(f\"Nilai Precision = {p}\")\n",
    "    print(f\"Nilai Recall = {r}\")\n",
    "    print(f\"Nilai F1 = {f}\")\n",
    "    return p,r,f\n",
    "\n",
    "\n",
    "def get_eksperiment(df_train, df_test, fitur, bencana):\n",
    "    %cd ..\n",
    "    dct_cls = {}\n",
    "    print(f\"Eksperimen pada bencana {bencana} dengan representasi {fitur}\")\n",
    "    y_train = []\n",
    "    #print(list(df_train))\n",
    "    for l in list(df_train['label']):\n",
    "        if l =='Y':\n",
    "            y_train.append(1)\n",
    "        else:\n",
    "            y_train.append(0)\n",
    "    y_test = []\n",
    "    for l in list(df_test['label']):\n",
    "        if l =='Y':\n",
    "            y_test.append(1)\n",
    "        else:\n",
    "            y_test.append(0)\n",
    "    X_train = get_vector_all_sentence_from_a_column(df_train,fitur)\n",
    "    X_test = get_vector_all_sentence_from_a_column(df_test,fitur)\n",
    "    rf = RandomForestClassifier(max_depth=100, n_estimators=100)\n",
    "    lr = LogisticRegression(solver='liblinear',max_iter = 100)\n",
    "    mlp = MLPClassifier(random_state=1, max_iter=300)\n",
    "    xgb = GradientBoostingClassifier(n_estimators=100, learning_rate=0.05,max_depth=3, random_state=0)\n",
    "\n",
    "    print(\"XGBOOST\")\n",
    "    xgb.fit(X_train, y_train)\n",
    "    y_pred_train = xgb.predict(X_train)\n",
    "    y_pred_test = xgb.predict(X_test)\n",
    "    print(\"Di train dapat performa \")\n",
    "    get_eval(y_pred_train, y_train)\n",
    "    print(\"Di test dapat performa\")\n",
    "    p,r,f = get_eval(y_pred_test, y_test)\n",
    "    dct_metric = {}\n",
    "    dct_metric[\"prec\"] = p\n",
    "    dct_metric[\"rec\"] = r\n",
    "    dct_metric[\"f1\"] = f \n",
    "    dct_metric[\"acc\"] = accuracy_score(y_pred_test, y_test)\n",
    "    dct_cls[\"xgb\"] = dct_metric\n",
    "    print(\"########\")\n",
    "    df = df_test[['id']]\n",
    "    df['label'] = y_pred_test\n",
    "    df[['id','label']].to_csv(f'../prediction/result_classification_Word2Vec/{bencana}_{fitur}_XGBOOST.csv', index=False)\n",
    "\n",
    "\n",
    "    print(\"RANDOM FOREST\")\n",
    "    rf.fit(X_train, y_train)\n",
    "    y_pred_train = rf.predict(X_train)\n",
    "    y_pred_test = rf.predict(X_test)\n",
    "    print(\"Di train dapat performa \")\n",
    "    get_eval(y_pred_train, y_train)\n",
    "    print(\"Di test dapat performa\")\n",
    "    p_l, r_l, f_l = get_eval(y_pred_test, y_test)\n",
    "    dct_metric = {}\n",
    "    dct_metric[\"prec\"] = p_l\n",
    "    dct_metric[\"rec\"] = r_l\n",
    "    dct_metric[\"f1\"] = f_l \n",
    "    dct_metric[\"acc\"] = accuracy_score(y_pred_test, y_test)\n",
    "    dct_cls[\"rf\"] = dct_metric\n",
    "    print(\"########\")\n",
    "    df = df_test[['id']]\n",
    "    df['label'] = y_pred_test\n",
    "    df[['id','label']].to_csv(f'../prediction/result_classification_Word2Vec/{bencana}_{fitur}_RF.csv', index=False)\n",
    "\n",
    "    print(\"LOGISTIK REGRESSION\")\n",
    "    lr.fit(X_train, y_train)\n",
    "    y_pred_train = lr.predict(X_train)\n",
    "    y_pred_test = lr.predict(X_test)\n",
    "    print(\"Di train dapat performa \")\n",
    "    get_eval(y_pred_train, y_train)\n",
    "    print(\"Di test dapat performa\")\n",
    "    p_l, r_l, f_l = get_eval(y_pred_test, y_test)\n",
    "    dct_metric = {}\n",
    "    dct_metric[\"prec\"] = p_l\n",
    "    dct_metric[\"rec\"] = r_l\n",
    "    dct_metric[\"f1\"] = f_l \n",
    "    dct_metric[\"acc\"] = accuracy_score(y_pred_test, y_test)\n",
    "    dct_cls[\"lr\"] = dct_metric\n",
    "    print(\"########\")\n",
    "    df = df_test[['id']]\n",
    "    df['label'] = y_pred_test\n",
    "    df[['id','label']].to_csv(f'../prediction/result_classification_Word2Vec/{bencana}_{fitur}_LR.csv', index=False)\n",
    "    p+=p_l\n",
    "    r+=r_l\n",
    "    f+=f_l\n",
    "\n",
    "    print(\"MLP\")\n",
    "    mlp.fit(X_train, y_train)\n",
    "    y_pred_train = mlp.predict(X_train)\n",
    "    y_pred_test = mlp.predict(X_test)\n",
    "    print(\"Di train dapat performa \")\n",
    "    get_eval(y_pred_train, y_train)\n",
    "    print(\"Di test dapat performa\")\n",
    "    p_l, r_l, f_l = get_eval(y_pred_test, y_test)\n",
    "    dct_metric = {}\n",
    "    dct_metric[\"prec\"] = p_l\n",
    "    dct_metric[\"rec\"] = r_l\n",
    "    dct_metric[\"f1\"] = f_l \n",
    "    dct_metric[\"acc\"] = accuracy_score(y_pred_test, y_test)\n",
    "    dct_cls[\"mlp\"] = dct_metric\n",
    "    print(\"########\")\n",
    "    p+=p_l\n",
    "    r+=r_l\n",
    "    f+=f_l\n",
    "    df = df_test[['id']]\n",
    "    df['label'] = y_pred_test\n",
    "    df[['id','label']].to_csv(f'../prediction/result_classification_Word2Vec/{bencana}_{fitur}_MLP.csv', index=False)\n",
    "\n",
    "    print('Rata-rata nilai test dengan Classifier xgb, lr, dan mlp adalah')\n",
    "    print(f'Precision = {p/3}\\nRecall = {r/3}\\nF1 = {f/3}')\n",
    "    %cd -\n",
    "    return dct_cls\n"
   ]
  },
  {
   "cell_type": "code",
   "execution_count": 19,
   "id": "08bbacaf",
   "metadata": {},
   "outputs": [],
   "source": [
    "def get_f1_eks_praproses_bencana(bencana):\n",
    "    lst_fitur = [\"id\",\"title_ori\", \"text_ori\", \"tc_ori\", \"filter_word_tc\",\"filter_word_tc_window\", \"trunc_first_short\", \"trunc_last_short\", \"trunc_first_long\", \"trunc_last_long\", \"trunc_combination\",  \"textrank\", \"sum_indobart\", \"sum_liputan6\",\"sum_pegasus\",\"label\"]\n",
    "    #lst_fitur = [\"textrank\", \"sum_indobart\", \"sum_liputan6\",\"sum_pegasus\",\"label\"]\n",
    "    df_train = pd.read_csv(f'{bencana}_train.csv')[lst_fitur]\n",
    "    df_dev = pd.read_csv(f'{bencana}_dev.csv')[lst_fitur]\n",
    "    df_test = pd.read_csv(f'{bencana}_test.csv')[lst_fitur]\n",
    "    print(f\"evaluasi pada bencana = {bencana}\")\n",
    "    dct_bencana={}\n",
    "    dct_bencana[bencana] = {}\n",
    "    for fitur in lst_fitur[1:-1]:\n",
    "        dct_fitur = {}\n",
    "        dct_bencana[bencana][fitur] = get_eksperiment(df_train, df_test, fitur, bencana)\n",
    "\n",
    "        print('\\n')\n",
    "\n",
    "        print('************************************************************')\n",
    "\n",
    "\n",
    "    print(dct_bencana)"
   ]
  },
  {
   "cell_type": "code",
   "execution_count": 16,
   "id": "6357e1aa",
   "metadata": {},
   "outputs": [
    {
     "name": "stdout",
     "output_type": "stream",
     "text": [
      "/workspace/Tugas Akhir/word2vec-bahasa-indonesia/pretrained-w2v\r\n"
     ]
    }
   ],
   "source": [
    "!pwd"
   ]
  },
  {
   "cell_type": "code",
   "execution_count": 17,
   "id": "e1f4cbef",
   "metadata": {},
   "outputs": [
    {
     "name": "stdout",
     "output_type": "stream",
     "text": [
      "/workspace/Tugas Akhir/word2vec-bahasa-indonesia\n",
      "/workspace/Tugas Akhir\n",
      "/workspace/Tugas Akhir/dataset\n"
     ]
    }
   ],
   "source": [
    "%cd ..\n",
    "%cd ..\n",
    "%cd dataset"
   ]
  },
  {
   "cell_type": "code",
   "execution_count": 20,
   "id": "e2960b86",
   "metadata": {
    "scrolled": true
   },
   "outputs": [
    {
     "name": "stdout",
     "output_type": "stream",
     "text": [
      "[Errno 2] No such file or directory: 'angin_topan'\n",
      "/workspace/Tugas Akhir/dataset/angin_topan\n",
      "evaluasi pada bencana = angin_topan\n",
      "/workspace/Tugas Akhir/dataset\n",
      "Eksperimen pada bencana angin_topan dengan representasi title_ori\n",
      "XGBOOST\n",
      "Di train dapat performa \n",
      "Nilai Precision = 0.9929577464788732\n",
      "Nilai Recall = 0.8867924528301887\n",
      "Nilai F1 = 0.9368770764119602\n",
      "Di test dapat performa\n",
      "Nilai Precision = 0.8181818181818182\n",
      "Nilai Recall = 0.1956521739130435\n",
      "Nilai F1 = 0.3157894736842105\n",
      "########\n",
      "RANDOM FOREST\n"
     ]
    },
    {
     "name": "stderr",
     "output_type": "stream",
     "text": [
      "/tmp/ipykernel_80140/787541875.py:60: SettingWithCopyWarning: \n",
      "A value is trying to be set on a copy of a slice from a DataFrame.\n",
      "Try using .loc[row_indexer,col_indexer] = value instead\n",
      "\n",
      "See the caveats in the documentation: https://pandas.pydata.org/pandas-docs/stable/user_guide/indexing.html#returning-a-view-versus-a-copy\n",
      "  df['label'] = y_pred_test\n"
     ]
    },
    {
     "name": "stdout",
     "output_type": "stream",
     "text": [
      "Di train dapat performa \n",
      "Nilai Precision = 1.0\n",
      "Nilai Recall = 1.0\n",
      "Nilai F1 = 1.0\n",
      "Di test dapat performa\n",
      "Nilai Precision = 1.0\n",
      "Nilai Recall = 0.15217391304347827\n",
      "Nilai F1 = 0.2641509433962264\n",
      "########\n",
      "LOGISTIK REGRESSION\n",
      "Di train dapat performa \n",
      "Nilai Precision = 0.8920863309352518\n",
      "Nilai Recall = 0.779874213836478\n",
      "Nilai F1 = 0.8322147651006712\n",
      "Di test dapat performa\n",
      "Nilai Precision = 0.75\n",
      "Nilai Recall = 0.717391304347826\n",
      "Nilai F1 = 0.7333333333333332\n",
      "########\n",
      "MLP\n"
     ]
    },
    {
     "name": "stderr",
     "output_type": "stream",
     "text": [
      "/tmp/ipykernel_80140/787541875.py:80: SettingWithCopyWarning: \n",
      "A value is trying to be set on a copy of a slice from a DataFrame.\n",
      "Try using .loc[row_indexer,col_indexer] = value instead\n",
      "\n",
      "See the caveats in the documentation: https://pandas.pydata.org/pandas-docs/stable/user_guide/indexing.html#returning-a-view-versus-a-copy\n",
      "  df['label'] = y_pred_test\n",
      "/tmp/ipykernel_80140/787541875.py:99: SettingWithCopyWarning: \n",
      "A value is trying to be set on a copy of a slice from a DataFrame.\n",
      "Try using .loc[row_indexer,col_indexer] = value instead\n",
      "\n",
      "See the caveats in the documentation: https://pandas.pydata.org/pandas-docs/stable/user_guide/indexing.html#returning-a-view-versus-a-copy\n",
      "  df['label'] = y_pred_test\n"
     ]
    },
    {
     "name": "stdout",
     "output_type": "stream",
     "text": [
      "Di train dapat performa \n",
      "Nilai Precision = 0.7608695652173914\n",
      "Nilai Recall = 0.660377358490566\n",
      "Nilai F1 = 0.7070707070707071\n",
      "Di test dapat performa\n",
      "Nilai Precision = 0.7021276595744681\n",
      "Nilai Recall = 0.717391304347826\n",
      "Nilai F1 = 0.7096774193548387\n",
      "########\n",
      "Rata-rata nilai test dengan Classifier xgb, lr, dan mlp adalah\n",
      "Precision = 0.7567698259187621\n",
      "Recall = 0.5434782608695652\n",
      "F1 = 0.5862667421241274\n",
      "/workspace/Tugas Akhir/dataset/angin_topan\n",
      "\n",
      "\n",
      "************************************************************\n",
      "/workspace/Tugas Akhir/dataset\n",
      "Eksperimen pada bencana angin_topan dengan representasi text_ori\n"
     ]
    },
    {
     "name": "stderr",
     "output_type": "stream",
     "text": [
      "/tmp/ipykernel_80140/787541875.py:124: SettingWithCopyWarning: \n",
      "A value is trying to be set on a copy of a slice from a DataFrame.\n",
      "Try using .loc[row_indexer,col_indexer] = value instead\n",
      "\n",
      "See the caveats in the documentation: https://pandas.pydata.org/pandas-docs/stable/user_guide/indexing.html#returning-a-view-versus-a-copy\n",
      "  df['label'] = y_pred_test\n"
     ]
    },
    {
     "name": "stdout",
     "output_type": "stream",
     "text": [
      "XGBOOST\n",
      "Di train dapat performa \n",
      "Nilai Precision = 0.9863945578231292\n",
      "Nilai Recall = 0.9119496855345912\n",
      "Nilai F1 = 0.9477124183006537\n",
      "Di test dapat performa\n",
      "Nilai Precision = 0.8095238095238095\n",
      "Nilai Recall = 0.3695652173913043\n",
      "Nilai F1 = 0.5074626865671641\n",
      "########\n",
      "RANDOM FOREST\n"
     ]
    },
    {
     "name": "stderr",
     "output_type": "stream",
     "text": [
      "/tmp/ipykernel_80140/787541875.py:60: SettingWithCopyWarning: \n",
      "A value is trying to be set on a copy of a slice from a DataFrame.\n",
      "Try using .loc[row_indexer,col_indexer] = value instead\n",
      "\n",
      "See the caveats in the documentation: https://pandas.pydata.org/pandas-docs/stable/user_guide/indexing.html#returning-a-view-versus-a-copy\n",
      "  df['label'] = y_pred_test\n"
     ]
    },
    {
     "name": "stdout",
     "output_type": "stream",
     "text": [
      "Di train dapat performa \n",
      "Nilai Precision = 1.0\n",
      "Nilai Recall = 1.0\n",
      "Nilai F1 = 1.0\n",
      "Di test dapat performa\n",
      "Nilai Precision = 0.9\n",
      "Nilai Recall = 0.391304347826087\n",
      "Nilai F1 = 0.5454545454545454\n",
      "########\n",
      "LOGISTIK REGRESSION\n",
      "Di train dapat performa \n",
      "Nilai Precision = 0.8582677165354331\n",
      "Nilai Recall = 0.6855345911949685\n",
      "Nilai F1 = 0.7622377622377623\n",
      "Di test dapat performa\n",
      "Nilai Precision = 0.7878787878787878\n",
      "Nilai Recall = 0.5652173913043478\n",
      "Nilai F1 = 0.6582278481012658\n",
      "########\n",
      "MLP\n"
     ]
    },
    {
     "name": "stderr",
     "output_type": "stream",
     "text": [
      "/tmp/ipykernel_80140/787541875.py:80: SettingWithCopyWarning: \n",
      "A value is trying to be set on a copy of a slice from a DataFrame.\n",
      "Try using .loc[row_indexer,col_indexer] = value instead\n",
      "\n",
      "See the caveats in the documentation: https://pandas.pydata.org/pandas-docs/stable/user_guide/indexing.html#returning-a-view-versus-a-copy\n",
      "  df['label'] = y_pred_test\n",
      "/tmp/ipykernel_80140/787541875.py:99: SettingWithCopyWarning: \n",
      "A value is trying to be set on a copy of a slice from a DataFrame.\n",
      "Try using .loc[row_indexer,col_indexer] = value instead\n",
      "\n",
      "See the caveats in the documentation: https://pandas.pydata.org/pandas-docs/stable/user_guide/indexing.html#returning-a-view-versus-a-copy\n",
      "  df['label'] = y_pred_test\n"
     ]
    },
    {
     "name": "stdout",
     "output_type": "stream",
     "text": [
      "Di train dapat performa \n",
      "Nilai Precision = 0.9333333333333333\n",
      "Nilai Recall = 0.1761006289308176\n",
      "Nilai F1 = 0.2962962962962963\n",
      "Di test dapat performa\n",
      "Nilai Precision = 1.0\n",
      "Nilai Recall = 0.13043478260869565\n",
      "Nilai F1 = 0.23076923076923078\n",
      "########\n",
      "Rata-rata nilai test dengan Classifier xgb, lr, dan mlp adalah\n",
      "Precision = 0.8658008658008658\n",
      "Recall = 0.3550724637681159\n",
      "F1 = 0.46548658847922025\n",
      "/workspace/Tugas Akhir/dataset/angin_topan\n",
      "\n",
      "\n",
      "************************************************************\n",
      "/workspace/Tugas Akhir/dataset\n",
      "Eksperimen pada bencana angin_topan dengan representasi tc_ori\n"
     ]
    },
    {
     "name": "stderr",
     "output_type": "stream",
     "text": [
      "/tmp/ipykernel_80140/787541875.py:124: SettingWithCopyWarning: \n",
      "A value is trying to be set on a copy of a slice from a DataFrame.\n",
      "Try using .loc[row_indexer,col_indexer] = value instead\n",
      "\n",
      "See the caveats in the documentation: https://pandas.pydata.org/pandas-docs/stable/user_guide/indexing.html#returning-a-view-versus-a-copy\n",
      "  df['label'] = y_pred_test\n"
     ]
    },
    {
     "name": "stdout",
     "output_type": "stream",
     "text": [
      "XGBOOST\n",
      "Di train dapat performa \n",
      "Nilai Precision = 0.9930555555555556\n",
      "Nilai Recall = 0.89937106918239\n",
      "Nilai F1 = 0.943894389438944\n",
      "Di test dapat performa\n",
      "Nilai Precision = 0.8214285714285714\n",
      "Nilai Recall = 0.5\n",
      "Nilai F1 = 0.6216216216216216\n",
      "########\n",
      "RANDOM FOREST\n"
     ]
    },
    {
     "name": "stderr",
     "output_type": "stream",
     "text": [
      "/tmp/ipykernel_80140/787541875.py:60: SettingWithCopyWarning: \n",
      "A value is trying to be set on a copy of a slice from a DataFrame.\n",
      "Try using .loc[row_indexer,col_indexer] = value instead\n",
      "\n",
      "See the caveats in the documentation: https://pandas.pydata.org/pandas-docs/stable/user_guide/indexing.html#returning-a-view-versus-a-copy\n",
      "  df['label'] = y_pred_test\n"
     ]
    },
    {
     "name": "stdout",
     "output_type": "stream",
     "text": [
      "Di train dapat performa \n",
      "Nilai Precision = 1.0\n",
      "Nilai Recall = 1.0\n",
      "Nilai F1 = 1.0\n",
      "Di test dapat performa\n",
      "Nilai Precision = 0.7916666666666666\n",
      "Nilai Recall = 0.41304347826086957\n",
      "Nilai F1 = 0.5428571428571429\n",
      "########\n",
      "LOGISTIK REGRESSION\n",
      "Di train dapat performa \n",
      "Nilai Precision = 0.8846153846153846\n",
      "Nilai Recall = 0.7232704402515723\n",
      "Nilai F1 = 0.7958477508650518\n",
      "Di test dapat performa\n",
      "Nilai Precision = 0.7941176470588235\n",
      "Nilai Recall = 0.5869565217391305\n",
      "Nilai F1 = 0.675\n",
      "########\n",
      "MLP\n"
     ]
    },
    {
     "name": "stderr",
     "output_type": "stream",
     "text": [
      "/tmp/ipykernel_80140/787541875.py:80: SettingWithCopyWarning: \n",
      "A value is trying to be set on a copy of a slice from a DataFrame.\n",
      "Try using .loc[row_indexer,col_indexer] = value instead\n",
      "\n",
      "See the caveats in the documentation: https://pandas.pydata.org/pandas-docs/stable/user_guide/indexing.html#returning-a-view-versus-a-copy\n",
      "  df['label'] = y_pred_test\n",
      "/tmp/ipykernel_80140/787541875.py:99: SettingWithCopyWarning: \n",
      "A value is trying to be set on a copy of a slice from a DataFrame.\n",
      "Try using .loc[row_indexer,col_indexer] = value instead\n",
      "\n",
      "See the caveats in the documentation: https://pandas.pydata.org/pandas-docs/stable/user_guide/indexing.html#returning-a-view-versus-a-copy\n",
      "  df['label'] = y_pred_test\n"
     ]
    },
    {
     "name": "stdout",
     "output_type": "stream",
     "text": [
      "Di train dapat performa \n",
      "Nilai Precision = 0.9666666666666667\n",
      "Nilai Recall = 0.18238993710691823\n",
      "Nilai F1 = 0.30687830687830686\n",
      "Di test dapat performa\n",
      "Nilai Precision = 1.0\n",
      "Nilai Recall = 0.10869565217391304\n",
      "Nilai F1 = 0.19607843137254902\n",
      "########\n",
      "Rata-rata nilai test dengan Classifier xgb, lr, dan mlp adalah\n",
      "Precision = 0.8718487394957983\n",
      "Recall = 0.39855072463768115\n",
      "F1 = 0.49756668433139023\n",
      "/workspace/Tugas Akhir/dataset/angin_topan\n",
      "\n",
      "\n",
      "************************************************************\n",
      "/workspace/Tugas Akhir/dataset\n",
      "Eksperimen pada bencana angin_topan dengan representasi filter_word_tc\n"
     ]
    },
    {
     "name": "stderr",
     "output_type": "stream",
     "text": [
      "/tmp/ipykernel_80140/787541875.py:124: SettingWithCopyWarning: \n",
      "A value is trying to be set on a copy of a slice from a DataFrame.\n",
      "Try using .loc[row_indexer,col_indexer] = value instead\n",
      "\n",
      "See the caveats in the documentation: https://pandas.pydata.org/pandas-docs/stable/user_guide/indexing.html#returning-a-view-versus-a-copy\n",
      "  df['label'] = y_pred_test\n"
     ]
    },
    {
     "name": "stdout",
     "output_type": "stream",
     "text": [
      "XGBOOST\n",
      "Di train dapat performa \n",
      "Nilai Precision = 0.9854014598540146\n",
      "Nilai Recall = 0.8490566037735849\n",
      "Nilai F1 = 0.9121621621621622\n",
      "Di test dapat performa\n",
      "Nilai Precision = 0.7692307692307693\n",
      "Nilai Recall = 0.21739130434782608\n",
      "Nilai F1 = 0.3389830508474576\n",
      "########\n",
      "RANDOM FOREST\n"
     ]
    },
    {
     "name": "stderr",
     "output_type": "stream",
     "text": [
      "/tmp/ipykernel_80140/787541875.py:60: SettingWithCopyWarning: \n",
      "A value is trying to be set on a copy of a slice from a DataFrame.\n",
      "Try using .loc[row_indexer,col_indexer] = value instead\n",
      "\n",
      "See the caveats in the documentation: https://pandas.pydata.org/pandas-docs/stable/user_guide/indexing.html#returning-a-view-versus-a-copy\n",
      "  df['label'] = y_pred_test\n"
     ]
    },
    {
     "name": "stdout",
     "output_type": "stream",
     "text": [
      "Di train dapat performa \n",
      "Nilai Precision = 1.0\n",
      "Nilai Recall = 1.0\n",
      "Nilai F1 = 1.0\n",
      "Di test dapat performa\n",
      "Nilai Precision = 1.0\n",
      "Nilai Recall = 0.17391304347826086\n",
      "Nilai F1 = 0.29629629629629634\n",
      "########\n",
      "LOGISTIK REGRESSION\n",
      "Di train dapat performa \n",
      "Nilai Precision = 0.864\n",
      "Nilai Recall = 0.6792452830188679\n",
      "Nilai F1 = 0.7605633802816901\n",
      "Di test dapat performa\n",
      "Nilai Precision = 0.8333333333333334\n",
      "Nilai Recall = 0.5434782608695652\n",
      "Nilai F1 = 0.6578947368421053\n",
      "########\n",
      "MLP\n"
     ]
    },
    {
     "name": "stderr",
     "output_type": "stream",
     "text": [
      "/tmp/ipykernel_80140/787541875.py:80: SettingWithCopyWarning: \n",
      "A value is trying to be set on a copy of a slice from a DataFrame.\n",
      "Try using .loc[row_indexer,col_indexer] = value instead\n",
      "\n",
      "See the caveats in the documentation: https://pandas.pydata.org/pandas-docs/stable/user_guide/indexing.html#returning-a-view-versus-a-copy\n",
      "  df['label'] = y_pred_test\n",
      "/tmp/ipykernel_80140/787541875.py:99: SettingWithCopyWarning: \n",
      "A value is trying to be set on a copy of a slice from a DataFrame.\n",
      "Try using .loc[row_indexer,col_indexer] = value instead\n",
      "\n",
      "See the caveats in the documentation: https://pandas.pydata.org/pandas-docs/stable/user_guide/indexing.html#returning-a-view-versus-a-copy\n",
      "  df['label'] = y_pred_test\n"
     ]
    },
    {
     "name": "stdout",
     "output_type": "stream",
     "text": [
      "Di train dapat performa \n",
      "Nilai Precision = 0.6833333333333333\n",
      "Nilai Recall = 0.5157232704402516\n",
      "Nilai F1 = 0.5878136200716846\n",
      "Di test dapat performa\n",
      "Nilai Precision = 0.7586206896551724\n",
      "Nilai Recall = 0.4782608695652174\n",
      "Nilai F1 = 0.5866666666666667\n",
      "########\n",
      "Rata-rata nilai test dengan Classifier xgb, lr, dan mlp adalah\n",
      "Precision = 0.7870615974064249\n",
      "Recall = 0.41304347826086957\n",
      "F1 = 0.5278481514520765\n",
      "/workspace/Tugas Akhir/dataset/angin_topan\n",
      "\n",
      "\n",
      "************************************************************\n",
      "/workspace/Tugas Akhir/dataset\n",
      "Eksperimen pada bencana angin_topan dengan representasi filter_word_tc_window\n"
     ]
    },
    {
     "name": "stderr",
     "output_type": "stream",
     "text": [
      "/tmp/ipykernel_80140/787541875.py:124: SettingWithCopyWarning: \n",
      "A value is trying to be set on a copy of a slice from a DataFrame.\n",
      "Try using .loc[row_indexer,col_indexer] = value instead\n",
      "\n",
      "See the caveats in the documentation: https://pandas.pydata.org/pandas-docs/stable/user_guide/indexing.html#returning-a-view-versus-a-copy\n",
      "  df['label'] = y_pred_test\n"
     ]
    },
    {
     "name": "stdout",
     "output_type": "stream",
     "text": [
      "XGBOOST\n",
      "Di train dapat performa \n",
      "Nilai Precision = 0.9867549668874173\n",
      "Nilai Recall = 0.9371069182389937\n",
      "Nilai F1 = 0.9612903225806452\n",
      "Di test dapat performa\n",
      "Nilai Precision = 0.0\n",
      "Nilai Recall = 0.0\n",
      "Nilai F1 = 0.0\n",
      "########\n",
      "RANDOM FOREST\n"
     ]
    },
    {
     "name": "stderr",
     "output_type": "stream",
     "text": [
      "/opt/conda/lib/python3.8/site-packages/sklearn/metrics/_classification.py:1471: UndefinedMetricWarning: Precision and F-score are ill-defined and being set to 0.0 due to no predicted samples. Use `zero_division` parameter to control this behavior.\n",
      "  _warn_prf(average, modifier, msg_start, len(result))\n",
      "/tmp/ipykernel_80140/787541875.py:60: SettingWithCopyWarning: \n",
      "A value is trying to be set on a copy of a slice from a DataFrame.\n",
      "Try using .loc[row_indexer,col_indexer] = value instead\n",
      "\n",
      "See the caveats in the documentation: https://pandas.pydata.org/pandas-docs/stable/user_guide/indexing.html#returning-a-view-versus-a-copy\n",
      "  df['label'] = y_pred_test\n"
     ]
    },
    {
     "name": "stdout",
     "output_type": "stream",
     "text": [
      "Di train dapat performa \n",
      "Nilai Precision = 1.0\n",
      "Nilai Recall = 1.0\n",
      "Nilai F1 = 1.0\n",
      "Di test dapat performa\n",
      "Nilai Precision = 0.0\n",
      "Nilai Recall = 0.0\n",
      "Nilai F1 = 0.0\n",
      "########\n",
      "LOGISTIK REGRESSION\n",
      "Di train dapat performa \n",
      "Nilai Precision = 0.8692307692307693\n",
      "Nilai Recall = 0.710691823899371\n",
      "Nilai F1 = 0.7820069204152248\n",
      "Di test dapat performa\n",
      "Nilai Precision = 0.68\n",
      "Nilai Recall = 0.7391304347826086\n",
      "Nilai F1 = 0.7083333333333334\n",
      "########\n",
      "MLP\n"
     ]
    },
    {
     "name": "stderr",
     "output_type": "stream",
     "text": [
      "/opt/conda/lib/python3.8/site-packages/sklearn/metrics/_classification.py:1471: UndefinedMetricWarning: Precision and F-score are ill-defined and being set to 0.0 due to no predicted samples. Use `zero_division` parameter to control this behavior.\n",
      "  _warn_prf(average, modifier, msg_start, len(result))\n",
      "/tmp/ipykernel_80140/787541875.py:80: SettingWithCopyWarning: \n",
      "A value is trying to be set on a copy of a slice from a DataFrame.\n",
      "Try using .loc[row_indexer,col_indexer] = value instead\n",
      "\n",
      "See the caveats in the documentation: https://pandas.pydata.org/pandas-docs/stable/user_guide/indexing.html#returning-a-view-versus-a-copy\n",
      "  df['label'] = y_pred_test\n",
      "/tmp/ipykernel_80140/787541875.py:99: SettingWithCopyWarning: \n",
      "A value is trying to be set on a copy of a slice from a DataFrame.\n",
      "Try using .loc[row_indexer,col_indexer] = value instead\n",
      "\n",
      "See the caveats in the documentation: https://pandas.pydata.org/pandas-docs/stable/user_guide/indexing.html#returning-a-view-versus-a-copy\n",
      "  df['label'] = y_pred_test\n"
     ]
    },
    {
     "name": "stdout",
     "output_type": "stream",
     "text": [
      "Di train dapat performa \n",
      "Nilai Precision = 0.7333333333333333\n",
      "Nilai Recall = 0.48427672955974843\n",
      "Nilai F1 = 0.5833333333333334\n",
      "Di test dapat performa\n",
      "Nilai Precision = 0.7428571428571429\n",
      "Nilai Recall = 0.5652173913043478\n",
      "Nilai F1 = 0.6419753086419753\n",
      "########\n",
      "Rata-rata nilai test dengan Classifier xgb, lr, dan mlp adalah\n",
      "Precision = 0.47428571428571437\n",
      "Recall = 0.43478260869565216\n",
      "F1 = 0.4501028806584362\n",
      "/workspace/Tugas Akhir/dataset/angin_topan\n",
      "\n",
      "\n",
      "************************************************************\n",
      "/workspace/Tugas Akhir/dataset\n",
      "Eksperimen pada bencana angin_topan dengan representasi trunc_first_short\n"
     ]
    },
    {
     "name": "stderr",
     "output_type": "stream",
     "text": [
      "/tmp/ipykernel_80140/787541875.py:124: SettingWithCopyWarning: \n",
      "A value is trying to be set on a copy of a slice from a DataFrame.\n",
      "Try using .loc[row_indexer,col_indexer] = value instead\n",
      "\n",
      "See the caveats in the documentation: https://pandas.pydata.org/pandas-docs/stable/user_guide/indexing.html#returning-a-view-versus-a-copy\n",
      "  df['label'] = y_pred_test\n"
     ]
    },
    {
     "name": "stdout",
     "output_type": "stream",
     "text": [
      "XGBOOST\n",
      "Di train dapat performa \n",
      "Nilai Precision = 1.0\n",
      "Nilai Recall = 0.9119496855345912\n",
      "Nilai F1 = 0.9539473684210527\n",
      "Di test dapat performa\n",
      "Nilai Precision = 0.7727272727272727\n",
      "Nilai Recall = 0.3695652173913043\n",
      "Nilai F1 = 0.4999999999999999\n",
      "########\n",
      "RANDOM FOREST\n"
     ]
    },
    {
     "name": "stderr",
     "output_type": "stream",
     "text": [
      "/tmp/ipykernel_80140/787541875.py:60: SettingWithCopyWarning: \n",
      "A value is trying to be set on a copy of a slice from a DataFrame.\n",
      "Try using .loc[row_indexer,col_indexer] = value instead\n",
      "\n",
      "See the caveats in the documentation: https://pandas.pydata.org/pandas-docs/stable/user_guide/indexing.html#returning-a-view-versus-a-copy\n",
      "  df['label'] = y_pred_test\n"
     ]
    },
    {
     "name": "stdout",
     "output_type": "stream",
     "text": [
      "Di train dapat performa \n",
      "Nilai Precision = 1.0\n",
      "Nilai Recall = 1.0\n",
      "Nilai F1 = 1.0\n",
      "Di test dapat performa\n",
      "Nilai Precision = 0.0\n",
      "Nilai Recall = 0.0\n",
      "Nilai F1 = 0.0\n",
      "########\n",
      "LOGISTIK REGRESSION\n",
      "Di train dapat performa \n",
      "Nilai Precision = 0.8827586206896552\n",
      "Nilai Recall = 0.8050314465408805\n",
      "Nilai F1 = 0.8421052631578947\n",
      "Di test dapat performa\n",
      "Nilai Precision = 0.8125\n",
      "Nilai Recall = 0.5652173913043478\n",
      "Nilai F1 = 0.6666666666666667\n",
      "########\n",
      "MLP\n"
     ]
    },
    {
     "name": "stderr",
     "output_type": "stream",
     "text": [
      "/opt/conda/lib/python3.8/site-packages/sklearn/metrics/_classification.py:1471: UndefinedMetricWarning: Precision and F-score are ill-defined and being set to 0.0 due to no predicted samples. Use `zero_division` parameter to control this behavior.\n",
      "  _warn_prf(average, modifier, msg_start, len(result))\n",
      "/tmp/ipykernel_80140/787541875.py:80: SettingWithCopyWarning: \n",
      "A value is trying to be set on a copy of a slice from a DataFrame.\n",
      "Try using .loc[row_indexer,col_indexer] = value instead\n",
      "\n",
      "See the caveats in the documentation: https://pandas.pydata.org/pandas-docs/stable/user_guide/indexing.html#returning-a-view-versus-a-copy\n",
      "  df['label'] = y_pred_test\n",
      "/tmp/ipykernel_80140/787541875.py:99: SettingWithCopyWarning: \n",
      "A value is trying to be set on a copy of a slice from a DataFrame.\n",
      "Try using .loc[row_indexer,col_indexer] = value instead\n",
      "\n",
      "See the caveats in the documentation: https://pandas.pydata.org/pandas-docs/stable/user_guide/indexing.html#returning-a-view-versus-a-copy\n",
      "  df['label'] = y_pred_test\n"
     ]
    },
    {
     "name": "stdout",
     "output_type": "stream",
     "text": [
      "Di train dapat performa \n",
      "Nilai Precision = 0.7261146496815286\n",
      "Nilai Recall = 0.7169811320754716\n",
      "Nilai F1 = 0.721518987341772\n",
      "Di test dapat performa\n",
      "Nilai Precision = 0.75\n",
      "Nilai Recall = 0.6521739130434783\n",
      "Nilai F1 = 0.6976744186046512\n",
      "########\n",
      "Rata-rata nilai test dengan Classifier xgb, lr, dan mlp adalah\n",
      "Precision = 0.7784090909090908\n",
      "Recall = 0.5289855072463768\n",
      "F1 = 0.6214470284237725\n",
      "/workspace/Tugas Akhir/dataset/angin_topan\n",
      "\n",
      "\n",
      "************************************************************\n",
      "/workspace/Tugas Akhir/dataset\n",
      "Eksperimen pada bencana angin_topan dengan representasi trunc_last_short\n"
     ]
    },
    {
     "name": "stderr",
     "output_type": "stream",
     "text": [
      "/tmp/ipykernel_80140/787541875.py:124: SettingWithCopyWarning: \n",
      "A value is trying to be set on a copy of a slice from a DataFrame.\n",
      "Try using .loc[row_indexer,col_indexer] = value instead\n",
      "\n",
      "See the caveats in the documentation: https://pandas.pydata.org/pandas-docs/stable/user_guide/indexing.html#returning-a-view-versus-a-copy\n",
      "  df['label'] = y_pred_test\n"
     ]
    },
    {
     "name": "stdout",
     "output_type": "stream",
     "text": [
      "XGBOOST\n",
      "Di train dapat performa \n",
      "Nilai Precision = 0.9851851851851852\n",
      "Nilai Recall = 0.8364779874213837\n",
      "Nilai F1 = 0.9047619047619048\n",
      "Di test dapat performa\n",
      "Nilai Precision = 0.42857142857142855\n",
      "Nilai Recall = 0.13043478260869565\n",
      "Nilai F1 = 0.2\n",
      "########\n",
      "RANDOM FOREST\n"
     ]
    },
    {
     "name": "stderr",
     "output_type": "stream",
     "text": [
      "/tmp/ipykernel_80140/787541875.py:60: SettingWithCopyWarning: \n",
      "A value is trying to be set on a copy of a slice from a DataFrame.\n",
      "Try using .loc[row_indexer,col_indexer] = value instead\n",
      "\n",
      "See the caveats in the documentation: https://pandas.pydata.org/pandas-docs/stable/user_guide/indexing.html#returning-a-view-versus-a-copy\n",
      "  df['label'] = y_pred_test\n"
     ]
    },
    {
     "name": "stdout",
     "output_type": "stream",
     "text": [
      "Di train dapat performa \n",
      "Nilai Precision = 1.0\n",
      "Nilai Recall = 1.0\n",
      "Nilai F1 = 1.0\n",
      "Di test dapat performa\n",
      "Nilai Precision = 0.7\n",
      "Nilai Recall = 0.15217391304347827\n",
      "Nilai F1 = 0.25\n",
      "########\n",
      "LOGISTIK REGRESSION\n",
      "Di train dapat performa \n",
      "Nilai Precision = 0.8220338983050848\n",
      "Nilai Recall = 0.610062893081761\n",
      "Nilai F1 = 0.7003610108303249\n",
      "Di test dapat performa\n",
      "Nilai Precision = 0.7272727272727273\n",
      "Nilai Recall = 0.5217391304347826\n",
      "Nilai F1 = 0.6075949367088608\n",
      "########\n",
      "MLP\n"
     ]
    },
    {
     "name": "stderr",
     "output_type": "stream",
     "text": [
      "/tmp/ipykernel_80140/787541875.py:80: SettingWithCopyWarning: \n",
      "A value is trying to be set on a copy of a slice from a DataFrame.\n",
      "Try using .loc[row_indexer,col_indexer] = value instead\n",
      "\n",
      "See the caveats in the documentation: https://pandas.pydata.org/pandas-docs/stable/user_guide/indexing.html#returning-a-view-versus-a-copy\n",
      "  df['label'] = y_pred_test\n",
      "/tmp/ipykernel_80140/787541875.py:99: SettingWithCopyWarning: \n",
      "A value is trying to be set on a copy of a slice from a DataFrame.\n",
      "Try using .loc[row_indexer,col_indexer] = value instead\n",
      "\n",
      "See the caveats in the documentation: https://pandas.pydata.org/pandas-docs/stable/user_guide/indexing.html#returning-a-view-versus-a-copy\n",
      "  df['label'] = y_pred_test\n"
     ]
    },
    {
     "name": "stdout",
     "output_type": "stream",
     "text": [
      "Di train dapat performa \n",
      "Nilai Precision = 0.7183098591549296\n",
      "Nilai Recall = 0.32075471698113206\n",
      "Nilai F1 = 0.44347826086956516\n",
      "Di test dapat performa\n",
      "Nilai Precision = 0.8\n",
      "Nilai Recall = 0.2608695652173913\n",
      "Nilai F1 = 0.39344262295081966\n",
      "########\n",
      "Rata-rata nilai test dengan Classifier xgb, lr, dan mlp adalah\n",
      "Precision = 0.6519480519480519\n",
      "Recall = 0.30434782608695654\n",
      "F1 = 0.4003458532198935\n",
      "/workspace/Tugas Akhir/dataset/angin_topan\n",
      "\n",
      "\n",
      "************************************************************\n",
      "/workspace/Tugas Akhir/dataset\n",
      "Eksperimen pada bencana angin_topan dengan representasi trunc_first_long\n"
     ]
    },
    {
     "name": "stderr",
     "output_type": "stream",
     "text": [
      "/tmp/ipykernel_80140/787541875.py:124: SettingWithCopyWarning: \n",
      "A value is trying to be set on a copy of a slice from a DataFrame.\n",
      "Try using .loc[row_indexer,col_indexer] = value instead\n",
      "\n",
      "See the caveats in the documentation: https://pandas.pydata.org/pandas-docs/stable/user_guide/indexing.html#returning-a-view-versus-a-copy\n",
      "  df['label'] = y_pred_test\n"
     ]
    },
    {
     "name": "stdout",
     "output_type": "stream",
     "text": [
      "XGBOOST\n",
      "Di train dapat performa \n",
      "Nilai Precision = 1.0\n",
      "Nilai Recall = 0.9308176100628931\n",
      "Nilai F1 = 0.9641693811074918\n",
      "Di test dapat performa\n",
      "Nilai Precision = 0.8333333333333334\n",
      "Nilai Recall = 0.43478260869565216\n",
      "Nilai F1 = 0.5714285714285714\n",
      "########\n",
      "RANDOM FOREST\n"
     ]
    },
    {
     "name": "stderr",
     "output_type": "stream",
     "text": [
      "/tmp/ipykernel_80140/787541875.py:60: SettingWithCopyWarning: \n",
      "A value is trying to be set on a copy of a slice from a DataFrame.\n",
      "Try using .loc[row_indexer,col_indexer] = value instead\n",
      "\n",
      "See the caveats in the documentation: https://pandas.pydata.org/pandas-docs/stable/user_guide/indexing.html#returning-a-view-versus-a-copy\n",
      "  df['label'] = y_pred_test\n"
     ]
    },
    {
     "name": "stdout",
     "output_type": "stream",
     "text": [
      "Di train dapat performa \n",
      "Nilai Precision = 1.0\n",
      "Nilai Recall = 1.0\n",
      "Nilai F1 = 1.0\n",
      "Di test dapat performa\n",
      "Nilai Precision = 0.8125\n",
      "Nilai Recall = 0.2826086956521739\n",
      "Nilai F1 = 0.41935483870967744\n",
      "########\n",
      "LOGISTIK REGRESSION\n",
      "Di train dapat performa \n",
      "Nilai Precision = 0.9126984126984127\n",
      "Nilai Recall = 0.7232704402515723\n",
      "Nilai F1 = 0.8070175438596491\n",
      "Di test dapat performa\n",
      "Nilai Precision = 0.7666666666666667\n",
      "Nilai Recall = 0.5\n",
      "Nilai F1 = 0.605263157894737\n",
      "########\n",
      "MLP\n"
     ]
    },
    {
     "name": "stderr",
     "output_type": "stream",
     "text": [
      "/tmp/ipykernel_80140/787541875.py:80: SettingWithCopyWarning: \n",
      "A value is trying to be set on a copy of a slice from a DataFrame.\n",
      "Try using .loc[row_indexer,col_indexer] = value instead\n",
      "\n",
      "See the caveats in the documentation: https://pandas.pydata.org/pandas-docs/stable/user_guide/indexing.html#returning-a-view-versus-a-copy\n",
      "  df['label'] = y_pred_test\n",
      "/tmp/ipykernel_80140/787541875.py:99: SettingWithCopyWarning: \n",
      "A value is trying to be set on a copy of a slice from a DataFrame.\n",
      "Try using .loc[row_indexer,col_indexer] = value instead\n",
      "\n",
      "See the caveats in the documentation: https://pandas.pydata.org/pandas-docs/stable/user_guide/indexing.html#returning-a-view-versus-a-copy\n",
      "  df['label'] = y_pred_test\n"
     ]
    },
    {
     "name": "stdout",
     "output_type": "stream",
     "text": [
      "Di train dapat performa \n",
      "Nilai Precision = 0.6\n",
      "Nilai Recall = 0.7735849056603774\n",
      "Nilai F1 = 0.6758241758241758\n",
      "Di test dapat performa\n",
      "Nilai Precision = 0.7045454545454546\n",
      "Nilai Recall = 0.6739130434782609\n",
      "Nilai F1 = 0.688888888888889\n",
      "########\n",
      "Rata-rata nilai test dengan Classifier xgb, lr, dan mlp adalah\n",
      "Precision = 0.7681818181818182\n",
      "Recall = 0.5362318840579711\n",
      "F1 = 0.6218602060707324\n",
      "/workspace/Tugas Akhir/dataset/angin_topan\n",
      "\n",
      "\n",
      "************************************************************\n",
      "/workspace/Tugas Akhir/dataset\n",
      "Eksperimen pada bencana angin_topan dengan representasi trunc_last_long\n"
     ]
    },
    {
     "name": "stderr",
     "output_type": "stream",
     "text": [
      "/tmp/ipykernel_80140/787541875.py:124: SettingWithCopyWarning: \n",
      "A value is trying to be set on a copy of a slice from a DataFrame.\n",
      "Try using .loc[row_indexer,col_indexer] = value instead\n",
      "\n",
      "See the caveats in the documentation: https://pandas.pydata.org/pandas-docs/stable/user_guide/indexing.html#returning-a-view-versus-a-copy\n",
      "  df['label'] = y_pred_test\n"
     ]
    },
    {
     "name": "stdout",
     "output_type": "stream",
     "text": [
      "XGBOOST\n",
      "Di train dapat performa \n",
      "Nilai Precision = 0.9847328244274809\n",
      "Nilai Recall = 0.8113207547169812\n",
      "Nilai F1 = 0.8896551724137931\n",
      "Di test dapat performa\n",
      "Nilai Precision = 0.6875\n",
      "Nilai Recall = 0.2391304347826087\n",
      "Nilai F1 = 0.3548387096774194\n",
      "########\n",
      "RANDOM FOREST\n"
     ]
    },
    {
     "name": "stderr",
     "output_type": "stream",
     "text": [
      "/tmp/ipykernel_80140/787541875.py:60: SettingWithCopyWarning: \n",
      "A value is trying to be set on a copy of a slice from a DataFrame.\n",
      "Try using .loc[row_indexer,col_indexer] = value instead\n",
      "\n",
      "See the caveats in the documentation: https://pandas.pydata.org/pandas-docs/stable/user_guide/indexing.html#returning-a-view-versus-a-copy\n",
      "  df['label'] = y_pred_test\n"
     ]
    },
    {
     "name": "stdout",
     "output_type": "stream",
     "text": [
      "Di train dapat performa \n",
      "Nilai Precision = 1.0\n",
      "Nilai Recall = 1.0\n",
      "Nilai F1 = 1.0\n",
      "Di test dapat performa\n",
      "Nilai Precision = 0.875\n",
      "Nilai Recall = 0.30434782608695654\n",
      "Nilai F1 = 0.4516129032258065\n",
      "########\n",
      "LOGISTIK REGRESSION\n",
      "Di train dapat performa \n",
      "Nilai Precision = 0.8403361344537815\n",
      "Nilai Recall = 0.6289308176100629\n",
      "Nilai F1 = 0.7194244604316546\n",
      "Di test dapat performa\n",
      "Nilai Precision = 0.7142857142857143\n",
      "Nilai Recall = 0.5434782608695652\n",
      "Nilai F1 = 0.617283950617284\n",
      "########\n",
      "MLP\n"
     ]
    },
    {
     "name": "stderr",
     "output_type": "stream",
     "text": [
      "/tmp/ipykernel_80140/787541875.py:80: SettingWithCopyWarning: \n",
      "A value is trying to be set on a copy of a slice from a DataFrame.\n",
      "Try using .loc[row_indexer,col_indexer] = value instead\n",
      "\n",
      "See the caveats in the documentation: https://pandas.pydata.org/pandas-docs/stable/user_guide/indexing.html#returning-a-view-versus-a-copy\n",
      "  df['label'] = y_pred_test\n",
      "/tmp/ipykernel_80140/787541875.py:99: SettingWithCopyWarning: \n",
      "A value is trying to be set on a copy of a slice from a DataFrame.\n",
      "Try using .loc[row_indexer,col_indexer] = value instead\n",
      "\n",
      "See the caveats in the documentation: https://pandas.pydata.org/pandas-docs/stable/user_guide/indexing.html#returning-a-view-versus-a-copy\n",
      "  df['label'] = y_pred_test\n"
     ]
    },
    {
     "name": "stdout",
     "output_type": "stream",
     "text": [
      "Di train dapat performa \n",
      "Nilai Precision = 0.7395833333333334\n",
      "Nilai Recall = 0.44654088050314467\n",
      "Nilai F1 = 0.5568627450980392\n",
      "Di test dapat performa\n",
      "Nilai Precision = 0.68\n",
      "Nilai Recall = 0.3695652173913043\n",
      "Nilai F1 = 0.4788732394366197\n",
      "########\n",
      "Rata-rata nilai test dengan Classifier xgb, lr, dan mlp adalah\n",
      "Precision = 0.6939285714285716\n",
      "Recall = 0.3840579710144927\n",
      "F1 = 0.483665299910441\n",
      "/workspace/Tugas Akhir/dataset/angin_topan\n",
      "\n",
      "\n",
      "************************************************************\n",
      "/workspace/Tugas Akhir/dataset\n",
      "Eksperimen pada bencana angin_topan dengan representasi trunc_combination\n"
     ]
    },
    {
     "name": "stderr",
     "output_type": "stream",
     "text": [
      "/tmp/ipykernel_80140/787541875.py:124: SettingWithCopyWarning: \n",
      "A value is trying to be set on a copy of a slice from a DataFrame.\n",
      "Try using .loc[row_indexer,col_indexer] = value instead\n",
      "\n",
      "See the caveats in the documentation: https://pandas.pydata.org/pandas-docs/stable/user_guide/indexing.html#returning-a-view-versus-a-copy\n",
      "  df['label'] = y_pred_test\n"
     ]
    },
    {
     "name": "stdout",
     "output_type": "stream",
     "text": [
      "XGBOOST\n",
      "Di train dapat performa \n",
      "Nilai Precision = 0.9931972789115646\n",
      "Nilai Recall = 0.9182389937106918\n",
      "Nilai F1 = 0.954248366013072\n",
      "Di test dapat performa\n",
      "Nilai Precision = 0.8260869565217391\n",
      "Nilai Recall = 0.41304347826086957\n",
      "Nilai F1 = 0.5507246376811594\n",
      "########\n",
      "RANDOM FOREST\n"
     ]
    },
    {
     "name": "stderr",
     "output_type": "stream",
     "text": [
      "/tmp/ipykernel_80140/787541875.py:60: SettingWithCopyWarning: \n",
      "A value is trying to be set on a copy of a slice from a DataFrame.\n",
      "Try using .loc[row_indexer,col_indexer] = value instead\n",
      "\n",
      "See the caveats in the documentation: https://pandas.pydata.org/pandas-docs/stable/user_guide/indexing.html#returning-a-view-versus-a-copy\n",
      "  df['label'] = y_pred_test\n"
     ]
    },
    {
     "name": "stdout",
     "output_type": "stream",
     "text": [
      "Di train dapat performa \n",
      "Nilai Precision = 1.0\n",
      "Nilai Recall = 1.0\n",
      "Nilai F1 = 1.0\n",
      "Di test dapat performa\n",
      "Nilai Precision = 1.0\n",
      "Nilai Recall = 0.32608695652173914\n",
      "Nilai F1 = 0.4918032786885246\n",
      "########\n",
      "LOGISTIK REGRESSION\n",
      "Di train dapat performa \n",
      "Nilai Precision = 0.8604651162790697\n",
      "Nilai Recall = 0.6981132075471698\n",
      "Nilai F1 = 0.7708333333333334\n",
      "Di test dapat performa\n",
      "Nilai Precision = 0.8235294117647058\n",
      "Nilai Recall = 0.6086956521739131\n",
      "Nilai F1 = 0.7\n",
      "########\n",
      "MLP\n"
     ]
    },
    {
     "name": "stderr",
     "output_type": "stream",
     "text": [
      "/tmp/ipykernel_80140/787541875.py:80: SettingWithCopyWarning: \n",
      "A value is trying to be set on a copy of a slice from a DataFrame.\n",
      "Try using .loc[row_indexer,col_indexer] = value instead\n",
      "\n",
      "See the caveats in the documentation: https://pandas.pydata.org/pandas-docs/stable/user_guide/indexing.html#returning-a-view-versus-a-copy\n",
      "  df['label'] = y_pred_test\n",
      "/tmp/ipykernel_80140/787541875.py:99: SettingWithCopyWarning: \n",
      "A value is trying to be set on a copy of a slice from a DataFrame.\n",
      "Try using .loc[row_indexer,col_indexer] = value instead\n",
      "\n",
      "See the caveats in the documentation: https://pandas.pydata.org/pandas-docs/stable/user_guide/indexing.html#returning-a-view-versus-a-copy\n",
      "  df['label'] = y_pred_test\n"
     ]
    },
    {
     "name": "stdout",
     "output_type": "stream",
     "text": [
      "Di train dapat performa \n",
      "Nilai Precision = 0.7132867132867133\n",
      "Nilai Recall = 0.6415094339622641\n",
      "Nilai F1 = 0.6754966887417219\n",
      "Di test dapat performa\n",
      "Nilai Precision = 0.7027027027027027\n",
      "Nilai Recall = 0.5652173913043478\n",
      "Nilai F1 = 0.6265060240963856\n",
      "########\n",
      "Rata-rata nilai test dengan Classifier xgb, lr, dan mlp adalah\n",
      "Precision = 0.7841063569963825\n",
      "Recall = 0.5289855072463768\n",
      "F1 = 0.6257435539258484\n",
      "/workspace/Tugas Akhir/dataset/angin_topan\n",
      "\n",
      "\n",
      "************************************************************\n",
      "/workspace/Tugas Akhir/dataset\n",
      "Eksperimen pada bencana angin_topan dengan representasi textrank\n"
     ]
    },
    {
     "name": "stderr",
     "output_type": "stream",
     "text": [
      "/tmp/ipykernel_80140/787541875.py:124: SettingWithCopyWarning: \n",
      "A value is trying to be set on a copy of a slice from a DataFrame.\n",
      "Try using .loc[row_indexer,col_indexer] = value instead\n",
      "\n",
      "See the caveats in the documentation: https://pandas.pydata.org/pandas-docs/stable/user_guide/indexing.html#returning-a-view-versus-a-copy\n",
      "  df['label'] = y_pred_test\n"
     ]
    },
    {
     "name": "stdout",
     "output_type": "stream",
     "text": [
      "XGBOOST\n",
      "Di train dapat performa \n",
      "Nilai Precision = 0.9929078014184397\n",
      "Nilai Recall = 0.8805031446540881\n",
      "Nilai F1 = 0.9333333333333335\n",
      "Di test dapat performa\n",
      "Nilai Precision = 0.8333333333333334\n",
      "Nilai Recall = 0.10869565217391304\n",
      "Nilai F1 = 0.1923076923076923\n",
      "########\n",
      "RANDOM FOREST\n"
     ]
    },
    {
     "name": "stderr",
     "output_type": "stream",
     "text": [
      "/tmp/ipykernel_80140/787541875.py:60: SettingWithCopyWarning: \n",
      "A value is trying to be set on a copy of a slice from a DataFrame.\n",
      "Try using .loc[row_indexer,col_indexer] = value instead\n",
      "\n",
      "See the caveats in the documentation: https://pandas.pydata.org/pandas-docs/stable/user_guide/indexing.html#returning-a-view-versus-a-copy\n",
      "  df['label'] = y_pred_test\n"
     ]
    },
    {
     "name": "stdout",
     "output_type": "stream",
     "text": [
      "Di train dapat performa \n",
      "Nilai Precision = 1.0\n",
      "Nilai Recall = 1.0\n",
      "Nilai F1 = 1.0\n",
      "Di test dapat performa\n",
      "Nilai Precision = 1.0\n",
      "Nilai Recall = 0.021739130434782608\n",
      "Nilai F1 = 0.042553191489361694\n",
      "########\n",
      "LOGISTIK REGRESSION\n",
      "Di train dapat performa \n",
      "Nilai Precision = 0.8955223880597015\n",
      "Nilai Recall = 0.7547169811320755\n",
      "Nilai F1 = 0.8191126279863482\n",
      "Di test dapat performa\n",
      "Nilai Precision = 0.7567567567567568\n",
      "Nilai Recall = 0.6086956521739131\n",
      "Nilai F1 = 0.674698795180723\n",
      "########\n",
      "MLP\n"
     ]
    },
    {
     "name": "stderr",
     "output_type": "stream",
     "text": [
      "/tmp/ipykernel_80140/787541875.py:80: SettingWithCopyWarning: \n",
      "A value is trying to be set on a copy of a slice from a DataFrame.\n",
      "Try using .loc[row_indexer,col_indexer] = value instead\n",
      "\n",
      "See the caveats in the documentation: https://pandas.pydata.org/pandas-docs/stable/user_guide/indexing.html#returning-a-view-versus-a-copy\n",
      "  df['label'] = y_pred_test\n",
      "/tmp/ipykernel_80140/787541875.py:99: SettingWithCopyWarning: \n",
      "A value is trying to be set on a copy of a slice from a DataFrame.\n",
      "Try using .loc[row_indexer,col_indexer] = value instead\n",
      "\n",
      "See the caveats in the documentation: https://pandas.pydata.org/pandas-docs/stable/user_guide/indexing.html#returning-a-view-versus-a-copy\n",
      "  df['label'] = y_pred_test\n"
     ]
    },
    {
     "name": "stdout",
     "output_type": "stream",
     "text": [
      "Di train dapat performa \n",
      "Nilai Precision = 0.7634408602150538\n",
      "Nilai Recall = 0.44654088050314467\n",
      "Nilai F1 = 0.5634920634920635\n",
      "Di test dapat performa\n",
      "Nilai Precision = 0.78125\n",
      "Nilai Recall = 0.5434782608695652\n",
      "Nilai F1 = 0.641025641025641\n",
      "########\n",
      "Rata-rata nilai test dengan Classifier xgb, lr, dan mlp adalah\n",
      "Precision = 0.7904466966966966\n",
      "Recall = 0.4202898550724638\n",
      "F1 = 0.5026773761713521\n",
      "/workspace/Tugas Akhir/dataset/angin_topan\n",
      "\n",
      "\n",
      "************************************************************\n",
      "/workspace/Tugas Akhir/dataset\n",
      "Eksperimen pada bencana angin_topan dengan representasi sum_indobart\n"
     ]
    },
    {
     "name": "stderr",
     "output_type": "stream",
     "text": [
      "/tmp/ipykernel_80140/787541875.py:124: SettingWithCopyWarning: \n",
      "A value is trying to be set on a copy of a slice from a DataFrame.\n",
      "Try using .loc[row_indexer,col_indexer] = value instead\n",
      "\n",
      "See the caveats in the documentation: https://pandas.pydata.org/pandas-docs/stable/user_guide/indexing.html#returning-a-view-versus-a-copy\n",
      "  df['label'] = y_pred_test\n"
     ]
    },
    {
     "name": "stdout",
     "output_type": "stream",
     "text": [
      "XGBOOST\n",
      "Di train dapat performa \n",
      "Nilai Precision = 1.0\n",
      "Nilai Recall = 0.8553459119496856\n",
      "Nilai F1 = 0.9220338983050848\n",
      "Di test dapat performa\n",
      "Nilai Precision = 0.8888888888888888\n",
      "Nilai Recall = 0.17391304347826086\n",
      "Nilai F1 = 0.29090909090909095\n",
      "########\n",
      "RANDOM FOREST\n"
     ]
    },
    {
     "name": "stderr",
     "output_type": "stream",
     "text": [
      "/tmp/ipykernel_80140/787541875.py:60: SettingWithCopyWarning: \n",
      "A value is trying to be set on a copy of a slice from a DataFrame.\n",
      "Try using .loc[row_indexer,col_indexer] = value instead\n",
      "\n",
      "See the caveats in the documentation: https://pandas.pydata.org/pandas-docs/stable/user_guide/indexing.html#returning-a-view-versus-a-copy\n",
      "  df['label'] = y_pred_test\n"
     ]
    },
    {
     "name": "stdout",
     "output_type": "stream",
     "text": [
      "Di train dapat performa \n",
      "Nilai Precision = 1.0\n",
      "Nilai Recall = 1.0\n",
      "Nilai F1 = 1.0\n",
      "Di test dapat performa\n",
      "Nilai Precision = 1.0\n",
      "Nilai Recall = 0.17391304347826086\n",
      "Nilai F1 = 0.29629629629629634\n",
      "########\n",
      "LOGISTIK REGRESSION\n",
      "Di train dapat performa \n",
      "Nilai Precision = 0.9133858267716536\n",
      "Nilai Recall = 0.7295597484276729\n",
      "Nilai F1 = 0.8111888111888113\n",
      "Di test dapat performa\n",
      "Nilai Precision = 0.8648648648648649\n",
      "Nilai Recall = 0.6956521739130435\n",
      "Nilai F1 = 0.7710843373493975\n",
      "########\n",
      "MLP\n"
     ]
    },
    {
     "name": "stderr",
     "output_type": "stream",
     "text": [
      "/tmp/ipykernel_80140/787541875.py:80: SettingWithCopyWarning: \n",
      "A value is trying to be set on a copy of a slice from a DataFrame.\n",
      "Try using .loc[row_indexer,col_indexer] = value instead\n",
      "\n",
      "See the caveats in the documentation: https://pandas.pydata.org/pandas-docs/stable/user_guide/indexing.html#returning-a-view-versus-a-copy\n",
      "  df['label'] = y_pred_test\n",
      "/tmp/ipykernel_80140/787541875.py:99: SettingWithCopyWarning: \n",
      "A value is trying to be set on a copy of a slice from a DataFrame.\n",
      "Try using .loc[row_indexer,col_indexer] = value instead\n",
      "\n",
      "See the caveats in the documentation: https://pandas.pydata.org/pandas-docs/stable/user_guide/indexing.html#returning-a-view-versus-a-copy\n",
      "  df['label'] = y_pred_test\n"
     ]
    },
    {
     "name": "stdout",
     "output_type": "stream",
     "text": [
      "Di train dapat performa \n",
      "Nilai Precision = 0.7865168539325843\n",
      "Nilai Recall = 0.44025157232704404\n",
      "Nilai F1 = 0.5645161290322581\n",
      "Di test dapat performa\n",
      "Nilai Precision = 0.875\n",
      "Nilai Recall = 0.45652173913043476\n",
      "Nilai F1 = 0.6\n",
      "########\n",
      "Rata-rata nilai test dengan Classifier xgb, lr, dan mlp adalah\n",
      "Precision = 0.8762512512512513\n",
      "Recall = 0.44202898550724634\n",
      "F1 = 0.5539978094194962\n",
      "/workspace/Tugas Akhir/dataset/angin_topan\n",
      "\n",
      "\n",
      "************************************************************\n",
      "/workspace/Tugas Akhir/dataset\n",
      "Eksperimen pada bencana angin_topan dengan representasi sum_liputan6\n"
     ]
    },
    {
     "name": "stderr",
     "output_type": "stream",
     "text": [
      "/tmp/ipykernel_80140/787541875.py:124: SettingWithCopyWarning: \n",
      "A value is trying to be set on a copy of a slice from a DataFrame.\n",
      "Try using .loc[row_indexer,col_indexer] = value instead\n",
      "\n",
      "See the caveats in the documentation: https://pandas.pydata.org/pandas-docs/stable/user_guide/indexing.html#returning-a-view-versus-a-copy\n",
      "  df['label'] = y_pred_test\n"
     ]
    },
    {
     "name": "stdout",
     "output_type": "stream",
     "text": [
      "XGBOOST\n",
      "Di train dapat performa \n",
      "Nilai Precision = 1.0\n",
      "Nilai Recall = 0.8867924528301887\n",
      "Nilai F1 = 0.9400000000000001\n",
      "Di test dapat performa\n",
      "Nilai Precision = 0.8125\n",
      "Nilai Recall = 0.2826086956521739\n",
      "Nilai F1 = 0.41935483870967744\n",
      "########\n",
      "RANDOM FOREST\n"
     ]
    },
    {
     "name": "stderr",
     "output_type": "stream",
     "text": [
      "/tmp/ipykernel_80140/787541875.py:60: SettingWithCopyWarning: \n",
      "A value is trying to be set on a copy of a slice from a DataFrame.\n",
      "Try using .loc[row_indexer,col_indexer] = value instead\n",
      "\n",
      "See the caveats in the documentation: https://pandas.pydata.org/pandas-docs/stable/user_guide/indexing.html#returning-a-view-versus-a-copy\n",
      "  df['label'] = y_pred_test\n"
     ]
    },
    {
     "name": "stdout",
     "output_type": "stream",
     "text": [
      "Di train dapat performa \n",
      "Nilai Precision = 1.0\n",
      "Nilai Recall = 1.0\n",
      "Nilai F1 = 1.0\n",
      "Di test dapat performa\n",
      "Nilai Precision = 1.0\n",
      "Nilai Recall = 0.1956521739130435\n",
      "Nilai F1 = 0.32727272727272727\n",
      "########\n",
      "LOGISTIK REGRESSION\n",
      "Di train dapat performa \n",
      "Nilai Precision = 0.8857142857142857\n",
      "Nilai Recall = 0.779874213836478\n",
      "Nilai F1 = 0.8294314381270903\n",
      "Di test dapat performa\n",
      "Nilai Precision = 0.8048780487804879\n",
      "Nilai Recall = 0.717391304347826\n",
      "Nilai F1 = 0.7586206896551724\n",
      "########\n",
      "MLP\n"
     ]
    },
    {
     "name": "stderr",
     "output_type": "stream",
     "text": [
      "/tmp/ipykernel_80140/787541875.py:80: SettingWithCopyWarning: \n",
      "A value is trying to be set on a copy of a slice from a DataFrame.\n",
      "Try using .loc[row_indexer,col_indexer] = value instead\n",
      "\n",
      "See the caveats in the documentation: https://pandas.pydata.org/pandas-docs/stable/user_guide/indexing.html#returning-a-view-versus-a-copy\n",
      "  df['label'] = y_pred_test\n",
      "/tmp/ipykernel_80140/787541875.py:99: SettingWithCopyWarning: \n",
      "A value is trying to be set on a copy of a slice from a DataFrame.\n",
      "Try using .loc[row_indexer,col_indexer] = value instead\n",
      "\n",
      "See the caveats in the documentation: https://pandas.pydata.org/pandas-docs/stable/user_guide/indexing.html#returning-a-view-versus-a-copy\n",
      "  df['label'] = y_pred_test\n"
     ]
    },
    {
     "name": "stdout",
     "output_type": "stream",
     "text": [
      "Di train dapat performa \n",
      "Nilai Precision = 0.8529411764705882\n",
      "Nilai Recall = 0.5471698113207547\n",
      "Nilai F1 = 0.6666666666666666\n",
      "Di test dapat performa\n",
      "Nilai Precision = 0.896551724137931\n",
      "Nilai Recall = 0.5652173913043478\n",
      "Nilai F1 = 0.6933333333333332\n",
      "########\n",
      "Rata-rata nilai test dengan Classifier xgb, lr, dan mlp adalah\n",
      "Precision = 0.8379765909728064\n",
      "Recall = 0.5217391304347826\n",
      "F1 = 0.623769620566061\n",
      "/workspace/Tugas Akhir/dataset/angin_topan\n",
      "\n",
      "\n",
      "************************************************************\n",
      "/workspace/Tugas Akhir/dataset\n",
      "Eksperimen pada bencana angin_topan dengan representasi sum_pegasus\n"
     ]
    },
    {
     "name": "stderr",
     "output_type": "stream",
     "text": [
      "/tmp/ipykernel_80140/787541875.py:124: SettingWithCopyWarning: \n",
      "A value is trying to be set on a copy of a slice from a DataFrame.\n",
      "Try using .loc[row_indexer,col_indexer] = value instead\n",
      "\n",
      "See the caveats in the documentation: https://pandas.pydata.org/pandas-docs/stable/user_guide/indexing.html#returning-a-view-versus-a-copy\n",
      "  df['label'] = y_pred_test\n"
     ]
    },
    {
     "name": "stdout",
     "output_type": "stream",
     "text": [
      "XGBOOST\n",
      "Di train dapat performa \n",
      "Nilai Precision = 1.0\n",
      "Nilai Recall = 0.7484276729559748\n",
      "Nilai F1 = 0.856115107913669\n",
      "Di test dapat performa\n",
      "Nilai Precision = 0.4\n",
      "Nilai Recall = 0.043478260869565216\n",
      "Nilai F1 = 0.0784313725490196\n",
      "########\n",
      "RANDOM FOREST\n"
     ]
    },
    {
     "name": "stderr",
     "output_type": "stream",
     "text": [
      "/tmp/ipykernel_80140/787541875.py:60: SettingWithCopyWarning: \n",
      "A value is trying to be set on a copy of a slice from a DataFrame.\n",
      "Try using .loc[row_indexer,col_indexer] = value instead\n",
      "\n",
      "See the caveats in the documentation: https://pandas.pydata.org/pandas-docs/stable/user_guide/indexing.html#returning-a-view-versus-a-copy\n",
      "  df['label'] = y_pred_test\n"
     ]
    },
    {
     "name": "stdout",
     "output_type": "stream",
     "text": [
      "Di train dapat performa \n",
      "Nilai Precision = 1.0\n",
      "Nilai Recall = 1.0\n",
      "Nilai F1 = 1.0\n",
      "Di test dapat performa\n",
      "Nilai Precision = 0.5\n",
      "Nilai Recall = 0.043478260869565216\n",
      "Nilai F1 = 0.08\n",
      "########\n",
      "LOGISTIK REGRESSION\n",
      "Di train dapat performa \n",
      "Nilai Precision = 0.7903225806451613\n",
      "Nilai Recall = 0.6163522012578616\n",
      "Nilai F1 = 0.6925795053003533\n",
      "Di test dapat performa\n",
      "Nilai Precision = 0.5277777777777778\n",
      "Nilai Recall = 0.41304347826086957\n",
      "Nilai F1 = 0.4634146341463415\n",
      "########\n",
      "MLP\n"
     ]
    },
    {
     "name": "stderr",
     "output_type": "stream",
     "text": [
      "/tmp/ipykernel_80140/787541875.py:80: SettingWithCopyWarning: \n",
      "A value is trying to be set on a copy of a slice from a DataFrame.\n",
      "Try using .loc[row_indexer,col_indexer] = value instead\n",
      "\n",
      "See the caveats in the documentation: https://pandas.pydata.org/pandas-docs/stable/user_guide/indexing.html#returning-a-view-versus-a-copy\n",
      "  df['label'] = y_pred_test\n",
      "/tmp/ipykernel_80140/787541875.py:99: SettingWithCopyWarning: \n",
      "A value is trying to be set on a copy of a slice from a DataFrame.\n",
      "Try using .loc[row_indexer,col_indexer] = value instead\n",
      "\n",
      "See the caveats in the documentation: https://pandas.pydata.org/pandas-docs/stable/user_guide/indexing.html#returning-a-view-versus-a-copy\n",
      "  df['label'] = y_pred_test\n"
     ]
    },
    {
     "name": "stdout",
     "output_type": "stream",
     "text": [
      "Di train dapat performa \n",
      "Nilai Precision = 0.9166666666666666\n",
      "Nilai Recall = 0.06918238993710692\n",
      "Nilai F1 = 0.1286549707602339\n",
      "Di test dapat performa\n",
      "Nilai Precision = 0.5\n",
      "Nilai Recall = 0.043478260869565216\n",
      "Nilai F1 = 0.08\n",
      "########\n",
      "Rata-rata nilai test dengan Classifier xgb, lr, dan mlp adalah\n",
      "Precision = 0.4759259259259259\n",
      "Recall = 0.16666666666666666\n",
      "F1 = 0.20728200223178703\n",
      "/workspace/Tugas Akhir/dataset/angin_topan\n",
      "\n",
      "\n",
      "************************************************************\n",
      "{'angin_topan': {'title_ori': {'xgb': {'prec': 0.8181818181818182, 'rec': 0.1956521739130435, 'f1': 0.3157894736842105, 'acc': 0.805}, 'rf': {'prec': 1.0, 'rec': 0.15217391304347827, 'f1': 0.2641509433962264, 'acc': 0.805}, 'lr': {'prec': 0.75, 'rec': 0.717391304347826, 'f1': 0.7333333333333332, 'acc': 0.88}, 'mlp': {'prec': 0.7021276595744681, 'rec': 0.717391304347826, 'f1': 0.7096774193548387, 'acc': 0.865}}, 'text_ori': {'xgb': {'prec': 0.8095238095238095, 'rec': 0.3695652173913043, 'f1': 0.5074626865671641, 'acc': 0.835}, 'rf': {'prec': 0.9, 'rec': 0.391304347826087, 'f1': 0.5454545454545454, 'acc': 0.85}, 'lr': {'prec': 0.7878787878787878, 'rec': 0.5652173913043478, 'f1': 0.6582278481012658, 'acc': 0.865}, 'mlp': {'prec': 1.0, 'rec': 0.13043478260869565, 'f1': 0.23076923076923078, 'acc': 0.8}}, 'tc_ori': {'xgb': {'prec': 0.8214285714285714, 'rec': 0.5, 'f1': 0.6216216216216216, 'acc': 0.86}, 'rf': {'prec': 0.7916666666666666, 'rec': 0.41304347826086957, 'f1': 0.5428571428571429, 'acc': 0.84}, 'lr': {'prec': 0.7941176470588235, 'rec': 0.5869565217391305, 'f1': 0.675, 'acc': 0.87}, 'mlp': {'prec': 1.0, 'rec': 0.10869565217391304, 'f1': 0.19607843137254902, 'acc': 0.795}}, 'filter_word_tc': {'xgb': {'prec': 0.7692307692307693, 'rec': 0.21739130434782608, 'f1': 0.3389830508474576, 'acc': 0.805}, 'rf': {'prec': 1.0, 'rec': 0.17391304347826086, 'f1': 0.29629629629629634, 'acc': 0.81}, 'lr': {'prec': 0.8333333333333334, 'rec': 0.5434782608695652, 'f1': 0.6578947368421053, 'acc': 0.87}, 'mlp': {'prec': 0.7586206896551724, 'rec': 0.4782608695652174, 'f1': 0.5866666666666667, 'acc': 0.845}}, 'filter_word_tc_window': {'xgb': {'prec': 0.0, 'rec': 0.0, 'f1': 0.0, 'acc': 0.77}, 'rf': {'prec': 0.0, 'rec': 0.0, 'f1': 0.0, 'acc': 0.77}, 'lr': {'prec': 0.68, 'rec': 0.7391304347826086, 'f1': 0.7083333333333334, 'acc': 0.86}, 'mlp': {'prec': 0.7428571428571429, 'rec': 0.5652173913043478, 'f1': 0.6419753086419753, 'acc': 0.855}}, 'trunc_first_short': {'xgb': {'prec': 0.7727272727272727, 'rec': 0.3695652173913043, 'f1': 0.4999999999999999, 'acc': 0.83}, 'rf': {'prec': 0.0, 'rec': 0.0, 'f1': 0.0, 'acc': 0.77}, 'lr': {'prec': 0.8125, 'rec': 0.5652173913043478, 'f1': 0.6666666666666667, 'acc': 0.87}, 'mlp': {'prec': 0.75, 'rec': 0.6521739130434783, 'f1': 0.6976744186046512, 'acc': 0.87}}, 'trunc_last_short': {'xgb': {'prec': 0.42857142857142855, 'rec': 0.13043478260869565, 'f1': 0.2, 'acc': 0.76}, 'rf': {'prec': 0.7, 'rec': 0.15217391304347827, 'f1': 0.25, 'acc': 0.79}, 'lr': {'prec': 0.7272727272727273, 'rec': 0.5217391304347826, 'f1': 0.6075949367088608, 'acc': 0.845}, 'mlp': {'prec': 0.8, 'rec': 0.2608695652173913, 'f1': 0.39344262295081966, 'acc': 0.815}}, 'trunc_first_long': {'xgb': {'prec': 0.8333333333333334, 'rec': 0.43478260869565216, 'f1': 0.5714285714285714, 'acc': 0.85}, 'rf': {'prec': 0.8125, 'rec': 0.2826086956521739, 'f1': 0.41935483870967744, 'acc': 0.82}, 'lr': {'prec': 0.7666666666666667, 'rec': 0.5, 'f1': 0.605263157894737, 'acc': 0.85}, 'mlp': {'prec': 0.7045454545454546, 'rec': 0.6739130434782609, 'f1': 0.688888888888889, 'acc': 0.86}}, 'trunc_last_long': {'xgb': {'prec': 0.6875, 'rec': 0.2391304347826087, 'f1': 0.3548387096774194, 'acc': 0.8}, 'rf': {'prec': 0.875, 'rec': 0.30434782608695654, 'f1': 0.4516129032258065, 'acc': 0.83}, 'lr': {'prec': 0.7142857142857143, 'rec': 0.5434782608695652, 'f1': 0.617283950617284, 'acc': 0.845}, 'mlp': {'prec': 0.68, 'rec': 0.3695652173913043, 'f1': 0.4788732394366197, 'acc': 0.815}}, 'trunc_combination': {'xgb': {'prec': 0.8260869565217391, 'rec': 0.41304347826086957, 'f1': 0.5507246376811594, 'acc': 0.845}, 'rf': {'prec': 1.0, 'rec': 0.32608695652173914, 'f1': 0.4918032786885246, 'acc': 0.845}, 'lr': {'prec': 0.8235294117647058, 'rec': 0.6086956521739131, 'f1': 0.7, 'acc': 0.88}, 'mlp': {'prec': 0.7027027027027027, 'rec': 0.5652173913043478, 'f1': 0.6265060240963856, 'acc': 0.845}}, 'textrank': {'xgb': {'prec': 0.8333333333333334, 'rec': 0.10869565217391304, 'f1': 0.1923076923076923, 'acc': 0.79}, 'rf': {'prec': 1.0, 'rec': 0.021739130434782608, 'f1': 0.042553191489361694, 'acc': 0.775}, 'lr': {'prec': 0.7567567567567568, 'rec': 0.6086956521739131, 'f1': 0.674698795180723, 'acc': 0.865}, 'mlp': {'prec': 0.78125, 'rec': 0.5434782608695652, 'f1': 0.641025641025641, 'acc': 0.86}}, 'sum_indobart': {'xgb': {'prec': 0.8888888888888888, 'rec': 0.17391304347826086, 'f1': 0.29090909090909095, 'acc': 0.805}, 'rf': {'prec': 1.0, 'rec': 0.17391304347826086, 'f1': 0.29629629629629634, 'acc': 0.81}, 'lr': {'prec': 0.8648648648648649, 'rec': 0.6956521739130435, 'f1': 0.7710843373493975, 'acc': 0.905}, 'mlp': {'prec': 0.875, 'rec': 0.45652173913043476, 'f1': 0.6, 'acc': 0.86}}, 'sum_liputan6': {'xgb': {'prec': 0.8125, 'rec': 0.2826086956521739, 'f1': 0.41935483870967744, 'acc': 0.82}, 'rf': {'prec': 1.0, 'rec': 0.1956521739130435, 'f1': 0.32727272727272727, 'acc': 0.815}, 'lr': {'prec': 0.8048780487804879, 'rec': 0.717391304347826, 'f1': 0.7586206896551724, 'acc': 0.895}, 'mlp': {'prec': 0.896551724137931, 'rec': 0.5652173913043478, 'f1': 0.6933333333333332, 'acc': 0.885}}, 'sum_pegasus': {'xgb': {'prec': 0.4, 'rec': 0.043478260869565216, 'f1': 0.0784313725490196, 'acc': 0.765}, 'rf': {'prec': 0.5, 'rec': 0.043478260869565216, 'f1': 0.08, 'acc': 0.77}, 'lr': {'prec': 0.5277777777777778, 'rec': 0.41304347826086957, 'f1': 0.4634146341463415, 'acc': 0.78}, 'mlp': {'prec': 0.5, 'rec': 0.043478260869565216, 'f1': 0.08, 'acc': 0.77}}}}\n",
      "/workspace/Tugas Akhir/dataset\n"
     ]
    },
    {
     "name": "stderr",
     "output_type": "stream",
     "text": [
      "/tmp/ipykernel_80140/787541875.py:124: SettingWithCopyWarning: \n",
      "A value is trying to be set on a copy of a slice from a DataFrame.\n",
      "Try using .loc[row_indexer,col_indexer] = value instead\n",
      "\n",
      "See the caveats in the documentation: https://pandas.pydata.org/pandas-docs/stable/user_guide/indexing.html#returning-a-view-versus-a-copy\n",
      "  df['label'] = y_pred_test\n"
     ]
    }
   ],
   "source": [
    "%cd angin_topan\n",
    "get_f1_eks_praproses_bencana('angin_topan')\n",
    "%cd .."
   ]
  },
  {
   "cell_type": "code",
   "execution_count": null,
   "id": "a2c1d126",
   "metadata": {
    "scrolled": true
   },
   "outputs": [],
   "source": [
    "%cd banjir\n",
    "get_f1_eks_praproses_bencana('banjir')\n",
    "%cd .."
   ]
  },
  {
   "cell_type": "code",
   "execution_count": 16,
   "id": "0b2be349",
   "metadata": {
    "scrolled": true
   },
   "outputs": [
    {
     "name": "stdout",
     "output_type": "stream",
     "text": [
      "/workspace/dataset/erupsi\n",
      "evaluasi pada bencana = erupsi\n",
      "/workspace/dataset\n",
      "Eksperimen pada bencana erupsi dengan representasi title_ori\n",
      "XGBOOST\n",
      "Di train dapat performa \n",
      "Nilai Precision = 1.0\n",
      "Nilai Recall = 0.8631578947368421\n",
      "Nilai F1 = 0.9265536723163842\n",
      "Di test dapat performa\n",
      "Nilai Precision = 1.0\n",
      "Nilai Recall = 0.17647058823529413\n",
      "Nilai F1 = 0.3\n",
      "########\n",
      "RANDOM FOREST\n"
     ]
    },
    {
     "name": "stderr",
     "output_type": "stream",
     "text": [
      "/tmp/ipykernel_1865/1041286260.py:61: SettingWithCopyWarning: \n",
      "A value is trying to be set on a copy of a slice from a DataFrame.\n",
      "Try using .loc[row_indexer,col_indexer] = value instead\n",
      "\n",
      "See the caveats in the documentation: https://pandas.pydata.org/pandas-docs/stable/user_guide/indexing.html#returning-a-view-versus-a-copy\n",
      "  df['label'] = y_pred_test\n"
     ]
    },
    {
     "name": "stdout",
     "output_type": "stream",
     "text": [
      "Di train dapat performa \n",
      "Nilai Precision = 1.0\n",
      "Nilai Recall = 1.0\n",
      "Nilai F1 = 1.0\n",
      "Di test dapat performa\n",
      "Nilai Precision = 1.0\n",
      "Nilai Recall = 0.058823529411764705\n",
      "Nilai F1 = 0.1111111111111111\n",
      "########\n",
      "LOGISTIK REGRESSION\n",
      "Di train dapat performa \n",
      "Nilai Precision = 0.8831168831168831\n",
      "Nilai Recall = 0.7157894736842105\n",
      "Nilai F1 = 0.7906976744186047\n",
      "Di test dapat performa\n",
      "Nilai Precision = 0.5909090909090909\n",
      "Nilai Recall = 0.38235294117647056\n",
      "Nilai F1 = 0.46428571428571425\n",
      "########\n",
      "MLP\n"
     ]
    },
    {
     "name": "stderr",
     "output_type": "stream",
     "text": [
      "/tmp/ipykernel_1865/1041286260.py:81: SettingWithCopyWarning: \n",
      "A value is trying to be set on a copy of a slice from a DataFrame.\n",
      "Try using .loc[row_indexer,col_indexer] = value instead\n",
      "\n",
      "See the caveats in the documentation: https://pandas.pydata.org/pandas-docs/stable/user_guide/indexing.html#returning-a-view-versus-a-copy\n",
      "  df['label'] = y_pred_test\n",
      "/tmp/ipykernel_1865/1041286260.py:100: SettingWithCopyWarning: \n",
      "A value is trying to be set on a copy of a slice from a DataFrame.\n",
      "Try using .loc[row_indexer,col_indexer] = value instead\n",
      "\n",
      "See the caveats in the documentation: https://pandas.pydata.org/pandas-docs/stable/user_guide/indexing.html#returning-a-view-versus-a-copy\n",
      "  df['label'] = y_pred_test\n"
     ]
    },
    {
     "name": "stdout",
     "output_type": "stream",
     "text": [
      "Di train dapat performa \n",
      "Nilai Precision = 0.8125\n",
      "Nilai Recall = 0.4105263157894737\n",
      "Nilai F1 = 0.5454545454545455\n",
      "Di test dapat performa\n",
      "Nilai Precision = 1.0\n",
      "Nilai Recall = 0.20588235294117646\n",
      "Nilai F1 = 0.34146341463414637\n",
      "########\n",
      "Rata-rata nilai test dengan Classifier xgb, lr, dan mlp adalah\n",
      "Precision = 0.8636363636363636\n",
      "Recall = 0.2549019607843137\n",
      "F1 = 0.36858304297328687\n",
      "/workspace/dataset/erupsi\n",
      "\n",
      "\n",
      "/workspace/dataset\n",
      "Eksperimen pada bencana erupsi dengan representasi text_ori\n"
     ]
    },
    {
     "name": "stderr",
     "output_type": "stream",
     "text": [
      "/tmp/ipykernel_1865/1041286260.py:125: SettingWithCopyWarning: \n",
      "A value is trying to be set on a copy of a slice from a DataFrame.\n",
      "Try using .loc[row_indexer,col_indexer] = value instead\n",
      "\n",
      "See the caveats in the documentation: https://pandas.pydata.org/pandas-docs/stable/user_guide/indexing.html#returning-a-view-versus-a-copy\n",
      "  df['label'] = y_pred_test\n"
     ]
    },
    {
     "name": "stdout",
     "output_type": "stream",
     "text": [
      "XGBOOST\n",
      "Di train dapat performa \n",
      "Nilai Precision = 1.0\n",
      "Nilai Recall = 0.9789473684210527\n",
      "Nilai F1 = 0.9893617021276596\n",
      "Di test dapat performa\n",
      "Nilai Precision = 0.8571428571428571\n",
      "Nilai Recall = 0.17647058823529413\n",
      "Nilai F1 = 0.29268292682926833\n",
      "########\n",
      "RANDOM FOREST\n"
     ]
    },
    {
     "name": "stderr",
     "output_type": "stream",
     "text": [
      "/tmp/ipykernel_1865/1041286260.py:61: SettingWithCopyWarning: \n",
      "A value is trying to be set on a copy of a slice from a DataFrame.\n",
      "Try using .loc[row_indexer,col_indexer] = value instead\n",
      "\n",
      "See the caveats in the documentation: https://pandas.pydata.org/pandas-docs/stable/user_guide/indexing.html#returning-a-view-versus-a-copy\n",
      "  df['label'] = y_pred_test\n"
     ]
    },
    {
     "name": "stdout",
     "output_type": "stream",
     "text": [
      "Di train dapat performa \n",
      "Nilai Precision = 1.0\n",
      "Nilai Recall = 1.0\n",
      "Nilai F1 = 1.0\n",
      "Di test dapat performa\n",
      "Nilai Precision = 0.75\n",
      "Nilai Recall = 0.08823529411764706\n",
      "Nilai F1 = 0.15789473684210525\n",
      "########\n",
      "LOGISTIK REGRESSION\n"
     ]
    },
    {
     "name": "stderr",
     "output_type": "stream",
     "text": [
      "/tmp/ipykernel_1865/1041286260.py:81: SettingWithCopyWarning: \n",
      "A value is trying to be set on a copy of a slice from a DataFrame.\n",
      "Try using .loc[row_indexer,col_indexer] = value instead\n",
      "\n",
      "See the caveats in the documentation: https://pandas.pydata.org/pandas-docs/stable/user_guide/indexing.html#returning-a-view-versus-a-copy\n",
      "  df['label'] = y_pred_test\n"
     ]
    },
    {
     "name": "stdout",
     "output_type": "stream",
     "text": [
      "Di train dapat performa \n",
      "Nilai Precision = 0.8983050847457628\n",
      "Nilai Recall = 0.5578947368421052\n",
      "Nilai F1 = 0.6883116883116883\n",
      "Di test dapat performa\n",
      "Nilai Precision = 0.7647058823529411\n",
      "Nilai Recall = 0.38235294117647056\n",
      "Nilai F1 = 0.5098039215686274\n",
      "########\n",
      "MLP\n"
     ]
    },
    {
     "name": "stderr",
     "output_type": "stream",
     "text": [
      "/tmp/ipykernel_1865/1041286260.py:100: SettingWithCopyWarning: \n",
      "A value is trying to be set on a copy of a slice from a DataFrame.\n",
      "Try using .loc[row_indexer,col_indexer] = value instead\n",
      "\n",
      "See the caveats in the documentation: https://pandas.pydata.org/pandas-docs/stable/user_guide/indexing.html#returning-a-view-versus-a-copy\n",
      "  df['label'] = y_pred_test\n"
     ]
    },
    {
     "name": "stdout",
     "output_type": "stream",
     "text": [
      "Di train dapat performa \n",
      "Nilai Precision = 0.8723404255319149\n",
      "Nilai Recall = 0.43157894736842106\n",
      "Nilai F1 = 0.5774647887323944\n",
      "Di test dapat performa\n",
      "Nilai Precision = 0.7857142857142857\n",
      "Nilai Recall = 0.3235294117647059\n",
      "Nilai F1 = 0.45833333333333326\n",
      "########\n",
      "Rata-rata nilai test dengan Classifier xgb, lr, dan mlp adalah\n",
      "Precision = 0.8025210084033613\n",
      "Recall = 0.29411764705882354\n",
      "F1 = 0.4202733939104097\n",
      "/workspace/dataset/erupsi\n",
      "\n",
      "\n",
      "/workspace/dataset\n",
      "Eksperimen pada bencana erupsi dengan representasi tc_ori\n"
     ]
    },
    {
     "name": "stderr",
     "output_type": "stream",
     "text": [
      "/tmp/ipykernel_1865/1041286260.py:125: SettingWithCopyWarning: \n",
      "A value is trying to be set on a copy of a slice from a DataFrame.\n",
      "Try using .loc[row_indexer,col_indexer] = value instead\n",
      "\n",
      "See the caveats in the documentation: https://pandas.pydata.org/pandas-docs/stable/user_guide/indexing.html#returning-a-view-versus-a-copy\n",
      "  df['label'] = y_pred_test\n"
     ]
    },
    {
     "name": "stdout",
     "output_type": "stream",
     "text": [
      "XGBOOST\n",
      "Di train dapat performa \n",
      "Nilai Precision = 1.0\n",
      "Nilai Recall = 0.968421052631579\n",
      "Nilai F1 = 0.983957219251337\n",
      "Di test dapat performa\n",
      "Nilai Precision = 0.6666666666666666\n",
      "Nilai Recall = 0.11764705882352941\n",
      "Nilai F1 = 0.2\n",
      "########\n",
      "RANDOM FOREST\n"
     ]
    },
    {
     "name": "stderr",
     "output_type": "stream",
     "text": [
      "/tmp/ipykernel_1865/1041286260.py:61: SettingWithCopyWarning: \n",
      "A value is trying to be set on a copy of a slice from a DataFrame.\n",
      "Try using .loc[row_indexer,col_indexer] = value instead\n",
      "\n",
      "See the caveats in the documentation: https://pandas.pydata.org/pandas-docs/stable/user_guide/indexing.html#returning-a-view-versus-a-copy\n",
      "  df['label'] = y_pred_test\n"
     ]
    },
    {
     "name": "stdout",
     "output_type": "stream",
     "text": [
      "Di train dapat performa \n",
      "Nilai Precision = 1.0\n",
      "Nilai Recall = 1.0\n",
      "Nilai F1 = 1.0\n",
      "Di test dapat performa\n",
      "Nilai Precision = 0.8333333333333334\n",
      "Nilai Recall = 0.14705882352941177\n",
      "Nilai F1 = 0.25\n",
      "########\n",
      "LOGISTIK REGRESSION\n"
     ]
    },
    {
     "name": "stderr",
     "output_type": "stream",
     "text": [
      "/tmp/ipykernel_1865/1041286260.py:81: SettingWithCopyWarning: \n",
      "A value is trying to be set on a copy of a slice from a DataFrame.\n",
      "Try using .loc[row_indexer,col_indexer] = value instead\n",
      "\n",
      "See the caveats in the documentation: https://pandas.pydata.org/pandas-docs/stable/user_guide/indexing.html#returning-a-view-versus-a-copy\n",
      "  df['label'] = y_pred_test\n"
     ]
    },
    {
     "name": "stdout",
     "output_type": "stream",
     "text": [
      "Di train dapat performa \n",
      "Nilai Precision = 0.9\n",
      "Nilai Recall = 0.5684210526315789\n",
      "Nilai F1 = 0.6967741935483871\n",
      "Di test dapat performa\n",
      "Nilai Precision = 0.8666666666666667\n",
      "Nilai Recall = 0.38235294117647056\n",
      "Nilai F1 = 0.5306122448979592\n",
      "########\n",
      "MLP\n"
     ]
    },
    {
     "name": "stderr",
     "output_type": "stream",
     "text": [
      "/tmp/ipykernel_1865/1041286260.py:100: SettingWithCopyWarning: \n",
      "A value is trying to be set on a copy of a slice from a DataFrame.\n",
      "Try using .loc[row_indexer,col_indexer] = value instead\n",
      "\n",
      "See the caveats in the documentation: https://pandas.pydata.org/pandas-docs/stable/user_guide/indexing.html#returning-a-view-versus-a-copy\n",
      "  df['label'] = y_pred_test\n"
     ]
    },
    {
     "name": "stdout",
     "output_type": "stream",
     "text": [
      "Di train dapat performa \n",
      "Nilai Precision = 0.8518518518518519\n",
      "Nilai Recall = 0.4842105263157895\n",
      "Nilai F1 = 0.6174496644295302\n",
      "Di test dapat performa\n",
      "Nilai Precision = 0.8125\n",
      "Nilai Recall = 0.38235294117647056\n",
      "Nilai F1 = 0.52\n",
      "########\n",
      "Rata-rata nilai test dengan Classifier xgb, lr, dan mlp adalah\n",
      "Precision = 0.7819444444444444\n",
      "Recall = 0.29411764705882354\n",
      "F1 = 0.41687074829931975\n",
      "/workspace/dataset/erupsi\n",
      "\n",
      "\n",
      "/workspace/dataset\n",
      "Eksperimen pada bencana erupsi dengan representasi filter_word_tc\n"
     ]
    },
    {
     "name": "stderr",
     "output_type": "stream",
     "text": [
      "/tmp/ipykernel_1865/1041286260.py:125: SettingWithCopyWarning: \n",
      "A value is trying to be set on a copy of a slice from a DataFrame.\n",
      "Try using .loc[row_indexer,col_indexer] = value instead\n",
      "\n",
      "See the caveats in the documentation: https://pandas.pydata.org/pandas-docs/stable/user_guide/indexing.html#returning-a-view-versus-a-copy\n",
      "  df['label'] = y_pred_test\n"
     ]
    },
    {
     "name": "stdout",
     "output_type": "stream",
     "text": [
      "XGBOOST\n",
      "Di train dapat performa \n",
      "Nilai Precision = 1.0\n",
      "Nilai Recall = 0.8736842105263158\n",
      "Nilai F1 = 0.9325842696629214\n",
      "Di test dapat performa\n",
      "Nilai Precision = 1.0\n",
      "Nilai Recall = 0.058823529411764705\n",
      "Nilai F1 = 0.1111111111111111\n",
      "########\n",
      "RANDOM FOREST\n"
     ]
    },
    {
     "name": "stderr",
     "output_type": "stream",
     "text": [
      "/tmp/ipykernel_1865/1041286260.py:61: SettingWithCopyWarning: \n",
      "A value is trying to be set on a copy of a slice from a DataFrame.\n",
      "Try using .loc[row_indexer,col_indexer] = value instead\n",
      "\n",
      "See the caveats in the documentation: https://pandas.pydata.org/pandas-docs/stable/user_guide/indexing.html#returning-a-view-versus-a-copy\n",
      "  df['label'] = y_pred_test\n"
     ]
    },
    {
     "name": "stdout",
     "output_type": "stream",
     "text": [
      "Di train dapat performa \n",
      "Nilai Precision = 1.0\n",
      "Nilai Recall = 1.0\n",
      "Nilai F1 = 1.0\n",
      "Di test dapat performa\n",
      "Nilai Precision = 0.0\n",
      "Nilai Recall = 0.0\n",
      "Nilai F1 = 0.0\n",
      "########\n",
      "LOGISTIK REGRESSION\n",
      "Di train dapat performa \n",
      "Nilai Precision = 0.8571428571428571\n",
      "Nilai Recall = 0.4421052631578947\n",
      "Nilai F1 = 0.5833333333333334\n",
      "Di test dapat performa\n",
      "Nilai Precision = 0.75\n",
      "Nilai Recall = 0.17647058823529413\n",
      "Nilai F1 = 0.2857142857142857\n",
      "########\n",
      "MLP\n"
     ]
    },
    {
     "name": "stderr",
     "output_type": "stream",
     "text": [
      "/opt/conda/lib/python3.8/site-packages/sklearn/metrics/_classification.py:1344: UndefinedMetricWarning: Precision and F-score are ill-defined and being set to 0.0 due to no predicted samples. Use `zero_division` parameter to control this behavior.\n",
      "  _warn_prf(average, modifier, msg_start, len(result))\n",
      "/tmp/ipykernel_1865/1041286260.py:81: SettingWithCopyWarning: \n",
      "A value is trying to be set on a copy of a slice from a DataFrame.\n",
      "Try using .loc[row_indexer,col_indexer] = value instead\n",
      "\n",
      "See the caveats in the documentation: https://pandas.pydata.org/pandas-docs/stable/user_guide/indexing.html#returning-a-view-versus-a-copy\n",
      "  df['label'] = y_pred_test\n",
      "/tmp/ipykernel_1865/1041286260.py:100: SettingWithCopyWarning: \n",
      "A value is trying to be set on a copy of a slice from a DataFrame.\n",
      "Try using .loc[row_indexer,col_indexer] = value instead\n",
      "\n",
      "See the caveats in the documentation: https://pandas.pydata.org/pandas-docs/stable/user_guide/indexing.html#returning-a-view-versus-a-copy\n",
      "  df['label'] = y_pred_test\n"
     ]
    },
    {
     "name": "stdout",
     "output_type": "stream",
     "text": [
      "Di train dapat performa \n",
      "Nilai Precision = 0.5052631578947369\n",
      "Nilai Recall = 0.5052631578947369\n",
      "Nilai F1 = 0.5052631578947369\n",
      "Di test dapat performa\n",
      "Nilai Precision = 0.7647058823529411\n",
      "Nilai Recall = 0.38235294117647056\n",
      "Nilai F1 = 0.5098039215686274\n",
      "########\n",
      "Rata-rata nilai test dengan Classifier xgb, lr, dan mlp adalah\n",
      "Precision = 0.8382352941176471\n",
      "Recall = 0.2058823529411765\n",
      "F1 = 0.30220977279800804\n",
      "/workspace/dataset/erupsi\n",
      "\n",
      "\n",
      "/workspace/dataset\n",
      "Eksperimen pada bencana erupsi dengan representasi filter_word_tc_window\n"
     ]
    },
    {
     "name": "stderr",
     "output_type": "stream",
     "text": [
      "/tmp/ipykernel_1865/1041286260.py:125: SettingWithCopyWarning: \n",
      "A value is trying to be set on a copy of a slice from a DataFrame.\n",
      "Try using .loc[row_indexer,col_indexer] = value instead\n",
      "\n",
      "See the caveats in the documentation: https://pandas.pydata.org/pandas-docs/stable/user_guide/indexing.html#returning-a-view-versus-a-copy\n",
      "  df['label'] = y_pred_test\n"
     ]
    },
    {
     "name": "stdout",
     "output_type": "stream",
     "text": [
      "XGBOOST\n",
      "Di train dapat performa \n",
      "Nilai Precision = 1.0\n",
      "Nilai Recall = 0.9263157894736842\n",
      "Nilai F1 = 0.9617486338797814\n",
      "Di test dapat performa\n",
      "Nilai Precision = 1.0\n",
      "Nilai Recall = 0.029411764705882353\n",
      "Nilai F1 = 0.05714285714285715\n",
      "########\n",
      "RANDOM FOREST\n"
     ]
    },
    {
     "name": "stderr",
     "output_type": "stream",
     "text": [
      "/tmp/ipykernel_1865/1041286260.py:61: SettingWithCopyWarning: \n",
      "A value is trying to be set on a copy of a slice from a DataFrame.\n",
      "Try using .loc[row_indexer,col_indexer] = value instead\n",
      "\n",
      "See the caveats in the documentation: https://pandas.pydata.org/pandas-docs/stable/user_guide/indexing.html#returning-a-view-versus-a-copy\n",
      "  df['label'] = y_pred_test\n"
     ]
    },
    {
     "name": "stdout",
     "output_type": "stream",
     "text": [
      "Di train dapat performa \n",
      "Nilai Precision = 1.0\n",
      "Nilai Recall = 1.0\n",
      "Nilai F1 = 1.0\n",
      "Di test dapat performa\n",
      "Nilai Precision = 0.0\n",
      "Nilai Recall = 0.0\n",
      "Nilai F1 = 0.0\n",
      "########\n",
      "LOGISTIK REGRESSION\n"
     ]
    },
    {
     "name": "stderr",
     "output_type": "stream",
     "text": [
      "/opt/conda/lib/python3.8/site-packages/sklearn/metrics/_classification.py:1344: UndefinedMetricWarning: Precision and F-score are ill-defined and being set to 0.0 due to no predicted samples. Use `zero_division` parameter to control this behavior.\n",
      "  _warn_prf(average, modifier, msg_start, len(result))\n",
      "/tmp/ipykernel_1865/1041286260.py:81: SettingWithCopyWarning: \n",
      "A value is trying to be set on a copy of a slice from a DataFrame.\n",
      "Try using .loc[row_indexer,col_indexer] = value instead\n",
      "\n",
      "See the caveats in the documentation: https://pandas.pydata.org/pandas-docs/stable/user_guide/indexing.html#returning-a-view-versus-a-copy\n",
      "  df['label'] = y_pred_test\n"
     ]
    },
    {
     "name": "stdout",
     "output_type": "stream",
     "text": [
      "Di train dapat performa \n",
      "Nilai Precision = 0.9137931034482759\n",
      "Nilai Recall = 0.5578947368421052\n",
      "Nilai F1 = 0.6928104575163399\n",
      "Di test dapat performa\n",
      "Nilai Precision = 0.6666666666666666\n",
      "Nilai Recall = 0.17647058823529413\n",
      "Nilai F1 = 0.27906976744186046\n",
      "########\n",
      "MLP\n"
     ]
    },
    {
     "name": "stderr",
     "output_type": "stream",
     "text": [
      "/tmp/ipykernel_1865/1041286260.py:100: SettingWithCopyWarning: \n",
      "A value is trying to be set on a copy of a slice from a DataFrame.\n",
      "Try using .loc[row_indexer,col_indexer] = value instead\n",
      "\n",
      "See the caveats in the documentation: https://pandas.pydata.org/pandas-docs/stable/user_guide/indexing.html#returning-a-view-versus-a-copy\n",
      "  df['label'] = y_pred_test\n"
     ]
    },
    {
     "name": "stdout",
     "output_type": "stream",
     "text": [
      "Di train dapat performa \n",
      "Nilai Precision = 0.9565217391304348\n",
      "Nilai Recall = 0.23157894736842105\n",
      "Nilai F1 = 0.3728813559322034\n",
      "Di test dapat performa\n",
      "Nilai Precision = 1.0\n",
      "Nilai Recall = 0.11764705882352941\n",
      "Nilai F1 = 0.21052631578947367\n",
      "########\n",
      "Rata-rata nilai test dengan Classifier xgb, lr, dan mlp adalah\n",
      "Precision = 0.8888888888888888\n",
      "Recall = 0.10784313725490197\n",
      "F1 = 0.18224631345806377\n",
      "/workspace/dataset/erupsi\n",
      "\n",
      "\n",
      "/workspace/dataset\n",
      "Eksperimen pada bencana erupsi dengan representasi trunc_first_short\n"
     ]
    },
    {
     "name": "stderr",
     "output_type": "stream",
     "text": [
      "/tmp/ipykernel_1865/1041286260.py:125: SettingWithCopyWarning: \n",
      "A value is trying to be set on a copy of a slice from a DataFrame.\n",
      "Try using .loc[row_indexer,col_indexer] = value instead\n",
      "\n",
      "See the caveats in the documentation: https://pandas.pydata.org/pandas-docs/stable/user_guide/indexing.html#returning-a-view-versus-a-copy\n",
      "  df['label'] = y_pred_test\n"
     ]
    },
    {
     "name": "stdout",
     "output_type": "stream",
     "text": [
      "XGBOOST\n",
      "Di train dapat performa \n",
      "Nilai Precision = 1.0\n",
      "Nilai Recall = 0.9263157894736842\n",
      "Nilai F1 = 0.9617486338797814\n",
      "Di test dapat performa\n",
      "Nilai Precision = 1.0\n",
      "Nilai Recall = 0.23529411764705882\n",
      "Nilai F1 = 0.38095238095238093\n",
      "########\n",
      "RANDOM FOREST\n"
     ]
    },
    {
     "name": "stderr",
     "output_type": "stream",
     "text": [
      "/tmp/ipykernel_1865/1041286260.py:61: SettingWithCopyWarning: \n",
      "A value is trying to be set on a copy of a slice from a DataFrame.\n",
      "Try using .loc[row_indexer,col_indexer] = value instead\n",
      "\n",
      "See the caveats in the documentation: https://pandas.pydata.org/pandas-docs/stable/user_guide/indexing.html#returning-a-view-versus-a-copy\n",
      "  df['label'] = y_pred_test\n"
     ]
    },
    {
     "name": "stdout",
     "output_type": "stream",
     "text": [
      "Di train dapat performa \n",
      "Nilai Precision = 1.0\n",
      "Nilai Recall = 1.0\n",
      "Nilai F1 = 1.0\n",
      "Di test dapat performa\n",
      "Nilai Precision = 1.0\n",
      "Nilai Recall = 0.11764705882352941\n",
      "Nilai F1 = 0.21052631578947367\n",
      "########\n",
      "LOGISTIK REGRESSION\n"
     ]
    },
    {
     "name": "stderr",
     "output_type": "stream",
     "text": [
      "/tmp/ipykernel_1865/1041286260.py:81: SettingWithCopyWarning: \n",
      "A value is trying to be set on a copy of a slice from a DataFrame.\n",
      "Try using .loc[row_indexer,col_indexer] = value instead\n",
      "\n",
      "See the caveats in the documentation: https://pandas.pydata.org/pandas-docs/stable/user_guide/indexing.html#returning-a-view-versus-a-copy\n",
      "  df['label'] = y_pred_test\n"
     ]
    },
    {
     "name": "stdout",
     "output_type": "stream",
     "text": [
      "Di train dapat performa \n",
      "Nilai Precision = 0.8571428571428571\n",
      "Nilai Recall = 0.631578947368421\n",
      "Nilai F1 = 0.7272727272727273\n",
      "Di test dapat performa\n",
      "Nilai Precision = 0.8095238095238095\n",
      "Nilai Recall = 0.5\n",
      "Nilai F1 = 0.6181818181818182\n",
      "########\n",
      "MLP\n"
     ]
    },
    {
     "name": "stderr",
     "output_type": "stream",
     "text": [
      "/tmp/ipykernel_1865/1041286260.py:100: SettingWithCopyWarning: \n",
      "A value is trying to be set on a copy of a slice from a DataFrame.\n",
      "Try using .loc[row_indexer,col_indexer] = value instead\n",
      "\n",
      "See the caveats in the documentation: https://pandas.pydata.org/pandas-docs/stable/user_guide/indexing.html#returning-a-view-versus-a-copy\n",
      "  df['label'] = y_pred_test\n"
     ]
    },
    {
     "name": "stdout",
     "output_type": "stream",
     "text": [
      "Di train dapat performa \n",
      "Nilai Precision = 0.9411764705882353\n",
      "Nilai Recall = 0.16842105263157894\n",
      "Nilai F1 = 0.28571428571428564\n",
      "Di test dapat performa\n",
      "Nilai Precision = 1.0\n",
      "Nilai Recall = 0.14705882352941177\n",
      "Nilai F1 = 0.25641025641025644\n",
      "########\n",
      "Rata-rata nilai test dengan Classifier xgb, lr, dan mlp adalah\n",
      "Precision = 0.9365079365079364\n",
      "Recall = 0.29411764705882354\n",
      "F1 = 0.4185148185148185\n",
      "/workspace/dataset/erupsi\n",
      "\n",
      "\n",
      "/workspace/dataset\n",
      "Eksperimen pada bencana erupsi dengan representasi trunc_last_short\n"
     ]
    },
    {
     "name": "stderr",
     "output_type": "stream",
     "text": [
      "/tmp/ipykernel_1865/1041286260.py:125: SettingWithCopyWarning: \n",
      "A value is trying to be set on a copy of a slice from a DataFrame.\n",
      "Try using .loc[row_indexer,col_indexer] = value instead\n",
      "\n",
      "See the caveats in the documentation: https://pandas.pydata.org/pandas-docs/stable/user_guide/indexing.html#returning-a-view-versus-a-copy\n",
      "  df['label'] = y_pred_test\n"
     ]
    },
    {
     "name": "stdout",
     "output_type": "stream",
     "text": [
      "XGBOOST\n",
      "Di train dapat performa \n",
      "Nilai Precision = 1.0\n",
      "Nilai Recall = 0.8631578947368421\n",
      "Nilai F1 = 0.9265536723163842\n",
      "Di test dapat performa\n",
      "Nilai Precision = 0.75\n",
      "Nilai Recall = 0.2647058823529412\n",
      "Nilai F1 = 0.39130434782608703\n",
      "########\n",
      "RANDOM FOREST\n"
     ]
    },
    {
     "name": "stderr",
     "output_type": "stream",
     "text": [
      "/tmp/ipykernel_1865/1041286260.py:61: SettingWithCopyWarning: \n",
      "A value is trying to be set on a copy of a slice from a DataFrame.\n",
      "Try using .loc[row_indexer,col_indexer] = value instead\n",
      "\n",
      "See the caveats in the documentation: https://pandas.pydata.org/pandas-docs/stable/user_guide/indexing.html#returning-a-view-versus-a-copy\n",
      "  df['label'] = y_pred_test\n"
     ]
    },
    {
     "name": "stdout",
     "output_type": "stream",
     "text": [
      "Di train dapat performa \n",
      "Nilai Precision = 1.0\n",
      "Nilai Recall = 1.0\n",
      "Nilai F1 = 1.0\n",
      "Di test dapat performa\n",
      "Nilai Precision = 0.5\n",
      "Nilai Recall = 0.029411764705882353\n",
      "Nilai F1 = 0.05555555555555555\n",
      "########\n",
      "LOGISTIK REGRESSION\n"
     ]
    },
    {
     "name": "stderr",
     "output_type": "stream",
     "text": [
      "/tmp/ipykernel_1865/1041286260.py:81: SettingWithCopyWarning: \n",
      "A value is trying to be set on a copy of a slice from a DataFrame.\n",
      "Try using .loc[row_indexer,col_indexer] = value instead\n",
      "\n",
      "See the caveats in the documentation: https://pandas.pydata.org/pandas-docs/stable/user_guide/indexing.html#returning-a-view-versus-a-copy\n",
      "  df['label'] = y_pred_test\n"
     ]
    },
    {
     "name": "stdout",
     "output_type": "stream",
     "text": [
      "Di train dapat performa \n",
      "Nilai Precision = 0.9122807017543859\n",
      "Nilai Recall = 0.5473684210526316\n",
      "Nilai F1 = 0.6842105263157894\n",
      "Di test dapat performa\n",
      "Nilai Precision = 0.8235294117647058\n",
      "Nilai Recall = 0.4117647058823529\n",
      "Nilai F1 = 0.5490196078431372\n",
      "########\n",
      "MLP\n"
     ]
    },
    {
     "name": "stderr",
     "output_type": "stream",
     "text": [
      "/tmp/ipykernel_1865/1041286260.py:100: SettingWithCopyWarning: \n",
      "A value is trying to be set on a copy of a slice from a DataFrame.\n",
      "Try using .loc[row_indexer,col_indexer] = value instead\n",
      "\n",
      "See the caveats in the documentation: https://pandas.pydata.org/pandas-docs/stable/user_guide/indexing.html#returning-a-view-versus-a-copy\n",
      "  df['label'] = y_pred_test\n"
     ]
    },
    {
     "name": "stdout",
     "output_type": "stream",
     "text": [
      "Di train dapat performa \n",
      "Nilai Precision = 0.813953488372093\n",
      "Nilai Recall = 0.3684210526315789\n",
      "Nilai F1 = 0.5072463768115942\n",
      "Di test dapat performa\n",
      "Nilai Precision = 0.8571428571428571\n",
      "Nilai Recall = 0.35294117647058826\n",
      "Nilai F1 = 0.5\n",
      "########\n",
      "Rata-rata nilai test dengan Classifier xgb, lr, dan mlp adalah\n",
      "Precision = 0.8102240896358542\n",
      "Recall = 0.34313725490196084\n",
      "F1 = 0.48010798522307474\n",
      "/workspace/dataset/erupsi\n",
      "\n",
      "\n",
      "/workspace/dataset\n",
      "Eksperimen pada bencana erupsi dengan representasi trunc_first_long\n"
     ]
    },
    {
     "name": "stderr",
     "output_type": "stream",
     "text": [
      "/tmp/ipykernel_1865/1041286260.py:125: SettingWithCopyWarning: \n",
      "A value is trying to be set on a copy of a slice from a DataFrame.\n",
      "Try using .loc[row_indexer,col_indexer] = value instead\n",
      "\n",
      "See the caveats in the documentation: https://pandas.pydata.org/pandas-docs/stable/user_guide/indexing.html#returning-a-view-versus-a-copy\n",
      "  df['label'] = y_pred_test\n"
     ]
    },
    {
     "name": "stdout",
     "output_type": "stream",
     "text": [
      "XGBOOST\n",
      "Di train dapat performa \n",
      "Nilai Precision = 1.0\n",
      "Nilai Recall = 0.968421052631579\n",
      "Nilai F1 = 0.983957219251337\n",
      "Di test dapat performa\n",
      "Nilai Precision = 0.8333333333333334\n",
      "Nilai Recall = 0.14705882352941177\n",
      "Nilai F1 = 0.25\n",
      "########\n",
      "RANDOM FOREST\n"
     ]
    },
    {
     "name": "stderr",
     "output_type": "stream",
     "text": [
      "/tmp/ipykernel_1865/1041286260.py:61: SettingWithCopyWarning: \n",
      "A value is trying to be set on a copy of a slice from a DataFrame.\n",
      "Try using .loc[row_indexer,col_indexer] = value instead\n",
      "\n",
      "See the caveats in the documentation: https://pandas.pydata.org/pandas-docs/stable/user_guide/indexing.html#returning-a-view-versus-a-copy\n",
      "  df['label'] = y_pred_test\n"
     ]
    },
    {
     "name": "stdout",
     "output_type": "stream",
     "text": [
      "Di train dapat performa \n",
      "Nilai Precision = 1.0\n",
      "Nilai Recall = 1.0\n",
      "Nilai F1 = 1.0\n",
      "Di test dapat performa\n",
      "Nilai Precision = 0.8333333333333334\n",
      "Nilai Recall = 0.14705882352941177\n",
      "Nilai F1 = 0.25\n",
      "########\n",
      "LOGISTIK REGRESSION\n"
     ]
    },
    {
     "name": "stderr",
     "output_type": "stream",
     "text": [
      "/tmp/ipykernel_1865/1041286260.py:81: SettingWithCopyWarning: \n",
      "A value is trying to be set on a copy of a slice from a DataFrame.\n",
      "Try using .loc[row_indexer,col_indexer] = value instead\n",
      "\n",
      "See the caveats in the documentation: https://pandas.pydata.org/pandas-docs/stable/user_guide/indexing.html#returning-a-view-versus-a-copy\n",
      "  df['label'] = y_pred_test\n"
     ]
    },
    {
     "name": "stdout",
     "output_type": "stream",
     "text": [
      "Di train dapat performa \n",
      "Nilai Precision = 0.8591549295774648\n",
      "Nilai Recall = 0.6421052631578947\n",
      "Nilai F1 = 0.7349397590361445\n",
      "Di test dapat performa\n",
      "Nilai Precision = 0.9285714285714286\n",
      "Nilai Recall = 0.38235294117647056\n",
      "Nilai F1 = 0.5416666666666667\n",
      "########\n",
      "MLP\n"
     ]
    },
    {
     "name": "stderr",
     "output_type": "stream",
     "text": [
      "/tmp/ipykernel_1865/1041286260.py:100: SettingWithCopyWarning: \n",
      "A value is trying to be set on a copy of a slice from a DataFrame.\n",
      "Try using .loc[row_indexer,col_indexer] = value instead\n",
      "\n",
      "See the caveats in the documentation: https://pandas.pydata.org/pandas-docs/stable/user_guide/indexing.html#returning-a-view-versus-a-copy\n",
      "  df['label'] = y_pred_test\n"
     ]
    },
    {
     "name": "stdout",
     "output_type": "stream",
     "text": [
      "Di train dapat performa \n",
      "Nilai Precision = 0.8571428571428571\n",
      "Nilai Recall = 0.25263157894736843\n",
      "Nilai F1 = 0.3902439024390244\n",
      "Di test dapat performa\n",
      "Nilai Precision = 0.8571428571428571\n",
      "Nilai Recall = 0.17647058823529413\n",
      "Nilai F1 = 0.29268292682926833\n",
      "########\n",
      "Rata-rata nilai test dengan Classifier xgb, lr, dan mlp adalah\n",
      "Precision = 0.873015873015873\n",
      "Recall = 0.23529411764705885\n",
      "F1 = 0.361449864498645\n",
      "/workspace/dataset/erupsi\n",
      "\n",
      "\n",
      "/workspace/dataset\n",
      "Eksperimen pada bencana erupsi dengan representasi trunc_last_long\n"
     ]
    },
    {
     "name": "stderr",
     "output_type": "stream",
     "text": [
      "/tmp/ipykernel_1865/1041286260.py:125: SettingWithCopyWarning: \n",
      "A value is trying to be set on a copy of a slice from a DataFrame.\n",
      "Try using .loc[row_indexer,col_indexer] = value instead\n",
      "\n",
      "See the caveats in the documentation: https://pandas.pydata.org/pandas-docs/stable/user_guide/indexing.html#returning-a-view-versus-a-copy\n",
      "  df['label'] = y_pred_test\n"
     ]
    },
    {
     "name": "stdout",
     "output_type": "stream",
     "text": [
      "XGBOOST\n",
      "Di train dapat performa \n",
      "Nilai Precision = 1.0\n",
      "Nilai Recall = 0.8526315789473684\n",
      "Nilai F1 = 0.9204545454545454\n",
      "Di test dapat performa\n",
      "Nilai Precision = 0.8333333333333334\n",
      "Nilai Recall = 0.29411764705882354\n",
      "Nilai F1 = 0.4347826086956522\n",
      "########\n",
      "RANDOM FOREST\n"
     ]
    },
    {
     "name": "stderr",
     "output_type": "stream",
     "text": [
      "/tmp/ipykernel_1865/1041286260.py:61: SettingWithCopyWarning: \n",
      "A value is trying to be set on a copy of a slice from a DataFrame.\n",
      "Try using .loc[row_indexer,col_indexer] = value instead\n",
      "\n",
      "See the caveats in the documentation: https://pandas.pydata.org/pandas-docs/stable/user_guide/indexing.html#returning-a-view-versus-a-copy\n",
      "  df['label'] = y_pred_test\n"
     ]
    },
    {
     "name": "stdout",
     "output_type": "stream",
     "text": [
      "Di train dapat performa \n",
      "Nilai Precision = 1.0\n",
      "Nilai Recall = 1.0\n",
      "Nilai F1 = 1.0\n",
      "Di test dapat performa\n",
      "Nilai Precision = 0.8333333333333334\n",
      "Nilai Recall = 0.14705882352941177\n",
      "Nilai F1 = 0.25\n",
      "########\n",
      "LOGISTIK REGRESSION\n"
     ]
    },
    {
     "name": "stderr",
     "output_type": "stream",
     "text": [
      "/tmp/ipykernel_1865/1041286260.py:81: SettingWithCopyWarning: \n",
      "A value is trying to be set on a copy of a slice from a DataFrame.\n",
      "Try using .loc[row_indexer,col_indexer] = value instead\n",
      "\n",
      "See the caveats in the documentation: https://pandas.pydata.org/pandas-docs/stable/user_guide/indexing.html#returning-a-view-versus-a-copy\n",
      "  df['label'] = y_pred_test\n"
     ]
    },
    {
     "name": "stdout",
     "output_type": "stream",
     "text": [
      "Di train dapat performa \n",
      "Nilai Precision = 0.9137931034482759\n",
      "Nilai Recall = 0.5578947368421052\n",
      "Nilai F1 = 0.6928104575163399\n",
      "Di test dapat performa\n",
      "Nilai Precision = 0.8095238095238095\n",
      "Nilai Recall = 0.5\n",
      "Nilai F1 = 0.6181818181818182\n",
      "########\n",
      "MLP\n"
     ]
    },
    {
     "name": "stderr",
     "output_type": "stream",
     "text": [
      "/tmp/ipykernel_1865/1041286260.py:100: SettingWithCopyWarning: \n",
      "A value is trying to be set on a copy of a slice from a DataFrame.\n",
      "Try using .loc[row_indexer,col_indexer] = value instead\n",
      "\n",
      "See the caveats in the documentation: https://pandas.pydata.org/pandas-docs/stable/user_guide/indexing.html#returning-a-view-versus-a-copy\n",
      "  df['label'] = y_pred_test\n"
     ]
    },
    {
     "name": "stdout",
     "output_type": "stream",
     "text": [
      "Di train dapat performa \n",
      "Nilai Precision = 0.96\n",
      "Nilai Recall = 0.25263157894736843\n",
      "Nilai F1 = 0.4\n",
      "Di test dapat performa\n",
      "Nilai Precision = 0.8888888888888888\n",
      "Nilai Recall = 0.23529411764705882\n",
      "Nilai F1 = 0.3720930232558139\n",
      "########\n",
      "Rata-rata nilai test dengan Classifier xgb, lr, dan mlp adalah\n",
      "Precision = 0.8439153439153438\n",
      "Recall = 0.34313725490196084\n",
      "F1 = 0.47501915004442813\n",
      "/workspace/dataset/erupsi\n",
      "\n",
      "\n",
      "/workspace/dataset\n",
      "Eksperimen pada bencana erupsi dengan representasi trunc_combination\n"
     ]
    },
    {
     "name": "stderr",
     "output_type": "stream",
     "text": [
      "/tmp/ipykernel_1865/1041286260.py:125: SettingWithCopyWarning: \n",
      "A value is trying to be set on a copy of a slice from a DataFrame.\n",
      "Try using .loc[row_indexer,col_indexer] = value instead\n",
      "\n",
      "See the caveats in the documentation: https://pandas.pydata.org/pandas-docs/stable/user_guide/indexing.html#returning-a-view-versus-a-copy\n",
      "  df['label'] = y_pred_test\n"
     ]
    },
    {
     "name": "stdout",
     "output_type": "stream",
     "text": [
      "XGBOOST\n",
      "Di train dapat performa \n",
      "Nilai Precision = 1.0\n",
      "Nilai Recall = 0.9578947368421052\n",
      "Nilai F1 = 0.978494623655914\n",
      "Di test dapat performa\n",
      "Nilai Precision = 0.9166666666666666\n",
      "Nilai Recall = 0.3235294117647059\n",
      "Nilai F1 = 0.4782608695652174\n",
      "########\n",
      "RANDOM FOREST\n"
     ]
    },
    {
     "name": "stderr",
     "output_type": "stream",
     "text": [
      "/tmp/ipykernel_1865/1041286260.py:61: SettingWithCopyWarning: \n",
      "A value is trying to be set on a copy of a slice from a DataFrame.\n",
      "Try using .loc[row_indexer,col_indexer] = value instead\n",
      "\n",
      "See the caveats in the documentation: https://pandas.pydata.org/pandas-docs/stable/user_guide/indexing.html#returning-a-view-versus-a-copy\n",
      "  df['label'] = y_pred_test\n"
     ]
    },
    {
     "name": "stdout",
     "output_type": "stream",
     "text": [
      "Di train dapat performa \n",
      "Nilai Precision = 1.0\n",
      "Nilai Recall = 1.0\n",
      "Nilai F1 = 1.0\n",
      "Di test dapat performa\n",
      "Nilai Precision = 0.8571428571428571\n",
      "Nilai Recall = 0.17647058823529413\n",
      "Nilai F1 = 0.29268292682926833\n",
      "########\n",
      "LOGISTIK REGRESSION\n"
     ]
    },
    {
     "name": "stderr",
     "output_type": "stream",
     "text": [
      "/tmp/ipykernel_1865/1041286260.py:81: SettingWithCopyWarning: \n",
      "A value is trying to be set on a copy of a slice from a DataFrame.\n",
      "Try using .loc[row_indexer,col_indexer] = value instead\n",
      "\n",
      "See the caveats in the documentation: https://pandas.pydata.org/pandas-docs/stable/user_guide/indexing.html#returning-a-view-versus-a-copy\n",
      "  df['label'] = y_pred_test\n"
     ]
    },
    {
     "name": "stdout",
     "output_type": "stream",
     "text": [
      "Di train dapat performa \n",
      "Nilai Precision = 0.8840579710144928\n",
      "Nilai Recall = 0.6421052631578947\n",
      "Nilai F1 = 0.7439024390243901\n",
      "Di test dapat performa\n",
      "Nilai Precision = 0.8421052631578947\n",
      "Nilai Recall = 0.47058823529411764\n",
      "Nilai F1 = 0.6037735849056604\n",
      "########\n",
      "MLP\n"
     ]
    },
    {
     "name": "stderr",
     "output_type": "stream",
     "text": [
      "/tmp/ipykernel_1865/1041286260.py:100: SettingWithCopyWarning: \n",
      "A value is trying to be set on a copy of a slice from a DataFrame.\n",
      "Try using .loc[row_indexer,col_indexer] = value instead\n",
      "\n",
      "See the caveats in the documentation: https://pandas.pydata.org/pandas-docs/stable/user_guide/indexing.html#returning-a-view-versus-a-copy\n",
      "  df['label'] = y_pred_test\n"
     ]
    },
    {
     "name": "stdout",
     "output_type": "stream",
     "text": [
      "Di train dapat performa \n",
      "Nilai Precision = 0.8611111111111112\n",
      "Nilai Recall = 0.3263157894736842\n",
      "Nilai F1 = 0.47328244274809156\n",
      "Di test dapat performa\n",
      "Nilai Precision = 0.7692307692307693\n",
      "Nilai Recall = 0.29411764705882354\n",
      "Nilai F1 = 0.4255319148936171\n",
      "########\n",
      "Rata-rata nilai test dengan Classifier xgb, lr, dan mlp adalah\n",
      "Precision = 0.8426675663517768\n",
      "Recall = 0.36274509803921573\n",
      "F1 = 0.5025221231214982\n",
      "/workspace/dataset/erupsi\n",
      "\n",
      "\n",
      "/workspace/dataset\n",
      "Eksperimen pada bencana erupsi dengan representasi textrank\n"
     ]
    },
    {
     "name": "stderr",
     "output_type": "stream",
     "text": [
      "/tmp/ipykernel_1865/1041286260.py:125: SettingWithCopyWarning: \n",
      "A value is trying to be set on a copy of a slice from a DataFrame.\n",
      "Try using .loc[row_indexer,col_indexer] = value instead\n",
      "\n",
      "See the caveats in the documentation: https://pandas.pydata.org/pandas-docs/stable/user_guide/indexing.html#returning-a-view-versus-a-copy\n",
      "  df['label'] = y_pred_test\n"
     ]
    },
    {
     "name": "stdout",
     "output_type": "stream",
     "text": [
      "XGBOOST\n",
      "Di train dapat performa \n",
      "Nilai Precision = 1.0\n",
      "Nilai Recall = 0.9052631578947369\n",
      "Nilai F1 = 0.9502762430939227\n",
      "Di test dapat performa\n",
      "Nilai Precision = 0.15384615384615385\n",
      "Nilai Recall = 0.058823529411764705\n",
      "Nilai F1 = 0.0851063829787234\n",
      "########\n",
      "RANDOM FOREST\n"
     ]
    },
    {
     "name": "stderr",
     "output_type": "stream",
     "text": [
      "/tmp/ipykernel_1865/1041286260.py:61: SettingWithCopyWarning: \n",
      "A value is trying to be set on a copy of a slice from a DataFrame.\n",
      "Try using .loc[row_indexer,col_indexer] = value instead\n",
      "\n",
      "See the caveats in the documentation: https://pandas.pydata.org/pandas-docs/stable/user_guide/indexing.html#returning-a-view-versus-a-copy\n",
      "  df['label'] = y_pred_test\n"
     ]
    },
    {
     "name": "stdout",
     "output_type": "stream",
     "text": [
      "Di train dapat performa \n",
      "Nilai Precision = 1.0\n",
      "Nilai Recall = 1.0\n",
      "Nilai F1 = 1.0\n",
      "Di test dapat performa\n",
      "Nilai Precision = 1.0\n",
      "Nilai Recall = 0.029411764705882353\n",
      "Nilai F1 = 0.05714285714285715\n",
      "########\n",
      "LOGISTIK REGRESSION\n"
     ]
    },
    {
     "name": "stderr",
     "output_type": "stream",
     "text": [
      "/tmp/ipykernel_1865/1041286260.py:81: SettingWithCopyWarning: \n",
      "A value is trying to be set on a copy of a slice from a DataFrame.\n",
      "Try using .loc[row_indexer,col_indexer] = value instead\n",
      "\n",
      "See the caveats in the documentation: https://pandas.pydata.org/pandas-docs/stable/user_guide/indexing.html#returning-a-view-versus-a-copy\n",
      "  df['label'] = y_pred_test\n"
     ]
    },
    {
     "name": "stdout",
     "output_type": "stream",
     "text": [
      "Di train dapat performa \n",
      "Nilai Precision = 0.9047619047619048\n",
      "Nilai Recall = 0.6\n",
      "Nilai F1 = 0.7215189873417721\n",
      "Di test dapat performa\n",
      "Nilai Precision = 0.6956521739130435\n",
      "Nilai Recall = 0.47058823529411764\n",
      "Nilai F1 = 0.5614035087719297\n",
      "########\n",
      "MLP\n"
     ]
    },
    {
     "name": "stderr",
     "output_type": "stream",
     "text": [
      "/tmp/ipykernel_1865/1041286260.py:100: SettingWithCopyWarning: \n",
      "A value is trying to be set on a copy of a slice from a DataFrame.\n",
      "Try using .loc[row_indexer,col_indexer] = value instead\n",
      "\n",
      "See the caveats in the documentation: https://pandas.pydata.org/pandas-docs/stable/user_guide/indexing.html#returning-a-view-versus-a-copy\n",
      "  df['label'] = y_pred_test\n"
     ]
    },
    {
     "name": "stdout",
     "output_type": "stream",
     "text": [
      "Di train dapat performa \n",
      "Nilai Precision = 0.7450980392156863\n",
      "Nilai Recall = 0.4\n",
      "Nilai F1 = 0.5205479452054794\n",
      "Di test dapat performa\n",
      "Nilai Precision = 0.631578947368421\n",
      "Nilai Recall = 0.35294117647058826\n",
      "Nilai F1 = 0.45283018867924524\n",
      "########\n",
      "Rata-rata nilai test dengan Classifier xgb, lr, dan mlp adalah\n",
      "Precision = 0.49369242504253946\n",
      "Recall = 0.29411764705882354\n",
      "F1 = 0.3664466934766328\n",
      "/workspace/dataset/erupsi\n",
      "\n",
      "\n",
      "/workspace/dataset\n",
      "Eksperimen pada bencana erupsi dengan representasi sum_indobart\n"
     ]
    },
    {
     "name": "stderr",
     "output_type": "stream",
     "text": [
      "/tmp/ipykernel_1865/1041286260.py:125: SettingWithCopyWarning: \n",
      "A value is trying to be set on a copy of a slice from a DataFrame.\n",
      "Try using .loc[row_indexer,col_indexer] = value instead\n",
      "\n",
      "See the caveats in the documentation: https://pandas.pydata.org/pandas-docs/stable/user_guide/indexing.html#returning-a-view-versus-a-copy\n",
      "  df['label'] = y_pred_test\n"
     ]
    },
    {
     "name": "stdout",
     "output_type": "stream",
     "text": [
      "XGBOOST\n",
      "Di train dapat performa \n",
      "Nilai Precision = 1.0\n",
      "Nilai Recall = 0.8631578947368421\n",
      "Nilai F1 = 0.9265536723163842\n",
      "Di test dapat performa\n",
      "Nilai Precision = 0.5\n",
      "Nilai Recall = 0.20588235294117646\n",
      "Nilai F1 = 0.2916666666666667\n",
      "########\n",
      "RANDOM FOREST\n"
     ]
    },
    {
     "name": "stderr",
     "output_type": "stream",
     "text": [
      "/tmp/ipykernel_1865/1041286260.py:61: SettingWithCopyWarning: \n",
      "A value is trying to be set on a copy of a slice from a DataFrame.\n",
      "Try using .loc[row_indexer,col_indexer] = value instead\n",
      "\n",
      "See the caveats in the documentation: https://pandas.pydata.org/pandas-docs/stable/user_guide/indexing.html#returning-a-view-versus-a-copy\n",
      "  df['label'] = y_pred_test\n"
     ]
    },
    {
     "name": "stdout",
     "output_type": "stream",
     "text": [
      "Di train dapat performa \n",
      "Nilai Precision = 1.0\n",
      "Nilai Recall = 1.0\n",
      "Nilai F1 = 1.0\n",
      "Di test dapat performa\n",
      "Nilai Precision = 1.0\n",
      "Nilai Recall = 0.058823529411764705\n",
      "Nilai F1 = 0.1111111111111111\n",
      "########\n",
      "LOGISTIK REGRESSION\n",
      "Di train dapat performa \n"
     ]
    },
    {
     "name": "stderr",
     "output_type": "stream",
     "text": [
      "/tmp/ipykernel_1865/1041286260.py:81: SettingWithCopyWarning: \n",
      "A value is trying to be set on a copy of a slice from a DataFrame.\n",
      "Try using .loc[row_indexer,col_indexer] = value instead\n",
      "\n",
      "See the caveats in the documentation: https://pandas.pydata.org/pandas-docs/stable/user_guide/indexing.html#returning-a-view-versus-a-copy\n",
      "  df['label'] = y_pred_test\n"
     ]
    },
    {
     "name": "stdout",
     "output_type": "stream",
     "text": [
      "Nilai Precision = 0.8732394366197183\n",
      "Nilai Recall = 0.6526315789473685\n",
      "Nilai F1 = 0.746987951807229\n",
      "Di test dapat performa\n",
      "Nilai Precision = 0.6086956521739131\n",
      "Nilai Recall = 0.4117647058823529\n",
      "Nilai F1 = 0.4912280701754386\n",
      "########\n",
      "MLP\n"
     ]
    },
    {
     "name": "stderr",
     "output_type": "stream",
     "text": [
      "/tmp/ipykernel_1865/1041286260.py:100: SettingWithCopyWarning: \n",
      "A value is trying to be set on a copy of a slice from a DataFrame.\n",
      "Try using .loc[row_indexer,col_indexer] = value instead\n",
      "\n",
      "See the caveats in the documentation: https://pandas.pydata.org/pandas-docs/stable/user_guide/indexing.html#returning-a-view-versus-a-copy\n",
      "  df['label'] = y_pred_test\n"
     ]
    },
    {
     "name": "stdout",
     "output_type": "stream",
     "text": [
      "Di train dapat performa \n",
      "Nilai Precision = 0.8181818181818182\n",
      "Nilai Recall = 0.09473684210526316\n",
      "Nilai F1 = 0.169811320754717\n",
      "Di test dapat performa\n",
      "Nilai Precision = 1.0\n",
      "Nilai Recall = 0.11764705882352941\n",
      "Nilai F1 = 0.21052631578947367\n",
      "########\n",
      "Rata-rata nilai test dengan Classifier xgb, lr, dan mlp adalah\n",
      "Precision = 0.7028985507246377\n",
      "Recall = 0.2450980392156863\n",
      "F1 = 0.331140350877193\n",
      "/workspace/dataset/erupsi\n",
      "\n",
      "\n",
      "/workspace/dataset\n",
      "Eksperimen pada bencana erupsi dengan representasi sum_liputan6\n"
     ]
    },
    {
     "name": "stderr",
     "output_type": "stream",
     "text": [
      "/tmp/ipykernel_1865/1041286260.py:125: SettingWithCopyWarning: \n",
      "A value is trying to be set on a copy of a slice from a DataFrame.\n",
      "Try using .loc[row_indexer,col_indexer] = value instead\n",
      "\n",
      "See the caveats in the documentation: https://pandas.pydata.org/pandas-docs/stable/user_guide/indexing.html#returning-a-view-versus-a-copy\n",
      "  df['label'] = y_pred_test\n"
     ]
    },
    {
     "name": "stdout",
     "output_type": "stream",
     "text": [
      "XGBOOST\n",
      "Di train dapat performa \n",
      "Nilai Precision = 1.0\n",
      "Nilai Recall = 0.9473684210526315\n",
      "Nilai F1 = 0.972972972972973\n",
      "Di test dapat performa\n",
      "Nilai Precision = 1.0\n",
      "Nilai Recall = 0.23529411764705882\n",
      "Nilai F1 = 0.38095238095238093\n",
      "########\n",
      "RANDOM FOREST\n"
     ]
    },
    {
     "name": "stderr",
     "output_type": "stream",
     "text": [
      "/tmp/ipykernel_1865/1041286260.py:61: SettingWithCopyWarning: \n",
      "A value is trying to be set on a copy of a slice from a DataFrame.\n",
      "Try using .loc[row_indexer,col_indexer] = value instead\n",
      "\n",
      "See the caveats in the documentation: https://pandas.pydata.org/pandas-docs/stable/user_guide/indexing.html#returning-a-view-versus-a-copy\n",
      "  df['label'] = y_pred_test\n"
     ]
    },
    {
     "name": "stdout",
     "output_type": "stream",
     "text": [
      "Di train dapat performa \n",
      "Nilai Precision = 1.0\n",
      "Nilai Recall = 1.0\n",
      "Nilai F1 = 1.0\n",
      "Di test dapat performa\n",
      "Nilai Precision = 1.0\n",
      "Nilai Recall = 0.029411764705882353\n",
      "Nilai F1 = 0.05714285714285715\n",
      "########\n",
      "LOGISTIK REGRESSION\n"
     ]
    },
    {
     "name": "stderr",
     "output_type": "stream",
     "text": [
      "/tmp/ipykernel_1865/1041286260.py:81: SettingWithCopyWarning: \n",
      "A value is trying to be set on a copy of a slice from a DataFrame.\n",
      "Try using .loc[row_indexer,col_indexer] = value instead\n",
      "\n",
      "See the caveats in the documentation: https://pandas.pydata.org/pandas-docs/stable/user_guide/indexing.html#returning-a-view-versus-a-copy\n",
      "  df['label'] = y_pred_test\n"
     ]
    },
    {
     "name": "stdout",
     "output_type": "stream",
     "text": [
      "Di train dapat performa \n",
      "Nilai Precision = 0.9295774647887324\n",
      "Nilai Recall = 0.6947368421052632\n",
      "Nilai F1 = 0.7951807228915663\n",
      "Di test dapat performa\n",
      "Nilai Precision = 0.6875\n",
      "Nilai Recall = 0.3235294117647059\n",
      "Nilai F1 = 0.44000000000000006\n",
      "########\n",
      "MLP\n"
     ]
    },
    {
     "name": "stderr",
     "output_type": "stream",
     "text": [
      "/tmp/ipykernel_1865/1041286260.py:100: SettingWithCopyWarning: \n",
      "A value is trying to be set on a copy of a slice from a DataFrame.\n",
      "Try using .loc[row_indexer,col_indexer] = value instead\n",
      "\n",
      "See the caveats in the documentation: https://pandas.pydata.org/pandas-docs/stable/user_guide/indexing.html#returning-a-view-versus-a-copy\n",
      "  df['label'] = y_pred_test\n"
     ]
    },
    {
     "name": "stdout",
     "output_type": "stream",
     "text": [
      "Di train dapat performa \n",
      "Nilai Precision = 0.75\n",
      "Nilai Recall = 0.4421052631578947\n",
      "Nilai F1 = 0.5562913907284768\n",
      "Di test dapat performa\n",
      "Nilai Precision = 0.9230769230769231\n",
      "Nilai Recall = 0.35294117647058826\n",
      "Nilai F1 = 0.5106382978723405\n",
      "########\n",
      "Rata-rata nilai test dengan Classifier xgb, lr, dan mlp adalah\n",
      "Precision = 0.8701923076923078\n",
      "Recall = 0.303921568627451\n",
      "F1 = 0.44386355960824053\n",
      "/workspace/dataset/erupsi\n",
      "\n",
      "\n",
      "/workspace/dataset\n",
      "Eksperimen pada bencana erupsi dengan representasi sum_pegasus\n"
     ]
    },
    {
     "name": "stderr",
     "output_type": "stream",
     "text": [
      "/tmp/ipykernel_1865/1041286260.py:125: SettingWithCopyWarning: \n",
      "A value is trying to be set on a copy of a slice from a DataFrame.\n",
      "Try using .loc[row_indexer,col_indexer] = value instead\n",
      "\n",
      "See the caveats in the documentation: https://pandas.pydata.org/pandas-docs/stable/user_guide/indexing.html#returning-a-view-versus-a-copy\n",
      "  df['label'] = y_pred_test\n"
     ]
    },
    {
     "name": "stdout",
     "output_type": "stream",
     "text": [
      "XGBOOST\n",
      "Di train dapat performa \n",
      "Nilai Precision = 1.0\n",
      "Nilai Recall = 0.6421052631578947\n",
      "Nilai F1 = 0.782051282051282\n",
      "Di test dapat performa\n",
      "Nilai Precision = 0.6875\n",
      "Nilai Recall = 0.3235294117647059\n",
      "Nilai F1 = 0.44000000000000006\n",
      "########\n",
      "RANDOM FOREST\n"
     ]
    },
    {
     "name": "stderr",
     "output_type": "stream",
     "text": [
      "/tmp/ipykernel_1865/1041286260.py:61: SettingWithCopyWarning: \n",
      "A value is trying to be set on a copy of a slice from a DataFrame.\n",
      "Try using .loc[row_indexer,col_indexer] = value instead\n",
      "\n",
      "See the caveats in the documentation: https://pandas.pydata.org/pandas-docs/stable/user_guide/indexing.html#returning-a-view-versus-a-copy\n",
      "  df['label'] = y_pred_test\n"
     ]
    },
    {
     "name": "stdout",
     "output_type": "stream",
     "text": [
      "Di train dapat performa \n",
      "Nilai Precision = 1.0\n",
      "Nilai Recall = 0.9894736842105263\n",
      "Nilai F1 = 0.9947089947089947\n",
      "Di test dapat performa\n",
      "Nilai Precision = 1.0\n",
      "Nilai Recall = 0.029411764705882353\n",
      "Nilai F1 = 0.05714285714285715\n",
      "########\n",
      "LOGISTIK REGRESSION\n",
      "Di train dapat performa \n",
      "Nilai Precision = 0.9206349206349206\n",
      "Nilai Recall = 0.6105263157894737\n",
      "Nilai F1 = 0.7341772151898734\n",
      "Di test dapat performa\n",
      "Nilai Precision = 0.6153846153846154\n",
      "Nilai Recall = 0.47058823529411764\n",
      "Nilai F1 = 0.5333333333333333\n",
      "########\n",
      "MLP\n"
     ]
    },
    {
     "name": "stderr",
     "output_type": "stream",
     "text": [
      "/tmp/ipykernel_1865/1041286260.py:81: SettingWithCopyWarning: \n",
      "A value is trying to be set on a copy of a slice from a DataFrame.\n",
      "Try using .loc[row_indexer,col_indexer] = value instead\n",
      "\n",
      "See the caveats in the documentation: https://pandas.pydata.org/pandas-docs/stable/user_guide/indexing.html#returning-a-view-versus-a-copy\n",
      "  df['label'] = y_pred_test\n",
      "/tmp/ipykernel_1865/1041286260.py:100: SettingWithCopyWarning: \n",
      "A value is trying to be set on a copy of a slice from a DataFrame.\n",
      "Try using .loc[row_indexer,col_indexer] = value instead\n",
      "\n",
      "See the caveats in the documentation: https://pandas.pydata.org/pandas-docs/stable/user_guide/indexing.html#returning-a-view-versus-a-copy\n",
      "  df['label'] = y_pred_test\n"
     ]
    },
    {
     "name": "stdout",
     "output_type": "stream",
     "text": [
      "Di train dapat performa \n",
      "Nilai Precision = 0.8333333333333334\n",
      "Nilai Recall = 0.15789473684210525\n",
      "Nilai F1 = 0.2654867256637168\n",
      "Di test dapat performa\n",
      "Nilai Precision = 0.7857142857142857\n",
      "Nilai Recall = 0.3235294117647059\n",
      "Nilai F1 = 0.45833333333333326\n",
      "########\n",
      "Rata-rata nilai test dengan Classifier xgb, lr, dan mlp adalah\n",
      "Precision = 0.6961996336996337\n",
      "Recall = 0.37254901960784315\n",
      "F1 = 0.4772222222222222\n",
      "/workspace/dataset/erupsi\n",
      "\n",
      "\n",
      "************************************************************\n",
      "{'erupsi': {'title_ori': {'xgb': {'prec': 1.0, 'rec': 0.17647058823529413, 'f1': 0.3, 'acc': 0.86}, 'rf': {'prec': 1.0, 'rec': 0.058823529411764705, 'f1': 0.1111111111111111, 'acc': 0.84}, 'lr': {'prec': 0.5909090909090909, 'rec': 0.38235294117647056, 'f1': 0.46428571428571425, 'acc': 0.85}, 'mlp': {'prec': 1.0, 'rec': 0.20588235294117646, 'f1': 0.34146341463414637, 'acc': 0.865}}, 'text_ori': {'xgb': {'prec': 0.8571428571428571, 'rec': 0.17647058823529413, 'f1': 0.29268292682926833, 'acc': 0.855}, 'rf': {'prec': 0.75, 'rec': 0.08823529411764706, 'f1': 0.15789473684210525, 'acc': 0.84}, 'lr': {'prec': 0.7647058823529411, 'rec': 0.38235294117647056, 'f1': 0.5098039215686274, 'acc': 0.875}, 'mlp': {'prec': 0.7857142857142857, 'rec': 0.3235294117647059, 'f1': 0.45833333333333326, 'acc': 0.87}}, 'tc_ori': {'xgb': {'prec': 0.6666666666666666, 'rec': 0.11764705882352941, 'f1': 0.2, 'acc': 0.84}, 'rf': {'prec': 0.8333333333333334, 'rec': 0.14705882352941177, 'f1': 0.25, 'acc': 0.85}, 'lr': {'prec': 0.8666666666666667, 'rec': 0.38235294117647056, 'f1': 0.5306122448979592, 'acc': 0.885}, 'mlp': {'prec': 0.8125, 'rec': 0.38235294117647056, 'f1': 0.52, 'acc': 0.88}}, 'filter_word_tc': {'xgb': {'prec': 1.0, 'rec': 0.058823529411764705, 'f1': 0.1111111111111111, 'acc': 0.84}, 'rf': {'prec': 0.0, 'rec': 0.0, 'f1': 0.0, 'acc': 0.83}, 'lr': {'prec': 0.75, 'rec': 0.17647058823529413, 'f1': 0.2857142857142857, 'acc': 0.85}, 'mlp': {'prec': 0.7647058823529411, 'rec': 0.38235294117647056, 'f1': 0.5098039215686274, 'acc': 0.875}}, 'filter_word_tc_window': {'xgb': {'prec': 1.0, 'rec': 0.029411764705882353, 'f1': 0.05714285714285715, 'acc': 0.835}, 'rf': {'prec': 0.0, 'rec': 0.0, 'f1': 0.0, 'acc': 0.83}, 'lr': {'prec': 0.6666666666666666, 'rec': 0.17647058823529413, 'f1': 0.27906976744186046, 'acc': 0.845}, 'mlp': {'prec': 1.0, 'rec': 0.11764705882352941, 'f1': 0.21052631578947367, 'acc': 0.85}}, 'trunc_first_short': {'xgb': {'prec': 1.0, 'rec': 0.23529411764705882, 'f1': 0.38095238095238093, 'acc': 0.87}, 'rf': {'prec': 1.0, 'rec': 0.11764705882352941, 'f1': 0.21052631578947367, 'acc': 0.85}, 'lr': {'prec': 0.8095238095238095, 'rec': 0.5, 'f1': 0.6181818181818182, 'acc': 0.895}, 'mlp': {'prec': 1.0, 'rec': 0.14705882352941177, 'f1': 0.25641025641025644, 'acc': 0.855}}, 'trunc_last_short': {'xgb': {'prec': 0.75, 'rec': 0.2647058823529412, 'f1': 0.39130434782608703, 'acc': 0.86}, 'rf': {'prec': 0.5, 'rec': 0.029411764705882353, 'f1': 0.05555555555555555, 'acc': 0.83}, 'lr': {'prec': 0.8235294117647058, 'rec': 0.4117647058823529, 'f1': 0.5490196078431372, 'acc': 0.885}, 'mlp': {'prec': 0.8571428571428571, 'rec': 0.35294117647058826, 'f1': 0.5, 'acc': 0.88}}, 'trunc_first_long': {'xgb': {'prec': 0.8333333333333334, 'rec': 0.14705882352941177, 'f1': 0.25, 'acc': 0.85}, 'rf': {'prec': 0.8333333333333334, 'rec': 0.14705882352941177, 'f1': 0.25, 'acc': 0.85}, 'lr': {'prec': 0.9285714285714286, 'rec': 0.38235294117647056, 'f1': 0.5416666666666667, 'acc': 0.89}, 'mlp': {'prec': 0.8571428571428571, 'rec': 0.17647058823529413, 'f1': 0.29268292682926833, 'acc': 0.855}}, 'trunc_last_long': {'xgb': {'prec': 0.8333333333333334, 'rec': 0.29411764705882354, 'f1': 0.4347826086956522, 'acc': 0.87}, 'rf': {'prec': 0.8333333333333334, 'rec': 0.14705882352941177, 'f1': 0.25, 'acc': 0.85}, 'lr': {'prec': 0.8095238095238095, 'rec': 0.5, 'f1': 0.6181818181818182, 'acc': 0.895}, 'mlp': {'prec': 0.8888888888888888, 'rec': 0.23529411764705882, 'f1': 0.3720930232558139, 'acc': 0.865}}, 'trunc_combination': {'xgb': {'prec': 0.9166666666666666, 'rec': 0.3235294117647059, 'f1': 0.4782608695652174, 'acc': 0.88}, 'rf': {'prec': 0.8571428571428571, 'rec': 0.17647058823529413, 'f1': 0.29268292682926833, 'acc': 0.855}, 'lr': {'prec': 0.8421052631578947, 'rec': 0.47058823529411764, 'f1': 0.6037735849056604, 'acc': 0.895}, 'mlp': {'prec': 0.7692307692307693, 'rec': 0.29411764705882354, 'f1': 0.4255319148936171, 'acc': 0.865}}, 'textrank': {'xgb': {'prec': 0.15384615384615385, 'rec': 0.058823529411764705, 'f1': 0.0851063829787234, 'acc': 0.785}, 'rf': {'prec': 1.0, 'rec': 0.029411764705882353, 'f1': 0.05714285714285715, 'acc': 0.835}, 'lr': {'prec': 0.6956521739130435, 'rec': 0.47058823529411764, 'f1': 0.5614035087719297, 'acc': 0.875}, 'mlp': {'prec': 0.631578947368421, 'rec': 0.35294117647058826, 'f1': 0.45283018867924524, 'acc': 0.855}}, 'sum_indobart': {'xgb': {'prec': 0.5, 'rec': 0.20588235294117646, 'f1': 0.2916666666666667, 'acc': 0.83}, 'rf': {'prec': 1.0, 'rec': 0.058823529411764705, 'f1': 0.1111111111111111, 'acc': 0.84}, 'lr': {'prec': 0.6086956521739131, 'rec': 0.4117647058823529, 'f1': 0.4912280701754386, 'acc': 0.855}, 'mlp': {'prec': 1.0, 'rec': 0.11764705882352941, 'f1': 0.21052631578947367, 'acc': 0.85}}, 'sum_liputan6': {'xgb': {'prec': 1.0, 'rec': 0.23529411764705882, 'f1': 0.38095238095238093, 'acc': 0.87}, 'rf': {'prec': 1.0, 'rec': 0.029411764705882353, 'f1': 0.05714285714285715, 'acc': 0.835}, 'lr': {'prec': 0.6875, 'rec': 0.3235294117647059, 'f1': 0.44000000000000006, 'acc': 0.86}, 'mlp': {'prec': 0.9230769230769231, 'rec': 0.35294117647058826, 'f1': 0.5106382978723405, 'acc': 0.885}}, 'sum_pegasus': {'xgb': {'prec': 0.6875, 'rec': 0.3235294117647059, 'f1': 0.44000000000000006, 'acc': 0.86}, 'rf': {'prec': 1.0, 'rec': 0.029411764705882353, 'f1': 0.05714285714285715, 'acc': 0.835}, 'lr': {'prec': 0.6153846153846154, 'rec': 0.47058823529411764, 'f1': 0.5333333333333333, 'acc': 0.86}, 'mlp': {'prec': 0.7857142857142857, 'rec': 0.3235294117647059, 'f1': 0.45833333333333326, 'acc': 0.87}}}}\n",
      "/workspace/dataset\n"
     ]
    },
    {
     "name": "stderr",
     "output_type": "stream",
     "text": [
      "/tmp/ipykernel_1865/1041286260.py:125: SettingWithCopyWarning: \n",
      "A value is trying to be set on a copy of a slice from a DataFrame.\n",
      "Try using .loc[row_indexer,col_indexer] = value instead\n",
      "\n",
      "See the caveats in the documentation: https://pandas.pydata.org/pandas-docs/stable/user_guide/indexing.html#returning-a-view-versus-a-copy\n",
      "  df['label'] = y_pred_test\n"
     ]
    }
   ],
   "source": [
    "%cd erupsi\n",
    "get_f1_eks_praproses_bencana('erupsi')\n",
    "%cd ..\n"
   ]
  },
  {
   "cell_type": "code",
   "execution_count": 17,
   "id": "a8800f1d",
   "metadata": {
    "scrolled": true
   },
   "outputs": [
    {
     "name": "stdout",
     "output_type": "stream",
     "text": [
      "/workspace/dataset/gempa\n",
      "evaluasi pada bencana = gempa\n",
      "/workspace/dataset\n",
      "Eksperimen pada bencana gempa dengan representasi title_ori\n",
      "XGBOOST\n",
      "Di train dapat performa \n",
      "Nilai Precision = 0.972027972027972\n",
      "Nilai Recall = 0.7942857142857143\n",
      "Nilai F1 = 0.8742138364779874\n",
      "Di test dapat performa\n",
      "Nilai Precision = 0.5\n",
      "Nilai Recall = 0.08888888888888889\n",
      "Nilai F1 = 0.1509433962264151\n",
      "########\n",
      "RANDOM FOREST\n"
     ]
    },
    {
     "name": "stderr",
     "output_type": "stream",
     "text": [
      "/tmp/ipykernel_1865/1041286260.py:61: SettingWithCopyWarning: \n",
      "A value is trying to be set on a copy of a slice from a DataFrame.\n",
      "Try using .loc[row_indexer,col_indexer] = value instead\n",
      "\n",
      "See the caveats in the documentation: https://pandas.pydata.org/pandas-docs/stable/user_guide/indexing.html#returning-a-view-versus-a-copy\n",
      "  df['label'] = y_pred_test\n"
     ]
    },
    {
     "name": "stdout",
     "output_type": "stream",
     "text": [
      "Di train dapat performa \n",
      "Nilai Precision = 1.0\n",
      "Nilai Recall = 1.0\n",
      "Nilai F1 = 1.0\n",
      "Di test dapat performa\n",
      "Nilai Precision = 0.6666666666666666\n",
      "Nilai Recall = 0.044444444444444446\n",
      "Nilai F1 = 0.08333333333333334\n",
      "########\n",
      "LOGISTIK REGRESSION\n"
     ]
    },
    {
     "name": "stderr",
     "output_type": "stream",
     "text": [
      "/tmp/ipykernel_1865/1041286260.py:81: SettingWithCopyWarning: \n",
      "A value is trying to be set on a copy of a slice from a DataFrame.\n",
      "Try using .loc[row_indexer,col_indexer] = value instead\n",
      "\n",
      "See the caveats in the documentation: https://pandas.pydata.org/pandas-docs/stable/user_guide/indexing.html#returning-a-view-versus-a-copy\n",
      "  df['label'] = y_pred_test\n"
     ]
    },
    {
     "name": "stdout",
     "output_type": "stream",
     "text": [
      "Di train dapat performa \n",
      "Nilai Precision = 0.7971014492753623\n",
      "Nilai Recall = 0.6285714285714286\n",
      "Nilai F1 = 0.7028753993610224\n",
      "Di test dapat performa\n",
      "Nilai Precision = 0.5945945945945946\n",
      "Nilai Recall = 0.4888888888888889\n",
      "Nilai F1 = 0.5365853658536586\n",
      "########\n",
      "MLP\n"
     ]
    },
    {
     "name": "stderr",
     "output_type": "stream",
     "text": [
      "/tmp/ipykernel_1865/1041286260.py:100: SettingWithCopyWarning: \n",
      "A value is trying to be set on a copy of a slice from a DataFrame.\n",
      "Try using .loc[row_indexer,col_indexer] = value instead\n",
      "\n",
      "See the caveats in the documentation: https://pandas.pydata.org/pandas-docs/stable/user_guide/indexing.html#returning-a-view-versus-a-copy\n",
      "  df['label'] = y_pred_test\n"
     ]
    },
    {
     "name": "stdout",
     "output_type": "stream",
     "text": [
      "Di train dapat performa \n",
      "Nilai Precision = 0.6865671641791045\n",
      "Nilai Recall = 0.5257142857142857\n",
      "Nilai F1 = 0.5954692556634305\n",
      "Di test dapat performa\n",
      "Nilai Precision = 0.6285714285714286\n",
      "Nilai Recall = 0.4888888888888889\n",
      "Nilai F1 = 0.5499999999999999\n",
      "########\n",
      "Rata-rata nilai test dengan Classifier xgb, lr, dan mlp adalah\n",
      "Precision = 0.5743886743886745\n",
      "Recall = 0.35555555555555557\n",
      "F1 = 0.41250958736002447\n",
      "/workspace/dataset/gempa\n",
      "\n",
      "\n",
      "/workspace/dataset\n",
      "Eksperimen pada bencana gempa dengan representasi text_ori\n"
     ]
    },
    {
     "name": "stderr",
     "output_type": "stream",
     "text": [
      "/tmp/ipykernel_1865/1041286260.py:125: SettingWithCopyWarning: \n",
      "A value is trying to be set on a copy of a slice from a DataFrame.\n",
      "Try using .loc[row_indexer,col_indexer] = value instead\n",
      "\n",
      "See the caveats in the documentation: https://pandas.pydata.org/pandas-docs/stable/user_guide/indexing.html#returning-a-view-versus-a-copy\n",
      "  df['label'] = y_pred_test\n"
     ]
    },
    {
     "name": "stdout",
     "output_type": "stream",
     "text": [
      "XGBOOST\n",
      "Di train dapat performa \n",
      "Nilai Precision = 0.9877300613496932\n",
      "Nilai Recall = 0.92\n",
      "Nilai F1 = 0.9526627218934911\n",
      "Di test dapat performa\n",
      "Nilai Precision = 0.7222222222222222\n",
      "Nilai Recall = 0.28888888888888886\n",
      "Nilai F1 = 0.4126984126984127\n",
      "########\n",
      "RANDOM FOREST\n"
     ]
    },
    {
     "name": "stderr",
     "output_type": "stream",
     "text": [
      "/tmp/ipykernel_1865/1041286260.py:61: SettingWithCopyWarning: \n",
      "A value is trying to be set on a copy of a slice from a DataFrame.\n",
      "Try using .loc[row_indexer,col_indexer] = value instead\n",
      "\n",
      "See the caveats in the documentation: https://pandas.pydata.org/pandas-docs/stable/user_guide/indexing.html#returning-a-view-versus-a-copy\n",
      "  df['label'] = y_pred_test\n"
     ]
    },
    {
     "name": "stdout",
     "output_type": "stream",
     "text": [
      "Di train dapat performa \n",
      "Nilai Precision = 1.0\n",
      "Nilai Recall = 1.0\n",
      "Nilai F1 = 1.0\n",
      "Di test dapat performa\n",
      "Nilai Precision = 0.9166666666666666\n",
      "Nilai Recall = 0.24444444444444444\n",
      "Nilai F1 = 0.3859649122807018\n",
      "########\n",
      "LOGISTIK REGRESSION\n"
     ]
    },
    {
     "name": "stderr",
     "output_type": "stream",
     "text": [
      "/tmp/ipykernel_1865/1041286260.py:81: SettingWithCopyWarning: \n",
      "A value is trying to be set on a copy of a slice from a DataFrame.\n",
      "Try using .loc[row_indexer,col_indexer] = value instead\n",
      "\n",
      "See the caveats in the documentation: https://pandas.pydata.org/pandas-docs/stable/user_guide/indexing.html#returning-a-view-versus-a-copy\n",
      "  df['label'] = y_pred_test\n"
     ]
    },
    {
     "name": "stdout",
     "output_type": "stream",
     "text": [
      "Di train dapat performa \n",
      "Nilai Precision = 0.8652482269503546\n",
      "Nilai Recall = 0.6971428571428572\n",
      "Nilai F1 = 0.7721518987341773\n",
      "Di test dapat performa\n",
      "Nilai Precision = 0.92\n",
      "Nilai Recall = 0.5111111111111111\n",
      "Nilai F1 = 0.6571428571428571\n",
      "########\n",
      "MLP\n"
     ]
    },
    {
     "name": "stderr",
     "output_type": "stream",
     "text": [
      "/tmp/ipykernel_1865/1041286260.py:100: SettingWithCopyWarning: \n",
      "A value is trying to be set on a copy of a slice from a DataFrame.\n",
      "Try using .loc[row_indexer,col_indexer] = value instead\n",
      "\n",
      "See the caveats in the documentation: https://pandas.pydata.org/pandas-docs/stable/user_guide/indexing.html#returning-a-view-versus-a-copy\n",
      "  df['label'] = y_pred_test\n"
     ]
    },
    {
     "name": "stdout",
     "output_type": "stream",
     "text": [
      "Di train dapat performa \n",
      "Nilai Precision = 0.825\n",
      "Nilai Recall = 0.37714285714285717\n",
      "Nilai F1 = 0.5176470588235295\n",
      "Di test dapat performa\n",
      "Nilai Precision = 0.9090909090909091\n",
      "Nilai Recall = 0.2222222222222222\n",
      "Nilai F1 = 0.3571428571428571\n",
      "########\n",
      "Rata-rata nilai test dengan Classifier xgb, lr, dan mlp adalah\n",
      "Precision = 0.8504377104377104\n",
      "Recall = 0.34074074074074073\n",
      "F1 = 0.4756613756613756\n",
      "/workspace/dataset/gempa\n",
      "\n",
      "\n",
      "/workspace/dataset\n",
      "Eksperimen pada bencana gempa dengan representasi tc_ori\n"
     ]
    },
    {
     "name": "stderr",
     "output_type": "stream",
     "text": [
      "/tmp/ipykernel_1865/1041286260.py:125: SettingWithCopyWarning: \n",
      "A value is trying to be set on a copy of a slice from a DataFrame.\n",
      "Try using .loc[row_indexer,col_indexer] = value instead\n",
      "\n",
      "See the caveats in the documentation: https://pandas.pydata.org/pandas-docs/stable/user_guide/indexing.html#returning-a-view-versus-a-copy\n",
      "  df['label'] = y_pred_test\n"
     ]
    },
    {
     "name": "stdout",
     "output_type": "stream",
     "text": [
      "XGBOOST\n",
      "Di train dapat performa \n",
      "Nilai Precision = 0.9872611464968153\n",
      "Nilai Recall = 0.8857142857142857\n",
      "Nilai F1 = 0.9337349397590361\n",
      "Di test dapat performa\n",
      "Nilai Precision = 0.85\n",
      "Nilai Recall = 0.37777777777777777\n",
      "Nilai F1 = 0.523076923076923\n",
      "########\n",
      "RANDOM FOREST\n"
     ]
    },
    {
     "name": "stderr",
     "output_type": "stream",
     "text": [
      "/tmp/ipykernel_1865/1041286260.py:61: SettingWithCopyWarning: \n",
      "A value is trying to be set on a copy of a slice from a DataFrame.\n",
      "Try using .loc[row_indexer,col_indexer] = value instead\n",
      "\n",
      "See the caveats in the documentation: https://pandas.pydata.org/pandas-docs/stable/user_guide/indexing.html#returning-a-view-versus-a-copy\n",
      "  df['label'] = y_pred_test\n"
     ]
    },
    {
     "name": "stdout",
     "output_type": "stream",
     "text": [
      "Di train dapat performa \n",
      "Nilai Precision = 1.0\n",
      "Nilai Recall = 1.0\n",
      "Nilai F1 = 1.0\n",
      "Di test dapat performa\n",
      "Nilai Precision = 1.0\n",
      "Nilai Recall = 0.1111111111111111\n",
      "Nilai F1 = 0.19999999999999998\n",
      "########\n",
      "LOGISTIK REGRESSION\n"
     ]
    },
    {
     "name": "stderr",
     "output_type": "stream",
     "text": [
      "/tmp/ipykernel_1865/1041286260.py:81: SettingWithCopyWarning: \n",
      "A value is trying to be set on a copy of a slice from a DataFrame.\n",
      "Try using .loc[row_indexer,col_indexer] = value instead\n",
      "\n",
      "See the caveats in the documentation: https://pandas.pydata.org/pandas-docs/stable/user_guide/indexing.html#returning-a-view-versus-a-copy\n",
      "  df['label'] = y_pred_test\n"
     ]
    },
    {
     "name": "stdout",
     "output_type": "stream",
     "text": [
      "Di train dapat performa \n",
      "Nilai Precision = 0.8857142857142857\n",
      "Nilai Recall = 0.7085714285714285\n",
      "Nilai F1 = 0.7873015873015872\n",
      "Di test dapat performa\n",
      "Nilai Precision = 0.9259259259259259\n",
      "Nilai Recall = 0.5555555555555556\n",
      "Nilai F1 = 0.6944444444444444\n",
      "########\n",
      "MLP\n"
     ]
    },
    {
     "name": "stderr",
     "output_type": "stream",
     "text": [
      "/tmp/ipykernel_1865/1041286260.py:100: SettingWithCopyWarning: \n",
      "A value is trying to be set on a copy of a slice from a DataFrame.\n",
      "Try using .loc[row_indexer,col_indexer] = value instead\n",
      "\n",
      "See the caveats in the documentation: https://pandas.pydata.org/pandas-docs/stable/user_guide/indexing.html#returning-a-view-versus-a-copy\n",
      "  df['label'] = y_pred_test\n"
     ]
    },
    {
     "name": "stdout",
     "output_type": "stream",
     "text": [
      "Di train dapat performa \n",
      "Nilai Precision = 0.8555555555555555\n",
      "Nilai Recall = 0.44\n",
      "Nilai F1 = 0.5811320754716981\n",
      "Di test dapat performa\n",
      "Nilai Precision = 0.9333333333333333\n",
      "Nilai Recall = 0.3111111111111111\n",
      "Nilai F1 = 0.4666666666666667\n",
      "########\n",
      "Rata-rata nilai test dengan Classifier xgb, lr, dan mlp adalah\n",
      "Precision = 0.9030864197530865\n",
      "Recall = 0.4148148148148148\n",
      "F1 = 0.5613960113960114\n",
      "/workspace/dataset/gempa\n",
      "\n",
      "\n",
      "/workspace/dataset\n",
      "Eksperimen pada bencana gempa dengan representasi filter_word_tc\n"
     ]
    },
    {
     "name": "stderr",
     "output_type": "stream",
     "text": [
      "/tmp/ipykernel_1865/1041286260.py:125: SettingWithCopyWarning: \n",
      "A value is trying to be set on a copy of a slice from a DataFrame.\n",
      "Try using .loc[row_indexer,col_indexer] = value instead\n",
      "\n",
      "See the caveats in the documentation: https://pandas.pydata.org/pandas-docs/stable/user_guide/indexing.html#returning-a-view-versus-a-copy\n",
      "  df['label'] = y_pred_test\n"
     ]
    },
    {
     "name": "stdout",
     "output_type": "stream",
     "text": [
      "XGBOOST\n",
      "Di train dapat performa \n",
      "Nilai Precision = 0.9813664596273292\n",
      "Nilai Recall = 0.9028571428571428\n",
      "Nilai F1 = 0.9404761904761904\n",
      "Di test dapat performa\n",
      "Nilai Precision = 0.6666666666666666\n",
      "Nilai Recall = 0.08888888888888889\n",
      "Nilai F1 = 0.1568627450980392\n",
      "########\n",
      "RANDOM FOREST\n"
     ]
    },
    {
     "name": "stderr",
     "output_type": "stream",
     "text": [
      "/tmp/ipykernel_1865/1041286260.py:61: SettingWithCopyWarning: \n",
      "A value is trying to be set on a copy of a slice from a DataFrame.\n",
      "Try using .loc[row_indexer,col_indexer] = value instead\n",
      "\n",
      "See the caveats in the documentation: https://pandas.pydata.org/pandas-docs/stable/user_guide/indexing.html#returning-a-view-versus-a-copy\n",
      "  df['label'] = y_pred_test\n"
     ]
    },
    {
     "name": "stdout",
     "output_type": "stream",
     "text": [
      "Di train dapat performa \n",
      "Nilai Precision = 1.0\n",
      "Nilai Recall = 1.0\n",
      "Nilai F1 = 1.0\n",
      "Di test dapat performa\n",
      "Nilai Precision = 0.0\n",
      "Nilai Recall = 0.0\n",
      "Nilai F1 = 0.0\n",
      "########\n",
      "LOGISTIK REGRESSION\n"
     ]
    },
    {
     "name": "stderr",
     "output_type": "stream",
     "text": [
      "/opt/conda/lib/python3.8/site-packages/sklearn/metrics/_classification.py:1344: UndefinedMetricWarning: Precision and F-score are ill-defined and being set to 0.0 due to no predicted samples. Use `zero_division` parameter to control this behavior.\n",
      "  _warn_prf(average, modifier, msg_start, len(result))\n",
      "/tmp/ipykernel_1865/1041286260.py:81: SettingWithCopyWarning: \n",
      "A value is trying to be set on a copy of a slice from a DataFrame.\n",
      "Try using .loc[row_indexer,col_indexer] = value instead\n",
      "\n",
      "See the caveats in the documentation: https://pandas.pydata.org/pandas-docs/stable/user_guide/indexing.html#returning-a-view-versus-a-copy\n",
      "  df['label'] = y_pred_test\n"
     ]
    },
    {
     "name": "stdout",
     "output_type": "stream",
     "text": [
      "Di train dapat performa \n",
      "Nilai Precision = 0.819672131147541\n",
      "Nilai Recall = 0.5714285714285714\n",
      "Nilai F1 = 0.6734006734006733\n",
      "Di test dapat performa\n",
      "Nilai Precision = 0.55\n",
      "Nilai Recall = 0.24444444444444444\n",
      "Nilai F1 = 0.3384615384615384\n",
      "########\n",
      "MLP\n"
     ]
    },
    {
     "name": "stderr",
     "output_type": "stream",
     "text": [
      "/tmp/ipykernel_1865/1041286260.py:100: SettingWithCopyWarning: \n",
      "A value is trying to be set on a copy of a slice from a DataFrame.\n",
      "Try using .loc[row_indexer,col_indexer] = value instead\n",
      "\n",
      "See the caveats in the documentation: https://pandas.pydata.org/pandas-docs/stable/user_guide/indexing.html#returning-a-view-versus-a-copy\n",
      "  df['label'] = y_pred_test\n"
     ]
    },
    {
     "name": "stdout",
     "output_type": "stream",
     "text": [
      "Di train dapat performa \n",
      "Nilai Precision = 0.5\n",
      "Nilai Recall = 0.045714285714285714\n",
      "Nilai F1 = 0.08376963350785341\n",
      "Di test dapat performa\n",
      "Nilai Precision = 0.0\n",
      "Nilai Recall = 0.0\n",
      "Nilai F1 = 0.0\n",
      "########\n",
      "Rata-rata nilai test dengan Classifier xgb, lr, dan mlp adalah\n",
      "Precision = 0.4055555555555556\n",
      "Recall = 0.1111111111111111\n",
      "F1 = 0.16510809451985922\n",
      "/workspace/dataset/gempa\n",
      "\n",
      "\n",
      "/workspace/dataset\n",
      "Eksperimen pada bencana gempa dengan representasi filter_word_tc_window\n"
     ]
    },
    {
     "name": "stderr",
     "output_type": "stream",
     "text": [
      "/tmp/ipykernel_1865/1041286260.py:125: SettingWithCopyWarning: \n",
      "A value is trying to be set on a copy of a slice from a DataFrame.\n",
      "Try using .loc[row_indexer,col_indexer] = value instead\n",
      "\n",
      "See the caveats in the documentation: https://pandas.pydata.org/pandas-docs/stable/user_guide/indexing.html#returning-a-view-versus-a-copy\n",
      "  df['label'] = y_pred_test\n"
     ]
    },
    {
     "name": "stdout",
     "output_type": "stream",
     "text": [
      "XGBOOST\n",
      "Di train dapat performa \n",
      "Nilai Precision = 0.9806451612903225\n",
      "Nilai Recall = 0.8685714285714285\n",
      "Nilai F1 = 0.9212121212121211\n",
      "Di test dapat performa\n",
      "Nilai Precision = 0.0\n",
      "Nilai Recall = 0.0\n",
      "Nilai F1 = 0.0\n",
      "########\n",
      "RANDOM FOREST\n"
     ]
    },
    {
     "name": "stderr",
     "output_type": "stream",
     "text": [
      "/tmp/ipykernel_1865/1041286260.py:61: SettingWithCopyWarning: \n",
      "A value is trying to be set on a copy of a slice from a DataFrame.\n",
      "Try using .loc[row_indexer,col_indexer] = value instead\n",
      "\n",
      "See the caveats in the documentation: https://pandas.pydata.org/pandas-docs/stable/user_guide/indexing.html#returning-a-view-versus-a-copy\n",
      "  df['label'] = y_pred_test\n"
     ]
    },
    {
     "name": "stdout",
     "output_type": "stream",
     "text": [
      "Di train dapat performa \n",
      "Nilai Precision = 1.0\n",
      "Nilai Recall = 1.0\n",
      "Nilai F1 = 1.0\n",
      "Di test dapat performa\n",
      "Nilai Precision = 0.0\n",
      "Nilai Recall = 0.0\n",
      "Nilai F1 = 0.0\n",
      "########\n",
      "LOGISTIK REGRESSION\n"
     ]
    },
    {
     "name": "stderr",
     "output_type": "stream",
     "text": [
      "/opt/conda/lib/python3.8/site-packages/sklearn/metrics/_classification.py:1344: UndefinedMetricWarning: Precision and F-score are ill-defined and being set to 0.0 due to no predicted samples. Use `zero_division` parameter to control this behavior.\n",
      "  _warn_prf(average, modifier, msg_start, len(result))\n",
      "/tmp/ipykernel_1865/1041286260.py:81: SettingWithCopyWarning: \n",
      "A value is trying to be set on a copy of a slice from a DataFrame.\n",
      "Try using .loc[row_indexer,col_indexer] = value instead\n",
      "\n",
      "See the caveats in the documentation: https://pandas.pydata.org/pandas-docs/stable/user_guide/indexing.html#returning-a-view-versus-a-copy\n",
      "  df['label'] = y_pred_test\n"
     ]
    },
    {
     "name": "stdout",
     "output_type": "stream",
     "text": [
      "Di train dapat performa \n",
      "Nilai Precision = 0.8540145985401459\n",
      "Nilai Recall = 0.6685714285714286\n",
      "Nilai F1 = 0.75\n",
      "Di test dapat performa\n",
      "Nilai Precision = 0.5901639344262295\n",
      "Nilai Recall = 0.8\n",
      "Nilai F1 = 0.6792452830188679\n",
      "########\n",
      "MLP\n"
     ]
    },
    {
     "name": "stderr",
     "output_type": "stream",
     "text": [
      "/tmp/ipykernel_1865/1041286260.py:100: SettingWithCopyWarning: \n",
      "A value is trying to be set on a copy of a slice from a DataFrame.\n",
      "Try using .loc[row_indexer,col_indexer] = value instead\n",
      "\n",
      "See the caveats in the documentation: https://pandas.pydata.org/pandas-docs/stable/user_guide/indexing.html#returning-a-view-versus-a-copy\n",
      "  df['label'] = y_pred_test\n"
     ]
    },
    {
     "name": "stdout",
     "output_type": "stream",
     "text": [
      "Di train dapat performa \n",
      "Nilai Precision = 0.6632653061224489\n",
      "Nilai Recall = 0.37142857142857144\n",
      "Nilai F1 = 0.47619047619047616\n",
      "Di test dapat performa\n",
      "Nilai Precision = 0.5869565217391305\n",
      "Nilai Recall = 0.6\n",
      "Nilai F1 = 0.5934065934065934\n",
      "########\n",
      "Rata-rata nilai test dengan Classifier xgb, lr, dan mlp adalah\n",
      "Precision = 0.39237348538845335\n",
      "Recall = 0.4666666666666666\n",
      "F1 = 0.4242172921418204\n",
      "/workspace/dataset/gempa\n",
      "\n",
      "\n",
      "/workspace/dataset\n",
      "Eksperimen pada bencana gempa dengan representasi trunc_first_short\n"
     ]
    },
    {
     "name": "stderr",
     "output_type": "stream",
     "text": [
      "/tmp/ipykernel_1865/1041286260.py:125: SettingWithCopyWarning: \n",
      "A value is trying to be set on a copy of a slice from a DataFrame.\n",
      "Try using .loc[row_indexer,col_indexer] = value instead\n",
      "\n",
      "See the caveats in the documentation: https://pandas.pydata.org/pandas-docs/stable/user_guide/indexing.html#returning-a-view-versus-a-copy\n",
      "  df['label'] = y_pred_test\n"
     ]
    },
    {
     "name": "stdout",
     "output_type": "stream",
     "text": [
      "XGBOOST\n",
      "Di train dapat performa \n",
      "Nilai Precision = 0.987012987012987\n",
      "Nilai Recall = 0.8685714285714285\n",
      "Nilai F1 = 0.9240121580547112\n",
      "Di test dapat performa\n",
      "Nilai Precision = 0.8181818181818182\n",
      "Nilai Recall = 0.4\n",
      "Nilai F1 = 0.537313432835821\n",
      "########\n",
      "RANDOM FOREST\n"
     ]
    },
    {
     "name": "stderr",
     "output_type": "stream",
     "text": [
      "/tmp/ipykernel_1865/1041286260.py:61: SettingWithCopyWarning: \n",
      "A value is trying to be set on a copy of a slice from a DataFrame.\n",
      "Try using .loc[row_indexer,col_indexer] = value instead\n",
      "\n",
      "See the caveats in the documentation: https://pandas.pydata.org/pandas-docs/stable/user_guide/indexing.html#returning-a-view-versus-a-copy\n",
      "  df['label'] = y_pred_test\n"
     ]
    },
    {
     "name": "stdout",
     "output_type": "stream",
     "text": [
      "Di train dapat performa \n",
      "Nilai Precision = 1.0\n",
      "Nilai Recall = 1.0\n",
      "Nilai F1 = 1.0\n",
      "Di test dapat performa\n",
      "Nilai Precision = 0.8181818181818182\n",
      "Nilai Recall = 0.2\n",
      "Nilai F1 = 0.32142857142857145\n",
      "########\n",
      "LOGISTIK REGRESSION\n",
      "Di train dapat performa \n",
      "Nilai Precision = 0.8873239436619719\n",
      "Nilai Recall = 0.72\n",
      "Nilai F1 = 0.7949526813880128\n",
      "Di test dapat performa\n",
      "Nilai Precision = 0.75\n",
      "Nilai Recall = 0.4666666666666667\n",
      "Nilai F1 = 0.5753424657534245\n",
      "########\n",
      "MLP\n"
     ]
    },
    {
     "name": "stderr",
     "output_type": "stream",
     "text": [
      "/tmp/ipykernel_1865/1041286260.py:81: SettingWithCopyWarning: \n",
      "A value is trying to be set on a copy of a slice from a DataFrame.\n",
      "Try using .loc[row_indexer,col_indexer] = value instead\n",
      "\n",
      "See the caveats in the documentation: https://pandas.pydata.org/pandas-docs/stable/user_guide/indexing.html#returning-a-view-versus-a-copy\n",
      "  df['label'] = y_pred_test\n",
      "/tmp/ipykernel_1865/1041286260.py:100: SettingWithCopyWarning: \n",
      "A value is trying to be set on a copy of a slice from a DataFrame.\n",
      "Try using .loc[row_indexer,col_indexer] = value instead\n",
      "\n",
      "See the caveats in the documentation: https://pandas.pydata.org/pandas-docs/stable/user_guide/indexing.html#returning-a-view-versus-a-copy\n",
      "  df['label'] = y_pred_test\n"
     ]
    },
    {
     "name": "stdout",
     "output_type": "stream",
     "text": [
      "Di train dapat performa \n",
      "Nilai Precision = 0.8558558558558559\n",
      "Nilai Recall = 0.5428571428571428\n",
      "Nilai F1 = 0.6643356643356644\n",
      "Di test dapat performa\n",
      "Nilai Precision = 0.8421052631578947\n",
      "Nilai Recall = 0.35555555555555557\n",
      "Nilai F1 = 0.5\n",
      "########\n",
      "Rata-rata nilai test dengan Classifier xgb, lr, dan mlp adalah\n",
      "Precision = 0.8034290271132377\n",
      "Recall = 0.40740740740740744\n",
      "F1 = 0.5375519661964151\n",
      "/workspace/dataset/gempa\n",
      "\n",
      "\n",
      "/workspace/dataset\n",
      "Eksperimen pada bencana gempa dengan representasi trunc_last_short\n"
     ]
    },
    {
     "name": "stderr",
     "output_type": "stream",
     "text": [
      "/tmp/ipykernel_1865/1041286260.py:125: SettingWithCopyWarning: \n",
      "A value is trying to be set on a copy of a slice from a DataFrame.\n",
      "Try using .loc[row_indexer,col_indexer] = value instead\n",
      "\n",
      "See the caveats in the documentation: https://pandas.pydata.org/pandas-docs/stable/user_guide/indexing.html#returning-a-view-versus-a-copy\n",
      "  df['label'] = y_pred_test\n"
     ]
    },
    {
     "name": "stdout",
     "output_type": "stream",
     "text": [
      "XGBOOST\n",
      "Di train dapat performa \n",
      "Nilai Precision = 1.0\n",
      "Nilai Recall = 0.7257142857142858\n",
      "Nilai F1 = 0.8410596026490067\n",
      "Di test dapat performa\n",
      "Nilai Precision = 0.75\n",
      "Nilai Recall = 0.13333333333333333\n",
      "Nilai F1 = 0.22641509433962267\n",
      "########\n",
      "RANDOM FOREST\n"
     ]
    },
    {
     "name": "stderr",
     "output_type": "stream",
     "text": [
      "/tmp/ipykernel_1865/1041286260.py:61: SettingWithCopyWarning: \n",
      "A value is trying to be set on a copy of a slice from a DataFrame.\n",
      "Try using .loc[row_indexer,col_indexer] = value instead\n",
      "\n",
      "See the caveats in the documentation: https://pandas.pydata.org/pandas-docs/stable/user_guide/indexing.html#returning-a-view-versus-a-copy\n",
      "  df['label'] = y_pred_test\n"
     ]
    },
    {
     "name": "stdout",
     "output_type": "stream",
     "text": [
      "Di train dapat performa \n",
      "Nilai Precision = 1.0\n",
      "Nilai Recall = 1.0\n",
      "Nilai F1 = 1.0\n",
      "Di test dapat performa\n",
      "Nilai Precision = 1.0\n",
      "Nilai Recall = 0.022222222222222223\n",
      "Nilai F1 = 0.04347826086956522\n",
      "########\n",
      "LOGISTIK REGRESSION\n"
     ]
    },
    {
     "name": "stderr",
     "output_type": "stream",
     "text": [
      "/tmp/ipykernel_1865/1041286260.py:81: SettingWithCopyWarning: \n",
      "A value is trying to be set on a copy of a slice from a DataFrame.\n",
      "Try using .loc[row_indexer,col_indexer] = value instead\n",
      "\n",
      "See the caveats in the documentation: https://pandas.pydata.org/pandas-docs/stable/user_guide/indexing.html#returning-a-view-versus-a-copy\n",
      "  df['label'] = y_pred_test\n"
     ]
    },
    {
     "name": "stdout",
     "output_type": "stream",
     "text": [
      "Di train dapat performa \n",
      "Nilai Precision = 0.84\n",
      "Nilai Recall = 0.48\n",
      "Nilai F1 = 0.610909090909091\n",
      "Di test dapat performa\n",
      "Nilai Precision = 0.6\n",
      "Nilai Recall = 0.3333333333333333\n",
      "Nilai F1 = 0.42857142857142855\n",
      "########\n",
      "MLP\n"
     ]
    },
    {
     "name": "stderr",
     "output_type": "stream",
     "text": [
      "/tmp/ipykernel_1865/1041286260.py:100: SettingWithCopyWarning: \n",
      "A value is trying to be set on a copy of a slice from a DataFrame.\n",
      "Try using .loc[row_indexer,col_indexer] = value instead\n",
      "\n",
      "See the caveats in the documentation: https://pandas.pydata.org/pandas-docs/stable/user_guide/indexing.html#returning-a-view-versus-a-copy\n",
      "  df['label'] = y_pred_test\n"
     ]
    },
    {
     "name": "stdout",
     "output_type": "stream",
     "text": [
      "Di train dapat performa \n",
      "Nilai Precision = 0.7058823529411765\n",
      "Nilai Recall = 0.13714285714285715\n",
      "Nilai F1 = 0.22966507177033496\n",
      "Di test dapat performa\n",
      "Nilai Precision = 0.5714285714285714\n",
      "Nilai Recall = 0.08888888888888889\n",
      "Nilai F1 = 0.15384615384615385\n",
      "########\n",
      "Rata-rata nilai test dengan Classifier xgb, lr, dan mlp adalah\n",
      "Precision = 0.6404761904761905\n",
      "Recall = 0.1851851851851852\n",
      "F1 = 0.2696108922524017\n",
      "/workspace/dataset/gempa\n",
      "\n",
      "\n",
      "/workspace/dataset\n",
      "Eksperimen pada bencana gempa dengan representasi trunc_first_long\n"
     ]
    },
    {
     "name": "stderr",
     "output_type": "stream",
     "text": [
      "/tmp/ipykernel_1865/1041286260.py:125: SettingWithCopyWarning: \n",
      "A value is trying to be set on a copy of a slice from a DataFrame.\n",
      "Try using .loc[row_indexer,col_indexer] = value instead\n",
      "\n",
      "See the caveats in the documentation: https://pandas.pydata.org/pandas-docs/stable/user_guide/indexing.html#returning-a-view-versus-a-copy\n",
      "  df['label'] = y_pred_test\n"
     ]
    },
    {
     "name": "stdout",
     "output_type": "stream",
     "text": [
      "XGBOOST\n",
      "Di train dapat performa \n",
      "Nilai Precision = 0.987012987012987\n",
      "Nilai Recall = 0.8685714285714285\n",
      "Nilai F1 = 0.9240121580547112\n",
      "Di test dapat performa\n",
      "Nilai Precision = 0.6086956521739131\n",
      "Nilai Recall = 0.3111111111111111\n",
      "Nilai F1 = 0.411764705882353\n",
      "########\n",
      "RANDOM FOREST\n"
     ]
    },
    {
     "name": "stderr",
     "output_type": "stream",
     "text": [
      "/tmp/ipykernel_1865/1041286260.py:61: SettingWithCopyWarning: \n",
      "A value is trying to be set on a copy of a slice from a DataFrame.\n",
      "Try using .loc[row_indexer,col_indexer] = value instead\n",
      "\n",
      "See the caveats in the documentation: https://pandas.pydata.org/pandas-docs/stable/user_guide/indexing.html#returning-a-view-versus-a-copy\n",
      "  df['label'] = y_pred_test\n"
     ]
    },
    {
     "name": "stdout",
     "output_type": "stream",
     "text": [
      "Di train dapat performa \n",
      "Nilai Precision = 1.0\n",
      "Nilai Recall = 1.0\n",
      "Nilai F1 = 1.0\n",
      "Di test dapat performa\n",
      "Nilai Precision = 0.6\n",
      "Nilai Recall = 0.06666666666666667\n",
      "Nilai F1 = 0.12000000000000001\n",
      "########\n",
      "LOGISTIK REGRESSION\n"
     ]
    },
    {
     "name": "stderr",
     "output_type": "stream",
     "text": [
      "/tmp/ipykernel_1865/1041286260.py:81: SettingWithCopyWarning: \n",
      "A value is trying to be set on a copy of a slice from a DataFrame.\n",
      "Try using .loc[row_indexer,col_indexer] = value instead\n",
      "\n",
      "See the caveats in the documentation: https://pandas.pydata.org/pandas-docs/stable/user_guide/indexing.html#returning-a-view-versus-a-copy\n",
      "  df['label'] = y_pred_test\n"
     ]
    },
    {
     "name": "stdout",
     "output_type": "stream",
     "text": [
      "Di train dapat performa \n",
      "Nilai Precision = 0.8561643835616438\n",
      "Nilai Recall = 0.7142857142857143\n",
      "Nilai F1 = 0.7788161993769471\n",
      "Di test dapat performa\n",
      "Nilai Precision = 0.8333333333333334\n",
      "Nilai Recall = 0.6666666666666666\n",
      "Nilai F1 = 0.7407407407407408\n",
      "########\n",
      "MLP\n"
     ]
    },
    {
     "name": "stderr",
     "output_type": "stream",
     "text": [
      "/tmp/ipykernel_1865/1041286260.py:100: SettingWithCopyWarning: \n",
      "A value is trying to be set on a copy of a slice from a DataFrame.\n",
      "Try using .loc[row_indexer,col_indexer] = value instead\n",
      "\n",
      "See the caveats in the documentation: https://pandas.pydata.org/pandas-docs/stable/user_guide/indexing.html#returning-a-view-versus-a-copy\n",
      "  df['label'] = y_pred_test\n"
     ]
    },
    {
     "name": "stdout",
     "output_type": "stream",
     "text": [
      "Di train dapat performa \n",
      "Nilai Precision = 0.8493150684931506\n",
      "Nilai Recall = 0.35428571428571426\n",
      "Nilai F1 = 0.5\n",
      "Di test dapat performa\n",
      "Nilai Precision = 0.8260869565217391\n",
      "Nilai Recall = 0.4222222222222222\n",
      "Nilai F1 = 0.5588235294117647\n",
      "########\n",
      "Rata-rata nilai test dengan Classifier xgb, lr, dan mlp adalah\n",
      "Precision = 0.7560386473429953\n",
      "Recall = 0.4666666666666666\n",
      "F1 = 0.5704429920116195\n",
      "/workspace/dataset/gempa\n",
      "\n",
      "\n",
      "/workspace/dataset\n",
      "Eksperimen pada bencana gempa dengan representasi trunc_last_long\n"
     ]
    },
    {
     "name": "stderr",
     "output_type": "stream",
     "text": [
      "/tmp/ipykernel_1865/1041286260.py:125: SettingWithCopyWarning: \n",
      "A value is trying to be set on a copy of a slice from a DataFrame.\n",
      "Try using .loc[row_indexer,col_indexer] = value instead\n",
      "\n",
      "See the caveats in the documentation: https://pandas.pydata.org/pandas-docs/stable/user_guide/indexing.html#returning-a-view-versus-a-copy\n",
      "  df['label'] = y_pred_test\n"
     ]
    },
    {
     "name": "stdout",
     "output_type": "stream",
     "text": [
      "XGBOOST\n",
      "Di train dapat performa \n",
      "Nilai Precision = 0.9929577464788732\n",
      "Nilai Recall = 0.8057142857142857\n",
      "Nilai F1 = 0.8895899053627759\n",
      "Di test dapat performa\n",
      "Nilai Precision = 0.6\n",
      "Nilai Recall = 0.2\n",
      "Nilai F1 = 0.3\n",
      "########\n",
      "RANDOM FOREST\n"
     ]
    },
    {
     "name": "stderr",
     "output_type": "stream",
     "text": [
      "/tmp/ipykernel_1865/1041286260.py:61: SettingWithCopyWarning: \n",
      "A value is trying to be set on a copy of a slice from a DataFrame.\n",
      "Try using .loc[row_indexer,col_indexer] = value instead\n",
      "\n",
      "See the caveats in the documentation: https://pandas.pydata.org/pandas-docs/stable/user_guide/indexing.html#returning-a-view-versus-a-copy\n",
      "  df['label'] = y_pred_test\n"
     ]
    },
    {
     "name": "stdout",
     "output_type": "stream",
     "text": [
      "Di train dapat performa \n",
      "Nilai Precision = 1.0\n",
      "Nilai Recall = 1.0\n",
      "Nilai F1 = 1.0\n",
      "Di test dapat performa\n",
      "Nilai Precision = 0.75\n",
      "Nilai Recall = 0.06666666666666667\n",
      "Nilai F1 = 0.12244897959183675\n",
      "########\n",
      "LOGISTIK REGRESSION\n",
      "Di train dapat performa \n",
      "Nilai Precision = 0.8524590163934426\n",
      "Nilai Recall = 0.5942857142857143\n",
      "Nilai F1 = 0.7003367003367003\n",
      "Di test dapat performa\n",
      "Nilai Precision = 0.7333333333333333\n",
      "Nilai Recall = 0.4888888888888889\n",
      "Nilai F1 = 0.5866666666666667\n",
      "########\n",
      "MLP\n"
     ]
    },
    {
     "name": "stderr",
     "output_type": "stream",
     "text": [
      "/tmp/ipykernel_1865/1041286260.py:81: SettingWithCopyWarning: \n",
      "A value is trying to be set on a copy of a slice from a DataFrame.\n",
      "Try using .loc[row_indexer,col_indexer] = value instead\n",
      "\n",
      "See the caveats in the documentation: https://pandas.pydata.org/pandas-docs/stable/user_guide/indexing.html#returning-a-view-versus-a-copy\n",
      "  df['label'] = y_pred_test\n",
      "/tmp/ipykernel_1865/1041286260.py:100: SettingWithCopyWarning: \n",
      "A value is trying to be set on a copy of a slice from a DataFrame.\n",
      "Try using .loc[row_indexer,col_indexer] = value instead\n",
      "\n",
      "See the caveats in the documentation: https://pandas.pydata.org/pandas-docs/stable/user_guide/indexing.html#returning-a-view-versus-a-copy\n",
      "  df['label'] = y_pred_test\n"
     ]
    },
    {
     "name": "stdout",
     "output_type": "stream",
     "text": [
      "Di train dapat performa \n",
      "Nilai Precision = 0.625\n",
      "Nilai Recall = 0.02857142857142857\n",
      "Nilai F1 = 0.0546448087431694\n",
      "Di test dapat performa\n",
      "Nilai Precision = 1.0\n",
      "Nilai Recall = 0.06666666666666667\n",
      "Nilai F1 = 0.125\n",
      "########\n",
      "Rata-rata nilai test dengan Classifier xgb, lr, dan mlp adalah\n",
      "Precision = 0.7777777777777777\n",
      "Recall = 0.2518518518518518\n",
      "F1 = 0.33722222222222226\n",
      "/workspace/dataset/gempa\n",
      "\n",
      "\n",
      "/workspace/dataset\n",
      "Eksperimen pada bencana gempa dengan representasi trunc_combination\n"
     ]
    },
    {
     "name": "stderr",
     "output_type": "stream",
     "text": [
      "/tmp/ipykernel_1865/1041286260.py:125: SettingWithCopyWarning: \n",
      "A value is trying to be set on a copy of a slice from a DataFrame.\n",
      "Try using .loc[row_indexer,col_indexer] = value instead\n",
      "\n",
      "See the caveats in the documentation: https://pandas.pydata.org/pandas-docs/stable/user_guide/indexing.html#returning-a-view-versus-a-copy\n",
      "  df['label'] = y_pred_test\n"
     ]
    },
    {
     "name": "stdout",
     "output_type": "stream",
     "text": [
      "XGBOOST\n",
      "Di train dapat performa \n",
      "Nilai Precision = 0.9803921568627451\n",
      "Nilai Recall = 0.8571428571428571\n",
      "Nilai F1 = 0.9146341463414633\n",
      "Di test dapat performa\n",
      "Nilai Precision = 0.8636363636363636\n",
      "Nilai Recall = 0.4222222222222222\n",
      "Nilai F1 = 0.5671641791044777\n",
      "########\n",
      "RANDOM FOREST\n"
     ]
    },
    {
     "name": "stderr",
     "output_type": "stream",
     "text": [
      "/tmp/ipykernel_1865/1041286260.py:61: SettingWithCopyWarning: \n",
      "A value is trying to be set on a copy of a slice from a DataFrame.\n",
      "Try using .loc[row_indexer,col_indexer] = value instead\n",
      "\n",
      "See the caveats in the documentation: https://pandas.pydata.org/pandas-docs/stable/user_guide/indexing.html#returning-a-view-versus-a-copy\n",
      "  df['label'] = y_pred_test\n"
     ]
    },
    {
     "name": "stdout",
     "output_type": "stream",
     "text": [
      "Di train dapat performa \n",
      "Nilai Precision = 1.0\n",
      "Nilai Recall = 1.0\n",
      "Nilai F1 = 1.0\n",
      "Di test dapat performa\n",
      "Nilai Precision = 0.8\n",
      "Nilai Recall = 0.08888888888888889\n",
      "Nilai F1 = 0.15999999999999998\n",
      "########\n",
      "LOGISTIK REGRESSION\n"
     ]
    },
    {
     "name": "stderr",
     "output_type": "stream",
     "text": [
      "/tmp/ipykernel_1865/1041286260.py:81: SettingWithCopyWarning: \n",
      "A value is trying to be set on a copy of a slice from a DataFrame.\n",
      "Try using .loc[row_indexer,col_indexer] = value instead\n",
      "\n",
      "See the caveats in the documentation: https://pandas.pydata.org/pandas-docs/stable/user_guide/indexing.html#returning-a-view-versus-a-copy\n",
      "  df['label'] = y_pred_test\n"
     ]
    },
    {
     "name": "stdout",
     "output_type": "stream",
     "text": [
      "Di train dapat performa \n",
      "Nilai Precision = 0.8503937007874016\n",
      "Nilai Recall = 0.6171428571428571\n",
      "Nilai F1 = 0.7152317880794702\n",
      "Di test dapat performa\n",
      "Nilai Precision = 0.8275862068965517\n",
      "Nilai Recall = 0.5333333333333333\n",
      "Nilai F1 = 0.6486486486486487\n",
      "########\n",
      "MLP\n"
     ]
    },
    {
     "name": "stderr",
     "output_type": "stream",
     "text": [
      "/tmp/ipykernel_1865/1041286260.py:100: SettingWithCopyWarning: \n",
      "A value is trying to be set on a copy of a slice from a DataFrame.\n",
      "Try using .loc[row_indexer,col_indexer] = value instead\n",
      "\n",
      "See the caveats in the documentation: https://pandas.pydata.org/pandas-docs/stable/user_guide/indexing.html#returning-a-view-versus-a-copy\n",
      "  df['label'] = y_pred_test\n"
     ]
    },
    {
     "name": "stdout",
     "output_type": "stream",
     "text": [
      "Di train dapat performa \n",
      "Nilai Precision = 0.8539325842696629\n",
      "Nilai Recall = 0.4342857142857143\n",
      "Nilai F1 = 0.5757575757575757\n",
      "Di test dapat performa\n",
      "Nilai Precision = 0.84\n",
      "Nilai Recall = 0.4666666666666667\n",
      "Nilai F1 = 0.6000000000000001\n",
      "########\n",
      "Rata-rata nilai test dengan Classifier xgb, lr, dan mlp adalah\n",
      "Precision = 0.8437408568443051\n",
      "Recall = 0.47407407407407404\n",
      "F1 = 0.6052709425843755\n",
      "/workspace/dataset/gempa\n",
      "\n",
      "\n",
      "/workspace/dataset\n",
      "Eksperimen pada bencana gempa dengan representasi textrank\n"
     ]
    },
    {
     "name": "stderr",
     "output_type": "stream",
     "text": [
      "/tmp/ipykernel_1865/1041286260.py:125: SettingWithCopyWarning: \n",
      "A value is trying to be set on a copy of a slice from a DataFrame.\n",
      "Try using .loc[row_indexer,col_indexer] = value instead\n",
      "\n",
      "See the caveats in the documentation: https://pandas.pydata.org/pandas-docs/stable/user_guide/indexing.html#returning-a-view-versus-a-copy\n",
      "  df['label'] = y_pred_test\n"
     ]
    },
    {
     "name": "stdout",
     "output_type": "stream",
     "text": [
      "XGBOOST\n",
      "Di train dapat performa \n",
      "Nilai Precision = 1.0\n",
      "Nilai Recall = 0.8457142857142858\n",
      "Nilai F1 = 0.9164086687306502\n",
      "Di test dapat performa\n",
      "Nilai Precision = 1.0\n",
      "Nilai Recall = 0.022222222222222223\n",
      "Nilai F1 = 0.04347826086956522\n",
      "########\n",
      "RANDOM FOREST\n"
     ]
    },
    {
     "name": "stderr",
     "output_type": "stream",
     "text": [
      "/tmp/ipykernel_1865/1041286260.py:61: SettingWithCopyWarning: \n",
      "A value is trying to be set on a copy of a slice from a DataFrame.\n",
      "Try using .loc[row_indexer,col_indexer] = value instead\n",
      "\n",
      "See the caveats in the documentation: https://pandas.pydata.org/pandas-docs/stable/user_guide/indexing.html#returning-a-view-versus-a-copy\n",
      "  df['label'] = y_pred_test\n"
     ]
    },
    {
     "name": "stdout",
     "output_type": "stream",
     "text": [
      "Di train dapat performa \n",
      "Nilai Precision = 1.0\n",
      "Nilai Recall = 1.0\n",
      "Nilai F1 = 1.0\n",
      "Di test dapat performa\n",
      "Nilai Precision = 0.0\n",
      "Nilai Recall = 0.0\n",
      "Nilai F1 = 0.0\n",
      "########\n",
      "LOGISTIK REGRESSION\n"
     ]
    },
    {
     "name": "stderr",
     "output_type": "stream",
     "text": [
      "/opt/conda/lib/python3.8/site-packages/sklearn/metrics/_classification.py:1344: UndefinedMetricWarning: Precision and F-score are ill-defined and being set to 0.0 due to no predicted samples. Use `zero_division` parameter to control this behavior.\n",
      "  _warn_prf(average, modifier, msg_start, len(result))\n",
      "/tmp/ipykernel_1865/1041286260.py:81: SettingWithCopyWarning: \n",
      "A value is trying to be set on a copy of a slice from a DataFrame.\n",
      "Try using .loc[row_indexer,col_indexer] = value instead\n",
      "\n",
      "See the caveats in the documentation: https://pandas.pydata.org/pandas-docs/stable/user_guide/indexing.html#returning-a-view-versus-a-copy\n",
      "  df['label'] = y_pred_test\n"
     ]
    },
    {
     "name": "stdout",
     "output_type": "stream",
     "text": [
      "Di train dapat performa \n",
      "Nilai Precision = 0.90625\n",
      "Nilai Recall = 0.6628571428571428\n",
      "Nilai F1 = 0.7656765676567656\n",
      "Di test dapat performa\n",
      "Nilai Precision = 0.6666666666666666\n",
      "Nilai Recall = 0.6222222222222222\n",
      "Nilai F1 = 0.6436781609195403\n",
      "########\n",
      "MLP\n"
     ]
    },
    {
     "name": "stderr",
     "output_type": "stream",
     "text": [
      "/tmp/ipykernel_1865/1041286260.py:100: SettingWithCopyWarning: \n",
      "A value is trying to be set on a copy of a slice from a DataFrame.\n",
      "Try using .loc[row_indexer,col_indexer] = value instead\n",
      "\n",
      "See the caveats in the documentation: https://pandas.pydata.org/pandas-docs/stable/user_guide/indexing.html#returning-a-view-versus-a-copy\n",
      "  df['label'] = y_pred_test\n"
     ]
    },
    {
     "name": "stdout",
     "output_type": "stream",
     "text": [
      "Di train dapat performa \n",
      "Nilai Precision = 0.8787878787878788\n",
      "Nilai Recall = 0.1657142857142857\n",
      "Nilai F1 = 0.27884615384615385\n",
      "Di test dapat performa\n",
      "Nilai Precision = 0.75\n",
      "Nilai Recall = 0.13333333333333333\n",
      "Nilai F1 = 0.22641509433962267\n",
      "########\n",
      "Rata-rata nilai test dengan Classifier xgb, lr, dan mlp adalah\n",
      "Precision = 0.8055555555555555\n",
      "Recall = 0.25925925925925924\n",
      "F1 = 0.30452383870957606\n",
      "/workspace/dataset/gempa\n",
      "\n",
      "\n",
      "/workspace/dataset\n",
      "Eksperimen pada bencana gempa dengan representasi sum_indobart\n"
     ]
    },
    {
     "name": "stderr",
     "output_type": "stream",
     "text": [
      "/tmp/ipykernel_1865/1041286260.py:125: SettingWithCopyWarning: \n",
      "A value is trying to be set on a copy of a slice from a DataFrame.\n",
      "Try using .loc[row_indexer,col_indexer] = value instead\n",
      "\n",
      "See the caveats in the documentation: https://pandas.pydata.org/pandas-docs/stable/user_guide/indexing.html#returning-a-view-versus-a-copy\n",
      "  df['label'] = y_pred_test\n"
     ]
    },
    {
     "name": "stdout",
     "output_type": "stream",
     "text": [
      "XGBOOST\n",
      "Di train dapat performa \n",
      "Nilai Precision = 0.9871794871794872\n",
      "Nilai Recall = 0.88\n",
      "Nilai F1 = 0.9305135951661632\n",
      "Di test dapat performa\n",
      "Nilai Precision = 0.5\n",
      "Nilai Recall = 0.06666666666666667\n",
      "Nilai F1 = 0.11764705882352941\n",
      "########\n",
      "RANDOM FOREST\n"
     ]
    },
    {
     "name": "stderr",
     "output_type": "stream",
     "text": [
      "/tmp/ipykernel_1865/1041286260.py:61: SettingWithCopyWarning: \n",
      "A value is trying to be set on a copy of a slice from a DataFrame.\n",
      "Try using .loc[row_indexer,col_indexer] = value instead\n",
      "\n",
      "See the caveats in the documentation: https://pandas.pydata.org/pandas-docs/stable/user_guide/indexing.html#returning-a-view-versus-a-copy\n",
      "  df['label'] = y_pred_test\n"
     ]
    },
    {
     "name": "stdout",
     "output_type": "stream",
     "text": [
      "Di train dapat performa \n",
      "Nilai Precision = 1.0\n",
      "Nilai Recall = 1.0\n",
      "Nilai F1 = 1.0\n",
      "Di test dapat performa\n",
      "Nilai Precision = 0.5\n",
      "Nilai Recall = 0.022222222222222223\n",
      "Nilai F1 = 0.0425531914893617\n",
      "########\n",
      "LOGISTIK REGRESSION\n"
     ]
    },
    {
     "name": "stderr",
     "output_type": "stream",
     "text": [
      "/tmp/ipykernel_1865/1041286260.py:81: SettingWithCopyWarning: \n",
      "A value is trying to be set on a copy of a slice from a DataFrame.\n",
      "Try using .loc[row_indexer,col_indexer] = value instead\n",
      "\n",
      "See the caveats in the documentation: https://pandas.pydata.org/pandas-docs/stable/user_guide/indexing.html#returning-a-view-versus-a-copy\n",
      "  df['label'] = y_pred_test\n"
     ]
    },
    {
     "name": "stdout",
     "output_type": "stream",
     "text": [
      "Di train dapat performa \n",
      "Nilai Precision = 0.8823529411764706\n",
      "Nilai Recall = 0.6857142857142857\n",
      "Nilai F1 = 0.7717041800643086\n",
      "Di test dapat performa\n",
      "Nilai Precision = 0.6388888888888888\n",
      "Nilai Recall = 0.5111111111111111\n",
      "Nilai F1 = 0.5679012345679012\n",
      "########\n",
      "MLP\n"
     ]
    },
    {
     "name": "stderr",
     "output_type": "stream",
     "text": [
      "/tmp/ipykernel_1865/1041286260.py:100: SettingWithCopyWarning: \n",
      "A value is trying to be set on a copy of a slice from a DataFrame.\n",
      "Try using .loc[row_indexer,col_indexer] = value instead\n",
      "\n",
      "See the caveats in the documentation: https://pandas.pydata.org/pandas-docs/stable/user_guide/indexing.html#returning-a-view-versus-a-copy\n",
      "  df['label'] = y_pred_test\n"
     ]
    },
    {
     "name": "stdout",
     "output_type": "stream",
     "text": [
      "Di train dapat performa \n",
      "Nilai Precision = 0.8144329896907216\n",
      "Nilai Recall = 0.4514285714285714\n",
      "Nilai F1 = 0.5808823529411765\n",
      "Di test dapat performa\n",
      "Nilai Precision = 0.7692307692307693\n",
      "Nilai Recall = 0.4444444444444444\n",
      "Nilai F1 = 0.5633802816901408\n",
      "########\n",
      "Rata-rata nilai test dengan Classifier xgb, lr, dan mlp adalah\n",
      "Precision = 0.636039886039886\n",
      "Recall = 0.34074074074074073\n",
      "F1 = 0.4163095250271905\n",
      "/workspace/dataset/gempa\n",
      "\n",
      "\n",
      "/workspace/dataset\n",
      "Eksperimen pada bencana gempa dengan representasi sum_liputan6\n"
     ]
    },
    {
     "name": "stderr",
     "output_type": "stream",
     "text": [
      "/tmp/ipykernel_1865/1041286260.py:125: SettingWithCopyWarning: \n",
      "A value is trying to be set on a copy of a slice from a DataFrame.\n",
      "Try using .loc[row_indexer,col_indexer] = value instead\n",
      "\n",
      "See the caveats in the documentation: https://pandas.pydata.org/pandas-docs/stable/user_guide/indexing.html#returning-a-view-versus-a-copy\n",
      "  df['label'] = y_pred_test\n"
     ]
    },
    {
     "name": "stdout",
     "output_type": "stream",
     "text": [
      "XGBOOST\n",
      "Di train dapat performa \n",
      "Nilai Precision = 0.9934640522875817\n",
      "Nilai Recall = 0.8685714285714285\n",
      "Nilai F1 = 0.9268292682926829\n",
      "Di test dapat performa\n",
      "Nilai Precision = 0.8333333333333334\n",
      "Nilai Recall = 0.2222222222222222\n",
      "Nilai F1 = 0.3508771929824561\n",
      "########\n",
      "RANDOM FOREST\n"
     ]
    },
    {
     "name": "stderr",
     "output_type": "stream",
     "text": [
      "/tmp/ipykernel_1865/1041286260.py:61: SettingWithCopyWarning: \n",
      "A value is trying to be set on a copy of a slice from a DataFrame.\n",
      "Try using .loc[row_indexer,col_indexer] = value instead\n",
      "\n",
      "See the caveats in the documentation: https://pandas.pydata.org/pandas-docs/stable/user_guide/indexing.html#returning-a-view-versus-a-copy\n",
      "  df['label'] = y_pred_test\n"
     ]
    },
    {
     "name": "stdout",
     "output_type": "stream",
     "text": [
      "Di train dapat performa \n",
      "Nilai Precision = 1.0\n",
      "Nilai Recall = 1.0\n",
      "Nilai F1 = 1.0\n",
      "Di test dapat performa\n",
      "Nilai Precision = 1.0\n",
      "Nilai Recall = 0.15555555555555556\n",
      "Nilai F1 = 0.2692307692307693\n",
      "########\n",
      "LOGISTIK REGRESSION\n"
     ]
    },
    {
     "name": "stderr",
     "output_type": "stream",
     "text": [
      "/tmp/ipykernel_1865/1041286260.py:81: SettingWithCopyWarning: \n",
      "A value is trying to be set on a copy of a slice from a DataFrame.\n",
      "Try using .loc[row_indexer,col_indexer] = value instead\n",
      "\n",
      "See the caveats in the documentation: https://pandas.pydata.org/pandas-docs/stable/user_guide/indexing.html#returning-a-view-versus-a-copy\n",
      "  df['label'] = y_pred_test\n"
     ]
    },
    {
     "name": "stdout",
     "output_type": "stream",
     "text": [
      "Di train dapat performa \n",
      "Nilai Precision = 0.875\n",
      "Nilai Recall = 0.72\n",
      "Nilai F1 = 0.7899686520376176\n",
      "Di test dapat performa\n",
      "Nilai Precision = 0.7575757575757576\n",
      "Nilai Recall = 0.5555555555555556\n",
      "Nilai F1 = 0.6410256410256411\n",
      "########\n",
      "MLP\n"
     ]
    },
    {
     "name": "stderr",
     "output_type": "stream",
     "text": [
      "/tmp/ipykernel_1865/1041286260.py:100: SettingWithCopyWarning: \n",
      "A value is trying to be set on a copy of a slice from a DataFrame.\n",
      "Try using .loc[row_indexer,col_indexer] = value instead\n",
      "\n",
      "See the caveats in the documentation: https://pandas.pydata.org/pandas-docs/stable/user_guide/indexing.html#returning-a-view-versus-a-copy\n",
      "  df['label'] = y_pred_test\n"
     ]
    },
    {
     "name": "stdout",
     "output_type": "stream",
     "text": [
      "Di train dapat performa \n",
      "Nilai Precision = 0.7391304347826086\n",
      "Nilai Recall = 0.5828571428571429\n",
      "Nilai F1 = 0.6517571884984025\n",
      "Di test dapat performa\n",
      "Nilai Precision = 0.7142857142857143\n",
      "Nilai Recall = 0.5555555555555556\n",
      "Nilai F1 = 0.6250000000000001\n",
      "########\n",
      "Rata-rata nilai test dengan Classifier xgb, lr, dan mlp adalah\n",
      "Precision = 0.7683982683982684\n",
      "Recall = 0.4444444444444445\n",
      "F1 = 0.5389676113360324\n",
      "/workspace/dataset/gempa\n",
      "\n",
      "\n",
      "/workspace/dataset\n",
      "Eksperimen pada bencana gempa dengan representasi sum_pegasus\n"
     ]
    },
    {
     "name": "stderr",
     "output_type": "stream",
     "text": [
      "/tmp/ipykernel_1865/1041286260.py:125: SettingWithCopyWarning: \n",
      "A value is trying to be set on a copy of a slice from a DataFrame.\n",
      "Try using .loc[row_indexer,col_indexer] = value instead\n",
      "\n",
      "See the caveats in the documentation: https://pandas.pydata.org/pandas-docs/stable/user_guide/indexing.html#returning-a-view-versus-a-copy\n",
      "  df['label'] = y_pred_test\n"
     ]
    },
    {
     "name": "stdout",
     "output_type": "stream",
     "text": [
      "XGBOOST\n",
      "Di train dapat performa \n",
      "Nilai Precision = 0.991304347826087\n",
      "Nilai Recall = 0.6514285714285715\n",
      "Nilai F1 = 0.7862068965517243\n",
      "Di test dapat performa\n",
      "Nilai Precision = 0.5714285714285714\n",
      "Nilai Recall = 0.08888888888888889\n",
      "Nilai F1 = 0.15384615384615385\n",
      "########\n",
      "RANDOM FOREST\n"
     ]
    },
    {
     "name": "stderr",
     "output_type": "stream",
     "text": [
      "/tmp/ipykernel_1865/1041286260.py:61: SettingWithCopyWarning: \n",
      "A value is trying to be set on a copy of a slice from a DataFrame.\n",
      "Try using .loc[row_indexer,col_indexer] = value instead\n",
      "\n",
      "See the caveats in the documentation: https://pandas.pydata.org/pandas-docs/stable/user_guide/indexing.html#returning-a-view-versus-a-copy\n",
      "  df['label'] = y_pred_test\n"
     ]
    },
    {
     "name": "stdout",
     "output_type": "stream",
     "text": [
      "Di train dapat performa \n",
      "Nilai Precision = 1.0\n",
      "Nilai Recall = 1.0\n",
      "Nilai F1 = 1.0\n",
      "Di test dapat performa\n",
      "Nilai Precision = 1.0\n",
      "Nilai Recall = 0.06666666666666667\n",
      "Nilai F1 = 0.125\n",
      "########\n",
      "LOGISTIK REGRESSION\n",
      "Di train dapat performa \n",
      "Nilai Precision = 0.7672413793103449\n",
      "Nilai Recall = 0.5085714285714286\n",
      "Nilai F1 = 0.6116838487972509\n",
      "Di test dapat performa\n",
      "Nilai Precision = 0.5483870967741935\n",
      "Nilai Recall = 0.37777777777777777\n",
      "Nilai F1 = 0.4473684210526315\n",
      "########\n",
      "MLP\n"
     ]
    },
    {
     "name": "stderr",
     "output_type": "stream",
     "text": [
      "/tmp/ipykernel_1865/1041286260.py:81: SettingWithCopyWarning: \n",
      "A value is trying to be set on a copy of a slice from a DataFrame.\n",
      "Try using .loc[row_indexer,col_indexer] = value instead\n",
      "\n",
      "See the caveats in the documentation: https://pandas.pydata.org/pandas-docs/stable/user_guide/indexing.html#returning-a-view-versus-a-copy\n",
      "  df['label'] = y_pred_test\n",
      "/tmp/ipykernel_1865/1041286260.py:100: SettingWithCopyWarning: \n",
      "A value is trying to be set on a copy of a slice from a DataFrame.\n",
      "Try using .loc[row_indexer,col_indexer] = value instead\n",
      "\n",
      "See the caveats in the documentation: https://pandas.pydata.org/pandas-docs/stable/user_guide/indexing.html#returning-a-view-versus-a-copy\n",
      "  df['label'] = y_pred_test\n"
     ]
    },
    {
     "name": "stdout",
     "output_type": "stream",
     "text": [
      "Di train dapat performa \n",
      "Nilai Precision = 0.6818181818181818\n",
      "Nilai Recall = 0.08571428571428572\n",
      "Nilai F1 = 0.15228426395939088\n",
      "Di test dapat performa\n",
      "Nilai Precision = 1.0\n",
      "Nilai Recall = 0.044444444444444446\n",
      "Nilai F1 = 0.0851063829787234\n",
      "########\n",
      "Rata-rata nilai test dengan Classifier xgb, lr, dan mlp adalah\n",
      "Precision = 0.7066052227342551\n",
      "Recall = 0.17037037037037037\n",
      "F1 = 0.22877365262583627\n",
      "/workspace/dataset/gempa\n",
      "\n",
      "\n",
      "************************************************************\n",
      "{'gempa': {'title_ori': {'xgb': {'prec': 0.5, 'rec': 0.08888888888888889, 'f1': 0.1509433962264151, 'acc': 0.775}, 'rf': {'prec': 0.6666666666666666, 'rec': 0.044444444444444446, 'f1': 0.08333333333333334, 'acc': 0.78}, 'lr': {'prec': 0.5945945945945946, 'rec': 0.4888888888888889, 'f1': 0.5365853658536586, 'acc': 0.81}, 'mlp': {'prec': 0.6285714285714286, 'rec': 0.4888888888888889, 'f1': 0.5499999999999999, 'acc': 0.82}}, 'text_ori': {'xgb': {'prec': 0.7222222222222222, 'rec': 0.28888888888888886, 'f1': 0.4126984126984127, 'acc': 0.815}, 'rf': {'prec': 0.9166666666666666, 'rec': 0.24444444444444444, 'f1': 0.3859649122807018, 'acc': 0.825}, 'lr': {'prec': 0.92, 'rec': 0.5111111111111111, 'f1': 0.6571428571428571, 'acc': 0.88}, 'mlp': {'prec': 0.9090909090909091, 'rec': 0.2222222222222222, 'f1': 0.3571428571428571, 'acc': 0.82}}, 'tc_ori': {'xgb': {'prec': 0.85, 'rec': 0.37777777777777777, 'f1': 0.523076923076923, 'acc': 0.845}, 'rf': {'prec': 1.0, 'rec': 0.1111111111111111, 'f1': 0.19999999999999998, 'acc': 0.8}, 'lr': {'prec': 0.9259259259259259, 'rec': 0.5555555555555556, 'f1': 0.6944444444444444, 'acc': 0.89}, 'mlp': {'prec': 0.9333333333333333, 'rec': 0.3111111111111111, 'f1': 0.4666666666666667, 'acc': 0.84}}, 'filter_word_tc': {'xgb': {'prec': 0.6666666666666666, 'rec': 0.08888888888888889, 'f1': 0.1568627450980392, 'acc': 0.785}, 'rf': {'prec': 0.0, 'rec': 0.0, 'f1': 0.0, 'acc': 0.775}, 'lr': {'prec': 0.55, 'rec': 0.24444444444444444, 'f1': 0.3384615384615384, 'acc': 0.785}, 'mlp': {'prec': 0.0, 'rec': 0.0, 'f1': 0.0, 'acc': 0.77}}, 'filter_word_tc_window': {'xgb': {'prec': 0.0, 'rec': 0.0, 'f1': 0.0, 'acc': 0.77}, 'rf': {'prec': 0.0, 'rec': 0.0, 'f1': 0.0, 'acc': 0.775}, 'lr': {'prec': 0.5901639344262295, 'rec': 0.8, 'f1': 0.6792452830188679, 'acc': 0.83}, 'mlp': {'prec': 0.5869565217391305, 'rec': 0.6, 'f1': 0.5934065934065934, 'acc': 0.815}}, 'trunc_first_short': {'xgb': {'prec': 0.8181818181818182, 'rec': 0.4, 'f1': 0.537313432835821, 'acc': 0.845}, 'rf': {'prec': 0.8181818181818182, 'rec': 0.2, 'f1': 0.32142857142857145, 'acc': 0.81}, 'lr': {'prec': 0.75, 'rec': 0.4666666666666667, 'f1': 0.5753424657534245, 'acc': 0.845}, 'mlp': {'prec': 0.8421052631578947, 'rec': 0.35555555555555557, 'f1': 0.5, 'acc': 0.84}}, 'trunc_last_short': {'xgb': {'prec': 0.75, 'rec': 0.13333333333333333, 'f1': 0.22641509433962267, 'acc': 0.795}, 'rf': {'prec': 1.0, 'rec': 0.022222222222222223, 'f1': 0.04347826086956522, 'acc': 0.78}, 'lr': {'prec': 0.6, 'rec': 0.3333333333333333, 'f1': 0.42857142857142855, 'acc': 0.8}, 'mlp': {'prec': 0.5714285714285714, 'rec': 0.08888888888888889, 'f1': 0.15384615384615385, 'acc': 0.78}}, 'trunc_first_long': {'xgb': {'prec': 0.6086956521739131, 'rec': 0.3111111111111111, 'f1': 0.411764705882353, 'acc': 0.8}, 'rf': {'prec': 0.6, 'rec': 0.06666666666666667, 'f1': 0.12000000000000001, 'acc': 0.78}, 'lr': {'prec': 0.8333333333333334, 'rec': 0.6666666666666666, 'f1': 0.7407407407407408, 'acc': 0.895}, 'mlp': {'prec': 0.8260869565217391, 'rec': 0.4222222222222222, 'f1': 0.5588235294117647, 'acc': 0.85}}, 'trunc_last_long': {'xgb': {'prec': 0.6, 'rec': 0.2, 'f1': 0.3, 'acc': 0.79}, 'rf': {'prec': 0.75, 'rec': 0.06666666666666667, 'f1': 0.12244897959183675, 'acc': 0.785}, 'lr': {'prec': 0.7333333333333333, 'rec': 0.4888888888888889, 'f1': 0.5866666666666667, 'acc': 0.845}, 'mlp': {'prec': 1.0, 'rec': 0.06666666666666667, 'f1': 0.125, 'acc': 0.79}}, 'trunc_combination': {'xgb': {'prec': 0.8636363636363636, 'rec': 0.4222222222222222, 'f1': 0.5671641791044777, 'acc': 0.855}, 'rf': {'prec': 0.8, 'rec': 0.08888888888888889, 'f1': 0.15999999999999998, 'acc': 0.79}, 'lr': {'prec': 0.8275862068965517, 'rec': 0.5333333333333333, 'f1': 0.6486486486486487, 'acc': 0.87}, 'mlp': {'prec': 0.84, 'rec': 0.4666666666666667, 'f1': 0.6000000000000001, 'acc': 0.86}}, 'textrank': {'xgb': {'prec': 1.0, 'rec': 0.022222222222222223, 'f1': 0.04347826086956522, 'acc': 0.78}, 'rf': {'prec': 0.0, 'rec': 0.0, 'f1': 0.0, 'acc': 0.775}, 'lr': {'prec': 0.6666666666666666, 'rec': 0.6222222222222222, 'f1': 0.6436781609195403, 'acc': 0.845}, 'mlp': {'prec': 0.75, 'rec': 0.13333333333333333, 'f1': 0.22641509433962267, 'acc': 0.795}}, 'sum_indobart': {'xgb': {'prec': 0.5, 'rec': 0.06666666666666667, 'f1': 0.11764705882352941, 'acc': 0.775}, 'rf': {'prec': 0.5, 'rec': 0.022222222222222223, 'f1': 0.0425531914893617, 'acc': 0.775}, 'lr': {'prec': 0.6388888888888888, 'rec': 0.5111111111111111, 'f1': 0.5679012345679012, 'acc': 0.825}, 'mlp': {'prec': 0.7692307692307693, 'rec': 0.4444444444444444, 'f1': 0.5633802816901408, 'acc': 0.845}}, 'sum_liputan6': {'xgb': {'prec': 0.8333333333333334, 'rec': 0.2222222222222222, 'f1': 0.3508771929824561, 'acc': 0.815}, 'rf': {'prec': 1.0, 'rec': 0.15555555555555556, 'f1': 0.2692307692307693, 'acc': 0.81}, 'lr': {'prec': 0.7575757575757576, 'rec': 0.5555555555555556, 'f1': 0.6410256410256411, 'acc': 0.86}, 'mlp': {'prec': 0.7142857142857143, 'rec': 0.5555555555555556, 'f1': 0.6250000000000001, 'acc': 0.85}}, 'sum_pegasus': {'xgb': {'prec': 0.5714285714285714, 'rec': 0.08888888888888889, 'f1': 0.15384615384615385, 'acc': 0.78}, 'rf': {'prec': 1.0, 'rec': 0.06666666666666667, 'f1': 0.125, 'acc': 0.79}, 'lr': {'prec': 0.5483870967741935, 'rec': 0.37777777777777777, 'f1': 0.4473684210526315, 'acc': 0.79}, 'mlp': {'prec': 1.0, 'rec': 0.044444444444444446, 'f1': 0.0851063829787234, 'acc': 0.785}}}}\n",
      "/workspace/dataset\n"
     ]
    },
    {
     "name": "stderr",
     "output_type": "stream",
     "text": [
      "/tmp/ipykernel_1865/1041286260.py:125: SettingWithCopyWarning: \n",
      "A value is trying to be set on a copy of a slice from a DataFrame.\n",
      "Try using .loc[row_indexer,col_indexer] = value instead\n",
      "\n",
      "See the caveats in the documentation: https://pandas.pydata.org/pandas-docs/stable/user_guide/indexing.html#returning-a-view-versus-a-copy\n",
      "  df['label'] = y_pred_test\n"
     ]
    }
   ],
   "source": [
    "%cd gempa\n",
    "get_f1_eks_praproses_bencana('gempa')\n",
    "%cd ..\n"
   ]
  },
  {
   "cell_type": "code",
   "execution_count": 18,
   "id": "271c0f04",
   "metadata": {
    "scrolled": true
   },
   "outputs": [
    {
     "name": "stdout",
     "output_type": "stream",
     "text": [
      "/workspace/dataset/karhutla\n",
      "evaluasi pada bencana = karhutla\n",
      "/workspace/dataset\n",
      "Eksperimen pada bencana karhutla dengan representasi title_ori\n",
      "XGBOOST\n",
      "Di train dapat performa \n",
      "Nilai Precision = 0.9511278195488722\n",
      "Nilai Recall = 0.8724137931034482\n",
      "Nilai F1 = 0.9100719424460431\n",
      "Di test dapat performa\n",
      "Nilai Precision = 0.7777777777777778\n",
      "Nilai Recall = 0.625\n",
      "Nilai F1 = 0.6930693069306931\n",
      "########\n",
      "RANDOM FOREST\n"
     ]
    },
    {
     "name": "stderr",
     "output_type": "stream",
     "text": [
      "/tmp/ipykernel_1865/1041286260.py:61: SettingWithCopyWarning: \n",
      "A value is trying to be set on a copy of a slice from a DataFrame.\n",
      "Try using .loc[row_indexer,col_indexer] = value instead\n",
      "\n",
      "See the caveats in the documentation: https://pandas.pydata.org/pandas-docs/stable/user_guide/indexing.html#returning-a-view-versus-a-copy\n",
      "  df['label'] = y_pred_test\n"
     ]
    },
    {
     "name": "stdout",
     "output_type": "stream",
     "text": [
      "Di train dapat performa \n",
      "Nilai Precision = 0.996551724137931\n",
      "Nilai Recall = 0.996551724137931\n",
      "Nilai F1 = 0.996551724137931\n",
      "Di test dapat performa\n",
      "Nilai Precision = 0.8108108108108109\n",
      "Nilai Recall = 0.5357142857142857\n",
      "Nilai F1 = 0.6451612903225806\n",
      "########\n",
      "LOGISTIK REGRESSION\n"
     ]
    },
    {
     "name": "stderr",
     "output_type": "stream",
     "text": [
      "/tmp/ipykernel_1865/1041286260.py:81: SettingWithCopyWarning: \n",
      "A value is trying to be set on a copy of a slice from a DataFrame.\n",
      "Try using .loc[row_indexer,col_indexer] = value instead\n",
      "\n",
      "See the caveats in the documentation: https://pandas.pydata.org/pandas-docs/stable/user_guide/indexing.html#returning-a-view-versus-a-copy\n",
      "  df['label'] = y_pred_test\n"
     ]
    },
    {
     "name": "stdout",
     "output_type": "stream",
     "text": [
      "Di train dapat performa \n",
      "Nilai Precision = 0.8283582089552238\n",
      "Nilai Recall = 0.7655172413793103\n",
      "Nilai F1 = 0.7956989247311828\n",
      "Di test dapat performa\n",
      "Nilai Precision = 0.6785714285714286\n",
      "Nilai Recall = 0.6785714285714286\n",
      "Nilai F1 = 0.6785714285714286\n",
      "########\n",
      "MLP\n"
     ]
    },
    {
     "name": "stderr",
     "output_type": "stream",
     "text": [
      "/tmp/ipykernel_1865/1041286260.py:100: SettingWithCopyWarning: \n",
      "A value is trying to be set on a copy of a slice from a DataFrame.\n",
      "Try using .loc[row_indexer,col_indexer] = value instead\n",
      "\n",
      "See the caveats in the documentation: https://pandas.pydata.org/pandas-docs/stable/user_guide/indexing.html#returning-a-view-versus-a-copy\n",
      "  df['label'] = y_pred_test\n"
     ]
    },
    {
     "name": "stdout",
     "output_type": "stream",
     "text": [
      "Di train dapat performa \n",
      "Nilai Precision = 0.7976878612716763\n",
      "Nilai Recall = 0.47586206896551725\n",
      "Nilai F1 = 0.5961123110151189\n",
      "Di test dapat performa\n",
      "Nilai Precision = 0.7631578947368421\n",
      "Nilai Recall = 0.5178571428571429\n",
      "Nilai F1 = 0.6170212765957447\n",
      "########\n",
      "Rata-rata nilai test dengan Classifier xgb, lr, dan mlp adalah\n",
      "Precision = 0.7398357003620162\n",
      "Recall = 0.6071428571428572\n",
      "F1 = 0.6628873373659555\n",
      "/workspace/dataset/karhutla\n",
      "\n",
      "\n",
      "/workspace/dataset\n",
      "Eksperimen pada bencana karhutla dengan representasi text_ori\n"
     ]
    },
    {
     "name": "stderr",
     "output_type": "stream",
     "text": [
      "/tmp/ipykernel_1865/1041286260.py:125: SettingWithCopyWarning: \n",
      "A value is trying to be set on a copy of a slice from a DataFrame.\n",
      "Try using .loc[row_indexer,col_indexer] = value instead\n",
      "\n",
      "See the caveats in the documentation: https://pandas.pydata.org/pandas-docs/stable/user_guide/indexing.html#returning-a-view-versus-a-copy\n",
      "  df['label'] = y_pred_test\n"
     ]
    },
    {
     "name": "stdout",
     "output_type": "stream",
     "text": [
      "XGBOOST\n",
      "Di train dapat performa \n",
      "Nilai Precision = 0.9745454545454545\n",
      "Nilai Recall = 0.9241379310344827\n",
      "Nilai F1 = 0.9486725663716814\n",
      "Di test dapat performa\n",
      "Nilai Precision = 0.6808510638297872\n",
      "Nilai Recall = 0.5714285714285714\n",
      "Nilai F1 = 0.6213592233009708\n",
      "########\n",
      "RANDOM FOREST\n"
     ]
    },
    {
     "name": "stderr",
     "output_type": "stream",
     "text": [
      "/tmp/ipykernel_1865/1041286260.py:61: SettingWithCopyWarning: \n",
      "A value is trying to be set on a copy of a slice from a DataFrame.\n",
      "Try using .loc[row_indexer,col_indexer] = value instead\n",
      "\n",
      "See the caveats in the documentation: https://pandas.pydata.org/pandas-docs/stable/user_guide/indexing.html#returning-a-view-versus-a-copy\n",
      "  df['label'] = y_pred_test\n"
     ]
    },
    {
     "name": "stdout",
     "output_type": "stream",
     "text": [
      "Di train dapat performa \n",
      "Nilai Precision = 1.0\n",
      "Nilai Recall = 0.996551724137931\n",
      "Nilai F1 = 0.9982728842832469\n",
      "Di test dapat performa\n",
      "Nilai Precision = 0.7837837837837838\n",
      "Nilai Recall = 0.5178571428571429\n",
      "Nilai F1 = 0.6236559139784947\n",
      "########\n",
      "LOGISTIK REGRESSION\n"
     ]
    },
    {
     "name": "stderr",
     "output_type": "stream",
     "text": [
      "/tmp/ipykernel_1865/1041286260.py:81: SettingWithCopyWarning: \n",
      "A value is trying to be set on a copy of a slice from a DataFrame.\n",
      "Try using .loc[row_indexer,col_indexer] = value instead\n",
      "\n",
      "See the caveats in the documentation: https://pandas.pydata.org/pandas-docs/stable/user_guide/indexing.html#returning-a-view-versus-a-copy\n",
      "  df['label'] = y_pred_test\n"
     ]
    },
    {
     "name": "stdout",
     "output_type": "stream",
     "text": [
      "Di train dapat performa \n",
      "Nilai Precision = 0.8621908127208481\n",
      "Nilai Recall = 0.8413793103448276\n",
      "Nilai F1 = 0.8516579406631763\n",
      "Di test dapat performa\n",
      "Nilai Precision = 0.7096774193548387\n",
      "Nilai Recall = 0.7857142857142857\n",
      "Nilai F1 = 0.7457627118644068\n",
      "########\n",
      "MLP\n"
     ]
    },
    {
     "name": "stderr",
     "output_type": "stream",
     "text": [
      "/tmp/ipykernel_1865/1041286260.py:100: SettingWithCopyWarning: \n",
      "A value is trying to be set on a copy of a slice from a DataFrame.\n",
      "Try using .loc[row_indexer,col_indexer] = value instead\n",
      "\n",
      "See the caveats in the documentation: https://pandas.pydata.org/pandas-docs/stable/user_guide/indexing.html#returning-a-view-versus-a-copy\n",
      "  df['label'] = y_pred_test\n"
     ]
    },
    {
     "name": "stdout",
     "output_type": "stream",
     "text": [
      "Di train dapat performa \n",
      "Nilai Precision = 0.7983870967741935\n",
      "Nilai Recall = 0.3413793103448276\n",
      "Nilai F1 = 0.4782608695652174\n",
      "Di test dapat performa\n",
      "Nilai Precision = 0.8275862068965517\n",
      "Nilai Recall = 0.42857142857142855\n",
      "Nilai F1 = 0.5647058823529412\n",
      "########\n",
      "Rata-rata nilai test dengan Classifier xgb, lr, dan mlp adalah\n",
      "Precision = 0.7393715633603924\n",
      "Recall = 0.5952380952380952\n",
      "F1 = 0.6439426058394396\n",
      "/workspace/dataset/karhutla\n",
      "\n",
      "\n",
      "/workspace/dataset\n",
      "Eksperimen pada bencana karhutla dengan representasi tc_ori\n"
     ]
    },
    {
     "name": "stderr",
     "output_type": "stream",
     "text": [
      "/tmp/ipykernel_1865/1041286260.py:125: SettingWithCopyWarning: \n",
      "A value is trying to be set on a copy of a slice from a DataFrame.\n",
      "Try using .loc[row_indexer,col_indexer] = value instead\n",
      "\n",
      "See the caveats in the documentation: https://pandas.pydata.org/pandas-docs/stable/user_guide/indexing.html#returning-a-view-versus-a-copy\n",
      "  df['label'] = y_pred_test\n"
     ]
    },
    {
     "name": "stdout",
     "output_type": "stream",
     "text": [
      "XGBOOST\n",
      "Di train dapat performa \n",
      "Nilai Precision = 0.9744525547445255\n",
      "Nilai Recall = 0.9206896551724137\n",
      "Nilai F1 = 0.9468085106382979\n",
      "Di test dapat performa\n",
      "Nilai Precision = 0.7727272727272727\n",
      "Nilai Recall = 0.6071428571428571\n",
      "Nilai F1 = 0.68\n",
      "########\n",
      "RANDOM FOREST\n"
     ]
    },
    {
     "name": "stderr",
     "output_type": "stream",
     "text": [
      "/tmp/ipykernel_1865/1041286260.py:61: SettingWithCopyWarning: \n",
      "A value is trying to be set on a copy of a slice from a DataFrame.\n",
      "Try using .loc[row_indexer,col_indexer] = value instead\n",
      "\n",
      "See the caveats in the documentation: https://pandas.pydata.org/pandas-docs/stable/user_guide/indexing.html#returning-a-view-versus-a-copy\n",
      "  df['label'] = y_pred_test\n"
     ]
    },
    {
     "name": "stdout",
     "output_type": "stream",
     "text": [
      "Di train dapat performa \n",
      "Nilai Precision = 0.9965635738831615\n",
      "Nilai Recall = 1.0\n",
      "Nilai F1 = 0.9982788296041308\n",
      "Di test dapat performa\n",
      "Nilai Precision = 0.8157894736842105\n",
      "Nilai Recall = 0.5535714285714286\n",
      "Nilai F1 = 0.6595744680851064\n",
      "########\n",
      "LOGISTIK REGRESSION\n",
      "Di train dapat performa \n",
      "Nilai Precision = 0.8669064748201439\n",
      "Nilai Recall = 0.8310344827586207\n",
      "Nilai F1 = 0.8485915492957746\n",
      "Di test dapat performa\n",
      "Nilai Precision = 0.6923076923076923\n",
      "Nilai Recall = 0.8035714285714286\n",
      "Nilai F1 = 0.7438016528925621\n",
      "########\n",
      "MLP\n"
     ]
    },
    {
     "name": "stderr",
     "output_type": "stream",
     "text": [
      "/tmp/ipykernel_1865/1041286260.py:81: SettingWithCopyWarning: \n",
      "A value is trying to be set on a copy of a slice from a DataFrame.\n",
      "Try using .loc[row_indexer,col_indexer] = value instead\n",
      "\n",
      "See the caveats in the documentation: https://pandas.pydata.org/pandas-docs/stable/user_guide/indexing.html#returning-a-view-versus-a-copy\n",
      "  df['label'] = y_pred_test\n",
      "/tmp/ipykernel_1865/1041286260.py:100: SettingWithCopyWarning: \n",
      "A value is trying to be set on a copy of a slice from a DataFrame.\n",
      "Try using .loc[row_indexer,col_indexer] = value instead\n",
      "\n",
      "See the caveats in the documentation: https://pandas.pydata.org/pandas-docs/stable/user_guide/indexing.html#returning-a-view-versus-a-copy\n",
      "  df['label'] = y_pred_test\n"
     ]
    },
    {
     "name": "stdout",
     "output_type": "stream",
     "text": [
      "Di train dapat performa \n",
      "Nilai Precision = 0.7901234567901234\n",
      "Nilai Recall = 0.4413793103448276\n",
      "Nilai F1 = 0.5663716814159292\n",
      "Di test dapat performa\n",
      "Nilai Precision = 0.7878787878787878\n",
      "Nilai Recall = 0.4642857142857143\n",
      "Nilai F1 = 0.5842696629213484\n",
      "########\n",
      "Rata-rata nilai test dengan Classifier xgb, lr, dan mlp adalah\n",
      "Precision = 0.7509712509712511\n",
      "Recall = 0.625\n",
      "F1 = 0.6693571052713034\n",
      "/workspace/dataset/karhutla\n",
      "\n",
      "\n",
      "/workspace/dataset\n",
      "Eksperimen pada bencana karhutla dengan representasi filter_word_tc\n"
     ]
    },
    {
     "name": "stderr",
     "output_type": "stream",
     "text": [
      "/tmp/ipykernel_1865/1041286260.py:125: SettingWithCopyWarning: \n",
      "A value is trying to be set on a copy of a slice from a DataFrame.\n",
      "Try using .loc[row_indexer,col_indexer] = value instead\n",
      "\n",
      "See the caveats in the documentation: https://pandas.pydata.org/pandas-docs/stable/user_guide/indexing.html#returning-a-view-versus-a-copy\n",
      "  df['label'] = y_pred_test\n"
     ]
    },
    {
     "name": "stdout",
     "output_type": "stream",
     "text": [
      "XGBOOST\n",
      "Di train dapat performa \n",
      "Nilai Precision = 0.9664179104477612\n",
      "Nilai Recall = 0.8931034482758621\n",
      "Nilai F1 = 0.9283154121863799\n",
      "Di test dapat performa\n",
      "Nilai Precision = 0.21052631578947367\n",
      "Nilai Recall = 0.14285714285714285\n",
      "Nilai F1 = 0.1702127659574468\n",
      "########\n",
      "RANDOM FOREST\n"
     ]
    },
    {
     "name": "stderr",
     "output_type": "stream",
     "text": [
      "/tmp/ipykernel_1865/1041286260.py:61: SettingWithCopyWarning: \n",
      "A value is trying to be set on a copy of a slice from a DataFrame.\n",
      "Try using .loc[row_indexer,col_indexer] = value instead\n",
      "\n",
      "See the caveats in the documentation: https://pandas.pydata.org/pandas-docs/stable/user_guide/indexing.html#returning-a-view-versus-a-copy\n",
      "  df['label'] = y_pred_test\n"
     ]
    },
    {
     "name": "stdout",
     "output_type": "stream",
     "text": [
      "Di train dapat performa \n",
      "Nilai Precision = 1.0\n",
      "Nilai Recall = 0.993103448275862\n",
      "Nilai F1 = 0.9965397923875432\n",
      "Di test dapat performa\n",
      "Nilai Precision = 0.27835051546391754\n",
      "Nilai Recall = 0.9642857142857143\n",
      "Nilai F1 = 0.432\n",
      "########\n",
      "LOGISTIK REGRESSION\n"
     ]
    },
    {
     "name": "stderr",
     "output_type": "stream",
     "text": [
      "/tmp/ipykernel_1865/1041286260.py:81: SettingWithCopyWarning: \n",
      "A value is trying to be set on a copy of a slice from a DataFrame.\n",
      "Try using .loc[row_indexer,col_indexer] = value instead\n",
      "\n",
      "See the caveats in the documentation: https://pandas.pydata.org/pandas-docs/stable/user_guide/indexing.html#returning-a-view-versus-a-copy\n",
      "  df['label'] = y_pred_test\n"
     ]
    },
    {
     "name": "stdout",
     "output_type": "stream",
     "text": [
      "Di train dapat performa \n",
      "Nilai Precision = 0.7962962962962963\n",
      "Nilai Recall = 0.7413793103448276\n",
      "Nilai F1 = 0.7678571428571429\n",
      "Di test dapat performa\n",
      "Nilai Precision = 0.5125\n",
      "Nilai Recall = 0.7321428571428571\n",
      "Nilai F1 = 0.6029411764705882\n",
      "########\n",
      "MLP\n"
     ]
    },
    {
     "name": "stderr",
     "output_type": "stream",
     "text": [
      "/tmp/ipykernel_1865/1041286260.py:100: SettingWithCopyWarning: \n",
      "A value is trying to be set on a copy of a slice from a DataFrame.\n",
      "Try using .loc[row_indexer,col_indexer] = value instead\n",
      "\n",
      "See the caveats in the documentation: https://pandas.pydata.org/pandas-docs/stable/user_guide/indexing.html#returning-a-view-versus-a-copy\n",
      "  df['label'] = y_pred_test\n"
     ]
    },
    {
     "name": "stdout",
     "output_type": "stream",
     "text": [
      "Di train dapat performa \n",
      "Nilai Precision = 0.5433673469387755\n",
      "Nilai Recall = 0.7344827586206897\n",
      "Nilai F1 = 0.6246334310850441\n",
      "Di test dapat performa\n",
      "Nilai Precision = 0.5057471264367817\n",
      "Nilai Recall = 0.7857142857142857\n",
      "Nilai F1 = 0.6153846153846153\n",
      "########\n",
      "Rata-rata nilai test dengan Classifier xgb, lr, dan mlp adalah\n",
      "Precision = 0.40959114740875174\n",
      "Recall = 0.5535714285714285\n",
      "F1 = 0.4628461859375501\n",
      "/workspace/dataset/karhutla\n",
      "\n",
      "\n",
      "/workspace/dataset\n",
      "Eksperimen pada bencana karhutla dengan representasi filter_word_tc_window\n"
     ]
    },
    {
     "name": "stderr",
     "output_type": "stream",
     "text": [
      "/tmp/ipykernel_1865/1041286260.py:125: SettingWithCopyWarning: \n",
      "A value is trying to be set on a copy of a slice from a DataFrame.\n",
      "Try using .loc[row_indexer,col_indexer] = value instead\n",
      "\n",
      "See the caveats in the documentation: https://pandas.pydata.org/pandas-docs/stable/user_guide/indexing.html#returning-a-view-versus-a-copy\n",
      "  df['label'] = y_pred_test\n"
     ]
    },
    {
     "name": "stdout",
     "output_type": "stream",
     "text": [
      "XGBOOST\n",
      "Di train dapat performa \n",
      "Nilai Precision = 0.9626865671641791\n",
      "Nilai Recall = 0.8896551724137931\n",
      "Nilai F1 = 0.924731182795699\n",
      "Di test dapat performa\n",
      "Nilai Precision = 0.6862745098039216\n",
      "Nilai Recall = 0.625\n",
      "Nilai F1 = 0.6542056074766356\n",
      "########\n",
      "RANDOM FOREST\n"
     ]
    },
    {
     "name": "stderr",
     "output_type": "stream",
     "text": [
      "/tmp/ipykernel_1865/1041286260.py:61: SettingWithCopyWarning: \n",
      "A value is trying to be set on a copy of a slice from a DataFrame.\n",
      "Try using .loc[row_indexer,col_indexer] = value instead\n",
      "\n",
      "See the caveats in the documentation: https://pandas.pydata.org/pandas-docs/stable/user_guide/indexing.html#returning-a-view-versus-a-copy\n",
      "  df['label'] = y_pred_test\n"
     ]
    },
    {
     "name": "stdout",
     "output_type": "stream",
     "text": [
      "Di train dapat performa \n",
      "Nilai Precision = 0.996551724137931\n",
      "Nilai Recall = 0.996551724137931\n",
      "Nilai F1 = 0.996551724137931\n",
      "Di test dapat performa\n",
      "Nilai Precision = 0.7777777777777778\n",
      "Nilai Recall = 0.375\n",
      "Nilai F1 = 0.5060240963855422\n",
      "########\n",
      "LOGISTIK REGRESSION\n"
     ]
    },
    {
     "name": "stderr",
     "output_type": "stream",
     "text": [
      "/tmp/ipykernel_1865/1041286260.py:81: SettingWithCopyWarning: \n",
      "A value is trying to be set on a copy of a slice from a DataFrame.\n",
      "Try using .loc[row_indexer,col_indexer] = value instead\n",
      "\n",
      "See the caveats in the documentation: https://pandas.pydata.org/pandas-docs/stable/user_guide/indexing.html#returning-a-view-versus-a-copy\n",
      "  df['label'] = y_pred_test\n"
     ]
    },
    {
     "name": "stdout",
     "output_type": "stream",
     "text": [
      "Di train dapat performa \n",
      "Nilai Precision = 0.8246268656716418\n",
      "Nilai Recall = 0.7620689655172413\n",
      "Nilai F1 = 0.7921146953405017\n",
      "Di test dapat performa\n",
      "Nilai Precision = 0.711864406779661\n",
      "Nilai Recall = 0.75\n",
      "Nilai F1 = 0.7304347826086958\n",
      "########\n",
      "MLP\n"
     ]
    },
    {
     "name": "stderr",
     "output_type": "stream",
     "text": [
      "/tmp/ipykernel_1865/1041286260.py:100: SettingWithCopyWarning: \n",
      "A value is trying to be set on a copy of a slice from a DataFrame.\n",
      "Try using .loc[row_indexer,col_indexer] = value instead\n",
      "\n",
      "See the caveats in the documentation: https://pandas.pydata.org/pandas-docs/stable/user_guide/indexing.html#returning-a-view-versus-a-copy\n",
      "  df['label'] = y_pred_test\n"
     ]
    },
    {
     "name": "stdout",
     "output_type": "stream",
     "text": [
      "Di train dapat performa \n",
      "Nilai Precision = 0.8356164383561644\n",
      "Nilai Recall = 0.2103448275862069\n",
      "Nilai F1 = 0.33608815426997246\n",
      "Di test dapat performa\n",
      "Nilai Precision = 0.8421052631578947\n",
      "Nilai Recall = 0.2857142857142857\n",
      "Nilai F1 = 0.4266666666666667\n",
      "########\n",
      "Rata-rata nilai test dengan Classifier xgb, lr, dan mlp adalah\n",
      "Precision = 0.7467480599138258\n",
      "Recall = 0.5535714285714285\n",
      "F1 = 0.6037690189173327\n",
      "/workspace/dataset/karhutla\n",
      "\n",
      "\n",
      "/workspace/dataset\n",
      "Eksperimen pada bencana karhutla dengan representasi trunc_first_short\n"
     ]
    },
    {
     "name": "stderr",
     "output_type": "stream",
     "text": [
      "/tmp/ipykernel_1865/1041286260.py:125: SettingWithCopyWarning: \n",
      "A value is trying to be set on a copy of a slice from a DataFrame.\n",
      "Try using .loc[row_indexer,col_indexer] = value instead\n",
      "\n",
      "See the caveats in the documentation: https://pandas.pydata.org/pandas-docs/stable/user_guide/indexing.html#returning-a-view-versus-a-copy\n",
      "  df['label'] = y_pred_test\n"
     ]
    },
    {
     "name": "stdout",
     "output_type": "stream",
     "text": [
      "XGBOOST\n",
      "Di train dapat performa \n",
      "Nilai Precision = 0.9704797047970479\n",
      "Nilai Recall = 0.906896551724138\n",
      "Nilai F1 = 0.9376114081996435\n",
      "Di test dapat performa\n",
      "Nilai Precision = 0.6470588235294118\n",
      "Nilai Recall = 0.19642857142857142\n",
      "Nilai F1 = 0.3013698630136986\n",
      "########\n",
      "RANDOM FOREST\n"
     ]
    },
    {
     "name": "stderr",
     "output_type": "stream",
     "text": [
      "/tmp/ipykernel_1865/1041286260.py:61: SettingWithCopyWarning: \n",
      "A value is trying to be set on a copy of a slice from a DataFrame.\n",
      "Try using .loc[row_indexer,col_indexer] = value instead\n",
      "\n",
      "See the caveats in the documentation: https://pandas.pydata.org/pandas-docs/stable/user_guide/indexing.html#returning-a-view-versus-a-copy\n",
      "  df['label'] = y_pred_test\n"
     ]
    },
    {
     "name": "stdout",
     "output_type": "stream",
     "text": [
      "Di train dapat performa \n",
      "Nilai Precision = 1.0\n",
      "Nilai Recall = 0.996551724137931\n",
      "Nilai F1 = 0.9982728842832469\n",
      "Di test dapat performa\n",
      "Nilai Precision = 0.26666666666666666\n",
      "Nilai Recall = 0.21428571428571427\n",
      "Nilai F1 = 0.23762376237623764\n",
      "########\n",
      "LOGISTIK REGRESSION\n"
     ]
    },
    {
     "name": "stderr",
     "output_type": "stream",
     "text": [
      "/tmp/ipykernel_1865/1041286260.py:81: SettingWithCopyWarning: \n",
      "A value is trying to be set on a copy of a slice from a DataFrame.\n",
      "Try using .loc[row_indexer,col_indexer] = value instead\n",
      "\n",
      "See the caveats in the documentation: https://pandas.pydata.org/pandas-docs/stable/user_guide/indexing.html#returning-a-view-versus-a-copy\n",
      "  df['label'] = y_pred_test\n"
     ]
    },
    {
     "name": "stdout",
     "output_type": "stream",
     "text": [
      "Di train dapat performa \n",
      "Nilai Precision = 0.8529411764705882\n",
      "Nilai Recall = 0.8\n",
      "Nilai F1 = 0.8256227758007119\n",
      "Di test dapat performa\n",
      "Nilai Precision = 0.6811594202898551\n",
      "Nilai Recall = 0.8392857142857143\n",
      "Nilai F1 = 0.752\n",
      "########\n",
      "MLP\n"
     ]
    },
    {
     "name": "stderr",
     "output_type": "stream",
     "text": [
      "/tmp/ipykernel_1865/1041286260.py:100: SettingWithCopyWarning: \n",
      "A value is trying to be set on a copy of a slice from a DataFrame.\n",
      "Try using .loc[row_indexer,col_indexer] = value instead\n",
      "\n",
      "See the caveats in the documentation: https://pandas.pydata.org/pandas-docs/stable/user_guide/indexing.html#returning-a-view-versus-a-copy\n",
      "  df['label'] = y_pred_test\n"
     ]
    },
    {
     "name": "stdout",
     "output_type": "stream",
     "text": [
      "Di train dapat performa \n",
      "Nilai Precision = 0.6836734693877551\n",
      "Nilai Recall = 0.6931034482758621\n",
      "Nilai F1 = 0.6883561643835617\n",
      "Di test dapat performa\n",
      "Nilai Precision = 0.6266666666666667\n",
      "Nilai Recall = 0.8392857142857143\n",
      "Nilai F1 = 0.7175572519083969\n",
      "########\n",
      "Rata-rata nilai test dengan Classifier xgb, lr, dan mlp adalah\n",
      "Precision = 0.6516283034953112\n",
      "Recall = 0.625\n",
      "F1 = 0.5903090383073653\n",
      "/workspace/dataset/karhutla\n",
      "\n",
      "\n",
      "/workspace/dataset\n",
      "Eksperimen pada bencana karhutla dengan representasi trunc_last_short\n"
     ]
    },
    {
     "name": "stderr",
     "output_type": "stream",
     "text": [
      "/tmp/ipykernel_1865/1041286260.py:125: SettingWithCopyWarning: \n",
      "A value is trying to be set on a copy of a slice from a DataFrame.\n",
      "Try using .loc[row_indexer,col_indexer] = value instead\n",
      "\n",
      "See the caveats in the documentation: https://pandas.pydata.org/pandas-docs/stable/user_guide/indexing.html#returning-a-view-versus-a-copy\n",
      "  df['label'] = y_pred_test\n"
     ]
    },
    {
     "name": "stdout",
     "output_type": "stream",
     "text": [
      "XGBOOST\n",
      "Di train dapat performa \n",
      "Nilai Precision = 0.953125\n",
      "Nilai Recall = 0.8413793103448276\n",
      "Nilai F1 = 0.8937728937728938\n",
      "Di test dapat performa\n",
      "Nilai Precision = 0.5945945945945946\n",
      "Nilai Recall = 0.39285714285714285\n",
      "Nilai F1 = 0.47311827956989244\n",
      "########\n",
      "RANDOM FOREST\n"
     ]
    },
    {
     "name": "stderr",
     "output_type": "stream",
     "text": [
      "/tmp/ipykernel_1865/1041286260.py:61: SettingWithCopyWarning: \n",
      "A value is trying to be set on a copy of a slice from a DataFrame.\n",
      "Try using .loc[row_indexer,col_indexer] = value instead\n",
      "\n",
      "See the caveats in the documentation: https://pandas.pydata.org/pandas-docs/stable/user_guide/indexing.html#returning-a-view-versus-a-copy\n",
      "  df['label'] = y_pred_test\n"
     ]
    },
    {
     "name": "stdout",
     "output_type": "stream",
     "text": [
      "Di train dapat performa \n",
      "Nilai Precision = 1.0\n",
      "Nilai Recall = 0.996551724137931\n",
      "Nilai F1 = 0.9982728842832469\n",
      "Di test dapat performa\n",
      "Nilai Precision = 0.7391304347826086\n",
      "Nilai Recall = 0.30357142857142855\n",
      "Nilai F1 = 0.430379746835443\n",
      "########\n",
      "LOGISTIK REGRESSION\n",
      "Di train dapat performa \n",
      "Nilai Precision = 0.8188976377952756\n",
      "Nilai Recall = 0.7172413793103448\n",
      "Nilai F1 = 0.7647058823529411\n",
      "Di test dapat performa\n",
      "Nilai Precision = 0.5625\n",
      "Nilai Recall = 0.48214285714285715\n",
      "Nilai F1 = 0.5192307692307692\n",
      "########\n",
      "MLP\n"
     ]
    },
    {
     "name": "stderr",
     "output_type": "stream",
     "text": [
      "/tmp/ipykernel_1865/1041286260.py:81: SettingWithCopyWarning: \n",
      "A value is trying to be set on a copy of a slice from a DataFrame.\n",
      "Try using .loc[row_indexer,col_indexer] = value instead\n",
      "\n",
      "See the caveats in the documentation: https://pandas.pydata.org/pandas-docs/stable/user_guide/indexing.html#returning-a-view-versus-a-copy\n",
      "  df['label'] = y_pred_test\n",
      "/tmp/ipykernel_1865/1041286260.py:100: SettingWithCopyWarning: \n",
      "A value is trying to be set on a copy of a slice from a DataFrame.\n",
      "Try using .loc[row_indexer,col_indexer] = value instead\n",
      "\n",
      "See the caveats in the documentation: https://pandas.pydata.org/pandas-docs/stable/user_guide/indexing.html#returning-a-view-versus-a-copy\n",
      "  df['label'] = y_pred_test\n"
     ]
    },
    {
     "name": "stdout",
     "output_type": "stream",
     "text": [
      "Di train dapat performa \n",
      "Nilai Precision = 0.8181818181818182\n",
      "Nilai Recall = 0.18620689655172415\n",
      "Nilai F1 = 0.3033707865168539\n",
      "Di test dapat performa\n",
      "Nilai Precision = 0.6666666666666666\n",
      "Nilai Recall = 0.14285714285714285\n",
      "Nilai F1 = 0.23529411764705882\n",
      "########\n",
      "Rata-rata nilai test dengan Classifier xgb, lr, dan mlp adalah\n",
      "Precision = 0.6079204204204204\n",
      "Recall = 0.33928571428571425\n",
      "F1 = 0.4092143888159068\n",
      "/workspace/dataset/karhutla\n",
      "\n",
      "\n",
      "/workspace/dataset\n",
      "Eksperimen pada bencana karhutla dengan representasi trunc_first_long\n"
     ]
    },
    {
     "name": "stderr",
     "output_type": "stream",
     "text": [
      "/tmp/ipykernel_1865/1041286260.py:125: SettingWithCopyWarning: \n",
      "A value is trying to be set on a copy of a slice from a DataFrame.\n",
      "Try using .loc[row_indexer,col_indexer] = value instead\n",
      "\n",
      "See the caveats in the documentation: https://pandas.pydata.org/pandas-docs/stable/user_guide/indexing.html#returning-a-view-versus-a-copy\n",
      "  df['label'] = y_pred_test\n"
     ]
    },
    {
     "name": "stdout",
     "output_type": "stream",
     "text": [
      "XGBOOST\n",
      "Di train dapat performa \n",
      "Nilai Precision = 0.9743589743589743\n",
      "Nilai Recall = 0.9172413793103448\n",
      "Nilai F1 = 0.9449378330373002\n",
      "Di test dapat performa\n",
      "Nilai Precision = 0.75\n",
      "Nilai Recall = 0.6964285714285714\n",
      "Nilai F1 = 0.7222222222222223\n",
      "########\n",
      "RANDOM FOREST\n"
     ]
    },
    {
     "name": "stderr",
     "output_type": "stream",
     "text": [
      "/tmp/ipykernel_1865/1041286260.py:61: SettingWithCopyWarning: \n",
      "A value is trying to be set on a copy of a slice from a DataFrame.\n",
      "Try using .loc[row_indexer,col_indexer] = value instead\n",
      "\n",
      "See the caveats in the documentation: https://pandas.pydata.org/pandas-docs/stable/user_guide/indexing.html#returning-a-view-versus-a-copy\n",
      "  df['label'] = y_pred_test\n"
     ]
    },
    {
     "name": "stdout",
     "output_type": "stream",
     "text": [
      "Di train dapat performa \n",
      "Nilai Precision = 1.0\n",
      "Nilai Recall = 0.996551724137931\n",
      "Nilai F1 = 0.9982728842832469\n",
      "Di test dapat performa\n",
      "Nilai Precision = 0.8043478260869565\n",
      "Nilai Recall = 0.6607142857142857\n",
      "Nilai F1 = 0.7254901960784315\n",
      "########\n",
      "LOGISTIK REGRESSION\n"
     ]
    },
    {
     "name": "stderr",
     "output_type": "stream",
     "text": [
      "/tmp/ipykernel_1865/1041286260.py:81: SettingWithCopyWarning: \n",
      "A value is trying to be set on a copy of a slice from a DataFrame.\n",
      "Try using .loc[row_indexer,col_indexer] = value instead\n",
      "\n",
      "See the caveats in the documentation: https://pandas.pydata.org/pandas-docs/stable/user_guide/indexing.html#returning-a-view-versus-a-copy\n",
      "  df['label'] = y_pred_test\n"
     ]
    },
    {
     "name": "stdout",
     "output_type": "stream",
     "text": [
      "Di train dapat performa \n",
      "Nilai Precision = 0.8698884758364313\n",
      "Nilai Recall = 0.8068965517241379\n",
      "Nilai F1 = 0.8372093023255813\n",
      "Di test dapat performa\n",
      "Nilai Precision = 0.7777777777777778\n",
      "Nilai Recall = 0.875\n",
      "Nilai F1 = 0.823529411764706\n",
      "########\n",
      "MLP\n"
     ]
    },
    {
     "name": "stderr",
     "output_type": "stream",
     "text": [
      "/tmp/ipykernel_1865/1041286260.py:100: SettingWithCopyWarning: \n",
      "A value is trying to be set on a copy of a slice from a DataFrame.\n",
      "Try using .loc[row_indexer,col_indexer] = value instead\n",
      "\n",
      "See the caveats in the documentation: https://pandas.pydata.org/pandas-docs/stable/user_guide/indexing.html#returning-a-view-versus-a-copy\n",
      "  df['label'] = y_pred_test\n"
     ]
    },
    {
     "name": "stdout",
     "output_type": "stream",
     "text": [
      "Di train dapat performa \n",
      "Nilai Precision = 0.7086092715231788\n",
      "Nilai Recall = 0.7379310344827587\n",
      "Nilai F1 = 0.722972972972973\n",
      "Di test dapat performa\n",
      "Nilai Precision = 0.6615384615384615\n",
      "Nilai Recall = 0.7678571428571429\n",
      "Nilai F1 = 0.7107438016528925\n",
      "########\n",
      "Rata-rata nilai test dengan Classifier xgb, lr, dan mlp adalah\n",
      "Precision = 0.7297720797720797\n",
      "Recall = 0.7797619047619048\n",
      "F1 = 0.7521651452132736\n",
      "/workspace/dataset/karhutla\n",
      "\n",
      "\n",
      "/workspace/dataset\n",
      "Eksperimen pada bencana karhutla dengan representasi trunc_last_long\n"
     ]
    },
    {
     "name": "stderr",
     "output_type": "stream",
     "text": [
      "/tmp/ipykernel_1865/1041286260.py:125: SettingWithCopyWarning: \n",
      "A value is trying to be set on a copy of a slice from a DataFrame.\n",
      "Try using .loc[row_indexer,col_indexer] = value instead\n",
      "\n",
      "See the caveats in the documentation: https://pandas.pydata.org/pandas-docs/stable/user_guide/indexing.html#returning-a-view-versus-a-copy\n",
      "  df['label'] = y_pred_test\n"
     ]
    },
    {
     "name": "stdout",
     "output_type": "stream",
     "text": [
      "XGBOOST\n",
      "Di train dapat performa \n",
      "Nilai Precision = 0.9699248120300752\n",
      "Nilai Recall = 0.8896551724137931\n",
      "Nilai F1 = 0.9280575539568345\n",
      "Di test dapat performa\n",
      "Nilai Precision = 0.7\n",
      "Nilai Recall = 0.625\n",
      "Nilai F1 = 0.6603773584905661\n",
      "########\n",
      "RANDOM FOREST\n"
     ]
    },
    {
     "name": "stderr",
     "output_type": "stream",
     "text": [
      "/tmp/ipykernel_1865/1041286260.py:61: SettingWithCopyWarning: \n",
      "A value is trying to be set on a copy of a slice from a DataFrame.\n",
      "Try using .loc[row_indexer,col_indexer] = value instead\n",
      "\n",
      "See the caveats in the documentation: https://pandas.pydata.org/pandas-docs/stable/user_guide/indexing.html#returning-a-view-versus-a-copy\n",
      "  df['label'] = y_pred_test\n"
     ]
    },
    {
     "name": "stdout",
     "output_type": "stream",
     "text": [
      "Di train dapat performa \n",
      "Nilai Precision = 1.0\n",
      "Nilai Recall = 0.996551724137931\n",
      "Nilai F1 = 0.9982728842832469\n",
      "Di test dapat performa\n",
      "Nilai Precision = 0.717948717948718\n",
      "Nilai Recall = 0.5\n",
      "Nilai F1 = 0.5894736842105263\n",
      "########\n",
      "LOGISTIK REGRESSION\n"
     ]
    },
    {
     "name": "stderr",
     "output_type": "stream",
     "text": [
      "/tmp/ipykernel_1865/1041286260.py:81: SettingWithCopyWarning: \n",
      "A value is trying to be set on a copy of a slice from a DataFrame.\n",
      "Try using .loc[row_indexer,col_indexer] = value instead\n",
      "\n",
      "See the caveats in the documentation: https://pandas.pydata.org/pandas-docs/stable/user_guide/indexing.html#returning-a-view-versus-a-copy\n",
      "  df['label'] = y_pred_test\n"
     ]
    },
    {
     "name": "stdout",
     "output_type": "stream",
     "text": [
      "Di train dapat performa \n",
      "Nilai Precision = 0.8358778625954199\n",
      "Nilai Recall = 0.7551724137931034\n",
      "Nilai F1 = 0.7934782608695652\n",
      "Di test dapat performa\n",
      "Nilai Precision = 0.62\n",
      "Nilai Recall = 0.5535714285714286\n",
      "Nilai F1 = 0.5849056603773586\n",
      "########\n",
      "MLP\n"
     ]
    },
    {
     "name": "stderr",
     "output_type": "stream",
     "text": [
      "/tmp/ipykernel_1865/1041286260.py:100: SettingWithCopyWarning: \n",
      "A value is trying to be set on a copy of a slice from a DataFrame.\n",
      "Try using .loc[row_indexer,col_indexer] = value instead\n",
      "\n",
      "See the caveats in the documentation: https://pandas.pydata.org/pandas-docs/stable/user_guide/indexing.html#returning-a-view-versus-a-copy\n",
      "  df['label'] = y_pred_test\n"
     ]
    },
    {
     "name": "stdout",
     "output_type": "stream",
     "text": [
      "Di train dapat performa \n",
      "Nilai Precision = 0.7976190476190477\n",
      "Nilai Recall = 0.23103448275862068\n",
      "Nilai F1 = 0.3582887700534759\n",
      "Di test dapat performa\n",
      "Nilai Precision = 0.7777777777777778\n",
      "Nilai Recall = 0.25\n",
      "Nilai F1 = 0.3783783783783784\n",
      "########\n",
      "Rata-rata nilai test dengan Classifier xgb, lr, dan mlp adalah\n",
      "Precision = 0.6992592592592591\n",
      "Recall = 0.4761904761904762\n",
      "F1 = 0.5412204657487677\n",
      "/workspace/dataset/karhutla\n",
      "\n",
      "\n",
      "/workspace/dataset\n",
      "Eksperimen pada bencana karhutla dengan representasi trunc_combination\n"
     ]
    },
    {
     "name": "stderr",
     "output_type": "stream",
     "text": [
      "/tmp/ipykernel_1865/1041286260.py:125: SettingWithCopyWarning: \n",
      "A value is trying to be set on a copy of a slice from a DataFrame.\n",
      "Try using .loc[row_indexer,col_indexer] = value instead\n",
      "\n",
      "See the caveats in the documentation: https://pandas.pydata.org/pandas-docs/stable/user_guide/indexing.html#returning-a-view-versus-a-copy\n",
      "  df['label'] = y_pred_test\n"
     ]
    },
    {
     "name": "stdout",
     "output_type": "stream",
     "text": [
      "XGBOOST\n",
      "Di train dapat performa \n",
      "Nilai Precision = 0.9746376811594203\n",
      "Nilai Recall = 0.9275862068965517\n",
      "Nilai F1 = 0.950530035335689\n",
      "Di test dapat performa\n",
      "Nilai Precision = 0.7407407407407407\n",
      "Nilai Recall = 0.7142857142857143\n",
      "Nilai F1 = 0.7272727272727273\n",
      "########\n",
      "RANDOM FOREST\n"
     ]
    },
    {
     "name": "stderr",
     "output_type": "stream",
     "text": [
      "/tmp/ipykernel_1865/1041286260.py:61: SettingWithCopyWarning: \n",
      "A value is trying to be set on a copy of a slice from a DataFrame.\n",
      "Try using .loc[row_indexer,col_indexer] = value instead\n",
      "\n",
      "See the caveats in the documentation: https://pandas.pydata.org/pandas-docs/stable/user_guide/indexing.html#returning-a-view-versus-a-copy\n",
      "  df['label'] = y_pred_test\n"
     ]
    },
    {
     "name": "stdout",
     "output_type": "stream",
     "text": [
      "Di train dapat performa \n",
      "Nilai Precision = 0.9965635738831615\n",
      "Nilai Recall = 1.0\n",
      "Nilai F1 = 0.9982788296041308\n",
      "Di test dapat performa\n",
      "Nilai Precision = 0.8461538461538461\n",
      "Nilai Recall = 0.5892857142857143\n",
      "Nilai F1 = 0.6947368421052632\n",
      "########\n",
      "LOGISTIK REGRESSION\n",
      "Di train dapat performa \n",
      "Nilai Precision = 0.8560606060606061\n",
      "Nilai Recall = 0.7793103448275862\n",
      "Nilai F1 = 0.8158844765342962\n",
      "Di test dapat performa\n",
      "Nilai Precision = 0.75\n",
      "Nilai Recall = 0.6964285714285714\n",
      "Nilai F1 = 0.7222222222222223\n",
      "########\n",
      "MLP\n"
     ]
    },
    {
     "name": "stderr",
     "output_type": "stream",
     "text": [
      "/tmp/ipykernel_1865/1041286260.py:81: SettingWithCopyWarning: \n",
      "A value is trying to be set on a copy of a slice from a DataFrame.\n",
      "Try using .loc[row_indexer,col_indexer] = value instead\n",
      "\n",
      "See the caveats in the documentation: https://pandas.pydata.org/pandas-docs/stable/user_guide/indexing.html#returning-a-view-versus-a-copy\n",
      "  df['label'] = y_pred_test\n",
      "/tmp/ipykernel_1865/1041286260.py:100: SettingWithCopyWarning: \n",
      "A value is trying to be set on a copy of a slice from a DataFrame.\n",
      "Try using .loc[row_indexer,col_indexer] = value instead\n",
      "\n",
      "See the caveats in the documentation: https://pandas.pydata.org/pandas-docs/stable/user_guide/indexing.html#returning-a-view-versus-a-copy\n",
      "  df['label'] = y_pred_test\n"
     ]
    },
    {
     "name": "stdout",
     "output_type": "stream",
     "text": [
      "Di train dapat performa \n",
      "Nilai Precision = 0.8761061946902655\n",
      "Nilai Recall = 0.3413793103448276\n",
      "Nilai F1 = 0.4913151364764267\n",
      "Di test dapat performa\n",
      "Nilai Precision = 0.875\n",
      "Nilai Recall = 0.375\n",
      "Nilai F1 = 0.525\n",
      "########\n",
      "Rata-rata nilai test dengan Classifier xgb, lr, dan mlp adalah\n",
      "Precision = 0.7885802469135802\n",
      "Recall = 0.5952380952380952\n",
      "F1 = 0.6581649831649833\n",
      "/workspace/dataset/karhutla\n",
      "\n",
      "\n",
      "/workspace/dataset\n",
      "Eksperimen pada bencana karhutla dengan representasi textrank\n"
     ]
    },
    {
     "name": "stderr",
     "output_type": "stream",
     "text": [
      "/tmp/ipykernel_1865/1041286260.py:125: SettingWithCopyWarning: \n",
      "A value is trying to be set on a copy of a slice from a DataFrame.\n",
      "Try using .loc[row_indexer,col_indexer] = value instead\n",
      "\n",
      "See the caveats in the documentation: https://pandas.pydata.org/pandas-docs/stable/user_guide/indexing.html#returning-a-view-versus-a-copy\n",
      "  df['label'] = y_pred_test\n"
     ]
    },
    {
     "name": "stdout",
     "output_type": "stream",
     "text": [
      "XGBOOST\n",
      "Di train dapat performa \n",
      "Nilai Precision = 0.9812734082397003\n",
      "Nilai Recall = 0.903448275862069\n",
      "Nilai F1 = 0.9407540394973071\n",
      "Di test dapat performa\n",
      "Nilai Precision = 0.6181818181818182\n",
      "Nilai Recall = 0.6071428571428571\n",
      "Nilai F1 = 0.6126126126126126\n",
      "########\n",
      "RANDOM FOREST\n"
     ]
    },
    {
     "name": "stderr",
     "output_type": "stream",
     "text": [
      "/tmp/ipykernel_1865/1041286260.py:61: SettingWithCopyWarning: \n",
      "A value is trying to be set on a copy of a slice from a DataFrame.\n",
      "Try using .loc[row_indexer,col_indexer] = value instead\n",
      "\n",
      "See the caveats in the documentation: https://pandas.pydata.org/pandas-docs/stable/user_guide/indexing.html#returning-a-view-versus-a-copy\n",
      "  df['label'] = y_pred_test\n"
     ]
    },
    {
     "name": "stdout",
     "output_type": "stream",
     "text": [
      "Di train dapat performa \n",
      "Nilai Precision = 1.0\n",
      "Nilai Recall = 0.996551724137931\n",
      "Nilai F1 = 0.9982728842832469\n",
      "Di test dapat performa\n",
      "Nilai Precision = 0.7777777777777778\n",
      "Nilai Recall = 0.375\n",
      "Nilai F1 = 0.5060240963855422\n",
      "########\n",
      "LOGISTIK REGRESSION\n"
     ]
    },
    {
     "name": "stderr",
     "output_type": "stream",
     "text": [
      "/tmp/ipykernel_1865/1041286260.py:81: SettingWithCopyWarning: \n",
      "A value is trying to be set on a copy of a slice from a DataFrame.\n",
      "Try using .loc[row_indexer,col_indexer] = value instead\n",
      "\n",
      "See the caveats in the documentation: https://pandas.pydata.org/pandas-docs/stable/user_guide/indexing.html#returning-a-view-versus-a-copy\n",
      "  df['label'] = y_pred_test\n"
     ]
    },
    {
     "name": "stdout",
     "output_type": "stream",
     "text": [
      "Di train dapat performa \n",
      "Nilai Precision = 0.8248175182481752\n",
      "Nilai Recall = 0.7793103448275862\n",
      "Nilai F1 = 0.8014184397163121\n",
      "Di test dapat performa\n",
      "Nilai Precision = 0.5967741935483871\n",
      "Nilai Recall = 0.6607142857142857\n",
      "Nilai F1 = 0.6271186440677966\n",
      "########\n",
      "MLP\n"
     ]
    },
    {
     "name": "stderr",
     "output_type": "stream",
     "text": [
      "/tmp/ipykernel_1865/1041286260.py:100: SettingWithCopyWarning: \n",
      "A value is trying to be set on a copy of a slice from a DataFrame.\n",
      "Try using .loc[row_indexer,col_indexer] = value instead\n",
      "\n",
      "See the caveats in the documentation: https://pandas.pydata.org/pandas-docs/stable/user_guide/indexing.html#returning-a-view-versus-a-copy\n",
      "  df['label'] = y_pred_test\n"
     ]
    },
    {
     "name": "stdout",
     "output_type": "stream",
     "text": [
      "Di train dapat performa \n",
      "Nilai Precision = 0.8\n",
      "Nilai Recall = 0.30344827586206896\n",
      "Nilai F1 = 0.44\n",
      "Di test dapat performa\n",
      "Nilai Precision = 0.7857142857142857\n",
      "Nilai Recall = 0.39285714285714285\n",
      "Nilai F1 = 0.5238095238095237\n",
      "########\n",
      "Rata-rata nilai test dengan Classifier xgb, lr, dan mlp adalah\n",
      "Precision = 0.6668900991481636\n",
      "Recall = 0.5535714285714285\n",
      "F1 = 0.5878469268299776\n",
      "/workspace/dataset/karhutla\n",
      "\n",
      "\n",
      "/workspace/dataset\n",
      "Eksperimen pada bencana karhutla dengan representasi sum_indobart\n"
     ]
    },
    {
     "name": "stderr",
     "output_type": "stream",
     "text": [
      "/tmp/ipykernel_1865/1041286260.py:125: SettingWithCopyWarning: \n",
      "A value is trying to be set on a copy of a slice from a DataFrame.\n",
      "Try using .loc[row_indexer,col_indexer] = value instead\n",
      "\n",
      "See the caveats in the documentation: https://pandas.pydata.org/pandas-docs/stable/user_guide/indexing.html#returning-a-view-versus-a-copy\n",
      "  df['label'] = y_pred_test\n"
     ]
    },
    {
     "name": "stdout",
     "output_type": "stream",
     "text": [
      "XGBOOST\n",
      "Di train dapat performa \n",
      "Nilai Precision = 0.9774436090225563\n",
      "Nilai Recall = 0.896551724137931\n",
      "Nilai F1 = 0.935251798561151\n",
      "Di test dapat performa\n",
      "Nilai Precision = 0.6842105263157895\n",
      "Nilai Recall = 0.6964285714285714\n",
      "Nilai F1 = 0.6902654867256636\n",
      "########\n",
      "RANDOM FOREST\n"
     ]
    },
    {
     "name": "stderr",
     "output_type": "stream",
     "text": [
      "/tmp/ipykernel_1865/1041286260.py:61: SettingWithCopyWarning: \n",
      "A value is trying to be set on a copy of a slice from a DataFrame.\n",
      "Try using .loc[row_indexer,col_indexer] = value instead\n",
      "\n",
      "See the caveats in the documentation: https://pandas.pydata.org/pandas-docs/stable/user_guide/indexing.html#returning-a-view-versus-a-copy\n",
      "  df['label'] = y_pred_test\n"
     ]
    },
    {
     "name": "stdout",
     "output_type": "stream",
     "text": [
      "Di train dapat performa \n",
      "Nilai Precision = 1.0\n",
      "Nilai Recall = 0.996551724137931\n",
      "Nilai F1 = 0.9982728842832469\n",
      "Di test dapat performa\n",
      "Nilai Precision = 0.7446808510638298\n",
      "Nilai Recall = 0.625\n",
      "Nilai F1 = 0.6796116504854368\n",
      "########\n",
      "LOGISTIK REGRESSION\n",
      "Di train dapat performa \n",
      "Nilai Precision = 0.8438661710037175\n",
      "Nilai Recall = 0.7827586206896552\n",
      "Nilai F1 = 0.8121645796064401\n",
      "Di test dapat performa\n",
      "Nilai Precision = 0.7\n",
      "Nilai Recall = 0.75\n",
      "Nilai F1 = 0.7241379310344827\n",
      "########\n"
     ]
    },
    {
     "name": "stderr",
     "output_type": "stream",
     "text": [
      "/tmp/ipykernel_1865/1041286260.py:81: SettingWithCopyWarning: \n",
      "A value is trying to be set on a copy of a slice from a DataFrame.\n",
      "Try using .loc[row_indexer,col_indexer] = value instead\n",
      "\n",
      "See the caveats in the documentation: https://pandas.pydata.org/pandas-docs/stable/user_guide/indexing.html#returning-a-view-versus-a-copy\n",
      "  df['label'] = y_pred_test\n",
      "/tmp/ipykernel_1865/1041286260.py:100: SettingWithCopyWarning: \n",
      "A value is trying to be set on a copy of a slice from a DataFrame.\n",
      "Try using .loc[row_indexer,col_indexer] = value instead\n",
      "\n",
      "See the caveats in the documentation: https://pandas.pydata.org/pandas-docs/stable/user_guide/indexing.html#returning-a-view-versus-a-copy\n",
      "  df['label'] = y_pred_test\n"
     ]
    },
    {
     "name": "stdout",
     "output_type": "stream",
     "text": [
      "MLP\n",
      "Di train dapat performa \n",
      "Nilai Precision = 0.7880434782608695\n",
      "Nilai Recall = 0.5\n",
      "Nilai F1 = 0.6118143459915611\n",
      "Di test dapat performa\n",
      "Nilai Precision = 0.6944444444444444\n",
      "Nilai Recall = 0.44642857142857145\n",
      "Nilai F1 = 0.5434782608695653\n",
      "########\n",
      "Rata-rata nilai test dengan Classifier xgb, lr, dan mlp adalah\n",
      "Precision = 0.6928849902534114\n",
      "Recall = 0.6309523809523809\n",
      "F1 = 0.6526272262099039\n",
      "/workspace/dataset/karhutla\n",
      "\n",
      "\n",
      "/workspace/dataset\n",
      "Eksperimen pada bencana karhutla dengan representasi sum_liputan6\n"
     ]
    },
    {
     "name": "stderr",
     "output_type": "stream",
     "text": [
      "/tmp/ipykernel_1865/1041286260.py:125: SettingWithCopyWarning: \n",
      "A value is trying to be set on a copy of a slice from a DataFrame.\n",
      "Try using .loc[row_indexer,col_indexer] = value instead\n",
      "\n",
      "See the caveats in the documentation: https://pandas.pydata.org/pandas-docs/stable/user_guide/indexing.html#returning-a-view-versus-a-copy\n",
      "  df['label'] = y_pred_test\n"
     ]
    },
    {
     "name": "stdout",
     "output_type": "stream",
     "text": [
      "XGBOOST\n",
      "Di train dapat performa \n",
      "Nilai Precision = 0.9702602230483272\n",
      "Nilai Recall = 0.9\n",
      "Nilai F1 = 0.9338103756708408\n",
      "Di test dapat performa\n",
      "Nilai Precision = 0.6491228070175439\n",
      "Nilai Recall = 0.6607142857142857\n",
      "Nilai F1 = 0.6548672566371682\n",
      "########\n",
      "RANDOM FOREST\n"
     ]
    },
    {
     "name": "stderr",
     "output_type": "stream",
     "text": [
      "/tmp/ipykernel_1865/1041286260.py:61: SettingWithCopyWarning: \n",
      "A value is trying to be set on a copy of a slice from a DataFrame.\n",
      "Try using .loc[row_indexer,col_indexer] = value instead\n",
      "\n",
      "See the caveats in the documentation: https://pandas.pydata.org/pandas-docs/stable/user_guide/indexing.html#returning-a-view-versus-a-copy\n",
      "  df['label'] = y_pred_test\n"
     ]
    },
    {
     "name": "stdout",
     "output_type": "stream",
     "text": [
      "Di train dapat performa \n",
      "Nilai Precision = 0.9965635738831615\n",
      "Nilai Recall = 1.0\n",
      "Nilai F1 = 0.9982788296041308\n",
      "Di test dapat performa\n",
      "Nilai Precision = 0.6666666666666666\n",
      "Nilai Recall = 0.6071428571428571\n",
      "Nilai F1 = 0.6355140186915887\n",
      "########\n",
      "LOGISTIK REGRESSION\n"
     ]
    },
    {
     "name": "stderr",
     "output_type": "stream",
     "text": [
      "/tmp/ipykernel_1865/1041286260.py:81: SettingWithCopyWarning: \n",
      "A value is trying to be set on a copy of a slice from a DataFrame.\n",
      "Try using .loc[row_indexer,col_indexer] = value instead\n",
      "\n",
      "See the caveats in the documentation: https://pandas.pydata.org/pandas-docs/stable/user_guide/indexing.html#returning-a-view-versus-a-copy\n",
      "  df['label'] = y_pred_test\n"
     ]
    },
    {
     "name": "stdout",
     "output_type": "stream",
     "text": [
      "Di train dapat performa \n",
      "Nilai Precision = 0.8394160583941606\n",
      "Nilai Recall = 0.7931034482758621\n",
      "Nilai F1 = 0.8156028368794326\n",
      "Di test dapat performa\n",
      "Nilai Precision = 0.6842105263157895\n",
      "Nilai Recall = 0.6964285714285714\n",
      "Nilai F1 = 0.6902654867256636\n",
      "########\n",
      "MLP\n"
     ]
    },
    {
     "name": "stderr",
     "output_type": "stream",
     "text": [
      "/tmp/ipykernel_1865/1041286260.py:100: SettingWithCopyWarning: \n",
      "A value is trying to be set on a copy of a slice from a DataFrame.\n",
      "Try using .loc[row_indexer,col_indexer] = value instead\n",
      "\n",
      "See the caveats in the documentation: https://pandas.pydata.org/pandas-docs/stable/user_guide/indexing.html#returning-a-view-versus-a-copy\n",
      "  df['label'] = y_pred_test\n"
     ]
    },
    {
     "name": "stdout",
     "output_type": "stream",
     "text": [
      "Di train dapat performa \n",
      "Nilai Precision = 0.6712328767123288\n",
      "Nilai Recall = 0.6758620689655173\n",
      "Nilai F1 = 0.6735395189003437\n",
      "Di test dapat performa\n",
      "Nilai Precision = 0.6\n",
      "Nilai Recall = 0.6964285714285714\n",
      "Nilai F1 = 0.6446280991735538\n",
      "########\n",
      "Rata-rata nilai test dengan Classifier xgb, lr, dan mlp adalah\n",
      "Precision = 0.6444444444444445\n",
      "Recall = 0.6845238095238096\n",
      "F1 = 0.6632536141787951\n",
      "/workspace/dataset/karhutla\n",
      "\n",
      "\n",
      "/workspace/dataset\n",
      "Eksperimen pada bencana karhutla dengan representasi sum_pegasus\n"
     ]
    },
    {
     "name": "stderr",
     "output_type": "stream",
     "text": [
      "/tmp/ipykernel_1865/1041286260.py:125: SettingWithCopyWarning: \n",
      "A value is trying to be set on a copy of a slice from a DataFrame.\n",
      "Try using .loc[row_indexer,col_indexer] = value instead\n",
      "\n",
      "See the caveats in the documentation: https://pandas.pydata.org/pandas-docs/stable/user_guide/indexing.html#returning-a-view-versus-a-copy\n",
      "  df['label'] = y_pred_test\n"
     ]
    },
    {
     "name": "stdout",
     "output_type": "stream",
     "text": [
      "XGBOOST\n",
      "Di train dapat performa \n",
      "Nilai Precision = 0.9764705882352941\n",
      "Nilai Recall = 0.8586206896551725\n",
      "Nilai F1 = 0.9137614678899083\n",
      "Di test dapat performa\n",
      "Nilai Precision = 0.5681818181818182\n",
      "Nilai Recall = 0.44642857142857145\n",
      "Nilai F1 = 0.5\n",
      "########\n",
      "RANDOM FOREST\n"
     ]
    },
    {
     "name": "stderr",
     "output_type": "stream",
     "text": [
      "/tmp/ipykernel_1865/1041286260.py:61: SettingWithCopyWarning: \n",
      "A value is trying to be set on a copy of a slice from a DataFrame.\n",
      "Try using .loc[row_indexer,col_indexer] = value instead\n",
      "\n",
      "See the caveats in the documentation: https://pandas.pydata.org/pandas-docs/stable/user_guide/indexing.html#returning-a-view-versus-a-copy\n",
      "  df['label'] = y_pred_test\n"
     ]
    },
    {
     "name": "stdout",
     "output_type": "stream",
     "text": [
      "Di train dapat performa \n",
      "Nilai Precision = 1.0\n",
      "Nilai Recall = 0.996551724137931\n",
      "Nilai F1 = 0.9982728842832469\n",
      "Di test dapat performa\n",
      "Nilai Precision = 0.65625\n",
      "Nilai Recall = 0.375\n",
      "Nilai F1 = 0.4772727272727273\n",
      "########\n",
      "LOGISTIK REGRESSION\n",
      "Di train dapat performa \n",
      "Nilai Precision = 0.7915057915057915\n",
      "Nilai Recall = 0.7068965517241379\n",
      "Nilai F1 = 0.7468123861566484\n",
      "Di test dapat performa\n",
      "Nilai Precision = 0.5714285714285714\n",
      "Nilai Recall = 0.5\n",
      "Nilai F1 = 0.5333333333333333\n",
      "########\n",
      "MLP\n"
     ]
    },
    {
     "name": "stderr",
     "output_type": "stream",
     "text": [
      "/tmp/ipykernel_1865/1041286260.py:81: SettingWithCopyWarning: \n",
      "A value is trying to be set on a copy of a slice from a DataFrame.\n",
      "Try using .loc[row_indexer,col_indexer] = value instead\n",
      "\n",
      "See the caveats in the documentation: https://pandas.pydata.org/pandas-docs/stable/user_guide/indexing.html#returning-a-view-versus-a-copy\n",
      "  df['label'] = y_pred_test\n",
      "/tmp/ipykernel_1865/1041286260.py:100: SettingWithCopyWarning: \n",
      "A value is trying to be set on a copy of a slice from a DataFrame.\n",
      "Try using .loc[row_indexer,col_indexer] = value instead\n",
      "\n",
      "See the caveats in the documentation: https://pandas.pydata.org/pandas-docs/stable/user_guide/indexing.html#returning-a-view-versus-a-copy\n",
      "  df['label'] = y_pred_test\n"
     ]
    },
    {
     "name": "stdout",
     "output_type": "stream",
     "text": [
      "Di train dapat performa \n",
      "Nilai Precision = 0.9310344827586207\n",
      "Nilai Recall = 0.09310344827586207\n",
      "Nilai F1 = 0.16927899686520378\n",
      "Di test dapat performa\n",
      "Nilai Precision = 1.0\n",
      "Nilai Recall = 0.07142857142857142\n",
      "Nilai F1 = 0.13333333333333333\n",
      "########\n",
      "Rata-rata nilai test dengan Classifier xgb, lr, dan mlp adalah\n",
      "Precision = 0.7132034632034632\n",
      "Recall = 0.33928571428571425\n",
      "F1 = 0.38888888888888884\n",
      "/workspace/dataset/karhutla\n",
      "\n",
      "\n",
      "************************************************************\n",
      "{'karhutla': {'title_ori': {'xgb': {'prec': 0.7777777777777778, 'rec': 0.625, 'f1': 0.6930693069306931, 'acc': 0.845}, 'rf': {'prec': 0.8108108108108109, 'rec': 0.5357142857142857, 'f1': 0.6451612903225806, 'acc': 0.835}, 'lr': {'prec': 0.6785714285714286, 'rec': 0.6785714285714286, 'f1': 0.6785714285714286, 'acc': 0.82}, 'mlp': {'prec': 0.7631578947368421, 'rec': 0.5178571428571429, 'f1': 0.6170212765957447, 'acc': 0.82}}, 'text_ori': {'xgb': {'prec': 0.6808510638297872, 'rec': 0.5714285714285714, 'f1': 0.6213592233009708, 'acc': 0.805}, 'rf': {'prec': 0.7837837837837838, 'rec': 0.5178571428571429, 'f1': 0.6236559139784947, 'acc': 0.825}, 'lr': {'prec': 0.7096774193548387, 'rec': 0.7857142857142857, 'f1': 0.7457627118644068, 'acc': 0.85}, 'mlp': {'prec': 0.8275862068965517, 'rec': 0.42857142857142855, 'f1': 0.5647058823529412, 'acc': 0.815}}, 'tc_ori': {'xgb': {'prec': 0.7727272727272727, 'rec': 0.6071428571428571, 'f1': 0.68, 'acc': 0.84}, 'rf': {'prec': 0.8157894736842105, 'rec': 0.5535714285714286, 'f1': 0.6595744680851064, 'acc': 0.84}, 'lr': {'prec': 0.6923076923076923, 'rec': 0.8035714285714286, 'f1': 0.7438016528925621, 'acc': 0.845}, 'mlp': {'prec': 0.7878787878787878, 'rec': 0.4642857142857143, 'f1': 0.5842696629213484, 'acc': 0.815}}, 'filter_word_tc': {'xgb': {'prec': 0.21052631578947367, 'rec': 0.14285714285714285, 'f1': 0.1702127659574468, 'acc': 0.61}, 'rf': {'prec': 0.27835051546391754, 'rec': 0.9642857142857143, 'f1': 0.432, 'acc': 0.29}, 'lr': {'prec': 0.5125, 'rec': 0.7321428571428571, 'f1': 0.6029411764705882, 'acc': 0.73}, 'mlp': {'prec': 0.5057471264367817, 'rec': 0.7857142857142857, 'f1': 0.6153846153846153, 'acc': 0.725}}, 'filter_word_tc_window': {'xgb': {'prec': 0.6862745098039216, 'rec': 0.625, 'f1': 0.6542056074766356, 'acc': 0.815}, 'rf': {'prec': 0.7777777777777778, 'rec': 0.375, 'f1': 0.5060240963855422, 'acc': 0.795}, 'lr': {'prec': 0.711864406779661, 'rec': 0.75, 'f1': 0.7304347826086958, 'acc': 0.845}, 'mlp': {'prec': 0.8421052631578947, 'rec': 0.2857142857142857, 'f1': 0.4266666666666667, 'acc': 0.785}}, 'trunc_first_short': {'xgb': {'prec': 0.6470588235294118, 'rec': 0.19642857142857142, 'f1': 0.3013698630136986, 'acc': 0.745}, 'rf': {'prec': 0.26666666666666666, 'rec': 0.21428571428571427, 'f1': 0.23762376237623764, 'acc': 0.615}, 'lr': {'prec': 0.6811594202898551, 'rec': 0.8392857142857143, 'f1': 0.752, 'acc': 0.845}, 'mlp': {'prec': 0.6266666666666667, 'rec': 0.8392857142857143, 'f1': 0.7175572519083969, 'acc': 0.815}}, 'trunc_last_short': {'xgb': {'prec': 0.5945945945945946, 'rec': 0.39285714285714285, 'f1': 0.47311827956989244, 'acc': 0.755}, 'rf': {'prec': 0.7391304347826086, 'rec': 0.30357142857142855, 'f1': 0.430379746835443, 'acc': 0.775}, 'lr': {'prec': 0.5625, 'rec': 0.48214285714285715, 'f1': 0.5192307692307692, 'acc': 0.75}, 'mlp': {'prec': 0.6666666666666666, 'rec': 0.14285714285714285, 'f1': 0.23529411764705882, 'acc': 0.74}}, 'trunc_first_long': {'xgb': {'prec': 0.75, 'rec': 0.6964285714285714, 'f1': 0.7222222222222223, 'acc': 0.85}, 'rf': {'prec': 0.8043478260869565, 'rec': 0.6607142857142857, 'f1': 0.7254901960784315, 'acc': 0.86}, 'lr': {'prec': 0.7777777777777778, 'rec': 0.875, 'f1': 0.823529411764706, 'acc': 0.895}, 'mlp': {'prec': 0.6615384615384615, 'rec': 0.7678571428571429, 'f1': 0.7107438016528925, 'acc': 0.825}}, 'trunc_last_long': {'xgb': {'prec': 0.7, 'rec': 0.625, 'f1': 0.6603773584905661, 'acc': 0.82}, 'rf': {'prec': 0.717948717948718, 'rec': 0.5, 'f1': 0.5894736842105263, 'acc': 0.805}, 'lr': {'prec': 0.62, 'rec': 0.5535714285714286, 'f1': 0.5849056603773586, 'acc': 0.78}, 'mlp': {'prec': 0.7777777777777778, 'rec': 0.25, 'f1': 0.3783783783783784, 'acc': 0.77}}, 'trunc_combination': {'xgb': {'prec': 0.7407407407407407, 'rec': 0.7142857142857143, 'f1': 0.7272727272727273, 'acc': 0.85}, 'rf': {'prec': 0.8461538461538461, 'rec': 0.5892857142857143, 'f1': 0.6947368421052632, 'acc': 0.855}, 'lr': {'prec': 0.75, 'rec': 0.6964285714285714, 'f1': 0.7222222222222223, 'acc': 0.85}, 'mlp': {'prec': 0.875, 'rec': 0.375, 'f1': 0.525, 'acc': 0.81}}, 'textrank': {'xgb': {'prec': 0.6181818181818182, 'rec': 0.6071428571428571, 'f1': 0.6126126126126126, 'acc': 0.785}, 'rf': {'prec': 0.7777777777777778, 'rec': 0.375, 'f1': 0.5060240963855422, 'acc': 0.795}, 'lr': {'prec': 0.5967741935483871, 'rec': 0.6607142857142857, 'f1': 0.6271186440677966, 'acc': 0.78}, 'mlp': {'prec': 0.7857142857142857, 'rec': 0.39285714285714285, 'f1': 0.5238095238095237, 'acc': 0.8}}, 'sum_indobart': {'xgb': {'prec': 0.6842105263157895, 'rec': 0.6964285714285714, 'f1': 0.6902654867256636, 'acc': 0.825}, 'rf': {'prec': 0.7446808510638298, 'rec': 0.625, 'f1': 0.6796116504854368, 'acc': 0.835}, 'lr': {'prec': 0.7, 'rec': 0.75, 'f1': 0.7241379310344827, 'acc': 0.84}, 'mlp': {'prec': 0.6944444444444444, 'rec': 0.44642857142857145, 'f1': 0.5434782608695653, 'acc': 0.79}}, 'sum_liputan6': {'xgb': {'prec': 0.6491228070175439, 'rec': 0.6607142857142857, 'f1': 0.6548672566371682, 'acc': 0.805}, 'rf': {'prec': 0.6666666666666666, 'rec': 0.6071428571428571, 'f1': 0.6355140186915887, 'acc': 0.805}, 'lr': {'prec': 0.6842105263157895, 'rec': 0.6964285714285714, 'f1': 0.6902654867256636, 'acc': 0.825}, 'mlp': {'prec': 0.6, 'rec': 0.6964285714285714, 'f1': 0.6446280991735538, 'acc': 0.785}}, 'sum_pegasus': {'xgb': {'prec': 0.5681818181818182, 'rec': 0.44642857142857145, 'f1': 0.5, 'acc': 0.75}, 'rf': {'prec': 0.65625, 'rec': 0.375, 'f1': 0.4772727272727273, 'acc': 0.77}, 'lr': {'prec': 0.5714285714285714, 'rec': 0.5, 'f1': 0.5333333333333333, 'acc': 0.755}, 'mlp': {'prec': 1.0, 'rec': 0.07142857142857142, 'f1': 0.13333333333333333, 'acc': 0.74}}}}\n",
      "/workspace/dataset\n"
     ]
    },
    {
     "name": "stderr",
     "output_type": "stream",
     "text": [
      "/tmp/ipykernel_1865/1041286260.py:125: SettingWithCopyWarning: \n",
      "A value is trying to be set on a copy of a slice from a DataFrame.\n",
      "Try using .loc[row_indexer,col_indexer] = value instead\n",
      "\n",
      "See the caveats in the documentation: https://pandas.pydata.org/pandas-docs/stable/user_guide/indexing.html#returning-a-view-versus-a-copy\n",
      "  df['label'] = y_pred_test\n"
     ]
    }
   ],
   "source": [
    "%cd karhutla\n",
    "get_f1_eks_praproses_bencana('karhutla')\n",
    "%cd .."
   ]
  },
  {
   "cell_type": "code",
   "execution_count": 16,
   "id": "afdc511f",
   "metadata": {
    "scrolled": true
   },
   "outputs": [
    {
     "name": "stdout",
     "output_type": "stream",
     "text": [
      "/workspace/dataset/kekeringan\n",
      "evaluasi pada bencana = kekeringan\n",
      "/workspace/dataset\n",
      "Eksperimen pada bencana kekeringan dengan representasi title_ori\n",
      "XGBOOST\n",
      "Di train dapat performa \n",
      "Nilai Precision = 0.9932885906040269\n",
      "Nilai Recall = 0.896969696969697\n",
      "Nilai F1 = 0.9426751592356689\n",
      "Di test dapat performa\n",
      "Nilai Precision = 0.75\n",
      "Nilai Recall = 0.07692307692307693\n",
      "Nilai F1 = 0.13953488372093026\n",
      "########\n",
      "RANDOM FOREST\n"
     ]
    },
    {
     "name": "stderr",
     "output_type": "stream",
     "text": [
      "/tmp/ipykernel_2231603/1041286260.py:61: SettingWithCopyWarning: \n",
      "A value is trying to be set on a copy of a slice from a DataFrame.\n",
      "Try using .loc[row_indexer,col_indexer] = value instead\n",
      "\n",
      "See the caveats in the documentation: https://pandas.pydata.org/pandas-docs/stable/user_guide/indexing.html#returning-a-view-versus-a-copy\n",
      "  df['label'] = y_pred_test\n"
     ]
    },
    {
     "name": "stdout",
     "output_type": "stream",
     "text": [
      "Di train dapat performa \n",
      "Nilai Precision = 1.0\n",
      "Nilai Recall = 1.0\n",
      "Nilai F1 = 1.0\n",
      "Di test dapat performa\n",
      "Nilai Precision = 0.0\n",
      "Nilai Recall = 0.0\n",
      "Nilai F1 = 0.0\n",
      "########\n",
      "LOGISTIK REGRESSION\n",
      "Di train dapat performa \n",
      "Nilai Precision = 0.9027777777777778\n",
      "Nilai Recall = 0.7878787878787878\n",
      "Nilai F1 = 0.8414239482200647\n",
      "Di test dapat performa\n",
      "Nilai Precision = 0.4772727272727273\n",
      "Nilai Recall = 0.5384615384615384\n",
      "Nilai F1 = 0.5060240963855421\n",
      "########\n",
      "MLP\n"
     ]
    },
    {
     "name": "stderr",
     "output_type": "stream",
     "text": [
      "/opt/conda/lib/python3.8/site-packages/sklearn/metrics/_classification.py:1344: UndefinedMetricWarning: Precision and F-score are ill-defined and being set to 0.0 due to no predicted samples. Use `zero_division` parameter to control this behavior.\n",
      "  _warn_prf(average, modifier, msg_start, len(result))\n",
      "/tmp/ipykernel_2231603/1041286260.py:81: SettingWithCopyWarning: \n",
      "A value is trying to be set on a copy of a slice from a DataFrame.\n",
      "Try using .loc[row_indexer,col_indexer] = value instead\n",
      "\n",
      "See the caveats in the documentation: https://pandas.pydata.org/pandas-docs/stable/user_guide/indexing.html#returning-a-view-versus-a-copy\n",
      "  df['label'] = y_pred_test\n",
      "/tmp/ipykernel_2231603/1041286260.py:100: SettingWithCopyWarning: \n",
      "A value is trying to be set on a copy of a slice from a DataFrame.\n",
      "Try using .loc[row_indexer,col_indexer] = value instead\n",
      "\n",
      "See the caveats in the documentation: https://pandas.pydata.org/pandas-docs/stable/user_guide/indexing.html#returning-a-view-versus-a-copy\n",
      "  df['label'] = y_pred_test\n"
     ]
    },
    {
     "name": "stdout",
     "output_type": "stream",
     "text": [
      "Di train dapat performa \n",
      "Nilai Precision = 0.6403940886699507\n",
      "Nilai Recall = 0.7878787878787878\n",
      "Nilai F1 = 0.7065217391304347\n",
      "Di test dapat performa\n",
      "Nilai Precision = 0.44594594594594594\n",
      "Nilai Recall = 0.8461538461538461\n",
      "Nilai F1 = 0.584070796460177\n",
      "########\n",
      "Rata-rata nilai test dengan Classifier xgb, lr, dan mlp adalah\n",
      "Precision = 0.5577395577395577\n",
      "Recall = 0.4871794871794872\n",
      "F1 = 0.4098765921888831\n",
      "/workspace/dataset/kekeringan\n",
      "\n",
      "\n",
      "/workspace/dataset\n",
      "Eksperimen pada bencana kekeringan dengan representasi text_ori\n"
     ]
    },
    {
     "name": "stderr",
     "output_type": "stream",
     "text": [
      "/tmp/ipykernel_2231603/1041286260.py:125: SettingWithCopyWarning: \n",
      "A value is trying to be set on a copy of a slice from a DataFrame.\n",
      "Try using .loc[row_indexer,col_indexer] = value instead\n",
      "\n",
      "See the caveats in the documentation: https://pandas.pydata.org/pandas-docs/stable/user_guide/indexing.html#returning-a-view-versus-a-copy\n",
      "  df['label'] = y_pred_test\n"
     ]
    },
    {
     "name": "stdout",
     "output_type": "stream",
     "text": [
      "XGBOOST\n",
      "Di train dapat performa \n",
      "Nilai Precision = 0.9935897435897436\n",
      "Nilai Recall = 0.9393939393939394\n",
      "Nilai F1 = 0.9657320872274143\n",
      "Di test dapat performa\n",
      "Nilai Precision = 1.0\n",
      "Nilai Recall = 0.07692307692307693\n",
      "Nilai F1 = 0.14285714285714288\n",
      "########\n",
      "RANDOM FOREST\n"
     ]
    },
    {
     "name": "stderr",
     "output_type": "stream",
     "text": [
      "/tmp/ipykernel_2231603/1041286260.py:61: SettingWithCopyWarning: \n",
      "A value is trying to be set on a copy of a slice from a DataFrame.\n",
      "Try using .loc[row_indexer,col_indexer] = value instead\n",
      "\n",
      "See the caveats in the documentation: https://pandas.pydata.org/pandas-docs/stable/user_guide/indexing.html#returning-a-view-versus-a-copy\n",
      "  df['label'] = y_pred_test\n"
     ]
    },
    {
     "name": "stdout",
     "output_type": "stream",
     "text": [
      "Di train dapat performa \n",
      "Nilai Precision = 1.0\n",
      "Nilai Recall = 1.0\n",
      "Nilai F1 = 1.0\n",
      "Di test dapat performa\n",
      "Nilai Precision = 0.8571428571428571\n",
      "Nilai Recall = 0.15384615384615385\n",
      "Nilai F1 = 0.2608695652173913\n",
      "########\n",
      "LOGISTIK REGRESSION\n"
     ]
    },
    {
     "name": "stderr",
     "output_type": "stream",
     "text": [
      "/tmp/ipykernel_2231603/1041286260.py:81: SettingWithCopyWarning: \n",
      "A value is trying to be set on a copy of a slice from a DataFrame.\n",
      "Try using .loc[row_indexer,col_indexer] = value instead\n",
      "\n",
      "See the caveats in the documentation: https://pandas.pydata.org/pandas-docs/stable/user_guide/indexing.html#returning-a-view-versus-a-copy\n",
      "  df['label'] = y_pred_test\n"
     ]
    },
    {
     "name": "stdout",
     "output_type": "stream",
     "text": [
      "Di train dapat performa \n",
      "Nilai Precision = 0.8449612403100775\n",
      "Nilai Recall = 0.6606060606060606\n",
      "Nilai F1 = 0.7414965986394558\n",
      "Di test dapat performa\n",
      "Nilai Precision = 0.675\n",
      "Nilai Recall = 0.6923076923076923\n",
      "Nilai F1 = 0.6835443037974683\n",
      "########\n",
      "MLP\n"
     ]
    },
    {
     "name": "stderr",
     "output_type": "stream",
     "text": [
      "/tmp/ipykernel_2231603/1041286260.py:100: SettingWithCopyWarning: \n",
      "A value is trying to be set on a copy of a slice from a DataFrame.\n",
      "Try using .loc[row_indexer,col_indexer] = value instead\n",
      "\n",
      "See the caveats in the documentation: https://pandas.pydata.org/pandas-docs/stable/user_guide/indexing.html#returning-a-view-versus-a-copy\n",
      "  df['label'] = y_pred_test\n"
     ]
    },
    {
     "name": "stdout",
     "output_type": "stream",
     "text": [
      "Di train dapat performa \n",
      "Nilai Precision = 0.6432432432432432\n",
      "Nilai Recall = 0.7212121212121212\n",
      "Nilai F1 = 0.6799999999999999\n",
      "Di test dapat performa\n",
      "Nilai Precision = 0.6\n",
      "Nilai Recall = 0.7692307692307693\n",
      "Nilai F1 = 0.6741573033707865\n",
      "########\n",
      "Rata-rata nilai test dengan Classifier xgb, lr, dan mlp adalah\n",
      "Precision = 0.7583333333333333\n",
      "Recall = 0.5128205128205128\n",
      "F1 = 0.5001862500084658\n",
      "/workspace/dataset/kekeringan\n",
      "\n",
      "\n",
      "/workspace/dataset\n",
      "Eksperimen pada bencana kekeringan dengan representasi tc_ori\n"
     ]
    },
    {
     "name": "stderr",
     "output_type": "stream",
     "text": [
      "/tmp/ipykernel_2231603/1041286260.py:125: SettingWithCopyWarning: \n",
      "A value is trying to be set on a copy of a slice from a DataFrame.\n",
      "Try using .loc[row_indexer,col_indexer] = value instead\n",
      "\n",
      "See the caveats in the documentation: https://pandas.pydata.org/pandas-docs/stable/user_guide/indexing.html#returning-a-view-versus-a-copy\n",
      "  df['label'] = y_pred_test\n"
     ]
    },
    {
     "name": "stdout",
     "output_type": "stream",
     "text": [
      "XGBOOST\n",
      "Di train dapat performa \n",
      "Nilai Precision = 0.9935897435897436\n",
      "Nilai Recall = 0.9393939393939394\n",
      "Nilai F1 = 0.9657320872274143\n",
      "Di test dapat performa\n",
      "Nilai Precision = 1.0\n",
      "Nilai Recall = 0.05128205128205128\n",
      "Nilai F1 = 0.09756097560975609\n",
      "########\n",
      "RANDOM FOREST\n"
     ]
    },
    {
     "name": "stderr",
     "output_type": "stream",
     "text": [
      "/tmp/ipykernel_2231603/1041286260.py:61: SettingWithCopyWarning: \n",
      "A value is trying to be set on a copy of a slice from a DataFrame.\n",
      "Try using .loc[row_indexer,col_indexer] = value instead\n",
      "\n",
      "See the caveats in the documentation: https://pandas.pydata.org/pandas-docs/stable/user_guide/indexing.html#returning-a-view-versus-a-copy\n",
      "  df['label'] = y_pred_test\n"
     ]
    },
    {
     "name": "stdout",
     "output_type": "stream",
     "text": [
      "Di train dapat performa \n",
      "Nilai Precision = 1.0\n",
      "Nilai Recall = 1.0\n",
      "Nilai F1 = 1.0\n",
      "Di test dapat performa\n",
      "Nilai Precision = 1.0\n",
      "Nilai Recall = 0.07692307692307693\n",
      "Nilai F1 = 0.14285714285714288\n",
      "########\n",
      "LOGISTIK REGRESSION\n",
      "Di train dapat performa \n",
      "Nilai Precision = 0.8682170542635659\n",
      "Nilai Recall = 0.6787878787878788\n",
      "Nilai F1 = 0.761904761904762\n",
      "Di test dapat performa\n",
      "Nilai Precision = 0.6744186046511628\n",
      "Nilai Recall = 0.7435897435897436\n",
      "Nilai F1 = 0.7073170731707318\n",
      "########\n",
      "MLP\n"
     ]
    },
    {
     "name": "stderr",
     "output_type": "stream",
     "text": [
      "/tmp/ipykernel_2231603/1041286260.py:81: SettingWithCopyWarning: \n",
      "A value is trying to be set on a copy of a slice from a DataFrame.\n",
      "Try using .loc[row_indexer,col_indexer] = value instead\n",
      "\n",
      "See the caveats in the documentation: https://pandas.pydata.org/pandas-docs/stable/user_guide/indexing.html#returning-a-view-versus-a-copy\n",
      "  df['label'] = y_pred_test\n",
      "/tmp/ipykernel_2231603/1041286260.py:100: SettingWithCopyWarning: \n",
      "A value is trying to be set on a copy of a slice from a DataFrame.\n",
      "Try using .loc[row_indexer,col_indexer] = value instead\n",
      "\n",
      "See the caveats in the documentation: https://pandas.pydata.org/pandas-docs/stable/user_guide/indexing.html#returning-a-view-versus-a-copy\n",
      "  df['label'] = y_pred_test\n"
     ]
    },
    {
     "name": "stdout",
     "output_type": "stream",
     "text": [
      "Di train dapat performa \n",
      "Nilai Precision = 0.6683937823834197\n",
      "Nilai Recall = 0.7818181818181819\n",
      "Nilai F1 = 0.7206703910614525\n",
      "Di test dapat performa\n",
      "Nilai Precision = 0.5344827586206896\n",
      "Nilai Recall = 0.7948717948717948\n",
      "Nilai F1 = 0.6391752577319587\n",
      "########\n",
      "Rata-rata nilai test dengan Classifier xgb, lr, dan mlp adalah\n",
      "Precision = 0.7363004544239508\n",
      "Recall = 0.5299145299145299\n",
      "F1 = 0.4813511021708155\n",
      "/workspace/dataset/kekeringan\n",
      "\n",
      "\n",
      "/workspace/dataset\n",
      "Eksperimen pada bencana kekeringan dengan representasi filter_word_tc\n"
     ]
    },
    {
     "name": "stderr",
     "output_type": "stream",
     "text": [
      "/tmp/ipykernel_2231603/1041286260.py:125: SettingWithCopyWarning: \n",
      "A value is trying to be set on a copy of a slice from a DataFrame.\n",
      "Try using .loc[row_indexer,col_indexer] = value instead\n",
      "\n",
      "See the caveats in the documentation: https://pandas.pydata.org/pandas-docs/stable/user_guide/indexing.html#returning-a-view-versus-a-copy\n",
      "  df['label'] = y_pred_test\n"
     ]
    },
    {
     "name": "stdout",
     "output_type": "stream",
     "text": [
      "XGBOOST\n",
      "Di train dapat performa \n",
      "Nilai Precision = 0.9933774834437086\n",
      "Nilai Recall = 0.9090909090909091\n",
      "Nilai F1 = 0.9493670886075949\n",
      "Di test dapat performa\n",
      "Nilai Precision = 0.5\n",
      "Nilai Recall = 0.2564102564102564\n",
      "Nilai F1 = 0.3389830508474576\n",
      "########\n",
      "RANDOM FOREST\n"
     ]
    },
    {
     "name": "stderr",
     "output_type": "stream",
     "text": [
      "/tmp/ipykernel_2231603/1041286260.py:61: SettingWithCopyWarning: \n",
      "A value is trying to be set on a copy of a slice from a DataFrame.\n",
      "Try using .loc[row_indexer,col_indexer] = value instead\n",
      "\n",
      "See the caveats in the documentation: https://pandas.pydata.org/pandas-docs/stable/user_guide/indexing.html#returning-a-view-versus-a-copy\n",
      "  df['label'] = y_pred_test\n"
     ]
    },
    {
     "name": "stdout",
     "output_type": "stream",
     "text": [
      "Di train dapat performa \n",
      "Nilai Precision = 1.0\n",
      "Nilai Recall = 1.0\n",
      "Nilai F1 = 1.0\n",
      "Di test dapat performa\n",
      "Nilai Precision = 1.0\n",
      "Nilai Recall = 0.05128205128205128\n",
      "Nilai F1 = 0.09756097560975609\n",
      "########\n",
      "LOGISTIK REGRESSION\n"
     ]
    },
    {
     "name": "stderr",
     "output_type": "stream",
     "text": [
      "/tmp/ipykernel_2231603/1041286260.py:81: SettingWithCopyWarning: \n",
      "A value is trying to be set on a copy of a slice from a DataFrame.\n",
      "Try using .loc[row_indexer,col_indexer] = value instead\n",
      "\n",
      "See the caveats in the documentation: https://pandas.pydata.org/pandas-docs/stable/user_guide/indexing.html#returning-a-view-versus-a-copy\n",
      "  df['label'] = y_pred_test\n"
     ]
    },
    {
     "name": "stdout",
     "output_type": "stream",
     "text": [
      "Di train dapat performa \n",
      "Nilai Precision = 0.8449612403100775\n",
      "Nilai Recall = 0.6606060606060606\n",
      "Nilai F1 = 0.7414965986394558\n",
      "Di test dapat performa\n",
      "Nilai Precision = 0.6\n",
      "Nilai Recall = 0.46153846153846156\n",
      "Nilai F1 = 0.5217391304347826\n",
      "########\n",
      "MLP\n"
     ]
    },
    {
     "name": "stderr",
     "output_type": "stream",
     "text": [
      "/tmp/ipykernel_2231603/1041286260.py:100: SettingWithCopyWarning: \n",
      "A value is trying to be set on a copy of a slice from a DataFrame.\n",
      "Try using .loc[row_indexer,col_indexer] = value instead\n",
      "\n",
      "See the caveats in the documentation: https://pandas.pydata.org/pandas-docs/stable/user_guide/indexing.html#returning-a-view-versus-a-copy\n",
      "  df['label'] = y_pred_test\n"
     ]
    },
    {
     "name": "stdout",
     "output_type": "stream",
     "text": [
      "Di train dapat performa \n",
      "Nilai Precision = 0.5841584158415841\n",
      "Nilai Recall = 0.7151515151515152\n",
      "Nilai F1 = 0.6430517711171663\n",
      "Di test dapat performa\n",
      "Nilai Precision = 0.5434782608695652\n",
      "Nilai Recall = 0.6410256410256411\n",
      "Nilai F1 = 0.5882352941176471\n",
      "########\n",
      "Rata-rata nilai test dengan Classifier xgb, lr, dan mlp adalah\n",
      "Precision = 0.5478260869565218\n",
      "Recall = 0.452991452991453\n",
      "F1 = 0.48298582513329574\n",
      "/workspace/dataset/kekeringan\n",
      "\n",
      "\n",
      "/workspace/dataset\n",
      "Eksperimen pada bencana kekeringan dengan representasi filter_word_tc_window\n"
     ]
    },
    {
     "name": "stderr",
     "output_type": "stream",
     "text": [
      "/tmp/ipykernel_2231603/1041286260.py:125: SettingWithCopyWarning: \n",
      "A value is trying to be set on a copy of a slice from a DataFrame.\n",
      "Try using .loc[row_indexer,col_indexer] = value instead\n",
      "\n",
      "See the caveats in the documentation: https://pandas.pydata.org/pandas-docs/stable/user_guide/indexing.html#returning-a-view-versus-a-copy\n",
      "  df['label'] = y_pred_test\n"
     ]
    },
    {
     "name": "stdout",
     "output_type": "stream",
     "text": [
      "XGBOOST\n",
      "Di train dapat performa \n",
      "Nilai Precision = 0.9683544303797469\n",
      "Nilai Recall = 0.9272727272727272\n",
      "Nilai F1 = 0.9473684210526316\n",
      "Di test dapat performa\n",
      "Nilai Precision = 0.0\n",
      "Nilai Recall = 0.0\n",
      "Nilai F1 = 0.0\n",
      "########\n",
      "RANDOM FOREST\n"
     ]
    },
    {
     "name": "stderr",
     "output_type": "stream",
     "text": [
      "/opt/conda/lib/python3.8/site-packages/sklearn/metrics/_classification.py:1344: UndefinedMetricWarning: Precision and F-score are ill-defined and being set to 0.0 due to no predicted samples. Use `zero_division` parameter to control this behavior.\n",
      "  _warn_prf(average, modifier, msg_start, len(result))\n",
      "/tmp/ipykernel_2231603/1041286260.py:61: SettingWithCopyWarning: \n",
      "A value is trying to be set on a copy of a slice from a DataFrame.\n",
      "Try using .loc[row_indexer,col_indexer] = value instead\n",
      "\n",
      "See the caveats in the documentation: https://pandas.pydata.org/pandas-docs/stable/user_guide/indexing.html#returning-a-view-versus-a-copy\n",
      "  df['label'] = y_pred_test\n"
     ]
    },
    {
     "name": "stdout",
     "output_type": "stream",
     "text": [
      "Di train dapat performa \n",
      "Nilai Precision = 1.0\n",
      "Nilai Recall = 1.0\n",
      "Nilai F1 = 1.0\n",
      "Di test dapat performa\n",
      "Nilai Precision = 1.0\n",
      "Nilai Recall = 0.02564102564102564\n",
      "Nilai F1 = 0.05\n",
      "########\n",
      "LOGISTIK REGRESSION\n",
      "Di train dapat performa \n",
      "Nilai Precision = 0.8592592592592593\n",
      "Nilai Recall = 0.703030303030303\n",
      "Nilai F1 = 0.7733333333333333\n",
      "Di test dapat performa\n",
      "Nilai Precision = 0.627906976744186\n",
      "Nilai Recall = 0.6923076923076923\n",
      "Nilai F1 = 0.6585365853658537\n",
      "########\n",
      "MLP\n"
     ]
    },
    {
     "name": "stderr",
     "output_type": "stream",
     "text": [
      "/tmp/ipykernel_2231603/1041286260.py:81: SettingWithCopyWarning: \n",
      "A value is trying to be set on a copy of a slice from a DataFrame.\n",
      "Try using .loc[row_indexer,col_indexer] = value instead\n",
      "\n",
      "See the caveats in the documentation: https://pandas.pydata.org/pandas-docs/stable/user_guide/indexing.html#returning-a-view-versus-a-copy\n",
      "  df['label'] = y_pred_test\n",
      "/tmp/ipykernel_2231603/1041286260.py:100: SettingWithCopyWarning: \n",
      "A value is trying to be set on a copy of a slice from a DataFrame.\n",
      "Try using .loc[row_indexer,col_indexer] = value instead\n",
      "\n",
      "See the caveats in the documentation: https://pandas.pydata.org/pandas-docs/stable/user_guide/indexing.html#returning-a-view-versus-a-copy\n",
      "  df['label'] = y_pred_test\n"
     ]
    },
    {
     "name": "stdout",
     "output_type": "stream",
     "text": [
      "Di train dapat performa \n",
      "Nilai Precision = 0.672\n",
      "Nilai Recall = 0.509090909090909\n",
      "Nilai F1 = 0.5793103448275863\n",
      "Di test dapat performa\n",
      "Nilai Precision = 0.5813953488372093\n",
      "Nilai Recall = 0.6410256410256411\n",
      "Nilai F1 = 0.6097560975609757\n",
      "########\n",
      "Rata-rata nilai test dengan Classifier xgb, lr, dan mlp adalah\n",
      "Precision = 0.40310077519379844\n",
      "Recall = 0.4444444444444445\n",
      "F1 = 0.4227642276422765\n",
      "/workspace/dataset/kekeringan\n",
      "\n",
      "\n",
      "/workspace/dataset\n",
      "Eksperimen pada bencana kekeringan dengan representasi trunc_first_short\n"
     ]
    },
    {
     "name": "stderr",
     "output_type": "stream",
     "text": [
      "/tmp/ipykernel_2231603/1041286260.py:125: SettingWithCopyWarning: \n",
      "A value is trying to be set on a copy of a slice from a DataFrame.\n",
      "Try using .loc[row_indexer,col_indexer] = value instead\n",
      "\n",
      "See the caveats in the documentation: https://pandas.pydata.org/pandas-docs/stable/user_guide/indexing.html#returning-a-view-versus-a-copy\n",
      "  df['label'] = y_pred_test\n"
     ]
    },
    {
     "name": "stdout",
     "output_type": "stream",
     "text": [
      "XGBOOST\n",
      "Di train dapat performa \n",
      "Nilai Precision = 0.9806451612903225\n",
      "Nilai Recall = 0.9212121212121213\n",
      "Nilai F1 = 0.9500000000000001\n",
      "Di test dapat performa\n",
      "Nilai Precision = 0.7333333333333333\n",
      "Nilai Recall = 0.5641025641025641\n",
      "Nilai F1 = 0.6376811594202899\n",
      "########\n",
      "RANDOM FOREST\n"
     ]
    },
    {
     "name": "stderr",
     "output_type": "stream",
     "text": [
      "/tmp/ipykernel_2231603/1041286260.py:61: SettingWithCopyWarning: \n",
      "A value is trying to be set on a copy of a slice from a DataFrame.\n",
      "Try using .loc[row_indexer,col_indexer] = value instead\n",
      "\n",
      "See the caveats in the documentation: https://pandas.pydata.org/pandas-docs/stable/user_guide/indexing.html#returning-a-view-versus-a-copy\n",
      "  df['label'] = y_pred_test\n"
     ]
    },
    {
     "name": "stdout",
     "output_type": "stream",
     "text": [
      "Di train dapat performa \n",
      "Nilai Precision = 1.0\n",
      "Nilai Recall = 1.0\n",
      "Nilai F1 = 1.0\n",
      "Di test dapat performa\n",
      "Nilai Precision = 0.9375\n",
      "Nilai Recall = 0.38461538461538464\n",
      "Nilai F1 = 0.5454545454545454\n",
      "########\n",
      "LOGISTIK REGRESSION\n"
     ]
    },
    {
     "name": "stderr",
     "output_type": "stream",
     "text": [
      "/tmp/ipykernel_2231603/1041286260.py:81: SettingWithCopyWarning: \n",
      "A value is trying to be set on a copy of a slice from a DataFrame.\n",
      "Try using .loc[row_indexer,col_indexer] = value instead\n",
      "\n",
      "See the caveats in the documentation: https://pandas.pydata.org/pandas-docs/stable/user_guide/indexing.html#returning-a-view-versus-a-copy\n",
      "  df['label'] = y_pred_test\n"
     ]
    },
    {
     "name": "stdout",
     "output_type": "stream",
     "text": [
      "Di train dapat performa \n",
      "Nilai Precision = 0.8928571428571429\n",
      "Nilai Recall = 0.7575757575757576\n",
      "Nilai F1 = 0.819672131147541\n",
      "Di test dapat performa\n",
      "Nilai Precision = 0.717948717948718\n",
      "Nilai Recall = 0.717948717948718\n",
      "Nilai F1 = 0.717948717948718\n",
      "########\n",
      "MLP\n"
     ]
    },
    {
     "name": "stderr",
     "output_type": "stream",
     "text": [
      "/tmp/ipykernel_2231603/1041286260.py:100: SettingWithCopyWarning: \n",
      "A value is trying to be set on a copy of a slice from a DataFrame.\n",
      "Try using .loc[row_indexer,col_indexer] = value instead\n",
      "\n",
      "See the caveats in the documentation: https://pandas.pydata.org/pandas-docs/stable/user_guide/indexing.html#returning-a-view-versus-a-copy\n",
      "  df['label'] = y_pred_test\n"
     ]
    },
    {
     "name": "stdout",
     "output_type": "stream",
     "text": [
      "Di train dapat performa \n",
      "Nilai Precision = 0.890625\n",
      "Nilai Recall = 0.34545454545454546\n",
      "Nilai F1 = 0.4978165938864629\n",
      "Di test dapat performa\n",
      "Nilai Precision = 1.0\n",
      "Nilai Recall = 0.1794871794871795\n",
      "Nilai F1 = 0.30434782608695654\n",
      "########\n",
      "Rata-rata nilai test dengan Classifier xgb, lr, dan mlp adalah\n",
      "Precision = 0.8170940170940172\n",
      "Recall = 0.48717948717948717\n",
      "F1 = 0.5533259011519881\n",
      "/workspace/dataset/kekeringan\n",
      "\n",
      "\n",
      "/workspace/dataset\n",
      "Eksperimen pada bencana kekeringan dengan representasi trunc_last_short\n"
     ]
    },
    {
     "name": "stderr",
     "output_type": "stream",
     "text": [
      "/tmp/ipykernel_2231603/1041286260.py:125: SettingWithCopyWarning: \n",
      "A value is trying to be set on a copy of a slice from a DataFrame.\n",
      "Try using .loc[row_indexer,col_indexer] = value instead\n",
      "\n",
      "See the caveats in the documentation: https://pandas.pydata.org/pandas-docs/stable/user_guide/indexing.html#returning-a-view-versus-a-copy\n",
      "  df['label'] = y_pred_test\n"
     ]
    },
    {
     "name": "stdout",
     "output_type": "stream",
     "text": [
      "XGBOOST\n",
      "Di train dapat performa \n",
      "Nilai Precision = 1.0\n",
      "Nilai Recall = 0.8727272727272727\n",
      "Nilai F1 = 0.9320388349514563\n",
      "Di test dapat performa\n",
      "Nilai Precision = 0.25\n",
      "Nilai Recall = 0.02564102564102564\n",
      "Nilai F1 = 0.04651162790697674\n",
      "########\n",
      "RANDOM FOREST\n"
     ]
    },
    {
     "name": "stderr",
     "output_type": "stream",
     "text": [
      "/tmp/ipykernel_2231603/1041286260.py:61: SettingWithCopyWarning: \n",
      "A value is trying to be set on a copy of a slice from a DataFrame.\n",
      "Try using .loc[row_indexer,col_indexer] = value instead\n",
      "\n",
      "See the caveats in the documentation: https://pandas.pydata.org/pandas-docs/stable/user_guide/indexing.html#returning-a-view-versus-a-copy\n",
      "  df['label'] = y_pred_test\n"
     ]
    },
    {
     "name": "stdout",
     "output_type": "stream",
     "text": [
      "Di train dapat performa \n",
      "Nilai Precision = 1.0\n",
      "Nilai Recall = 1.0\n",
      "Nilai F1 = 1.0\n",
      "Di test dapat performa\n",
      "Nilai Precision = 0.0\n",
      "Nilai Recall = 0.0\n",
      "Nilai F1 = 0.0\n",
      "########\n",
      "LOGISTIK REGRESSION\n"
     ]
    },
    {
     "name": "stderr",
     "output_type": "stream",
     "text": [
      "/opt/conda/lib/python3.8/site-packages/sklearn/metrics/_classification.py:1344: UndefinedMetricWarning: Precision and F-score are ill-defined and being set to 0.0 due to no predicted samples. Use `zero_division` parameter to control this behavior.\n",
      "  _warn_prf(average, modifier, msg_start, len(result))\n",
      "/tmp/ipykernel_2231603/1041286260.py:81: SettingWithCopyWarning: \n",
      "A value is trying to be set on a copy of a slice from a DataFrame.\n",
      "Try using .loc[row_indexer,col_indexer] = value instead\n",
      "\n",
      "See the caveats in the documentation: https://pandas.pydata.org/pandas-docs/stable/user_guide/indexing.html#returning-a-view-versus-a-copy\n",
      "  df['label'] = y_pred_test\n"
     ]
    },
    {
     "name": "stdout",
     "output_type": "stream",
     "text": [
      "Di train dapat performa \n",
      "Nilai Precision = 0.8448275862068966\n",
      "Nilai Recall = 0.593939393939394\n",
      "Nilai F1 = 0.6975088967971531\n",
      "Di test dapat performa\n",
      "Nilai Precision = 0.55\n",
      "Nilai Recall = 0.5641025641025641\n",
      "Nilai F1 = 0.5569620253164557\n",
      "########\n",
      "MLP\n"
     ]
    },
    {
     "name": "stderr",
     "output_type": "stream",
     "text": [
      "/tmp/ipykernel_2231603/1041286260.py:100: SettingWithCopyWarning: \n",
      "A value is trying to be set on a copy of a slice from a DataFrame.\n",
      "Try using .loc[row_indexer,col_indexer] = value instead\n",
      "\n",
      "See the caveats in the documentation: https://pandas.pydata.org/pandas-docs/stable/user_guide/indexing.html#returning-a-view-versus-a-copy\n",
      "  df['label'] = y_pred_test\n"
     ]
    },
    {
     "name": "stdout",
     "output_type": "stream",
     "text": [
      "Di train dapat performa \n",
      "Nilai Precision = 0.5842696629213483\n",
      "Nilai Recall = 0.6303030303030303\n",
      "Nilai F1 = 0.6064139941690961\n",
      "Di test dapat performa\n",
      "Nilai Precision = 0.48333333333333334\n",
      "Nilai Recall = 0.7435897435897436\n",
      "Nilai F1 = 0.5858585858585859\n",
      "########\n",
      "Rata-rata nilai test dengan Classifier xgb, lr, dan mlp adalah\n",
      "Precision = 0.4277777777777778\n",
      "Recall = 0.4444444444444445\n",
      "F1 = 0.3964440796940061\n",
      "/workspace/dataset/kekeringan\n",
      "\n",
      "\n",
      "/workspace/dataset\n",
      "Eksperimen pada bencana kekeringan dengan representasi trunc_first_long\n"
     ]
    },
    {
     "name": "stderr",
     "output_type": "stream",
     "text": [
      "/tmp/ipykernel_2231603/1041286260.py:125: SettingWithCopyWarning: \n",
      "A value is trying to be set on a copy of a slice from a DataFrame.\n",
      "Try using .loc[row_indexer,col_indexer] = value instead\n",
      "\n",
      "See the caveats in the documentation: https://pandas.pydata.org/pandas-docs/stable/user_guide/indexing.html#returning-a-view-versus-a-copy\n",
      "  df['label'] = y_pred_test\n"
     ]
    },
    {
     "name": "stdout",
     "output_type": "stream",
     "text": [
      "XGBOOST\n",
      "Di train dapat performa \n",
      "Nilai Precision = 0.9806451612903225\n",
      "Nilai Recall = 0.9212121212121213\n",
      "Nilai F1 = 0.9500000000000001\n",
      "Di test dapat performa\n",
      "Nilai Precision = 1.0\n",
      "Nilai Recall = 0.02564102564102564\n",
      "Nilai F1 = 0.05\n",
      "########\n",
      "RANDOM FOREST\n"
     ]
    },
    {
     "name": "stderr",
     "output_type": "stream",
     "text": [
      "/tmp/ipykernel_2231603/1041286260.py:61: SettingWithCopyWarning: \n",
      "A value is trying to be set on a copy of a slice from a DataFrame.\n",
      "Try using .loc[row_indexer,col_indexer] = value instead\n",
      "\n",
      "See the caveats in the documentation: https://pandas.pydata.org/pandas-docs/stable/user_guide/indexing.html#returning-a-view-versus-a-copy\n",
      "  df['label'] = y_pred_test\n"
     ]
    },
    {
     "name": "stdout",
     "output_type": "stream",
     "text": [
      "Di train dapat performa \n",
      "Nilai Precision = 1.0\n",
      "Nilai Recall = 1.0\n",
      "Nilai F1 = 1.0\n",
      "Di test dapat performa\n",
      "Nilai Precision = 1.0\n",
      "Nilai Recall = 0.05128205128205128\n",
      "Nilai F1 = 0.09756097560975609\n",
      "########\n",
      "LOGISTIK REGRESSION\n",
      "Di train dapat performa \n",
      "Nilai Precision = 0.8571428571428571\n",
      "Nilai Recall = 0.7272727272727273\n",
      "Nilai F1 = 0.7868852459016394\n",
      "Di test dapat performa\n",
      "Nilai Precision = 0.6666666666666666\n",
      "Nilai Recall = 0.7692307692307693\n",
      "Nilai F1 = 0.7142857142857142\n",
      "########\n",
      "MLP\n"
     ]
    },
    {
     "name": "stderr",
     "output_type": "stream",
     "text": [
      "/tmp/ipykernel_2231603/1041286260.py:81: SettingWithCopyWarning: \n",
      "A value is trying to be set on a copy of a slice from a DataFrame.\n",
      "Try using .loc[row_indexer,col_indexer] = value instead\n",
      "\n",
      "See the caveats in the documentation: https://pandas.pydata.org/pandas-docs/stable/user_guide/indexing.html#returning-a-view-versus-a-copy\n",
      "  df['label'] = y_pred_test\n",
      "/tmp/ipykernel_2231603/1041286260.py:100: SettingWithCopyWarning: \n",
      "A value is trying to be set on a copy of a slice from a DataFrame.\n",
      "Try using .loc[row_indexer,col_indexer] = value instead\n",
      "\n",
      "See the caveats in the documentation: https://pandas.pydata.org/pandas-docs/stable/user_guide/indexing.html#returning-a-view-versus-a-copy\n",
      "  df['label'] = y_pred_test\n"
     ]
    },
    {
     "name": "stdout",
     "output_type": "stream",
     "text": [
      "Di train dapat performa \n",
      "Nilai Precision = 0.8627450980392157\n",
      "Nilai Recall = 0.26666666666666666\n",
      "Nilai F1 = 0.40740740740740744\n",
      "Di test dapat performa\n",
      "Nilai Precision = 1.0\n",
      "Nilai Recall = 0.2564102564102564\n",
      "Nilai F1 = 0.4081632653061224\n",
      "########\n",
      "Rata-rata nilai test dengan Classifier xgb, lr, dan mlp adalah\n",
      "Precision = 0.8888888888888888\n",
      "Recall = 0.35042735042735046\n",
      "F1 = 0.3908163265306122\n",
      "/workspace/dataset/kekeringan\n",
      "\n",
      "\n",
      "/workspace/dataset\n",
      "Eksperimen pada bencana kekeringan dengan representasi trunc_last_long\n"
     ]
    },
    {
     "name": "stderr",
     "output_type": "stream",
     "text": [
      "/tmp/ipykernel_2231603/1041286260.py:125: SettingWithCopyWarning: \n",
      "A value is trying to be set on a copy of a slice from a DataFrame.\n",
      "Try using .loc[row_indexer,col_indexer] = value instead\n",
      "\n",
      "See the caveats in the documentation: https://pandas.pydata.org/pandas-docs/stable/user_guide/indexing.html#returning-a-view-versus-a-copy\n",
      "  df['label'] = y_pred_test\n"
     ]
    },
    {
     "name": "stdout",
     "output_type": "stream",
     "text": [
      "XGBOOST\n",
      "Di train dapat performa \n",
      "Nilai Precision = 0.9870967741935484\n",
      "Nilai Recall = 0.9272727272727272\n",
      "Nilai F1 = 0.95625\n",
      "Di test dapat performa\n",
      "Nilai Precision = 0.75\n",
      "Nilai Recall = 0.23076923076923078\n",
      "Nilai F1 = 0.3529411764705882\n",
      "########\n",
      "RANDOM FOREST\n"
     ]
    },
    {
     "name": "stderr",
     "output_type": "stream",
     "text": [
      "/tmp/ipykernel_2231603/1041286260.py:61: SettingWithCopyWarning: \n",
      "A value is trying to be set on a copy of a slice from a DataFrame.\n",
      "Try using .loc[row_indexer,col_indexer] = value instead\n",
      "\n",
      "See the caveats in the documentation: https://pandas.pydata.org/pandas-docs/stable/user_guide/indexing.html#returning-a-view-versus-a-copy\n",
      "  df['label'] = y_pred_test\n"
     ]
    },
    {
     "name": "stdout",
     "output_type": "stream",
     "text": [
      "Di train dapat performa \n",
      "Nilai Precision = 1.0\n",
      "Nilai Recall = 1.0\n",
      "Nilai F1 = 1.0\n",
      "Di test dapat performa\n",
      "Nilai Precision = 0.5\n",
      "Nilai Recall = 0.10256410256410256\n",
      "Nilai F1 = 0.1702127659574468\n",
      "########\n",
      "LOGISTIK REGRESSION\n"
     ]
    },
    {
     "name": "stderr",
     "output_type": "stream",
     "text": [
      "/tmp/ipykernel_2231603/1041286260.py:81: SettingWithCopyWarning: \n",
      "A value is trying to be set on a copy of a slice from a DataFrame.\n",
      "Try using .loc[row_indexer,col_indexer] = value instead\n",
      "\n",
      "See the caveats in the documentation: https://pandas.pydata.org/pandas-docs/stable/user_guide/indexing.html#returning-a-view-versus-a-copy\n",
      "  df['label'] = y_pred_test\n"
     ]
    },
    {
     "name": "stdout",
     "output_type": "stream",
     "text": [
      "Di train dapat performa \n",
      "Nilai Precision = 0.8688524590163934\n",
      "Nilai Recall = 0.6424242424242425\n",
      "Nilai F1 = 0.7386759581881532\n",
      "Di test dapat performa\n",
      "Nilai Precision = 0.6470588235294118\n",
      "Nilai Recall = 0.5641025641025641\n",
      "Nilai F1 = 0.6027397260273972\n",
      "########\n",
      "MLP\n"
     ]
    },
    {
     "name": "stderr",
     "output_type": "stream",
     "text": [
      "/tmp/ipykernel_2231603/1041286260.py:100: SettingWithCopyWarning: \n",
      "A value is trying to be set on a copy of a slice from a DataFrame.\n",
      "Try using .loc[row_indexer,col_indexer] = value instead\n",
      "\n",
      "See the caveats in the documentation: https://pandas.pydata.org/pandas-docs/stable/user_guide/indexing.html#returning-a-view-versus-a-copy\n",
      "  df['label'] = y_pred_test\n"
     ]
    },
    {
     "name": "stdout",
     "output_type": "stream",
     "text": [
      "Di train dapat performa \n",
      "Nilai Precision = 0.6129032258064516\n",
      "Nilai Recall = 0.6909090909090909\n",
      "Nilai F1 = 0.6495726495726496\n",
      "Di test dapat performa\n",
      "Nilai Precision = 0.6\n",
      "Nilai Recall = 0.7692307692307693\n",
      "Nilai F1 = 0.6741573033707865\n",
      "########\n",
      "Rata-rata nilai test dengan Classifier xgb, lr, dan mlp adalah\n",
      "Precision = 0.6656862745098039\n",
      "Recall = 0.5213675213675214\n",
      "F1 = 0.5432794019562573\n",
      "/workspace/dataset/kekeringan\n",
      "\n",
      "\n",
      "/workspace/dataset\n",
      "Eksperimen pada bencana kekeringan dengan representasi trunc_combination\n"
     ]
    },
    {
     "name": "stderr",
     "output_type": "stream",
     "text": [
      "/tmp/ipykernel_2231603/1041286260.py:125: SettingWithCopyWarning: \n",
      "A value is trying to be set on a copy of a slice from a DataFrame.\n",
      "Try using .loc[row_indexer,col_indexer] = value instead\n",
      "\n",
      "See the caveats in the documentation: https://pandas.pydata.org/pandas-docs/stable/user_guide/indexing.html#returning-a-view-versus-a-copy\n",
      "  df['label'] = y_pred_test\n"
     ]
    },
    {
     "name": "stdout",
     "output_type": "stream",
     "text": [
      "XGBOOST\n",
      "Di train dapat performa \n",
      "Nilai Precision = 0.993421052631579\n",
      "Nilai Recall = 0.9151515151515152\n",
      "Nilai F1 = 0.9526813880126183\n",
      "Di test dapat performa\n",
      "Nilai Precision = 0.0\n",
      "Nilai Recall = 0.0\n",
      "Nilai F1 = 0.0\n",
      "########\n",
      "RANDOM FOREST\n"
     ]
    },
    {
     "name": "stderr",
     "output_type": "stream",
     "text": [
      "/opt/conda/lib/python3.8/site-packages/sklearn/metrics/_classification.py:1344: UndefinedMetricWarning: Precision and F-score are ill-defined and being set to 0.0 due to no predicted samples. Use `zero_division` parameter to control this behavior.\n",
      "  _warn_prf(average, modifier, msg_start, len(result))\n",
      "/tmp/ipykernel_2231603/1041286260.py:61: SettingWithCopyWarning: \n",
      "A value is trying to be set on a copy of a slice from a DataFrame.\n",
      "Try using .loc[row_indexer,col_indexer] = value instead\n",
      "\n",
      "See the caveats in the documentation: https://pandas.pydata.org/pandas-docs/stable/user_guide/indexing.html#returning-a-view-versus-a-copy\n",
      "  df['label'] = y_pred_test\n"
     ]
    },
    {
     "name": "stdout",
     "output_type": "stream",
     "text": [
      "Di train dapat performa \n",
      "Nilai Precision = 1.0\n",
      "Nilai Recall = 1.0\n",
      "Nilai F1 = 1.0\n",
      "Di test dapat performa\n",
      "Nilai Precision = 0.0\n",
      "Nilai Recall = 0.0\n",
      "Nilai F1 = 0.0\n",
      "########\n",
      "LOGISTIK REGRESSION\n"
     ]
    },
    {
     "name": "stderr",
     "output_type": "stream",
     "text": [
      "/opt/conda/lib/python3.8/site-packages/sklearn/metrics/_classification.py:1344: UndefinedMetricWarning: Precision and F-score are ill-defined and being set to 0.0 due to no predicted samples. Use `zero_division` parameter to control this behavior.\n",
      "  _warn_prf(average, modifier, msg_start, len(result))\n",
      "/tmp/ipykernel_2231603/1041286260.py:81: SettingWithCopyWarning: \n",
      "A value is trying to be set on a copy of a slice from a DataFrame.\n",
      "Try using .loc[row_indexer,col_indexer] = value instead\n",
      "\n",
      "See the caveats in the documentation: https://pandas.pydata.org/pandas-docs/stable/user_guide/indexing.html#returning-a-view-versus-a-copy\n",
      "  df['label'] = y_pred_test\n"
     ]
    },
    {
     "name": "stdout",
     "output_type": "stream",
     "text": [
      "Di train dapat performa \n",
      "Nilai Precision = 0.8955223880597015\n",
      "Nilai Recall = 0.7272727272727273\n",
      "Nilai F1 = 0.8026755852842808\n",
      "Di test dapat performa\n",
      "Nilai Precision = 0.6458333333333334\n",
      "Nilai Recall = 0.7948717948717948\n",
      "Nilai F1 = 0.7126436781609194\n",
      "########\n",
      "MLP\n"
     ]
    },
    {
     "name": "stderr",
     "output_type": "stream",
     "text": [
      "/tmp/ipykernel_2231603/1041286260.py:100: SettingWithCopyWarning: \n",
      "A value is trying to be set on a copy of a slice from a DataFrame.\n",
      "Try using .loc[row_indexer,col_indexer] = value instead\n",
      "\n",
      "See the caveats in the documentation: https://pandas.pydata.org/pandas-docs/stable/user_guide/indexing.html#returning-a-view-versus-a-copy\n",
      "  df['label'] = y_pred_test\n"
     ]
    },
    {
     "name": "stdout",
     "output_type": "stream",
     "text": [
      "Di train dapat performa \n",
      "Nilai Precision = 0.8305084745762712\n",
      "Nilai Recall = 0.296969696969697\n",
      "Nilai F1 = 0.43750000000000006\n",
      "Di test dapat performa\n",
      "Nilai Precision = 0.7391304347826086\n",
      "Nilai Recall = 0.4358974358974359\n",
      "Nilai F1 = 0.5483870967741935\n",
      "########\n",
      "Rata-rata nilai test dengan Classifier xgb, lr, dan mlp adalah\n",
      "Precision = 0.4616545893719806\n",
      "Recall = 0.4102564102564103\n",
      "F1 = 0.4203435916450376\n",
      "/workspace/dataset/kekeringan\n",
      "\n",
      "\n",
      "/workspace/dataset\n",
      "Eksperimen pada bencana kekeringan dengan representasi textrank\n"
     ]
    },
    {
     "name": "stderr",
     "output_type": "stream",
     "text": [
      "/tmp/ipykernel_2231603/1041286260.py:125: SettingWithCopyWarning: \n",
      "A value is trying to be set on a copy of a slice from a DataFrame.\n",
      "Try using .loc[row_indexer,col_indexer] = value instead\n",
      "\n",
      "See the caveats in the documentation: https://pandas.pydata.org/pandas-docs/stable/user_guide/indexing.html#returning-a-view-versus-a-copy\n",
      "  df['label'] = y_pred_test\n"
     ]
    },
    {
     "name": "stdout",
     "output_type": "stream",
     "text": [
      "XGBOOST\n",
      "Di train dapat performa \n",
      "Nilai Precision = 1.0\n",
      "Nilai Recall = 0.896969696969697\n",
      "Nilai F1 = 0.9456869009584664\n",
      "Di test dapat performa\n",
      "Nilai Precision = 0.5714285714285714\n",
      "Nilai Recall = 0.3076923076923077\n",
      "Nilai F1 = 0.4\n",
      "########\n",
      "RANDOM FOREST\n"
     ]
    },
    {
     "name": "stderr",
     "output_type": "stream",
     "text": [
      "/tmp/ipykernel_2231603/1041286260.py:61: SettingWithCopyWarning: \n",
      "A value is trying to be set on a copy of a slice from a DataFrame.\n",
      "Try using .loc[row_indexer,col_indexer] = value instead\n",
      "\n",
      "See the caveats in the documentation: https://pandas.pydata.org/pandas-docs/stable/user_guide/indexing.html#returning-a-view-versus-a-copy\n",
      "  df['label'] = y_pred_test\n"
     ]
    },
    {
     "name": "stdout",
     "output_type": "stream",
     "text": [
      "Di train dapat performa \n",
      "Nilai Precision = 1.0\n",
      "Nilai Recall = 1.0\n",
      "Nilai F1 = 1.0\n",
      "Di test dapat performa\n",
      "Nilai Precision = 0.6666666666666666\n",
      "Nilai Recall = 0.15384615384615385\n",
      "Nilai F1 = 0.25\n",
      "########\n",
      "LOGISTIK REGRESSION\n"
     ]
    },
    {
     "name": "stderr",
     "output_type": "stream",
     "text": [
      "/tmp/ipykernel_2231603/1041286260.py:81: SettingWithCopyWarning: \n",
      "A value is trying to be set on a copy of a slice from a DataFrame.\n",
      "Try using .loc[row_indexer,col_indexer] = value instead\n",
      "\n",
      "See the caveats in the documentation: https://pandas.pydata.org/pandas-docs/stable/user_guide/indexing.html#returning-a-view-versus-a-copy\n",
      "  df['label'] = y_pred_test\n"
     ]
    },
    {
     "name": "stdout",
     "output_type": "stream",
     "text": [
      "Di train dapat performa \n",
      "Nilai Precision = 0.8571428571428571\n",
      "Nilai Recall = 0.7272727272727273\n",
      "Nilai F1 = 0.7868852459016394\n",
      "Di test dapat performa\n",
      "Nilai Precision = 0.9\n",
      "Nilai Recall = 0.46153846153846156\n",
      "Nilai F1 = 0.6101694915254238\n",
      "########\n",
      "MLP\n"
     ]
    },
    {
     "name": "stderr",
     "output_type": "stream",
     "text": [
      "/tmp/ipykernel_2231603/1041286260.py:100: SettingWithCopyWarning: \n",
      "A value is trying to be set on a copy of a slice from a DataFrame.\n",
      "Try using .loc[row_indexer,col_indexer] = value instead\n",
      "\n",
      "See the caveats in the documentation: https://pandas.pydata.org/pandas-docs/stable/user_guide/indexing.html#returning-a-view-versus-a-copy\n",
      "  df['label'] = y_pred_test\n"
     ]
    },
    {
     "name": "stdout",
     "output_type": "stream",
     "text": [
      "Di train dapat performa \n",
      "Nilai Precision = 0.8064516129032258\n",
      "Nilai Recall = 0.30303030303030304\n",
      "Nilai F1 = 0.4405286343612335\n",
      "Di test dapat performa\n",
      "Nilai Precision = 0.8571428571428571\n",
      "Nilai Recall = 0.15384615384615385\n",
      "Nilai F1 = 0.2608695652173913\n",
      "########\n",
      "Rata-rata nilai test dengan Classifier xgb, lr, dan mlp adalah\n",
      "Precision = 0.7761904761904762\n",
      "Recall = 0.3076923076923077\n",
      "F1 = 0.4236796855809384\n",
      "/workspace/dataset/kekeringan\n",
      "\n",
      "\n",
      "/workspace/dataset\n",
      "Eksperimen pada bencana kekeringan dengan representasi sum_indobart\n"
     ]
    },
    {
     "name": "stderr",
     "output_type": "stream",
     "text": [
      "/tmp/ipykernel_2231603/1041286260.py:125: SettingWithCopyWarning: \n",
      "A value is trying to be set on a copy of a slice from a DataFrame.\n",
      "Try using .loc[row_indexer,col_indexer] = value instead\n",
      "\n",
      "See the caveats in the documentation: https://pandas.pydata.org/pandas-docs/stable/user_guide/indexing.html#returning-a-view-versus-a-copy\n",
      "  df['label'] = y_pred_test\n"
     ]
    },
    {
     "name": "stdout",
     "output_type": "stream",
     "text": [
      "XGBOOST\n",
      "Di train dapat performa \n",
      "Nilai Precision = 0.9931506849315068\n",
      "Nilai Recall = 0.8787878787878788\n",
      "Nilai F1 = 0.9324758842443731\n",
      "Di test dapat performa\n",
      "Nilai Precision = 1.0\n",
      "Nilai Recall = 0.20512820512820512\n",
      "Nilai F1 = 0.3404255319148936\n",
      "########\n",
      "RANDOM FOREST\n"
     ]
    },
    {
     "name": "stderr",
     "output_type": "stream",
     "text": [
      "/tmp/ipykernel_2231603/1041286260.py:61: SettingWithCopyWarning: \n",
      "A value is trying to be set on a copy of a slice from a DataFrame.\n",
      "Try using .loc[row_indexer,col_indexer] = value instead\n",
      "\n",
      "See the caveats in the documentation: https://pandas.pydata.org/pandas-docs/stable/user_guide/indexing.html#returning-a-view-versus-a-copy\n",
      "  df['label'] = y_pred_test\n"
     ]
    },
    {
     "name": "stdout",
     "output_type": "stream",
     "text": [
      "Di train dapat performa \n",
      "Nilai Precision = 1.0\n",
      "Nilai Recall = 1.0\n",
      "Nilai F1 = 1.0\n",
      "Di test dapat performa\n",
      "Nilai Precision = 1.0\n",
      "Nilai Recall = 0.05128205128205128\n",
      "Nilai F1 = 0.09756097560975609\n",
      "########\n",
      "LOGISTIK REGRESSION\n"
     ]
    },
    {
     "name": "stderr",
     "output_type": "stream",
     "text": [
      "/tmp/ipykernel_2231603/1041286260.py:81: SettingWithCopyWarning: \n",
      "A value is trying to be set on a copy of a slice from a DataFrame.\n",
      "Try using .loc[row_indexer,col_indexer] = value instead\n",
      "\n",
      "See the caveats in the documentation: https://pandas.pydata.org/pandas-docs/stable/user_guide/indexing.html#returning-a-view-versus-a-copy\n",
      "  df['label'] = y_pred_test\n"
     ]
    },
    {
     "name": "stdout",
     "output_type": "stream",
     "text": [
      "Di train dapat performa \n",
      "Nilai Precision = 0.8633093525179856\n",
      "Nilai Recall = 0.7272727272727273\n",
      "Nilai F1 = 0.7894736842105262\n",
      "Di test dapat performa\n",
      "Nilai Precision = 0.78125\n",
      "Nilai Recall = 0.6410256410256411\n",
      "Nilai F1 = 0.7042253521126761\n",
      "########\n",
      "MLP\n"
     ]
    },
    {
     "name": "stderr",
     "output_type": "stream",
     "text": [
      "/tmp/ipykernel_2231603/1041286260.py:100: SettingWithCopyWarning: \n",
      "A value is trying to be set on a copy of a slice from a DataFrame.\n",
      "Try using .loc[row_indexer,col_indexer] = value instead\n",
      "\n",
      "See the caveats in the documentation: https://pandas.pydata.org/pandas-docs/stable/user_guide/indexing.html#returning-a-view-versus-a-copy\n",
      "  df['label'] = y_pred_test\n"
     ]
    },
    {
     "name": "stdout",
     "output_type": "stream",
     "text": [
      "Di train dapat performa \n",
      "Nilai Precision = 0.7978723404255319\n",
      "Nilai Recall = 0.45454545454545453\n",
      "Nilai F1 = 0.5791505791505791\n",
      "Di test dapat performa\n",
      "Nilai Precision = 0.9411764705882353\n",
      "Nilai Recall = 0.41025641025641024\n",
      "Nilai F1 = 0.5714285714285713\n",
      "########\n",
      "Rata-rata nilai test dengan Classifier xgb, lr, dan mlp adalah\n",
      "Precision = 0.9074754901960785\n",
      "Recall = 0.4188034188034188\n",
      "F1 = 0.5386931518187136\n",
      "/workspace/dataset/kekeringan\n",
      "\n",
      "\n",
      "/workspace/dataset\n",
      "Eksperimen pada bencana kekeringan dengan representasi sum_liputan6\n"
     ]
    },
    {
     "name": "stderr",
     "output_type": "stream",
     "text": [
      "/tmp/ipykernel_2231603/1041286260.py:125: SettingWithCopyWarning: \n",
      "A value is trying to be set on a copy of a slice from a DataFrame.\n",
      "Try using .loc[row_indexer,col_indexer] = value instead\n",
      "\n",
      "See the caveats in the documentation: https://pandas.pydata.org/pandas-docs/stable/user_guide/indexing.html#returning-a-view-versus-a-copy\n",
      "  df['label'] = y_pred_test\n"
     ]
    },
    {
     "name": "stdout",
     "output_type": "stream",
     "text": [
      "XGBOOST\n",
      "Di train dapat performa \n",
      "Nilai Precision = 0.9929078014184397\n",
      "Nilai Recall = 0.8484848484848485\n",
      "Nilai F1 = 0.9150326797385621\n",
      "Di test dapat performa\n",
      "Nilai Precision = 0.8\n",
      "Nilai Recall = 0.10256410256410256\n",
      "Nilai F1 = 0.18181818181818182\n",
      "########\n",
      "RANDOM FOREST\n"
     ]
    },
    {
     "name": "stderr",
     "output_type": "stream",
     "text": [
      "/tmp/ipykernel_2231603/1041286260.py:61: SettingWithCopyWarning: \n",
      "A value is trying to be set on a copy of a slice from a DataFrame.\n",
      "Try using .loc[row_indexer,col_indexer] = value instead\n",
      "\n",
      "See the caveats in the documentation: https://pandas.pydata.org/pandas-docs/stable/user_guide/indexing.html#returning-a-view-versus-a-copy\n",
      "  df['label'] = y_pred_test\n"
     ]
    },
    {
     "name": "stdout",
     "output_type": "stream",
     "text": [
      "Di train dapat performa \n",
      "Nilai Precision = 1.0\n",
      "Nilai Recall = 1.0\n",
      "Nilai F1 = 1.0\n",
      "Di test dapat performa\n",
      "Nilai Precision = 1.0\n",
      "Nilai Recall = 0.07692307692307693\n",
      "Nilai F1 = 0.14285714285714288\n",
      "########\n",
      "LOGISTIK REGRESSION\n"
     ]
    },
    {
     "name": "stderr",
     "output_type": "stream",
     "text": [
      "/tmp/ipykernel_2231603/1041286260.py:81: SettingWithCopyWarning: \n",
      "A value is trying to be set on a copy of a slice from a DataFrame.\n",
      "Try using .loc[row_indexer,col_indexer] = value instead\n",
      "\n",
      "See the caveats in the documentation: https://pandas.pydata.org/pandas-docs/stable/user_guide/indexing.html#returning-a-view-versus-a-copy\n",
      "  df['label'] = y_pred_test\n"
     ]
    },
    {
     "name": "stdout",
     "output_type": "stream",
     "text": [
      "Di train dapat performa \n",
      "Nilai Precision = 0.8951048951048951\n",
      "Nilai Recall = 0.7757575757575758\n",
      "Nilai F1 = 0.8311688311688312\n",
      "Di test dapat performa\n",
      "Nilai Precision = 0.6829268292682927\n",
      "Nilai Recall = 0.717948717948718\n",
      "Nilai F1 = 0.7000000000000001\n",
      "########\n",
      "MLP\n"
     ]
    },
    {
     "name": "stderr",
     "output_type": "stream",
     "text": [
      "/tmp/ipykernel_2231603/1041286260.py:100: SettingWithCopyWarning: \n",
      "A value is trying to be set on a copy of a slice from a DataFrame.\n",
      "Try using .loc[row_indexer,col_indexer] = value instead\n",
      "\n",
      "See the caveats in the documentation: https://pandas.pydata.org/pandas-docs/stable/user_guide/indexing.html#returning-a-view-versus-a-copy\n",
      "  df['label'] = y_pred_test\n"
     ]
    },
    {
     "name": "stdout",
     "output_type": "stream",
     "text": [
      "Di train dapat performa \n",
      "Nilai Precision = 0.8103448275862069\n",
      "Nilai Recall = 0.28484848484848485\n",
      "Nilai F1 = 0.42152466367713004\n",
      "Di test dapat performa\n",
      "Nilai Precision = 0.7857142857142857\n",
      "Nilai Recall = 0.28205128205128205\n",
      "Nilai F1 = 0.4150943396226415\n",
      "########\n",
      "Rata-rata nilai test dengan Classifier xgb, lr, dan mlp adalah\n",
      "Precision = 0.7562137049941927\n",
      "Recall = 0.36752136752136755\n",
      "F1 = 0.43230417381360775\n",
      "/workspace/dataset/kekeringan\n",
      "\n",
      "\n",
      "/workspace/dataset\n",
      "Eksperimen pada bencana kekeringan dengan representasi sum_pegasus\n"
     ]
    },
    {
     "name": "stderr",
     "output_type": "stream",
     "text": [
      "/tmp/ipykernel_2231603/1041286260.py:125: SettingWithCopyWarning: \n",
      "A value is trying to be set on a copy of a slice from a DataFrame.\n",
      "Try using .loc[row_indexer,col_indexer] = value instead\n",
      "\n",
      "See the caveats in the documentation: https://pandas.pydata.org/pandas-docs/stable/user_guide/indexing.html#returning-a-view-versus-a-copy\n",
      "  df['label'] = y_pred_test\n"
     ]
    },
    {
     "name": "stdout",
     "output_type": "stream",
     "text": [
      "XGBOOST\n",
      "Di train dapat performa \n",
      "Nilai Precision = 1.0\n",
      "Nilai Recall = 0.7212121212121212\n",
      "Nilai F1 = 0.8380281690140845\n",
      "Di test dapat performa\n",
      "Nilai Precision = 0.7333333333333333\n",
      "Nilai Recall = 0.28205128205128205\n",
      "Nilai F1 = 0.4074074074074074\n",
      "########\n",
      "RANDOM FOREST\n"
     ]
    },
    {
     "name": "stderr",
     "output_type": "stream",
     "text": [
      "/tmp/ipykernel_2231603/1041286260.py:61: SettingWithCopyWarning: \n",
      "A value is trying to be set on a copy of a slice from a DataFrame.\n",
      "Try using .loc[row_indexer,col_indexer] = value instead\n",
      "\n",
      "See the caveats in the documentation: https://pandas.pydata.org/pandas-docs/stable/user_guide/indexing.html#returning-a-view-versus-a-copy\n",
      "  df['label'] = y_pred_test\n"
     ]
    },
    {
     "name": "stdout",
     "output_type": "stream",
     "text": [
      "Di train dapat performa \n",
      "Nilai Precision = 1.0\n",
      "Nilai Recall = 1.0\n",
      "Nilai F1 = 1.0\n",
      "Di test dapat performa\n",
      "Nilai Precision = 0.8\n",
      "Nilai Recall = 0.10256410256410256\n",
      "Nilai F1 = 0.18181818181818182\n",
      "########\n",
      "LOGISTIK REGRESSION\n"
     ]
    },
    {
     "name": "stderr",
     "output_type": "stream",
     "text": [
      "/tmp/ipykernel_2231603/1041286260.py:81: SettingWithCopyWarning: \n",
      "A value is trying to be set on a copy of a slice from a DataFrame.\n",
      "Try using .loc[row_indexer,col_indexer] = value instead\n",
      "\n",
      "See the caveats in the documentation: https://pandas.pydata.org/pandas-docs/stable/user_guide/indexing.html#returning-a-view-versus-a-copy\n",
      "  df['label'] = y_pred_test\n"
     ]
    },
    {
     "name": "stdout",
     "output_type": "stream",
     "text": [
      "Di train dapat performa \n",
      "Nilai Precision = 0.782258064516129\n",
      "Nilai Recall = 0.5878787878787879\n",
      "Nilai F1 = 0.671280276816609\n",
      "Di test dapat performa\n",
      "Nilai Precision = 0.47619047619047616\n",
      "Nilai Recall = 0.5128205128205128\n",
      "Nilai F1 = 0.49382716049382713\n",
      "########\n",
      "MLP\n"
     ]
    },
    {
     "name": "stderr",
     "output_type": "stream",
     "text": [
      "/tmp/ipykernel_2231603/1041286260.py:100: SettingWithCopyWarning: \n",
      "A value is trying to be set on a copy of a slice from a DataFrame.\n",
      "Try using .loc[row_indexer,col_indexer] = value instead\n",
      "\n",
      "See the caveats in the documentation: https://pandas.pydata.org/pandas-docs/stable/user_guide/indexing.html#returning-a-view-versus-a-copy\n",
      "  df['label'] = y_pred_test\n"
     ]
    },
    {
     "name": "stdout",
     "output_type": "stream",
     "text": [
      "Di train dapat performa \n",
      "Nilai Precision = 0.7407407407407407\n",
      "Nilai Recall = 0.24242424242424243\n",
      "Nilai F1 = 0.365296803652968\n",
      "Di test dapat performa\n",
      "Nilai Precision = 0.75\n",
      "Nilai Recall = 0.23076923076923078\n",
      "Nilai F1 = 0.3529411764705882\n",
      "########\n",
      "Rata-rata nilai test dengan Classifier xgb, lr, dan mlp adalah\n",
      "Precision = 0.6531746031746032\n",
      "Recall = 0.34188034188034183\n",
      "F1 = 0.4180585814572743\n",
      "/workspace/dataset/kekeringan\n",
      "\n",
      "\n",
      "************************************************************\n",
      "{'kekeringan': {'title_ori': {'xgb': {'prec': 0.75, 'rec': 0.07692307692307693, 'f1': 0.13953488372093026, 'acc': 0.815}, 'rf': {'prec': 0.0, 'rec': 0.0, 'f1': 0.0, 'acc': 0.805}, 'lr': {'prec': 0.4772727272727273, 'rec': 0.5384615384615384, 'f1': 0.5060240963855421, 'acc': 0.795}, 'mlp': {'prec': 0.44594594594594594, 'rec': 0.8461538461538461, 'f1': 0.584070796460177, 'acc': 0.765}}, 'text_ori': {'xgb': {'prec': 1.0, 'rec': 0.07692307692307693, 'f1': 0.14285714285714288, 'acc': 0.82}, 'rf': {'prec': 0.8571428571428571, 'rec': 0.15384615384615385, 'f1': 0.2608695652173913, 'acc': 0.83}, 'lr': {'prec': 0.675, 'rec': 0.6923076923076923, 'f1': 0.6835443037974683, 'acc': 0.875}, 'mlp': {'prec': 0.6, 'rec': 0.7692307692307693, 'f1': 0.6741573033707865, 'acc': 0.855}}, 'tc_ori': {'xgb': {'prec': 1.0, 'rec': 0.05128205128205128, 'f1': 0.09756097560975609, 'acc': 0.815}, 'rf': {'prec': 1.0, 'rec': 0.07692307692307693, 'f1': 0.14285714285714288, 'acc': 0.82}, 'lr': {'prec': 0.6744186046511628, 'rec': 0.7435897435897436, 'f1': 0.7073170731707318, 'acc': 0.88}, 'mlp': {'prec': 0.5344827586206896, 'rec': 0.7948717948717948, 'f1': 0.6391752577319587, 'acc': 0.825}}, 'filter_word_tc': {'xgb': {'prec': 0.5, 'rec': 0.2564102564102564, 'f1': 0.3389830508474576, 'acc': 0.805}, 'rf': {'prec': 1.0, 'rec': 0.05128205128205128, 'f1': 0.09756097560975609, 'acc': 0.815}, 'lr': {'prec': 0.6, 'rec': 0.46153846153846156, 'f1': 0.5217391304347826, 'acc': 0.835}, 'mlp': {'prec': 0.5434782608695652, 'rec': 0.6410256410256411, 'f1': 0.5882352941176471, 'acc': 0.825}}, 'filter_word_tc_window': {'xgb': {'prec': 0.0, 'rec': 0.0, 'f1': 0.0, 'acc': 0.805}, 'rf': {'prec': 1.0, 'rec': 0.02564102564102564, 'f1': 0.05, 'acc': 0.81}, 'lr': {'prec': 0.627906976744186, 'rec': 0.6923076923076923, 'f1': 0.6585365853658537, 'acc': 0.86}, 'mlp': {'prec': 0.5813953488372093, 'rec': 0.6410256410256411, 'f1': 0.6097560975609757, 'acc': 0.84}}, 'trunc_first_short': {'xgb': {'prec': 0.7333333333333333, 'rec': 0.5641025641025641, 'f1': 0.6376811594202899, 'acc': 0.875}, 'rf': {'prec': 0.9375, 'rec': 0.38461538461538464, 'f1': 0.5454545454545454, 'acc': 0.875}, 'lr': {'prec': 0.717948717948718, 'rec': 0.717948717948718, 'f1': 0.717948717948718, 'acc': 0.89}, 'mlp': {'prec': 1.0, 'rec': 0.1794871794871795, 'f1': 0.30434782608695654, 'acc': 0.84}}, 'trunc_last_short': {'xgb': {'prec': 0.25, 'rec': 0.02564102564102564, 'f1': 0.04651162790697674, 'acc': 0.795}, 'rf': {'prec': 0.0, 'rec': 0.0, 'f1': 0.0, 'acc': 0.805}, 'lr': {'prec': 0.55, 'rec': 0.5641025641025641, 'f1': 0.5569620253164557, 'acc': 0.825}, 'mlp': {'prec': 0.48333333333333334, 'rec': 0.7435897435897436, 'f1': 0.5858585858585859, 'acc': 0.795}}, 'trunc_first_long': {'xgb': {'prec': 1.0, 'rec': 0.02564102564102564, 'f1': 0.05, 'acc': 0.81}, 'rf': {'prec': 1.0, 'rec': 0.05128205128205128, 'f1': 0.09756097560975609, 'acc': 0.815}, 'lr': {'prec': 0.6666666666666666, 'rec': 0.7692307692307693, 'f1': 0.7142857142857142, 'acc': 0.88}, 'mlp': {'prec': 1.0, 'rec': 0.2564102564102564, 'f1': 0.4081632653061224, 'acc': 0.855}}, 'trunc_last_long': {'xgb': {'prec': 0.75, 'rec': 0.23076923076923078, 'f1': 0.3529411764705882, 'acc': 0.835}, 'rf': {'prec': 0.5, 'rec': 0.10256410256410256, 'f1': 0.1702127659574468, 'acc': 0.805}, 'lr': {'prec': 0.6470588235294118, 'rec': 0.5641025641025641, 'f1': 0.6027397260273972, 'acc': 0.855}, 'mlp': {'prec': 0.6, 'rec': 0.7692307692307693, 'f1': 0.6741573033707865, 'acc': 0.855}}, 'trunc_combination': {'xgb': {'prec': 0.0, 'rec': 0.0, 'f1': 0.0, 'acc': 0.805}, 'rf': {'prec': 0.0, 'rec': 0.0, 'f1': 0.0, 'acc': 0.805}, 'lr': {'prec': 0.6458333333333334, 'rec': 0.7948717948717948, 'f1': 0.7126436781609194, 'acc': 0.875}, 'mlp': {'prec': 0.7391304347826086, 'rec': 0.4358974358974359, 'f1': 0.5483870967741935, 'acc': 0.86}}, 'textrank': {'xgb': {'prec': 0.5714285714285714, 'rec': 0.3076923076923077, 'f1': 0.4, 'acc': 0.82}, 'rf': {'prec': 0.6666666666666666, 'rec': 0.15384615384615385, 'f1': 0.25, 'acc': 0.82}, 'lr': {'prec': 0.9, 'rec': 0.46153846153846156, 'f1': 0.6101694915254238, 'acc': 0.885}, 'mlp': {'prec': 0.8571428571428571, 'rec': 0.15384615384615385, 'f1': 0.2608695652173913, 'acc': 0.83}}, 'sum_indobart': {'xgb': {'prec': 1.0, 'rec': 0.20512820512820512, 'f1': 0.3404255319148936, 'acc': 0.845}, 'rf': {'prec': 1.0, 'rec': 0.05128205128205128, 'f1': 0.09756097560975609, 'acc': 0.815}, 'lr': {'prec': 0.78125, 'rec': 0.6410256410256411, 'f1': 0.7042253521126761, 'acc': 0.895}, 'mlp': {'prec': 0.9411764705882353, 'rec': 0.41025641025641024, 'f1': 0.5714285714285713, 'acc': 0.88}}, 'sum_liputan6': {'xgb': {'prec': 0.8, 'rec': 0.10256410256410256, 'f1': 0.18181818181818182, 'acc': 0.82}, 'rf': {'prec': 1.0, 'rec': 0.07692307692307693, 'f1': 0.14285714285714288, 'acc': 0.82}, 'lr': {'prec': 0.6829268292682927, 'rec': 0.717948717948718, 'f1': 0.7000000000000001, 'acc': 0.88}, 'mlp': {'prec': 0.7857142857142857, 'rec': 0.28205128205128205, 'f1': 0.4150943396226415, 'acc': 0.845}}, 'sum_pegasus': {'xgb': {'prec': 0.7333333333333333, 'rec': 0.28205128205128205, 'f1': 0.4074074074074074, 'acc': 0.84}, 'rf': {'prec': 0.8, 'rec': 0.10256410256410256, 'f1': 0.18181818181818182, 'acc': 0.82}, 'lr': {'prec': 0.47619047619047616, 'rec': 0.5128205128205128, 'f1': 0.49382716049382713, 'acc': 0.795}, 'mlp': {'prec': 0.75, 'rec': 0.23076923076923078, 'f1': 0.3529411764705882, 'acc': 0.835}}}}\n",
      "/workspace/dataset\n"
     ]
    },
    {
     "name": "stderr",
     "output_type": "stream",
     "text": [
      "/tmp/ipykernel_2231603/1041286260.py:125: SettingWithCopyWarning: \n",
      "A value is trying to be set on a copy of a slice from a DataFrame.\n",
      "Try using .loc[row_indexer,col_indexer] = value instead\n",
      "\n",
      "See the caveats in the documentation: https://pandas.pydata.org/pandas-docs/stable/user_guide/indexing.html#returning-a-view-versus-a-copy\n",
      "  df['label'] = y_pred_test\n"
     ]
    }
   ],
   "source": [
    "%cd kekeringan\n",
    "get_f1_eks_praproses_bencana('kekeringan')\n",
    "%cd ..\n"
   ]
  },
  {
   "cell_type": "code",
   "execution_count": null,
   "id": "bd5f046c",
   "metadata": {
    "scrolled": true
   },
   "outputs": [
    {
     "name": "stdout",
     "output_type": "stream",
     "text": [
      "/workspace/dataset/longsor\n",
      "evaluasi pada bencana = longsor\n",
      "/workspace/dataset\n",
      "Eksperimen pada bencana longsor dengan representasi title_ori\n",
      "XGBOOST\n",
      "Di train dapat performa \n",
      "Nilai Precision = 0.979381443298969\n",
      "Nilai Recall = 0.8755760368663594\n",
      "Nilai F1 = 0.924574209245742\n",
      "Di test dapat performa\n",
      "Nilai Precision = 0.8695652173913043\n",
      "Nilai Recall = 0.37735849056603776\n",
      "Nilai F1 = 0.5263157894736843\n",
      "########\n",
      "RANDOM FOREST\n"
     ]
    },
    {
     "name": "stderr",
     "output_type": "stream",
     "text": [
      "/tmp/ipykernel_2231603/1041286260.py:61: SettingWithCopyWarning: \n",
      "A value is trying to be set on a copy of a slice from a DataFrame.\n",
      "Try using .loc[row_indexer,col_indexer] = value instead\n",
      "\n",
      "See the caveats in the documentation: https://pandas.pydata.org/pandas-docs/stable/user_guide/indexing.html#returning-a-view-versus-a-copy\n",
      "  df['label'] = y_pred_test\n"
     ]
    },
    {
     "name": "stdout",
     "output_type": "stream",
     "text": [
      "Di train dapat performa \n",
      "Nilai Precision = 1.0\n",
      "Nilai Recall = 1.0\n",
      "Nilai F1 = 1.0\n",
      "Di test dapat performa\n",
      "Nilai Precision = 0.875\n",
      "Nilai Recall = 0.2641509433962264\n",
      "Nilai F1 = 0.4057971014492754\n",
      "########\n",
      "LOGISTIK REGRESSION\n"
     ]
    },
    {
     "name": "stderr",
     "output_type": "stream",
     "text": [
      "/tmp/ipykernel_2231603/1041286260.py:81: SettingWithCopyWarning: \n",
      "A value is trying to be set on a copy of a slice from a DataFrame.\n",
      "Try using .loc[row_indexer,col_indexer] = value instead\n",
      "\n",
      "See the caveats in the documentation: https://pandas.pydata.org/pandas-docs/stable/user_guide/indexing.html#returning-a-view-versus-a-copy\n",
      "  df['label'] = y_pred_test\n"
     ]
    },
    {
     "name": "stdout",
     "output_type": "stream",
     "text": [
      "Di train dapat performa \n",
      "Nilai Precision = 0.8631578947368421\n",
      "Nilai Recall = 0.7557603686635944\n",
      "Nilai F1 = 0.8058968058968059\n",
      "Di test dapat performa\n",
      "Nilai Precision = 0.7111111111111111\n",
      "Nilai Recall = 0.6037735849056604\n",
      "Nilai F1 = 0.6530612244897959\n",
      "########\n",
      "MLP\n"
     ]
    },
    {
     "name": "stderr",
     "output_type": "stream",
     "text": [
      "/tmp/ipykernel_2231603/1041286260.py:100: SettingWithCopyWarning: \n",
      "A value is trying to be set on a copy of a slice from a DataFrame.\n",
      "Try using .loc[row_indexer,col_indexer] = value instead\n",
      "\n",
      "See the caveats in the documentation: https://pandas.pydata.org/pandas-docs/stable/user_guide/indexing.html#returning-a-view-versus-a-copy\n",
      "  df['label'] = y_pred_test\n"
     ]
    },
    {
     "name": "stdout",
     "output_type": "stream",
     "text": [
      "Di train dapat performa \n",
      "Nilai Precision = 0.7733333333333333\n",
      "Nilai Recall = 0.2672811059907834\n",
      "Nilai F1 = 0.3972602739726027\n",
      "Di test dapat performa\n",
      "Nilai Precision = 0.7619047619047619\n",
      "Nilai Recall = 0.3018867924528302\n",
      "Nilai F1 = 0.43243243243243246\n",
      "########\n",
      "Rata-rata nilai test dengan Classifier xgb, lr, dan mlp adalah\n",
      "Precision = 0.7808603634690591\n",
      "Recall = 0.42767295597484273\n",
      "F1 = 0.5372698154653043\n",
      "/workspace/dataset/longsor\n",
      "\n",
      "\n",
      "/workspace/dataset\n",
      "Eksperimen pada bencana longsor dengan representasi text_ori\n"
     ]
    },
    {
     "name": "stderr",
     "output_type": "stream",
     "text": [
      "/tmp/ipykernel_2231603/1041286260.py:125: SettingWithCopyWarning: \n",
      "A value is trying to be set on a copy of a slice from a DataFrame.\n",
      "Try using .loc[row_indexer,col_indexer] = value instead\n",
      "\n",
      "See the caveats in the documentation: https://pandas.pydata.org/pandas-docs/stable/user_guide/indexing.html#returning-a-view-versus-a-copy\n",
      "  df['label'] = y_pred_test\n"
     ]
    },
    {
     "name": "stdout",
     "output_type": "stream",
     "text": [
      "XGBOOST\n",
      "Di train dapat performa \n",
      "Nilai Precision = 0.9852216748768473\n",
      "Nilai Recall = 0.9216589861751152\n",
      "Nilai F1 = 0.9523809523809523\n",
      "Di test dapat performa\n",
      "Nilai Precision = 0.8095238095238095\n",
      "Nilai Recall = 0.32075471698113206\n",
      "Nilai F1 = 0.45945945945945943\n",
      "########\n",
      "RANDOM FOREST\n"
     ]
    },
    {
     "name": "stderr",
     "output_type": "stream",
     "text": [
      "/tmp/ipykernel_2231603/1041286260.py:61: SettingWithCopyWarning: \n",
      "A value is trying to be set on a copy of a slice from a DataFrame.\n",
      "Try using .loc[row_indexer,col_indexer] = value instead\n",
      "\n",
      "See the caveats in the documentation: https://pandas.pydata.org/pandas-docs/stable/user_guide/indexing.html#returning-a-view-versus-a-copy\n",
      "  df['label'] = y_pred_test\n"
     ]
    },
    {
     "name": "stdout",
     "output_type": "stream",
     "text": [
      "Di train dapat performa \n",
      "Nilai Precision = 1.0\n",
      "Nilai Recall = 1.0\n",
      "Nilai F1 = 1.0\n",
      "Di test dapat performa\n",
      "Nilai Precision = 0.8095238095238095\n",
      "Nilai Recall = 0.32075471698113206\n",
      "Nilai F1 = 0.45945945945945943\n",
      "########\n",
      "LOGISTIK REGRESSION\n"
     ]
    },
    {
     "name": "stderr",
     "output_type": "stream",
     "text": [
      "/tmp/ipykernel_2231603/1041286260.py:81: SettingWithCopyWarning: \n",
      "A value is trying to be set on a copy of a slice from a DataFrame.\n",
      "Try using .loc[row_indexer,col_indexer] = value instead\n",
      "\n",
      "See the caveats in the documentation: https://pandas.pydata.org/pandas-docs/stable/user_guide/indexing.html#returning-a-view-versus-a-copy\n",
      "  df['label'] = y_pred_test\n"
     ]
    },
    {
     "name": "stdout",
     "output_type": "stream",
     "text": [
      "Di train dapat performa \n",
      "Nilai Precision = 0.8210526315789474\n",
      "Nilai Recall = 0.7188940092165899\n",
      "Nilai F1 = 0.7665847665847666\n",
      "Di test dapat performa\n",
      "Nilai Precision = 0.75\n",
      "Nilai Recall = 0.5660377358490566\n",
      "Nilai F1 = 0.6451612903225807\n",
      "########\n",
      "MLP\n"
     ]
    },
    {
     "name": "stderr",
     "output_type": "stream",
     "text": [
      "/tmp/ipykernel_2231603/1041286260.py:100: SettingWithCopyWarning: \n",
      "A value is trying to be set on a copy of a slice from a DataFrame.\n",
      "Try using .loc[row_indexer,col_indexer] = value instead\n",
      "\n",
      "See the caveats in the documentation: https://pandas.pydata.org/pandas-docs/stable/user_guide/indexing.html#returning-a-view-versus-a-copy\n",
      "  df['label'] = y_pred_test\n"
     ]
    },
    {
     "name": "stdout",
     "output_type": "stream",
     "text": [
      "Di train dapat performa \n",
      "Nilai Precision = 0.7297297297297297\n",
      "Nilai Recall = 0.4976958525345622\n",
      "Nilai F1 = 0.5917808219178082\n",
      "Di test dapat performa\n",
      "Nilai Precision = 0.7333333333333333\n",
      "Nilai Recall = 0.41509433962264153\n",
      "Nilai F1 = 0.5301204819277109\n",
      "########\n",
      "Rata-rata nilai test dengan Classifier xgb, lr, dan mlp adalah\n",
      "Precision = 0.7642857142857142\n",
      "Recall = 0.43396226415094336\n",
      "F1 = 0.5449137439032503\n",
      "/workspace/dataset/longsor\n",
      "\n",
      "\n",
      "/workspace/dataset\n",
      "Eksperimen pada bencana longsor dengan representasi tc_ori\n"
     ]
    },
    {
     "name": "stderr",
     "output_type": "stream",
     "text": [
      "/tmp/ipykernel_2231603/1041286260.py:125: SettingWithCopyWarning: \n",
      "A value is trying to be set on a copy of a slice from a DataFrame.\n",
      "Try using .loc[row_indexer,col_indexer] = value instead\n",
      "\n",
      "See the caveats in the documentation: https://pandas.pydata.org/pandas-docs/stable/user_guide/indexing.html#returning-a-view-versus-a-copy\n",
      "  df['label'] = y_pred_test\n"
     ]
    },
    {
     "name": "stdout",
     "output_type": "stream",
     "text": [
      "XGBOOST\n",
      "Di train dapat performa \n",
      "Nilai Precision = 0.9900497512437811\n",
      "Nilai Recall = 0.9170506912442397\n",
      "Nilai F1 = 0.9521531100478471\n",
      "Di test dapat performa\n",
      "Nilai Precision = 0.8333333333333334\n",
      "Nilai Recall = 0.2830188679245283\n",
      "Nilai F1 = 0.4225352112676056\n",
      "########\n",
      "RANDOM FOREST\n"
     ]
    },
    {
     "name": "stderr",
     "output_type": "stream",
     "text": [
      "/tmp/ipykernel_2231603/1041286260.py:61: SettingWithCopyWarning: \n",
      "A value is trying to be set on a copy of a slice from a DataFrame.\n",
      "Try using .loc[row_indexer,col_indexer] = value instead\n",
      "\n",
      "See the caveats in the documentation: https://pandas.pydata.org/pandas-docs/stable/user_guide/indexing.html#returning-a-view-versus-a-copy\n",
      "  df['label'] = y_pred_test\n"
     ]
    },
    {
     "name": "stdout",
     "output_type": "stream",
     "text": [
      "Di train dapat performa \n",
      "Nilai Precision = 1.0\n",
      "Nilai Recall = 1.0\n",
      "Nilai F1 = 1.0\n",
      "Di test dapat performa\n",
      "Nilai Precision = 0.8823529411764706\n",
      "Nilai Recall = 0.2830188679245283\n",
      "Nilai F1 = 0.4285714285714286\n",
      "########\n",
      "LOGISTIK REGRESSION\n",
      "Di train dapat performa \n",
      "Nilai Precision = 0.8341968911917098\n",
      "Nilai Recall = 0.7419354838709677\n",
      "Nilai F1 = 0.7853658536585366\n",
      "Di test dapat performa\n",
      "Nilai Precision = 0.7906976744186046\n",
      "Nilai Recall = 0.6415094339622641\n",
      "Nilai F1 = 0.7083333333333334\n",
      "########\n",
      "MLP\n"
     ]
    },
    {
     "name": "stderr",
     "output_type": "stream",
     "text": [
      "/tmp/ipykernel_2231603/1041286260.py:81: SettingWithCopyWarning: \n",
      "A value is trying to be set on a copy of a slice from a DataFrame.\n",
      "Try using .loc[row_indexer,col_indexer] = value instead\n",
      "\n",
      "See the caveats in the documentation: https://pandas.pydata.org/pandas-docs/stable/user_guide/indexing.html#returning-a-view-versus-a-copy\n",
      "  df['label'] = y_pred_test\n",
      "/tmp/ipykernel_2231603/1041286260.py:100: SettingWithCopyWarning: \n",
      "A value is trying to be set on a copy of a slice from a DataFrame.\n",
      "Try using .loc[row_indexer,col_indexer] = value instead\n",
      "\n",
      "See the caveats in the documentation: https://pandas.pydata.org/pandas-docs/stable/user_guide/indexing.html#returning-a-view-versus-a-copy\n",
      "  df['label'] = y_pred_test\n"
     ]
    },
    {
     "name": "stdout",
     "output_type": "stream",
     "text": [
      "Di train dapat performa \n",
      "Nilai Precision = 0.75\n",
      "Nilai Recall = 0.5529953917050692\n",
      "Nilai F1 = 0.6366047745358091\n",
      "Di test dapat performa\n",
      "Nilai Precision = 0.71875\n",
      "Nilai Recall = 0.4339622641509434\n",
      "Nilai F1 = 0.5411764705882353\n",
      "########\n",
      "Rata-rata nilai test dengan Classifier xgb, lr, dan mlp adalah\n",
      "Precision = 0.7809270025839794\n",
      "Recall = 0.45283018867924535\n",
      "F1 = 0.5573483383963914\n",
      "/workspace/dataset/longsor\n",
      "\n",
      "\n",
      "/workspace/dataset\n",
      "Eksperimen pada bencana longsor dengan representasi filter_word_tc\n"
     ]
    },
    {
     "name": "stderr",
     "output_type": "stream",
     "text": [
      "/tmp/ipykernel_2231603/1041286260.py:125: SettingWithCopyWarning: \n",
      "A value is trying to be set on a copy of a slice from a DataFrame.\n",
      "Try using .loc[row_indexer,col_indexer] = value instead\n",
      "\n",
      "See the caveats in the documentation: https://pandas.pydata.org/pandas-docs/stable/user_guide/indexing.html#returning-a-view-versus-a-copy\n",
      "  df['label'] = y_pred_test\n"
     ]
    },
    {
     "name": "stdout",
     "output_type": "stream",
     "text": [
      "XGBOOST\n",
      "Di train dapat performa \n",
      "Nilai Precision = 0.9757281553398058\n",
      "Nilai Recall = 0.9262672811059908\n",
      "Nilai F1 = 0.9503546099290779\n",
      "Di test dapat performa\n",
      "Nilai Precision = 0.875\n",
      "Nilai Recall = 0.1320754716981132\n",
      "Nilai F1 = 0.22950819672131148\n",
      "########\n",
      "RANDOM FOREST\n"
     ]
    },
    {
     "name": "stderr",
     "output_type": "stream",
     "text": [
      "/tmp/ipykernel_2231603/1041286260.py:61: SettingWithCopyWarning: \n",
      "A value is trying to be set on a copy of a slice from a DataFrame.\n",
      "Try using .loc[row_indexer,col_indexer] = value instead\n",
      "\n",
      "See the caveats in the documentation: https://pandas.pydata.org/pandas-docs/stable/user_guide/indexing.html#returning-a-view-versus-a-copy\n",
      "  df['label'] = y_pred_test\n"
     ]
    },
    {
     "name": "stdout",
     "output_type": "stream",
     "text": [
      "Di train dapat performa \n",
      "Nilai Precision = 1.0\n",
      "Nilai Recall = 1.0\n",
      "Nilai F1 = 1.0\n",
      "Di test dapat performa\n",
      "Nilai Precision = 1.0\n",
      "Nilai Recall = 0.05660377358490566\n",
      "Nilai F1 = 0.10714285714285715\n",
      "########\n",
      "LOGISTIK REGRESSION\n"
     ]
    },
    {
     "name": "stderr",
     "output_type": "stream",
     "text": [
      "/tmp/ipykernel_2231603/1041286260.py:81: SettingWithCopyWarning: \n",
      "A value is trying to be set on a copy of a slice from a DataFrame.\n",
      "Try using .loc[row_indexer,col_indexer] = value instead\n",
      "\n",
      "See the caveats in the documentation: https://pandas.pydata.org/pandas-docs/stable/user_guide/indexing.html#returning-a-view-versus-a-copy\n",
      "  df['label'] = y_pred_test\n"
     ]
    },
    {
     "name": "stdout",
     "output_type": "stream",
     "text": [
      "Di train dapat performa \n",
      "Nilai Precision = 0.8486486486486486\n",
      "Nilai Recall = 0.7235023041474654\n",
      "Nilai F1 = 0.781094527363184\n",
      "Di test dapat performa\n",
      "Nilai Precision = 0.717391304347826\n",
      "Nilai Recall = 0.6226415094339622\n",
      "Nilai F1 = 0.6666666666666666\n",
      "########\n",
      "MLP\n"
     ]
    },
    {
     "name": "stderr",
     "output_type": "stream",
     "text": [
      "/tmp/ipykernel_2231603/1041286260.py:100: SettingWithCopyWarning: \n",
      "A value is trying to be set on a copy of a slice from a DataFrame.\n",
      "Try using .loc[row_indexer,col_indexer] = value instead\n",
      "\n",
      "See the caveats in the documentation: https://pandas.pydata.org/pandas-docs/stable/user_guide/indexing.html#returning-a-view-versus-a-copy\n",
      "  df['label'] = y_pred_test\n"
     ]
    },
    {
     "name": "stdout",
     "output_type": "stream",
     "text": [
      "Di train dapat performa \n",
      "Nilai Precision = 0.6190476190476191\n",
      "Nilai Recall = 0.4792626728110599\n",
      "Nilai F1 = 0.5402597402597403\n",
      "Di test dapat performa\n",
      "Nilai Precision = 0.6585365853658537\n",
      "Nilai Recall = 0.5094339622641509\n",
      "Nilai F1 = 0.574468085106383\n",
      "########\n",
      "Rata-rata nilai test dengan Classifier xgb, lr, dan mlp adalah\n",
      "Precision = 0.7503092965712267\n",
      "Recall = 0.4213836477987421\n",
      "F1 = 0.490214316164787\n",
      "/workspace/dataset/longsor\n",
      "\n",
      "\n",
      "/workspace/dataset\n",
      "Eksperimen pada bencana longsor dengan representasi filter_word_tc_window\n"
     ]
    },
    {
     "name": "stderr",
     "output_type": "stream",
     "text": [
      "/tmp/ipykernel_2231603/1041286260.py:125: SettingWithCopyWarning: \n",
      "A value is trying to be set on a copy of a slice from a DataFrame.\n",
      "Try using .loc[row_indexer,col_indexer] = value instead\n",
      "\n",
      "See the caveats in the documentation: https://pandas.pydata.org/pandas-docs/stable/user_guide/indexing.html#returning-a-view-versus-a-copy\n",
      "  df['label'] = y_pred_test\n"
     ]
    },
    {
     "name": "stdout",
     "output_type": "stream",
     "text": [
      "XGBOOST\n",
      "Di train dapat performa \n",
      "Nilai Precision = 0.9797979797979798\n",
      "Nilai Recall = 0.8940092165898618\n",
      "Nilai F1 = 0.9349397590361446\n",
      "Di test dapat performa\n",
      "Nilai Precision = 0.6756756756756757\n",
      "Nilai Recall = 0.4716981132075472\n",
      "Nilai F1 = 0.5555555555555556\n",
      "########\n",
      "RANDOM FOREST\n"
     ]
    },
    {
     "name": "stderr",
     "output_type": "stream",
     "text": [
      "/tmp/ipykernel_2231603/1041286260.py:61: SettingWithCopyWarning: \n",
      "A value is trying to be set on a copy of a slice from a DataFrame.\n",
      "Try using .loc[row_indexer,col_indexer] = value instead\n",
      "\n",
      "See the caveats in the documentation: https://pandas.pydata.org/pandas-docs/stable/user_guide/indexing.html#returning-a-view-versus-a-copy\n",
      "  df['label'] = y_pred_test\n"
     ]
    },
    {
     "name": "stdout",
     "output_type": "stream",
     "text": [
      "Di train dapat performa \n",
      "Nilai Precision = 1.0\n",
      "Nilai Recall = 1.0\n",
      "Nilai F1 = 1.0\n",
      "Di test dapat performa\n",
      "Nilai Precision = 0.75\n",
      "Nilai Recall = 0.33962264150943394\n",
      "Nilai F1 = 0.4675324675324676\n",
      "########\n",
      "LOGISTIK REGRESSION\n"
     ]
    },
    {
     "name": "stderr",
     "output_type": "stream",
     "text": [
      "/tmp/ipykernel_2231603/1041286260.py:81: SettingWithCopyWarning: \n",
      "A value is trying to be set on a copy of a slice from a DataFrame.\n",
      "Try using .loc[row_indexer,col_indexer] = value instead\n",
      "\n",
      "See the caveats in the documentation: https://pandas.pydata.org/pandas-docs/stable/user_guide/indexing.html#returning-a-view-versus-a-copy\n",
      "  df['label'] = y_pred_test\n"
     ]
    },
    {
     "name": "stdout",
     "output_type": "stream",
     "text": [
      "Di train dapat performa \n",
      "Nilai Precision = 0.824468085106383\n",
      "Nilai Recall = 0.7142857142857143\n",
      "Nilai F1 = 0.7654320987654322\n",
      "Di test dapat performa\n",
      "Nilai Precision = 0.7073170731707317\n",
      "Nilai Recall = 0.5471698113207547\n",
      "Nilai F1 = 0.6170212765957447\n",
      "########\n",
      "MLP\n"
     ]
    },
    {
     "name": "stderr",
     "output_type": "stream",
     "text": [
      "/tmp/ipykernel_2231603/1041286260.py:100: SettingWithCopyWarning: \n",
      "A value is trying to be set on a copy of a slice from a DataFrame.\n",
      "Try using .loc[row_indexer,col_indexer] = value instead\n",
      "\n",
      "See the caveats in the documentation: https://pandas.pydata.org/pandas-docs/stable/user_guide/indexing.html#returning-a-view-versus-a-copy\n",
      "  df['label'] = y_pred_test\n"
     ]
    },
    {
     "name": "stdout",
     "output_type": "stream",
     "text": [
      "Di train dapat performa \n",
      "Nilai Precision = 0.6265060240963856\n",
      "Nilai Recall = 0.7188940092165899\n",
      "Nilai F1 = 0.6695278969957081\n",
      "Di test dapat performa\n",
      "Nilai Precision = 0.6551724137931034\n",
      "Nilai Recall = 0.7169811320754716\n",
      "Nilai F1 = 0.6846846846846846\n",
      "########\n",
      "Rata-rata nilai test dengan Classifier xgb, lr, dan mlp adalah\n",
      "Precision = 0.6793883875465037\n",
      "Recall = 0.5786163522012578\n",
      "F1 = 0.6190871722786616\n",
      "/workspace/dataset/longsor\n",
      "\n",
      "\n",
      "/workspace/dataset\n",
      "Eksperimen pada bencana longsor dengan representasi trunc_first_short\n"
     ]
    },
    {
     "name": "stderr",
     "output_type": "stream",
     "text": [
      "/tmp/ipykernel_2231603/1041286260.py:125: SettingWithCopyWarning: \n",
      "A value is trying to be set on a copy of a slice from a DataFrame.\n",
      "Try using .loc[row_indexer,col_indexer] = value instead\n",
      "\n",
      "See the caveats in the documentation: https://pandas.pydata.org/pandas-docs/stable/user_guide/indexing.html#returning-a-view-versus-a-copy\n",
      "  df['label'] = y_pred_test\n"
     ]
    },
    {
     "name": "stdout",
     "output_type": "stream",
     "text": [
      "XGBOOST\n",
      "Di train dapat performa \n",
      "Nilai Precision = 1.0\n",
      "Nilai Recall = 0.8894009216589862\n",
      "Nilai F1 = 0.9414634146341464\n",
      "Di test dapat performa\n",
      "Nilai Precision = 0.7073170731707317\n",
      "Nilai Recall = 0.5471698113207547\n",
      "Nilai F1 = 0.6170212765957447\n",
      "########\n",
      "RANDOM FOREST\n"
     ]
    },
    {
     "name": "stderr",
     "output_type": "stream",
     "text": [
      "/tmp/ipykernel_2231603/1041286260.py:61: SettingWithCopyWarning: \n",
      "A value is trying to be set on a copy of a slice from a DataFrame.\n",
      "Try using .loc[row_indexer,col_indexer] = value instead\n",
      "\n",
      "See the caveats in the documentation: https://pandas.pydata.org/pandas-docs/stable/user_guide/indexing.html#returning-a-view-versus-a-copy\n",
      "  df['label'] = y_pred_test\n"
     ]
    },
    {
     "name": "stdout",
     "output_type": "stream",
     "text": [
      "Di train dapat performa \n",
      "Nilai Precision = 1.0\n",
      "Nilai Recall = 1.0\n",
      "Nilai F1 = 1.0\n",
      "Di test dapat performa\n",
      "Nilai Precision = 0.7368421052631579\n",
      "Nilai Recall = 0.2641509433962264\n",
      "Nilai F1 = 0.3888888888888889\n",
      "########\n",
      "LOGISTIK REGRESSION\n"
     ]
    },
    {
     "name": "stderr",
     "output_type": "stream",
     "text": [
      "/tmp/ipykernel_2231603/1041286260.py:81: SettingWithCopyWarning: \n",
      "A value is trying to be set on a copy of a slice from a DataFrame.\n",
      "Try using .loc[row_indexer,col_indexer] = value instead\n",
      "\n",
      "See the caveats in the documentation: https://pandas.pydata.org/pandas-docs/stable/user_guide/indexing.html#returning-a-view-versus-a-copy\n",
      "  df['label'] = y_pred_test\n"
     ]
    },
    {
     "name": "stdout",
     "output_type": "stream",
     "text": [
      "Di train dapat performa \n",
      "Nilai Precision = 0.851063829787234\n",
      "Nilai Recall = 0.7373271889400922\n",
      "Nilai F1 = 0.7901234567901235\n",
      "Di test dapat performa\n",
      "Nilai Precision = 0.7948717948717948\n",
      "Nilai Recall = 0.5849056603773585\n",
      "Nilai F1 = 0.6739130434782609\n",
      "########\n",
      "MLP\n"
     ]
    },
    {
     "name": "stderr",
     "output_type": "stream",
     "text": [
      "/tmp/ipykernel_2231603/1041286260.py:100: SettingWithCopyWarning: \n",
      "A value is trying to be set on a copy of a slice from a DataFrame.\n",
      "Try using .loc[row_indexer,col_indexer] = value instead\n",
      "\n",
      "See the caveats in the documentation: https://pandas.pydata.org/pandas-docs/stable/user_guide/indexing.html#returning-a-view-versus-a-copy\n",
      "  df['label'] = y_pred_test\n"
     ]
    },
    {
     "name": "stdout",
     "output_type": "stream",
     "text": [
      "Di train dapat performa \n",
      "Nilai Precision = 0.7777777777777778\n",
      "Nilai Recall = 0.5161290322580645\n",
      "Nilai F1 = 0.6204986149584488\n",
      "Di test dapat performa\n",
      "Nilai Precision = 0.7586206896551724\n",
      "Nilai Recall = 0.41509433962264153\n",
      "Nilai F1 = 0.5365853658536586\n",
      "########\n",
      "Rata-rata nilai test dengan Classifier xgb, lr, dan mlp adalah\n",
      "Precision = 0.7536031858992329\n",
      "Recall = 0.5157232704402516\n",
      "F1 = 0.6091732286425547\n",
      "/workspace/dataset/longsor\n",
      "\n",
      "\n",
      "/workspace/dataset\n",
      "Eksperimen pada bencana longsor dengan representasi trunc_last_short\n"
     ]
    },
    {
     "name": "stderr",
     "output_type": "stream",
     "text": [
      "/tmp/ipykernel_2231603/1041286260.py:125: SettingWithCopyWarning: \n",
      "A value is trying to be set on a copy of a slice from a DataFrame.\n",
      "Try using .loc[row_indexer,col_indexer] = value instead\n",
      "\n",
      "See the caveats in the documentation: https://pandas.pydata.org/pandas-docs/stable/user_guide/indexing.html#returning-a-view-versus-a-copy\n",
      "  df['label'] = y_pred_test\n"
     ]
    },
    {
     "name": "stdout",
     "output_type": "stream",
     "text": [
      "XGBOOST\n",
      "Di train dapat performa \n",
      "Nilai Precision = 0.9942857142857143\n",
      "Nilai Recall = 0.8018433179723502\n",
      "Nilai F1 = 0.8877551020408164\n",
      "Di test dapat performa\n",
      "Nilai Precision = 0.6666666666666666\n",
      "Nilai Recall = 0.1509433962264151\n",
      "Nilai F1 = 0.24615384615384617\n",
      "########\n",
      "RANDOM FOREST\n"
     ]
    },
    {
     "name": "stderr",
     "output_type": "stream",
     "text": [
      "/tmp/ipykernel_2231603/1041286260.py:61: SettingWithCopyWarning: \n",
      "A value is trying to be set on a copy of a slice from a DataFrame.\n",
      "Try using .loc[row_indexer,col_indexer] = value instead\n",
      "\n",
      "See the caveats in the documentation: https://pandas.pydata.org/pandas-docs/stable/user_guide/indexing.html#returning-a-view-versus-a-copy\n",
      "  df['label'] = y_pred_test\n"
     ]
    },
    {
     "name": "stdout",
     "output_type": "stream",
     "text": [
      "Di train dapat performa \n",
      "Nilai Precision = 1.0\n",
      "Nilai Recall = 1.0\n",
      "Nilai F1 = 1.0\n",
      "Di test dapat performa\n",
      "Nilai Precision = 0.8\n",
      "Nilai Recall = 0.1509433962264151\n",
      "Nilai F1 = 0.25396825396825395\n",
      "########\n",
      "LOGISTIK REGRESSION\n",
      "Di train dapat performa \n",
      "Nilai Precision = 0.802547770700637\n",
      "Nilai Recall = 0.5806451612903226\n",
      "Nilai F1 = 0.6737967914438503\n",
      "Di test dapat performa\n",
      "Nilai Precision = 0.6666666666666666\n",
      "Nilai Recall = 0.49056603773584906\n",
      "Nilai F1 = 0.5652173913043478\n",
      "########\n",
      "MLP\n"
     ]
    },
    {
     "name": "stderr",
     "output_type": "stream",
     "text": [
      "/tmp/ipykernel_2231603/1041286260.py:81: SettingWithCopyWarning: \n",
      "A value is trying to be set on a copy of a slice from a DataFrame.\n",
      "Try using .loc[row_indexer,col_indexer] = value instead\n",
      "\n",
      "See the caveats in the documentation: https://pandas.pydata.org/pandas-docs/stable/user_guide/indexing.html#returning-a-view-versus-a-copy\n",
      "  df['label'] = y_pred_test\n",
      "/tmp/ipykernel_2231603/1041286260.py:100: SettingWithCopyWarning: \n",
      "A value is trying to be set on a copy of a slice from a DataFrame.\n",
      "Try using .loc[row_indexer,col_indexer] = value instead\n",
      "\n",
      "See the caveats in the documentation: https://pandas.pydata.org/pandas-docs/stable/user_guide/indexing.html#returning-a-view-versus-a-copy\n",
      "  df['label'] = y_pred_test\n"
     ]
    },
    {
     "name": "stdout",
     "output_type": "stream",
     "text": [
      "Di train dapat performa \n",
      "Nilai Precision = 0.7659574468085106\n",
      "Nilai Recall = 0.16589861751152074\n",
      "Nilai F1 = 0.27272727272727276\n",
      "Di test dapat performa\n",
      "Nilai Precision = 0.7857142857142857\n",
      "Nilai Recall = 0.20754716981132076\n",
      "Nilai F1 = 0.3283582089552239\n",
      "########\n"
     ]
    },
    {
     "name": "stderr",
     "output_type": "stream",
     "text": [
      "/tmp/ipykernel_2231603/1041286260.py:125: SettingWithCopyWarning: \n",
      "A value is trying to be set on a copy of a slice from a DataFrame.\n",
      "Try using .loc[row_indexer,col_indexer] = value instead\n",
      "\n",
      "See the caveats in the documentation: https://pandas.pydata.org/pandas-docs/stable/user_guide/indexing.html#returning-a-view-versus-a-copy\n",
      "  df['label'] = y_pred_test\n"
     ]
    },
    {
     "name": "stdout",
     "output_type": "stream",
     "text": [
      "Rata-rata nilai test dengan Classifier xgb, lr, dan mlp adalah\n",
      "Precision = 0.7063492063492064\n",
      "Recall = 0.2830188679245283\n",
      "F1 = 0.3799098154711393\n",
      "/workspace/dataset/longsor\n",
      "\n",
      "\n",
      "/workspace/dataset\n",
      "Eksperimen pada bencana longsor dengan representasi trunc_first_long\n",
      "XGBOOST\n",
      "Di train dapat performa \n",
      "Nilai Precision = 0.9900497512437811\n",
      "Nilai Recall = 0.9170506912442397\n",
      "Nilai F1 = 0.9521531100478471\n",
      "Di test dapat performa\n",
      "Nilai Precision = 0.42857142857142855\n",
      "Nilai Recall = 0.05660377358490566\n",
      "Nilai F1 = 0.1\n",
      "########\n",
      "RANDOM FOREST\n"
     ]
    },
    {
     "name": "stderr",
     "output_type": "stream",
     "text": [
      "/tmp/ipykernel_2231603/1041286260.py:61: SettingWithCopyWarning: \n",
      "A value is trying to be set on a copy of a slice from a DataFrame.\n",
      "Try using .loc[row_indexer,col_indexer] = value instead\n",
      "\n",
      "See the caveats in the documentation: https://pandas.pydata.org/pandas-docs/stable/user_guide/indexing.html#returning-a-view-versus-a-copy\n",
      "  df['label'] = y_pred_test\n"
     ]
    },
    {
     "name": "stdout",
     "output_type": "stream",
     "text": [
      "Di train dapat performa \n",
      "Nilai Precision = 1.0\n",
      "Nilai Recall = 1.0\n",
      "Nilai F1 = 1.0\n",
      "Di test dapat performa\n",
      "Nilai Precision = 0.8\n",
      "Nilai Recall = 0.1509433962264151\n",
      "Nilai F1 = 0.25396825396825395\n",
      "########\n",
      "LOGISTIK REGRESSION\n"
     ]
    },
    {
     "name": "stderr",
     "output_type": "stream",
     "text": [
      "/tmp/ipykernel_2231603/1041286260.py:81: SettingWithCopyWarning: \n",
      "A value is trying to be set on a copy of a slice from a DataFrame.\n",
      "Try using .loc[row_indexer,col_indexer] = value instead\n",
      "\n",
      "See the caveats in the documentation: https://pandas.pydata.org/pandas-docs/stable/user_guide/indexing.html#returning-a-view-versus-a-copy\n",
      "  df['label'] = y_pred_test\n"
     ]
    },
    {
     "name": "stdout",
     "output_type": "stream",
     "text": [
      "Di train dapat performa \n",
      "Nilai Precision = 0.8645833333333334\n",
      "Nilai Recall = 0.7649769585253456\n",
      "Nilai F1 = 0.8117359413202934\n",
      "Di test dapat performa\n",
      "Nilai Precision = 0.6792452830188679\n",
      "Nilai Recall = 0.6792452830188679\n",
      "Nilai F1 = 0.6792452830188679\n",
      "########\n",
      "MLP\n"
     ]
    },
    {
     "name": "stderr",
     "output_type": "stream",
     "text": [
      "/tmp/ipykernel_2231603/1041286260.py:100: SettingWithCopyWarning: \n",
      "A value is trying to be set on a copy of a slice from a DataFrame.\n",
      "Try using .loc[row_indexer,col_indexer] = value instead\n",
      "\n",
      "See the caveats in the documentation: https://pandas.pydata.org/pandas-docs/stable/user_guide/indexing.html#returning-a-view-versus-a-copy\n",
      "  df['label'] = y_pred_test\n"
     ]
    },
    {
     "name": "stdout",
     "output_type": "stream",
     "text": [
      "Di train dapat performa \n",
      "Nilai Precision = 0.6744186046511628\n",
      "Nilai Recall = 0.6682027649769585\n",
      "Nilai F1 = 0.6712962962962963\n",
      "Di test dapat performa\n",
      "Nilai Precision = 0.6226415094339622\n",
      "Nilai Recall = 0.6226415094339622\n",
      "Nilai F1 = 0.6226415094339622\n",
      "########\n",
      "Rata-rata nilai test dengan Classifier xgb, lr, dan mlp adalah\n",
      "Precision = 0.5768194070080862\n",
      "Recall = 0.45283018867924524\n",
      "F1 = 0.46729559748427674\n",
      "/workspace/dataset/longsor\n",
      "\n",
      "\n",
      "/workspace/dataset\n",
      "Eksperimen pada bencana longsor dengan representasi trunc_last_long\n"
     ]
    },
    {
     "name": "stderr",
     "output_type": "stream",
     "text": [
      "/tmp/ipykernel_2231603/1041286260.py:125: SettingWithCopyWarning: \n",
      "A value is trying to be set on a copy of a slice from a DataFrame.\n",
      "Try using .loc[row_indexer,col_indexer] = value instead\n",
      "\n",
      "See the caveats in the documentation: https://pandas.pydata.org/pandas-docs/stable/user_guide/indexing.html#returning-a-view-versus-a-copy\n",
      "  df['label'] = y_pred_test\n"
     ]
    },
    {
     "name": "stdout",
     "output_type": "stream",
     "text": [
      "XGBOOST\n",
      "Di train dapat performa \n",
      "Nilai Precision = 0.9945945945945946\n",
      "Nilai Recall = 0.847926267281106\n",
      "Nilai F1 = 0.9154228855721394\n",
      "Di test dapat performa\n",
      "Nilai Precision = 0.4782608695652174\n",
      "Nilai Recall = 0.41509433962264153\n",
      "Nilai F1 = 0.4444444444444445\n",
      "########\n",
      "RANDOM FOREST\n"
     ]
    },
    {
     "name": "stderr",
     "output_type": "stream",
     "text": [
      "/tmp/ipykernel_2231603/1041286260.py:61: SettingWithCopyWarning: \n",
      "A value is trying to be set on a copy of a slice from a DataFrame.\n",
      "Try using .loc[row_indexer,col_indexer] = value instead\n",
      "\n",
      "See the caveats in the documentation: https://pandas.pydata.org/pandas-docs/stable/user_guide/indexing.html#returning-a-view-versus-a-copy\n",
      "  df['label'] = y_pred_test\n"
     ]
    },
    {
     "name": "stdout",
     "output_type": "stream",
     "text": [
      "Di train dapat performa \n",
      "Nilai Precision = 1.0\n",
      "Nilai Recall = 1.0\n",
      "Nilai F1 = 1.0\n",
      "Di test dapat performa\n",
      "Nilai Precision = 0.3333333333333333\n",
      "Nilai Recall = 0.32075471698113206\n",
      "Nilai F1 = 0.3269230769230769\n",
      "########\n",
      "LOGISTIK REGRESSION\n"
     ]
    },
    {
     "name": "stderr",
     "output_type": "stream",
     "text": [
      "/tmp/ipykernel_2231603/1041286260.py:81: SettingWithCopyWarning: \n",
      "A value is trying to be set on a copy of a slice from a DataFrame.\n",
      "Try using .loc[row_indexer,col_indexer] = value instead\n",
      "\n",
      "See the caveats in the documentation: https://pandas.pydata.org/pandas-docs/stable/user_guide/indexing.html#returning-a-view-versus-a-copy\n",
      "  df['label'] = y_pred_test\n"
     ]
    },
    {
     "name": "stdout",
     "output_type": "stream",
     "text": [
      "Di train dapat performa \n",
      "Nilai Precision = 0.8628571428571429\n",
      "Nilai Recall = 0.695852534562212\n",
      "Nilai F1 = 0.7704081632653061\n",
      "Di test dapat performa\n",
      "Nilai Precision = 0.72\n",
      "Nilai Recall = 0.6792452830188679\n",
      "Nilai F1 = 0.6990291262135921\n",
      "########\n",
      "MLP\n"
     ]
    },
    {
     "name": "stderr",
     "output_type": "stream",
     "text": [
      "/tmp/ipykernel_2231603/1041286260.py:100: SettingWithCopyWarning: \n",
      "A value is trying to be set on a copy of a slice from a DataFrame.\n",
      "Try using .loc[row_indexer,col_indexer] = value instead\n",
      "\n",
      "See the caveats in the documentation: https://pandas.pydata.org/pandas-docs/stable/user_guide/indexing.html#returning-a-view-versus-a-copy\n",
      "  df['label'] = y_pred_test\n"
     ]
    }
   ],
   "source": [
    "%cd longsor\n",
    "get_f1_eks_praproses_bencana('longsor')\n",
    "%cd ..\n"
   ]
  },
  {
   "cell_type": "code",
   "execution_count": null,
   "id": "6dbdf140",
   "metadata": {
    "scrolled": false
   },
   "outputs": [],
   "source": [
    "%cd tsunami\n",
    "get_f1_eks_praproses_bencana('tsunami')\n",
    "%cd ..\n"
   ]
  },
  {
   "cell_type": "code",
   "execution_count": null,
   "id": "1d5c7e2e",
   "metadata": {},
   "outputs": [],
   "source": []
  },
  {
   "cell_type": "code",
   "execution_count": null,
   "id": "8730de77",
   "metadata": {},
   "outputs": [],
   "source": []
  }
 ],
 "metadata": {
  "kernelspec": {
   "display_name": "Python 3 (ipykernel)",
   "language": "python",
   "name": "python3"
  },
  "language_info": {
   "codemirror_mode": {
    "name": "ipython",
    "version": 3
   },
   "file_extension": ".py",
   "mimetype": "text/x-python",
   "name": "python",
   "nbconvert_exporter": "python",
   "pygments_lexer": "ipython3",
   "version": "3.8.12"
  }
 },
 "nbformat": 4,
 "nbformat_minor": 5
}
